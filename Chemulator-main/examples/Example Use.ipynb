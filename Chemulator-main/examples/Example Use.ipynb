{
 "cells": [
  {
   "cell_type": "code",
   "execution_count": 1,
   "metadata": {},
   "outputs": [
    {
     "name": "stdout",
     "output_type": "stream",
     "text": [
      "Defaulting to user installation because normal site-packages is not writeable\n",
      "Requirement already satisfied: tensorflow==2.12.0 in /home/rojasolvera/.local/lib/python3.11/site-packages (2.12.0)\n",
      "Requirement already satisfied: absl-py>=1.0.0 in /home/rojasolvera/.local/lib/python3.11/site-packages (from tensorflow==2.12.0) (1.4.0)\n",
      "Requirement already satisfied: astunparse>=1.6.0 in /home/rojasolvera/.local/lib/python3.11/site-packages (from tensorflow==2.12.0) (1.6.3)\n",
      "Requirement already satisfied: flatbuffers>=2.0 in /home/rojasolvera/.local/lib/python3.11/site-packages (from tensorflow==2.12.0) (23.5.26)\n",
      "Requirement already satisfied: gast<=0.4.0,>=0.2.1 in /home/rojasolvera/.local/lib/python3.11/site-packages (from tensorflow==2.12.0) (0.4.0)\n",
      "Requirement already satisfied: google-pasta>=0.1.1 in /home/rojasolvera/.local/lib/python3.11/site-packages (from tensorflow==2.12.0) (0.2.0)\n",
      "Requirement already satisfied: grpcio<2.0,>=1.24.3 in /home/rojasolvera/.local/lib/python3.11/site-packages (from tensorflow==2.12.0) (1.54.2)\n",
      "Requirement already satisfied: h5py>=2.9.0 in /usr/lib64/python3.11/site-packages (from tensorflow==2.12.0) (3.7.0)\n",
      "Requirement already satisfied: jax>=0.3.15 in /home/rojasolvera/.local/lib/python3.11/site-packages (from tensorflow==2.12.0) (0.4.12)\n",
      "Requirement already satisfied: keras<2.13,>=2.12.0 in /home/rojasolvera/.local/lib/python3.11/site-packages (from tensorflow==2.12.0) (2.12.0)\n",
      "Requirement already satisfied: libclang>=13.0.0 in /home/rojasolvera/.local/lib/python3.11/site-packages (from tensorflow==2.12.0) (16.0.0)\n",
      "Requirement already satisfied: numpy<1.24,>=1.22 in /home/rojasolvera/.local/lib/python3.11/site-packages (from tensorflow==2.12.0) (1.23.5)\n",
      "Requirement already satisfied: opt-einsum>=2.3.2 in /home/rojasolvera/.local/lib/python3.11/site-packages (from tensorflow==2.12.0) (3.3.0)\n",
      "Requirement already satisfied: packaging in /usr/lib/python3.11/site-packages (from tensorflow==2.12.0) (21.3)\n",
      "Requirement already satisfied: protobuf!=4.21.0,!=4.21.1,!=4.21.2,!=4.21.3,!=4.21.4,!=4.21.5,<5.0.0dev,>=3.20.3 in /home/rojasolvera/.local/lib/python3.11/site-packages (from tensorflow==2.12.0) (4.23.2)\n",
      "Requirement already satisfied: setuptools in /usr/lib/python3.11/site-packages (from tensorflow==2.12.0) (62.6.0)\n",
      "Requirement already satisfied: six>=1.12.0 in /usr/lib/python3.11/site-packages (from tensorflow==2.12.0) (1.16.0)\n",
      "Requirement already satisfied: tensorboard<2.13,>=2.12 in /home/rojasolvera/.local/lib/python3.11/site-packages (from tensorflow==2.12.0) (2.12.3)\n",
      "Requirement already satisfied: tensorflow-estimator<2.13,>=2.12.0 in /home/rojasolvera/.local/lib/python3.11/site-packages (from tensorflow==2.12.0) (2.12.0)\n",
      "Requirement already satisfied: termcolor>=1.1.0 in /home/rojasolvera/.local/lib/python3.11/site-packages (from tensorflow==2.12.0) (2.3.0)\n",
      "Requirement already satisfied: typing-extensions>=3.6.6 in /usr/lib/python3.11/site-packages (from tensorflow==2.12.0) (4.4.0)\n",
      "Requirement already satisfied: wrapt<1.15,>=1.11.0 in /usr/lib64/python3.11/site-packages (from tensorflow==2.12.0) (1.14.0)\n",
      "Requirement already satisfied: tensorflow-io-gcs-filesystem>=0.23.1 in /home/rojasolvera/.local/lib/python3.11/site-packages (from tensorflow==2.12.0) (0.32.0)\n",
      "Requirement already satisfied: wheel<1.0,>=0.23.0 in /usr/lib/python3.11/site-packages (from astunparse>=1.6.0->tensorflow==2.12.0) (0.37.1)\n",
      "Requirement already satisfied: ml-dtypes>=0.1.0 in /home/rojasolvera/.local/lib/python3.11/site-packages (from jax>=0.3.15->tensorflow==2.12.0) (0.2.0)\n",
      "Requirement already satisfied: scipy>=1.7 in /usr/lib64/python3.11/site-packages (from jax>=0.3.15->tensorflow==2.12.0) (1.8.1)\n",
      "Requirement already satisfied: google-auth<3,>=1.6.3 in /home/rojasolvera/.local/lib/python3.11/site-packages (from tensorboard<2.13,>=2.12->tensorflow==2.12.0) (2.19.1)\n",
      "Requirement already satisfied: google-auth-oauthlib<1.1,>=0.5 in /home/rojasolvera/.local/lib/python3.11/site-packages (from tensorboard<2.13,>=2.12->tensorflow==2.12.0) (1.0.0)\n",
      "Requirement already satisfied: markdown>=2.6.8 in /usr/lib/python3.11/site-packages (from tensorboard<2.13,>=2.12->tensorflow==2.12.0) (3.4.1)\n",
      "Requirement already satisfied: requests<3,>=2.21.0 in /usr/lib/python3.11/site-packages (from tensorboard<2.13,>=2.12->tensorflow==2.12.0) (2.28.1)\n",
      "Requirement already satisfied: tensorboard-data-server<0.8.0,>=0.7.0 in /home/rojasolvera/.local/lib/python3.11/site-packages (from tensorboard<2.13,>=2.12->tensorflow==2.12.0) (0.7.0)\n",
      "Requirement already satisfied: werkzeug>=1.0.1 in /usr/lib/python3.11/site-packages (from tensorboard<2.13,>=2.12->tensorflow==2.12.0) (2.2.2)\n",
      "Requirement already satisfied: pyparsing!=3.0.5,>=2.0.2 in /usr/lib/python3.11/site-packages (from packaging->tensorflow==2.12.0) (3.0.9)\n",
      "Requirement already satisfied: cachetools<6.0,>=2.0.0 in /home/rojasolvera/.local/lib/python3.11/site-packages (from google-auth<3,>=1.6.3->tensorboard<2.13,>=2.12->tensorflow==2.12.0) (5.3.1)\n",
      "Requirement already satisfied: pyasn1-modules>=0.2.1 in /usr/lib/python3.11/site-packages (from google-auth<3,>=1.6.3->tensorboard<2.13,>=2.12->tensorflow==2.12.0) (0.2.8)\n",
      "Requirement already satisfied: rsa<5,>=3.1.4 in /home/rojasolvera/.local/lib/python3.11/site-packages (from google-auth<3,>=1.6.3->tensorboard<2.13,>=2.12->tensorflow==2.12.0) (4.9)\n",
      "Requirement already satisfied: urllib3<2.0 in /usr/lib/python3.11/site-packages (from google-auth<3,>=1.6.3->tensorboard<2.13,>=2.12->tensorflow==2.12.0) (1.26.15)\n",
      "Requirement already satisfied: requests-oauthlib>=0.7.0 in /home/rojasolvera/.local/lib/python3.11/site-packages (from google-auth-oauthlib<1.1,>=0.5->tensorboard<2.13,>=2.12->tensorflow==2.12.0) (1.3.1)\n",
      "Requirement already satisfied: charset-normalizer<3,>=2 in /usr/lib/python3.11/site-packages (from requests<3,>=2.21.0->tensorboard<2.13,>=2.12->tensorflow==2.12.0) (2.1.0)\n",
      "Requirement already satisfied: idna<4,>=2.5 in /usr/lib/python3.11/site-packages (from requests<3,>=2.21.0->tensorboard<2.13,>=2.12->tensorflow==2.12.0) (3.3)\n",
      "Requirement already satisfied: MarkupSafe>=2.1.1 in /usr/lib64/python3.11/site-packages (from werkzeug>=1.0.1->tensorboard<2.13,>=2.12->tensorflow==2.12.0) (2.1.1)\n",
      "Requirement already satisfied: pyasn1<0.5.0,>=0.4.6 in /usr/lib/python3.11/site-packages (from pyasn1-modules>=0.2.1->google-auth<3,>=1.6.3->tensorboard<2.13,>=2.12->tensorflow==2.12.0) (0.4.8)\n",
      "Requirement already satisfied: oauthlib>=3.0.0 in /home/rojasolvera/.local/lib/python3.11/site-packages (from requests-oauthlib>=0.7.0->google-auth-oauthlib<1.1,>=0.5->tensorboard<2.13,>=2.12->tensorflow==2.12.0) (3.2.2)\n",
      "Note: you may need to restart the kernel to use updated packages.\n"
     ]
    }
   ],
   "source": [
    "pip install tensorflow==2.12.0\n"
   ]
  },
  {
   "cell_type": "code",
   "execution_count": null,
   "metadata": {},
   "outputs": [],
   "source": []
  },
  {
   "cell_type": "code",
   "execution_count": null,
   "metadata": {},
   "outputs": [],
   "source": []
  },
  {
   "cell_type": "code",
   "execution_count": 1,
   "metadata": {},
   "outputs": [],
   "source": [
    "import pandas as pd\n",
    "import numpy as np\n",
    "import matplotlib.pyplot as plt\n",
    "from os.path import join\n",
    "import seaborn as sns\n",
    "from sys import path\n",
    "path.insert(0,'../src/')\n",
    "from glob import glob\n",
    "\n",
    "from chemulator import Chemulator\n"
   ]
  },
  {
   "cell_type": "markdown",
   "metadata": {},
   "source": [
    "# Initializing the Emulator\n",
    "\n",
    "Chemulator has a simple initialization function that simple takes the path the directory where a chemical encoder is stored. In this case, we'll point it to the autoencoder from the Holdship et al. 2021 release paper.\n",
    "\n",
    "The resulting emulator object can either be used to create a whole new emulator of the ```load_model``` function can be used to load a pre-trained model/ensemble. Here, we'll use the emulator used for the performance metrics of the release paper."
   ]
  },
  {
   "cell_type": "code",
   "execution_count": 2,
   "metadata": {},
   "outputs": [],
   "source": [
    "autoencoder_dir=\"../models/autoencoder-2021-release/\"\n",
    "emulator=Chemulator(autoencoder_dir=autoencoder_dir)\n",
    "emulator.load_model(\"../models/emulator-2021-release/\")"
   ]
  },
  {
   "cell_type": "markdown",
   "metadata": {},
   "source": [
    "This emulator is now ready to use!\n",
    "Below we'll demonstrate the model in use"
   ]
  },
  {
   "cell_type": "markdown",
   "metadata": {},
   "source": [
    "# Time Dependence\n",
    "\n",
    "We'll first demonstrate the emulator's use on some of the test data from the training. Note that other than \"Time\" and \"model\", all columns in this first example are required to run the emulator."
   ]
  },
  {
   "cell_type": "code",
   "execution_count": 20,
   "metadata": {},
   "outputs": [],
   "source": [
    "input_data=pd.read_hdf(\"example_models.hdf\",key=\"df\").reset_index(drop=True)"
   ]
  },
  {
   "cell_type": "code",
   "execution_count": 21,
   "metadata": {},
   "outputs": [
    {
     "name": "stdout",
     "output_type": "stream",
     "text": [
      "1/1 [==============================] - 0s 29ms/step\n"
     ]
    }
   ],
   "source": [
    "#pick a random model\n",
    "start_time=1000\n",
    "i=input_data[(input_data[\"Time\"]==start_time)].index\n",
    "i=np.random.choice(i)\n",
    "\n",
    "\n",
    "#use the emulator's prepare inputs function to scale all the data and encode chemistry\n",
    "model_df=emulator.prepare_inputs(input_data.loc[i:i].reset_index(drop=True),learn_scaling=False)"
   ]
  },
  {
   "cell_type": "code",
   "execution_count": 23,
   "metadata": {
    "scrolled": true
   },
   "outputs": [
    {
     "name": "stdout",
     "output_type": "stream",
     "text": [
      "1/1 [==============================] - 0s 23ms/step\n",
      "1/1 [==============================] - 0s 22ms/step\n",
      "1/1 [==============================] - 0s 23ms/step\n"
     ]
    },
    {
     "name": "stderr",
     "output_type": "stream",
     "text": [
      "/var/tmp/rojasolvera/ipykernel_485947/3486713291.py:6: FutureWarning: The frame.append method is deprecated and will be removed from pandas in a future version. Use pandas.concat instead.\n",
      "  outputs=outputs.append(output,sort=False)\n",
      "/var/tmp/rojasolvera/ipykernel_485947/3486713291.py:6: FutureWarning: The frame.append method is deprecated and will be removed from pandas in a future version. Use pandas.concat instead.\n",
      "  outputs=outputs.append(output,sort=False)\n"
     ]
    },
    {
     "name": "stdout",
     "output_type": "stream",
     "text": [
      "1/1 [==============================] - 0s 23ms/step\n"
     ]
    },
    {
     "name": "stderr",
     "output_type": "stream",
     "text": [
      "/var/tmp/rojasolvera/ipykernel_485947/3486713291.py:6: FutureWarning: The frame.append method is deprecated and will be removed from pandas in a future version. Use pandas.concat instead.\n",
      "  outputs=outputs.append(output,sort=False)\n",
      "/var/tmp/rojasolvera/ipykernel_485947/3486713291.py:6: FutureWarning: The frame.append method is deprecated and will be removed from pandas in a future version. Use pandas.concat instead.\n",
      "  outputs=outputs.append(output,sort=False)\n"
     ]
    },
    {
     "name": "stdout",
     "output_type": "stream",
     "text": [
      "1/1 [==============================] - 0s 23ms/step\n",
      "1/1 [==============================] - 0s 23ms/step\n"
     ]
    },
    {
     "name": "stderr",
     "output_type": "stream",
     "text": [
      "/var/tmp/rojasolvera/ipykernel_485947/3486713291.py:6: FutureWarning: The frame.append method is deprecated and will be removed from pandas in a future version. Use pandas.concat instead.\n",
      "  outputs=outputs.append(output,sort=False)\n"
     ]
    },
    {
     "name": "stdout",
     "output_type": "stream",
     "text": [
      "1/1 [==============================] - 0s 23ms/step\n",
      "1/1 [==============================] - 0s 23ms/step\n"
     ]
    },
    {
     "name": "stderr",
     "output_type": "stream",
     "text": [
      "/var/tmp/rojasolvera/ipykernel_485947/3486713291.py:6: FutureWarning: The frame.append method is deprecated and will be removed from pandas in a future version. Use pandas.concat instead.\n",
      "  outputs=outputs.append(output,sort=False)\n",
      "/var/tmp/rojasolvera/ipykernel_485947/3486713291.py:6: FutureWarning: The frame.append method is deprecated and will be removed from pandas in a future version. Use pandas.concat instead.\n",
      "  outputs=outputs.append(output,sort=False)\n"
     ]
    },
    {
     "name": "stdout",
     "output_type": "stream",
     "text": [
      "1/1 [==============================] - 0s 24ms/step\n"
     ]
    },
    {
     "name": "stderr",
     "output_type": "stream",
     "text": [
      "/var/tmp/rojasolvera/ipykernel_485947/3486713291.py:6: FutureWarning: The frame.append method is deprecated and will be removed from pandas in a future version. Use pandas.concat instead.\n",
      "  outputs=outputs.append(output,sort=False)\n",
      "/var/tmp/rojasolvera/ipykernel_485947/3486713291.py:6: FutureWarning: The frame.append method is deprecated and will be removed from pandas in a future version. Use pandas.concat instead.\n",
      "  outputs=outputs.append(output,sort=False)\n"
     ]
    },
    {
     "name": "stdout",
     "output_type": "stream",
     "text": [
      "1/1 [==============================] - 0s 23ms/step\n",
      "1/1 [==============================] - 0s 23ms/step\n"
     ]
    },
    {
     "name": "stderr",
     "output_type": "stream",
     "text": [
      "/var/tmp/rojasolvera/ipykernel_485947/3486713291.py:6: FutureWarning: The frame.append method is deprecated and will be removed from pandas in a future version. Use pandas.concat instead.\n",
      "  outputs=outputs.append(output,sort=False)\n",
      "/var/tmp/rojasolvera/ipykernel_485947/3486713291.py:6: FutureWarning: The frame.append method is deprecated and will be removed from pandas in a future version. Use pandas.concat instead.\n",
      "  outputs=outputs.append(output,sort=False)\n"
     ]
    },
    {
     "name": "stdout",
     "output_type": "stream",
     "text": [
      "1/1 [==============================] - 0s 23ms/step\n",
      "1/1 [==============================] - 0s 22ms/step\n"
     ]
    },
    {
     "name": "stderr",
     "output_type": "stream",
     "text": [
      "/var/tmp/rojasolvera/ipykernel_485947/3486713291.py:6: FutureWarning: The frame.append method is deprecated and will be removed from pandas in a future version. Use pandas.concat instead.\n",
      "  outputs=outputs.append(output,sort=False)\n",
      "/var/tmp/rojasolvera/ipykernel_485947/3486713291.py:6: FutureWarning: The frame.append method is deprecated and will be removed from pandas in a future version. Use pandas.concat instead.\n",
      "  outputs=outputs.append(output,sort=False)\n"
     ]
    },
    {
     "name": "stdout",
     "output_type": "stream",
     "text": [
      "1/1 [==============================] - 0s 22ms/step\n",
      "1/1 [==============================] - 0s 22ms/step\n"
     ]
    },
    {
     "name": "stderr",
     "output_type": "stream",
     "text": [
      "/var/tmp/rojasolvera/ipykernel_485947/3486713291.py:6: FutureWarning: The frame.append method is deprecated and will be removed from pandas in a future version. Use pandas.concat instead.\n",
      "  outputs=outputs.append(output,sort=False)\n",
      "/var/tmp/rojasolvera/ipykernel_485947/3486713291.py:6: FutureWarning: The frame.append method is deprecated and will be removed from pandas in a future version. Use pandas.concat instead.\n",
      "  outputs=outputs.append(output,sort=False)\n"
     ]
    },
    {
     "name": "stdout",
     "output_type": "stream",
     "text": [
      "1/1 [==============================] - 0s 24ms/step\n",
      "1/1 [==============================] - 0s 21ms/step\n"
     ]
    },
    {
     "name": "stderr",
     "output_type": "stream",
     "text": [
      "/var/tmp/rojasolvera/ipykernel_485947/3486713291.py:6: FutureWarning: The frame.append method is deprecated and will be removed from pandas in a future version. Use pandas.concat instead.\n",
      "  outputs=outputs.append(output,sort=False)\n",
      "/var/tmp/rojasolvera/ipykernel_485947/3486713291.py:6: FutureWarning: The frame.append method is deprecated and will be removed from pandas in a future version. Use pandas.concat instead.\n",
      "  outputs=outputs.append(output,sort=False)\n"
     ]
    },
    {
     "name": "stdout",
     "output_type": "stream",
     "text": [
      "1/1 [==============================] - 0s 25ms/step\n",
      "1/1 [==============================] - 0s 26ms/step\n"
     ]
    },
    {
     "name": "stderr",
     "output_type": "stream",
     "text": [
      "/var/tmp/rojasolvera/ipykernel_485947/3486713291.py:6: FutureWarning: The frame.append method is deprecated and will be removed from pandas in a future version. Use pandas.concat instead.\n",
      "  outputs=outputs.append(output,sort=False)\n",
      "/var/tmp/rojasolvera/ipykernel_485947/3486713291.py:6: FutureWarning: The frame.append method is deprecated and will be removed from pandas in a future version. Use pandas.concat instead.\n",
      "  outputs=outputs.append(output,sort=False)\n"
     ]
    },
    {
     "name": "stdout",
     "output_type": "stream",
     "text": [
      "1/1 [==============================] - 0s 24ms/step\n",
      "1/1 [==============================] - 0s 22ms/step\n"
     ]
    },
    {
     "name": "stderr",
     "output_type": "stream",
     "text": [
      "/var/tmp/rojasolvera/ipykernel_485947/3486713291.py:6: FutureWarning: The frame.append method is deprecated and will be removed from pandas in a future version. Use pandas.concat instead.\n",
      "  outputs=outputs.append(output,sort=False)\n"
     ]
    },
    {
     "name": "stdout",
     "output_type": "stream",
     "text": [
      "1/1 [==============================] - 0s 22ms/step\n",
      "1/1 [==============================] - 0s 22ms/step\n"
     ]
    },
    {
     "name": "stderr",
     "output_type": "stream",
     "text": [
      "/var/tmp/rojasolvera/ipykernel_485947/3486713291.py:6: FutureWarning: The frame.append method is deprecated and will be removed from pandas in a future version. Use pandas.concat instead.\n",
      "  outputs=outputs.append(output,sort=False)\n",
      "/var/tmp/rojasolvera/ipykernel_485947/3486713291.py:6: FutureWarning: The frame.append method is deprecated and will be removed from pandas in a future version. Use pandas.concat instead.\n",
      "  outputs=outputs.append(output,sort=False)\n",
      "/var/tmp/rojasolvera/ipykernel_485947/3486713291.py:6: FutureWarning: The frame.append method is deprecated and will be removed from pandas in a future version. Use pandas.concat instead.\n",
      "  outputs=outputs.append(output,sort=False)\n"
     ]
    },
    {
     "name": "stdout",
     "output_type": "stream",
     "text": [
      "1/1 [==============================] - 0s 22ms/step\n"
     ]
    },
    {
     "name": "stderr",
     "output_type": "stream",
     "text": [
      "/var/tmp/rojasolvera/ipykernel_485947/3486713291.py:6: FutureWarning: The frame.append method is deprecated and will be removed from pandas in a future version. Use pandas.concat instead.\n",
      "  outputs=outputs.append(output,sort=False)\n"
     ]
    },
    {
     "name": "stdout",
     "output_type": "stream",
     "text": [
      "1/1 [==============================] - 0s 24ms/step\n",
      "1/1 [==============================] - 0s 22ms/step\n",
      "1/1 [==============================] - 0s 23ms/step\n"
     ]
    },
    {
     "name": "stderr",
     "output_type": "stream",
     "text": [
      "/var/tmp/rojasolvera/ipykernel_485947/3486713291.py:6: FutureWarning: The frame.append method is deprecated and will be removed from pandas in a future version. Use pandas.concat instead.\n",
      "  outputs=outputs.append(output,sort=False)\n",
      "/var/tmp/rojasolvera/ipykernel_485947/3486713291.py:6: FutureWarning: The frame.append method is deprecated and will be removed from pandas in a future version. Use pandas.concat instead.\n",
      "  outputs=outputs.append(output,sort=False)\n",
      "/var/tmp/rojasolvera/ipykernel_485947/3486713291.py:6: FutureWarning: The frame.append method is deprecated and will be removed from pandas in a future version. Use pandas.concat instead.\n",
      "  outputs=outputs.append(output,sort=False)\n"
     ]
    },
    {
     "name": "stdout",
     "output_type": "stream",
     "text": [
      "1/1 [==============================] - 0s 25ms/step\n",
      "1/1 [==============================] - 0s 25ms/step\n",
      "1/1 [==============================] - 0s 26ms/step\n",
      "1/1 [==============================] - 0s 25ms/step\n"
     ]
    },
    {
     "name": "stderr",
     "output_type": "stream",
     "text": [
      "/var/tmp/rojasolvera/ipykernel_485947/3486713291.py:6: FutureWarning: The frame.append method is deprecated and will be removed from pandas in a future version. Use pandas.concat instead.\n",
      "  outputs=outputs.append(output,sort=False)\n",
      "/var/tmp/rojasolvera/ipykernel_485947/3486713291.py:6: FutureWarning: The frame.append method is deprecated and will be removed from pandas in a future version. Use pandas.concat instead.\n",
      "  outputs=outputs.append(output,sort=False)\n",
      "/var/tmp/rojasolvera/ipykernel_485947/3486713291.py:6: FutureWarning: The frame.append method is deprecated and will be removed from pandas in a future version. Use pandas.concat instead.\n",
      "  outputs=outputs.append(output,sort=False)\n"
     ]
    },
    {
     "name": "stdout",
     "output_type": "stream",
     "text": [
      "1/1 [==============================] - 0s 28ms/step\n",
      "1/1 [==============================] - 0s 25ms/step\n",
      "1/1 [==============================] - ETA: 0s"
     ]
    },
    {
     "name": "stderr",
     "output_type": "stream",
     "text": [
      "/var/tmp/rojasolvera/ipykernel_485947/3486713291.py:6: FutureWarning: The frame.append method is deprecated and will be removed from pandas in a future version. Use pandas.concat instead.\n",
      "  outputs=outputs.append(output,sort=False)\n",
      "/var/tmp/rojasolvera/ipykernel_485947/3486713291.py:6: FutureWarning: The frame.append method is deprecated and will be removed from pandas in a future version. Use pandas.concat instead.\n",
      "  outputs=outputs.append(output,sort=False)\n",
      "/var/tmp/rojasolvera/ipykernel_485947/3486713291.py:6: FutureWarning: The frame.append method is deprecated and will be removed from pandas in a future version. Use pandas.concat instead.\n",
      "  outputs=outputs.append(output,sort=False)\n"
     ]
    },
    {
     "name": "stdout",
     "output_type": "stream",
     "text": [
      "1/1 [==============================] - 0s 26ms/step\n",
      "1/1 [==============================] - 0s 26ms/step\n",
      "1/1 [==============================] - 0s 26ms/step\n"
     ]
    },
    {
     "name": "stderr",
     "output_type": "stream",
     "text": [
      "/var/tmp/rojasolvera/ipykernel_485947/3486713291.py:6: FutureWarning: The frame.append method is deprecated and will be removed from pandas in a future version. Use pandas.concat instead.\n",
      "  outputs=outputs.append(output,sort=False)\n",
      "/var/tmp/rojasolvera/ipykernel_485947/3486713291.py:6: FutureWarning: The frame.append method is deprecated and will be removed from pandas in a future version. Use pandas.concat instead.\n",
      "  outputs=outputs.append(output,sort=False)\n",
      "/var/tmp/rojasolvera/ipykernel_485947/3486713291.py:6: FutureWarning: The frame.append method is deprecated and will be removed from pandas in a future version. Use pandas.concat instead.\n",
      "  outputs=outputs.append(output,sort=False)\n"
     ]
    },
    {
     "name": "stdout",
     "output_type": "stream",
     "text": [
      "1/1 [==============================] - 0s 24ms/step\n",
      "1/1 [==============================] - 0s 26ms/step\n",
      "1/1 [==============================] - 0s 27ms/step\n"
     ]
    },
    {
     "name": "stderr",
     "output_type": "stream",
     "text": [
      "/var/tmp/rojasolvera/ipykernel_485947/3486713291.py:6: FutureWarning: The frame.append method is deprecated and will be removed from pandas in a future version. Use pandas.concat instead.\n",
      "  outputs=outputs.append(output,sort=False)\n",
      "/var/tmp/rojasolvera/ipykernel_485947/3486713291.py:6: FutureWarning: The frame.append method is deprecated and will be removed from pandas in a future version. Use pandas.concat instead.\n",
      "  outputs=outputs.append(output,sort=False)\n",
      "/var/tmp/rojasolvera/ipykernel_485947/3486713291.py:6: FutureWarning: The frame.append method is deprecated and will be removed from pandas in a future version. Use pandas.concat instead.\n",
      "  outputs=outputs.append(output,sort=False)\n"
     ]
    },
    {
     "name": "stdout",
     "output_type": "stream",
     "text": [
      "1/1 [==============================] - 0s 27ms/step\n",
      "1/1 [==============================] - 0s 26ms/step\n",
      "1/1 [==============================] - 0s 26ms/step\n"
     ]
    },
    {
     "name": "stderr",
     "output_type": "stream",
     "text": [
      "/var/tmp/rojasolvera/ipykernel_485947/3486713291.py:6: FutureWarning: The frame.append method is deprecated and will be removed from pandas in a future version. Use pandas.concat instead.\n",
      "  outputs=outputs.append(output,sort=False)\n",
      "/var/tmp/rojasolvera/ipykernel_485947/3486713291.py:6: FutureWarning: The frame.append method is deprecated and will be removed from pandas in a future version. Use pandas.concat instead.\n",
      "  outputs=outputs.append(output,sort=False)\n",
      "/var/tmp/rojasolvera/ipykernel_485947/3486713291.py:6: FutureWarning: The frame.append method is deprecated and will be removed from pandas in a future version. Use pandas.concat instead.\n",
      "  outputs=outputs.append(output,sort=False)\n"
     ]
    },
    {
     "name": "stdout",
     "output_type": "stream",
     "text": [
      "1/1 [==============================] - 0s 28ms/step\n",
      "1/1 [==============================] - 0s 27ms/step\n",
      "1/1 [==============================] - 0s 24ms/step\n",
      "1/1 [==============================] - ETA: 0s"
     ]
    },
    {
     "name": "stderr",
     "output_type": "stream",
     "text": [
      "/var/tmp/rojasolvera/ipykernel_485947/3486713291.py:6: FutureWarning: The frame.append method is deprecated and will be removed from pandas in a future version. Use pandas.concat instead.\n",
      "  outputs=outputs.append(output,sort=False)\n",
      "/var/tmp/rojasolvera/ipykernel_485947/3486713291.py:6: FutureWarning: The frame.append method is deprecated and will be removed from pandas in a future version. Use pandas.concat instead.\n",
      "  outputs=outputs.append(output,sort=False)\n",
      "/var/tmp/rojasolvera/ipykernel_485947/3486713291.py:6: FutureWarning: The frame.append method is deprecated and will be removed from pandas in a future version. Use pandas.concat instead.\n",
      "  outputs=outputs.append(output,sort=False)\n"
     ]
    },
    {
     "name": "stdout",
     "output_type": "stream",
     "text": [
      "1/1 [==============================] - 0s 28ms/step\n",
      "1/1 [==============================] - 0s 26ms/step\n",
      "1/1 [==============================] - 0s 27ms/step\n"
     ]
    },
    {
     "name": "stderr",
     "output_type": "stream",
     "text": [
      "/var/tmp/rojasolvera/ipykernel_485947/3486713291.py:6: FutureWarning: The frame.append method is deprecated and will be removed from pandas in a future version. Use pandas.concat instead.\n",
      "  outputs=outputs.append(output,sort=False)\n",
      "/var/tmp/rojasolvera/ipykernel_485947/3486713291.py:6: FutureWarning: The frame.append method is deprecated and will be removed from pandas in a future version. Use pandas.concat instead.\n",
      "  outputs=outputs.append(output,sort=False)\n",
      "/var/tmp/rojasolvera/ipykernel_485947/3486713291.py:6: FutureWarning: The frame.append method is deprecated and will be removed from pandas in a future version. Use pandas.concat instead.\n",
      "  outputs=outputs.append(output,sort=False)\n"
     ]
    },
    {
     "name": "stdout",
     "output_type": "stream",
     "text": [
      "1/1 [==============================] - 0s 27ms/step\n",
      "1/1 [==============================] - 0s 27ms/step\n",
      "1/1 [==============================] - 0s 25ms/step\n",
      "1/1 [==============================] - 0s 26ms/step\n"
     ]
    },
    {
     "name": "stderr",
     "output_type": "stream",
     "text": [
      "/var/tmp/rojasolvera/ipykernel_485947/3486713291.py:6: FutureWarning: The frame.append method is deprecated and will be removed from pandas in a future version. Use pandas.concat instead.\n",
      "  outputs=outputs.append(output,sort=False)\n",
      "/var/tmp/rojasolvera/ipykernel_485947/3486713291.py:6: FutureWarning: The frame.append method is deprecated and will be removed from pandas in a future version. Use pandas.concat instead.\n",
      "  outputs=outputs.append(output,sort=False)\n",
      "/var/tmp/rojasolvera/ipykernel_485947/3486713291.py:6: FutureWarning: The frame.append method is deprecated and will be removed from pandas in a future version. Use pandas.concat instead.\n",
      "  outputs=outputs.append(output,sort=False)\n"
     ]
    },
    {
     "name": "stdout",
     "output_type": "stream",
     "text": [
      "1/1 [==============================] - 0s 24ms/step\n",
      "1/1 [==============================] - 0s 26ms/step\n",
      "1/1 [==============================] - 0s 26ms/step\n"
     ]
    },
    {
     "name": "stderr",
     "output_type": "stream",
     "text": [
      "/var/tmp/rojasolvera/ipykernel_485947/3486713291.py:6: FutureWarning: The frame.append method is deprecated and will be removed from pandas in a future version. Use pandas.concat instead.\n",
      "  outputs=outputs.append(output,sort=False)\n",
      "/var/tmp/rojasolvera/ipykernel_485947/3486713291.py:6: FutureWarning: The frame.append method is deprecated and will be removed from pandas in a future version. Use pandas.concat instead.\n",
      "  outputs=outputs.append(output,sort=False)\n",
      "/var/tmp/rojasolvera/ipykernel_485947/3486713291.py:6: FutureWarning: The frame.append method is deprecated and will be removed from pandas in a future version. Use pandas.concat instead.\n",
      "  outputs=outputs.append(output,sort=False)\n"
     ]
    },
    {
     "name": "stdout",
     "output_type": "stream",
     "text": [
      "1/1 [==============================] - 0s 27ms/step\n",
      "1/1 [==============================] - 0s 25ms/step\n"
     ]
    },
    {
     "name": "stderr",
     "output_type": "stream",
     "text": [
      "/var/tmp/rojasolvera/ipykernel_485947/3486713291.py:6: FutureWarning: The frame.append method is deprecated and will be removed from pandas in a future version. Use pandas.concat instead.\n",
      "  outputs=outputs.append(output,sort=False)\n",
      "/var/tmp/rojasolvera/ipykernel_485947/3486713291.py:6: FutureWarning: The frame.append method is deprecated and will be removed from pandas in a future version. Use pandas.concat instead.\n",
      "  outputs=outputs.append(output,sort=False)\n",
      "/var/tmp/rojasolvera/ipykernel_485947/3486713291.py:6: FutureWarning: The frame.append method is deprecated and will be removed from pandas in a future version. Use pandas.concat instead.\n",
      "  outputs=outputs.append(output,sort=False)\n"
     ]
    },
    {
     "name": "stdout",
     "output_type": "stream",
     "text": [
      "1/1 [==============================] - 0s 26ms/step\n",
      "1/1 [==============================] - 0s 26ms/step\n",
      "1/1 [==============================] - 0s 25ms/step\n",
      "1/1 [==============================] - 0s 26ms/step\n"
     ]
    },
    {
     "name": "stderr",
     "output_type": "stream",
     "text": [
      "/var/tmp/rojasolvera/ipykernel_485947/3486713291.py:6: FutureWarning: The frame.append method is deprecated and will be removed from pandas in a future version. Use pandas.concat instead.\n",
      "  outputs=outputs.append(output,sort=False)\n",
      "/var/tmp/rojasolvera/ipykernel_485947/3486713291.py:6: FutureWarning: The frame.append method is deprecated and will be removed from pandas in a future version. Use pandas.concat instead.\n",
      "  outputs=outputs.append(output,sort=False)\n",
      "/var/tmp/rojasolvera/ipykernel_485947/3486713291.py:6: FutureWarning: The frame.append method is deprecated and will be removed from pandas in a future version. Use pandas.concat instead.\n",
      "  outputs=outputs.append(output,sort=False)\n"
     ]
    },
    {
     "name": "stdout",
     "output_type": "stream",
     "text": [
      "1/1 [==============================] - 0s 26ms/step\n",
      "1/1 [==============================] - 0s 27ms/step\n"
     ]
    },
    {
     "name": "stderr",
     "output_type": "stream",
     "text": [
      "/var/tmp/rojasolvera/ipykernel_485947/3486713291.py:6: FutureWarning: The frame.append method is deprecated and will be removed from pandas in a future version. Use pandas.concat instead.\n",
      "  outputs=outputs.append(output,sort=False)\n",
      "/var/tmp/rojasolvera/ipykernel_485947/3486713291.py:6: FutureWarning: The frame.append method is deprecated and will be removed from pandas in a future version. Use pandas.concat instead.\n",
      "  outputs=outputs.append(output,sort=False)\n",
      "/var/tmp/rojasolvera/ipykernel_485947/3486713291.py:6: FutureWarning: The frame.append method is deprecated and will be removed from pandas in a future version. Use pandas.concat instead.\n",
      "  outputs=outputs.append(output,sort=False)\n"
     ]
    },
    {
     "name": "stdout",
     "output_type": "stream",
     "text": [
      "1/1 [==============================] - 0s 26ms/step\n",
      "1/1 [==============================] - 0s 25ms/step\n",
      "1/1 [==============================] - 0s 25ms/step\n",
      "1/1 [==============================] - 0s 27ms/step\n"
     ]
    },
    {
     "name": "stderr",
     "output_type": "stream",
     "text": [
      "/var/tmp/rojasolvera/ipykernel_485947/3486713291.py:6: FutureWarning: The frame.append method is deprecated and will be removed from pandas in a future version. Use pandas.concat instead.\n",
      "  outputs=outputs.append(output,sort=False)\n",
      "/var/tmp/rojasolvera/ipykernel_485947/3486713291.py:6: FutureWarning: The frame.append method is deprecated and will be removed from pandas in a future version. Use pandas.concat instead.\n",
      "  outputs=outputs.append(output,sort=False)\n",
      "/var/tmp/rojasolvera/ipykernel_485947/3486713291.py:6: FutureWarning: The frame.append method is deprecated and will be removed from pandas in a future version. Use pandas.concat instead.\n",
      "  outputs=outputs.append(output,sort=False)\n"
     ]
    },
    {
     "name": "stdout",
     "output_type": "stream",
     "text": [
      "1/1 [==============================] - 0s 26ms/step\n",
      "1/1 [==============================] - 0s 25ms/step\n"
     ]
    },
    {
     "name": "stderr",
     "output_type": "stream",
     "text": [
      "/var/tmp/rojasolvera/ipykernel_485947/3486713291.py:6: FutureWarning: The frame.append method is deprecated and will be removed from pandas in a future version. Use pandas.concat instead.\n",
      "  outputs=outputs.append(output,sort=False)\n",
      "/var/tmp/rojasolvera/ipykernel_485947/3486713291.py:6: FutureWarning: The frame.append method is deprecated and will be removed from pandas in a future version. Use pandas.concat instead.\n",
      "  outputs=outputs.append(output,sort=False)\n",
      "/var/tmp/rojasolvera/ipykernel_485947/3486713291.py:6: FutureWarning: The frame.append method is deprecated and will be removed from pandas in a future version. Use pandas.concat instead.\n",
      "  outputs=outputs.append(output,sort=False)\n"
     ]
    },
    {
     "name": "stdout",
     "output_type": "stream",
     "text": [
      "1/1 [==============================] - 0s 26ms/step\n",
      "1/1 [==============================] - 0s 25ms/step\n",
      "1/1 [==============================] - 0s 26ms/step\n",
      "1/1 [==============================] - 0s 27ms/step\n"
     ]
    },
    {
     "name": "stderr",
     "output_type": "stream",
     "text": [
      "/var/tmp/rojasolvera/ipykernel_485947/3486713291.py:6: FutureWarning: The frame.append method is deprecated and will be removed from pandas in a future version. Use pandas.concat instead.\n",
      "  outputs=outputs.append(output,sort=False)\n",
      "/var/tmp/rojasolvera/ipykernel_485947/3486713291.py:6: FutureWarning: The frame.append method is deprecated and will be removed from pandas in a future version. Use pandas.concat instead.\n",
      "  outputs=outputs.append(output,sort=False)\n",
      "/var/tmp/rojasolvera/ipykernel_485947/3486713291.py:6: FutureWarning: The frame.append method is deprecated and will be removed from pandas in a future version. Use pandas.concat instead.\n",
      "  outputs=outputs.append(output,sort=False)\n"
     ]
    },
    {
     "name": "stdout",
     "output_type": "stream",
     "text": [
      "1/1 [==============================] - 0s 27ms/step\n",
      "1/1 [==============================] - 0s 26ms/step\n",
      "1/1 [==============================] - 0s 25ms/step\n"
     ]
    },
    {
     "name": "stderr",
     "output_type": "stream",
     "text": [
      "/var/tmp/rojasolvera/ipykernel_485947/3486713291.py:6: FutureWarning: The frame.append method is deprecated and will be removed from pandas in a future version. Use pandas.concat instead.\n",
      "  outputs=outputs.append(output,sort=False)\n",
      "/var/tmp/rojasolvera/ipykernel_485947/3486713291.py:6: FutureWarning: The frame.append method is deprecated and will be removed from pandas in a future version. Use pandas.concat instead.\n",
      "  outputs=outputs.append(output,sort=False)\n",
      "/var/tmp/rojasolvera/ipykernel_485947/3486713291.py:6: FutureWarning: The frame.append method is deprecated and will be removed from pandas in a future version. Use pandas.concat instead.\n",
      "  outputs=outputs.append(output,sort=False)\n"
     ]
    },
    {
     "name": "stdout",
     "output_type": "stream",
     "text": [
      "1/1 [==============================] - 0s 25ms/step\n",
      "1/1 [==============================] - 0s 26ms/step\n"
     ]
    },
    {
     "name": "stderr",
     "output_type": "stream",
     "text": [
      "/var/tmp/rojasolvera/ipykernel_485947/3486713291.py:6: FutureWarning: The frame.append method is deprecated and will be removed from pandas in a future version. Use pandas.concat instead.\n",
      "  outputs=outputs.append(output,sort=False)\n",
      "/var/tmp/rojasolvera/ipykernel_485947/3486713291.py:6: FutureWarning: The frame.append method is deprecated and will be removed from pandas in a future version. Use pandas.concat instead.\n",
      "  outputs=outputs.append(output,sort=False)\n",
      "/var/tmp/rojasolvera/ipykernel_485947/3486713291.py:6: FutureWarning: The frame.append method is deprecated and will be removed from pandas in a future version. Use pandas.concat instead.\n",
      "  outputs=outputs.append(output,sort=False)\n"
     ]
    },
    {
     "name": "stdout",
     "output_type": "stream",
     "text": [
      "1/1 [==============================] - 0s 29ms/step\n",
      "1/1 [==============================] - 0s 25ms/step\n",
      "1/1 [==============================] - 0s 27ms/step\n",
      "1/1 [==============================] - ETA: 0s"
     ]
    },
    {
     "name": "stderr",
     "output_type": "stream",
     "text": [
      "/var/tmp/rojasolvera/ipykernel_485947/3486713291.py:6: FutureWarning: The frame.append method is deprecated and will be removed from pandas in a future version. Use pandas.concat instead.\n",
      "  outputs=outputs.append(output,sort=False)\n",
      "/var/tmp/rojasolvera/ipykernel_485947/3486713291.py:6: FutureWarning: The frame.append method is deprecated and will be removed from pandas in a future version. Use pandas.concat instead.\n",
      "  outputs=outputs.append(output,sort=False)\n",
      "/var/tmp/rojasolvera/ipykernel_485947/3486713291.py:6: FutureWarning: The frame.append method is deprecated and will be removed from pandas in a future version. Use pandas.concat instead.\n",
      "  outputs=outputs.append(output,sort=False)\n"
     ]
    },
    {
     "name": "stdout",
     "output_type": "stream",
     "text": [
      "1/1 [==============================] - 0s 26ms/step\n",
      "1/1 [==============================] - 0s 27ms/step\n",
      "1/1 [==============================] - 0s 28ms/step\n"
     ]
    },
    {
     "name": "stderr",
     "output_type": "stream",
     "text": [
      "/var/tmp/rojasolvera/ipykernel_485947/3486713291.py:6: FutureWarning: The frame.append method is deprecated and will be removed from pandas in a future version. Use pandas.concat instead.\n",
      "  outputs=outputs.append(output,sort=False)\n",
      "/var/tmp/rojasolvera/ipykernel_485947/3486713291.py:6: FutureWarning: The frame.append method is deprecated and will be removed from pandas in a future version. Use pandas.concat instead.\n",
      "  outputs=outputs.append(output,sort=False)\n",
      "/var/tmp/rojasolvera/ipykernel_485947/3486713291.py:6: FutureWarning: The frame.append method is deprecated and will be removed from pandas in a future version. Use pandas.concat instead.\n",
      "  outputs=outputs.append(output,sort=False)\n"
     ]
    },
    {
     "name": "stdout",
     "output_type": "stream",
     "text": [
      "1/1 [==============================] - 0s 28ms/step\n",
      "1/1 [==============================] - 0s 27ms/step\n",
      "1/1 [==============================] - 0s 26ms/step\n"
     ]
    },
    {
     "name": "stderr",
     "output_type": "stream",
     "text": [
      "/var/tmp/rojasolvera/ipykernel_485947/3486713291.py:6: FutureWarning: The frame.append method is deprecated and will be removed from pandas in a future version. Use pandas.concat instead.\n",
      "  outputs=outputs.append(output,sort=False)\n",
      "/var/tmp/rojasolvera/ipykernel_485947/3486713291.py:6: FutureWarning: The frame.append method is deprecated and will be removed from pandas in a future version. Use pandas.concat instead.\n",
      "  outputs=outputs.append(output,sort=False)\n",
      "/var/tmp/rojasolvera/ipykernel_485947/3486713291.py:6: FutureWarning: The frame.append method is deprecated and will be removed from pandas in a future version. Use pandas.concat instead.\n",
      "  outputs=outputs.append(output,sort=False)\n"
     ]
    },
    {
     "name": "stdout",
     "output_type": "stream",
     "text": [
      "1/1 [==============================] - 0s 26ms/step\n",
      "1/1 [==============================] - 0s 26ms/step\n",
      "1/1 [==============================] - 0s 25ms/step\n"
     ]
    },
    {
     "name": "stderr",
     "output_type": "stream",
     "text": [
      "/var/tmp/rojasolvera/ipykernel_485947/3486713291.py:6: FutureWarning: The frame.append method is deprecated and will be removed from pandas in a future version. Use pandas.concat instead.\n",
      "  outputs=outputs.append(output,sort=False)\n",
      "/var/tmp/rojasolvera/ipykernel_485947/3486713291.py:6: FutureWarning: The frame.append method is deprecated and will be removed from pandas in a future version. Use pandas.concat instead.\n",
      "  outputs=outputs.append(output,sort=False)\n",
      "/var/tmp/rojasolvera/ipykernel_485947/3486713291.py:6: FutureWarning: The frame.append method is deprecated and will be removed from pandas in a future version. Use pandas.concat instead.\n",
      "  outputs=outputs.append(output,sort=False)\n"
     ]
    },
    {
     "name": "stdout",
     "output_type": "stream",
     "text": [
      "1/1 [==============================] - 0s 27ms/step\n",
      "1/1 [==============================] - 0s 28ms/step\n",
      "1/1 [==============================] - 0s 26ms/step\n",
      "1/1 [==============================] - ETA: 0s"
     ]
    },
    {
     "name": "stderr",
     "output_type": "stream",
     "text": [
      "/var/tmp/rojasolvera/ipykernel_485947/3486713291.py:6: FutureWarning: The frame.append method is deprecated and will be removed from pandas in a future version. Use pandas.concat instead.\n",
      "  outputs=outputs.append(output,sort=False)\n",
      "/var/tmp/rojasolvera/ipykernel_485947/3486713291.py:6: FutureWarning: The frame.append method is deprecated and will be removed from pandas in a future version. Use pandas.concat instead.\n",
      "  outputs=outputs.append(output,sort=False)\n",
      "/var/tmp/rojasolvera/ipykernel_485947/3486713291.py:6: FutureWarning: The frame.append method is deprecated and will be removed from pandas in a future version. Use pandas.concat instead.\n",
      "  outputs=outputs.append(output,sort=False)\n"
     ]
    },
    {
     "name": "stdout",
     "output_type": "stream",
     "text": [
      "1/1 [==============================] - 0s 26ms/step\n",
      "1/1 [==============================] - 0s 25ms/step\n",
      "1/1 [==============================] - 0s 26ms/step\n",
      "1/1 [==============================] - 0s 26ms/step\n"
     ]
    },
    {
     "name": "stderr",
     "output_type": "stream",
     "text": [
      "/var/tmp/rojasolvera/ipykernel_485947/3486713291.py:6: FutureWarning: The frame.append method is deprecated and will be removed from pandas in a future version. Use pandas.concat instead.\n",
      "  outputs=outputs.append(output,sort=False)\n",
      "/var/tmp/rojasolvera/ipykernel_485947/3486713291.py:6: FutureWarning: The frame.append method is deprecated and will be removed from pandas in a future version. Use pandas.concat instead.\n",
      "  outputs=outputs.append(output,sort=False)\n",
      "/var/tmp/rojasolvera/ipykernel_485947/3486713291.py:6: FutureWarning: The frame.append method is deprecated and will be removed from pandas in a future version. Use pandas.concat instead.\n",
      "  outputs=outputs.append(output,sort=False)\n"
     ]
    },
    {
     "name": "stdout",
     "output_type": "stream",
     "text": [
      "1/1 [==============================] - 0s 25ms/step\n",
      "1/1 [==============================] - 0s 25ms/step\n"
     ]
    },
    {
     "name": "stderr",
     "output_type": "stream",
     "text": [
      "/var/tmp/rojasolvera/ipykernel_485947/3486713291.py:6: FutureWarning: The frame.append method is deprecated and will be removed from pandas in a future version. Use pandas.concat instead.\n",
      "  outputs=outputs.append(output,sort=False)\n",
      "/var/tmp/rojasolvera/ipykernel_485947/3486713291.py:6: FutureWarning: The frame.append method is deprecated and will be removed from pandas in a future version. Use pandas.concat instead.\n",
      "  outputs=outputs.append(output,sort=False)\n",
      "/var/tmp/rojasolvera/ipykernel_485947/3486713291.py:6: FutureWarning: The frame.append method is deprecated and will be removed from pandas in a future version. Use pandas.concat instead.\n",
      "  outputs=outputs.append(output,sort=False)\n"
     ]
    },
    {
     "name": "stdout",
     "output_type": "stream",
     "text": [
      "1/1 [==============================] - 0s 25ms/step\n",
      "1/1 [==============================] - 0s 24ms/step\n",
      "1/1 [==============================] - 0s 24ms/step\n",
      "1/1 [==============================] - 0s 24ms/step\n"
     ]
    },
    {
     "name": "stderr",
     "output_type": "stream",
     "text": [
      "/var/tmp/rojasolvera/ipykernel_485947/3486713291.py:6: FutureWarning: The frame.append method is deprecated and will be removed from pandas in a future version. Use pandas.concat instead.\n",
      "  outputs=outputs.append(output,sort=False)\n",
      "/var/tmp/rojasolvera/ipykernel_485947/3486713291.py:6: FutureWarning: The frame.append method is deprecated and will be removed from pandas in a future version. Use pandas.concat instead.\n",
      "  outputs=outputs.append(output,sort=False)\n",
      "/var/tmp/rojasolvera/ipykernel_485947/3486713291.py:6: FutureWarning: The frame.append method is deprecated and will be removed from pandas in a future version. Use pandas.concat instead.\n",
      "  outputs=outputs.append(output,sort=False)\n",
      "/var/tmp/rojasolvera/ipykernel_485947/3486713291.py:6: FutureWarning: The frame.append method is deprecated and will be removed from pandas in a future version. Use pandas.concat instead.\n",
      "  outputs=outputs.append(output,sort=False)\n"
     ]
    },
    {
     "name": "stdout",
     "output_type": "stream",
     "text": [
      "1/1 [==============================] - 0s 24ms/step\n",
      "1/1 [==============================] - 0s 25ms/step\n",
      "1/1 [==============================] - 0s 24ms/step\n",
      "1/1 [==============================] - 0s 25ms/step\n"
     ]
    },
    {
     "name": "stderr",
     "output_type": "stream",
     "text": [
      "/var/tmp/rojasolvera/ipykernel_485947/3486713291.py:6: FutureWarning: The frame.append method is deprecated and will be removed from pandas in a future version. Use pandas.concat instead.\n",
      "  outputs=outputs.append(output,sort=False)\n",
      "/var/tmp/rojasolvera/ipykernel_485947/3486713291.py:6: FutureWarning: The frame.append method is deprecated and will be removed from pandas in a future version. Use pandas.concat instead.\n",
      "  outputs=outputs.append(output,sort=False)\n",
      "/var/tmp/rojasolvera/ipykernel_485947/3486713291.py:6: FutureWarning: The frame.append method is deprecated and will be removed from pandas in a future version. Use pandas.concat instead.\n",
      "  outputs=outputs.append(output,sort=False)\n"
     ]
    },
    {
     "name": "stdout",
     "output_type": "stream",
     "text": [
      "1/1 [==============================] - 0s 24ms/step\n",
      "1/1 [==============================] - 0s 24ms/step\n"
     ]
    },
    {
     "name": "stderr",
     "output_type": "stream",
     "text": [
      "/var/tmp/rojasolvera/ipykernel_485947/3486713291.py:6: FutureWarning: The frame.append method is deprecated and will be removed from pandas in a future version. Use pandas.concat instead.\n",
      "  outputs=outputs.append(output,sort=False)\n",
      "/var/tmp/rojasolvera/ipykernel_485947/3486713291.py:6: FutureWarning: The frame.append method is deprecated and will be removed from pandas in a future version. Use pandas.concat instead.\n",
      "  outputs=outputs.append(output,sort=False)\n",
      "/var/tmp/rojasolvera/ipykernel_485947/3486713291.py:6: FutureWarning: The frame.append method is deprecated and will be removed from pandas in a future version. Use pandas.concat instead.\n",
      "  outputs=outputs.append(output,sort=False)\n"
     ]
    },
    {
     "name": "stdout",
     "output_type": "stream",
     "text": [
      "1/1 [==============================] - 0s 25ms/step\n",
      "1/1 [==============================] - 0s 25ms/step\n",
      "1/1 [==============================] - 0s 27ms/step\n"
     ]
    },
    {
     "name": "stderr",
     "output_type": "stream",
     "text": [
      "/var/tmp/rojasolvera/ipykernel_485947/3486713291.py:6: FutureWarning: The frame.append method is deprecated and will be removed from pandas in a future version. Use pandas.concat instead.\n",
      "  outputs=outputs.append(output,sort=False)\n",
      "/var/tmp/rojasolvera/ipykernel_485947/3486713291.py:6: FutureWarning: The frame.append method is deprecated and will be removed from pandas in a future version. Use pandas.concat instead.\n",
      "  outputs=outputs.append(output,sort=False)\n",
      "/var/tmp/rojasolvera/ipykernel_485947/3486713291.py:6: FutureWarning: The frame.append method is deprecated and will be removed from pandas in a future version. Use pandas.concat instead.\n",
      "  outputs=outputs.append(output,sort=False)\n"
     ]
    },
    {
     "name": "stdout",
     "output_type": "stream",
     "text": [
      "1/1 [==============================] - 0s 25ms/step\n",
      "1/1 [==============================] - 0s 24ms/step\n",
      "1/1 [==============================] - 0s 24ms/step\n",
      "1/1 [==============================] - 0s 24ms/step\n"
     ]
    },
    {
     "name": "stderr",
     "output_type": "stream",
     "text": [
      "/var/tmp/rojasolvera/ipykernel_485947/3486713291.py:6: FutureWarning: The frame.append method is deprecated and will be removed from pandas in a future version. Use pandas.concat instead.\n",
      "  outputs=outputs.append(output,sort=False)\n",
      "/var/tmp/rojasolvera/ipykernel_485947/3486713291.py:6: FutureWarning: The frame.append method is deprecated and will be removed from pandas in a future version. Use pandas.concat instead.\n",
      "  outputs=outputs.append(output,sort=False)\n",
      "/var/tmp/rojasolvera/ipykernel_485947/3486713291.py:6: FutureWarning: The frame.append method is deprecated and will be removed from pandas in a future version. Use pandas.concat instead.\n",
      "  outputs=outputs.append(output,sort=False)\n",
      "/var/tmp/rojasolvera/ipykernel_485947/3486713291.py:6: FutureWarning: The frame.append method is deprecated and will be removed from pandas in a future version. Use pandas.concat instead.\n",
      "  outputs=outputs.append(output,sort=False)\n"
     ]
    },
    {
     "name": "stdout",
     "output_type": "stream",
     "text": [
      "1/1 [==============================] - 0s 25ms/step\n",
      "1/1 [==============================] - 0s 22ms/step\n",
      "1/1 [==============================] - 0s 24ms/step\n",
      "1/1 [==============================] - 0s 24ms/step\n"
     ]
    },
    {
     "name": "stderr",
     "output_type": "stream",
     "text": [
      "/var/tmp/rojasolvera/ipykernel_485947/3486713291.py:6: FutureWarning: The frame.append method is deprecated and will be removed from pandas in a future version. Use pandas.concat instead.\n",
      "  outputs=outputs.append(output,sort=False)\n",
      "/var/tmp/rojasolvera/ipykernel_485947/3486713291.py:6: FutureWarning: The frame.append method is deprecated and will be removed from pandas in a future version. Use pandas.concat instead.\n",
      "  outputs=outputs.append(output,sort=False)\n",
      "/var/tmp/rojasolvera/ipykernel_485947/3486713291.py:6: FutureWarning: The frame.append method is deprecated and will be removed from pandas in a future version. Use pandas.concat instead.\n",
      "  outputs=outputs.append(output,sort=False)\n",
      "/var/tmp/rojasolvera/ipykernel_485947/3486713291.py:6: FutureWarning: The frame.append method is deprecated and will be removed from pandas in a future version. Use pandas.concat instead.\n",
      "  outputs=outputs.append(output,sort=False)\n"
     ]
    },
    {
     "name": "stdout",
     "output_type": "stream",
     "text": [
      "1/1 [==============================] - 0s 25ms/step\n",
      "1/1 [==============================] - 0s 24ms/step\n",
      "1/1 [==============================] - 0s 24ms/step\n"
     ]
    },
    {
     "name": "stderr",
     "output_type": "stream",
     "text": [
      "/var/tmp/rojasolvera/ipykernel_485947/3486713291.py:6: FutureWarning: The frame.append method is deprecated and will be removed from pandas in a future version. Use pandas.concat instead.\n",
      "  outputs=outputs.append(output,sort=False)\n",
      "/var/tmp/rojasolvera/ipykernel_485947/3486713291.py:6: FutureWarning: The frame.append method is deprecated and will be removed from pandas in a future version. Use pandas.concat instead.\n",
      "  outputs=outputs.append(output,sort=False)\n",
      "/var/tmp/rojasolvera/ipykernel_485947/3486713291.py:6: FutureWarning: The frame.append method is deprecated and will be removed from pandas in a future version. Use pandas.concat instead.\n",
      "  outputs=outputs.append(output,sort=False)\n"
     ]
    },
    {
     "name": "stdout",
     "output_type": "stream",
     "text": [
      "1/1 [==============================] - 0s 26ms/step\n",
      "1/1 [==============================] - 0s 23ms/step\n",
      "1/1 [==============================] - 0s 25ms/step\n",
      "1/1 [==============================] - 0s 23ms/step\n"
     ]
    },
    {
     "name": "stderr",
     "output_type": "stream",
     "text": [
      "/var/tmp/rojasolvera/ipykernel_485947/3486713291.py:6: FutureWarning: The frame.append method is deprecated and will be removed from pandas in a future version. Use pandas.concat instead.\n",
      "  outputs=outputs.append(output,sort=False)\n",
      "/var/tmp/rojasolvera/ipykernel_485947/3486713291.py:6: FutureWarning: The frame.append method is deprecated and will be removed from pandas in a future version. Use pandas.concat instead.\n",
      "  outputs=outputs.append(output,sort=False)\n",
      "/var/tmp/rojasolvera/ipykernel_485947/3486713291.py:6: FutureWarning: The frame.append method is deprecated and will be removed from pandas in a future version. Use pandas.concat instead.\n",
      "  outputs=outputs.append(output,sort=False)\n",
      "/var/tmp/rojasolvera/ipykernel_485947/3486713291.py:6: FutureWarning: The frame.append method is deprecated and will be removed from pandas in a future version. Use pandas.concat instead.\n",
      "  outputs=outputs.append(output,sort=False)\n"
     ]
    },
    {
     "name": "stdout",
     "output_type": "stream",
     "text": [
      "1/1 [==============================] - 0s 24ms/step\n",
      "1/1 [==============================] - 0s 23ms/step\n",
      "1/1 [==============================] - 0s 22ms/step\n",
      "1/1 [==============================] - 0s 25ms/step\n"
     ]
    },
    {
     "name": "stderr",
     "output_type": "stream",
     "text": [
      "/var/tmp/rojasolvera/ipykernel_485947/3486713291.py:6: FutureWarning: The frame.append method is deprecated and will be removed from pandas in a future version. Use pandas.concat instead.\n",
      "  outputs=outputs.append(output,sort=False)\n",
      "/var/tmp/rojasolvera/ipykernel_485947/3486713291.py:6: FutureWarning: The frame.append method is deprecated and will be removed from pandas in a future version. Use pandas.concat instead.\n",
      "  outputs=outputs.append(output,sort=False)\n",
      "/var/tmp/rojasolvera/ipykernel_485947/3486713291.py:6: FutureWarning: The frame.append method is deprecated and will be removed from pandas in a future version. Use pandas.concat instead.\n",
      "  outputs=outputs.append(output,sort=False)\n",
      "/var/tmp/rojasolvera/ipykernel_485947/3486713291.py:6: FutureWarning: The frame.append method is deprecated and will be removed from pandas in a future version. Use pandas.concat instead.\n",
      "  outputs=outputs.append(output,sort=False)\n"
     ]
    },
    {
     "name": "stdout",
     "output_type": "stream",
     "text": [
      "1/1 [==============================] - 0s 23ms/step\n",
      "1/1 [==============================] - 0s 26ms/step\n",
      "1/1 [==============================] - 0s 24ms/step\n"
     ]
    },
    {
     "name": "stderr",
     "output_type": "stream",
     "text": [
      "/var/tmp/rojasolvera/ipykernel_485947/3486713291.py:6: FutureWarning: The frame.append method is deprecated and will be removed from pandas in a future version. Use pandas.concat instead.\n",
      "  outputs=outputs.append(output,sort=False)\n",
      "/var/tmp/rojasolvera/ipykernel_485947/3486713291.py:6: FutureWarning: The frame.append method is deprecated and will be removed from pandas in a future version. Use pandas.concat instead.\n",
      "  outputs=outputs.append(output,sort=False)\n",
      "/var/tmp/rojasolvera/ipykernel_485947/3486713291.py:6: FutureWarning: The frame.append method is deprecated and will be removed from pandas in a future version. Use pandas.concat instead.\n",
      "  outputs=outputs.append(output,sort=False)\n"
     ]
    },
    {
     "name": "stdout",
     "output_type": "stream",
     "text": [
      "1/1 [==============================] - 0s 26ms/step\n",
      "1/1 [==============================] - 0s 24ms/step\n",
      "1/1 [==============================] - 0s 23ms/step\n",
      "1/1 [==============================] - 0s 24ms/step\n"
     ]
    },
    {
     "name": "stderr",
     "output_type": "stream",
     "text": [
      "/var/tmp/rojasolvera/ipykernel_485947/3486713291.py:6: FutureWarning: The frame.append method is deprecated and will be removed from pandas in a future version. Use pandas.concat instead.\n",
      "  outputs=outputs.append(output,sort=False)\n",
      "/var/tmp/rojasolvera/ipykernel_485947/3486713291.py:6: FutureWarning: The frame.append method is deprecated and will be removed from pandas in a future version. Use pandas.concat instead.\n",
      "  outputs=outputs.append(output,sort=False)\n",
      "/var/tmp/rojasolvera/ipykernel_485947/3486713291.py:6: FutureWarning: The frame.append method is deprecated and will be removed from pandas in a future version. Use pandas.concat instead.\n",
      "  outputs=outputs.append(output,sort=False)\n",
      "/var/tmp/rojasolvera/ipykernel_485947/3486713291.py:6: FutureWarning: The frame.append method is deprecated and will be removed from pandas in a future version. Use pandas.concat instead.\n",
      "  outputs=outputs.append(output,sort=False)\n"
     ]
    },
    {
     "name": "stdout",
     "output_type": "stream",
     "text": [
      "1/1 [==============================] - 0s 22ms/step\n",
      "1/1 [==============================] - 0s 23ms/step\n",
      "1/1 [==============================] - 0s 22ms/step\n",
      "1/1 [==============================] - 0s 24ms/step\n"
     ]
    },
    {
     "name": "stderr",
     "output_type": "stream",
     "text": [
      "/var/tmp/rojasolvera/ipykernel_485947/3486713291.py:6: FutureWarning: The frame.append method is deprecated and will be removed from pandas in a future version. Use pandas.concat instead.\n",
      "  outputs=outputs.append(output,sort=False)\n",
      "/var/tmp/rojasolvera/ipykernel_485947/3486713291.py:6: FutureWarning: The frame.append method is deprecated and will be removed from pandas in a future version. Use pandas.concat instead.\n",
      "  outputs=outputs.append(output,sort=False)\n",
      "/var/tmp/rojasolvera/ipykernel_485947/3486713291.py:6: FutureWarning: The frame.append method is deprecated and will be removed from pandas in a future version. Use pandas.concat instead.\n",
      "  outputs=outputs.append(output,sort=False)\n"
     ]
    },
    {
     "name": "stdout",
     "output_type": "stream",
     "text": [
      "1/1 [==============================] - 0s 24ms/step\n",
      "1/1 [==============================] - 0s 23ms/step\n",
      "1/1 [==============================] - 0s 24ms/step\n"
     ]
    },
    {
     "name": "stderr",
     "output_type": "stream",
     "text": [
      "/var/tmp/rojasolvera/ipykernel_485947/3486713291.py:6: FutureWarning: The frame.append method is deprecated and will be removed from pandas in a future version. Use pandas.concat instead.\n",
      "  outputs=outputs.append(output,sort=False)\n",
      "/var/tmp/rojasolvera/ipykernel_485947/3486713291.py:6: FutureWarning: The frame.append method is deprecated and will be removed from pandas in a future version. Use pandas.concat instead.\n",
      "  outputs=outputs.append(output,sort=False)\n",
      "/var/tmp/rojasolvera/ipykernel_485947/3486713291.py:6: FutureWarning: The frame.append method is deprecated and will be removed from pandas in a future version. Use pandas.concat instead.\n",
      "  outputs=outputs.append(output,sort=False)\n"
     ]
    },
    {
     "name": "stdout",
     "output_type": "stream",
     "text": [
      "1/1 [==============================] - 0s 24ms/step\n",
      "1/1 [==============================] - 0s 24ms/step\n",
      "1/1 [==============================] - 0s 23ms/step\n"
     ]
    },
    {
     "name": "stderr",
     "output_type": "stream",
     "text": [
      "/var/tmp/rojasolvera/ipykernel_485947/3486713291.py:6: FutureWarning: The frame.append method is deprecated and will be removed from pandas in a future version. Use pandas.concat instead.\n",
      "  outputs=outputs.append(output,sort=False)\n",
      "/var/tmp/rojasolvera/ipykernel_485947/3486713291.py:6: FutureWarning: The frame.append method is deprecated and will be removed from pandas in a future version. Use pandas.concat instead.\n",
      "  outputs=outputs.append(output,sort=False)\n",
      "/var/tmp/rojasolvera/ipykernel_485947/3486713291.py:6: FutureWarning: The frame.append method is deprecated and will be removed from pandas in a future version. Use pandas.concat instead.\n",
      "  outputs=outputs.append(output,sort=False)\n",
      "/var/tmp/rojasolvera/ipykernel_485947/3486713291.py:6: FutureWarning: The frame.append method is deprecated and will be removed from pandas in a future version. Use pandas.concat instead.\n",
      "  outputs=outputs.append(output,sort=False)\n"
     ]
    },
    {
     "name": "stdout",
     "output_type": "stream",
     "text": [
      "1/1 [==============================] - 0s 23ms/step\n",
      "1/1 [==============================] - 0s 21ms/step\n",
      "1/1 [==============================] - 0s 24ms/step\n",
      "1/1 [==============================] - 0s 22ms/step\n"
     ]
    },
    {
     "name": "stderr",
     "output_type": "stream",
     "text": [
      "/var/tmp/rojasolvera/ipykernel_485947/3486713291.py:6: FutureWarning: The frame.append method is deprecated and will be removed from pandas in a future version. Use pandas.concat instead.\n",
      "  outputs=outputs.append(output,sort=False)\n",
      "/var/tmp/rojasolvera/ipykernel_485947/3486713291.py:6: FutureWarning: The frame.append method is deprecated and will be removed from pandas in a future version. Use pandas.concat instead.\n",
      "  outputs=outputs.append(output,sort=False)\n",
      "/var/tmp/rojasolvera/ipykernel_485947/3486713291.py:6: FutureWarning: The frame.append method is deprecated and will be removed from pandas in a future version. Use pandas.concat instead.\n",
      "  outputs=outputs.append(output,sort=False)\n",
      "/var/tmp/rojasolvera/ipykernel_485947/3486713291.py:6: FutureWarning: The frame.append method is deprecated and will be removed from pandas in a future version. Use pandas.concat instead.\n",
      "  outputs=outputs.append(output,sort=False)\n"
     ]
    },
    {
     "name": "stdout",
     "output_type": "stream",
     "text": [
      "1/1 [==============================] - 0s 23ms/step\n",
      "1/1 [==============================] - 0s 28ms/step\n",
      "1/1 [==============================] - 0s 22ms/step\n",
      "1/1 [==============================] - 0s 25ms/step\n"
     ]
    },
    {
     "name": "stderr",
     "output_type": "stream",
     "text": [
      "/var/tmp/rojasolvera/ipykernel_485947/3486713291.py:6: FutureWarning: The frame.append method is deprecated and will be removed from pandas in a future version. Use pandas.concat instead.\n",
      "  outputs=outputs.append(output,sort=False)\n",
      "/var/tmp/rojasolvera/ipykernel_485947/3486713291.py:6: FutureWarning: The frame.append method is deprecated and will be removed from pandas in a future version. Use pandas.concat instead.\n",
      "  outputs=outputs.append(output,sort=False)\n",
      "/var/tmp/rojasolvera/ipykernel_485947/3486713291.py:6: FutureWarning: The frame.append method is deprecated and will be removed from pandas in a future version. Use pandas.concat instead.\n",
      "  outputs=outputs.append(output,sort=False)\n"
     ]
    },
    {
     "name": "stdout",
     "output_type": "stream",
     "text": [
      "1/1 [==============================] - 0s 23ms/step\n",
      "1/1 [==============================] - 0s 23ms/step\n"
     ]
    },
    {
     "name": "stderr",
     "output_type": "stream",
     "text": [
      "/var/tmp/rojasolvera/ipykernel_485947/3486713291.py:6: FutureWarning: The frame.append method is deprecated and will be removed from pandas in a future version. Use pandas.concat instead.\n",
      "  outputs=outputs.append(output,sort=False)\n",
      "/var/tmp/rojasolvera/ipykernel_485947/3486713291.py:6: FutureWarning: The frame.append method is deprecated and will be removed from pandas in a future version. Use pandas.concat instead.\n",
      "  outputs=outputs.append(output,sort=False)\n",
      "/var/tmp/rojasolvera/ipykernel_485947/3486713291.py:6: FutureWarning: The frame.append method is deprecated and will be removed from pandas in a future version. Use pandas.concat instead.\n",
      "  outputs=outputs.append(output,sort=False)\n"
     ]
    },
    {
     "name": "stdout",
     "output_type": "stream",
     "text": [
      "1/1 [==============================] - 0s 23ms/step\n",
      "1/1 [==============================] - 0s 22ms/step\n",
      "1/1 [==============================] - 0s 22ms/step\n",
      "1/1 [==============================] - 0s 23ms/step\n"
     ]
    },
    {
     "name": "stderr",
     "output_type": "stream",
     "text": [
      "/var/tmp/rojasolvera/ipykernel_485947/3486713291.py:6: FutureWarning: The frame.append method is deprecated and will be removed from pandas in a future version. Use pandas.concat instead.\n",
      "  outputs=outputs.append(output,sort=False)\n",
      "/var/tmp/rojasolvera/ipykernel_485947/3486713291.py:6: FutureWarning: The frame.append method is deprecated and will be removed from pandas in a future version. Use pandas.concat instead.\n",
      "  outputs=outputs.append(output,sort=False)\n",
      "/var/tmp/rojasolvera/ipykernel_485947/3486713291.py:6: FutureWarning: The frame.append method is deprecated and will be removed from pandas in a future version. Use pandas.concat instead.\n",
      "  outputs=outputs.append(output,sort=False)\n",
      "/var/tmp/rojasolvera/ipykernel_485947/3486713291.py:6: FutureWarning: The frame.append method is deprecated and will be removed from pandas in a future version. Use pandas.concat instead.\n",
      "  outputs=outputs.append(output,sort=False)\n"
     ]
    },
    {
     "name": "stdout",
     "output_type": "stream",
     "text": [
      "1/1 [==============================] - 0s 23ms/step\n",
      "1/1 [==============================] - 0s 21ms/step\n",
      "1/1 [==============================] - 0s 24ms/step\n",
      "1/1 [==============================] - 0s 23ms/step\n"
     ]
    },
    {
     "name": "stderr",
     "output_type": "stream",
     "text": [
      "/var/tmp/rojasolvera/ipykernel_485947/3486713291.py:6: FutureWarning: The frame.append method is deprecated and will be removed from pandas in a future version. Use pandas.concat instead.\n",
      "  outputs=outputs.append(output,sort=False)\n",
      "/var/tmp/rojasolvera/ipykernel_485947/3486713291.py:6: FutureWarning: The frame.append method is deprecated and will be removed from pandas in a future version. Use pandas.concat instead.\n",
      "  outputs=outputs.append(output,sort=False)\n",
      "/var/tmp/rojasolvera/ipykernel_485947/3486713291.py:6: FutureWarning: The frame.append method is deprecated and will be removed from pandas in a future version. Use pandas.concat instead.\n",
      "  outputs=outputs.append(output,sort=False)\n",
      "/var/tmp/rojasolvera/ipykernel_485947/3486713291.py:6: FutureWarning: The frame.append method is deprecated and will be removed from pandas in a future version. Use pandas.concat instead.\n",
      "  outputs=outputs.append(output,sort=False)\n"
     ]
    },
    {
     "name": "stdout",
     "output_type": "stream",
     "text": [
      "1/1 [==============================] - 0s 22ms/step\n",
      "1/1 [==============================] - 0s 21ms/step\n",
      "1/1 [==============================] - 0s 23ms/step\n",
      "1/1 [==============================] - 0s 21ms/step\n"
     ]
    },
    {
     "name": "stderr",
     "output_type": "stream",
     "text": [
      "/var/tmp/rojasolvera/ipykernel_485947/3486713291.py:6: FutureWarning: The frame.append method is deprecated and will be removed from pandas in a future version. Use pandas.concat instead.\n",
      "  outputs=outputs.append(output,sort=False)\n",
      "/var/tmp/rojasolvera/ipykernel_485947/3486713291.py:6: FutureWarning: The frame.append method is deprecated and will be removed from pandas in a future version. Use pandas.concat instead.\n",
      "  outputs=outputs.append(output,sort=False)\n",
      "/var/tmp/rojasolvera/ipykernel_485947/3486713291.py:6: FutureWarning: The frame.append method is deprecated and will be removed from pandas in a future version. Use pandas.concat instead.\n",
      "  outputs=outputs.append(output,sort=False)\n",
      "/var/tmp/rojasolvera/ipykernel_485947/3486713291.py:6: FutureWarning: The frame.append method is deprecated and will be removed from pandas in a future version. Use pandas.concat instead.\n",
      "  outputs=outputs.append(output,sort=False)\n"
     ]
    },
    {
     "name": "stdout",
     "output_type": "stream",
     "text": [
      "1/1 [==============================] - 0s 24ms/step\n",
      "1/1 [==============================] - 0s 23ms/step\n",
      "1/1 [==============================] - 0s 22ms/step\n",
      "1/1 [==============================] - 0s 23ms/step\n"
     ]
    },
    {
     "name": "stderr",
     "output_type": "stream",
     "text": [
      "/var/tmp/rojasolvera/ipykernel_485947/3486713291.py:6: FutureWarning: The frame.append method is deprecated and will be removed from pandas in a future version. Use pandas.concat instead.\n",
      "  outputs=outputs.append(output,sort=False)\n",
      "/var/tmp/rojasolvera/ipykernel_485947/3486713291.py:6: FutureWarning: The frame.append method is deprecated and will be removed from pandas in a future version. Use pandas.concat instead.\n",
      "  outputs=outputs.append(output,sort=False)\n",
      "/var/tmp/rojasolvera/ipykernel_485947/3486713291.py:6: FutureWarning: The frame.append method is deprecated and will be removed from pandas in a future version. Use pandas.concat instead.\n",
      "  outputs=outputs.append(output,sort=False)\n"
     ]
    },
    {
     "name": "stdout",
     "output_type": "stream",
     "text": [
      "1/1 [==============================] - 0s 23ms/step\n",
      "1/1 [==============================] - 0s 31ms/step\n"
     ]
    },
    {
     "name": "stderr",
     "output_type": "stream",
     "text": [
      "/var/tmp/rojasolvera/ipykernel_485947/3486713291.py:6: FutureWarning: The frame.append method is deprecated and will be removed from pandas in a future version. Use pandas.concat instead.\n",
      "  outputs=outputs.append(output,sort=False)\n",
      "/var/tmp/rojasolvera/ipykernel_485947/3486713291.py:6: FutureWarning: The frame.append method is deprecated and will be removed from pandas in a future version. Use pandas.concat instead.\n",
      "  outputs=outputs.append(output,sort=False)\n",
      "/var/tmp/rojasolvera/ipykernel_485947/3486713291.py:6: FutureWarning: The frame.append method is deprecated and will be removed from pandas in a future version. Use pandas.concat instead.\n",
      "  outputs=outputs.append(output,sort=False)\n"
     ]
    },
    {
     "name": "stdout",
     "output_type": "stream",
     "text": [
      "1/1 [==============================] - 0s 23ms/step\n",
      "1/1 [==============================] - 0s 21ms/step\n",
      "1/1 [==============================] - 0s 22ms/step\n",
      "1/1 [==============================] - 0s 21ms/step\n"
     ]
    },
    {
     "name": "stderr",
     "output_type": "stream",
     "text": [
      "/var/tmp/rojasolvera/ipykernel_485947/3486713291.py:6: FutureWarning: The frame.append method is deprecated and will be removed from pandas in a future version. Use pandas.concat instead.\n",
      "  outputs=outputs.append(output,sort=False)\n",
      "/var/tmp/rojasolvera/ipykernel_485947/3486713291.py:6: FutureWarning: The frame.append method is deprecated and will be removed from pandas in a future version. Use pandas.concat instead.\n",
      "  outputs=outputs.append(output,sort=False)\n",
      "/var/tmp/rojasolvera/ipykernel_485947/3486713291.py:6: FutureWarning: The frame.append method is deprecated and will be removed from pandas in a future version. Use pandas.concat instead.\n",
      "  outputs=outputs.append(output,sort=False)\n",
      "/var/tmp/rojasolvera/ipykernel_485947/3486713291.py:6: FutureWarning: The frame.append method is deprecated and will be removed from pandas in a future version. Use pandas.concat instead.\n",
      "  outputs=outputs.append(output,sort=False)\n"
     ]
    },
    {
     "name": "stdout",
     "output_type": "stream",
     "text": [
      "1/1 [==============================] - 0s 23ms/step\n",
      "1/1 [==============================] - 0s 21ms/step\n",
      "1/1 [==============================] - 0s 22ms/step\n",
      "1/1 [==============================] - 0s 22ms/step\n"
     ]
    },
    {
     "name": "stderr",
     "output_type": "stream",
     "text": [
      "/var/tmp/rojasolvera/ipykernel_485947/3486713291.py:6: FutureWarning: The frame.append method is deprecated and will be removed from pandas in a future version. Use pandas.concat instead.\n",
      "  outputs=outputs.append(output,sort=False)\n",
      "/var/tmp/rojasolvera/ipykernel_485947/3486713291.py:6: FutureWarning: The frame.append method is deprecated and will be removed from pandas in a future version. Use pandas.concat instead.\n",
      "  outputs=outputs.append(output,sort=False)\n",
      "/var/tmp/rojasolvera/ipykernel_485947/3486713291.py:6: FutureWarning: The frame.append method is deprecated and will be removed from pandas in a future version. Use pandas.concat instead.\n",
      "  outputs=outputs.append(output,sort=False)\n",
      "/var/tmp/rojasolvera/ipykernel_485947/3486713291.py:6: FutureWarning: The frame.append method is deprecated and will be removed from pandas in a future version. Use pandas.concat instead.\n",
      "  outputs=outputs.append(output,sort=False)\n"
     ]
    },
    {
     "name": "stdout",
     "output_type": "stream",
     "text": [
      "1/1 [==============================] - 0s 22ms/step\n",
      "1/1 [==============================] - 0s 22ms/step\n",
      "1/1 [==============================] - 0s 23ms/step\n",
      "1/1 [==============================] - 0s 23ms/step\n"
     ]
    },
    {
     "name": "stderr",
     "output_type": "stream",
     "text": [
      "/var/tmp/rojasolvera/ipykernel_485947/3486713291.py:6: FutureWarning: The frame.append method is deprecated and will be removed from pandas in a future version. Use pandas.concat instead.\n",
      "  outputs=outputs.append(output,sort=False)\n",
      "/var/tmp/rojasolvera/ipykernel_485947/3486713291.py:6: FutureWarning: The frame.append method is deprecated and will be removed from pandas in a future version. Use pandas.concat instead.\n",
      "  outputs=outputs.append(output,sort=False)\n",
      "/var/tmp/rojasolvera/ipykernel_485947/3486713291.py:6: FutureWarning: The frame.append method is deprecated and will be removed from pandas in a future version. Use pandas.concat instead.\n",
      "  outputs=outputs.append(output,sort=False)\n",
      "/var/tmp/rojasolvera/ipykernel_485947/3486713291.py:6: FutureWarning: The frame.append method is deprecated and will be removed from pandas in a future version. Use pandas.concat instead.\n",
      "  outputs=outputs.append(output,sort=False)\n"
     ]
    },
    {
     "name": "stdout",
     "output_type": "stream",
     "text": [
      "1/1 [==============================] - 0s 25ms/step\n",
      "1/1 [==============================] - 0s 23ms/step\n",
      "1/1 [==============================] - 0s 21ms/step\n",
      "1/1 [==============================] - 0s 22ms/step\n"
     ]
    },
    {
     "name": "stderr",
     "output_type": "stream",
     "text": [
      "/var/tmp/rojasolvera/ipykernel_485947/3486713291.py:6: FutureWarning: The frame.append method is deprecated and will be removed from pandas in a future version. Use pandas.concat instead.\n",
      "  outputs=outputs.append(output,sort=False)\n",
      "/var/tmp/rojasolvera/ipykernel_485947/3486713291.py:6: FutureWarning: The frame.append method is deprecated and will be removed from pandas in a future version. Use pandas.concat instead.\n",
      "  outputs=outputs.append(output,sort=False)\n",
      "/var/tmp/rojasolvera/ipykernel_485947/3486713291.py:6: FutureWarning: The frame.append method is deprecated and will be removed from pandas in a future version. Use pandas.concat instead.\n",
      "  outputs=outputs.append(output,sort=False)\n",
      "/var/tmp/rojasolvera/ipykernel_485947/3486713291.py:6: FutureWarning: The frame.append method is deprecated and will be removed from pandas in a future version. Use pandas.concat instead.\n",
      "  outputs=outputs.append(output,sort=False)\n"
     ]
    },
    {
     "name": "stdout",
     "output_type": "stream",
     "text": [
      "1/1 [==============================] - 0s 23ms/step\n",
      "1/1 [==============================] - 0s 21ms/step\n",
      "1/1 [==============================] - 0s 22ms/step\n",
      "1/1 [==============================] - 0s 21ms/step\n"
     ]
    },
    {
     "name": "stderr",
     "output_type": "stream",
     "text": [
      "/var/tmp/rojasolvera/ipykernel_485947/3486713291.py:6: FutureWarning: The frame.append method is deprecated and will be removed from pandas in a future version. Use pandas.concat instead.\n",
      "  outputs=outputs.append(output,sort=False)\n",
      "/var/tmp/rojasolvera/ipykernel_485947/3486713291.py:6: FutureWarning: The frame.append method is deprecated and will be removed from pandas in a future version. Use pandas.concat instead.\n",
      "  outputs=outputs.append(output,sort=False)\n",
      "/var/tmp/rojasolvera/ipykernel_485947/3486713291.py:6: FutureWarning: The frame.append method is deprecated and will be removed from pandas in a future version. Use pandas.concat instead.\n",
      "  outputs=outputs.append(output,sort=False)\n",
      "/var/tmp/rojasolvera/ipykernel_485947/3486713291.py:6: FutureWarning: The frame.append method is deprecated and will be removed from pandas in a future version. Use pandas.concat instead.\n",
      "  outputs=outputs.append(output,sort=False)\n"
     ]
    },
    {
     "name": "stdout",
     "output_type": "stream",
     "text": [
      "1/1 [==============================] - 0s 24ms/step\n",
      "1/1 [==============================] - 0s 23ms/step\n",
      "1/1 [==============================] - 0s 25ms/step\n",
      "1/1 [==============================] - 0s 23ms/step\n"
     ]
    },
    {
     "name": "stderr",
     "output_type": "stream",
     "text": [
      "/var/tmp/rojasolvera/ipykernel_485947/3486713291.py:6: FutureWarning: The frame.append method is deprecated and will be removed from pandas in a future version. Use pandas.concat instead.\n",
      "  outputs=outputs.append(output,sort=False)\n",
      "/var/tmp/rojasolvera/ipykernel_485947/3486713291.py:6: FutureWarning: The frame.append method is deprecated and will be removed from pandas in a future version. Use pandas.concat instead.\n",
      "  outputs=outputs.append(output,sort=False)\n",
      "/var/tmp/rojasolvera/ipykernel_485947/3486713291.py:6: FutureWarning: The frame.append method is deprecated and will be removed from pandas in a future version. Use pandas.concat instead.\n",
      "  outputs=outputs.append(output,sort=False)\n",
      "/var/tmp/rojasolvera/ipykernel_485947/3486713291.py:6: FutureWarning: The frame.append method is deprecated and will be removed from pandas in a future version. Use pandas.concat instead.\n",
      "  outputs=outputs.append(output,sort=False)\n"
     ]
    },
    {
     "name": "stdout",
     "output_type": "stream",
     "text": [
      "1/1 [==============================] - 0s 23ms/step\n",
      "1/1 [==============================] - 0s 22ms/step\n",
      "1/1 [==============================] - 0s 22ms/step\n",
      "1/1 [==============================] - 0s 22ms/step\n"
     ]
    },
    {
     "name": "stderr",
     "output_type": "stream",
     "text": [
      "/var/tmp/rojasolvera/ipykernel_485947/3486713291.py:6: FutureWarning: The frame.append method is deprecated and will be removed from pandas in a future version. Use pandas.concat instead.\n",
      "  outputs=outputs.append(output,sort=False)\n",
      "/var/tmp/rojasolvera/ipykernel_485947/3486713291.py:6: FutureWarning: The frame.append method is deprecated and will be removed from pandas in a future version. Use pandas.concat instead.\n",
      "  outputs=outputs.append(output,sort=False)\n",
      "/var/tmp/rojasolvera/ipykernel_485947/3486713291.py:6: FutureWarning: The frame.append method is deprecated and will be removed from pandas in a future version. Use pandas.concat instead.\n",
      "  outputs=outputs.append(output,sort=False)\n",
      "/var/tmp/rojasolvera/ipykernel_485947/3486713291.py:6: FutureWarning: The frame.append method is deprecated and will be removed from pandas in a future version. Use pandas.concat instead.\n",
      "  outputs=outputs.append(output,sort=False)\n"
     ]
    },
    {
     "name": "stdout",
     "output_type": "stream",
     "text": [
      "1/1 [==============================] - 0s 23ms/step\n",
      "1/1 [==============================] - 0s 21ms/step\n",
      "1/1 [==============================] - 0s 21ms/step\n",
      "1/1 [==============================] - 0s 23ms/step\n"
     ]
    },
    {
     "name": "stderr",
     "output_type": "stream",
     "text": [
      "/var/tmp/rojasolvera/ipykernel_485947/3486713291.py:6: FutureWarning: The frame.append method is deprecated and will be removed from pandas in a future version. Use pandas.concat instead.\n",
      "  outputs=outputs.append(output,sort=False)\n",
      "/var/tmp/rojasolvera/ipykernel_485947/3486713291.py:6: FutureWarning: The frame.append method is deprecated and will be removed from pandas in a future version. Use pandas.concat instead.\n",
      "  outputs=outputs.append(output,sort=False)\n",
      "/var/tmp/rojasolvera/ipykernel_485947/3486713291.py:6: FutureWarning: The frame.append method is deprecated and will be removed from pandas in a future version. Use pandas.concat instead.\n",
      "  outputs=outputs.append(output,sort=False)\n",
      "/var/tmp/rojasolvera/ipykernel_485947/3486713291.py:6: FutureWarning: The frame.append method is deprecated and will be removed from pandas in a future version. Use pandas.concat instead.\n",
      "  outputs=outputs.append(output,sort=False)\n"
     ]
    },
    {
     "name": "stdout",
     "output_type": "stream",
     "text": [
      "1/1 [==============================] - 0s 24ms/step\n",
      "1/1 [==============================] - 0s 21ms/step\n",
      "1/1 [==============================] - 0s 21ms/step\n",
      "1/1 [==============================] - 0s 22ms/step\n"
     ]
    },
    {
     "name": "stderr",
     "output_type": "stream",
     "text": [
      "/var/tmp/rojasolvera/ipykernel_485947/3486713291.py:6: FutureWarning: The frame.append method is deprecated and will be removed from pandas in a future version. Use pandas.concat instead.\n",
      "  outputs=outputs.append(output,sort=False)\n",
      "/var/tmp/rojasolvera/ipykernel_485947/3486713291.py:6: FutureWarning: The frame.append method is deprecated and will be removed from pandas in a future version. Use pandas.concat instead.\n",
      "  outputs=outputs.append(output,sort=False)\n",
      "/var/tmp/rojasolvera/ipykernel_485947/3486713291.py:6: FutureWarning: The frame.append method is deprecated and will be removed from pandas in a future version. Use pandas.concat instead.\n",
      "  outputs=outputs.append(output,sort=False)\n",
      "/var/tmp/rojasolvera/ipykernel_485947/3486713291.py:6: FutureWarning: The frame.append method is deprecated and will be removed from pandas in a future version. Use pandas.concat instead.\n",
      "  outputs=outputs.append(output,sort=False)\n"
     ]
    },
    {
     "name": "stdout",
     "output_type": "stream",
     "text": [
      "1/1 [==============================] - 0s 22ms/step\n",
      "1/1 [==============================] - 0s 21ms/step\n",
      "1/1 [==============================] - 0s 22ms/step\n",
      "1/1 [==============================] - 0s 23ms/step\n"
     ]
    },
    {
     "name": "stderr",
     "output_type": "stream",
     "text": [
      "/var/tmp/rojasolvera/ipykernel_485947/3486713291.py:6: FutureWarning: The frame.append method is deprecated and will be removed from pandas in a future version. Use pandas.concat instead.\n",
      "  outputs=outputs.append(output,sort=False)\n",
      "/var/tmp/rojasolvera/ipykernel_485947/3486713291.py:6: FutureWarning: The frame.append method is deprecated and will be removed from pandas in a future version. Use pandas.concat instead.\n",
      "  outputs=outputs.append(output,sort=False)\n",
      "/var/tmp/rojasolvera/ipykernel_485947/3486713291.py:6: FutureWarning: The frame.append method is deprecated and will be removed from pandas in a future version. Use pandas.concat instead.\n",
      "  outputs=outputs.append(output,sort=False)\n",
      "/var/tmp/rojasolvera/ipykernel_485947/3486713291.py:6: FutureWarning: The frame.append method is deprecated and will be removed from pandas in a future version. Use pandas.concat instead.\n",
      "  outputs=outputs.append(output,sort=False)\n"
     ]
    },
    {
     "name": "stdout",
     "output_type": "stream",
     "text": [
      "1/1 [==============================] - 0s 23ms/step\n",
      "1/1 [==============================] - 0s 22ms/step\n",
      "1/1 [==============================] - 0s 22ms/step\n",
      "1/1 [==============================] - 0s 22ms/step\n"
     ]
    },
    {
     "name": "stderr",
     "output_type": "stream",
     "text": [
      "/var/tmp/rojasolvera/ipykernel_485947/3486713291.py:6: FutureWarning: The frame.append method is deprecated and will be removed from pandas in a future version. Use pandas.concat instead.\n",
      "  outputs=outputs.append(output,sort=False)\n",
      "/var/tmp/rojasolvera/ipykernel_485947/3486713291.py:6: FutureWarning: The frame.append method is deprecated and will be removed from pandas in a future version. Use pandas.concat instead.\n",
      "  outputs=outputs.append(output,sort=False)\n",
      "/var/tmp/rojasolvera/ipykernel_485947/3486713291.py:6: FutureWarning: The frame.append method is deprecated and will be removed from pandas in a future version. Use pandas.concat instead.\n",
      "  outputs=outputs.append(output,sort=False)\n",
      "/var/tmp/rojasolvera/ipykernel_485947/3486713291.py:6: FutureWarning: The frame.append method is deprecated and will be removed from pandas in a future version. Use pandas.concat instead.\n",
      "  outputs=outputs.append(output,sort=False)\n"
     ]
    },
    {
     "name": "stdout",
     "output_type": "stream",
     "text": [
      "1/1 [==============================] - 0s 24ms/step\n",
      "1/1 [==============================] - 0s 21ms/step\n",
      "1/1 [==============================] - 0s 21ms/step\n",
      "1/1 [==============================] - 0s 22ms/step\n"
     ]
    },
    {
     "name": "stderr",
     "output_type": "stream",
     "text": [
      "/var/tmp/rojasolvera/ipykernel_485947/3486713291.py:6: FutureWarning: The frame.append method is deprecated and will be removed from pandas in a future version. Use pandas.concat instead.\n",
      "  outputs=outputs.append(output,sort=False)\n",
      "/var/tmp/rojasolvera/ipykernel_485947/3486713291.py:6: FutureWarning: The frame.append method is deprecated and will be removed from pandas in a future version. Use pandas.concat instead.\n",
      "  outputs=outputs.append(output,sort=False)\n",
      "/var/tmp/rojasolvera/ipykernel_485947/3486713291.py:6: FutureWarning: The frame.append method is deprecated and will be removed from pandas in a future version. Use pandas.concat instead.\n",
      "  outputs=outputs.append(output,sort=False)\n",
      "/var/tmp/rojasolvera/ipykernel_485947/3486713291.py:6: FutureWarning: The frame.append method is deprecated and will be removed from pandas in a future version. Use pandas.concat instead.\n",
      "  outputs=outputs.append(output,sort=False)\n"
     ]
    },
    {
     "name": "stdout",
     "output_type": "stream",
     "text": [
      "1/1 [==============================] - 0s 23ms/step\n",
      "1/1 [==============================] - 0s 21ms/step\n",
      "1/1 [==============================] - 0s 22ms/step\n",
      "1/1 [==============================] - 0s 22ms/step\n"
     ]
    },
    {
     "name": "stderr",
     "output_type": "stream",
     "text": [
      "/var/tmp/rojasolvera/ipykernel_485947/3486713291.py:6: FutureWarning: The frame.append method is deprecated and will be removed from pandas in a future version. Use pandas.concat instead.\n",
      "  outputs=outputs.append(output,sort=False)\n",
      "/var/tmp/rojasolvera/ipykernel_485947/3486713291.py:6: FutureWarning: The frame.append method is deprecated and will be removed from pandas in a future version. Use pandas.concat instead.\n",
      "  outputs=outputs.append(output,sort=False)\n",
      "/var/tmp/rojasolvera/ipykernel_485947/3486713291.py:6: FutureWarning: The frame.append method is deprecated and will be removed from pandas in a future version. Use pandas.concat instead.\n",
      "  outputs=outputs.append(output,sort=False)\n",
      "/var/tmp/rojasolvera/ipykernel_485947/3486713291.py:6: FutureWarning: The frame.append method is deprecated and will be removed from pandas in a future version. Use pandas.concat instead.\n",
      "  outputs=outputs.append(output,sort=False)\n"
     ]
    },
    {
     "name": "stdout",
     "output_type": "stream",
     "text": [
      "1/1 [==============================] - 0s 23ms/step\n",
      "1/1 [==============================] - 0s 22ms/step\n",
      "1/1 [==============================] - 0s 22ms/step\n",
      "1/1 [==============================] - 0s 23ms/step\n"
     ]
    },
    {
     "name": "stderr",
     "output_type": "stream",
     "text": [
      "/var/tmp/rojasolvera/ipykernel_485947/3486713291.py:6: FutureWarning: The frame.append method is deprecated and will be removed from pandas in a future version. Use pandas.concat instead.\n",
      "  outputs=outputs.append(output,sort=False)\n",
      "/var/tmp/rojasolvera/ipykernel_485947/3486713291.py:6: FutureWarning: The frame.append method is deprecated and will be removed from pandas in a future version. Use pandas.concat instead.\n",
      "  outputs=outputs.append(output,sort=False)\n",
      "/var/tmp/rojasolvera/ipykernel_485947/3486713291.py:6: FutureWarning: The frame.append method is deprecated and will be removed from pandas in a future version. Use pandas.concat instead.\n",
      "  outputs=outputs.append(output,sort=False)\n",
      "/var/tmp/rojasolvera/ipykernel_485947/3486713291.py:6: FutureWarning: The frame.append method is deprecated and will be removed from pandas in a future version. Use pandas.concat instead.\n",
      "  outputs=outputs.append(output,sort=False)\n"
     ]
    },
    {
     "name": "stdout",
     "output_type": "stream",
     "text": [
      "1/1 [==============================] - 0s 25ms/step\n",
      "1/1 [==============================] - 0s 22ms/step\n",
      "1/1 [==============================] - 0s 24ms/step\n",
      "1/1 [==============================] - 0s 23ms/step\n"
     ]
    },
    {
     "name": "stderr",
     "output_type": "stream",
     "text": [
      "/var/tmp/rojasolvera/ipykernel_485947/3486713291.py:6: FutureWarning: The frame.append method is deprecated and will be removed from pandas in a future version. Use pandas.concat instead.\n",
      "  outputs=outputs.append(output,sort=False)\n",
      "/var/tmp/rojasolvera/ipykernel_485947/3486713291.py:6: FutureWarning: The frame.append method is deprecated and will be removed from pandas in a future version. Use pandas.concat instead.\n",
      "  outputs=outputs.append(output,sort=False)\n",
      "/var/tmp/rojasolvera/ipykernel_485947/3486713291.py:6: FutureWarning: The frame.append method is deprecated and will be removed from pandas in a future version. Use pandas.concat instead.\n",
      "  outputs=outputs.append(output,sort=False)\n",
      "/var/tmp/rojasolvera/ipykernel_485947/3486713291.py:6: FutureWarning: The frame.append method is deprecated and will be removed from pandas in a future version. Use pandas.concat instead.\n",
      "  outputs=outputs.append(output,sort=False)\n"
     ]
    },
    {
     "name": "stdout",
     "output_type": "stream",
     "text": [
      "1/1 [==============================] - 0s 24ms/step\n",
      "1/1 [==============================] - 0s 21ms/step\n",
      "1/1 [==============================] - 0s 22ms/step\n",
      "1/1 [==============================] - 0s 21ms/step\n"
     ]
    },
    {
     "name": "stderr",
     "output_type": "stream",
     "text": [
      "/var/tmp/rojasolvera/ipykernel_485947/3486713291.py:6: FutureWarning: The frame.append method is deprecated and will be removed from pandas in a future version. Use pandas.concat instead.\n",
      "  outputs=outputs.append(output,sort=False)\n",
      "/var/tmp/rojasolvera/ipykernel_485947/3486713291.py:6: FutureWarning: The frame.append method is deprecated and will be removed from pandas in a future version. Use pandas.concat instead.\n",
      "  outputs=outputs.append(output,sort=False)\n",
      "/var/tmp/rojasolvera/ipykernel_485947/3486713291.py:6: FutureWarning: The frame.append method is deprecated and will be removed from pandas in a future version. Use pandas.concat instead.\n",
      "  outputs=outputs.append(output,sort=False)\n",
      "/var/tmp/rojasolvera/ipykernel_485947/3486713291.py:6: FutureWarning: The frame.append method is deprecated and will be removed from pandas in a future version. Use pandas.concat instead.\n",
      "  outputs=outputs.append(output,sort=False)\n"
     ]
    },
    {
     "name": "stdout",
     "output_type": "stream",
     "text": [
      "1/1 [==============================] - 0s 24ms/step\n",
      "1/1 [==============================] - 0s 28ms/step\n",
      "1/1 [==============================] - 0s 24ms/step\n"
     ]
    },
    {
     "name": "stderr",
     "output_type": "stream",
     "text": [
      "/var/tmp/rojasolvera/ipykernel_485947/3486713291.py:6: FutureWarning: The frame.append method is deprecated and will be removed from pandas in a future version. Use pandas.concat instead.\n",
      "  outputs=outputs.append(output,sort=False)\n",
      "/var/tmp/rojasolvera/ipykernel_485947/3486713291.py:6: FutureWarning: The frame.append method is deprecated and will be removed from pandas in a future version. Use pandas.concat instead.\n",
      "  outputs=outputs.append(output,sort=False)\n",
      "/var/tmp/rojasolvera/ipykernel_485947/3486713291.py:6: FutureWarning: The frame.append method is deprecated and will be removed from pandas in a future version. Use pandas.concat instead.\n",
      "  outputs=outputs.append(output,sort=False)\n"
     ]
    },
    {
     "name": "stdout",
     "output_type": "stream",
     "text": [
      "1/1 [==============================] - 0s 28ms/step\n",
      "1/1 [==============================] - 0s 22ms/step\n",
      "1/1 [==============================] - 0s 21ms/step\n",
      "1/1 [==============================] - 0s 23ms/step\n"
     ]
    },
    {
     "name": "stderr",
     "output_type": "stream",
     "text": [
      "/var/tmp/rojasolvera/ipykernel_485947/3486713291.py:6: FutureWarning: The frame.append method is deprecated and will be removed from pandas in a future version. Use pandas.concat instead.\n",
      "  outputs=outputs.append(output,sort=False)\n",
      "/var/tmp/rojasolvera/ipykernel_485947/3486713291.py:6: FutureWarning: The frame.append method is deprecated and will be removed from pandas in a future version. Use pandas.concat instead.\n",
      "  outputs=outputs.append(output,sort=False)\n",
      "/var/tmp/rojasolvera/ipykernel_485947/3486713291.py:6: FutureWarning: The frame.append method is deprecated and will be removed from pandas in a future version. Use pandas.concat instead.\n",
      "  outputs=outputs.append(output,sort=False)\n",
      "/var/tmp/rojasolvera/ipykernel_485947/3486713291.py:6: FutureWarning: The frame.append method is deprecated and will be removed from pandas in a future version. Use pandas.concat instead.\n",
      "  outputs=outputs.append(output,sort=False)\n"
     ]
    },
    {
     "name": "stdout",
     "output_type": "stream",
     "text": [
      "1/1 [==============================] - 0s 22ms/step\n",
      "1/1 [==============================] - 0s 21ms/step\n",
      "1/1 [==============================] - 0s 23ms/step\n",
      "1/1 [==============================] - 0s 22ms/step\n"
     ]
    },
    {
     "name": "stderr",
     "output_type": "stream",
     "text": [
      "/var/tmp/rojasolvera/ipykernel_485947/3486713291.py:6: FutureWarning: The frame.append method is deprecated and will be removed from pandas in a future version. Use pandas.concat instead.\n",
      "  outputs=outputs.append(output,sort=False)\n",
      "/var/tmp/rojasolvera/ipykernel_485947/3486713291.py:6: FutureWarning: The frame.append method is deprecated and will be removed from pandas in a future version. Use pandas.concat instead.\n",
      "  outputs=outputs.append(output,sort=False)\n",
      "/var/tmp/rojasolvera/ipykernel_485947/3486713291.py:6: FutureWarning: The frame.append method is deprecated and will be removed from pandas in a future version. Use pandas.concat instead.\n",
      "  outputs=outputs.append(output,sort=False)\n",
      "/var/tmp/rojasolvera/ipykernel_485947/3486713291.py:6: FutureWarning: The frame.append method is deprecated and will be removed from pandas in a future version. Use pandas.concat instead.\n",
      "  outputs=outputs.append(output,sort=False)\n"
     ]
    },
    {
     "name": "stdout",
     "output_type": "stream",
     "text": [
      "1/1 [==============================] - 0s 22ms/step\n",
      "1/1 [==============================] - 0s 23ms/step\n",
      "1/1 [==============================] - 0s 23ms/step\n",
      "1/1 [==============================] - 0s 21ms/step\n"
     ]
    },
    {
     "name": "stderr",
     "output_type": "stream",
     "text": [
      "/var/tmp/rojasolvera/ipykernel_485947/3486713291.py:6: FutureWarning: The frame.append method is deprecated and will be removed from pandas in a future version. Use pandas.concat instead.\n",
      "  outputs=outputs.append(output,sort=False)\n",
      "/var/tmp/rojasolvera/ipykernel_485947/3486713291.py:6: FutureWarning: The frame.append method is deprecated and will be removed from pandas in a future version. Use pandas.concat instead.\n",
      "  outputs=outputs.append(output,sort=False)\n",
      "/var/tmp/rojasolvera/ipykernel_485947/3486713291.py:6: FutureWarning: The frame.append method is deprecated and will be removed from pandas in a future version. Use pandas.concat instead.\n",
      "  outputs=outputs.append(output,sort=False)\n",
      "/var/tmp/rojasolvera/ipykernel_485947/3486713291.py:6: FutureWarning: The frame.append method is deprecated and will be removed from pandas in a future version. Use pandas.concat instead.\n",
      "  outputs=outputs.append(output,sort=False)\n"
     ]
    },
    {
     "name": "stdout",
     "output_type": "stream",
     "text": [
      "1/1 [==============================] - 0s 31ms/step\n",
      "1/1 [==============================] - 0s 25ms/step\n",
      "1/1 [==============================] - 0s 23ms/step\n",
      "1/1 [==============================] - 0s 23ms/step\n"
     ]
    },
    {
     "name": "stderr",
     "output_type": "stream",
     "text": [
      "/var/tmp/rojasolvera/ipykernel_485947/3486713291.py:6: FutureWarning: The frame.append method is deprecated and will be removed from pandas in a future version. Use pandas.concat instead.\n",
      "  outputs=outputs.append(output,sort=False)\n",
      "/var/tmp/rojasolvera/ipykernel_485947/3486713291.py:6: FutureWarning: The frame.append method is deprecated and will be removed from pandas in a future version. Use pandas.concat instead.\n",
      "  outputs=outputs.append(output,sort=False)\n",
      "/var/tmp/rojasolvera/ipykernel_485947/3486713291.py:6: FutureWarning: The frame.append method is deprecated and will be removed from pandas in a future version. Use pandas.concat instead.\n",
      "  outputs=outputs.append(output,sort=False)\n",
      "/var/tmp/rojasolvera/ipykernel_485947/3486713291.py:6: FutureWarning: The frame.append method is deprecated and will be removed from pandas in a future version. Use pandas.concat instead.\n",
      "  outputs=outputs.append(output,sort=False)\n"
     ]
    },
    {
     "name": "stdout",
     "output_type": "stream",
     "text": [
      "1/1 [==============================] - 0s 24ms/step\n",
      "1/1 [==============================] - 0s 21ms/step\n",
      "1/1 [==============================] - 0s 23ms/step\n",
      "1/1 [==============================] - 0s 21ms/step\n"
     ]
    },
    {
     "name": "stderr",
     "output_type": "stream",
     "text": [
      "/var/tmp/rojasolvera/ipykernel_485947/3486713291.py:6: FutureWarning: The frame.append method is deprecated and will be removed from pandas in a future version. Use pandas.concat instead.\n",
      "  outputs=outputs.append(output,sort=False)\n",
      "/var/tmp/rojasolvera/ipykernel_485947/3486713291.py:6: FutureWarning: The frame.append method is deprecated and will be removed from pandas in a future version. Use pandas.concat instead.\n",
      "  outputs=outputs.append(output,sort=False)\n",
      "/var/tmp/rojasolvera/ipykernel_485947/3486713291.py:6: FutureWarning: The frame.append method is deprecated and will be removed from pandas in a future version. Use pandas.concat instead.\n",
      "  outputs=outputs.append(output,sort=False)\n",
      "/var/tmp/rojasolvera/ipykernel_485947/3486713291.py:6: FutureWarning: The frame.append method is deprecated and will be removed from pandas in a future version. Use pandas.concat instead.\n",
      "  outputs=outputs.append(output,sort=False)\n"
     ]
    },
    {
     "name": "stdout",
     "output_type": "stream",
     "text": [
      "1/1 [==============================] - 0s 22ms/step\n",
      "1/1 [==============================] - 0s 25ms/step\n",
      "1/1 [==============================] - 0s 21ms/step\n",
      "1/1 [==============================] - 0s 21ms/step\n"
     ]
    },
    {
     "name": "stderr",
     "output_type": "stream",
     "text": [
      "/var/tmp/rojasolvera/ipykernel_485947/3486713291.py:6: FutureWarning: The frame.append method is deprecated and will be removed from pandas in a future version. Use pandas.concat instead.\n",
      "  outputs=outputs.append(output,sort=False)\n",
      "/var/tmp/rojasolvera/ipykernel_485947/3486713291.py:6: FutureWarning: The frame.append method is deprecated and will be removed from pandas in a future version. Use pandas.concat instead.\n",
      "  outputs=outputs.append(output,sort=False)\n",
      "/var/tmp/rojasolvera/ipykernel_485947/3486713291.py:6: FutureWarning: The frame.append method is deprecated and will be removed from pandas in a future version. Use pandas.concat instead.\n",
      "  outputs=outputs.append(output,sort=False)\n",
      "/var/tmp/rojasolvera/ipykernel_485947/3486713291.py:6: FutureWarning: The frame.append method is deprecated and will be removed from pandas in a future version. Use pandas.concat instead.\n",
      "  outputs=outputs.append(output,sort=False)\n"
     ]
    },
    {
     "name": "stdout",
     "output_type": "stream",
     "text": [
      "1/1 [==============================] - 0s 22ms/step\n",
      "1/1 [==============================] - 0s 23ms/step\n",
      "1/1 [==============================] - 0s 22ms/step\n",
      "1/1 [==============================] - 0s 22ms/step\n"
     ]
    },
    {
     "name": "stderr",
     "output_type": "stream",
     "text": [
      "/var/tmp/rojasolvera/ipykernel_485947/3486713291.py:6: FutureWarning: The frame.append method is deprecated and will be removed from pandas in a future version. Use pandas.concat instead.\n",
      "  outputs=outputs.append(output,sort=False)\n",
      "/var/tmp/rojasolvera/ipykernel_485947/3486713291.py:6: FutureWarning: The frame.append method is deprecated and will be removed from pandas in a future version. Use pandas.concat instead.\n",
      "  outputs=outputs.append(output,sort=False)\n",
      "/var/tmp/rojasolvera/ipykernel_485947/3486713291.py:6: FutureWarning: The frame.append method is deprecated and will be removed from pandas in a future version. Use pandas.concat instead.\n",
      "  outputs=outputs.append(output,sort=False)\n",
      "/var/tmp/rojasolvera/ipykernel_485947/3486713291.py:6: FutureWarning: The frame.append method is deprecated and will be removed from pandas in a future version. Use pandas.concat instead.\n",
      "  outputs=outputs.append(output,sort=False)\n"
     ]
    },
    {
     "name": "stdout",
     "output_type": "stream",
     "text": [
      "1/1 [==============================] - 0s 22ms/step\n",
      "1/1 [==============================] - 0s 23ms/step\n",
      "1/1 [==============================] - 0s 23ms/step\n",
      "1/1 [==============================] - 0s 23ms/step\n"
     ]
    },
    {
     "name": "stderr",
     "output_type": "stream",
     "text": [
      "/var/tmp/rojasolvera/ipykernel_485947/3486713291.py:6: FutureWarning: The frame.append method is deprecated and will be removed from pandas in a future version. Use pandas.concat instead.\n",
      "  outputs=outputs.append(output,sort=False)\n",
      "/var/tmp/rojasolvera/ipykernel_485947/3486713291.py:6: FutureWarning: The frame.append method is deprecated and will be removed from pandas in a future version. Use pandas.concat instead.\n",
      "  outputs=outputs.append(output,sort=False)\n",
      "/var/tmp/rojasolvera/ipykernel_485947/3486713291.py:6: FutureWarning: The frame.append method is deprecated and will be removed from pandas in a future version. Use pandas.concat instead.\n",
      "  outputs=outputs.append(output,sort=False)\n"
     ]
    },
    {
     "name": "stdout",
     "output_type": "stream",
     "text": [
      "1/1 [==============================] - 0s 24ms/step\n",
      "1/1 [==============================] - 0s 24ms/step\n",
      "1/1 [==============================] - 0s 21ms/step\n"
     ]
    },
    {
     "name": "stderr",
     "output_type": "stream",
     "text": [
      "/var/tmp/rojasolvera/ipykernel_485947/3486713291.py:6: FutureWarning: The frame.append method is deprecated and will be removed from pandas in a future version. Use pandas.concat instead.\n",
      "  outputs=outputs.append(output,sort=False)\n",
      "/var/tmp/rojasolvera/ipykernel_485947/3486713291.py:6: FutureWarning: The frame.append method is deprecated and will be removed from pandas in a future version. Use pandas.concat instead.\n",
      "  outputs=outputs.append(output,sort=False)\n",
      "/var/tmp/rojasolvera/ipykernel_485947/3486713291.py:6: FutureWarning: The frame.append method is deprecated and will be removed from pandas in a future version. Use pandas.concat instead.\n",
      "  outputs=outputs.append(output,sort=False)\n"
     ]
    },
    {
     "name": "stdout",
     "output_type": "stream",
     "text": [
      "1/1 [==============================] - 0s 24ms/step\n",
      "1/1 [==============================] - 0s 24ms/step\n",
      "1/1 [==============================] - 0s 24ms/step\n"
     ]
    },
    {
     "name": "stderr",
     "output_type": "stream",
     "text": [
      "/var/tmp/rojasolvera/ipykernel_485947/3486713291.py:6: FutureWarning: The frame.append method is deprecated and will be removed from pandas in a future version. Use pandas.concat instead.\n",
      "  outputs=outputs.append(output,sort=False)\n",
      "/var/tmp/rojasolvera/ipykernel_485947/3486713291.py:6: FutureWarning: The frame.append method is deprecated and will be removed from pandas in a future version. Use pandas.concat instead.\n",
      "  outputs=outputs.append(output,sort=False)\n",
      "/var/tmp/rojasolvera/ipykernel_485947/3486713291.py:6: FutureWarning: The frame.append method is deprecated and will be removed from pandas in a future version. Use pandas.concat instead.\n",
      "  outputs=outputs.append(output,sort=False)\n",
      "/var/tmp/rojasolvera/ipykernel_485947/3486713291.py:6: FutureWarning: The frame.append method is deprecated and will be removed from pandas in a future version. Use pandas.concat instead.\n",
      "  outputs=outputs.append(output,sort=False)\n"
     ]
    },
    {
     "name": "stdout",
     "output_type": "stream",
     "text": [
      "1/1 [==============================] - 0s 22ms/step\n",
      "1/1 [==============================] - 0s 23ms/step\n",
      "1/1 [==============================] - 0s 22ms/step\n",
      "1/1 [==============================] - 0s 22ms/step\n"
     ]
    },
    {
     "name": "stderr",
     "output_type": "stream",
     "text": [
      "/var/tmp/rojasolvera/ipykernel_485947/3486713291.py:6: FutureWarning: The frame.append method is deprecated and will be removed from pandas in a future version. Use pandas.concat instead.\n",
      "  outputs=outputs.append(output,sort=False)\n",
      "/var/tmp/rojasolvera/ipykernel_485947/3486713291.py:6: FutureWarning: The frame.append method is deprecated and will be removed from pandas in a future version. Use pandas.concat instead.\n",
      "  outputs=outputs.append(output,sort=False)\n",
      "/var/tmp/rojasolvera/ipykernel_485947/3486713291.py:6: FutureWarning: The frame.append method is deprecated and will be removed from pandas in a future version. Use pandas.concat instead.\n",
      "  outputs=outputs.append(output,sort=False)\n",
      "/var/tmp/rojasolvera/ipykernel_485947/3486713291.py:6: FutureWarning: The frame.append method is deprecated and will be removed from pandas in a future version. Use pandas.concat instead.\n",
      "  outputs=outputs.append(output,sort=False)\n"
     ]
    },
    {
     "name": "stdout",
     "output_type": "stream",
     "text": [
      "1/1 [==============================] - 0s 24ms/step\n",
      "1/1 [==============================] - 0s 23ms/step\n",
      "1/1 [==============================] - 0s 22ms/step\n",
      "1/1 [==============================] - 0s 21ms/step\n"
     ]
    },
    {
     "name": "stderr",
     "output_type": "stream",
     "text": [
      "/var/tmp/rojasolvera/ipykernel_485947/3486713291.py:6: FutureWarning: The frame.append method is deprecated and will be removed from pandas in a future version. Use pandas.concat instead.\n",
      "  outputs=outputs.append(output,sort=False)\n",
      "/var/tmp/rojasolvera/ipykernel_485947/3486713291.py:6: FutureWarning: The frame.append method is deprecated and will be removed from pandas in a future version. Use pandas.concat instead.\n",
      "  outputs=outputs.append(output,sort=False)\n",
      "/var/tmp/rojasolvera/ipykernel_485947/3486713291.py:6: FutureWarning: The frame.append method is deprecated and will be removed from pandas in a future version. Use pandas.concat instead.\n",
      "  outputs=outputs.append(output,sort=False)\n",
      "/var/tmp/rojasolvera/ipykernel_485947/3486713291.py:6: FutureWarning: The frame.append method is deprecated and will be removed from pandas in a future version. Use pandas.concat instead.\n",
      "  outputs=outputs.append(output,sort=False)\n"
     ]
    },
    {
     "name": "stdout",
     "output_type": "stream",
     "text": [
      "1/1 [==============================] - 0s 23ms/step\n",
      "1/1 [==============================] - 0s 21ms/step\n",
      "1/1 [==============================] - 0s 21ms/step\n",
      "1/1 [==============================] - 0s 23ms/step\n"
     ]
    },
    {
     "name": "stderr",
     "output_type": "stream",
     "text": [
      "/var/tmp/rojasolvera/ipykernel_485947/3486713291.py:6: FutureWarning: The frame.append method is deprecated and will be removed from pandas in a future version. Use pandas.concat instead.\n",
      "  outputs=outputs.append(output,sort=False)\n",
      "/var/tmp/rojasolvera/ipykernel_485947/3486713291.py:6: FutureWarning: The frame.append method is deprecated and will be removed from pandas in a future version. Use pandas.concat instead.\n",
      "  outputs=outputs.append(output,sort=False)\n",
      "/var/tmp/rojasolvera/ipykernel_485947/3486713291.py:6: FutureWarning: The frame.append method is deprecated and will be removed from pandas in a future version. Use pandas.concat instead.\n",
      "  outputs=outputs.append(output,sort=False)\n",
      "/var/tmp/rojasolvera/ipykernel_485947/3486713291.py:6: FutureWarning: The frame.append method is deprecated and will be removed from pandas in a future version. Use pandas.concat instead.\n",
      "  outputs=outputs.append(output,sort=False)\n"
     ]
    },
    {
     "name": "stdout",
     "output_type": "stream",
     "text": [
      "1/1 [==============================] - 0s 23ms/step\n",
      "1/1 [==============================] - 0s 23ms/step\n",
      "1/1 [==============================] - 0s 24ms/step\n",
      "1/1 [==============================] - 0s 23ms/step\n"
     ]
    },
    {
     "name": "stderr",
     "output_type": "stream",
     "text": [
      "/var/tmp/rojasolvera/ipykernel_485947/3486713291.py:6: FutureWarning: The frame.append method is deprecated and will be removed from pandas in a future version. Use pandas.concat instead.\n",
      "  outputs=outputs.append(output,sort=False)\n",
      "/var/tmp/rojasolvera/ipykernel_485947/3486713291.py:6: FutureWarning: The frame.append method is deprecated and will be removed from pandas in a future version. Use pandas.concat instead.\n",
      "  outputs=outputs.append(output,sort=False)\n",
      "/var/tmp/rojasolvera/ipykernel_485947/3486713291.py:6: FutureWarning: The frame.append method is deprecated and will be removed from pandas in a future version. Use pandas.concat instead.\n",
      "  outputs=outputs.append(output,sort=False)\n",
      "/var/tmp/rojasolvera/ipykernel_485947/3486713291.py:6: FutureWarning: The frame.append method is deprecated and will be removed from pandas in a future version. Use pandas.concat instead.\n",
      "  outputs=outputs.append(output,sort=False)\n"
     ]
    },
    {
     "name": "stdout",
     "output_type": "stream",
     "text": [
      "1/1 [==============================] - 0s 22ms/step\n",
      "1/1 [==============================] - 0s 23ms/step\n",
      "1/1 [==============================] - 0s 23ms/step\n",
      "1/1 [==============================] - 0s 21ms/step\n"
     ]
    },
    {
     "name": "stderr",
     "output_type": "stream",
     "text": [
      "/var/tmp/rojasolvera/ipykernel_485947/3486713291.py:6: FutureWarning: The frame.append method is deprecated and will be removed from pandas in a future version. Use pandas.concat instead.\n",
      "  outputs=outputs.append(output,sort=False)\n",
      "/var/tmp/rojasolvera/ipykernel_485947/3486713291.py:6: FutureWarning: The frame.append method is deprecated and will be removed from pandas in a future version. Use pandas.concat instead.\n",
      "  outputs=outputs.append(output,sort=False)\n",
      "/var/tmp/rojasolvera/ipykernel_485947/3486713291.py:6: FutureWarning: The frame.append method is deprecated and will be removed from pandas in a future version. Use pandas.concat instead.\n",
      "  outputs=outputs.append(output,sort=False)\n",
      "/var/tmp/rojasolvera/ipykernel_485947/3486713291.py:6: FutureWarning: The frame.append method is deprecated and will be removed from pandas in a future version. Use pandas.concat instead.\n",
      "  outputs=outputs.append(output,sort=False)\n"
     ]
    },
    {
     "name": "stdout",
     "output_type": "stream",
     "text": [
      "1/1 [==============================] - 0s 24ms/step\n",
      "1/1 [==============================] - 0s 22ms/step\n",
      "1/1 [==============================] - 0s 24ms/step\n",
      "1/1 [==============================] - 0s 22ms/step\n"
     ]
    },
    {
     "name": "stderr",
     "output_type": "stream",
     "text": [
      "/var/tmp/rojasolvera/ipykernel_485947/3486713291.py:6: FutureWarning: The frame.append method is deprecated and will be removed from pandas in a future version. Use pandas.concat instead.\n",
      "  outputs=outputs.append(output,sort=False)\n",
      "/var/tmp/rojasolvera/ipykernel_485947/3486713291.py:6: FutureWarning: The frame.append method is deprecated and will be removed from pandas in a future version. Use pandas.concat instead.\n",
      "  outputs=outputs.append(output,sort=False)\n",
      "/var/tmp/rojasolvera/ipykernel_485947/3486713291.py:6: FutureWarning: The frame.append method is deprecated and will be removed from pandas in a future version. Use pandas.concat instead.\n",
      "  outputs=outputs.append(output,sort=False)\n"
     ]
    },
    {
     "name": "stdout",
     "output_type": "stream",
     "text": [
      "1/1 [==============================] - 0s 22ms/step\n",
      "1/1 [==============================] - 0s 24ms/step\n"
     ]
    },
    {
     "name": "stderr",
     "output_type": "stream",
     "text": [
      "/var/tmp/rojasolvera/ipykernel_485947/3486713291.py:6: FutureWarning: The frame.append method is deprecated and will be removed from pandas in a future version. Use pandas.concat instead.\n",
      "  outputs=outputs.append(output,sort=False)\n",
      "/var/tmp/rojasolvera/ipykernel_485947/3486713291.py:6: FutureWarning: The frame.append method is deprecated and will be removed from pandas in a future version. Use pandas.concat instead.\n",
      "  outputs=outputs.append(output,sort=False)\n",
      "/var/tmp/rojasolvera/ipykernel_485947/3486713291.py:6: FutureWarning: The frame.append method is deprecated and will be removed from pandas in a future version. Use pandas.concat instead.\n",
      "  outputs=outputs.append(output,sort=False)\n"
     ]
    },
    {
     "name": "stdout",
     "output_type": "stream",
     "text": [
      "1/1 [==============================] - 0s 27ms/step\n",
      "1/1 [==============================] - 0s 25ms/step\n",
      "1/1 [==============================] - 0s 23ms/step\n"
     ]
    },
    {
     "name": "stderr",
     "output_type": "stream",
     "text": [
      "/var/tmp/rojasolvera/ipykernel_485947/3486713291.py:6: FutureWarning: The frame.append method is deprecated and will be removed from pandas in a future version. Use pandas.concat instead.\n",
      "  outputs=outputs.append(output,sort=False)\n",
      "/var/tmp/rojasolvera/ipykernel_485947/3486713291.py:6: FutureWarning: The frame.append method is deprecated and will be removed from pandas in a future version. Use pandas.concat instead.\n",
      "  outputs=outputs.append(output,sort=False)\n",
      "/var/tmp/rojasolvera/ipykernel_485947/3486713291.py:6: FutureWarning: The frame.append method is deprecated and will be removed from pandas in a future version. Use pandas.concat instead.\n",
      "  outputs=outputs.append(output,sort=False)\n"
     ]
    },
    {
     "name": "stdout",
     "output_type": "stream",
     "text": [
      "1/1 [==============================] - 0s 25ms/step\n",
      "1/1 [==============================] - 0s 21ms/step\n",
      "1/1 [==============================] - 0s 21ms/step\n",
      "1/1 [==============================] - 0s 24ms/step\n"
     ]
    },
    {
     "name": "stderr",
     "output_type": "stream",
     "text": [
      "/var/tmp/rojasolvera/ipykernel_485947/3486713291.py:6: FutureWarning: The frame.append method is deprecated and will be removed from pandas in a future version. Use pandas.concat instead.\n",
      "  outputs=outputs.append(output,sort=False)\n",
      "/var/tmp/rojasolvera/ipykernel_485947/3486713291.py:6: FutureWarning: The frame.append method is deprecated and will be removed from pandas in a future version. Use pandas.concat instead.\n",
      "  outputs=outputs.append(output,sort=False)\n",
      "/var/tmp/rojasolvera/ipykernel_485947/3486713291.py:6: FutureWarning: The frame.append method is deprecated and will be removed from pandas in a future version. Use pandas.concat instead.\n",
      "  outputs=outputs.append(output,sort=False)\n",
      "/var/tmp/rojasolvera/ipykernel_485947/3486713291.py:6: FutureWarning: The frame.append method is deprecated and will be removed from pandas in a future version. Use pandas.concat instead.\n",
      "  outputs=outputs.append(output,sort=False)\n"
     ]
    },
    {
     "name": "stdout",
     "output_type": "stream",
     "text": [
      "1/1 [==============================] - 0s 24ms/step\n",
      "1/1 [==============================] - 0s 22ms/step\n",
      "1/1 [==============================] - 0s 23ms/step\n",
      "1/1 [==============================] - 0s 22ms/step\n"
     ]
    },
    {
     "name": "stderr",
     "output_type": "stream",
     "text": [
      "/var/tmp/rojasolvera/ipykernel_485947/3486713291.py:6: FutureWarning: The frame.append method is deprecated and will be removed from pandas in a future version. Use pandas.concat instead.\n",
      "  outputs=outputs.append(output,sort=False)\n",
      "/var/tmp/rojasolvera/ipykernel_485947/3486713291.py:6: FutureWarning: The frame.append method is deprecated and will be removed from pandas in a future version. Use pandas.concat instead.\n",
      "  outputs=outputs.append(output,sort=False)\n",
      "/var/tmp/rojasolvera/ipykernel_485947/3486713291.py:6: FutureWarning: The frame.append method is deprecated and will be removed from pandas in a future version. Use pandas.concat instead.\n",
      "  outputs=outputs.append(output,sort=False)\n",
      "/var/tmp/rojasolvera/ipykernel_485947/3486713291.py:6: FutureWarning: The frame.append method is deprecated and will be removed from pandas in a future version. Use pandas.concat instead.\n",
      "  outputs=outputs.append(output,sort=False)\n"
     ]
    },
    {
     "name": "stdout",
     "output_type": "stream",
     "text": [
      "1/1 [==============================] - 0s 23ms/step\n",
      "1/1 [==============================] - 0s 21ms/step\n",
      "1/1 [==============================] - 0s 21ms/step\n",
      "1/1 [==============================] - 0s 22ms/step\n"
     ]
    },
    {
     "name": "stderr",
     "output_type": "stream",
     "text": [
      "/var/tmp/rojasolvera/ipykernel_485947/3486713291.py:6: FutureWarning: The frame.append method is deprecated and will be removed from pandas in a future version. Use pandas.concat instead.\n",
      "  outputs=outputs.append(output,sort=False)\n",
      "/var/tmp/rojasolvera/ipykernel_485947/3486713291.py:6: FutureWarning: The frame.append method is deprecated and will be removed from pandas in a future version. Use pandas.concat instead.\n",
      "  outputs=outputs.append(output,sort=False)\n",
      "/var/tmp/rojasolvera/ipykernel_485947/3486713291.py:6: FutureWarning: The frame.append method is deprecated and will be removed from pandas in a future version. Use pandas.concat instead.\n",
      "  outputs=outputs.append(output,sort=False)\n",
      "/var/tmp/rojasolvera/ipykernel_485947/3486713291.py:6: FutureWarning: The frame.append method is deprecated and will be removed from pandas in a future version. Use pandas.concat instead.\n",
      "  outputs=outputs.append(output,sort=False)\n"
     ]
    },
    {
     "name": "stdout",
     "output_type": "stream",
     "text": [
      "1/1 [==============================] - 0s 22ms/step\n",
      "1/1 [==============================] - 0s 22ms/step\n",
      "1/1 [==============================] - 0s 23ms/step\n",
      "1/1 [==============================] - 0s 23ms/step\n"
     ]
    },
    {
     "name": "stderr",
     "output_type": "stream",
     "text": [
      "/var/tmp/rojasolvera/ipykernel_485947/3486713291.py:6: FutureWarning: The frame.append method is deprecated and will be removed from pandas in a future version. Use pandas.concat instead.\n",
      "  outputs=outputs.append(output,sort=False)\n",
      "/var/tmp/rojasolvera/ipykernel_485947/3486713291.py:6: FutureWarning: The frame.append method is deprecated and will be removed from pandas in a future version. Use pandas.concat instead.\n",
      "  outputs=outputs.append(output,sort=False)\n",
      "/var/tmp/rojasolvera/ipykernel_485947/3486713291.py:6: FutureWarning: The frame.append method is deprecated and will be removed from pandas in a future version. Use pandas.concat instead.\n",
      "  outputs=outputs.append(output,sort=False)\n",
      "/var/tmp/rojasolvera/ipykernel_485947/3486713291.py:6: FutureWarning: The frame.append method is deprecated and will be removed from pandas in a future version. Use pandas.concat instead.\n",
      "  outputs=outputs.append(output,sort=False)\n"
     ]
    },
    {
     "name": "stdout",
     "output_type": "stream",
     "text": [
      "1/1 [==============================] - 0s 23ms/step\n",
      "1/1 [==============================] - 0s 22ms/step\n",
      "1/1 [==============================] - 0s 23ms/step\n",
      "1/1 [==============================] - 0s 22ms/step\n"
     ]
    },
    {
     "name": "stderr",
     "output_type": "stream",
     "text": [
      "/var/tmp/rojasolvera/ipykernel_485947/3486713291.py:6: FutureWarning: The frame.append method is deprecated and will be removed from pandas in a future version. Use pandas.concat instead.\n",
      "  outputs=outputs.append(output,sort=False)\n",
      "/var/tmp/rojasolvera/ipykernel_485947/3486713291.py:6: FutureWarning: The frame.append method is deprecated and will be removed from pandas in a future version. Use pandas.concat instead.\n",
      "  outputs=outputs.append(output,sort=False)\n",
      "/var/tmp/rojasolvera/ipykernel_485947/3486713291.py:6: FutureWarning: The frame.append method is deprecated and will be removed from pandas in a future version. Use pandas.concat instead.\n",
      "  outputs=outputs.append(output,sort=False)\n",
      "/var/tmp/rojasolvera/ipykernel_485947/3486713291.py:6: FutureWarning: The frame.append method is deprecated and will be removed from pandas in a future version. Use pandas.concat instead.\n",
      "  outputs=outputs.append(output,sort=False)\n"
     ]
    },
    {
     "name": "stdout",
     "output_type": "stream",
     "text": [
      "1/1 [==============================] - 0s 25ms/step\n",
      "1/1 [==============================] - 0s 23ms/step\n",
      "1/1 [==============================] - 0s 24ms/step\n",
      "1/1 [==============================] - 0s 21ms/step\n"
     ]
    },
    {
     "name": "stderr",
     "output_type": "stream",
     "text": [
      "/var/tmp/rojasolvera/ipykernel_485947/3486713291.py:6: FutureWarning: The frame.append method is deprecated and will be removed from pandas in a future version. Use pandas.concat instead.\n",
      "  outputs=outputs.append(output,sort=False)\n",
      "/var/tmp/rojasolvera/ipykernel_485947/3486713291.py:6: FutureWarning: The frame.append method is deprecated and will be removed from pandas in a future version. Use pandas.concat instead.\n",
      "  outputs=outputs.append(output,sort=False)\n",
      "/var/tmp/rojasolvera/ipykernel_485947/3486713291.py:6: FutureWarning: The frame.append method is deprecated and will be removed from pandas in a future version. Use pandas.concat instead.\n",
      "  outputs=outputs.append(output,sort=False)\n",
      "/var/tmp/rojasolvera/ipykernel_485947/3486713291.py:6: FutureWarning: The frame.append method is deprecated and will be removed from pandas in a future version. Use pandas.concat instead.\n",
      "  outputs=outputs.append(output,sort=False)\n"
     ]
    },
    {
     "name": "stdout",
     "output_type": "stream",
     "text": [
      "1/1 [==============================] - 0s 22ms/step\n",
      "1/1 [==============================] - 0s 23ms/step\n",
      "1/1 [==============================] - 0s 23ms/step\n",
      "1/1 [==============================] - 0s 24ms/step\n"
     ]
    },
    {
     "name": "stderr",
     "output_type": "stream",
     "text": [
      "/var/tmp/rojasolvera/ipykernel_485947/3486713291.py:6: FutureWarning: The frame.append method is deprecated and will be removed from pandas in a future version. Use pandas.concat instead.\n",
      "  outputs=outputs.append(output,sort=False)\n",
      "/var/tmp/rojasolvera/ipykernel_485947/3486713291.py:6: FutureWarning: The frame.append method is deprecated and will be removed from pandas in a future version. Use pandas.concat instead.\n",
      "  outputs=outputs.append(output,sort=False)\n",
      "/var/tmp/rojasolvera/ipykernel_485947/3486713291.py:6: FutureWarning: The frame.append method is deprecated and will be removed from pandas in a future version. Use pandas.concat instead.\n",
      "  outputs=outputs.append(output,sort=False)\n",
      "/var/tmp/rojasolvera/ipykernel_485947/3486713291.py:6: FutureWarning: The frame.append method is deprecated and will be removed from pandas in a future version. Use pandas.concat instead.\n",
      "  outputs=outputs.append(output,sort=False)\n"
     ]
    },
    {
     "name": "stdout",
     "output_type": "stream",
     "text": [
      "1/1 [==============================] - 0s 23ms/step\n",
      "1/1 [==============================] - 0s 21ms/step\n",
      "1/1 [==============================] - 0s 24ms/step\n",
      "1/1 [==============================] - 0s 23ms/step\n"
     ]
    },
    {
     "name": "stderr",
     "output_type": "stream",
     "text": [
      "/var/tmp/rojasolvera/ipykernel_485947/3486713291.py:6: FutureWarning: The frame.append method is deprecated and will be removed from pandas in a future version. Use pandas.concat instead.\n",
      "  outputs=outputs.append(output,sort=False)\n",
      "/var/tmp/rojasolvera/ipykernel_485947/3486713291.py:6: FutureWarning: The frame.append method is deprecated and will be removed from pandas in a future version. Use pandas.concat instead.\n",
      "  outputs=outputs.append(output,sort=False)\n",
      "/var/tmp/rojasolvera/ipykernel_485947/3486713291.py:6: FutureWarning: The frame.append method is deprecated and will be removed from pandas in a future version. Use pandas.concat instead.\n",
      "  outputs=outputs.append(output,sort=False)\n"
     ]
    },
    {
     "name": "stdout",
     "output_type": "stream",
     "text": [
      "1/1 [==============================] - 0s 22ms/step\n",
      "1/1 [==============================] - 0s 22ms/step\n",
      "1/1 [==============================] - 0s 22ms/step\n"
     ]
    },
    {
     "name": "stderr",
     "output_type": "stream",
     "text": [
      "/var/tmp/rojasolvera/ipykernel_485947/3486713291.py:6: FutureWarning: The frame.append method is deprecated and will be removed from pandas in a future version. Use pandas.concat instead.\n",
      "  outputs=outputs.append(output,sort=False)\n",
      "/var/tmp/rojasolvera/ipykernel_485947/3486713291.py:6: FutureWarning: The frame.append method is deprecated and will be removed from pandas in a future version. Use pandas.concat instead.\n",
      "  outputs=outputs.append(output,sort=False)\n",
      "/var/tmp/rojasolvera/ipykernel_485947/3486713291.py:6: FutureWarning: The frame.append method is deprecated and will be removed from pandas in a future version. Use pandas.concat instead.\n",
      "  outputs=outputs.append(output,sort=False)\n",
      "/var/tmp/rojasolvera/ipykernel_485947/3486713291.py:6: FutureWarning: The frame.append method is deprecated and will be removed from pandas in a future version. Use pandas.concat instead.\n",
      "  outputs=outputs.append(output,sort=False)\n"
     ]
    },
    {
     "name": "stdout",
     "output_type": "stream",
     "text": [
      "1/1 [==============================] - 0s 23ms/step\n",
      "1/1 [==============================] - 0s 23ms/step\n",
      "1/1 [==============================] - 0s 23ms/step\n",
      "1/1 [==============================] - 0s 21ms/step\n"
     ]
    },
    {
     "name": "stderr",
     "output_type": "stream",
     "text": [
      "/var/tmp/rojasolvera/ipykernel_485947/3486713291.py:6: FutureWarning: The frame.append method is deprecated and will be removed from pandas in a future version. Use pandas.concat instead.\n",
      "  outputs=outputs.append(output,sort=False)\n",
      "/var/tmp/rojasolvera/ipykernel_485947/3486713291.py:6: FutureWarning: The frame.append method is deprecated and will be removed from pandas in a future version. Use pandas.concat instead.\n",
      "  outputs=outputs.append(output,sort=False)\n",
      "/var/tmp/rojasolvera/ipykernel_485947/3486713291.py:6: FutureWarning: The frame.append method is deprecated and will be removed from pandas in a future version. Use pandas.concat instead.\n",
      "  outputs=outputs.append(output,sort=False)\n",
      "/var/tmp/rojasolvera/ipykernel_485947/3486713291.py:6: FutureWarning: The frame.append method is deprecated and will be removed from pandas in a future version. Use pandas.concat instead.\n",
      "  outputs=outputs.append(output,sort=False)\n"
     ]
    },
    {
     "name": "stdout",
     "output_type": "stream",
     "text": [
      "1/1 [==============================] - 0s 23ms/step\n",
      "1/1 [==============================] - 0s 22ms/step\n",
      "1/1 [==============================] - 0s 23ms/step\n",
      "1/1 [==============================] - 0s 22ms/step\n"
     ]
    },
    {
     "name": "stderr",
     "output_type": "stream",
     "text": [
      "/var/tmp/rojasolvera/ipykernel_485947/3486713291.py:6: FutureWarning: The frame.append method is deprecated and will be removed from pandas in a future version. Use pandas.concat instead.\n",
      "  outputs=outputs.append(output,sort=False)\n",
      "/var/tmp/rojasolvera/ipykernel_485947/3486713291.py:6: FutureWarning: The frame.append method is deprecated and will be removed from pandas in a future version. Use pandas.concat instead.\n",
      "  outputs=outputs.append(output,sort=False)\n",
      "/var/tmp/rojasolvera/ipykernel_485947/3486713291.py:6: FutureWarning: The frame.append method is deprecated and will be removed from pandas in a future version. Use pandas.concat instead.\n",
      "  outputs=outputs.append(output,sort=False)\n",
      "/var/tmp/rojasolvera/ipykernel_485947/3486713291.py:6: FutureWarning: The frame.append method is deprecated and will be removed from pandas in a future version. Use pandas.concat instead.\n",
      "  outputs=outputs.append(output,sort=False)\n"
     ]
    },
    {
     "name": "stdout",
     "output_type": "stream",
     "text": [
      "1/1 [==============================] - 0s 22ms/step\n",
      "1/1 [==============================] - 0s 22ms/step\n",
      "1/1 [==============================] - 0s 21ms/step\n",
      "1/1 [==============================] - 0s 24ms/step\n"
     ]
    },
    {
     "name": "stderr",
     "output_type": "stream",
     "text": [
      "/var/tmp/rojasolvera/ipykernel_485947/3486713291.py:6: FutureWarning: The frame.append method is deprecated and will be removed from pandas in a future version. Use pandas.concat instead.\n",
      "  outputs=outputs.append(output,sort=False)\n",
      "/var/tmp/rojasolvera/ipykernel_485947/3486713291.py:6: FutureWarning: The frame.append method is deprecated and will be removed from pandas in a future version. Use pandas.concat instead.\n",
      "  outputs=outputs.append(output,sort=False)\n",
      "/var/tmp/rojasolvera/ipykernel_485947/3486713291.py:6: FutureWarning: The frame.append method is deprecated and will be removed from pandas in a future version. Use pandas.concat instead.\n",
      "  outputs=outputs.append(output,sort=False)\n",
      "/var/tmp/rojasolvera/ipykernel_485947/3486713291.py:6: FutureWarning: The frame.append method is deprecated and will be removed from pandas in a future version. Use pandas.concat instead.\n",
      "  outputs=outputs.append(output,sort=False)\n"
     ]
    },
    {
     "name": "stdout",
     "output_type": "stream",
     "text": [
      "1/1 [==============================] - 0s 26ms/step\n",
      "1/1 [==============================] - 0s 22ms/step\n",
      "1/1 [==============================] - 0s 22ms/step\n",
      "1/1 [==============================] - 0s 25ms/step\n"
     ]
    },
    {
     "name": "stderr",
     "output_type": "stream",
     "text": [
      "/var/tmp/rojasolvera/ipykernel_485947/3486713291.py:6: FutureWarning: The frame.append method is deprecated and will be removed from pandas in a future version. Use pandas.concat instead.\n",
      "  outputs=outputs.append(output,sort=False)\n",
      "/var/tmp/rojasolvera/ipykernel_485947/3486713291.py:6: FutureWarning: The frame.append method is deprecated and will be removed from pandas in a future version. Use pandas.concat instead.\n",
      "  outputs=outputs.append(output,sort=False)\n",
      "/var/tmp/rojasolvera/ipykernel_485947/3486713291.py:6: FutureWarning: The frame.append method is deprecated and will be removed from pandas in a future version. Use pandas.concat instead.\n",
      "  outputs=outputs.append(output,sort=False)\n",
      "/var/tmp/rojasolvera/ipykernel_485947/3486713291.py:6: FutureWarning: The frame.append method is deprecated and will be removed from pandas in a future version. Use pandas.concat instead.\n",
      "  outputs=outputs.append(output,sort=False)\n"
     ]
    },
    {
     "name": "stdout",
     "output_type": "stream",
     "text": [
      "1/1 [==============================] - 0s 23ms/step\n",
      "1/1 [==============================] - 0s 22ms/step\n",
      "1/1 [==============================] - 0s 23ms/step\n",
      "1/1 [==============================] - 0s 22ms/step\n"
     ]
    },
    {
     "name": "stderr",
     "output_type": "stream",
     "text": [
      "/var/tmp/rojasolvera/ipykernel_485947/3486713291.py:6: FutureWarning: The frame.append method is deprecated and will be removed from pandas in a future version. Use pandas.concat instead.\n",
      "  outputs=outputs.append(output,sort=False)\n",
      "/var/tmp/rojasolvera/ipykernel_485947/3486713291.py:6: FutureWarning: The frame.append method is deprecated and will be removed from pandas in a future version. Use pandas.concat instead.\n",
      "  outputs=outputs.append(output,sort=False)\n",
      "/var/tmp/rojasolvera/ipykernel_485947/3486713291.py:6: FutureWarning: The frame.append method is deprecated and will be removed from pandas in a future version. Use pandas.concat instead.\n",
      "  outputs=outputs.append(output,sort=False)\n",
      "/var/tmp/rojasolvera/ipykernel_485947/3486713291.py:6: FutureWarning: The frame.append method is deprecated and will be removed from pandas in a future version. Use pandas.concat instead.\n",
      "  outputs=outputs.append(output,sort=False)\n"
     ]
    },
    {
     "name": "stdout",
     "output_type": "stream",
     "text": [
      "1/1 [==============================] - 0s 22ms/step\n",
      "1/1 [==============================] - 0s 22ms/step\n",
      "1/1 [==============================] - 0s 22ms/step\n",
      "1/1 [==============================] - 0s 21ms/step\n"
     ]
    },
    {
     "name": "stderr",
     "output_type": "stream",
     "text": [
      "/var/tmp/rojasolvera/ipykernel_485947/3486713291.py:6: FutureWarning: The frame.append method is deprecated and will be removed from pandas in a future version. Use pandas.concat instead.\n",
      "  outputs=outputs.append(output,sort=False)\n",
      "/var/tmp/rojasolvera/ipykernel_485947/3486713291.py:6: FutureWarning: The frame.append method is deprecated and will be removed from pandas in a future version. Use pandas.concat instead.\n",
      "  outputs=outputs.append(output,sort=False)\n",
      "/var/tmp/rojasolvera/ipykernel_485947/3486713291.py:6: FutureWarning: The frame.append method is deprecated and will be removed from pandas in a future version. Use pandas.concat instead.\n",
      "  outputs=outputs.append(output,sort=False)\n",
      "/var/tmp/rojasolvera/ipykernel_485947/3486713291.py:6: FutureWarning: The frame.append method is deprecated and will be removed from pandas in a future version. Use pandas.concat instead.\n",
      "  outputs=outputs.append(output,sort=False)\n"
     ]
    },
    {
     "name": "stdout",
     "output_type": "stream",
     "text": [
      "1/1 [==============================] - 0s 23ms/step\n",
      "1/1 [==============================] - 0s 21ms/step\n",
      "1/1 [==============================] - 0s 23ms/step\n",
      "1/1 [==============================] - 0s 25ms/step\n"
     ]
    },
    {
     "name": "stderr",
     "output_type": "stream",
     "text": [
      "/var/tmp/rojasolvera/ipykernel_485947/3486713291.py:6: FutureWarning: The frame.append method is deprecated and will be removed from pandas in a future version. Use pandas.concat instead.\n",
      "  outputs=outputs.append(output,sort=False)\n",
      "/var/tmp/rojasolvera/ipykernel_485947/3486713291.py:6: FutureWarning: The frame.append method is deprecated and will be removed from pandas in a future version. Use pandas.concat instead.\n",
      "  outputs=outputs.append(output,sort=False)\n",
      "/var/tmp/rojasolvera/ipykernel_485947/3486713291.py:6: FutureWarning: The frame.append method is deprecated and will be removed from pandas in a future version. Use pandas.concat instead.\n",
      "  outputs=outputs.append(output,sort=False)\n",
      "/var/tmp/rojasolvera/ipykernel_485947/3486713291.py:6: FutureWarning: The frame.append method is deprecated and will be removed from pandas in a future version. Use pandas.concat instead.\n",
      "  outputs=outputs.append(output,sort=False)\n"
     ]
    },
    {
     "name": "stdout",
     "output_type": "stream",
     "text": [
      "1/1 [==============================] - 0s 23ms/step\n",
      "1/1 [==============================] - 0s 23ms/step\n",
      "1/1 [==============================] - 0s 23ms/step\n",
      "1/1 [==============================] - 0s 22ms/step\n"
     ]
    },
    {
     "name": "stderr",
     "output_type": "stream",
     "text": [
      "/var/tmp/rojasolvera/ipykernel_485947/3486713291.py:6: FutureWarning: The frame.append method is deprecated and will be removed from pandas in a future version. Use pandas.concat instead.\n",
      "  outputs=outputs.append(output,sort=False)\n",
      "/var/tmp/rojasolvera/ipykernel_485947/3486713291.py:6: FutureWarning: The frame.append method is deprecated and will be removed from pandas in a future version. Use pandas.concat instead.\n",
      "  outputs=outputs.append(output,sort=False)\n",
      "/var/tmp/rojasolvera/ipykernel_485947/3486713291.py:6: FutureWarning: The frame.append method is deprecated and will be removed from pandas in a future version. Use pandas.concat instead.\n",
      "  outputs=outputs.append(output,sort=False)\n",
      "/var/tmp/rojasolvera/ipykernel_485947/3486713291.py:6: FutureWarning: The frame.append method is deprecated and will be removed from pandas in a future version. Use pandas.concat instead.\n",
      "  outputs=outputs.append(output,sort=False)\n"
     ]
    },
    {
     "name": "stdout",
     "output_type": "stream",
     "text": [
      "1/1 [==============================] - 0s 23ms/step\n",
      "1/1 [==============================] - 0s 21ms/step\n",
      "1/1 [==============================] - 0s 21ms/step\n",
      "1/1 [==============================] - 0s 22ms/step\n"
     ]
    },
    {
     "name": "stderr",
     "output_type": "stream",
     "text": [
      "/var/tmp/rojasolvera/ipykernel_485947/3486713291.py:6: FutureWarning: The frame.append method is deprecated and will be removed from pandas in a future version. Use pandas.concat instead.\n",
      "  outputs=outputs.append(output,sort=False)\n",
      "/var/tmp/rojasolvera/ipykernel_485947/3486713291.py:6: FutureWarning: The frame.append method is deprecated and will be removed from pandas in a future version. Use pandas.concat instead.\n",
      "  outputs=outputs.append(output,sort=False)\n",
      "/var/tmp/rojasolvera/ipykernel_485947/3486713291.py:6: FutureWarning: The frame.append method is deprecated and will be removed from pandas in a future version. Use pandas.concat instead.\n",
      "  outputs=outputs.append(output,sort=False)\n",
      "/var/tmp/rojasolvera/ipykernel_485947/3486713291.py:6: FutureWarning: The frame.append method is deprecated and will be removed from pandas in a future version. Use pandas.concat instead.\n",
      "  outputs=outputs.append(output,sort=False)\n"
     ]
    },
    {
     "name": "stdout",
     "output_type": "stream",
     "text": [
      "1/1 [==============================] - 0s 24ms/step\n",
      "1/1 [==============================] - 0s 22ms/step\n",
      "1/1 [==============================] - 0s 24ms/step\n",
      "1/1 [==============================] - 0s 25ms/step\n"
     ]
    },
    {
     "name": "stderr",
     "output_type": "stream",
     "text": [
      "/var/tmp/rojasolvera/ipykernel_485947/3486713291.py:6: FutureWarning: The frame.append method is deprecated and will be removed from pandas in a future version. Use pandas.concat instead.\n",
      "  outputs=outputs.append(output,sort=False)\n",
      "/var/tmp/rojasolvera/ipykernel_485947/3486713291.py:6: FutureWarning: The frame.append method is deprecated and will be removed from pandas in a future version. Use pandas.concat instead.\n",
      "  outputs=outputs.append(output,sort=False)\n",
      "/var/tmp/rojasolvera/ipykernel_485947/3486713291.py:6: FutureWarning: The frame.append method is deprecated and will be removed from pandas in a future version. Use pandas.concat instead.\n",
      "  outputs=outputs.append(output,sort=False)\n",
      "/var/tmp/rojasolvera/ipykernel_485947/3486713291.py:6: FutureWarning: The frame.append method is deprecated and will be removed from pandas in a future version. Use pandas.concat instead.\n",
      "  outputs=outputs.append(output,sort=False)\n"
     ]
    },
    {
     "name": "stdout",
     "output_type": "stream",
     "text": [
      "1/1 [==============================] - 0s 24ms/step\n",
      "1/1 [==============================] - 0s 22ms/step\n",
      "1/1 [==============================] - 0s 22ms/step\n",
      "1/1 [==============================] - 0s 22ms/step\n"
     ]
    },
    {
     "name": "stderr",
     "output_type": "stream",
     "text": [
      "/var/tmp/rojasolvera/ipykernel_485947/3486713291.py:6: FutureWarning: The frame.append method is deprecated and will be removed from pandas in a future version. Use pandas.concat instead.\n",
      "  outputs=outputs.append(output,sort=False)\n",
      "/var/tmp/rojasolvera/ipykernel_485947/3486713291.py:6: FutureWarning: The frame.append method is deprecated and will be removed from pandas in a future version. Use pandas.concat instead.\n",
      "  outputs=outputs.append(output,sort=False)\n",
      "/var/tmp/rojasolvera/ipykernel_485947/3486713291.py:6: FutureWarning: The frame.append method is deprecated and will be removed from pandas in a future version. Use pandas.concat instead.\n",
      "  outputs=outputs.append(output,sort=False)\n",
      "/var/tmp/rojasolvera/ipykernel_485947/3486713291.py:6: FutureWarning: The frame.append method is deprecated and will be removed from pandas in a future version. Use pandas.concat instead.\n",
      "  outputs=outputs.append(output,sort=False)\n"
     ]
    },
    {
     "name": "stdout",
     "output_type": "stream",
     "text": [
      "1/1 [==============================] - 0s 24ms/step\n",
      "1/1 [==============================] - 0s 22ms/step\n",
      "1/1 [==============================] - 0s 23ms/step\n",
      "1/1 [==============================] - 0s 23ms/step\n"
     ]
    },
    {
     "name": "stderr",
     "output_type": "stream",
     "text": [
      "/var/tmp/rojasolvera/ipykernel_485947/3486713291.py:6: FutureWarning: The frame.append method is deprecated and will be removed from pandas in a future version. Use pandas.concat instead.\n",
      "  outputs=outputs.append(output,sort=False)\n",
      "/var/tmp/rojasolvera/ipykernel_485947/3486713291.py:6: FutureWarning: The frame.append method is deprecated and will be removed from pandas in a future version. Use pandas.concat instead.\n",
      "  outputs=outputs.append(output,sort=False)\n",
      "/var/tmp/rojasolvera/ipykernel_485947/3486713291.py:6: FutureWarning: The frame.append method is deprecated and will be removed from pandas in a future version. Use pandas.concat instead.\n",
      "  outputs=outputs.append(output,sort=False)\n",
      "/var/tmp/rojasolvera/ipykernel_485947/3486713291.py:6: FutureWarning: The frame.append method is deprecated and will be removed from pandas in a future version. Use pandas.concat instead.\n",
      "  outputs=outputs.append(output,sort=False)\n"
     ]
    },
    {
     "name": "stdout",
     "output_type": "stream",
     "text": [
      "1/1 [==============================] - 0s 24ms/step\n",
      "1/1 [==============================] - 0s 23ms/step\n",
      "1/1 [==============================] - 0s 23ms/step\n",
      "1/1 [==============================] - 0s 23ms/step\n"
     ]
    },
    {
     "name": "stderr",
     "output_type": "stream",
     "text": [
      "/var/tmp/rojasolvera/ipykernel_485947/3486713291.py:6: FutureWarning: The frame.append method is deprecated and will be removed from pandas in a future version. Use pandas.concat instead.\n",
      "  outputs=outputs.append(output,sort=False)\n",
      "/var/tmp/rojasolvera/ipykernel_485947/3486713291.py:6: FutureWarning: The frame.append method is deprecated and will be removed from pandas in a future version. Use pandas.concat instead.\n",
      "  outputs=outputs.append(output,sort=False)\n",
      "/var/tmp/rojasolvera/ipykernel_485947/3486713291.py:6: FutureWarning: The frame.append method is deprecated and will be removed from pandas in a future version. Use pandas.concat instead.\n",
      "  outputs=outputs.append(output,sort=False)\n",
      "/var/tmp/rojasolvera/ipykernel_485947/3486713291.py:6: FutureWarning: The frame.append method is deprecated and will be removed from pandas in a future version. Use pandas.concat instead.\n",
      "  outputs=outputs.append(output,sort=False)\n"
     ]
    },
    {
     "name": "stdout",
     "output_type": "stream",
     "text": [
      "1/1 [==============================] - 0s 22ms/step\n",
      "1/1 [==============================] - 0s 24ms/step\n",
      "1/1 [==============================] - 0s 23ms/step\n",
      "1/1 [==============================] - 0s 22ms/step\n"
     ]
    },
    {
     "name": "stderr",
     "output_type": "stream",
     "text": [
      "/var/tmp/rojasolvera/ipykernel_485947/3486713291.py:6: FutureWarning: The frame.append method is deprecated and will be removed from pandas in a future version. Use pandas.concat instead.\n",
      "  outputs=outputs.append(output,sort=False)\n",
      "/var/tmp/rojasolvera/ipykernel_485947/3486713291.py:6: FutureWarning: The frame.append method is deprecated and will be removed from pandas in a future version. Use pandas.concat instead.\n",
      "  outputs=outputs.append(output,sort=False)\n",
      "/var/tmp/rojasolvera/ipykernel_485947/3486713291.py:6: FutureWarning: The frame.append method is deprecated and will be removed from pandas in a future version. Use pandas.concat instead.\n",
      "  outputs=outputs.append(output,sort=False)\n",
      "/var/tmp/rojasolvera/ipykernel_485947/3486713291.py:6: FutureWarning: The frame.append method is deprecated and will be removed from pandas in a future version. Use pandas.concat instead.\n",
      "  outputs=outputs.append(output,sort=False)\n"
     ]
    },
    {
     "name": "stdout",
     "output_type": "stream",
     "text": [
      "1/1 [==============================] - 0s 23ms/step\n",
      "1/1 [==============================] - 0s 22ms/step\n",
      "1/1 [==============================] - 0s 23ms/step\n",
      "1/1 [==============================] - 0s 23ms/step\n"
     ]
    },
    {
     "name": "stderr",
     "output_type": "stream",
     "text": [
      "/var/tmp/rojasolvera/ipykernel_485947/3486713291.py:6: FutureWarning: The frame.append method is deprecated and will be removed from pandas in a future version. Use pandas.concat instead.\n",
      "  outputs=outputs.append(output,sort=False)\n",
      "/var/tmp/rojasolvera/ipykernel_485947/3486713291.py:6: FutureWarning: The frame.append method is deprecated and will be removed from pandas in a future version. Use pandas.concat instead.\n",
      "  outputs=outputs.append(output,sort=False)\n",
      "/var/tmp/rojasolvera/ipykernel_485947/3486713291.py:6: FutureWarning: The frame.append method is deprecated and will be removed from pandas in a future version. Use pandas.concat instead.\n",
      "  outputs=outputs.append(output,sort=False)\n",
      "/var/tmp/rojasolvera/ipykernel_485947/3486713291.py:6: FutureWarning: The frame.append method is deprecated and will be removed from pandas in a future version. Use pandas.concat instead.\n",
      "  outputs=outputs.append(output,sort=False)\n"
     ]
    },
    {
     "name": "stdout",
     "output_type": "stream",
     "text": [
      "1/1 [==============================] - 0s 24ms/step\n",
      "1/1 [==============================] - 0s 26ms/step\n",
      "1/1 [==============================] - 0s 22ms/step\n",
      "1/1 [==============================] - 0s 23ms/step\n"
     ]
    },
    {
     "name": "stderr",
     "output_type": "stream",
     "text": [
      "/var/tmp/rojasolvera/ipykernel_485947/3486713291.py:6: FutureWarning: The frame.append method is deprecated and will be removed from pandas in a future version. Use pandas.concat instead.\n",
      "  outputs=outputs.append(output,sort=False)\n",
      "/var/tmp/rojasolvera/ipykernel_485947/3486713291.py:6: FutureWarning: The frame.append method is deprecated and will be removed from pandas in a future version. Use pandas.concat instead.\n",
      "  outputs=outputs.append(output,sort=False)\n",
      "/var/tmp/rojasolvera/ipykernel_485947/3486713291.py:6: FutureWarning: The frame.append method is deprecated and will be removed from pandas in a future version. Use pandas.concat instead.\n",
      "  outputs=outputs.append(output,sort=False)\n"
     ]
    },
    {
     "name": "stdout",
     "output_type": "stream",
     "text": [
      "1/1 [==============================] - 0s 22ms/step\n",
      "1/1 [==============================] - 0s 22ms/step\n",
      "1/1 [==============================] - 0s 22ms/step\n"
     ]
    },
    {
     "name": "stderr",
     "output_type": "stream",
     "text": [
      "/var/tmp/rojasolvera/ipykernel_485947/3486713291.py:6: FutureWarning: The frame.append method is deprecated and will be removed from pandas in a future version. Use pandas.concat instead.\n",
      "  outputs=outputs.append(output,sort=False)\n",
      "/var/tmp/rojasolvera/ipykernel_485947/3486713291.py:6: FutureWarning: The frame.append method is deprecated and will be removed from pandas in a future version. Use pandas.concat instead.\n",
      "  outputs=outputs.append(output,sort=False)\n",
      "/var/tmp/rojasolvera/ipykernel_485947/3486713291.py:6: FutureWarning: The frame.append method is deprecated and will be removed from pandas in a future version. Use pandas.concat instead.\n",
      "  outputs=outputs.append(output,sort=False)\n",
      "/var/tmp/rojasolvera/ipykernel_485947/3486713291.py:6: FutureWarning: The frame.append method is deprecated and will be removed from pandas in a future version. Use pandas.concat instead.\n",
      "  outputs=outputs.append(output,sort=False)\n"
     ]
    },
    {
     "name": "stdout",
     "output_type": "stream",
     "text": [
      "1/1 [==============================] - 0s 23ms/step\n",
      "1/1 [==============================] - 0s 22ms/step\n",
      "1/1 [==============================] - 0s 23ms/step\n",
      "1/1 [==============================] - 0s 22ms/step\n"
     ]
    },
    {
     "name": "stderr",
     "output_type": "stream",
     "text": [
      "/var/tmp/rojasolvera/ipykernel_485947/3486713291.py:6: FutureWarning: The frame.append method is deprecated and will be removed from pandas in a future version. Use pandas.concat instead.\n",
      "  outputs=outputs.append(output,sort=False)\n",
      "/var/tmp/rojasolvera/ipykernel_485947/3486713291.py:6: FutureWarning: The frame.append method is deprecated and will be removed from pandas in a future version. Use pandas.concat instead.\n",
      "  outputs=outputs.append(output,sort=False)\n",
      "/var/tmp/rojasolvera/ipykernel_485947/3486713291.py:6: FutureWarning: The frame.append method is deprecated and will be removed from pandas in a future version. Use pandas.concat instead.\n",
      "  outputs=outputs.append(output,sort=False)\n",
      "/var/tmp/rojasolvera/ipykernel_485947/3486713291.py:6: FutureWarning: The frame.append method is deprecated and will be removed from pandas in a future version. Use pandas.concat instead.\n",
      "  outputs=outputs.append(output,sort=False)\n"
     ]
    },
    {
     "name": "stdout",
     "output_type": "stream",
     "text": [
      "1/1 [==============================] - 0s 23ms/step\n",
      "1/1 [==============================] - 0s 22ms/step\n",
      "1/1 [==============================] - 0s 22ms/step\n",
      "1/1 [==============================] - 0s 21ms/step\n"
     ]
    },
    {
     "name": "stderr",
     "output_type": "stream",
     "text": [
      "/var/tmp/rojasolvera/ipykernel_485947/3486713291.py:6: FutureWarning: The frame.append method is deprecated and will be removed from pandas in a future version. Use pandas.concat instead.\n",
      "  outputs=outputs.append(output,sort=False)\n",
      "/var/tmp/rojasolvera/ipykernel_485947/3486713291.py:6: FutureWarning: The frame.append method is deprecated and will be removed from pandas in a future version. Use pandas.concat instead.\n",
      "  outputs=outputs.append(output,sort=False)\n",
      "/var/tmp/rojasolvera/ipykernel_485947/3486713291.py:6: FutureWarning: The frame.append method is deprecated and will be removed from pandas in a future version. Use pandas.concat instead.\n",
      "  outputs=outputs.append(output,sort=False)\n",
      "/var/tmp/rojasolvera/ipykernel_485947/3486713291.py:6: FutureWarning: The frame.append method is deprecated and will be removed from pandas in a future version. Use pandas.concat instead.\n",
      "  outputs=outputs.append(output,sort=False)\n"
     ]
    },
    {
     "name": "stdout",
     "output_type": "stream",
     "text": [
      "1/1 [==============================] - 0s 23ms/step\n",
      "1/1 [==============================] - 0s 23ms/step\n",
      "1/1 [==============================] - 0s 23ms/step\n",
      "1/1 [==============================] - 0s 21ms/step\n"
     ]
    },
    {
     "name": "stderr",
     "output_type": "stream",
     "text": [
      "/var/tmp/rojasolvera/ipykernel_485947/3486713291.py:6: FutureWarning: The frame.append method is deprecated and will be removed from pandas in a future version. Use pandas.concat instead.\n",
      "  outputs=outputs.append(output,sort=False)\n",
      "/var/tmp/rojasolvera/ipykernel_485947/3486713291.py:6: FutureWarning: The frame.append method is deprecated and will be removed from pandas in a future version. Use pandas.concat instead.\n",
      "  outputs=outputs.append(output,sort=False)\n",
      "/var/tmp/rojasolvera/ipykernel_485947/3486713291.py:6: FutureWarning: The frame.append method is deprecated and will be removed from pandas in a future version. Use pandas.concat instead.\n",
      "  outputs=outputs.append(output,sort=False)\n",
      "/var/tmp/rojasolvera/ipykernel_485947/3486713291.py:6: FutureWarning: The frame.append method is deprecated and will be removed from pandas in a future version. Use pandas.concat instead.\n",
      "  outputs=outputs.append(output,sort=False)\n"
     ]
    },
    {
     "name": "stdout",
     "output_type": "stream",
     "text": [
      "1/1 [==============================] - 0s 23ms/step\n",
      "1/1 [==============================] - 0s 21ms/step\n",
      "1/1 [==============================] - 0s 23ms/step\n",
      "1/1 [==============================] - 0s 22ms/step\n"
     ]
    },
    {
     "name": "stderr",
     "output_type": "stream",
     "text": [
      "/var/tmp/rojasolvera/ipykernel_485947/3486713291.py:6: FutureWarning: The frame.append method is deprecated and will be removed from pandas in a future version. Use pandas.concat instead.\n",
      "  outputs=outputs.append(output,sort=False)\n",
      "/var/tmp/rojasolvera/ipykernel_485947/3486713291.py:6: FutureWarning: The frame.append method is deprecated and will be removed from pandas in a future version. Use pandas.concat instead.\n",
      "  outputs=outputs.append(output,sort=False)\n",
      "/var/tmp/rojasolvera/ipykernel_485947/3486713291.py:6: FutureWarning: The frame.append method is deprecated and will be removed from pandas in a future version. Use pandas.concat instead.\n",
      "  outputs=outputs.append(output,sort=False)\n",
      "/var/tmp/rojasolvera/ipykernel_485947/3486713291.py:6: FutureWarning: The frame.append method is deprecated and will be removed from pandas in a future version. Use pandas.concat instead.\n",
      "  outputs=outputs.append(output,sort=False)\n"
     ]
    },
    {
     "name": "stdout",
     "output_type": "stream",
     "text": [
      "1/1 [==============================] - 0s 24ms/step\n",
      "1/1 [==============================] - 0s 22ms/step\n",
      "1/1 [==============================] - 0s 23ms/step\n",
      "1/1 [==============================] - 0s 23ms/step\n"
     ]
    },
    {
     "name": "stderr",
     "output_type": "stream",
     "text": [
      "/var/tmp/rojasolvera/ipykernel_485947/3486713291.py:6: FutureWarning: The frame.append method is deprecated and will be removed from pandas in a future version. Use pandas.concat instead.\n",
      "  outputs=outputs.append(output,sort=False)\n",
      "/var/tmp/rojasolvera/ipykernel_485947/3486713291.py:6: FutureWarning: The frame.append method is deprecated and will be removed from pandas in a future version. Use pandas.concat instead.\n",
      "  outputs=outputs.append(output,sort=False)\n",
      "/var/tmp/rojasolvera/ipykernel_485947/3486713291.py:6: FutureWarning: The frame.append method is deprecated and will be removed from pandas in a future version. Use pandas.concat instead.\n",
      "  outputs=outputs.append(output,sort=False)\n",
      "/var/tmp/rojasolvera/ipykernel_485947/3486713291.py:6: FutureWarning: The frame.append method is deprecated and will be removed from pandas in a future version. Use pandas.concat instead.\n",
      "  outputs=outputs.append(output,sort=False)\n"
     ]
    },
    {
     "name": "stdout",
     "output_type": "stream",
     "text": [
      "1/1 [==============================] - 0s 32ms/step\n",
      "1/1 [==============================] - 0s 22ms/step\n",
      "1/1 [==============================] - 0s 23ms/step\n",
      "1/1 [==============================] - 0s 24ms/step\n"
     ]
    },
    {
     "name": "stderr",
     "output_type": "stream",
     "text": [
      "/var/tmp/rojasolvera/ipykernel_485947/3486713291.py:6: FutureWarning: The frame.append method is deprecated and will be removed from pandas in a future version. Use pandas.concat instead.\n",
      "  outputs=outputs.append(output,sort=False)\n",
      "/var/tmp/rojasolvera/ipykernel_485947/3486713291.py:6: FutureWarning: The frame.append method is deprecated and will be removed from pandas in a future version. Use pandas.concat instead.\n",
      "  outputs=outputs.append(output,sort=False)\n",
      "/var/tmp/rojasolvera/ipykernel_485947/3486713291.py:6: FutureWarning: The frame.append method is deprecated and will be removed from pandas in a future version. Use pandas.concat instead.\n",
      "  outputs=outputs.append(output,sort=False)\n",
      "/var/tmp/rojasolvera/ipykernel_485947/3486713291.py:6: FutureWarning: The frame.append method is deprecated and will be removed from pandas in a future version. Use pandas.concat instead.\n",
      "  outputs=outputs.append(output,sort=False)\n"
     ]
    },
    {
     "name": "stdout",
     "output_type": "stream",
     "text": [
      "1/1 [==============================] - 0s 23ms/step\n",
      "1/1 [==============================] - 0s 22ms/step\n",
      "1/1 [==============================] - 0s 23ms/step\n",
      "1/1 [==============================] - 0s 24ms/step\n"
     ]
    },
    {
     "name": "stderr",
     "output_type": "stream",
     "text": [
      "/var/tmp/rojasolvera/ipykernel_485947/3486713291.py:6: FutureWarning: The frame.append method is deprecated and will be removed from pandas in a future version. Use pandas.concat instead.\n",
      "  outputs=outputs.append(output,sort=False)\n",
      "/var/tmp/rojasolvera/ipykernel_485947/3486713291.py:6: FutureWarning: The frame.append method is deprecated and will be removed from pandas in a future version. Use pandas.concat instead.\n",
      "  outputs=outputs.append(output,sort=False)\n",
      "/var/tmp/rojasolvera/ipykernel_485947/3486713291.py:6: FutureWarning: The frame.append method is deprecated and will be removed from pandas in a future version. Use pandas.concat instead.\n",
      "  outputs=outputs.append(output,sort=False)\n",
      "/var/tmp/rojasolvera/ipykernel_485947/3486713291.py:6: FutureWarning: The frame.append method is deprecated and will be removed from pandas in a future version. Use pandas.concat instead.\n",
      "  outputs=outputs.append(output,sort=False)\n"
     ]
    },
    {
     "name": "stdout",
     "output_type": "stream",
     "text": [
      "1/1 [==============================] - 0s 23ms/step\n",
      "1/1 [==============================] - 0s 23ms/step\n",
      "1/1 [==============================] - 0s 23ms/step\n"
     ]
    },
    {
     "name": "stderr",
     "output_type": "stream",
     "text": [
      "/var/tmp/rojasolvera/ipykernel_485947/3486713291.py:6: FutureWarning: The frame.append method is deprecated and will be removed from pandas in a future version. Use pandas.concat instead.\n",
      "  outputs=outputs.append(output,sort=False)\n",
      "/var/tmp/rojasolvera/ipykernel_485947/3486713291.py:6: FutureWarning: The frame.append method is deprecated and will be removed from pandas in a future version. Use pandas.concat instead.\n",
      "  outputs=outputs.append(output,sort=False)\n",
      "/var/tmp/rojasolvera/ipykernel_485947/3486713291.py:6: FutureWarning: The frame.append method is deprecated and will be removed from pandas in a future version. Use pandas.concat instead.\n",
      "  outputs=outputs.append(output,sort=False)\n"
     ]
    },
    {
     "name": "stdout",
     "output_type": "stream",
     "text": [
      "1/1 [==============================] - 0s 24ms/step\n",
      "1/1 [==============================] - 0s 22ms/step\n",
      "1/1 [==============================] - 0s 23ms/step\n",
      "1/1 [==============================] - 0s 23ms/step\n"
     ]
    },
    {
     "name": "stderr",
     "output_type": "stream",
     "text": [
      "/var/tmp/rojasolvera/ipykernel_485947/3486713291.py:6: FutureWarning: The frame.append method is deprecated and will be removed from pandas in a future version. Use pandas.concat instead.\n",
      "  outputs=outputs.append(output,sort=False)\n",
      "/var/tmp/rojasolvera/ipykernel_485947/3486713291.py:6: FutureWarning: The frame.append method is deprecated and will be removed from pandas in a future version. Use pandas.concat instead.\n",
      "  outputs=outputs.append(output,sort=False)\n",
      "/var/tmp/rojasolvera/ipykernel_485947/3486713291.py:6: FutureWarning: The frame.append method is deprecated and will be removed from pandas in a future version. Use pandas.concat instead.\n",
      "  outputs=outputs.append(output,sort=False)\n",
      "/var/tmp/rojasolvera/ipykernel_485947/3486713291.py:6: FutureWarning: The frame.append method is deprecated and will be removed from pandas in a future version. Use pandas.concat instead.\n",
      "  outputs=outputs.append(output,sort=False)\n"
     ]
    },
    {
     "name": "stdout",
     "output_type": "stream",
     "text": [
      "1/1 [==============================] - 0s 23ms/step\n",
      "1/1 [==============================] - 0s 24ms/step\n",
      "1/1 [==============================] - 0s 25ms/step\n",
      "1/1 [==============================] - 0s 22ms/step\n"
     ]
    },
    {
     "name": "stderr",
     "output_type": "stream",
     "text": [
      "/var/tmp/rojasolvera/ipykernel_485947/3486713291.py:6: FutureWarning: The frame.append method is deprecated and will be removed from pandas in a future version. Use pandas.concat instead.\n",
      "  outputs=outputs.append(output,sort=False)\n",
      "/var/tmp/rojasolvera/ipykernel_485947/3486713291.py:6: FutureWarning: The frame.append method is deprecated and will be removed from pandas in a future version. Use pandas.concat instead.\n",
      "  outputs=outputs.append(output,sort=False)\n",
      "/var/tmp/rojasolvera/ipykernel_485947/3486713291.py:6: FutureWarning: The frame.append method is deprecated and will be removed from pandas in a future version. Use pandas.concat instead.\n",
      "  outputs=outputs.append(output,sort=False)\n",
      "/var/tmp/rojasolvera/ipykernel_485947/3486713291.py:6: FutureWarning: The frame.append method is deprecated and will be removed from pandas in a future version. Use pandas.concat instead.\n",
      "  outputs=outputs.append(output,sort=False)\n"
     ]
    },
    {
     "name": "stdout",
     "output_type": "stream",
     "text": [
      "1/1 [==============================] - 0s 23ms/step\n",
      "1/1 [==============================] - 0s 21ms/step\n",
      "1/1 [==============================] - 0s 22ms/step\n",
      "1/1 [==============================] - 0s 21ms/step\n"
     ]
    },
    {
     "name": "stderr",
     "output_type": "stream",
     "text": [
      "/var/tmp/rojasolvera/ipykernel_485947/3486713291.py:6: FutureWarning: The frame.append method is deprecated and will be removed from pandas in a future version. Use pandas.concat instead.\n",
      "  outputs=outputs.append(output,sort=False)\n",
      "/var/tmp/rojasolvera/ipykernel_485947/3486713291.py:6: FutureWarning: The frame.append method is deprecated and will be removed from pandas in a future version. Use pandas.concat instead.\n",
      "  outputs=outputs.append(output,sort=False)\n",
      "/var/tmp/rojasolvera/ipykernel_485947/3486713291.py:6: FutureWarning: The frame.append method is deprecated and will be removed from pandas in a future version. Use pandas.concat instead.\n",
      "  outputs=outputs.append(output,sort=False)\n",
      "/var/tmp/rojasolvera/ipykernel_485947/3486713291.py:6: FutureWarning: The frame.append method is deprecated and will be removed from pandas in a future version. Use pandas.concat instead.\n",
      "  outputs=outputs.append(output,sort=False)\n"
     ]
    },
    {
     "name": "stdout",
     "output_type": "stream",
     "text": [
      "1/1 [==============================] - 0s 22ms/step\n",
      "1/1 [==============================] - 0s 23ms/step\n",
      "1/1 [==============================] - 0s 22ms/step\n",
      "1/1 [==============================] - 0s 24ms/step\n"
     ]
    },
    {
     "name": "stderr",
     "output_type": "stream",
     "text": [
      "/var/tmp/rojasolvera/ipykernel_485947/3486713291.py:6: FutureWarning: The frame.append method is deprecated and will be removed from pandas in a future version. Use pandas.concat instead.\n",
      "  outputs=outputs.append(output,sort=False)\n",
      "/var/tmp/rojasolvera/ipykernel_485947/3486713291.py:6: FutureWarning: The frame.append method is deprecated and will be removed from pandas in a future version. Use pandas.concat instead.\n",
      "  outputs=outputs.append(output,sort=False)\n",
      "/var/tmp/rojasolvera/ipykernel_485947/3486713291.py:6: FutureWarning: The frame.append method is deprecated and will be removed from pandas in a future version. Use pandas.concat instead.\n",
      "  outputs=outputs.append(output,sort=False)\n",
      "/var/tmp/rojasolvera/ipykernel_485947/3486713291.py:6: FutureWarning: The frame.append method is deprecated and will be removed from pandas in a future version. Use pandas.concat instead.\n",
      "  outputs=outputs.append(output,sort=False)\n"
     ]
    },
    {
     "name": "stdout",
     "output_type": "stream",
     "text": [
      "1/1 [==============================] - 0s 22ms/step\n",
      "1/1 [==============================] - 0s 23ms/step\n",
      "1/1 [==============================] - 0s 22ms/step\n",
      "1/1 [==============================] - 0s 21ms/step\n"
     ]
    },
    {
     "name": "stderr",
     "output_type": "stream",
     "text": [
      "/var/tmp/rojasolvera/ipykernel_485947/3486713291.py:6: FutureWarning: The frame.append method is deprecated and will be removed from pandas in a future version. Use pandas.concat instead.\n",
      "  outputs=outputs.append(output,sort=False)\n",
      "/var/tmp/rojasolvera/ipykernel_485947/3486713291.py:6: FutureWarning: The frame.append method is deprecated and will be removed from pandas in a future version. Use pandas.concat instead.\n",
      "  outputs=outputs.append(output,sort=False)\n",
      "/var/tmp/rojasolvera/ipykernel_485947/3486713291.py:6: FutureWarning: The frame.append method is deprecated and will be removed from pandas in a future version. Use pandas.concat instead.\n",
      "  outputs=outputs.append(output,sort=False)\n",
      "/var/tmp/rojasolvera/ipykernel_485947/3486713291.py:6: FutureWarning: The frame.append method is deprecated and will be removed from pandas in a future version. Use pandas.concat instead.\n",
      "  outputs=outputs.append(output,sort=False)\n"
     ]
    },
    {
     "name": "stdout",
     "output_type": "stream",
     "text": [
      "1/1 [==============================] - 0s 22ms/step\n",
      "1/1 [==============================] - 0s 22ms/step\n",
      "1/1 [==============================] - 0s 22ms/step\n",
      "1/1 [==============================] - 0s 21ms/step\n"
     ]
    },
    {
     "name": "stderr",
     "output_type": "stream",
     "text": [
      "/var/tmp/rojasolvera/ipykernel_485947/3486713291.py:6: FutureWarning: The frame.append method is deprecated and will be removed from pandas in a future version. Use pandas.concat instead.\n",
      "  outputs=outputs.append(output,sort=False)\n",
      "/var/tmp/rojasolvera/ipykernel_485947/3486713291.py:6: FutureWarning: The frame.append method is deprecated and will be removed from pandas in a future version. Use pandas.concat instead.\n",
      "  outputs=outputs.append(output,sort=False)\n",
      "/var/tmp/rojasolvera/ipykernel_485947/3486713291.py:6: FutureWarning: The frame.append method is deprecated and will be removed from pandas in a future version. Use pandas.concat instead.\n",
      "  outputs=outputs.append(output,sort=False)\n",
      "/var/tmp/rojasolvera/ipykernel_485947/3486713291.py:6: FutureWarning: The frame.append method is deprecated and will be removed from pandas in a future version. Use pandas.concat instead.\n",
      "  outputs=outputs.append(output,sort=False)\n"
     ]
    },
    {
     "name": "stdout",
     "output_type": "stream",
     "text": [
      "1/1 [==============================] - 0s 23ms/step\n",
      "1/1 [==============================] - 0s 22ms/step\n",
      "1/1 [==============================] - 0s 23ms/step\n",
      "1/1 [==============================] - 0s 22ms/step\n"
     ]
    },
    {
     "name": "stderr",
     "output_type": "stream",
     "text": [
      "/var/tmp/rojasolvera/ipykernel_485947/3486713291.py:6: FutureWarning: The frame.append method is deprecated and will be removed from pandas in a future version. Use pandas.concat instead.\n",
      "  outputs=outputs.append(output,sort=False)\n",
      "/var/tmp/rojasolvera/ipykernel_485947/3486713291.py:6: FutureWarning: The frame.append method is deprecated and will be removed from pandas in a future version. Use pandas.concat instead.\n",
      "  outputs=outputs.append(output,sort=False)\n",
      "/var/tmp/rojasolvera/ipykernel_485947/3486713291.py:6: FutureWarning: The frame.append method is deprecated and will be removed from pandas in a future version. Use pandas.concat instead.\n",
      "  outputs=outputs.append(output,sort=False)\n",
      "/var/tmp/rojasolvera/ipykernel_485947/3486713291.py:6: FutureWarning: The frame.append method is deprecated and will be removed from pandas in a future version. Use pandas.concat instead.\n",
      "  outputs=outputs.append(output,sort=False)\n"
     ]
    },
    {
     "name": "stdout",
     "output_type": "stream",
     "text": [
      "1/1 [==============================] - 0s 23ms/step\n",
      "1/1 [==============================] - 0s 21ms/step\n",
      "1/1 [==============================] - 0s 22ms/step\n",
      "1/1 [==============================] - 0s 23ms/step\n"
     ]
    },
    {
     "name": "stderr",
     "output_type": "stream",
     "text": [
      "/var/tmp/rojasolvera/ipykernel_485947/3486713291.py:6: FutureWarning: The frame.append method is deprecated and will be removed from pandas in a future version. Use pandas.concat instead.\n",
      "  outputs=outputs.append(output,sort=False)\n",
      "/var/tmp/rojasolvera/ipykernel_485947/3486713291.py:6: FutureWarning: The frame.append method is deprecated and will be removed from pandas in a future version. Use pandas.concat instead.\n",
      "  outputs=outputs.append(output,sort=False)\n",
      "/var/tmp/rojasolvera/ipykernel_485947/3486713291.py:6: FutureWarning: The frame.append method is deprecated and will be removed from pandas in a future version. Use pandas.concat instead.\n",
      "  outputs=outputs.append(output,sort=False)\n",
      "/var/tmp/rojasolvera/ipykernel_485947/3486713291.py:6: FutureWarning: The frame.append method is deprecated and will be removed from pandas in a future version. Use pandas.concat instead.\n",
      "  outputs=outputs.append(output,sort=False)\n"
     ]
    },
    {
     "name": "stdout",
     "output_type": "stream",
     "text": [
      "1/1 [==============================] - 0s 23ms/step\n",
      "1/1 [==============================] - 0s 22ms/step\n",
      "1/1 [==============================] - 0s 23ms/step\n",
      "1/1 [==============================] - 0s 23ms/step\n"
     ]
    },
    {
     "name": "stderr",
     "output_type": "stream",
     "text": [
      "/var/tmp/rojasolvera/ipykernel_485947/3486713291.py:6: FutureWarning: The frame.append method is deprecated and will be removed from pandas in a future version. Use pandas.concat instead.\n",
      "  outputs=outputs.append(output,sort=False)\n",
      "/var/tmp/rojasolvera/ipykernel_485947/3486713291.py:6: FutureWarning: The frame.append method is deprecated and will be removed from pandas in a future version. Use pandas.concat instead.\n",
      "  outputs=outputs.append(output,sort=False)\n",
      "/var/tmp/rojasolvera/ipykernel_485947/3486713291.py:6: FutureWarning: The frame.append method is deprecated and will be removed from pandas in a future version. Use pandas.concat instead.\n",
      "  outputs=outputs.append(output,sort=False)\n",
      "/var/tmp/rojasolvera/ipykernel_485947/3486713291.py:6: FutureWarning: The frame.append method is deprecated and will be removed from pandas in a future version. Use pandas.concat instead.\n",
      "  outputs=outputs.append(output,sort=False)\n"
     ]
    },
    {
     "name": "stdout",
     "output_type": "stream",
     "text": [
      "1/1 [==============================] - 0s 22ms/step\n",
      "1/1 [==============================] - 0s 24ms/step\n",
      "1/1 [==============================] - 0s 22ms/step\n",
      "1/1 [==============================] - 0s 24ms/step\n"
     ]
    },
    {
     "name": "stderr",
     "output_type": "stream",
     "text": [
      "/var/tmp/rojasolvera/ipykernel_485947/3486713291.py:6: FutureWarning: The frame.append method is deprecated and will be removed from pandas in a future version. Use pandas.concat instead.\n",
      "  outputs=outputs.append(output,sort=False)\n",
      "/var/tmp/rojasolvera/ipykernel_485947/3486713291.py:6: FutureWarning: The frame.append method is deprecated and will be removed from pandas in a future version. Use pandas.concat instead.\n",
      "  outputs=outputs.append(output,sort=False)\n",
      "/var/tmp/rojasolvera/ipykernel_485947/3486713291.py:6: FutureWarning: The frame.append method is deprecated and will be removed from pandas in a future version. Use pandas.concat instead.\n",
      "  outputs=outputs.append(output,sort=False)\n",
      "/var/tmp/rojasolvera/ipykernel_485947/3486713291.py:6: FutureWarning: The frame.append method is deprecated and will be removed from pandas in a future version. Use pandas.concat instead.\n",
      "  outputs=outputs.append(output,sort=False)\n"
     ]
    },
    {
     "name": "stdout",
     "output_type": "stream",
     "text": [
      "1/1 [==============================] - 0s 24ms/step\n",
      "1/1 [==============================] - 0s 23ms/step\n",
      "1/1 [==============================] - 0s 22ms/step\n",
      "1/1 [==============================] - 0s 22ms/step\n"
     ]
    },
    {
     "name": "stderr",
     "output_type": "stream",
     "text": [
      "/var/tmp/rojasolvera/ipykernel_485947/3486713291.py:6: FutureWarning: The frame.append method is deprecated and will be removed from pandas in a future version. Use pandas.concat instead.\n",
      "  outputs=outputs.append(output,sort=False)\n",
      "/var/tmp/rojasolvera/ipykernel_485947/3486713291.py:6: FutureWarning: The frame.append method is deprecated and will be removed from pandas in a future version. Use pandas.concat instead.\n",
      "  outputs=outputs.append(output,sort=False)\n",
      "/var/tmp/rojasolvera/ipykernel_485947/3486713291.py:6: FutureWarning: The frame.append method is deprecated and will be removed from pandas in a future version. Use pandas.concat instead.\n",
      "  outputs=outputs.append(output,sort=False)\n",
      "/var/tmp/rojasolvera/ipykernel_485947/3486713291.py:6: FutureWarning: The frame.append method is deprecated and will be removed from pandas in a future version. Use pandas.concat instead.\n",
      "  outputs=outputs.append(output,sort=False)\n"
     ]
    },
    {
     "name": "stdout",
     "output_type": "stream",
     "text": [
      "1/1 [==============================] - 0s 24ms/step\n",
      "1/1 [==============================] - 0s 21ms/step\n",
      "1/1 [==============================] - 0s 22ms/step\n",
      "1/1 [==============================] - 0s 23ms/step\n"
     ]
    },
    {
     "name": "stderr",
     "output_type": "stream",
     "text": [
      "/var/tmp/rojasolvera/ipykernel_485947/3486713291.py:6: FutureWarning: The frame.append method is deprecated and will be removed from pandas in a future version. Use pandas.concat instead.\n",
      "  outputs=outputs.append(output,sort=False)\n",
      "/var/tmp/rojasolvera/ipykernel_485947/3486713291.py:6: FutureWarning: The frame.append method is deprecated and will be removed from pandas in a future version. Use pandas.concat instead.\n",
      "  outputs=outputs.append(output,sort=False)\n",
      "/var/tmp/rojasolvera/ipykernel_485947/3486713291.py:6: FutureWarning: The frame.append method is deprecated and will be removed from pandas in a future version. Use pandas.concat instead.\n",
      "  outputs=outputs.append(output,sort=False)\n",
      "/var/tmp/rojasolvera/ipykernel_485947/3486713291.py:6: FutureWarning: The frame.append method is deprecated and will be removed from pandas in a future version. Use pandas.concat instead.\n",
      "  outputs=outputs.append(output,sort=False)\n"
     ]
    },
    {
     "name": "stdout",
     "output_type": "stream",
     "text": [
      "1/1 [==============================] - 0s 24ms/step\n",
      "1/1 [==============================] - 0s 21ms/step\n",
      "1/1 [==============================] - 0s 23ms/step\n",
      "1/1 [==============================] - 0s 23ms/step\n"
     ]
    },
    {
     "name": "stderr",
     "output_type": "stream",
     "text": [
      "/var/tmp/rojasolvera/ipykernel_485947/3486713291.py:6: FutureWarning: The frame.append method is deprecated and will be removed from pandas in a future version. Use pandas.concat instead.\n",
      "  outputs=outputs.append(output,sort=False)\n",
      "/var/tmp/rojasolvera/ipykernel_485947/3486713291.py:6: FutureWarning: The frame.append method is deprecated and will be removed from pandas in a future version. Use pandas.concat instead.\n",
      "  outputs=outputs.append(output,sort=False)\n",
      "/var/tmp/rojasolvera/ipykernel_485947/3486713291.py:6: FutureWarning: The frame.append method is deprecated and will be removed from pandas in a future version. Use pandas.concat instead.\n",
      "  outputs=outputs.append(output,sort=False)\n",
      "/var/tmp/rojasolvera/ipykernel_485947/3486713291.py:6: FutureWarning: The frame.append method is deprecated and will be removed from pandas in a future version. Use pandas.concat instead.\n",
      "  outputs=outputs.append(output,sort=False)\n"
     ]
    },
    {
     "name": "stdout",
     "output_type": "stream",
     "text": [
      "1/1 [==============================] - 0s 22ms/step\n",
      "1/1 [==============================] - 0s 23ms/step\n",
      "1/1 [==============================] - 0s 22ms/step\n",
      "1/1 [==============================] - 0s 21ms/step\n"
     ]
    },
    {
     "name": "stderr",
     "output_type": "stream",
     "text": [
      "/var/tmp/rojasolvera/ipykernel_485947/3486713291.py:6: FutureWarning: The frame.append method is deprecated and will be removed from pandas in a future version. Use pandas.concat instead.\n",
      "  outputs=outputs.append(output,sort=False)\n",
      "/var/tmp/rojasolvera/ipykernel_485947/3486713291.py:6: FutureWarning: The frame.append method is deprecated and will be removed from pandas in a future version. Use pandas.concat instead.\n",
      "  outputs=outputs.append(output,sort=False)\n",
      "/var/tmp/rojasolvera/ipykernel_485947/3486713291.py:6: FutureWarning: The frame.append method is deprecated and will be removed from pandas in a future version. Use pandas.concat instead.\n",
      "  outputs=outputs.append(output,sort=False)\n",
      "/var/tmp/rojasolvera/ipykernel_485947/3486713291.py:6: FutureWarning: The frame.append method is deprecated and will be removed from pandas in a future version. Use pandas.concat instead.\n",
      "  outputs=outputs.append(output,sort=False)\n"
     ]
    },
    {
     "name": "stdout",
     "output_type": "stream",
     "text": [
      "1/1 [==============================] - 0s 22ms/step\n",
      "1/1 [==============================] - 0s 22ms/step\n",
      "1/1 [==============================] - 0s 22ms/step\n",
      "1/1 [==============================] - 0s 22ms/step\n"
     ]
    },
    {
     "name": "stderr",
     "output_type": "stream",
     "text": [
      "/var/tmp/rojasolvera/ipykernel_485947/3486713291.py:6: FutureWarning: The frame.append method is deprecated and will be removed from pandas in a future version. Use pandas.concat instead.\n",
      "  outputs=outputs.append(output,sort=False)\n",
      "/var/tmp/rojasolvera/ipykernel_485947/3486713291.py:6: FutureWarning: The frame.append method is deprecated and will be removed from pandas in a future version. Use pandas.concat instead.\n",
      "  outputs=outputs.append(output,sort=False)\n",
      "/var/tmp/rojasolvera/ipykernel_485947/3486713291.py:6: FutureWarning: The frame.append method is deprecated and will be removed from pandas in a future version. Use pandas.concat instead.\n",
      "  outputs=outputs.append(output,sort=False)\n",
      "/var/tmp/rojasolvera/ipykernel_485947/3486713291.py:6: FutureWarning: The frame.append method is deprecated and will be removed from pandas in a future version. Use pandas.concat instead.\n",
      "  outputs=outputs.append(output,sort=False)\n"
     ]
    },
    {
     "name": "stdout",
     "output_type": "stream",
     "text": [
      "1/1 [==============================] - 0s 23ms/step\n",
      "1/1 [==============================] - 0s 22ms/step\n",
      "1/1 [==============================] - 0s 22ms/step\n",
      "1/1 [==============================] - 0s 22ms/step\n"
     ]
    },
    {
     "name": "stderr",
     "output_type": "stream",
     "text": [
      "/var/tmp/rojasolvera/ipykernel_485947/3486713291.py:6: FutureWarning: The frame.append method is deprecated and will be removed from pandas in a future version. Use pandas.concat instead.\n",
      "  outputs=outputs.append(output,sort=False)\n",
      "/var/tmp/rojasolvera/ipykernel_485947/3486713291.py:6: FutureWarning: The frame.append method is deprecated and will be removed from pandas in a future version. Use pandas.concat instead.\n",
      "  outputs=outputs.append(output,sort=False)\n",
      "/var/tmp/rojasolvera/ipykernel_485947/3486713291.py:6: FutureWarning: The frame.append method is deprecated and will be removed from pandas in a future version. Use pandas.concat instead.\n",
      "  outputs=outputs.append(output,sort=False)\n",
      "/var/tmp/rojasolvera/ipykernel_485947/3486713291.py:6: FutureWarning: The frame.append method is deprecated and will be removed from pandas in a future version. Use pandas.concat instead.\n",
      "  outputs=outputs.append(output,sort=False)\n"
     ]
    },
    {
     "name": "stdout",
     "output_type": "stream",
     "text": [
      "1/1 [==============================] - 0s 23ms/step\n",
      "1/1 [==============================] - 0s 22ms/step\n",
      "1/1 [==============================] - 0s 23ms/step\n",
      "1/1 [==============================] - 0s 23ms/step\n"
     ]
    },
    {
     "name": "stderr",
     "output_type": "stream",
     "text": [
      "/var/tmp/rojasolvera/ipykernel_485947/3486713291.py:6: FutureWarning: The frame.append method is deprecated and will be removed from pandas in a future version. Use pandas.concat instead.\n",
      "  outputs=outputs.append(output,sort=False)\n",
      "/var/tmp/rojasolvera/ipykernel_485947/3486713291.py:6: FutureWarning: The frame.append method is deprecated and will be removed from pandas in a future version. Use pandas.concat instead.\n",
      "  outputs=outputs.append(output,sort=False)\n",
      "/var/tmp/rojasolvera/ipykernel_485947/3486713291.py:6: FutureWarning: The frame.append method is deprecated and will be removed from pandas in a future version. Use pandas.concat instead.\n",
      "  outputs=outputs.append(output,sort=False)\n",
      "/var/tmp/rojasolvera/ipykernel_485947/3486713291.py:6: FutureWarning: The frame.append method is deprecated and will be removed from pandas in a future version. Use pandas.concat instead.\n",
      "  outputs=outputs.append(output,sort=False)\n"
     ]
    },
    {
     "name": "stdout",
     "output_type": "stream",
     "text": [
      "1/1 [==============================] - 0s 23ms/step\n",
      "1/1 [==============================] - 0s 22ms/step\n",
      "1/1 [==============================] - 0s 22ms/step\n",
      "1/1 [==============================] - 0s 24ms/step\n"
     ]
    },
    {
     "name": "stderr",
     "output_type": "stream",
     "text": [
      "/var/tmp/rojasolvera/ipykernel_485947/3486713291.py:6: FutureWarning: The frame.append method is deprecated and will be removed from pandas in a future version. Use pandas.concat instead.\n",
      "  outputs=outputs.append(output,sort=False)\n",
      "/var/tmp/rojasolvera/ipykernel_485947/3486713291.py:6: FutureWarning: The frame.append method is deprecated and will be removed from pandas in a future version. Use pandas.concat instead.\n",
      "  outputs=outputs.append(output,sort=False)\n",
      "/var/tmp/rojasolvera/ipykernel_485947/3486713291.py:6: FutureWarning: The frame.append method is deprecated and will be removed from pandas in a future version. Use pandas.concat instead.\n",
      "  outputs=outputs.append(output,sort=False)\n",
      "/var/tmp/rojasolvera/ipykernel_485947/3486713291.py:6: FutureWarning: The frame.append method is deprecated and will be removed from pandas in a future version. Use pandas.concat instead.\n",
      "  outputs=outputs.append(output,sort=False)\n"
     ]
    },
    {
     "name": "stdout",
     "output_type": "stream",
     "text": [
      "1/1 [==============================] - 0s 23ms/step\n",
      "1/1 [==============================] - 0s 21ms/step\n",
      "1/1 [==============================] - 0s 23ms/step\n",
      "1/1 [==============================] - 0s 22ms/step\n"
     ]
    },
    {
     "name": "stderr",
     "output_type": "stream",
     "text": [
      "/var/tmp/rojasolvera/ipykernel_485947/3486713291.py:6: FutureWarning: The frame.append method is deprecated and will be removed from pandas in a future version. Use pandas.concat instead.\n",
      "  outputs=outputs.append(output,sort=False)\n",
      "/var/tmp/rojasolvera/ipykernel_485947/3486713291.py:6: FutureWarning: The frame.append method is deprecated and will be removed from pandas in a future version. Use pandas.concat instead.\n",
      "  outputs=outputs.append(output,sort=False)\n",
      "/var/tmp/rojasolvera/ipykernel_485947/3486713291.py:6: FutureWarning: The frame.append method is deprecated and will be removed from pandas in a future version. Use pandas.concat instead.\n",
      "  outputs=outputs.append(output,sort=False)\n",
      "/var/tmp/rojasolvera/ipykernel_485947/3486713291.py:6: FutureWarning: The frame.append method is deprecated and will be removed from pandas in a future version. Use pandas.concat instead.\n",
      "  outputs=outputs.append(output,sort=False)\n"
     ]
    },
    {
     "name": "stdout",
     "output_type": "stream",
     "text": [
      "1/1 [==============================] - 0s 24ms/step\n",
      "1/1 [==============================] - 0s 23ms/step\n",
      "1/1 [==============================] - 0s 22ms/step\n",
      "1/1 [==============================] - 0s 24ms/step\n"
     ]
    },
    {
     "name": "stderr",
     "output_type": "stream",
     "text": [
      "/var/tmp/rojasolvera/ipykernel_485947/3486713291.py:6: FutureWarning: The frame.append method is deprecated and will be removed from pandas in a future version. Use pandas.concat instead.\n",
      "  outputs=outputs.append(output,sort=False)\n",
      "/var/tmp/rojasolvera/ipykernel_485947/3486713291.py:6: FutureWarning: The frame.append method is deprecated and will be removed from pandas in a future version. Use pandas.concat instead.\n",
      "  outputs=outputs.append(output,sort=False)\n",
      "/var/tmp/rojasolvera/ipykernel_485947/3486713291.py:6: FutureWarning: The frame.append method is deprecated and will be removed from pandas in a future version. Use pandas.concat instead.\n",
      "  outputs=outputs.append(output,sort=False)\n",
      "/var/tmp/rojasolvera/ipykernel_485947/3486713291.py:6: FutureWarning: The frame.append method is deprecated and will be removed from pandas in a future version. Use pandas.concat instead.\n",
      "  outputs=outputs.append(output,sort=False)\n"
     ]
    },
    {
     "name": "stdout",
     "output_type": "stream",
     "text": [
      "1/1 [==============================] - 0s 24ms/step\n",
      "1/1 [==============================] - 0s 23ms/step\n",
      "1/1 [==============================] - 0s 22ms/step\n",
      "1/1 [==============================] - 0s 22ms/step\n"
     ]
    },
    {
     "name": "stderr",
     "output_type": "stream",
     "text": [
      "/var/tmp/rojasolvera/ipykernel_485947/3486713291.py:6: FutureWarning: The frame.append method is deprecated and will be removed from pandas in a future version. Use pandas.concat instead.\n",
      "  outputs=outputs.append(output,sort=False)\n",
      "/var/tmp/rojasolvera/ipykernel_485947/3486713291.py:6: FutureWarning: The frame.append method is deprecated and will be removed from pandas in a future version. Use pandas.concat instead.\n",
      "  outputs=outputs.append(output,sort=False)\n",
      "/var/tmp/rojasolvera/ipykernel_485947/3486713291.py:6: FutureWarning: The frame.append method is deprecated and will be removed from pandas in a future version. Use pandas.concat instead.\n",
      "  outputs=outputs.append(output,sort=False)\n",
      "/var/tmp/rojasolvera/ipykernel_485947/3486713291.py:6: FutureWarning: The frame.append method is deprecated and will be removed from pandas in a future version. Use pandas.concat instead.\n",
      "  outputs=outputs.append(output,sort=False)\n"
     ]
    },
    {
     "name": "stdout",
     "output_type": "stream",
     "text": [
      "1/1 [==============================] - 0s 22ms/step\n",
      "1/1 [==============================] - 0s 21ms/step\n",
      "1/1 [==============================] - 0s 22ms/step\n",
      "1/1 [==============================] - 0s 23ms/step\n"
     ]
    },
    {
     "name": "stderr",
     "output_type": "stream",
     "text": [
      "/var/tmp/rojasolvera/ipykernel_485947/3486713291.py:6: FutureWarning: The frame.append method is deprecated and will be removed from pandas in a future version. Use pandas.concat instead.\n",
      "  outputs=outputs.append(output,sort=False)\n",
      "/var/tmp/rojasolvera/ipykernel_485947/3486713291.py:6: FutureWarning: The frame.append method is deprecated and will be removed from pandas in a future version. Use pandas.concat instead.\n",
      "  outputs=outputs.append(output,sort=False)\n",
      "/var/tmp/rojasolvera/ipykernel_485947/3486713291.py:6: FutureWarning: The frame.append method is deprecated and will be removed from pandas in a future version. Use pandas.concat instead.\n",
      "  outputs=outputs.append(output,sort=False)\n",
      "/var/tmp/rojasolvera/ipykernel_485947/3486713291.py:6: FutureWarning: The frame.append method is deprecated and will be removed from pandas in a future version. Use pandas.concat instead.\n",
      "  outputs=outputs.append(output,sort=False)\n"
     ]
    },
    {
     "name": "stdout",
     "output_type": "stream",
     "text": [
      "1/1 [==============================] - 0s 22ms/step\n",
      "1/1 [==============================] - 0s 22ms/step\n",
      "1/1 [==============================] - 0s 24ms/step\n",
      "1/1 [==============================] - 0s 22ms/step\n"
     ]
    },
    {
     "name": "stderr",
     "output_type": "stream",
     "text": [
      "/var/tmp/rojasolvera/ipykernel_485947/3486713291.py:6: FutureWarning: The frame.append method is deprecated and will be removed from pandas in a future version. Use pandas.concat instead.\n",
      "  outputs=outputs.append(output,sort=False)\n",
      "/var/tmp/rojasolvera/ipykernel_485947/3486713291.py:6: FutureWarning: The frame.append method is deprecated and will be removed from pandas in a future version. Use pandas.concat instead.\n",
      "  outputs=outputs.append(output,sort=False)\n",
      "/var/tmp/rojasolvera/ipykernel_485947/3486713291.py:6: FutureWarning: The frame.append method is deprecated and will be removed from pandas in a future version. Use pandas.concat instead.\n",
      "  outputs=outputs.append(output,sort=False)\n",
      "/var/tmp/rojasolvera/ipykernel_485947/3486713291.py:6: FutureWarning: The frame.append method is deprecated and will be removed from pandas in a future version. Use pandas.concat instead.\n",
      "  outputs=outputs.append(output,sort=False)\n"
     ]
    },
    {
     "name": "stdout",
     "output_type": "stream",
     "text": [
      "1/1 [==============================] - 0s 23ms/step\n",
      "1/1 [==============================] - 0s 22ms/step\n",
      "1/1 [==============================] - 0s 21ms/step\n",
      "1/1 [==============================] - 0s 23ms/step\n"
     ]
    },
    {
     "name": "stderr",
     "output_type": "stream",
     "text": [
      "/var/tmp/rojasolvera/ipykernel_485947/3486713291.py:6: FutureWarning: The frame.append method is deprecated and will be removed from pandas in a future version. Use pandas.concat instead.\n",
      "  outputs=outputs.append(output,sort=False)\n",
      "/var/tmp/rojasolvera/ipykernel_485947/3486713291.py:6: FutureWarning: The frame.append method is deprecated and will be removed from pandas in a future version. Use pandas.concat instead.\n",
      "  outputs=outputs.append(output,sort=False)\n",
      "/var/tmp/rojasolvera/ipykernel_485947/3486713291.py:6: FutureWarning: The frame.append method is deprecated and will be removed from pandas in a future version. Use pandas.concat instead.\n",
      "  outputs=outputs.append(output,sort=False)\n",
      "/var/tmp/rojasolvera/ipykernel_485947/3486713291.py:6: FutureWarning: The frame.append method is deprecated and will be removed from pandas in a future version. Use pandas.concat instead.\n",
      "  outputs=outputs.append(output,sort=False)\n"
     ]
    },
    {
     "name": "stdout",
     "output_type": "stream",
     "text": [
      "1/1 [==============================] - 0s 23ms/step\n",
      "1/1 [==============================] - 0s 22ms/step\n",
      "1/1 [==============================] - 0s 23ms/step\n",
      "1/1 [==============================] - 0s 22ms/step\n"
     ]
    },
    {
     "name": "stderr",
     "output_type": "stream",
     "text": [
      "/var/tmp/rojasolvera/ipykernel_485947/3486713291.py:6: FutureWarning: The frame.append method is deprecated and will be removed from pandas in a future version. Use pandas.concat instead.\n",
      "  outputs=outputs.append(output,sort=False)\n",
      "/var/tmp/rojasolvera/ipykernel_485947/3486713291.py:6: FutureWarning: The frame.append method is deprecated and will be removed from pandas in a future version. Use pandas.concat instead.\n",
      "  outputs=outputs.append(output,sort=False)\n",
      "/var/tmp/rojasolvera/ipykernel_485947/3486713291.py:6: FutureWarning: The frame.append method is deprecated and will be removed from pandas in a future version. Use pandas.concat instead.\n",
      "  outputs=outputs.append(output,sort=False)\n",
      "/var/tmp/rojasolvera/ipykernel_485947/3486713291.py:6: FutureWarning: The frame.append method is deprecated and will be removed from pandas in a future version. Use pandas.concat instead.\n",
      "  outputs=outputs.append(output,sort=False)\n"
     ]
    },
    {
     "name": "stdout",
     "output_type": "stream",
     "text": [
      "1/1 [==============================] - 0s 24ms/step\n",
      "1/1 [==============================] - 0s 22ms/step\n",
      "1/1 [==============================] - 0s 23ms/step\n",
      "1/1 [==============================] - 0s 22ms/step\n"
     ]
    },
    {
     "name": "stderr",
     "output_type": "stream",
     "text": [
      "/var/tmp/rojasolvera/ipykernel_485947/3486713291.py:6: FutureWarning: The frame.append method is deprecated and will be removed from pandas in a future version. Use pandas.concat instead.\n",
      "  outputs=outputs.append(output,sort=False)\n",
      "/var/tmp/rojasolvera/ipykernel_485947/3486713291.py:6: FutureWarning: The frame.append method is deprecated and will be removed from pandas in a future version. Use pandas.concat instead.\n",
      "  outputs=outputs.append(output,sort=False)\n",
      "/var/tmp/rojasolvera/ipykernel_485947/3486713291.py:6: FutureWarning: The frame.append method is deprecated and will be removed from pandas in a future version. Use pandas.concat instead.\n",
      "  outputs=outputs.append(output,sort=False)\n",
      "/var/tmp/rojasolvera/ipykernel_485947/3486713291.py:6: FutureWarning: The frame.append method is deprecated and will be removed from pandas in a future version. Use pandas.concat instead.\n",
      "  outputs=outputs.append(output,sort=False)\n"
     ]
    },
    {
     "name": "stdout",
     "output_type": "stream",
     "text": [
      "1/1 [==============================] - 0s 22ms/step\n",
      "1/1 [==============================] - 0s 21ms/step\n",
      "1/1 [==============================] - 0s 24ms/step\n",
      "1/1 [==============================] - 0s 24ms/step\n"
     ]
    },
    {
     "name": "stderr",
     "output_type": "stream",
     "text": [
      "/var/tmp/rojasolvera/ipykernel_485947/3486713291.py:6: FutureWarning: The frame.append method is deprecated and will be removed from pandas in a future version. Use pandas.concat instead.\n",
      "  outputs=outputs.append(output,sort=False)\n",
      "/var/tmp/rojasolvera/ipykernel_485947/3486713291.py:6: FutureWarning: The frame.append method is deprecated and will be removed from pandas in a future version. Use pandas.concat instead.\n",
      "  outputs=outputs.append(output,sort=False)\n",
      "/var/tmp/rojasolvera/ipykernel_485947/3486713291.py:6: FutureWarning: The frame.append method is deprecated and will be removed from pandas in a future version. Use pandas.concat instead.\n",
      "  outputs=outputs.append(output,sort=False)\n",
      "/var/tmp/rojasolvera/ipykernel_485947/3486713291.py:6: FutureWarning: The frame.append method is deprecated and will be removed from pandas in a future version. Use pandas.concat instead.\n",
      "  outputs=outputs.append(output,sort=False)\n"
     ]
    },
    {
     "name": "stdout",
     "output_type": "stream",
     "text": [
      "1/1 [==============================] - 0s 24ms/step\n",
      "1/1 [==============================] - 0s 22ms/step\n",
      "1/1 [==============================] - 0s 22ms/step\n",
      "1/1 [==============================] - 0s 22ms/step\n"
     ]
    },
    {
     "name": "stderr",
     "output_type": "stream",
     "text": [
      "/var/tmp/rojasolvera/ipykernel_485947/3486713291.py:6: FutureWarning: The frame.append method is deprecated and will be removed from pandas in a future version. Use pandas.concat instead.\n",
      "  outputs=outputs.append(output,sort=False)\n",
      "/var/tmp/rojasolvera/ipykernel_485947/3486713291.py:6: FutureWarning: The frame.append method is deprecated and will be removed from pandas in a future version. Use pandas.concat instead.\n",
      "  outputs=outputs.append(output,sort=False)\n",
      "/var/tmp/rojasolvera/ipykernel_485947/3486713291.py:6: FutureWarning: The frame.append method is deprecated and will be removed from pandas in a future version. Use pandas.concat instead.\n",
      "  outputs=outputs.append(output,sort=False)\n",
      "/var/tmp/rojasolvera/ipykernel_485947/3486713291.py:6: FutureWarning: The frame.append method is deprecated and will be removed from pandas in a future version. Use pandas.concat instead.\n",
      "  outputs=outputs.append(output,sort=False)\n"
     ]
    },
    {
     "name": "stdout",
     "output_type": "stream",
     "text": [
      "1/1 [==============================] - 0s 23ms/step\n",
      "1/1 [==============================] - 0s 22ms/step\n",
      "1/1 [==============================] - 0s 23ms/step\n",
      "1/1 [==============================] - 0s 24ms/step\n"
     ]
    },
    {
     "name": "stderr",
     "output_type": "stream",
     "text": [
      "/var/tmp/rojasolvera/ipykernel_485947/3486713291.py:6: FutureWarning: The frame.append method is deprecated and will be removed from pandas in a future version. Use pandas.concat instead.\n",
      "  outputs=outputs.append(output,sort=False)\n",
      "/var/tmp/rojasolvera/ipykernel_485947/3486713291.py:6: FutureWarning: The frame.append method is deprecated and will be removed from pandas in a future version. Use pandas.concat instead.\n",
      "  outputs=outputs.append(output,sort=False)\n",
      "/var/tmp/rojasolvera/ipykernel_485947/3486713291.py:6: FutureWarning: The frame.append method is deprecated and will be removed from pandas in a future version. Use pandas.concat instead.\n",
      "  outputs=outputs.append(output,sort=False)\n",
      "/var/tmp/rojasolvera/ipykernel_485947/3486713291.py:6: FutureWarning: The frame.append method is deprecated and will be removed from pandas in a future version. Use pandas.concat instead.\n",
      "  outputs=outputs.append(output,sort=False)\n"
     ]
    },
    {
     "name": "stdout",
     "output_type": "stream",
     "text": [
      "1/1 [==============================] - 0s 25ms/step\n",
      "1/1 [==============================] - 0s 21ms/step\n",
      "1/1 [==============================] - 0s 21ms/step\n",
      "1/1 [==============================] - 0s 23ms/step\n"
     ]
    },
    {
     "name": "stderr",
     "output_type": "stream",
     "text": [
      "/var/tmp/rojasolvera/ipykernel_485947/3486713291.py:6: FutureWarning: The frame.append method is deprecated and will be removed from pandas in a future version. Use pandas.concat instead.\n",
      "  outputs=outputs.append(output,sort=False)\n",
      "/var/tmp/rojasolvera/ipykernel_485947/3486713291.py:6: FutureWarning: The frame.append method is deprecated and will be removed from pandas in a future version. Use pandas.concat instead.\n",
      "  outputs=outputs.append(output,sort=False)\n",
      "/var/tmp/rojasolvera/ipykernel_485947/3486713291.py:6: FutureWarning: The frame.append method is deprecated and will be removed from pandas in a future version. Use pandas.concat instead.\n",
      "  outputs=outputs.append(output,sort=False)\n",
      "/var/tmp/rojasolvera/ipykernel_485947/3486713291.py:6: FutureWarning: The frame.append method is deprecated and will be removed from pandas in a future version. Use pandas.concat instead.\n",
      "  outputs=outputs.append(output,sort=False)\n"
     ]
    },
    {
     "name": "stdout",
     "output_type": "stream",
     "text": [
      "1/1 [==============================] - 0s 22ms/step\n",
      "1/1 [==============================] - 0s 22ms/step\n",
      "1/1 [==============================] - 0s 23ms/step\n",
      "1/1 [==============================] - 0s 21ms/step\n"
     ]
    },
    {
     "name": "stderr",
     "output_type": "stream",
     "text": [
      "/var/tmp/rojasolvera/ipykernel_485947/3486713291.py:6: FutureWarning: The frame.append method is deprecated and will be removed from pandas in a future version. Use pandas.concat instead.\n",
      "  outputs=outputs.append(output,sort=False)\n",
      "/var/tmp/rojasolvera/ipykernel_485947/3486713291.py:6: FutureWarning: The frame.append method is deprecated and will be removed from pandas in a future version. Use pandas.concat instead.\n",
      "  outputs=outputs.append(output,sort=False)\n",
      "/var/tmp/rojasolvera/ipykernel_485947/3486713291.py:6: FutureWarning: The frame.append method is deprecated and will be removed from pandas in a future version. Use pandas.concat instead.\n",
      "  outputs=outputs.append(output,sort=False)\n",
      "/var/tmp/rojasolvera/ipykernel_485947/3486713291.py:6: FutureWarning: The frame.append method is deprecated and will be removed from pandas in a future version. Use pandas.concat instead.\n",
      "  outputs=outputs.append(output,sort=False)\n"
     ]
    },
    {
     "name": "stdout",
     "output_type": "stream",
     "text": [
      "1/1 [==============================] - 0s 22ms/step\n",
      "1/1 [==============================] - 0s 22ms/step\n",
      "1/1 [==============================] - 0s 22ms/step\n",
      "1/1 [==============================] - 0s 24ms/step\n"
     ]
    },
    {
     "name": "stderr",
     "output_type": "stream",
     "text": [
      "/var/tmp/rojasolvera/ipykernel_485947/3486713291.py:6: FutureWarning: The frame.append method is deprecated and will be removed from pandas in a future version. Use pandas.concat instead.\n",
      "  outputs=outputs.append(output,sort=False)\n",
      "/var/tmp/rojasolvera/ipykernel_485947/3486713291.py:6: FutureWarning: The frame.append method is deprecated and will be removed from pandas in a future version. Use pandas.concat instead.\n",
      "  outputs=outputs.append(output,sort=False)\n",
      "/var/tmp/rojasolvera/ipykernel_485947/3486713291.py:6: FutureWarning: The frame.append method is deprecated and will be removed from pandas in a future version. Use pandas.concat instead.\n",
      "  outputs=outputs.append(output,sort=False)\n",
      "/var/tmp/rojasolvera/ipykernel_485947/3486713291.py:6: FutureWarning: The frame.append method is deprecated and will be removed from pandas in a future version. Use pandas.concat instead.\n",
      "  outputs=outputs.append(output,sort=False)\n"
     ]
    },
    {
     "name": "stdout",
     "output_type": "stream",
     "text": [
      "1/1 [==============================] - 0s 23ms/step\n",
      "1/1 [==============================] - 0s 22ms/step\n",
      "1/1 [==============================] - 0s 24ms/step\n",
      "1/1 [==============================] - 0s 22ms/step\n"
     ]
    },
    {
     "name": "stderr",
     "output_type": "stream",
     "text": [
      "/var/tmp/rojasolvera/ipykernel_485947/3486713291.py:6: FutureWarning: The frame.append method is deprecated and will be removed from pandas in a future version. Use pandas.concat instead.\n",
      "  outputs=outputs.append(output,sort=False)\n",
      "/var/tmp/rojasolvera/ipykernel_485947/3486713291.py:6: FutureWarning: The frame.append method is deprecated and will be removed from pandas in a future version. Use pandas.concat instead.\n",
      "  outputs=outputs.append(output,sort=False)\n",
      "/var/tmp/rojasolvera/ipykernel_485947/3486713291.py:6: FutureWarning: The frame.append method is deprecated and will be removed from pandas in a future version. Use pandas.concat instead.\n",
      "  outputs=outputs.append(output,sort=False)\n",
      "/var/tmp/rojasolvera/ipykernel_485947/3486713291.py:6: FutureWarning: The frame.append method is deprecated and will be removed from pandas in a future version. Use pandas.concat instead.\n",
      "  outputs=outputs.append(output,sort=False)\n"
     ]
    },
    {
     "name": "stdout",
     "output_type": "stream",
     "text": [
      "1/1 [==============================] - 0s 23ms/step\n",
      "1/1 [==============================] - 0s 24ms/step\n",
      "1/1 [==============================] - 0s 25ms/step\n",
      "1/1 [==============================] - 0s 24ms/step\n"
     ]
    },
    {
     "name": "stderr",
     "output_type": "stream",
     "text": [
      "/var/tmp/rojasolvera/ipykernel_485947/3486713291.py:6: FutureWarning: The frame.append method is deprecated and will be removed from pandas in a future version. Use pandas.concat instead.\n",
      "  outputs=outputs.append(output,sort=False)\n",
      "/var/tmp/rojasolvera/ipykernel_485947/3486713291.py:6: FutureWarning: The frame.append method is deprecated and will be removed from pandas in a future version. Use pandas.concat instead.\n",
      "  outputs=outputs.append(output,sort=False)\n",
      "/var/tmp/rojasolvera/ipykernel_485947/3486713291.py:6: FutureWarning: The frame.append method is deprecated and will be removed from pandas in a future version. Use pandas.concat instead.\n",
      "  outputs=outputs.append(output,sort=False)\n"
     ]
    },
    {
     "name": "stdout",
     "output_type": "stream",
     "text": [
      "1/1 [==============================] - 0s 22ms/step\n",
      "1/1 [==============================] - 0s 25ms/step\n",
      "1/1 [==============================] - 0s 23ms/step\n"
     ]
    },
    {
     "name": "stderr",
     "output_type": "stream",
     "text": [
      "/var/tmp/rojasolvera/ipykernel_485947/3486713291.py:6: FutureWarning: The frame.append method is deprecated and will be removed from pandas in a future version. Use pandas.concat instead.\n",
      "  outputs=outputs.append(output,sort=False)\n",
      "/var/tmp/rojasolvera/ipykernel_485947/3486713291.py:6: FutureWarning: The frame.append method is deprecated and will be removed from pandas in a future version. Use pandas.concat instead.\n",
      "  outputs=outputs.append(output,sort=False)\n",
      "/var/tmp/rojasolvera/ipykernel_485947/3486713291.py:6: FutureWarning: The frame.append method is deprecated and will be removed from pandas in a future version. Use pandas.concat instead.\n",
      "  outputs=outputs.append(output,sort=False)\n"
     ]
    },
    {
     "name": "stdout",
     "output_type": "stream",
     "text": [
      "1/1 [==============================] - 0s 24ms/step\n",
      "1/1 [==============================] - 0s 21ms/step\n",
      "1/1 [==============================] - 0s 24ms/step\n"
     ]
    },
    {
     "name": "stderr",
     "output_type": "stream",
     "text": [
      "/var/tmp/rojasolvera/ipykernel_485947/3486713291.py:6: FutureWarning: The frame.append method is deprecated and will be removed from pandas in a future version. Use pandas.concat instead.\n",
      "  outputs=outputs.append(output,sort=False)\n",
      "/var/tmp/rojasolvera/ipykernel_485947/3486713291.py:6: FutureWarning: The frame.append method is deprecated and will be removed from pandas in a future version. Use pandas.concat instead.\n",
      "  outputs=outputs.append(output,sort=False)\n",
      "/var/tmp/rojasolvera/ipykernel_485947/3486713291.py:6: FutureWarning: The frame.append method is deprecated and will be removed from pandas in a future version. Use pandas.concat instead.\n",
      "  outputs=outputs.append(output,sort=False)\n",
      "/var/tmp/rojasolvera/ipykernel_485947/3486713291.py:6: FutureWarning: The frame.append method is deprecated and will be removed from pandas in a future version. Use pandas.concat instead.\n",
      "  outputs=outputs.append(output,sort=False)\n"
     ]
    },
    {
     "name": "stdout",
     "output_type": "stream",
     "text": [
      "1/1 [==============================] - 0s 22ms/step\n",
      "1/1 [==============================] - 0s 24ms/step\n",
      "1/1 [==============================] - 0s 23ms/step\n",
      "1/1 [==============================] - 0s 24ms/step\n"
     ]
    },
    {
     "name": "stderr",
     "output_type": "stream",
     "text": [
      "/var/tmp/rojasolvera/ipykernel_485947/3486713291.py:6: FutureWarning: The frame.append method is deprecated and will be removed from pandas in a future version. Use pandas.concat instead.\n",
      "  outputs=outputs.append(output,sort=False)\n",
      "/var/tmp/rojasolvera/ipykernel_485947/3486713291.py:6: FutureWarning: The frame.append method is deprecated and will be removed from pandas in a future version. Use pandas.concat instead.\n",
      "  outputs=outputs.append(output,sort=False)\n",
      "/var/tmp/rojasolvera/ipykernel_485947/3486713291.py:6: FutureWarning: The frame.append method is deprecated and will be removed from pandas in a future version. Use pandas.concat instead.\n",
      "  outputs=outputs.append(output,sort=False)\n",
      "/var/tmp/rojasolvera/ipykernel_485947/3486713291.py:6: FutureWarning: The frame.append method is deprecated and will be removed from pandas in a future version. Use pandas.concat instead.\n",
      "  outputs=outputs.append(output,sort=False)\n"
     ]
    },
    {
     "name": "stdout",
     "output_type": "stream",
     "text": [
      "1/1 [==============================] - 0s 24ms/step\n",
      "1/1 [==============================] - 0s 21ms/step\n",
      "1/1 [==============================] - 0s 23ms/step\n",
      "1/1 [==============================] - 0s 23ms/step\n"
     ]
    },
    {
     "name": "stderr",
     "output_type": "stream",
     "text": [
      "/var/tmp/rojasolvera/ipykernel_485947/3486713291.py:6: FutureWarning: The frame.append method is deprecated and will be removed from pandas in a future version. Use pandas.concat instead.\n",
      "  outputs=outputs.append(output,sort=False)\n",
      "/var/tmp/rojasolvera/ipykernel_485947/3486713291.py:6: FutureWarning: The frame.append method is deprecated and will be removed from pandas in a future version. Use pandas.concat instead.\n",
      "  outputs=outputs.append(output,sort=False)\n",
      "/var/tmp/rojasolvera/ipykernel_485947/3486713291.py:6: FutureWarning: The frame.append method is deprecated and will be removed from pandas in a future version. Use pandas.concat instead.\n",
      "  outputs=outputs.append(output,sort=False)\n",
      "/var/tmp/rojasolvera/ipykernel_485947/3486713291.py:6: FutureWarning: The frame.append method is deprecated and will be removed from pandas in a future version. Use pandas.concat instead.\n",
      "  outputs=outputs.append(output,sort=False)\n"
     ]
    },
    {
     "name": "stdout",
     "output_type": "stream",
     "text": [
      "1/1 [==============================] - 0s 23ms/step\n",
      "1/1 [==============================] - 0s 23ms/step\n",
      "1/1 [==============================] - 0s 21ms/step\n",
      "1/1 [==============================] - 0s 22ms/step\n"
     ]
    },
    {
     "name": "stderr",
     "output_type": "stream",
     "text": [
      "/var/tmp/rojasolvera/ipykernel_485947/3486713291.py:6: FutureWarning: The frame.append method is deprecated and will be removed from pandas in a future version. Use pandas.concat instead.\n",
      "  outputs=outputs.append(output,sort=False)\n",
      "/var/tmp/rojasolvera/ipykernel_485947/3486713291.py:6: FutureWarning: The frame.append method is deprecated and will be removed from pandas in a future version. Use pandas.concat instead.\n",
      "  outputs=outputs.append(output,sort=False)\n",
      "/var/tmp/rojasolvera/ipykernel_485947/3486713291.py:6: FutureWarning: The frame.append method is deprecated and will be removed from pandas in a future version. Use pandas.concat instead.\n",
      "  outputs=outputs.append(output,sort=False)\n",
      "/var/tmp/rojasolvera/ipykernel_485947/3486713291.py:6: FutureWarning: The frame.append method is deprecated and will be removed from pandas in a future version. Use pandas.concat instead.\n",
      "  outputs=outputs.append(output,sort=False)\n"
     ]
    },
    {
     "name": "stdout",
     "output_type": "stream",
     "text": [
      "1/1 [==============================] - 0s 24ms/step\n",
      "1/1 [==============================] - 0s 21ms/step\n",
      "1/1 [==============================] - 0s 24ms/step\n",
      "1/1 [==============================] - 0s 23ms/step\n"
     ]
    },
    {
     "name": "stderr",
     "output_type": "stream",
     "text": [
      "/var/tmp/rojasolvera/ipykernel_485947/3486713291.py:6: FutureWarning: The frame.append method is deprecated and will be removed from pandas in a future version. Use pandas.concat instead.\n",
      "  outputs=outputs.append(output,sort=False)\n",
      "/var/tmp/rojasolvera/ipykernel_485947/3486713291.py:6: FutureWarning: The frame.append method is deprecated and will be removed from pandas in a future version. Use pandas.concat instead.\n",
      "  outputs=outputs.append(output,sort=False)\n",
      "/var/tmp/rojasolvera/ipykernel_485947/3486713291.py:6: FutureWarning: The frame.append method is deprecated and will be removed from pandas in a future version. Use pandas.concat instead.\n",
      "  outputs=outputs.append(output,sort=False)\n",
      "/var/tmp/rojasolvera/ipykernel_485947/3486713291.py:6: FutureWarning: The frame.append method is deprecated and will be removed from pandas in a future version. Use pandas.concat instead.\n",
      "  outputs=outputs.append(output,sort=False)\n"
     ]
    },
    {
     "name": "stdout",
     "output_type": "stream",
     "text": [
      "1/1 [==============================] - 0s 23ms/step\n",
      "1/1 [==============================] - 0s 21ms/step\n",
      "1/1 [==============================] - 0s 23ms/step\n",
      "1/1 [==============================] - 0s 23ms/step\n"
     ]
    },
    {
     "name": "stderr",
     "output_type": "stream",
     "text": [
      "/var/tmp/rojasolvera/ipykernel_485947/3486713291.py:6: FutureWarning: The frame.append method is deprecated and will be removed from pandas in a future version. Use pandas.concat instead.\n",
      "  outputs=outputs.append(output,sort=False)\n",
      "/var/tmp/rojasolvera/ipykernel_485947/3486713291.py:6: FutureWarning: The frame.append method is deprecated and will be removed from pandas in a future version. Use pandas.concat instead.\n",
      "  outputs=outputs.append(output,sort=False)\n",
      "/var/tmp/rojasolvera/ipykernel_485947/3486713291.py:6: FutureWarning: The frame.append method is deprecated and will be removed from pandas in a future version. Use pandas.concat instead.\n",
      "  outputs=outputs.append(output,sort=False)\n",
      "/var/tmp/rojasolvera/ipykernel_485947/3486713291.py:6: FutureWarning: The frame.append method is deprecated and will be removed from pandas in a future version. Use pandas.concat instead.\n",
      "  outputs=outputs.append(output,sort=False)\n"
     ]
    },
    {
     "name": "stdout",
     "output_type": "stream",
     "text": [
      "1/1 [==============================] - 0s 24ms/step\n",
      "1/1 [==============================] - 0s 23ms/step\n",
      "1/1 [==============================] - 0s 23ms/step\n",
      "1/1 [==============================] - 0s 21ms/step\n"
     ]
    },
    {
     "name": "stderr",
     "output_type": "stream",
     "text": [
      "/var/tmp/rojasolvera/ipykernel_485947/3486713291.py:6: FutureWarning: The frame.append method is deprecated and will be removed from pandas in a future version. Use pandas.concat instead.\n",
      "  outputs=outputs.append(output,sort=False)\n",
      "/var/tmp/rojasolvera/ipykernel_485947/3486713291.py:6: FutureWarning: The frame.append method is deprecated and will be removed from pandas in a future version. Use pandas.concat instead.\n",
      "  outputs=outputs.append(output,sort=False)\n",
      "/var/tmp/rojasolvera/ipykernel_485947/3486713291.py:6: FutureWarning: The frame.append method is deprecated and will be removed from pandas in a future version. Use pandas.concat instead.\n",
      "  outputs=outputs.append(output,sort=False)\n",
      "/var/tmp/rojasolvera/ipykernel_485947/3486713291.py:6: FutureWarning: The frame.append method is deprecated and will be removed from pandas in a future version. Use pandas.concat instead.\n",
      "  outputs=outputs.append(output,sort=False)\n"
     ]
    },
    {
     "name": "stdout",
     "output_type": "stream",
     "text": [
      "1/1 [==============================] - 0s 24ms/step\n",
      "1/1 [==============================] - 0s 22ms/step\n",
      "1/1 [==============================] - 0s 23ms/step\n"
     ]
    },
    {
     "name": "stderr",
     "output_type": "stream",
     "text": [
      "/var/tmp/rojasolvera/ipykernel_485947/3486713291.py:6: FutureWarning: The frame.append method is deprecated and will be removed from pandas in a future version. Use pandas.concat instead.\n",
      "  outputs=outputs.append(output,sort=False)\n",
      "/var/tmp/rojasolvera/ipykernel_485947/3486713291.py:6: FutureWarning: The frame.append method is deprecated and will be removed from pandas in a future version. Use pandas.concat instead.\n",
      "  outputs=outputs.append(output,sort=False)\n",
      "/var/tmp/rojasolvera/ipykernel_485947/3486713291.py:6: FutureWarning: The frame.append method is deprecated and will be removed from pandas in a future version. Use pandas.concat instead.\n",
      "  outputs=outputs.append(output,sort=False)\n"
     ]
    },
    {
     "name": "stdout",
     "output_type": "stream",
     "text": [
      "1/1 [==============================] - 0s 26ms/step\n",
      "1/1 [==============================] - 0s 23ms/step\n",
      "1/1 [==============================] - 0s 24ms/step\n",
      "1/1 [==============================] - 0s 24ms/step\n"
     ]
    },
    {
     "name": "stderr",
     "output_type": "stream",
     "text": [
      "/var/tmp/rojasolvera/ipykernel_485947/3486713291.py:6: FutureWarning: The frame.append method is deprecated and will be removed from pandas in a future version. Use pandas.concat instead.\n",
      "  outputs=outputs.append(output,sort=False)\n",
      "/var/tmp/rojasolvera/ipykernel_485947/3486713291.py:6: FutureWarning: The frame.append method is deprecated and will be removed from pandas in a future version. Use pandas.concat instead.\n",
      "  outputs=outputs.append(output,sort=False)\n",
      "/var/tmp/rojasolvera/ipykernel_485947/3486713291.py:6: FutureWarning: The frame.append method is deprecated and will be removed from pandas in a future version. Use pandas.concat instead.\n",
      "  outputs=outputs.append(output,sort=False)\n",
      "/var/tmp/rojasolvera/ipykernel_485947/3486713291.py:6: FutureWarning: The frame.append method is deprecated and will be removed from pandas in a future version. Use pandas.concat instead.\n",
      "  outputs=outputs.append(output,sort=False)\n"
     ]
    },
    {
     "name": "stdout",
     "output_type": "stream",
     "text": [
      "1/1 [==============================] - 0s 23ms/step\n",
      "1/1 [==============================] - 0s 23ms/step\n",
      "1/1 [==============================] - 0s 22ms/step\n",
      "1/1 [==============================] - 0s 22ms/step\n"
     ]
    },
    {
     "name": "stderr",
     "output_type": "stream",
     "text": [
      "/var/tmp/rojasolvera/ipykernel_485947/3486713291.py:6: FutureWarning: The frame.append method is deprecated and will be removed from pandas in a future version. Use pandas.concat instead.\n",
      "  outputs=outputs.append(output,sort=False)\n",
      "/var/tmp/rojasolvera/ipykernel_485947/3486713291.py:6: FutureWarning: The frame.append method is deprecated and will be removed from pandas in a future version. Use pandas.concat instead.\n",
      "  outputs=outputs.append(output,sort=False)\n",
      "/var/tmp/rojasolvera/ipykernel_485947/3486713291.py:6: FutureWarning: The frame.append method is deprecated and will be removed from pandas in a future version. Use pandas.concat instead.\n",
      "  outputs=outputs.append(output,sort=False)\n",
      "/var/tmp/rojasolvera/ipykernel_485947/3486713291.py:6: FutureWarning: The frame.append method is deprecated and will be removed from pandas in a future version. Use pandas.concat instead.\n",
      "  outputs=outputs.append(output,sort=False)\n"
     ]
    },
    {
     "name": "stdout",
     "output_type": "stream",
     "text": [
      "1/1 [==============================] - 0s 23ms/step\n",
      "1/1 [==============================] - 0s 22ms/step\n",
      "1/1 [==============================] - 0s 22ms/step\n",
      "1/1 [==============================] - 0s 23ms/step\n"
     ]
    },
    {
     "name": "stderr",
     "output_type": "stream",
     "text": [
      "/var/tmp/rojasolvera/ipykernel_485947/3486713291.py:6: FutureWarning: The frame.append method is deprecated and will be removed from pandas in a future version. Use pandas.concat instead.\n",
      "  outputs=outputs.append(output,sort=False)\n",
      "/var/tmp/rojasolvera/ipykernel_485947/3486713291.py:6: FutureWarning: The frame.append method is deprecated and will be removed from pandas in a future version. Use pandas.concat instead.\n",
      "  outputs=outputs.append(output,sort=False)\n",
      "/var/tmp/rojasolvera/ipykernel_485947/3486713291.py:6: FutureWarning: The frame.append method is deprecated and will be removed from pandas in a future version. Use pandas.concat instead.\n",
      "  outputs=outputs.append(output,sort=False)\n",
      "/var/tmp/rojasolvera/ipykernel_485947/3486713291.py:6: FutureWarning: The frame.append method is deprecated and will be removed from pandas in a future version. Use pandas.concat instead.\n",
      "  outputs=outputs.append(output,sort=False)\n"
     ]
    },
    {
     "name": "stdout",
     "output_type": "stream",
     "text": [
      "1/1 [==============================] - 0s 21ms/step\n",
      "1/1 [==============================] - 0s 21ms/step\n",
      "1/1 [==============================] - 0s 21ms/step\n",
      "1/1 [==============================] - 0s 23ms/step\n"
     ]
    },
    {
     "name": "stderr",
     "output_type": "stream",
     "text": [
      "/var/tmp/rojasolvera/ipykernel_485947/3486713291.py:6: FutureWarning: The frame.append method is deprecated and will be removed from pandas in a future version. Use pandas.concat instead.\n",
      "  outputs=outputs.append(output,sort=False)\n",
      "/var/tmp/rojasolvera/ipykernel_485947/3486713291.py:6: FutureWarning: The frame.append method is deprecated and will be removed from pandas in a future version. Use pandas.concat instead.\n",
      "  outputs=outputs.append(output,sort=False)\n",
      "/var/tmp/rojasolvera/ipykernel_485947/3486713291.py:6: FutureWarning: The frame.append method is deprecated and will be removed from pandas in a future version. Use pandas.concat instead.\n",
      "  outputs=outputs.append(output,sort=False)\n",
      "/var/tmp/rojasolvera/ipykernel_485947/3486713291.py:6: FutureWarning: The frame.append method is deprecated and will be removed from pandas in a future version. Use pandas.concat instead.\n",
      "  outputs=outputs.append(output,sort=False)\n"
     ]
    },
    {
     "name": "stdout",
     "output_type": "stream",
     "text": [
      "1/1 [==============================] - 0s 23ms/step\n",
      "1/1 [==============================] - 0s 22ms/step\n",
      "1/1 [==============================] - 0s 23ms/step\n",
      "1/1 [==============================] - 0s 24ms/step\n"
     ]
    },
    {
     "name": "stderr",
     "output_type": "stream",
     "text": [
      "/var/tmp/rojasolvera/ipykernel_485947/3486713291.py:6: FutureWarning: The frame.append method is deprecated and will be removed from pandas in a future version. Use pandas.concat instead.\n",
      "  outputs=outputs.append(output,sort=False)\n",
      "/var/tmp/rojasolvera/ipykernel_485947/3486713291.py:6: FutureWarning: The frame.append method is deprecated and will be removed from pandas in a future version. Use pandas.concat instead.\n",
      "  outputs=outputs.append(output,sort=False)\n",
      "/var/tmp/rojasolvera/ipykernel_485947/3486713291.py:6: FutureWarning: The frame.append method is deprecated and will be removed from pandas in a future version. Use pandas.concat instead.\n",
      "  outputs=outputs.append(output,sort=False)\n",
      "/var/tmp/rojasolvera/ipykernel_485947/3486713291.py:6: FutureWarning: The frame.append method is deprecated and will be removed from pandas in a future version. Use pandas.concat instead.\n",
      "  outputs=outputs.append(output,sort=False)\n"
     ]
    },
    {
     "name": "stdout",
     "output_type": "stream",
     "text": [
      "1/1 [==============================] - 0s 23ms/step\n",
      "1/1 [==============================] - 0s 23ms/step\n",
      "1/1 [==============================] - 0s 22ms/step\n",
      "1/1 [==============================] - 0s 22ms/step\n"
     ]
    },
    {
     "name": "stderr",
     "output_type": "stream",
     "text": [
      "/var/tmp/rojasolvera/ipykernel_485947/3486713291.py:6: FutureWarning: The frame.append method is deprecated and will be removed from pandas in a future version. Use pandas.concat instead.\n",
      "  outputs=outputs.append(output,sort=False)\n",
      "/var/tmp/rojasolvera/ipykernel_485947/3486713291.py:6: FutureWarning: The frame.append method is deprecated and will be removed from pandas in a future version. Use pandas.concat instead.\n",
      "  outputs=outputs.append(output,sort=False)\n",
      "/var/tmp/rojasolvera/ipykernel_485947/3486713291.py:6: FutureWarning: The frame.append method is deprecated and will be removed from pandas in a future version. Use pandas.concat instead.\n",
      "  outputs=outputs.append(output,sort=False)\n",
      "/var/tmp/rojasolvera/ipykernel_485947/3486713291.py:6: FutureWarning: The frame.append method is deprecated and will be removed from pandas in a future version. Use pandas.concat instead.\n",
      "  outputs=outputs.append(output,sort=False)\n"
     ]
    },
    {
     "name": "stdout",
     "output_type": "stream",
     "text": [
      "1/1 [==============================] - 0s 24ms/step\n",
      "1/1 [==============================] - 0s 21ms/step\n",
      "1/1 [==============================] - 0s 25ms/step\n",
      "1/1 [==============================] - 0s 21ms/step\n"
     ]
    },
    {
     "name": "stderr",
     "output_type": "stream",
     "text": [
      "/var/tmp/rojasolvera/ipykernel_485947/3486713291.py:6: FutureWarning: The frame.append method is deprecated and will be removed from pandas in a future version. Use pandas.concat instead.\n",
      "  outputs=outputs.append(output,sort=False)\n",
      "/var/tmp/rojasolvera/ipykernel_485947/3486713291.py:6: FutureWarning: The frame.append method is deprecated and will be removed from pandas in a future version. Use pandas.concat instead.\n",
      "  outputs=outputs.append(output,sort=False)\n",
      "/var/tmp/rojasolvera/ipykernel_485947/3486713291.py:6: FutureWarning: The frame.append method is deprecated and will be removed from pandas in a future version. Use pandas.concat instead.\n",
      "  outputs=outputs.append(output,sort=False)\n",
      "/var/tmp/rojasolvera/ipykernel_485947/3486713291.py:6: FutureWarning: The frame.append method is deprecated and will be removed from pandas in a future version. Use pandas.concat instead.\n",
      "  outputs=outputs.append(output,sort=False)\n"
     ]
    },
    {
     "name": "stdout",
     "output_type": "stream",
     "text": [
      "1/1 [==============================] - 0s 23ms/step\n",
      "1/1 [==============================] - 0s 21ms/step\n",
      "1/1 [==============================] - 0s 22ms/step\n",
      "1/1 [==============================] - 0s 23ms/step\n"
     ]
    },
    {
     "name": "stderr",
     "output_type": "stream",
     "text": [
      "/var/tmp/rojasolvera/ipykernel_485947/3486713291.py:6: FutureWarning: The frame.append method is deprecated and will be removed from pandas in a future version. Use pandas.concat instead.\n",
      "  outputs=outputs.append(output,sort=False)\n",
      "/var/tmp/rojasolvera/ipykernel_485947/3486713291.py:6: FutureWarning: The frame.append method is deprecated and will be removed from pandas in a future version. Use pandas.concat instead.\n",
      "  outputs=outputs.append(output,sort=False)\n",
      "/var/tmp/rojasolvera/ipykernel_485947/3486713291.py:6: FutureWarning: The frame.append method is deprecated and will be removed from pandas in a future version. Use pandas.concat instead.\n",
      "  outputs=outputs.append(output,sort=False)\n",
      "/var/tmp/rojasolvera/ipykernel_485947/3486713291.py:6: FutureWarning: The frame.append method is deprecated and will be removed from pandas in a future version. Use pandas.concat instead.\n",
      "  outputs=outputs.append(output,sort=False)\n"
     ]
    },
    {
     "name": "stdout",
     "output_type": "stream",
     "text": [
      "1/1 [==============================] - 0s 24ms/step\n",
      "1/1 [==============================] - 0s 24ms/step\n",
      "1/1 [==============================] - 0s 22ms/step\n",
      "1/1 [==============================] - 0s 23ms/step\n"
     ]
    },
    {
     "name": "stderr",
     "output_type": "stream",
     "text": [
      "/var/tmp/rojasolvera/ipykernel_485947/3486713291.py:6: FutureWarning: The frame.append method is deprecated and will be removed from pandas in a future version. Use pandas.concat instead.\n",
      "  outputs=outputs.append(output,sort=False)\n",
      "/var/tmp/rojasolvera/ipykernel_485947/3486713291.py:6: FutureWarning: The frame.append method is deprecated and will be removed from pandas in a future version. Use pandas.concat instead.\n",
      "  outputs=outputs.append(output,sort=False)\n",
      "/var/tmp/rojasolvera/ipykernel_485947/3486713291.py:6: FutureWarning: The frame.append method is deprecated and will be removed from pandas in a future version. Use pandas.concat instead.\n",
      "  outputs=outputs.append(output,sort=False)\n",
      "/var/tmp/rojasolvera/ipykernel_485947/3486713291.py:6: FutureWarning: The frame.append method is deprecated and will be removed from pandas in a future version. Use pandas.concat instead.\n",
      "  outputs=outputs.append(output,sort=False)\n"
     ]
    },
    {
     "name": "stdout",
     "output_type": "stream",
     "text": [
      "1/1 [==============================] - 0s 24ms/step\n",
      "1/1 [==============================] - 0s 23ms/step\n",
      "1/1 [==============================] - 0s 21ms/step\n",
      "1/1 [==============================] - 0s 22ms/step\n"
     ]
    },
    {
     "name": "stderr",
     "output_type": "stream",
     "text": [
      "/var/tmp/rojasolvera/ipykernel_485947/3486713291.py:6: FutureWarning: The frame.append method is deprecated and will be removed from pandas in a future version. Use pandas.concat instead.\n",
      "  outputs=outputs.append(output,sort=False)\n",
      "/var/tmp/rojasolvera/ipykernel_485947/3486713291.py:6: FutureWarning: The frame.append method is deprecated and will be removed from pandas in a future version. Use pandas.concat instead.\n",
      "  outputs=outputs.append(output,sort=False)\n",
      "/var/tmp/rojasolvera/ipykernel_485947/3486713291.py:6: FutureWarning: The frame.append method is deprecated and will be removed from pandas in a future version. Use pandas.concat instead.\n",
      "  outputs=outputs.append(output,sort=False)\n"
     ]
    },
    {
     "name": "stdout",
     "output_type": "stream",
     "text": [
      "1/1 [==============================] - 0s 23ms/step\n",
      "1/1 [==============================] - 0s 21ms/step\n",
      "1/1 [==============================] - 0s 23ms/step\n"
     ]
    },
    {
     "name": "stderr",
     "output_type": "stream",
     "text": [
      "/var/tmp/rojasolvera/ipykernel_485947/3486713291.py:6: FutureWarning: The frame.append method is deprecated and will be removed from pandas in a future version. Use pandas.concat instead.\n",
      "  outputs=outputs.append(output,sort=False)\n",
      "/var/tmp/rojasolvera/ipykernel_485947/3486713291.py:6: FutureWarning: The frame.append method is deprecated and will be removed from pandas in a future version. Use pandas.concat instead.\n",
      "  outputs=outputs.append(output,sort=False)\n",
      "/var/tmp/rojasolvera/ipykernel_485947/3486713291.py:6: FutureWarning: The frame.append method is deprecated and will be removed from pandas in a future version. Use pandas.concat instead.\n",
      "  outputs=outputs.append(output,sort=False)\n",
      "/var/tmp/rojasolvera/ipykernel_485947/3486713291.py:6: FutureWarning: The frame.append method is deprecated and will be removed from pandas in a future version. Use pandas.concat instead.\n",
      "  outputs=outputs.append(output,sort=False)\n"
     ]
    },
    {
     "name": "stdout",
     "output_type": "stream",
     "text": [
      "1/1 [==============================] - 0s 23ms/step\n",
      "1/1 [==============================] - 0s 27ms/step\n",
      "1/1 [==============================] - 0s 21ms/step\n",
      "1/1 [==============================] - 0s 24ms/step\n"
     ]
    },
    {
     "name": "stderr",
     "output_type": "stream",
     "text": [
      "/var/tmp/rojasolvera/ipykernel_485947/3486713291.py:6: FutureWarning: The frame.append method is deprecated and will be removed from pandas in a future version. Use pandas.concat instead.\n",
      "  outputs=outputs.append(output,sort=False)\n",
      "/var/tmp/rojasolvera/ipykernel_485947/3486713291.py:6: FutureWarning: The frame.append method is deprecated and will be removed from pandas in a future version. Use pandas.concat instead.\n",
      "  outputs=outputs.append(output,sort=False)\n",
      "/var/tmp/rojasolvera/ipykernel_485947/3486713291.py:6: FutureWarning: The frame.append method is deprecated and will be removed from pandas in a future version. Use pandas.concat instead.\n",
      "  outputs=outputs.append(output,sort=False)\n"
     ]
    },
    {
     "name": "stdout",
     "output_type": "stream",
     "text": [
      "1/1 [==============================] - 0s 23ms/step\n",
      "1/1 [==============================] - 0s 22ms/step\n",
      "1/1 [==============================] - 0s 21ms/step\n"
     ]
    },
    {
     "name": "stderr",
     "output_type": "stream",
     "text": [
      "/var/tmp/rojasolvera/ipykernel_485947/3486713291.py:6: FutureWarning: The frame.append method is deprecated and will be removed from pandas in a future version. Use pandas.concat instead.\n",
      "  outputs=outputs.append(output,sort=False)\n",
      "/var/tmp/rojasolvera/ipykernel_485947/3486713291.py:6: FutureWarning: The frame.append method is deprecated and will be removed from pandas in a future version. Use pandas.concat instead.\n",
      "  outputs=outputs.append(output,sort=False)\n",
      "/var/tmp/rojasolvera/ipykernel_485947/3486713291.py:6: FutureWarning: The frame.append method is deprecated and will be removed from pandas in a future version. Use pandas.concat instead.\n",
      "  outputs=outputs.append(output,sort=False)\n",
      "/var/tmp/rojasolvera/ipykernel_485947/3486713291.py:6: FutureWarning: The frame.append method is deprecated and will be removed from pandas in a future version. Use pandas.concat instead.\n",
      "  outputs=outputs.append(output,sort=False)\n"
     ]
    },
    {
     "name": "stdout",
     "output_type": "stream",
     "text": [
      "1/1 [==============================] - 0s 22ms/step\n",
      "1/1 [==============================] - 0s 21ms/step\n",
      "1/1 [==============================] - 0s 24ms/step\n",
      "1/1 [==============================] - 0s 22ms/step\n"
     ]
    },
    {
     "name": "stderr",
     "output_type": "stream",
     "text": [
      "/var/tmp/rojasolvera/ipykernel_485947/3486713291.py:6: FutureWarning: The frame.append method is deprecated and will be removed from pandas in a future version. Use pandas.concat instead.\n",
      "  outputs=outputs.append(output,sort=False)\n",
      "/var/tmp/rojasolvera/ipykernel_485947/3486713291.py:6: FutureWarning: The frame.append method is deprecated and will be removed from pandas in a future version. Use pandas.concat instead.\n",
      "  outputs=outputs.append(output,sort=False)\n",
      "/var/tmp/rojasolvera/ipykernel_485947/3486713291.py:6: FutureWarning: The frame.append method is deprecated and will be removed from pandas in a future version. Use pandas.concat instead.\n",
      "  outputs=outputs.append(output,sort=False)\n",
      "/var/tmp/rojasolvera/ipykernel_485947/3486713291.py:6: FutureWarning: The frame.append method is deprecated and will be removed from pandas in a future version. Use pandas.concat instead.\n",
      "  outputs=outputs.append(output,sort=False)\n"
     ]
    },
    {
     "name": "stdout",
     "output_type": "stream",
     "text": [
      "1/1 [==============================] - 0s 23ms/step\n",
      "1/1 [==============================] - 0s 23ms/step\n",
      "1/1 [==============================] - 0s 23ms/step\n",
      "1/1 [==============================] - 0s 25ms/step\n"
     ]
    },
    {
     "name": "stderr",
     "output_type": "stream",
     "text": [
      "/var/tmp/rojasolvera/ipykernel_485947/3486713291.py:6: FutureWarning: The frame.append method is deprecated and will be removed from pandas in a future version. Use pandas.concat instead.\n",
      "  outputs=outputs.append(output,sort=False)\n",
      "/var/tmp/rojasolvera/ipykernel_485947/3486713291.py:6: FutureWarning: The frame.append method is deprecated and will be removed from pandas in a future version. Use pandas.concat instead.\n",
      "  outputs=outputs.append(output,sort=False)\n",
      "/var/tmp/rojasolvera/ipykernel_485947/3486713291.py:6: FutureWarning: The frame.append method is deprecated and will be removed from pandas in a future version. Use pandas.concat instead.\n",
      "  outputs=outputs.append(output,sort=False)\n",
      "/var/tmp/rojasolvera/ipykernel_485947/3486713291.py:6: FutureWarning: The frame.append method is deprecated and will be removed from pandas in a future version. Use pandas.concat instead.\n",
      "  outputs=outputs.append(output,sort=False)\n"
     ]
    },
    {
     "name": "stdout",
     "output_type": "stream",
     "text": [
      "1/1 [==============================] - 0s 25ms/step\n",
      "1/1 [==============================] - 0s 22ms/step\n",
      "1/1 [==============================] - 0s 24ms/step\n",
      "1/1 [==============================] - 0s 24ms/step\n"
     ]
    },
    {
     "name": "stderr",
     "output_type": "stream",
     "text": [
      "/var/tmp/rojasolvera/ipykernel_485947/3486713291.py:6: FutureWarning: The frame.append method is deprecated and will be removed from pandas in a future version. Use pandas.concat instead.\n",
      "  outputs=outputs.append(output,sort=False)\n",
      "/var/tmp/rojasolvera/ipykernel_485947/3486713291.py:6: FutureWarning: The frame.append method is deprecated and will be removed from pandas in a future version. Use pandas.concat instead.\n",
      "  outputs=outputs.append(output,sort=False)\n",
      "/var/tmp/rojasolvera/ipykernel_485947/3486713291.py:6: FutureWarning: The frame.append method is deprecated and will be removed from pandas in a future version. Use pandas.concat instead.\n",
      "  outputs=outputs.append(output,sort=False)\n",
      "/var/tmp/rojasolvera/ipykernel_485947/3486713291.py:6: FutureWarning: The frame.append method is deprecated and will be removed from pandas in a future version. Use pandas.concat instead.\n",
      "  outputs=outputs.append(output,sort=False)\n"
     ]
    },
    {
     "name": "stdout",
     "output_type": "stream",
     "text": [
      "1/1 [==============================] - 0s 22ms/step\n",
      "1/1 [==============================] - 0s 25ms/step\n",
      "1/1 [==============================] - 0s 25ms/step\n"
     ]
    },
    {
     "name": "stderr",
     "output_type": "stream",
     "text": [
      "/var/tmp/rojasolvera/ipykernel_485947/3486713291.py:6: FutureWarning: The frame.append method is deprecated and will be removed from pandas in a future version. Use pandas.concat instead.\n",
      "  outputs=outputs.append(output,sort=False)\n",
      "/var/tmp/rojasolvera/ipykernel_485947/3486713291.py:6: FutureWarning: The frame.append method is deprecated and will be removed from pandas in a future version. Use pandas.concat instead.\n",
      "  outputs=outputs.append(output,sort=False)\n",
      "/var/tmp/rojasolvera/ipykernel_485947/3486713291.py:6: FutureWarning: The frame.append method is deprecated and will be removed from pandas in a future version. Use pandas.concat instead.\n",
      "  outputs=outputs.append(output,sort=False)\n"
     ]
    },
    {
     "name": "stdout",
     "output_type": "stream",
     "text": [
      "1/1 [==============================] - 0s 24ms/step\n",
      "1/1 [==============================] - 0s 23ms/step\n",
      "1/1 [==============================] - 0s 23ms/step\n",
      "1/1 [==============================] - 0s 21ms/step\n"
     ]
    },
    {
     "name": "stderr",
     "output_type": "stream",
     "text": [
      "/var/tmp/rojasolvera/ipykernel_485947/3486713291.py:6: FutureWarning: The frame.append method is deprecated and will be removed from pandas in a future version. Use pandas.concat instead.\n",
      "  outputs=outputs.append(output,sort=False)\n",
      "/var/tmp/rojasolvera/ipykernel_485947/3486713291.py:6: FutureWarning: The frame.append method is deprecated and will be removed from pandas in a future version. Use pandas.concat instead.\n",
      "  outputs=outputs.append(output,sort=False)\n",
      "/var/tmp/rojasolvera/ipykernel_485947/3486713291.py:6: FutureWarning: The frame.append method is deprecated and will be removed from pandas in a future version. Use pandas.concat instead.\n",
      "  outputs=outputs.append(output,sort=False)\n",
      "/var/tmp/rojasolvera/ipykernel_485947/3486713291.py:6: FutureWarning: The frame.append method is deprecated and will be removed from pandas in a future version. Use pandas.concat instead.\n",
      "  outputs=outputs.append(output,sort=False)\n"
     ]
    },
    {
     "name": "stdout",
     "output_type": "stream",
     "text": [
      "1/1 [==============================] - 0s 24ms/step\n",
      "1/1 [==============================] - 0s 21ms/step\n",
      "1/1 [==============================] - 0s 23ms/step\n",
      "1/1 [==============================] - 0s 23ms/step\n"
     ]
    },
    {
     "name": "stderr",
     "output_type": "stream",
     "text": [
      "/var/tmp/rojasolvera/ipykernel_485947/3486713291.py:6: FutureWarning: The frame.append method is deprecated and will be removed from pandas in a future version. Use pandas.concat instead.\n",
      "  outputs=outputs.append(output,sort=False)\n",
      "/var/tmp/rojasolvera/ipykernel_485947/3486713291.py:6: FutureWarning: The frame.append method is deprecated and will be removed from pandas in a future version. Use pandas.concat instead.\n",
      "  outputs=outputs.append(output,sort=False)\n",
      "/var/tmp/rojasolvera/ipykernel_485947/3486713291.py:6: FutureWarning: The frame.append method is deprecated and will be removed from pandas in a future version. Use pandas.concat instead.\n",
      "  outputs=outputs.append(output,sort=False)\n",
      "/var/tmp/rojasolvera/ipykernel_485947/3486713291.py:6: FutureWarning: The frame.append method is deprecated and will be removed from pandas in a future version. Use pandas.concat instead.\n",
      "  outputs=outputs.append(output,sort=False)\n"
     ]
    },
    {
     "name": "stdout",
     "output_type": "stream",
     "text": [
      "1/1 [==============================] - 0s 23ms/step\n",
      "1/1 [==============================] - 0s 23ms/step\n",
      "1/1 [==============================] - 0s 22ms/step\n",
      "1/1 [==============================] - 0s 22ms/step\n"
     ]
    },
    {
     "name": "stderr",
     "output_type": "stream",
     "text": [
      "/var/tmp/rojasolvera/ipykernel_485947/3486713291.py:6: FutureWarning: The frame.append method is deprecated and will be removed from pandas in a future version. Use pandas.concat instead.\n",
      "  outputs=outputs.append(output,sort=False)\n",
      "/var/tmp/rojasolvera/ipykernel_485947/3486713291.py:6: FutureWarning: The frame.append method is deprecated and will be removed from pandas in a future version. Use pandas.concat instead.\n",
      "  outputs=outputs.append(output,sort=False)\n",
      "/var/tmp/rojasolvera/ipykernel_485947/3486713291.py:6: FutureWarning: The frame.append method is deprecated and will be removed from pandas in a future version. Use pandas.concat instead.\n",
      "  outputs=outputs.append(output,sort=False)\n",
      "/var/tmp/rojasolvera/ipykernel_485947/3486713291.py:6: FutureWarning: The frame.append method is deprecated and will be removed from pandas in a future version. Use pandas.concat instead.\n",
      "  outputs=outputs.append(output,sort=False)\n"
     ]
    },
    {
     "name": "stdout",
     "output_type": "stream",
     "text": [
      "1/1 [==============================] - 0s 23ms/step\n",
      "1/1 [==============================] - 0s 23ms/step\n",
      "1/1 [==============================] - 0s 23ms/step\n",
      "1/1 [==============================] - 0s 24ms/step\n"
     ]
    },
    {
     "name": "stderr",
     "output_type": "stream",
     "text": [
      "/var/tmp/rojasolvera/ipykernel_485947/3486713291.py:6: FutureWarning: The frame.append method is deprecated and will be removed from pandas in a future version. Use pandas.concat instead.\n",
      "  outputs=outputs.append(output,sort=False)\n",
      "/var/tmp/rojasolvera/ipykernel_485947/3486713291.py:6: FutureWarning: The frame.append method is deprecated and will be removed from pandas in a future version. Use pandas.concat instead.\n",
      "  outputs=outputs.append(output,sort=False)\n",
      "/var/tmp/rojasolvera/ipykernel_485947/3486713291.py:6: FutureWarning: The frame.append method is deprecated and will be removed from pandas in a future version. Use pandas.concat instead.\n",
      "  outputs=outputs.append(output,sort=False)\n",
      "/var/tmp/rojasolvera/ipykernel_485947/3486713291.py:6: FutureWarning: The frame.append method is deprecated and will be removed from pandas in a future version. Use pandas.concat instead.\n",
      "  outputs=outputs.append(output,sort=False)\n"
     ]
    },
    {
     "name": "stdout",
     "output_type": "stream",
     "text": [
      "1/1 [==============================] - 0s 23ms/step\n",
      "1/1 [==============================] - 0s 22ms/step\n",
      "1/1 [==============================] - 0s 24ms/step\n",
      "1/1 [==============================] - 0s 23ms/step\n"
     ]
    },
    {
     "name": "stderr",
     "output_type": "stream",
     "text": [
      "/var/tmp/rojasolvera/ipykernel_485947/3486713291.py:6: FutureWarning: The frame.append method is deprecated and will be removed from pandas in a future version. Use pandas.concat instead.\n",
      "  outputs=outputs.append(output,sort=False)\n",
      "/var/tmp/rojasolvera/ipykernel_485947/3486713291.py:6: FutureWarning: The frame.append method is deprecated and will be removed from pandas in a future version. Use pandas.concat instead.\n",
      "  outputs=outputs.append(output,sort=False)\n",
      "/var/tmp/rojasolvera/ipykernel_485947/3486713291.py:6: FutureWarning: The frame.append method is deprecated and will be removed from pandas in a future version. Use pandas.concat instead.\n",
      "  outputs=outputs.append(output,sort=False)\n",
      "/var/tmp/rojasolvera/ipykernel_485947/3486713291.py:6: FutureWarning: The frame.append method is deprecated and will be removed from pandas in a future version. Use pandas.concat instead.\n",
      "  outputs=outputs.append(output,sort=False)\n"
     ]
    },
    {
     "name": "stdout",
     "output_type": "stream",
     "text": [
      "1/1 [==============================] - 0s 22ms/step\n",
      "1/1 [==============================] - 0s 22ms/step\n",
      "1/1 [==============================] - 0s 24ms/step\n",
      "1/1 [==============================] - 0s 23ms/step\n"
     ]
    },
    {
     "name": "stderr",
     "output_type": "stream",
     "text": [
      "/var/tmp/rojasolvera/ipykernel_485947/3486713291.py:6: FutureWarning: The frame.append method is deprecated and will be removed from pandas in a future version. Use pandas.concat instead.\n",
      "  outputs=outputs.append(output,sort=False)\n",
      "/var/tmp/rojasolvera/ipykernel_485947/3486713291.py:6: FutureWarning: The frame.append method is deprecated and will be removed from pandas in a future version. Use pandas.concat instead.\n",
      "  outputs=outputs.append(output,sort=False)\n",
      "/var/tmp/rojasolvera/ipykernel_485947/3486713291.py:6: FutureWarning: The frame.append method is deprecated and will be removed from pandas in a future version. Use pandas.concat instead.\n",
      "  outputs=outputs.append(output,sort=False)\n",
      "/var/tmp/rojasolvera/ipykernel_485947/3486713291.py:6: FutureWarning: The frame.append method is deprecated and will be removed from pandas in a future version. Use pandas.concat instead.\n",
      "  outputs=outputs.append(output,sort=False)\n"
     ]
    },
    {
     "name": "stdout",
     "output_type": "stream",
     "text": [
      "1/1 [==============================] - 0s 23ms/step\n"
     ]
    },
    {
     "name": "stderr",
     "output_type": "stream",
     "text": [
      "/var/tmp/rojasolvera/ipykernel_485947/3486713291.py:6: FutureWarning: The frame.append method is deprecated and will be removed from pandas in a future version. Use pandas.concat instead.\n",
      "  outputs=outputs.append(output,sort=False)\n"
     ]
    },
    {
     "name": "stdout",
     "output_type": "stream",
     "text": [
      "1/1 [==============================] - 0s 230ms/step\n",
      "1/1 [==============================] - 0s 22ms/step\n",
      "1/1 [==============================] - 0s 23ms/step\n",
      "1/1 [==============================] - 0s 24ms/step\n"
     ]
    },
    {
     "name": "stderr",
     "output_type": "stream",
     "text": [
      "/var/tmp/rojasolvera/ipykernel_485947/3486713291.py:6: FutureWarning: The frame.append method is deprecated and will be removed from pandas in a future version. Use pandas.concat instead.\n",
      "  outputs=outputs.append(output,sort=False)\n",
      "/var/tmp/rojasolvera/ipykernel_485947/3486713291.py:6: FutureWarning: The frame.append method is deprecated and will be removed from pandas in a future version. Use pandas.concat instead.\n",
      "  outputs=outputs.append(output,sort=False)\n",
      "/var/tmp/rojasolvera/ipykernel_485947/3486713291.py:6: FutureWarning: The frame.append method is deprecated and will be removed from pandas in a future version. Use pandas.concat instead.\n",
      "  outputs=outputs.append(output,sort=False)\n",
      "/var/tmp/rojasolvera/ipykernel_485947/3486713291.py:6: FutureWarning: The frame.append method is deprecated and will be removed from pandas in a future version. Use pandas.concat instead.\n",
      "  outputs=outputs.append(output,sort=False)\n"
     ]
    },
    {
     "name": "stdout",
     "output_type": "stream",
     "text": [
      "1/1 [==============================] - 0s 28ms/step\n",
      "1/1 [==============================] - 0s 23ms/step\n",
      "1/1 [==============================] - 0s 25ms/step\n"
     ]
    },
    {
     "name": "stderr",
     "output_type": "stream",
     "text": [
      "/var/tmp/rojasolvera/ipykernel_485947/3486713291.py:6: FutureWarning: The frame.append method is deprecated and will be removed from pandas in a future version. Use pandas.concat instead.\n",
      "  outputs=outputs.append(output,sort=False)\n",
      "/var/tmp/rojasolvera/ipykernel_485947/3486713291.py:6: FutureWarning: The frame.append method is deprecated and will be removed from pandas in a future version. Use pandas.concat instead.\n",
      "  outputs=outputs.append(output,sort=False)\n",
      "/var/tmp/rojasolvera/ipykernel_485947/3486713291.py:6: FutureWarning: The frame.append method is deprecated and will be removed from pandas in a future version. Use pandas.concat instead.\n",
      "  outputs=outputs.append(output,sort=False)\n"
     ]
    },
    {
     "name": "stdout",
     "output_type": "stream",
     "text": [
      "1/1 [==============================] - 0s 24ms/step\n",
      "1/1 [==============================] - 0s 23ms/step\n",
      "1/1 [==============================] - 0s 21ms/step\n",
      "1/1 [==============================] - 0s 22ms/step\n"
     ]
    },
    {
     "name": "stderr",
     "output_type": "stream",
     "text": [
      "/var/tmp/rojasolvera/ipykernel_485947/3486713291.py:6: FutureWarning: The frame.append method is deprecated and will be removed from pandas in a future version. Use pandas.concat instead.\n",
      "  outputs=outputs.append(output,sort=False)\n",
      "/var/tmp/rojasolvera/ipykernel_485947/3486713291.py:6: FutureWarning: The frame.append method is deprecated and will be removed from pandas in a future version. Use pandas.concat instead.\n",
      "  outputs=outputs.append(output,sort=False)\n",
      "/var/tmp/rojasolvera/ipykernel_485947/3486713291.py:6: FutureWarning: The frame.append method is deprecated and will be removed from pandas in a future version. Use pandas.concat instead.\n",
      "  outputs=outputs.append(output,sort=False)\n",
      "/var/tmp/rojasolvera/ipykernel_485947/3486713291.py:6: FutureWarning: The frame.append method is deprecated and will be removed from pandas in a future version. Use pandas.concat instead.\n",
      "  outputs=outputs.append(output,sort=False)\n"
     ]
    },
    {
     "name": "stdout",
     "output_type": "stream",
     "text": [
      "1/1 [==============================] - 0s 23ms/step\n",
      "1/1 [==============================] - 0s 21ms/step\n",
      "1/1 [==============================] - 0s 22ms/step\n",
      "1/1 [==============================] - 0s 22ms/step\n"
     ]
    },
    {
     "name": "stderr",
     "output_type": "stream",
     "text": [
      "/var/tmp/rojasolvera/ipykernel_485947/3486713291.py:6: FutureWarning: The frame.append method is deprecated and will be removed from pandas in a future version. Use pandas.concat instead.\n",
      "  outputs=outputs.append(output,sort=False)\n",
      "/var/tmp/rojasolvera/ipykernel_485947/3486713291.py:6: FutureWarning: The frame.append method is deprecated and will be removed from pandas in a future version. Use pandas.concat instead.\n",
      "  outputs=outputs.append(output,sort=False)\n",
      "/var/tmp/rojasolvera/ipykernel_485947/3486713291.py:6: FutureWarning: The frame.append method is deprecated and will be removed from pandas in a future version. Use pandas.concat instead.\n",
      "  outputs=outputs.append(output,sort=False)\n",
      "/var/tmp/rojasolvera/ipykernel_485947/3486713291.py:6: FutureWarning: The frame.append method is deprecated and will be removed from pandas in a future version. Use pandas.concat instead.\n",
      "  outputs=outputs.append(output,sort=False)\n"
     ]
    },
    {
     "name": "stdout",
     "output_type": "stream",
     "text": [
      "1/1 [==============================] - 0s 23ms/step\n",
      "1/1 [==============================] - 0s 23ms/step\n",
      "1/1 [==============================] - 0s 22ms/step\n",
      "1/1 [==============================] - 0s 22ms/step\n"
     ]
    },
    {
     "name": "stderr",
     "output_type": "stream",
     "text": [
      "/var/tmp/rojasolvera/ipykernel_485947/3486713291.py:6: FutureWarning: The frame.append method is deprecated and will be removed from pandas in a future version. Use pandas.concat instead.\n",
      "  outputs=outputs.append(output,sort=False)\n",
      "/var/tmp/rojasolvera/ipykernel_485947/3486713291.py:6: FutureWarning: The frame.append method is deprecated and will be removed from pandas in a future version. Use pandas.concat instead.\n",
      "  outputs=outputs.append(output,sort=False)\n",
      "/var/tmp/rojasolvera/ipykernel_485947/3486713291.py:6: FutureWarning: The frame.append method is deprecated and will be removed from pandas in a future version. Use pandas.concat instead.\n",
      "  outputs=outputs.append(output,sort=False)\n",
      "/var/tmp/rojasolvera/ipykernel_485947/3486713291.py:6: FutureWarning: The frame.append method is deprecated and will be removed from pandas in a future version. Use pandas.concat instead.\n",
      "  outputs=outputs.append(output,sort=False)\n"
     ]
    },
    {
     "name": "stdout",
     "output_type": "stream",
     "text": [
      "1/1 [==============================] - 0s 23ms/step\n",
      "1/1 [==============================] - 0s 22ms/step\n",
      "1/1 [==============================] - 0s 21ms/step\n",
      "1/1 [==============================] - 0s 22ms/step\n"
     ]
    },
    {
     "name": "stderr",
     "output_type": "stream",
     "text": [
      "/var/tmp/rojasolvera/ipykernel_485947/3486713291.py:6: FutureWarning: The frame.append method is deprecated and will be removed from pandas in a future version. Use pandas.concat instead.\n",
      "  outputs=outputs.append(output,sort=False)\n",
      "/var/tmp/rojasolvera/ipykernel_485947/3486713291.py:6: FutureWarning: The frame.append method is deprecated and will be removed from pandas in a future version. Use pandas.concat instead.\n",
      "  outputs=outputs.append(output,sort=False)\n",
      "/var/tmp/rojasolvera/ipykernel_485947/3486713291.py:6: FutureWarning: The frame.append method is deprecated and will be removed from pandas in a future version. Use pandas.concat instead.\n",
      "  outputs=outputs.append(output,sort=False)\n",
      "/var/tmp/rojasolvera/ipykernel_485947/3486713291.py:6: FutureWarning: The frame.append method is deprecated and will be removed from pandas in a future version. Use pandas.concat instead.\n",
      "  outputs=outputs.append(output,sort=False)\n"
     ]
    },
    {
     "name": "stdout",
     "output_type": "stream",
     "text": [
      "1/1 [==============================] - 0s 23ms/step\n",
      "1/1 [==============================] - 0s 21ms/step\n",
      "1/1 [==============================] - 0s 21ms/step\n",
      "1/1 [==============================] - 0s 22ms/step\n"
     ]
    },
    {
     "name": "stderr",
     "output_type": "stream",
     "text": [
      "/var/tmp/rojasolvera/ipykernel_485947/3486713291.py:6: FutureWarning: The frame.append method is deprecated and will be removed from pandas in a future version. Use pandas.concat instead.\n",
      "  outputs=outputs.append(output,sort=False)\n",
      "/var/tmp/rojasolvera/ipykernel_485947/3486713291.py:6: FutureWarning: The frame.append method is deprecated and will be removed from pandas in a future version. Use pandas.concat instead.\n",
      "  outputs=outputs.append(output,sort=False)\n",
      "/var/tmp/rojasolvera/ipykernel_485947/3486713291.py:6: FutureWarning: The frame.append method is deprecated and will be removed from pandas in a future version. Use pandas.concat instead.\n",
      "  outputs=outputs.append(output,sort=False)\n",
      "/var/tmp/rojasolvera/ipykernel_485947/3486713291.py:6: FutureWarning: The frame.append method is deprecated and will be removed from pandas in a future version. Use pandas.concat instead.\n",
      "  outputs=outputs.append(output,sort=False)\n"
     ]
    },
    {
     "name": "stdout",
     "output_type": "stream",
     "text": [
      "1/1 [==============================] - 0s 23ms/step\n",
      "1/1 [==============================] - 0s 23ms/step\n",
      "1/1 [==============================] - 0s 23ms/step\n",
      "1/1 [==============================] - 0s 24ms/step\n"
     ]
    },
    {
     "name": "stderr",
     "output_type": "stream",
     "text": [
      "/var/tmp/rojasolvera/ipykernel_485947/3486713291.py:6: FutureWarning: The frame.append method is deprecated and will be removed from pandas in a future version. Use pandas.concat instead.\n",
      "  outputs=outputs.append(output,sort=False)\n",
      "/var/tmp/rojasolvera/ipykernel_485947/3486713291.py:6: FutureWarning: The frame.append method is deprecated and will be removed from pandas in a future version. Use pandas.concat instead.\n",
      "  outputs=outputs.append(output,sort=False)\n",
      "/var/tmp/rojasolvera/ipykernel_485947/3486713291.py:6: FutureWarning: The frame.append method is deprecated and will be removed from pandas in a future version. Use pandas.concat instead.\n",
      "  outputs=outputs.append(output,sort=False)\n",
      "/var/tmp/rojasolvera/ipykernel_485947/3486713291.py:6: FutureWarning: The frame.append method is deprecated and will be removed from pandas in a future version. Use pandas.concat instead.\n",
      "  outputs=outputs.append(output,sort=False)\n"
     ]
    },
    {
     "name": "stdout",
     "output_type": "stream",
     "text": [
      "1/1 [==============================] - 0s 23ms/step\n",
      "1/1 [==============================] - 0s 22ms/step\n",
      "1/1 [==============================] - 0s 22ms/step\n",
      "1/1 [==============================] - 0s 23ms/step\n"
     ]
    },
    {
     "name": "stderr",
     "output_type": "stream",
     "text": [
      "/var/tmp/rojasolvera/ipykernel_485947/3486713291.py:6: FutureWarning: The frame.append method is deprecated and will be removed from pandas in a future version. Use pandas.concat instead.\n",
      "  outputs=outputs.append(output,sort=False)\n",
      "/var/tmp/rojasolvera/ipykernel_485947/3486713291.py:6: FutureWarning: The frame.append method is deprecated and will be removed from pandas in a future version. Use pandas.concat instead.\n",
      "  outputs=outputs.append(output,sort=False)\n",
      "/var/tmp/rojasolvera/ipykernel_485947/3486713291.py:6: FutureWarning: The frame.append method is deprecated and will be removed from pandas in a future version. Use pandas.concat instead.\n",
      "  outputs=outputs.append(output,sort=False)\n",
      "/var/tmp/rojasolvera/ipykernel_485947/3486713291.py:6: FutureWarning: The frame.append method is deprecated and will be removed from pandas in a future version. Use pandas.concat instead.\n",
      "  outputs=outputs.append(output,sort=False)\n"
     ]
    },
    {
     "name": "stdout",
     "output_type": "stream",
     "text": [
      "1/1 [==============================] - 0s 25ms/step\n",
      "1/1 [==============================] - 0s 22ms/step\n",
      "1/1 [==============================] - 0s 22ms/step\n",
      "1/1 [==============================] - 0s 23ms/step\n"
     ]
    },
    {
     "name": "stderr",
     "output_type": "stream",
     "text": [
      "/var/tmp/rojasolvera/ipykernel_485947/3486713291.py:6: FutureWarning: The frame.append method is deprecated and will be removed from pandas in a future version. Use pandas.concat instead.\n",
      "  outputs=outputs.append(output,sort=False)\n",
      "/var/tmp/rojasolvera/ipykernel_485947/3486713291.py:6: FutureWarning: The frame.append method is deprecated and will be removed from pandas in a future version. Use pandas.concat instead.\n",
      "  outputs=outputs.append(output,sort=False)\n",
      "/var/tmp/rojasolvera/ipykernel_485947/3486713291.py:6: FutureWarning: The frame.append method is deprecated and will be removed from pandas in a future version. Use pandas.concat instead.\n",
      "  outputs=outputs.append(output,sort=False)\n",
      "/var/tmp/rojasolvera/ipykernel_485947/3486713291.py:6: FutureWarning: The frame.append method is deprecated and will be removed from pandas in a future version. Use pandas.concat instead.\n",
      "  outputs=outputs.append(output,sort=False)\n"
     ]
    },
    {
     "name": "stdout",
     "output_type": "stream",
     "text": [
      "1/1 [==============================] - 0s 25ms/step\n",
      "1/1 [==============================] - 0s 25ms/step\n",
      "1/1 [==============================] - 0s 23ms/step\n",
      "1/1 [==============================] - ETA: 0s"
     ]
    },
    {
     "name": "stderr",
     "output_type": "stream",
     "text": [
      "/var/tmp/rojasolvera/ipykernel_485947/3486713291.py:6: FutureWarning: The frame.append method is deprecated and will be removed from pandas in a future version. Use pandas.concat instead.\n",
      "  outputs=outputs.append(output,sort=False)\n",
      "/var/tmp/rojasolvera/ipykernel_485947/3486713291.py:6: FutureWarning: The frame.append method is deprecated and will be removed from pandas in a future version. Use pandas.concat instead.\n",
      "  outputs=outputs.append(output,sort=False)\n",
      "/var/tmp/rojasolvera/ipykernel_485947/3486713291.py:6: FutureWarning: The frame.append method is deprecated and will be removed from pandas in a future version. Use pandas.concat instead.\n",
      "  outputs=outputs.append(output,sort=False)\n"
     ]
    },
    {
     "name": "stdout",
     "output_type": "stream",
     "text": [
      "1/1 [==============================] - 0s 24ms/step\n",
      "1/1 [==============================] - 0s 22ms/step\n",
      "1/1 [==============================] - 0s 23ms/step\n",
      "1/1 [==============================] - 0s 21ms/step\n"
     ]
    },
    {
     "name": "stderr",
     "output_type": "stream",
     "text": [
      "/var/tmp/rojasolvera/ipykernel_485947/3486713291.py:6: FutureWarning: The frame.append method is deprecated and will be removed from pandas in a future version. Use pandas.concat instead.\n",
      "  outputs=outputs.append(output,sort=False)\n",
      "/var/tmp/rojasolvera/ipykernel_485947/3486713291.py:6: FutureWarning: The frame.append method is deprecated and will be removed from pandas in a future version. Use pandas.concat instead.\n",
      "  outputs=outputs.append(output,sort=False)\n",
      "/var/tmp/rojasolvera/ipykernel_485947/3486713291.py:6: FutureWarning: The frame.append method is deprecated and will be removed from pandas in a future version. Use pandas.concat instead.\n",
      "  outputs=outputs.append(output,sort=False)\n",
      "/var/tmp/rojasolvera/ipykernel_485947/3486713291.py:6: FutureWarning: The frame.append method is deprecated and will be removed from pandas in a future version. Use pandas.concat instead.\n",
      "  outputs=outputs.append(output,sort=False)\n"
     ]
    },
    {
     "name": "stdout",
     "output_type": "stream",
     "text": [
      "1/1 [==============================] - 0s 23ms/step\n",
      "1/1 [==============================] - 0s 21ms/step\n",
      "1/1 [==============================] - 0s 22ms/step\n",
      "1/1 [==============================] - 0s 22ms/step\n"
     ]
    },
    {
     "name": "stderr",
     "output_type": "stream",
     "text": [
      "/var/tmp/rojasolvera/ipykernel_485947/3486713291.py:6: FutureWarning: The frame.append method is deprecated and will be removed from pandas in a future version. Use pandas.concat instead.\n",
      "  outputs=outputs.append(output,sort=False)\n",
      "/var/tmp/rojasolvera/ipykernel_485947/3486713291.py:6: FutureWarning: The frame.append method is deprecated and will be removed from pandas in a future version. Use pandas.concat instead.\n",
      "  outputs=outputs.append(output,sort=False)\n",
      "/var/tmp/rojasolvera/ipykernel_485947/3486713291.py:6: FutureWarning: The frame.append method is deprecated and will be removed from pandas in a future version. Use pandas.concat instead.\n",
      "  outputs=outputs.append(output,sort=False)\n",
      "/var/tmp/rojasolvera/ipykernel_485947/3486713291.py:6: FutureWarning: The frame.append method is deprecated and will be removed from pandas in a future version. Use pandas.concat instead.\n",
      "  outputs=outputs.append(output,sort=False)\n"
     ]
    },
    {
     "name": "stdout",
     "output_type": "stream",
     "text": [
      "1/1 [==============================] - 0s 23ms/step\n",
      "1/1 [==============================] - 0s 23ms/step\n",
      "1/1 [==============================] - 0s 24ms/step\n",
      "1/1 [==============================] - 0s 24ms/step\n"
     ]
    },
    {
     "name": "stderr",
     "output_type": "stream",
     "text": [
      "/var/tmp/rojasolvera/ipykernel_485947/3486713291.py:6: FutureWarning: The frame.append method is deprecated and will be removed from pandas in a future version. Use pandas.concat instead.\n",
      "  outputs=outputs.append(output,sort=False)\n",
      "/var/tmp/rojasolvera/ipykernel_485947/3486713291.py:6: FutureWarning: The frame.append method is deprecated and will be removed from pandas in a future version. Use pandas.concat instead.\n",
      "  outputs=outputs.append(output,sort=False)\n",
      "/var/tmp/rojasolvera/ipykernel_485947/3486713291.py:6: FutureWarning: The frame.append method is deprecated and will be removed from pandas in a future version. Use pandas.concat instead.\n",
      "  outputs=outputs.append(output,sort=False)\n",
      "/var/tmp/rojasolvera/ipykernel_485947/3486713291.py:6: FutureWarning: The frame.append method is deprecated and will be removed from pandas in a future version. Use pandas.concat instead.\n",
      "  outputs=outputs.append(output,sort=False)\n"
     ]
    },
    {
     "name": "stdout",
     "output_type": "stream",
     "text": [
      "1/1 [==============================] - 0s 22ms/step\n",
      "1/1 [==============================] - 0s 22ms/step\n",
      "1/1 [==============================] - 0s 21ms/step\n",
      "1/1 [==============================] - 0s 23ms/step\n"
     ]
    },
    {
     "name": "stderr",
     "output_type": "stream",
     "text": [
      "/var/tmp/rojasolvera/ipykernel_485947/3486713291.py:6: FutureWarning: The frame.append method is deprecated and will be removed from pandas in a future version. Use pandas.concat instead.\n",
      "  outputs=outputs.append(output,sort=False)\n",
      "/var/tmp/rojasolvera/ipykernel_485947/3486713291.py:6: FutureWarning: The frame.append method is deprecated and will be removed from pandas in a future version. Use pandas.concat instead.\n",
      "  outputs=outputs.append(output,sort=False)\n",
      "/var/tmp/rojasolvera/ipykernel_485947/3486713291.py:6: FutureWarning: The frame.append method is deprecated and will be removed from pandas in a future version. Use pandas.concat instead.\n",
      "  outputs=outputs.append(output,sort=False)\n",
      "/var/tmp/rojasolvera/ipykernel_485947/3486713291.py:6: FutureWarning: The frame.append method is deprecated and will be removed from pandas in a future version. Use pandas.concat instead.\n",
      "  outputs=outputs.append(output,sort=False)\n"
     ]
    },
    {
     "name": "stdout",
     "output_type": "stream",
     "text": [
      "1/1 [==============================] - 0s 22ms/step\n",
      "1/1 [==============================] - 0s 21ms/step\n",
      "1/1 [==============================] - 0s 23ms/step\n",
      "1/1 [==============================] - 0s 22ms/step\n"
     ]
    },
    {
     "name": "stderr",
     "output_type": "stream",
     "text": [
      "/var/tmp/rojasolvera/ipykernel_485947/3486713291.py:6: FutureWarning: The frame.append method is deprecated and will be removed from pandas in a future version. Use pandas.concat instead.\n",
      "  outputs=outputs.append(output,sort=False)\n",
      "/var/tmp/rojasolvera/ipykernel_485947/3486713291.py:6: FutureWarning: The frame.append method is deprecated and will be removed from pandas in a future version. Use pandas.concat instead.\n",
      "  outputs=outputs.append(output,sort=False)\n",
      "/var/tmp/rojasolvera/ipykernel_485947/3486713291.py:6: FutureWarning: The frame.append method is deprecated and will be removed from pandas in a future version. Use pandas.concat instead.\n",
      "  outputs=outputs.append(output,sort=False)\n",
      "/var/tmp/rojasolvera/ipykernel_485947/3486713291.py:6: FutureWarning: The frame.append method is deprecated and will be removed from pandas in a future version. Use pandas.concat instead.\n",
      "  outputs=outputs.append(output,sort=False)\n"
     ]
    },
    {
     "name": "stdout",
     "output_type": "stream",
     "text": [
      "1/1 [==============================] - 0s 23ms/step\n",
      "1/1 [==============================] - 0s 22ms/step\n",
      "1/1 [==============================] - 0s 23ms/step\n",
      "1/1 [==============================] - 0s 23ms/step\n"
     ]
    },
    {
     "name": "stderr",
     "output_type": "stream",
     "text": [
      "/var/tmp/rojasolvera/ipykernel_485947/3486713291.py:6: FutureWarning: The frame.append method is deprecated and will be removed from pandas in a future version. Use pandas.concat instead.\n",
      "  outputs=outputs.append(output,sort=False)\n",
      "/var/tmp/rojasolvera/ipykernel_485947/3486713291.py:6: FutureWarning: The frame.append method is deprecated and will be removed from pandas in a future version. Use pandas.concat instead.\n",
      "  outputs=outputs.append(output,sort=False)\n",
      "/var/tmp/rojasolvera/ipykernel_485947/3486713291.py:6: FutureWarning: The frame.append method is deprecated and will be removed from pandas in a future version. Use pandas.concat instead.\n",
      "  outputs=outputs.append(output,sort=False)\n",
      "/var/tmp/rojasolvera/ipykernel_485947/3486713291.py:6: FutureWarning: The frame.append method is deprecated and will be removed from pandas in a future version. Use pandas.concat instead.\n",
      "  outputs=outputs.append(output,sort=False)\n"
     ]
    },
    {
     "name": "stdout",
     "output_type": "stream",
     "text": [
      "1/1 [==============================] - 0s 23ms/step\n",
      "1/1 [==============================] - 0s 22ms/step\n",
      "1/1 [==============================] - 0s 21ms/step\n",
      "1/1 [==============================] - 0s 22ms/step\n"
     ]
    },
    {
     "name": "stderr",
     "output_type": "stream",
     "text": [
      "/var/tmp/rojasolvera/ipykernel_485947/3486713291.py:6: FutureWarning: The frame.append method is deprecated and will be removed from pandas in a future version. Use pandas.concat instead.\n",
      "  outputs=outputs.append(output,sort=False)\n",
      "/var/tmp/rojasolvera/ipykernel_485947/3486713291.py:6: FutureWarning: The frame.append method is deprecated and will be removed from pandas in a future version. Use pandas.concat instead.\n",
      "  outputs=outputs.append(output,sort=False)\n",
      "/var/tmp/rojasolvera/ipykernel_485947/3486713291.py:6: FutureWarning: The frame.append method is deprecated and will be removed from pandas in a future version. Use pandas.concat instead.\n",
      "  outputs=outputs.append(output,sort=False)\n",
      "/var/tmp/rojasolvera/ipykernel_485947/3486713291.py:6: FutureWarning: The frame.append method is deprecated and will be removed from pandas in a future version. Use pandas.concat instead.\n",
      "  outputs=outputs.append(output,sort=False)\n"
     ]
    },
    {
     "name": "stdout",
     "output_type": "stream",
     "text": [
      "1/1 [==============================] - 0s 23ms/step\n",
      "1/1 [==============================] - 0s 23ms/step\n",
      "1/1 [==============================] - 0s 23ms/step\n"
     ]
    },
    {
     "name": "stderr",
     "output_type": "stream",
     "text": [
      "/var/tmp/rojasolvera/ipykernel_485947/3486713291.py:6: FutureWarning: The frame.append method is deprecated and will be removed from pandas in a future version. Use pandas.concat instead.\n",
      "  outputs=outputs.append(output,sort=False)\n",
      "/var/tmp/rojasolvera/ipykernel_485947/3486713291.py:6: FutureWarning: The frame.append method is deprecated and will be removed from pandas in a future version. Use pandas.concat instead.\n",
      "  outputs=outputs.append(output,sort=False)\n",
      "/var/tmp/rojasolvera/ipykernel_485947/3486713291.py:6: FutureWarning: The frame.append method is deprecated and will be removed from pandas in a future version. Use pandas.concat instead.\n",
      "  outputs=outputs.append(output,sort=False)\n"
     ]
    },
    {
     "name": "stdout",
     "output_type": "stream",
     "text": [
      "1/1 [==============================] - 0s 24ms/step\n",
      "1/1 [==============================] - 0s 22ms/step\n",
      "1/1 [==============================] - 0s 22ms/step\n",
      "1/1 [==============================] - 0s 22ms/step\n"
     ]
    },
    {
     "name": "stderr",
     "output_type": "stream",
     "text": [
      "/var/tmp/rojasolvera/ipykernel_485947/3486713291.py:6: FutureWarning: The frame.append method is deprecated and will be removed from pandas in a future version. Use pandas.concat instead.\n",
      "  outputs=outputs.append(output,sort=False)\n",
      "/var/tmp/rojasolvera/ipykernel_485947/3486713291.py:6: FutureWarning: The frame.append method is deprecated and will be removed from pandas in a future version. Use pandas.concat instead.\n",
      "  outputs=outputs.append(output,sort=False)\n",
      "/var/tmp/rojasolvera/ipykernel_485947/3486713291.py:6: FutureWarning: The frame.append method is deprecated and will be removed from pandas in a future version. Use pandas.concat instead.\n",
      "  outputs=outputs.append(output,sort=False)\n",
      "/var/tmp/rojasolvera/ipykernel_485947/3486713291.py:6: FutureWarning: The frame.append method is deprecated and will be removed from pandas in a future version. Use pandas.concat instead.\n",
      "  outputs=outputs.append(output,sort=False)\n"
     ]
    },
    {
     "name": "stdout",
     "output_type": "stream",
     "text": [
      "1/1 [==============================] - 0s 24ms/step\n",
      "1/1 [==============================] - 0s 22ms/step\n",
      "1/1 [==============================] - 0s 24ms/step\n",
      "1/1 [==============================] - 0s 22ms/step\n"
     ]
    },
    {
     "name": "stderr",
     "output_type": "stream",
     "text": [
      "/var/tmp/rojasolvera/ipykernel_485947/3486713291.py:6: FutureWarning: The frame.append method is deprecated and will be removed from pandas in a future version. Use pandas.concat instead.\n",
      "  outputs=outputs.append(output,sort=False)\n",
      "/var/tmp/rojasolvera/ipykernel_485947/3486713291.py:6: FutureWarning: The frame.append method is deprecated and will be removed from pandas in a future version. Use pandas.concat instead.\n",
      "  outputs=outputs.append(output,sort=False)\n",
      "/var/tmp/rojasolvera/ipykernel_485947/3486713291.py:6: FutureWarning: The frame.append method is deprecated and will be removed from pandas in a future version. Use pandas.concat instead.\n",
      "  outputs=outputs.append(output,sort=False)\n",
      "/var/tmp/rojasolvera/ipykernel_485947/3486713291.py:6: FutureWarning: The frame.append method is deprecated and will be removed from pandas in a future version. Use pandas.concat instead.\n",
      "  outputs=outputs.append(output,sort=False)\n"
     ]
    },
    {
     "name": "stdout",
     "output_type": "stream",
     "text": [
      "1/1 [==============================] - 0s 22ms/step\n",
      "1/1 [==============================] - 0s 22ms/step\n",
      "1/1 [==============================] - 0s 23ms/step\n",
      "1/1 [==============================] - 0s 22ms/step\n"
     ]
    },
    {
     "name": "stderr",
     "output_type": "stream",
     "text": [
      "/var/tmp/rojasolvera/ipykernel_485947/3486713291.py:6: FutureWarning: The frame.append method is deprecated and will be removed from pandas in a future version. Use pandas.concat instead.\n",
      "  outputs=outputs.append(output,sort=False)\n",
      "/var/tmp/rojasolvera/ipykernel_485947/3486713291.py:6: FutureWarning: The frame.append method is deprecated and will be removed from pandas in a future version. Use pandas.concat instead.\n",
      "  outputs=outputs.append(output,sort=False)\n",
      "/var/tmp/rojasolvera/ipykernel_485947/3486713291.py:6: FutureWarning: The frame.append method is deprecated and will be removed from pandas in a future version. Use pandas.concat instead.\n",
      "  outputs=outputs.append(output,sort=False)\n",
      "/var/tmp/rojasolvera/ipykernel_485947/3486713291.py:6: FutureWarning: The frame.append method is deprecated and will be removed from pandas in a future version. Use pandas.concat instead.\n",
      "  outputs=outputs.append(output,sort=False)\n"
     ]
    },
    {
     "name": "stdout",
     "output_type": "stream",
     "text": [
      "1/1 [==============================] - 0s 22ms/step\n",
      "1/1 [==============================] - 0s 21ms/step\n",
      "1/1 [==============================] - 0s 21ms/step\n",
      "1/1 [==============================] - 0s 21ms/step\n"
     ]
    },
    {
     "name": "stderr",
     "output_type": "stream",
     "text": [
      "/var/tmp/rojasolvera/ipykernel_485947/3486713291.py:6: FutureWarning: The frame.append method is deprecated and will be removed from pandas in a future version. Use pandas.concat instead.\n",
      "  outputs=outputs.append(output,sort=False)\n",
      "/var/tmp/rojasolvera/ipykernel_485947/3486713291.py:6: FutureWarning: The frame.append method is deprecated and will be removed from pandas in a future version. Use pandas.concat instead.\n",
      "  outputs=outputs.append(output,sort=False)\n",
      "/var/tmp/rojasolvera/ipykernel_485947/3486713291.py:6: FutureWarning: The frame.append method is deprecated and will be removed from pandas in a future version. Use pandas.concat instead.\n",
      "  outputs=outputs.append(output,sort=False)\n",
      "/var/tmp/rojasolvera/ipykernel_485947/3486713291.py:6: FutureWarning: The frame.append method is deprecated and will be removed from pandas in a future version. Use pandas.concat instead.\n",
      "  outputs=outputs.append(output,sort=False)\n"
     ]
    },
    {
     "name": "stdout",
     "output_type": "stream",
     "text": [
      "1/1 [==============================] - 0s 23ms/step\n",
      "1/1 [==============================] - 0s 22ms/step\n",
      "1/1 [==============================] - 0s 22ms/step\n",
      "1/1 [==============================] - 0s 23ms/step\n"
     ]
    },
    {
     "name": "stderr",
     "output_type": "stream",
     "text": [
      "/var/tmp/rojasolvera/ipykernel_485947/3486713291.py:6: FutureWarning: The frame.append method is deprecated and will be removed from pandas in a future version. Use pandas.concat instead.\n",
      "  outputs=outputs.append(output,sort=False)\n",
      "/var/tmp/rojasolvera/ipykernel_485947/3486713291.py:6: FutureWarning: The frame.append method is deprecated and will be removed from pandas in a future version. Use pandas.concat instead.\n",
      "  outputs=outputs.append(output,sort=False)\n",
      "/var/tmp/rojasolvera/ipykernel_485947/3486713291.py:6: FutureWarning: The frame.append method is deprecated and will be removed from pandas in a future version. Use pandas.concat instead.\n",
      "  outputs=outputs.append(output,sort=False)\n",
      "/var/tmp/rojasolvera/ipykernel_485947/3486713291.py:6: FutureWarning: The frame.append method is deprecated and will be removed from pandas in a future version. Use pandas.concat instead.\n",
      "  outputs=outputs.append(output,sort=False)\n"
     ]
    },
    {
     "name": "stdout",
     "output_type": "stream",
     "text": [
      "1/1 [==============================] - 0s 24ms/step\n",
      "1/1 [==============================] - 0s 23ms/step\n",
      "1/1 [==============================] - 0s 23ms/step\n",
      "1/1 [==============================] - 0s 22ms/step\n"
     ]
    },
    {
     "name": "stderr",
     "output_type": "stream",
     "text": [
      "/var/tmp/rojasolvera/ipykernel_485947/3486713291.py:6: FutureWarning: The frame.append method is deprecated and will be removed from pandas in a future version. Use pandas.concat instead.\n",
      "  outputs=outputs.append(output,sort=False)\n",
      "/var/tmp/rojasolvera/ipykernel_485947/3486713291.py:6: FutureWarning: The frame.append method is deprecated and will be removed from pandas in a future version. Use pandas.concat instead.\n",
      "  outputs=outputs.append(output,sort=False)\n",
      "/var/tmp/rojasolvera/ipykernel_485947/3486713291.py:6: FutureWarning: The frame.append method is deprecated and will be removed from pandas in a future version. Use pandas.concat instead.\n",
      "  outputs=outputs.append(output,sort=False)\n",
      "/var/tmp/rojasolvera/ipykernel_485947/3486713291.py:6: FutureWarning: The frame.append method is deprecated and will be removed from pandas in a future version. Use pandas.concat instead.\n",
      "  outputs=outputs.append(output,sort=False)\n"
     ]
    },
    {
     "name": "stdout",
     "output_type": "stream",
     "text": [
      "1/1 [==============================] - 0s 22ms/step\n",
      "1/1 [==============================] - 0s 21ms/step\n",
      "1/1 [==============================] - 0s 22ms/step\n",
      "1/1 [==============================] - 0s 22ms/step\n"
     ]
    },
    {
     "name": "stderr",
     "output_type": "stream",
     "text": [
      "/var/tmp/rojasolvera/ipykernel_485947/3486713291.py:6: FutureWarning: The frame.append method is deprecated and will be removed from pandas in a future version. Use pandas.concat instead.\n",
      "  outputs=outputs.append(output,sort=False)\n",
      "/var/tmp/rojasolvera/ipykernel_485947/3486713291.py:6: FutureWarning: The frame.append method is deprecated and will be removed from pandas in a future version. Use pandas.concat instead.\n",
      "  outputs=outputs.append(output,sort=False)\n",
      "/var/tmp/rojasolvera/ipykernel_485947/3486713291.py:6: FutureWarning: The frame.append method is deprecated and will be removed from pandas in a future version. Use pandas.concat instead.\n",
      "  outputs=outputs.append(output,sort=False)\n",
      "/var/tmp/rojasolvera/ipykernel_485947/3486713291.py:6: FutureWarning: The frame.append method is deprecated and will be removed from pandas in a future version. Use pandas.concat instead.\n",
      "  outputs=outputs.append(output,sort=False)\n"
     ]
    },
    {
     "name": "stdout",
     "output_type": "stream",
     "text": [
      "1/1 [==============================] - 0s 23ms/step\n",
      "1/1 [==============================] - 0s 22ms/step\n",
      "1/1 [==============================] - 0s 23ms/step\n",
      "1/1 [==============================] - 0s 23ms/step\n"
     ]
    },
    {
     "name": "stderr",
     "output_type": "stream",
     "text": [
      "/var/tmp/rojasolvera/ipykernel_485947/3486713291.py:6: FutureWarning: The frame.append method is deprecated and will be removed from pandas in a future version. Use pandas.concat instead.\n",
      "  outputs=outputs.append(output,sort=False)\n",
      "/var/tmp/rojasolvera/ipykernel_485947/3486713291.py:6: FutureWarning: The frame.append method is deprecated and will be removed from pandas in a future version. Use pandas.concat instead.\n",
      "  outputs=outputs.append(output,sort=False)\n",
      "/var/tmp/rojasolvera/ipykernel_485947/3486713291.py:6: FutureWarning: The frame.append method is deprecated and will be removed from pandas in a future version. Use pandas.concat instead.\n",
      "  outputs=outputs.append(output,sort=False)\n",
      "/var/tmp/rojasolvera/ipykernel_485947/3486713291.py:6: FutureWarning: The frame.append method is deprecated and will be removed from pandas in a future version. Use pandas.concat instead.\n",
      "  outputs=outputs.append(output,sort=False)\n"
     ]
    },
    {
     "name": "stdout",
     "output_type": "stream",
     "text": [
      "1/1 [==============================] - 0s 25ms/step\n",
      "1/1 [==============================] - 0s 23ms/step\n",
      "1/1 [==============================] - 0s 23ms/step\n"
     ]
    },
    {
     "name": "stderr",
     "output_type": "stream",
     "text": [
      "/var/tmp/rojasolvera/ipykernel_485947/3486713291.py:6: FutureWarning: The frame.append method is deprecated and will be removed from pandas in a future version. Use pandas.concat instead.\n",
      "  outputs=outputs.append(output,sort=False)\n",
      "/var/tmp/rojasolvera/ipykernel_485947/3486713291.py:6: FutureWarning: The frame.append method is deprecated and will be removed from pandas in a future version. Use pandas.concat instead.\n",
      "  outputs=outputs.append(output,sort=False)\n",
      "/var/tmp/rojasolvera/ipykernel_485947/3486713291.py:6: FutureWarning: The frame.append method is deprecated and will be removed from pandas in a future version. Use pandas.concat instead.\n",
      "  outputs=outputs.append(output,sort=False)\n"
     ]
    },
    {
     "name": "stdout",
     "output_type": "stream",
     "text": [
      "1/1 [==============================] - 0s 23ms/step\n",
      "1/1 [==============================] - 0s 21ms/step\n",
      "1/1 [==============================] - 0s 21ms/step\n",
      "1/1 [==============================] - 0s 22ms/step\n"
     ]
    },
    {
     "name": "stderr",
     "output_type": "stream",
     "text": [
      "/var/tmp/rojasolvera/ipykernel_485947/3486713291.py:6: FutureWarning: The frame.append method is deprecated and will be removed from pandas in a future version. Use pandas.concat instead.\n",
      "  outputs=outputs.append(output,sort=False)\n",
      "/var/tmp/rojasolvera/ipykernel_485947/3486713291.py:6: FutureWarning: The frame.append method is deprecated and will be removed from pandas in a future version. Use pandas.concat instead.\n",
      "  outputs=outputs.append(output,sort=False)\n",
      "/var/tmp/rojasolvera/ipykernel_485947/3486713291.py:6: FutureWarning: The frame.append method is deprecated and will be removed from pandas in a future version. Use pandas.concat instead.\n",
      "  outputs=outputs.append(output,sort=False)\n",
      "/var/tmp/rojasolvera/ipykernel_485947/3486713291.py:6: FutureWarning: The frame.append method is deprecated and will be removed from pandas in a future version. Use pandas.concat instead.\n",
      "  outputs=outputs.append(output,sort=False)\n"
     ]
    },
    {
     "name": "stdout",
     "output_type": "stream",
     "text": [
      "1/1 [==============================] - 0s 23ms/step\n",
      "1/1 [==============================] - 0s 22ms/step\n",
      "1/1 [==============================] - 0s 23ms/step\n",
      "1/1 [==============================] - 0s 23ms/step\n"
     ]
    },
    {
     "name": "stderr",
     "output_type": "stream",
     "text": [
      "/var/tmp/rojasolvera/ipykernel_485947/3486713291.py:6: FutureWarning: The frame.append method is deprecated and will be removed from pandas in a future version. Use pandas.concat instead.\n",
      "  outputs=outputs.append(output,sort=False)\n",
      "/var/tmp/rojasolvera/ipykernel_485947/3486713291.py:6: FutureWarning: The frame.append method is deprecated and will be removed from pandas in a future version. Use pandas.concat instead.\n",
      "  outputs=outputs.append(output,sort=False)\n",
      "/var/tmp/rojasolvera/ipykernel_485947/3486713291.py:6: FutureWarning: The frame.append method is deprecated and will be removed from pandas in a future version. Use pandas.concat instead.\n",
      "  outputs=outputs.append(output,sort=False)\n",
      "/var/tmp/rojasolvera/ipykernel_485947/3486713291.py:6: FutureWarning: The frame.append method is deprecated and will be removed from pandas in a future version. Use pandas.concat instead.\n",
      "  outputs=outputs.append(output,sort=False)\n"
     ]
    },
    {
     "name": "stdout",
     "output_type": "stream",
     "text": [
      "1/1 [==============================] - 0s 23ms/step\n",
      "1/1 [==============================] - 0s 21ms/step\n",
      "1/1 [==============================] - 0s 22ms/step\n",
      "1/1 [==============================] - 0s 25ms/step\n"
     ]
    },
    {
     "name": "stderr",
     "output_type": "stream",
     "text": [
      "/var/tmp/rojasolvera/ipykernel_485947/3486713291.py:6: FutureWarning: The frame.append method is deprecated and will be removed from pandas in a future version. Use pandas.concat instead.\n",
      "  outputs=outputs.append(output,sort=False)\n",
      "/var/tmp/rojasolvera/ipykernel_485947/3486713291.py:6: FutureWarning: The frame.append method is deprecated and will be removed from pandas in a future version. Use pandas.concat instead.\n",
      "  outputs=outputs.append(output,sort=False)\n",
      "/var/tmp/rojasolvera/ipykernel_485947/3486713291.py:6: FutureWarning: The frame.append method is deprecated and will be removed from pandas in a future version. Use pandas.concat instead.\n",
      "  outputs=outputs.append(output,sort=False)\n",
      "/var/tmp/rojasolvera/ipykernel_485947/3486713291.py:6: FutureWarning: The frame.append method is deprecated and will be removed from pandas in a future version. Use pandas.concat instead.\n",
      "  outputs=outputs.append(output,sort=False)\n"
     ]
    },
    {
     "name": "stdout",
     "output_type": "stream",
     "text": [
      "1/1 [==============================] - 0s 24ms/step\n",
      "1/1 [==============================] - 0s 22ms/step\n",
      "1/1 [==============================] - 0s 23ms/step\n",
      "1/1 [==============================] - 0s 21ms/step\n"
     ]
    },
    {
     "name": "stderr",
     "output_type": "stream",
     "text": [
      "/var/tmp/rojasolvera/ipykernel_485947/3486713291.py:6: FutureWarning: The frame.append method is deprecated and will be removed from pandas in a future version. Use pandas.concat instead.\n",
      "  outputs=outputs.append(output,sort=False)\n",
      "/var/tmp/rojasolvera/ipykernel_485947/3486713291.py:6: FutureWarning: The frame.append method is deprecated and will be removed from pandas in a future version. Use pandas.concat instead.\n",
      "  outputs=outputs.append(output,sort=False)\n",
      "/var/tmp/rojasolvera/ipykernel_485947/3486713291.py:6: FutureWarning: The frame.append method is deprecated and will be removed from pandas in a future version. Use pandas.concat instead.\n",
      "  outputs=outputs.append(output,sort=False)\n",
      "/var/tmp/rojasolvera/ipykernel_485947/3486713291.py:6: FutureWarning: The frame.append method is deprecated and will be removed from pandas in a future version. Use pandas.concat instead.\n",
      "  outputs=outputs.append(output,sort=False)\n"
     ]
    },
    {
     "name": "stdout",
     "output_type": "stream",
     "text": [
      "1/1 [==============================] - 0s 22ms/step\n",
      "1/1 [==============================] - 0s 22ms/step\n",
      "1/1 [==============================] - 0s 22ms/step\n",
      "1/1 [==============================] - 0s 23ms/step\n"
     ]
    },
    {
     "name": "stderr",
     "output_type": "stream",
     "text": [
      "/var/tmp/rojasolvera/ipykernel_485947/3486713291.py:6: FutureWarning: The frame.append method is deprecated and will be removed from pandas in a future version. Use pandas.concat instead.\n",
      "  outputs=outputs.append(output,sort=False)\n",
      "/var/tmp/rojasolvera/ipykernel_485947/3486713291.py:6: FutureWarning: The frame.append method is deprecated and will be removed from pandas in a future version. Use pandas.concat instead.\n",
      "  outputs=outputs.append(output,sort=False)\n",
      "/var/tmp/rojasolvera/ipykernel_485947/3486713291.py:6: FutureWarning: The frame.append method is deprecated and will be removed from pandas in a future version. Use pandas.concat instead.\n",
      "  outputs=outputs.append(output,sort=False)\n",
      "/var/tmp/rojasolvera/ipykernel_485947/3486713291.py:6: FutureWarning: The frame.append method is deprecated and will be removed from pandas in a future version. Use pandas.concat instead.\n",
      "  outputs=outputs.append(output,sort=False)\n"
     ]
    },
    {
     "name": "stdout",
     "output_type": "stream",
     "text": [
      "1/1 [==============================] - 0s 24ms/step\n",
      "1/1 [==============================] - 0s 24ms/step\n",
      "1/1 [==============================] - 0s 23ms/step\n",
      "1/1 [==============================] - 0s 21ms/step\n"
     ]
    },
    {
     "name": "stderr",
     "output_type": "stream",
     "text": [
      "/var/tmp/rojasolvera/ipykernel_485947/3486713291.py:6: FutureWarning: The frame.append method is deprecated and will be removed from pandas in a future version. Use pandas.concat instead.\n",
      "  outputs=outputs.append(output,sort=False)\n",
      "/var/tmp/rojasolvera/ipykernel_485947/3486713291.py:6: FutureWarning: The frame.append method is deprecated and will be removed from pandas in a future version. Use pandas.concat instead.\n",
      "  outputs=outputs.append(output,sort=False)\n",
      "/var/tmp/rojasolvera/ipykernel_485947/3486713291.py:6: FutureWarning: The frame.append method is deprecated and will be removed from pandas in a future version. Use pandas.concat instead.\n",
      "  outputs=outputs.append(output,sort=False)\n",
      "/var/tmp/rojasolvera/ipykernel_485947/3486713291.py:6: FutureWarning: The frame.append method is deprecated and will be removed from pandas in a future version. Use pandas.concat instead.\n",
      "  outputs=outputs.append(output,sort=False)\n"
     ]
    },
    {
     "name": "stdout",
     "output_type": "stream",
     "text": [
      "1/1 [==============================] - 0s 23ms/step\n",
      "1/1 [==============================] - 0s 21ms/step\n",
      "1/1 [==============================] - 0s 23ms/step\n",
      "1/1 [==============================] - 0s 21ms/step\n"
     ]
    },
    {
     "name": "stderr",
     "output_type": "stream",
     "text": [
      "/var/tmp/rojasolvera/ipykernel_485947/3486713291.py:6: FutureWarning: The frame.append method is deprecated and will be removed from pandas in a future version. Use pandas.concat instead.\n",
      "  outputs=outputs.append(output,sort=False)\n",
      "/var/tmp/rojasolvera/ipykernel_485947/3486713291.py:6: FutureWarning: The frame.append method is deprecated and will be removed from pandas in a future version. Use pandas.concat instead.\n",
      "  outputs=outputs.append(output,sort=False)\n",
      "/var/tmp/rojasolvera/ipykernel_485947/3486713291.py:6: FutureWarning: The frame.append method is deprecated and will be removed from pandas in a future version. Use pandas.concat instead.\n",
      "  outputs=outputs.append(output,sort=False)\n",
      "/var/tmp/rojasolvera/ipykernel_485947/3486713291.py:6: FutureWarning: The frame.append method is deprecated and will be removed from pandas in a future version. Use pandas.concat instead.\n",
      "  outputs=outputs.append(output,sort=False)\n"
     ]
    },
    {
     "name": "stdout",
     "output_type": "stream",
     "text": [
      "1/1 [==============================] - 0s 23ms/step\n",
      "1/1 [==============================] - 0s 22ms/step\n",
      "1/1 [==============================] - 0s 23ms/step\n",
      "1/1 [==============================] - 0s 22ms/step\n"
     ]
    },
    {
     "name": "stderr",
     "output_type": "stream",
     "text": [
      "/var/tmp/rojasolvera/ipykernel_485947/3486713291.py:6: FutureWarning: The frame.append method is deprecated and will be removed from pandas in a future version. Use pandas.concat instead.\n",
      "  outputs=outputs.append(output,sort=False)\n",
      "/var/tmp/rojasolvera/ipykernel_485947/3486713291.py:6: FutureWarning: The frame.append method is deprecated and will be removed from pandas in a future version. Use pandas.concat instead.\n",
      "  outputs=outputs.append(output,sort=False)\n",
      "/var/tmp/rojasolvera/ipykernel_485947/3486713291.py:6: FutureWarning: The frame.append method is deprecated and will be removed from pandas in a future version. Use pandas.concat instead.\n",
      "  outputs=outputs.append(output,sort=False)\n",
      "/var/tmp/rojasolvera/ipykernel_485947/3486713291.py:6: FutureWarning: The frame.append method is deprecated and will be removed from pandas in a future version. Use pandas.concat instead.\n",
      "  outputs=outputs.append(output,sort=False)\n"
     ]
    },
    {
     "name": "stdout",
     "output_type": "stream",
     "text": [
      "1/1 [==============================] - 0s 24ms/step\n",
      "1/1 [==============================] - 0s 22ms/step\n",
      "1/1 [==============================] - 0s 21ms/step\n",
      "1/1 [==============================] - 0s 23ms/step\n"
     ]
    },
    {
     "name": "stderr",
     "output_type": "stream",
     "text": [
      "/var/tmp/rojasolvera/ipykernel_485947/3486713291.py:6: FutureWarning: The frame.append method is deprecated and will be removed from pandas in a future version. Use pandas.concat instead.\n",
      "  outputs=outputs.append(output,sort=False)\n",
      "/var/tmp/rojasolvera/ipykernel_485947/3486713291.py:6: FutureWarning: The frame.append method is deprecated and will be removed from pandas in a future version. Use pandas.concat instead.\n",
      "  outputs=outputs.append(output,sort=False)\n",
      "/var/tmp/rojasolvera/ipykernel_485947/3486713291.py:6: FutureWarning: The frame.append method is deprecated and will be removed from pandas in a future version. Use pandas.concat instead.\n",
      "  outputs=outputs.append(output,sort=False)\n",
      "/var/tmp/rojasolvera/ipykernel_485947/3486713291.py:6: FutureWarning: The frame.append method is deprecated and will be removed from pandas in a future version. Use pandas.concat instead.\n",
      "  outputs=outputs.append(output,sort=False)\n"
     ]
    },
    {
     "name": "stdout",
     "output_type": "stream",
     "text": [
      "1/1 [==============================] - 0s 23ms/step\n",
      "1/1 [==============================] - 0s 22ms/step\n",
      "1/1 [==============================] - 0s 21ms/step\n",
      "1/1 [==============================] - 0s 23ms/step\n"
     ]
    },
    {
     "name": "stderr",
     "output_type": "stream",
     "text": [
      "/var/tmp/rojasolvera/ipykernel_485947/3486713291.py:6: FutureWarning: The frame.append method is deprecated and will be removed from pandas in a future version. Use pandas.concat instead.\n",
      "  outputs=outputs.append(output,sort=False)\n",
      "/var/tmp/rojasolvera/ipykernel_485947/3486713291.py:6: FutureWarning: The frame.append method is deprecated and will be removed from pandas in a future version. Use pandas.concat instead.\n",
      "  outputs=outputs.append(output,sort=False)\n",
      "/var/tmp/rojasolvera/ipykernel_485947/3486713291.py:6: FutureWarning: The frame.append method is deprecated and will be removed from pandas in a future version. Use pandas.concat instead.\n",
      "  outputs=outputs.append(output,sort=False)\n",
      "/var/tmp/rojasolvera/ipykernel_485947/3486713291.py:6: FutureWarning: The frame.append method is deprecated and will be removed from pandas in a future version. Use pandas.concat instead.\n",
      "  outputs=outputs.append(output,sort=False)\n"
     ]
    },
    {
     "name": "stdout",
     "output_type": "stream",
     "text": [
      "1/1 [==============================] - 0s 24ms/step\n",
      "1/1 [==============================] - 0s 22ms/step\n",
      "1/1 [==============================] - 0s 21ms/step\n",
      "1/1 [==============================] - 0s 21ms/step\n"
     ]
    },
    {
     "name": "stderr",
     "output_type": "stream",
     "text": [
      "/var/tmp/rojasolvera/ipykernel_485947/3486713291.py:6: FutureWarning: The frame.append method is deprecated and will be removed from pandas in a future version. Use pandas.concat instead.\n",
      "  outputs=outputs.append(output,sort=False)\n",
      "/var/tmp/rojasolvera/ipykernel_485947/3486713291.py:6: FutureWarning: The frame.append method is deprecated and will be removed from pandas in a future version. Use pandas.concat instead.\n",
      "  outputs=outputs.append(output,sort=False)\n",
      "/var/tmp/rojasolvera/ipykernel_485947/3486713291.py:6: FutureWarning: The frame.append method is deprecated and will be removed from pandas in a future version. Use pandas.concat instead.\n",
      "  outputs=outputs.append(output,sort=False)\n",
      "/var/tmp/rojasolvera/ipykernel_485947/3486713291.py:6: FutureWarning: The frame.append method is deprecated and will be removed from pandas in a future version. Use pandas.concat instead.\n",
      "  outputs=outputs.append(output,sort=False)\n"
     ]
    },
    {
     "name": "stdout",
     "output_type": "stream",
     "text": [
      "1/1 [==============================] - 0s 23ms/step\n",
      "1/1 [==============================] - 0s 22ms/step\n",
      "1/1 [==============================] - 0s 22ms/step\n",
      "1/1 [==============================] - 0s 21ms/step\n"
     ]
    },
    {
     "name": "stderr",
     "output_type": "stream",
     "text": [
      "/var/tmp/rojasolvera/ipykernel_485947/3486713291.py:6: FutureWarning: The frame.append method is deprecated and will be removed from pandas in a future version. Use pandas.concat instead.\n",
      "  outputs=outputs.append(output,sort=False)\n",
      "/var/tmp/rojasolvera/ipykernel_485947/3486713291.py:6: FutureWarning: The frame.append method is deprecated and will be removed from pandas in a future version. Use pandas.concat instead.\n",
      "  outputs=outputs.append(output,sort=False)\n",
      "/var/tmp/rojasolvera/ipykernel_485947/3486713291.py:6: FutureWarning: The frame.append method is deprecated and will be removed from pandas in a future version. Use pandas.concat instead.\n",
      "  outputs=outputs.append(output,sort=False)\n",
      "/var/tmp/rojasolvera/ipykernel_485947/3486713291.py:6: FutureWarning: The frame.append method is deprecated and will be removed from pandas in a future version. Use pandas.concat instead.\n",
      "  outputs=outputs.append(output,sort=False)\n"
     ]
    },
    {
     "name": "stdout",
     "output_type": "stream",
     "text": [
      "1/1 [==============================] - 0s 23ms/step\n",
      "1/1 [==============================] - 0s 25ms/step\n",
      "1/1 [==============================] - 0s 23ms/step\n",
      "1/1 [==============================] - 0s 21ms/step\n"
     ]
    },
    {
     "name": "stderr",
     "output_type": "stream",
     "text": [
      "/var/tmp/rojasolvera/ipykernel_485947/3486713291.py:6: FutureWarning: The frame.append method is deprecated and will be removed from pandas in a future version. Use pandas.concat instead.\n",
      "  outputs=outputs.append(output,sort=False)\n",
      "/var/tmp/rojasolvera/ipykernel_485947/3486713291.py:6: FutureWarning: The frame.append method is deprecated and will be removed from pandas in a future version. Use pandas.concat instead.\n",
      "  outputs=outputs.append(output,sort=False)\n",
      "/var/tmp/rojasolvera/ipykernel_485947/3486713291.py:6: FutureWarning: The frame.append method is deprecated and will be removed from pandas in a future version. Use pandas.concat instead.\n",
      "  outputs=outputs.append(output,sort=False)\n"
     ]
    },
    {
     "name": "stdout",
     "output_type": "stream",
     "text": [
      "1/1 [==============================] - 0s 23ms/step\n",
      "1/1 [==============================] - 0s 24ms/step\n",
      "1/1 [==============================] - 0s 21ms/step\n"
     ]
    },
    {
     "name": "stderr",
     "output_type": "stream",
     "text": [
      "/var/tmp/rojasolvera/ipykernel_485947/3486713291.py:6: FutureWarning: The frame.append method is deprecated and will be removed from pandas in a future version. Use pandas.concat instead.\n",
      "  outputs=outputs.append(output,sort=False)\n",
      "/var/tmp/rojasolvera/ipykernel_485947/3486713291.py:6: FutureWarning: The frame.append method is deprecated and will be removed from pandas in a future version. Use pandas.concat instead.\n",
      "  outputs=outputs.append(output,sort=False)\n",
      "/var/tmp/rojasolvera/ipykernel_485947/3486713291.py:6: FutureWarning: The frame.append method is deprecated and will be removed from pandas in a future version. Use pandas.concat instead.\n",
      "  outputs=outputs.append(output,sort=False)\n",
      "/var/tmp/rojasolvera/ipykernel_485947/3486713291.py:6: FutureWarning: The frame.append method is deprecated and will be removed from pandas in a future version. Use pandas.concat instead.\n",
      "  outputs=outputs.append(output,sort=False)\n"
     ]
    },
    {
     "name": "stdout",
     "output_type": "stream",
     "text": [
      "1/1 [==============================] - 0s 22ms/step\n",
      "1/1 [==============================] - 0s 23ms/step\n",
      "1/1 [==============================] - 0s 24ms/step\n",
      "1/1 [==============================] - 0s 22ms/step\n"
     ]
    },
    {
     "name": "stderr",
     "output_type": "stream",
     "text": [
      "/var/tmp/rojasolvera/ipykernel_485947/3486713291.py:6: FutureWarning: The frame.append method is deprecated and will be removed from pandas in a future version. Use pandas.concat instead.\n",
      "  outputs=outputs.append(output,sort=False)\n",
      "/var/tmp/rojasolvera/ipykernel_485947/3486713291.py:6: FutureWarning: The frame.append method is deprecated and will be removed from pandas in a future version. Use pandas.concat instead.\n",
      "  outputs=outputs.append(output,sort=False)\n",
      "/var/tmp/rojasolvera/ipykernel_485947/3486713291.py:6: FutureWarning: The frame.append method is deprecated and will be removed from pandas in a future version. Use pandas.concat instead.\n",
      "  outputs=outputs.append(output,sort=False)\n",
      "/var/tmp/rojasolvera/ipykernel_485947/3486713291.py:6: FutureWarning: The frame.append method is deprecated and will be removed from pandas in a future version. Use pandas.concat instead.\n",
      "  outputs=outputs.append(output,sort=False)\n"
     ]
    },
    {
     "name": "stdout",
     "output_type": "stream",
     "text": [
      "1/1 [==============================] - 0s 22ms/step\n",
      "1/1 [==============================] - 0s 23ms/step\n",
      "1/1 [==============================] - 0s 23ms/step\n",
      "1/1 [==============================] - 0s 23ms/step\n"
     ]
    },
    {
     "name": "stderr",
     "output_type": "stream",
     "text": [
      "/var/tmp/rojasolvera/ipykernel_485947/3486713291.py:6: FutureWarning: The frame.append method is deprecated and will be removed from pandas in a future version. Use pandas.concat instead.\n",
      "  outputs=outputs.append(output,sort=False)\n",
      "/var/tmp/rojasolvera/ipykernel_485947/3486713291.py:6: FutureWarning: The frame.append method is deprecated and will be removed from pandas in a future version. Use pandas.concat instead.\n",
      "  outputs=outputs.append(output,sort=False)\n",
      "/var/tmp/rojasolvera/ipykernel_485947/3486713291.py:6: FutureWarning: The frame.append method is deprecated and will be removed from pandas in a future version. Use pandas.concat instead.\n",
      "  outputs=outputs.append(output,sort=False)\n",
      "/var/tmp/rojasolvera/ipykernel_485947/3486713291.py:6: FutureWarning: The frame.append method is deprecated and will be removed from pandas in a future version. Use pandas.concat instead.\n",
      "  outputs=outputs.append(output,sort=False)\n"
     ]
    },
    {
     "name": "stdout",
     "output_type": "stream",
     "text": [
      "1/1 [==============================] - 0s 23ms/step\n",
      "1/1 [==============================] - 0s 25ms/step\n",
      "1/1 [==============================] - 0s 23ms/step\n",
      "1/1 [==============================] - 0s 24ms/step\n"
     ]
    },
    {
     "name": "stderr",
     "output_type": "stream",
     "text": [
      "/var/tmp/rojasolvera/ipykernel_485947/3486713291.py:6: FutureWarning: The frame.append method is deprecated and will be removed from pandas in a future version. Use pandas.concat instead.\n",
      "  outputs=outputs.append(output,sort=False)\n",
      "/var/tmp/rojasolvera/ipykernel_485947/3486713291.py:6: FutureWarning: The frame.append method is deprecated and will be removed from pandas in a future version. Use pandas.concat instead.\n",
      "  outputs=outputs.append(output,sort=False)\n",
      "/var/tmp/rojasolvera/ipykernel_485947/3486713291.py:6: FutureWarning: The frame.append method is deprecated and will be removed from pandas in a future version. Use pandas.concat instead.\n",
      "  outputs=outputs.append(output,sort=False)\n"
     ]
    },
    {
     "name": "stdout",
     "output_type": "stream",
     "text": [
      "1/1 [==============================] - 0s 24ms/step\n",
      "1/1 [==============================] - 0s 22ms/step\n",
      "1/1 [==============================] - 0s 21ms/step\n"
     ]
    },
    {
     "name": "stderr",
     "output_type": "stream",
     "text": [
      "/var/tmp/rojasolvera/ipykernel_485947/3486713291.py:6: FutureWarning: The frame.append method is deprecated and will be removed from pandas in a future version. Use pandas.concat instead.\n",
      "  outputs=outputs.append(output,sort=False)\n",
      "/var/tmp/rojasolvera/ipykernel_485947/3486713291.py:6: FutureWarning: The frame.append method is deprecated and will be removed from pandas in a future version. Use pandas.concat instead.\n",
      "  outputs=outputs.append(output,sort=False)\n",
      "/var/tmp/rojasolvera/ipykernel_485947/3486713291.py:6: FutureWarning: The frame.append method is deprecated and will be removed from pandas in a future version. Use pandas.concat instead.\n",
      "  outputs=outputs.append(output,sort=False)\n",
      "/var/tmp/rojasolvera/ipykernel_485947/3486713291.py:6: FutureWarning: The frame.append method is deprecated and will be removed from pandas in a future version. Use pandas.concat instead.\n",
      "  outputs=outputs.append(output,sort=False)\n"
     ]
    },
    {
     "name": "stdout",
     "output_type": "stream",
     "text": [
      "1/1 [==============================] - 0s 23ms/step\n",
      "1/1 [==============================] - 0s 23ms/step\n",
      "1/1 [==============================] - 0s 23ms/step\n",
      "1/1 [==============================] - 0s 23ms/step\n"
     ]
    },
    {
     "name": "stderr",
     "output_type": "stream",
     "text": [
      "/var/tmp/rojasolvera/ipykernel_485947/3486713291.py:6: FutureWarning: The frame.append method is deprecated and will be removed from pandas in a future version. Use pandas.concat instead.\n",
      "  outputs=outputs.append(output,sort=False)\n",
      "/var/tmp/rojasolvera/ipykernel_485947/3486713291.py:6: FutureWarning: The frame.append method is deprecated and will be removed from pandas in a future version. Use pandas.concat instead.\n",
      "  outputs=outputs.append(output,sort=False)\n",
      "/var/tmp/rojasolvera/ipykernel_485947/3486713291.py:6: FutureWarning: The frame.append method is deprecated and will be removed from pandas in a future version. Use pandas.concat instead.\n",
      "  outputs=outputs.append(output,sort=False)\n",
      "/var/tmp/rojasolvera/ipykernel_485947/3486713291.py:6: FutureWarning: The frame.append method is deprecated and will be removed from pandas in a future version. Use pandas.concat instead.\n",
      "  outputs=outputs.append(output,sort=False)\n"
     ]
    },
    {
     "name": "stdout",
     "output_type": "stream",
     "text": [
      "1/1 [==============================] - 0s 23ms/step\n",
      "1/1 [==============================] - 0s 21ms/step\n",
      "1/1 [==============================] - 0s 23ms/step\n",
      "1/1 [==============================] - 0s 21ms/step\n"
     ]
    },
    {
     "name": "stderr",
     "output_type": "stream",
     "text": [
      "/var/tmp/rojasolvera/ipykernel_485947/3486713291.py:6: FutureWarning: The frame.append method is deprecated and will be removed from pandas in a future version. Use pandas.concat instead.\n",
      "  outputs=outputs.append(output,sort=False)\n",
      "/var/tmp/rojasolvera/ipykernel_485947/3486713291.py:6: FutureWarning: The frame.append method is deprecated and will be removed from pandas in a future version. Use pandas.concat instead.\n",
      "  outputs=outputs.append(output,sort=False)\n",
      "/var/tmp/rojasolvera/ipykernel_485947/3486713291.py:6: FutureWarning: The frame.append method is deprecated and will be removed from pandas in a future version. Use pandas.concat instead.\n",
      "  outputs=outputs.append(output,sort=False)\n",
      "/var/tmp/rojasolvera/ipykernel_485947/3486713291.py:6: FutureWarning: The frame.append method is deprecated and will be removed from pandas in a future version. Use pandas.concat instead.\n",
      "  outputs=outputs.append(output,sort=False)\n"
     ]
    },
    {
     "name": "stdout",
     "output_type": "stream",
     "text": [
      "1/1 [==============================] - 0s 23ms/step\n",
      "1/1 [==============================] - 0s 22ms/step\n",
      "1/1 [==============================] - 0s 23ms/step\n",
      "1/1 [==============================] - 0s 25ms/step\n"
     ]
    },
    {
     "name": "stderr",
     "output_type": "stream",
     "text": [
      "/var/tmp/rojasolvera/ipykernel_485947/3486713291.py:6: FutureWarning: The frame.append method is deprecated and will be removed from pandas in a future version. Use pandas.concat instead.\n",
      "  outputs=outputs.append(output,sort=False)\n",
      "/var/tmp/rojasolvera/ipykernel_485947/3486713291.py:6: FutureWarning: The frame.append method is deprecated and will be removed from pandas in a future version. Use pandas.concat instead.\n",
      "  outputs=outputs.append(output,sort=False)\n",
      "/var/tmp/rojasolvera/ipykernel_485947/3486713291.py:6: FutureWarning: The frame.append method is deprecated and will be removed from pandas in a future version. Use pandas.concat instead.\n",
      "  outputs=outputs.append(output,sort=False)\n",
      "/var/tmp/rojasolvera/ipykernel_485947/3486713291.py:6: FutureWarning: The frame.append method is deprecated and will be removed from pandas in a future version. Use pandas.concat instead.\n",
      "  outputs=outputs.append(output,sort=False)\n"
     ]
    },
    {
     "name": "stdout",
     "output_type": "stream",
     "text": [
      "1/1 [==============================] - 0s 23ms/step\n",
      "1/1 [==============================] - 0s 23ms/step\n",
      "1/1 [==============================] - 0s 22ms/step\n",
      "1/1 [==============================] - 0s 22ms/step\n"
     ]
    },
    {
     "name": "stderr",
     "output_type": "stream",
     "text": [
      "/var/tmp/rojasolvera/ipykernel_485947/3486713291.py:6: FutureWarning: The frame.append method is deprecated and will be removed from pandas in a future version. Use pandas.concat instead.\n",
      "  outputs=outputs.append(output,sort=False)\n",
      "/var/tmp/rojasolvera/ipykernel_485947/3486713291.py:6: FutureWarning: The frame.append method is deprecated and will be removed from pandas in a future version. Use pandas.concat instead.\n",
      "  outputs=outputs.append(output,sort=False)\n",
      "/var/tmp/rojasolvera/ipykernel_485947/3486713291.py:6: FutureWarning: The frame.append method is deprecated and will be removed from pandas in a future version. Use pandas.concat instead.\n",
      "  outputs=outputs.append(output,sort=False)\n",
      "/var/tmp/rojasolvera/ipykernel_485947/3486713291.py:6: FutureWarning: The frame.append method is deprecated and will be removed from pandas in a future version. Use pandas.concat instead.\n",
      "  outputs=outputs.append(output,sort=False)\n"
     ]
    },
    {
     "name": "stdout",
     "output_type": "stream",
     "text": [
      "1/1 [==============================] - 0s 23ms/step\n",
      "1/1 [==============================] - 0s 22ms/step\n",
      "1/1 [==============================] - 0s 23ms/step\n",
      "1/1 [==============================] - 0s 22ms/step\n"
     ]
    },
    {
     "name": "stderr",
     "output_type": "stream",
     "text": [
      "/var/tmp/rojasolvera/ipykernel_485947/3486713291.py:6: FutureWarning: The frame.append method is deprecated and will be removed from pandas in a future version. Use pandas.concat instead.\n",
      "  outputs=outputs.append(output,sort=False)\n",
      "/var/tmp/rojasolvera/ipykernel_485947/3486713291.py:6: FutureWarning: The frame.append method is deprecated and will be removed from pandas in a future version. Use pandas.concat instead.\n",
      "  outputs=outputs.append(output,sort=False)\n",
      "/var/tmp/rojasolvera/ipykernel_485947/3486713291.py:6: FutureWarning: The frame.append method is deprecated and will be removed from pandas in a future version. Use pandas.concat instead.\n",
      "  outputs=outputs.append(output,sort=False)\n",
      "/var/tmp/rojasolvera/ipykernel_485947/3486713291.py:6: FutureWarning: The frame.append method is deprecated and will be removed from pandas in a future version. Use pandas.concat instead.\n",
      "  outputs=outputs.append(output,sort=False)\n"
     ]
    },
    {
     "name": "stdout",
     "output_type": "stream",
     "text": [
      "1/1 [==============================] - 0s 23ms/step\n",
      "1/1 [==============================] - 0s 22ms/step\n",
      "1/1 [==============================] - 0s 22ms/step\n",
      "1/1 [==============================] - 0s 24ms/step\n"
     ]
    },
    {
     "name": "stderr",
     "output_type": "stream",
     "text": [
      "/var/tmp/rojasolvera/ipykernel_485947/3486713291.py:6: FutureWarning: The frame.append method is deprecated and will be removed from pandas in a future version. Use pandas.concat instead.\n",
      "  outputs=outputs.append(output,sort=False)\n",
      "/var/tmp/rojasolvera/ipykernel_485947/3486713291.py:6: FutureWarning: The frame.append method is deprecated and will be removed from pandas in a future version. Use pandas.concat instead.\n",
      "  outputs=outputs.append(output,sort=False)\n",
      "/var/tmp/rojasolvera/ipykernel_485947/3486713291.py:6: FutureWarning: The frame.append method is deprecated and will be removed from pandas in a future version. Use pandas.concat instead.\n",
      "  outputs=outputs.append(output,sort=False)\n",
      "/var/tmp/rojasolvera/ipykernel_485947/3486713291.py:6: FutureWarning: The frame.append method is deprecated and will be removed from pandas in a future version. Use pandas.concat instead.\n",
      "  outputs=outputs.append(output,sort=False)\n"
     ]
    },
    {
     "name": "stdout",
     "output_type": "stream",
     "text": [
      "1/1 [==============================] - 0s 23ms/step\n",
      "1/1 [==============================] - 0s 23ms/step\n",
      "1/1 [==============================] - 0s 24ms/step\n",
      "1/1 [==============================] - 0s 23ms/step\n"
     ]
    },
    {
     "name": "stderr",
     "output_type": "stream",
     "text": [
      "/var/tmp/rojasolvera/ipykernel_485947/3486713291.py:6: FutureWarning: The frame.append method is deprecated and will be removed from pandas in a future version. Use pandas.concat instead.\n",
      "  outputs=outputs.append(output,sort=False)\n",
      "/var/tmp/rojasolvera/ipykernel_485947/3486713291.py:6: FutureWarning: The frame.append method is deprecated and will be removed from pandas in a future version. Use pandas.concat instead.\n",
      "  outputs=outputs.append(output,sort=False)\n",
      "/var/tmp/rojasolvera/ipykernel_485947/3486713291.py:6: FutureWarning: The frame.append method is deprecated and will be removed from pandas in a future version. Use pandas.concat instead.\n",
      "  outputs=outputs.append(output,sort=False)\n",
      "/var/tmp/rojasolvera/ipykernel_485947/3486713291.py:6: FutureWarning: The frame.append method is deprecated and will be removed from pandas in a future version. Use pandas.concat instead.\n",
      "  outputs=outputs.append(output,sort=False)\n"
     ]
    },
    {
     "name": "stdout",
     "output_type": "stream",
     "text": [
      "1/1 [==============================] - 0s 23ms/step\n",
      "1/1 [==============================] - 0s 22ms/step\n",
      "1/1 [==============================] - 0s 23ms/step\n",
      "1/1 [==============================] - 0s 23ms/step\n"
     ]
    },
    {
     "name": "stderr",
     "output_type": "stream",
     "text": [
      "/var/tmp/rojasolvera/ipykernel_485947/3486713291.py:6: FutureWarning: The frame.append method is deprecated and will be removed from pandas in a future version. Use pandas.concat instead.\n",
      "  outputs=outputs.append(output,sort=False)\n",
      "/var/tmp/rojasolvera/ipykernel_485947/3486713291.py:6: FutureWarning: The frame.append method is deprecated and will be removed from pandas in a future version. Use pandas.concat instead.\n",
      "  outputs=outputs.append(output,sort=False)\n",
      "/var/tmp/rojasolvera/ipykernel_485947/3486713291.py:6: FutureWarning: The frame.append method is deprecated and will be removed from pandas in a future version. Use pandas.concat instead.\n",
      "  outputs=outputs.append(output,sort=False)\n",
      "/var/tmp/rojasolvera/ipykernel_485947/3486713291.py:6: FutureWarning: The frame.append method is deprecated and will be removed from pandas in a future version. Use pandas.concat instead.\n",
      "  outputs=outputs.append(output,sort=False)\n"
     ]
    },
    {
     "name": "stdout",
     "output_type": "stream",
     "text": [
      "1/1 [==============================] - 0s 23ms/step\n",
      "1/1 [==============================] - 0s 23ms/step\n",
      "1/1 [==============================] - 0s 22ms/step\n",
      "1/1 [==============================] - 0s 22ms/step\n"
     ]
    },
    {
     "name": "stderr",
     "output_type": "stream",
     "text": [
      "/var/tmp/rojasolvera/ipykernel_485947/3486713291.py:6: FutureWarning: The frame.append method is deprecated and will be removed from pandas in a future version. Use pandas.concat instead.\n",
      "  outputs=outputs.append(output,sort=False)\n",
      "/var/tmp/rojasolvera/ipykernel_485947/3486713291.py:6: FutureWarning: The frame.append method is deprecated and will be removed from pandas in a future version. Use pandas.concat instead.\n",
      "  outputs=outputs.append(output,sort=False)\n",
      "/var/tmp/rojasolvera/ipykernel_485947/3486713291.py:6: FutureWarning: The frame.append method is deprecated and will be removed from pandas in a future version. Use pandas.concat instead.\n",
      "  outputs=outputs.append(output,sort=False)\n",
      "/var/tmp/rojasolvera/ipykernel_485947/3486713291.py:6: FutureWarning: The frame.append method is deprecated and will be removed from pandas in a future version. Use pandas.concat instead.\n",
      "  outputs=outputs.append(output,sort=False)\n"
     ]
    },
    {
     "name": "stdout",
     "output_type": "stream",
     "text": [
      "1/1 [==============================] - 0s 21ms/step\n",
      "1/1 [==============================] - 0s 23ms/step\n",
      "1/1 [==============================] - 0s 21ms/step\n",
      "1/1 [==============================] - 0s 23ms/step\n"
     ]
    },
    {
     "name": "stderr",
     "output_type": "stream",
     "text": [
      "/var/tmp/rojasolvera/ipykernel_485947/3486713291.py:6: FutureWarning: The frame.append method is deprecated and will be removed from pandas in a future version. Use pandas.concat instead.\n",
      "  outputs=outputs.append(output,sort=False)\n",
      "/var/tmp/rojasolvera/ipykernel_485947/3486713291.py:6: FutureWarning: The frame.append method is deprecated and will be removed from pandas in a future version. Use pandas.concat instead.\n",
      "  outputs=outputs.append(output,sort=False)\n",
      "/var/tmp/rojasolvera/ipykernel_485947/3486713291.py:6: FutureWarning: The frame.append method is deprecated and will be removed from pandas in a future version. Use pandas.concat instead.\n",
      "  outputs=outputs.append(output,sort=False)\n",
      "/var/tmp/rojasolvera/ipykernel_485947/3486713291.py:6: FutureWarning: The frame.append method is deprecated and will be removed from pandas in a future version. Use pandas.concat instead.\n",
      "  outputs=outputs.append(output,sort=False)\n"
     ]
    },
    {
     "name": "stdout",
     "output_type": "stream",
     "text": [
      "1/1 [==============================] - 0s 23ms/step\n",
      "1/1 [==============================] - 0s 21ms/step\n",
      "1/1 [==============================] - 0s 22ms/step\n",
      "1/1 [==============================] - 0s 24ms/step\n"
     ]
    },
    {
     "name": "stderr",
     "output_type": "stream",
     "text": [
      "/var/tmp/rojasolvera/ipykernel_485947/3486713291.py:6: FutureWarning: The frame.append method is deprecated and will be removed from pandas in a future version. Use pandas.concat instead.\n",
      "  outputs=outputs.append(output,sort=False)\n",
      "/var/tmp/rojasolvera/ipykernel_485947/3486713291.py:6: FutureWarning: The frame.append method is deprecated and will be removed from pandas in a future version. Use pandas.concat instead.\n",
      "  outputs=outputs.append(output,sort=False)\n",
      "/var/tmp/rojasolvera/ipykernel_485947/3486713291.py:6: FutureWarning: The frame.append method is deprecated and will be removed from pandas in a future version. Use pandas.concat instead.\n",
      "  outputs=outputs.append(output,sort=False)\n",
      "/var/tmp/rojasolvera/ipykernel_485947/3486713291.py:6: FutureWarning: The frame.append method is deprecated and will be removed from pandas in a future version. Use pandas.concat instead.\n",
      "  outputs=outputs.append(output,sort=False)\n"
     ]
    },
    {
     "name": "stdout",
     "output_type": "stream",
     "text": [
      "1/1 [==============================] - 0s 25ms/step\n",
      "1/1 [==============================] - 0s 23ms/step\n",
      "1/1 [==============================] - 0s 23ms/step\n",
      "1/1 [==============================] - 0s 21ms/step\n"
     ]
    },
    {
     "name": "stderr",
     "output_type": "stream",
     "text": [
      "/var/tmp/rojasolvera/ipykernel_485947/3486713291.py:6: FutureWarning: The frame.append method is deprecated and will be removed from pandas in a future version. Use pandas.concat instead.\n",
      "  outputs=outputs.append(output,sort=False)\n",
      "/var/tmp/rojasolvera/ipykernel_485947/3486713291.py:6: FutureWarning: The frame.append method is deprecated and will be removed from pandas in a future version. Use pandas.concat instead.\n",
      "  outputs=outputs.append(output,sort=False)\n",
      "/var/tmp/rojasolvera/ipykernel_485947/3486713291.py:6: FutureWarning: The frame.append method is deprecated and will be removed from pandas in a future version. Use pandas.concat instead.\n",
      "  outputs=outputs.append(output,sort=False)\n",
      "/var/tmp/rojasolvera/ipykernel_485947/3486713291.py:6: FutureWarning: The frame.append method is deprecated and will be removed from pandas in a future version. Use pandas.concat instead.\n",
      "  outputs=outputs.append(output,sort=False)\n"
     ]
    },
    {
     "name": "stdout",
     "output_type": "stream",
     "text": [
      "1/1 [==============================] - 0s 24ms/step\n",
      "1/1 [==============================] - 0s 23ms/step\n",
      "1/1 [==============================] - 0s 23ms/step\n",
      "1/1 [==============================] - 0s 24ms/step\n"
     ]
    },
    {
     "name": "stderr",
     "output_type": "stream",
     "text": [
      "/var/tmp/rojasolvera/ipykernel_485947/3486713291.py:6: FutureWarning: The frame.append method is deprecated and will be removed from pandas in a future version. Use pandas.concat instead.\n",
      "  outputs=outputs.append(output,sort=False)\n",
      "/var/tmp/rojasolvera/ipykernel_485947/3486713291.py:6: FutureWarning: The frame.append method is deprecated and will be removed from pandas in a future version. Use pandas.concat instead.\n",
      "  outputs=outputs.append(output,sort=False)\n",
      "/var/tmp/rojasolvera/ipykernel_485947/3486713291.py:6: FutureWarning: The frame.append method is deprecated and will be removed from pandas in a future version. Use pandas.concat instead.\n",
      "  outputs=outputs.append(output,sort=False)\n",
      "/var/tmp/rojasolvera/ipykernel_485947/3486713291.py:6: FutureWarning: The frame.append method is deprecated and will be removed from pandas in a future version. Use pandas.concat instead.\n",
      "  outputs=outputs.append(output,sort=False)\n"
     ]
    },
    {
     "name": "stdout",
     "output_type": "stream",
     "text": [
      "1/1 [==============================] - 0s 26ms/step\n",
      "1/1 [==============================] - 0s 22ms/step\n",
      "1/1 [==============================] - 0s 24ms/step\n",
      "1/1 [==============================] - 0s 23ms/step\n"
     ]
    },
    {
     "name": "stderr",
     "output_type": "stream",
     "text": [
      "/var/tmp/rojasolvera/ipykernel_485947/3486713291.py:6: FutureWarning: The frame.append method is deprecated and will be removed from pandas in a future version. Use pandas.concat instead.\n",
      "  outputs=outputs.append(output,sort=False)\n",
      "/var/tmp/rojasolvera/ipykernel_485947/3486713291.py:6: FutureWarning: The frame.append method is deprecated and will be removed from pandas in a future version. Use pandas.concat instead.\n",
      "  outputs=outputs.append(output,sort=False)\n",
      "/var/tmp/rojasolvera/ipykernel_485947/3486713291.py:6: FutureWarning: The frame.append method is deprecated and will be removed from pandas in a future version. Use pandas.concat instead.\n",
      "  outputs=outputs.append(output,sort=False)\n"
     ]
    },
    {
     "name": "stdout",
     "output_type": "stream",
     "text": [
      "1/1 [==============================] - 0s 24ms/step\n",
      "1/1 [==============================] - 0s 21ms/step\n",
      "1/1 [==============================] - 0s 22ms/step\n"
     ]
    },
    {
     "name": "stderr",
     "output_type": "stream",
     "text": [
      "/var/tmp/rojasolvera/ipykernel_485947/3486713291.py:6: FutureWarning: The frame.append method is deprecated and will be removed from pandas in a future version. Use pandas.concat instead.\n",
      "  outputs=outputs.append(output,sort=False)\n",
      "/var/tmp/rojasolvera/ipykernel_485947/3486713291.py:6: FutureWarning: The frame.append method is deprecated and will be removed from pandas in a future version. Use pandas.concat instead.\n",
      "  outputs=outputs.append(output,sort=False)\n",
      "/var/tmp/rojasolvera/ipykernel_485947/3486713291.py:6: FutureWarning: The frame.append method is deprecated and will be removed from pandas in a future version. Use pandas.concat instead.\n",
      "  outputs=outputs.append(output,sort=False)\n",
      "/var/tmp/rojasolvera/ipykernel_485947/3486713291.py:6: FutureWarning: The frame.append method is deprecated and will be removed from pandas in a future version. Use pandas.concat instead.\n",
      "  outputs=outputs.append(output,sort=False)\n"
     ]
    },
    {
     "name": "stdout",
     "output_type": "stream",
     "text": [
      "1/1 [==============================] - 0s 23ms/step\n",
      "1/1 [==============================] - 0s 24ms/step\n",
      "1/1 [==============================] - 0s 26ms/step\n",
      "1/1 [==============================] - 0s 25ms/step\n"
     ]
    },
    {
     "name": "stderr",
     "output_type": "stream",
     "text": [
      "/var/tmp/rojasolvera/ipykernel_485947/3486713291.py:6: FutureWarning: The frame.append method is deprecated and will be removed from pandas in a future version. Use pandas.concat instead.\n",
      "  outputs=outputs.append(output,sort=False)\n",
      "/var/tmp/rojasolvera/ipykernel_485947/3486713291.py:6: FutureWarning: The frame.append method is deprecated and will be removed from pandas in a future version. Use pandas.concat instead.\n",
      "  outputs=outputs.append(output,sort=False)\n",
      "/var/tmp/rojasolvera/ipykernel_485947/3486713291.py:6: FutureWarning: The frame.append method is deprecated and will be removed from pandas in a future version. Use pandas.concat instead.\n",
      "  outputs=outputs.append(output,sort=False)\n"
     ]
    },
    {
     "name": "stdout",
     "output_type": "stream",
     "text": [
      "1/1 [==============================] - 0s 23ms/step\n",
      "1/1 [==============================] - 0s 22ms/step\n",
      "1/1 [==============================] - 0s 24ms/step\n"
     ]
    },
    {
     "name": "stderr",
     "output_type": "stream",
     "text": [
      "/var/tmp/rojasolvera/ipykernel_485947/3486713291.py:6: FutureWarning: The frame.append method is deprecated and will be removed from pandas in a future version. Use pandas.concat instead.\n",
      "  outputs=outputs.append(output,sort=False)\n",
      "/var/tmp/rojasolvera/ipykernel_485947/3486713291.py:6: FutureWarning: The frame.append method is deprecated and will be removed from pandas in a future version. Use pandas.concat instead.\n",
      "  outputs=outputs.append(output,sort=False)\n",
      "/var/tmp/rojasolvera/ipykernel_485947/3486713291.py:6: FutureWarning: The frame.append method is deprecated and will be removed from pandas in a future version. Use pandas.concat instead.\n",
      "  outputs=outputs.append(output,sort=False)\n",
      "/var/tmp/rojasolvera/ipykernel_485947/3486713291.py:6: FutureWarning: The frame.append method is deprecated and will be removed from pandas in a future version. Use pandas.concat instead.\n",
      "  outputs=outputs.append(output,sort=False)\n"
     ]
    },
    {
     "name": "stdout",
     "output_type": "stream",
     "text": [
      "1/1 [==============================] - 0s 23ms/step\n",
      "1/1 [==============================] - 0s 24ms/step\n",
      "1/1 [==============================] - 0s 22ms/step\n",
      "1/1 [==============================] - 0s 22ms/step\n"
     ]
    },
    {
     "name": "stderr",
     "output_type": "stream",
     "text": [
      "/var/tmp/rojasolvera/ipykernel_485947/3486713291.py:6: FutureWarning: The frame.append method is deprecated and will be removed from pandas in a future version. Use pandas.concat instead.\n",
      "  outputs=outputs.append(output,sort=False)\n",
      "/var/tmp/rojasolvera/ipykernel_485947/3486713291.py:6: FutureWarning: The frame.append method is deprecated and will be removed from pandas in a future version. Use pandas.concat instead.\n",
      "  outputs=outputs.append(output,sort=False)\n",
      "/var/tmp/rojasolvera/ipykernel_485947/3486713291.py:6: FutureWarning: The frame.append method is deprecated and will be removed from pandas in a future version. Use pandas.concat instead.\n",
      "  outputs=outputs.append(output,sort=False)\n",
      "/var/tmp/rojasolvera/ipykernel_485947/3486713291.py:6: FutureWarning: The frame.append method is deprecated and will be removed from pandas in a future version. Use pandas.concat instead.\n",
      "  outputs=outputs.append(output,sort=False)\n"
     ]
    },
    {
     "name": "stdout",
     "output_type": "stream",
     "text": [
      "1/1 [==============================] - 0s 22ms/step\n",
      "1/1 [==============================] - 0s 23ms/step\n",
      "1/1 [==============================] - 0s 22ms/step\n",
      "1/1 [==============================] - 0s 21ms/step\n"
     ]
    },
    {
     "name": "stderr",
     "output_type": "stream",
     "text": [
      "/var/tmp/rojasolvera/ipykernel_485947/3486713291.py:6: FutureWarning: The frame.append method is deprecated and will be removed from pandas in a future version. Use pandas.concat instead.\n",
      "  outputs=outputs.append(output,sort=False)\n",
      "/var/tmp/rojasolvera/ipykernel_485947/3486713291.py:6: FutureWarning: The frame.append method is deprecated and will be removed from pandas in a future version. Use pandas.concat instead.\n",
      "  outputs=outputs.append(output,sort=False)\n",
      "/var/tmp/rojasolvera/ipykernel_485947/3486713291.py:6: FutureWarning: The frame.append method is deprecated and will be removed from pandas in a future version. Use pandas.concat instead.\n",
      "  outputs=outputs.append(output,sort=False)\n",
      "/var/tmp/rojasolvera/ipykernel_485947/3486713291.py:6: FutureWarning: The frame.append method is deprecated and will be removed from pandas in a future version. Use pandas.concat instead.\n",
      "  outputs=outputs.append(output,sort=False)\n"
     ]
    },
    {
     "name": "stdout",
     "output_type": "stream",
     "text": [
      "1/1 [==============================] - 0s 22ms/step\n",
      "1/1 [==============================] - 0s 22ms/step\n",
      "1/1 [==============================] - 0s 23ms/step\n",
      "1/1 [==============================] - 0s 24ms/step\n"
     ]
    },
    {
     "name": "stderr",
     "output_type": "stream",
     "text": [
      "/var/tmp/rojasolvera/ipykernel_485947/3486713291.py:6: FutureWarning: The frame.append method is deprecated and will be removed from pandas in a future version. Use pandas.concat instead.\n",
      "  outputs=outputs.append(output,sort=False)\n",
      "/var/tmp/rojasolvera/ipykernel_485947/3486713291.py:6: FutureWarning: The frame.append method is deprecated and will be removed from pandas in a future version. Use pandas.concat instead.\n",
      "  outputs=outputs.append(output,sort=False)\n",
      "/var/tmp/rojasolvera/ipykernel_485947/3486713291.py:6: FutureWarning: The frame.append method is deprecated and will be removed from pandas in a future version. Use pandas.concat instead.\n",
      "  outputs=outputs.append(output,sort=False)\n",
      "/var/tmp/rojasolvera/ipykernel_485947/3486713291.py:6: FutureWarning: The frame.append method is deprecated and will be removed from pandas in a future version. Use pandas.concat instead.\n",
      "  outputs=outputs.append(output,sort=False)\n"
     ]
    },
    {
     "name": "stdout",
     "output_type": "stream",
     "text": [
      "1/1 [==============================] - 0s 23ms/step\n",
      "1/1 [==============================] - 0s 21ms/step\n",
      "1/1 [==============================] - 0s 22ms/step\n",
      "1/1 [==============================] - 0s 23ms/step\n"
     ]
    },
    {
     "name": "stderr",
     "output_type": "stream",
     "text": [
      "/var/tmp/rojasolvera/ipykernel_485947/3486713291.py:6: FutureWarning: The frame.append method is deprecated and will be removed from pandas in a future version. Use pandas.concat instead.\n",
      "  outputs=outputs.append(output,sort=False)\n",
      "/var/tmp/rojasolvera/ipykernel_485947/3486713291.py:6: FutureWarning: The frame.append method is deprecated and will be removed from pandas in a future version. Use pandas.concat instead.\n",
      "  outputs=outputs.append(output,sort=False)\n",
      "/var/tmp/rojasolvera/ipykernel_485947/3486713291.py:6: FutureWarning: The frame.append method is deprecated and will be removed from pandas in a future version. Use pandas.concat instead.\n",
      "  outputs=outputs.append(output,sort=False)\n",
      "/var/tmp/rojasolvera/ipykernel_485947/3486713291.py:6: FutureWarning: The frame.append method is deprecated and will be removed from pandas in a future version. Use pandas.concat instead.\n",
      "  outputs=outputs.append(output,sort=False)\n"
     ]
    },
    {
     "name": "stdout",
     "output_type": "stream",
     "text": [
      "1/1 [==============================] - 0s 23ms/step\n",
      "1/1 [==============================] - 0s 23ms/step\n",
      "1/1 [==============================] - 0s 21ms/step\n",
      "1/1 [==============================] - 0s 22ms/step\n"
     ]
    },
    {
     "name": "stderr",
     "output_type": "stream",
     "text": [
      "/var/tmp/rojasolvera/ipykernel_485947/3486713291.py:6: FutureWarning: The frame.append method is deprecated and will be removed from pandas in a future version. Use pandas.concat instead.\n",
      "  outputs=outputs.append(output,sort=False)\n",
      "/var/tmp/rojasolvera/ipykernel_485947/3486713291.py:6: FutureWarning: The frame.append method is deprecated and will be removed from pandas in a future version. Use pandas.concat instead.\n",
      "  outputs=outputs.append(output,sort=False)\n",
      "/var/tmp/rojasolvera/ipykernel_485947/3486713291.py:6: FutureWarning: The frame.append method is deprecated and will be removed from pandas in a future version. Use pandas.concat instead.\n",
      "  outputs=outputs.append(output,sort=False)\n",
      "/var/tmp/rojasolvera/ipykernel_485947/3486713291.py:6: FutureWarning: The frame.append method is deprecated and will be removed from pandas in a future version. Use pandas.concat instead.\n",
      "  outputs=outputs.append(output,sort=False)\n"
     ]
    },
    {
     "name": "stdout",
     "output_type": "stream",
     "text": [
      "1/1 [==============================] - 0s 22ms/step\n",
      "1/1 [==============================] - 0s 23ms/step\n",
      "1/1 [==============================] - 0s 23ms/step\n",
      "1/1 [==============================] - 0s 23ms/step\n"
     ]
    },
    {
     "name": "stderr",
     "output_type": "stream",
     "text": [
      "/var/tmp/rojasolvera/ipykernel_485947/3486713291.py:6: FutureWarning: The frame.append method is deprecated and will be removed from pandas in a future version. Use pandas.concat instead.\n",
      "  outputs=outputs.append(output,sort=False)\n",
      "/var/tmp/rojasolvera/ipykernel_485947/3486713291.py:6: FutureWarning: The frame.append method is deprecated and will be removed from pandas in a future version. Use pandas.concat instead.\n",
      "  outputs=outputs.append(output,sort=False)\n",
      "/var/tmp/rojasolvera/ipykernel_485947/3486713291.py:6: FutureWarning: The frame.append method is deprecated and will be removed from pandas in a future version. Use pandas.concat instead.\n",
      "  outputs=outputs.append(output,sort=False)\n"
     ]
    },
    {
     "name": "stdout",
     "output_type": "stream",
     "text": [
      "1/1 [==============================] - 0s 21ms/step\n",
      "1/1 [==============================] - 0s 22ms/step\n",
      "1/1 [==============================] - 0s 23ms/step\n"
     ]
    },
    {
     "name": "stderr",
     "output_type": "stream",
     "text": [
      "/var/tmp/rojasolvera/ipykernel_485947/3486713291.py:6: FutureWarning: The frame.append method is deprecated and will be removed from pandas in a future version. Use pandas.concat instead.\n",
      "  outputs=outputs.append(output,sort=False)\n",
      "/var/tmp/rojasolvera/ipykernel_485947/3486713291.py:6: FutureWarning: The frame.append method is deprecated and will be removed from pandas in a future version. Use pandas.concat instead.\n",
      "  outputs=outputs.append(output,sort=False)\n",
      "/var/tmp/rojasolvera/ipykernel_485947/3486713291.py:6: FutureWarning: The frame.append method is deprecated and will be removed from pandas in a future version. Use pandas.concat instead.\n",
      "  outputs=outputs.append(output,sort=False)\n",
      "/var/tmp/rojasolvera/ipykernel_485947/3486713291.py:6: FutureWarning: The frame.append method is deprecated and will be removed from pandas in a future version. Use pandas.concat instead.\n",
      "  outputs=outputs.append(output,sort=False)\n"
     ]
    },
    {
     "name": "stdout",
     "output_type": "stream",
     "text": [
      "1/1 [==============================] - 0s 23ms/step\n",
      "1/1 [==============================] - 0s 23ms/step\n",
      "1/1 [==============================] - 0s 22ms/step\n",
      "1/1 [==============================] - 0s 24ms/step\n"
     ]
    },
    {
     "name": "stderr",
     "output_type": "stream",
     "text": [
      "/var/tmp/rojasolvera/ipykernel_485947/3486713291.py:6: FutureWarning: The frame.append method is deprecated and will be removed from pandas in a future version. Use pandas.concat instead.\n",
      "  outputs=outputs.append(output,sort=False)\n",
      "/var/tmp/rojasolvera/ipykernel_485947/3486713291.py:6: FutureWarning: The frame.append method is deprecated and will be removed from pandas in a future version. Use pandas.concat instead.\n",
      "  outputs=outputs.append(output,sort=False)\n",
      "/var/tmp/rojasolvera/ipykernel_485947/3486713291.py:6: FutureWarning: The frame.append method is deprecated and will be removed from pandas in a future version. Use pandas.concat instead.\n",
      "  outputs=outputs.append(output,sort=False)\n"
     ]
    },
    {
     "name": "stdout",
     "output_type": "stream",
     "text": [
      "1/1 [==============================] - 0s 22ms/step\n",
      "1/1 [==============================] - 0s 27ms/step\n",
      "1/1 [==============================] - ETA: 0s"
     ]
    },
    {
     "name": "stderr",
     "output_type": "stream",
     "text": [
      "/var/tmp/rojasolvera/ipykernel_485947/3486713291.py:6: FutureWarning: The frame.append method is deprecated and will be removed from pandas in a future version. Use pandas.concat instead.\n",
      "  outputs=outputs.append(output,sort=False)\n",
      "/var/tmp/rojasolvera/ipykernel_485947/3486713291.py:6: FutureWarning: The frame.append method is deprecated and will be removed from pandas in a future version. Use pandas.concat instead.\n",
      "  outputs=outputs.append(output,sort=False)\n",
      "/var/tmp/rojasolvera/ipykernel_485947/3486713291.py:6: FutureWarning: The frame.append method is deprecated and will be removed from pandas in a future version. Use pandas.concat instead.\n",
      "  outputs=outputs.append(output,sort=False)\n"
     ]
    },
    {
     "name": "stdout",
     "output_type": "stream",
     "text": [
      "1/1 [==============================] - 0s 23ms/step\n",
      "1/1 [==============================] - 0s 22ms/step\n",
      "1/1 [==============================] - 0s 22ms/step\n",
      "1/1 [==============================] - 0s 23ms/step\n"
     ]
    },
    {
     "name": "stderr",
     "output_type": "stream",
     "text": [
      "/var/tmp/rojasolvera/ipykernel_485947/3486713291.py:6: FutureWarning: The frame.append method is deprecated and will be removed from pandas in a future version. Use pandas.concat instead.\n",
      "  outputs=outputs.append(output,sort=False)\n",
      "/var/tmp/rojasolvera/ipykernel_485947/3486713291.py:6: FutureWarning: The frame.append method is deprecated and will be removed from pandas in a future version. Use pandas.concat instead.\n",
      "  outputs=outputs.append(output,sort=False)\n",
      "/var/tmp/rojasolvera/ipykernel_485947/3486713291.py:6: FutureWarning: The frame.append method is deprecated and will be removed from pandas in a future version. Use pandas.concat instead.\n",
      "  outputs=outputs.append(output,sort=False)\n",
      "/var/tmp/rojasolvera/ipykernel_485947/3486713291.py:6: FutureWarning: The frame.append method is deprecated and will be removed from pandas in a future version. Use pandas.concat instead.\n",
      "  outputs=outputs.append(output,sort=False)\n"
     ]
    },
    {
     "name": "stdout",
     "output_type": "stream",
     "text": [
      "1/1 [==============================] - 0s 23ms/step\n",
      "1/1 [==============================] - 0s 24ms/step\n",
      "1/1 [==============================] - 0s 22ms/step\n",
      "1/1 [==============================] - 0s 22ms/step\n"
     ]
    },
    {
     "name": "stderr",
     "output_type": "stream",
     "text": [
      "/var/tmp/rojasolvera/ipykernel_485947/3486713291.py:6: FutureWarning: The frame.append method is deprecated and will be removed from pandas in a future version. Use pandas.concat instead.\n",
      "  outputs=outputs.append(output,sort=False)\n",
      "/var/tmp/rojasolvera/ipykernel_485947/3486713291.py:6: FutureWarning: The frame.append method is deprecated and will be removed from pandas in a future version. Use pandas.concat instead.\n",
      "  outputs=outputs.append(output,sort=False)\n",
      "/var/tmp/rojasolvera/ipykernel_485947/3486713291.py:6: FutureWarning: The frame.append method is deprecated and will be removed from pandas in a future version. Use pandas.concat instead.\n",
      "  outputs=outputs.append(output,sort=False)\n",
      "/var/tmp/rojasolvera/ipykernel_485947/3486713291.py:6: FutureWarning: The frame.append method is deprecated and will be removed from pandas in a future version. Use pandas.concat instead.\n",
      "  outputs=outputs.append(output,sort=False)\n"
     ]
    },
    {
     "name": "stdout",
     "output_type": "stream",
     "text": [
      "1/1 [==============================] - 0s 23ms/step\n",
      "1/1 [==============================] - 0s 22ms/step\n",
      "1/1 [==============================] - 0s 23ms/step\n",
      "1/1 [==============================] - 0s 24ms/step\n"
     ]
    },
    {
     "name": "stderr",
     "output_type": "stream",
     "text": [
      "/var/tmp/rojasolvera/ipykernel_485947/3486713291.py:6: FutureWarning: The frame.append method is deprecated and will be removed from pandas in a future version. Use pandas.concat instead.\n",
      "  outputs=outputs.append(output,sort=False)\n",
      "/var/tmp/rojasolvera/ipykernel_485947/3486713291.py:6: FutureWarning: The frame.append method is deprecated and will be removed from pandas in a future version. Use pandas.concat instead.\n",
      "  outputs=outputs.append(output,sort=False)\n",
      "/var/tmp/rojasolvera/ipykernel_485947/3486713291.py:6: FutureWarning: The frame.append method is deprecated and will be removed from pandas in a future version. Use pandas.concat instead.\n",
      "  outputs=outputs.append(output,sort=False)\n",
      "/var/tmp/rojasolvera/ipykernel_485947/3486713291.py:6: FutureWarning: The frame.append method is deprecated and will be removed from pandas in a future version. Use pandas.concat instead.\n",
      "  outputs=outputs.append(output,sort=False)\n"
     ]
    },
    {
     "name": "stdout",
     "output_type": "stream",
     "text": [
      "1/1 [==============================] - 0s 24ms/step\n",
      "1/1 [==============================] - 0s 21ms/step\n",
      "1/1 [==============================] - 0s 22ms/step\n",
      "1/1 [==============================] - 0s 23ms/step\n"
     ]
    },
    {
     "name": "stderr",
     "output_type": "stream",
     "text": [
      "/var/tmp/rojasolvera/ipykernel_485947/3486713291.py:6: FutureWarning: The frame.append method is deprecated and will be removed from pandas in a future version. Use pandas.concat instead.\n",
      "  outputs=outputs.append(output,sort=False)\n",
      "/var/tmp/rojasolvera/ipykernel_485947/3486713291.py:6: FutureWarning: The frame.append method is deprecated and will be removed from pandas in a future version. Use pandas.concat instead.\n",
      "  outputs=outputs.append(output,sort=False)\n",
      "/var/tmp/rojasolvera/ipykernel_485947/3486713291.py:6: FutureWarning: The frame.append method is deprecated and will be removed from pandas in a future version. Use pandas.concat instead.\n",
      "  outputs=outputs.append(output,sort=False)\n",
      "/var/tmp/rojasolvera/ipykernel_485947/3486713291.py:6: FutureWarning: The frame.append method is deprecated and will be removed from pandas in a future version. Use pandas.concat instead.\n",
      "  outputs=outputs.append(output,sort=False)\n"
     ]
    },
    {
     "name": "stdout",
     "output_type": "stream",
     "text": [
      "1/1 [==============================] - 0s 22ms/step\n",
      "1/1 [==============================] - 0s 24ms/step\n",
      "1/1 [==============================] - 0s 23ms/step\n"
     ]
    },
    {
     "name": "stderr",
     "output_type": "stream",
     "text": [
      "/var/tmp/rojasolvera/ipykernel_485947/3486713291.py:6: FutureWarning: The frame.append method is deprecated and will be removed from pandas in a future version. Use pandas.concat instead.\n",
      "  outputs=outputs.append(output,sort=False)\n",
      "/var/tmp/rojasolvera/ipykernel_485947/3486713291.py:6: FutureWarning: The frame.append method is deprecated and will be removed from pandas in a future version. Use pandas.concat instead.\n",
      "  outputs=outputs.append(output,sort=False)\n",
      "/var/tmp/rojasolvera/ipykernel_485947/3486713291.py:6: FutureWarning: The frame.append method is deprecated and will be removed from pandas in a future version. Use pandas.concat instead.\n",
      "  outputs=outputs.append(output,sort=False)\n"
     ]
    }
   ],
   "source": [
    "#now here we loop over the number of timesteps to reach the end of the example model\n",
    "steps_til_end=int((1e6-start_time)/1000.0)-1\n",
    "outputs=pd.DataFrame()\n",
    "for step in range(steps_til_end):\n",
    "    output=emulator.predict_multiple_timesteps(model_df,1)\n",
    "    outputs=outputs.append(output,sort=False)\n",
    "    model_df[\"gas_temp\"]=output[\"gas_temp\"]\n",
    "    model_df[emulator.chem_labels]=output[emulator.chem_labels]"
   ]
  },
  {
   "cell_type": "markdown",
   "metadata": {},
   "source": [
    "Note we could have used emulator.predict_multiple_timesteps(model_df,1000) if we wanted to skip to 1 Myr in one go.\n",
    "\n",
    "Below we return to unscaled variables and real chemistry before plotting against the real data to see how the emulator holds up."
   ]
  },
  {
   "cell_type": "code",
   "execution_count": 24,
   "metadata": {},
   "outputs": [
    {
     "name": "stdout",
     "output_type": "stream",
     "text": [
      "32/32 [==============================] - 0s 965us/step\n"
     ]
    }
   ],
   "source": [
    "#get unscaled predictions\n",
    "predicted=emulator.recover_real_values(outputs)\n",
    "\n",
    "#grab the real data to compare\n",
    "models=input_data.loc[i:i+998]"
   ]
  },
  {
   "cell_type": "code",
   "execution_count": 25,
   "metadata": {},
   "outputs": [
    {
     "data": {
      "text/plain": [
       "4002"
      ]
     },
     "execution_count": 25,
     "metadata": {},
     "output_type": "execute_result"
    }
   ],
   "source": [
    "i"
   ]
  },
  {
   "cell_type": "code",
   "execution_count": 26,
   "metadata": {
    "scrolled": true
   },
   "outputs": [
    {
     "data": {
      "image/png": "[encoded data removed]",
      "text/plain": [
       "<Figure size 1152x648 with 11 Axes>"
      ]
     },
     "metadata": {
      "needs_background": "light"
     },
     "output_type": "display_data"
    }
   ],
   "source": [
    "plot_specs=[\"gas_temp\",\"dust_temp\",\"H\",\"H+\",\"H2\",\"C\",\"C+\",\"CO\",\"O\",\"O+\",\"H2O\"]\n",
    "fig,axes=plt.subplots(3,4,tight_layout=True,figsize=(16,9))\n",
    "times=[start_time+(1000*i+1) for i in range(steps_til_end)]\n",
    "axes=axes.flatten()\n",
    "for i,ax in enumerate(axes[:-1]):\n",
    "    ax.plot(models[\"Time\"],models[plot_specs[i]],label=\"UCLCHEM\")\n",
    "    ax.plot(times,predicted[plot_specs[i]],label=\"CHEMulator\")\n",
    "    ax.set(xscale=\"log\",yscale=\"log\",xlabel=\"Time\",ylabel=plot_specs[i])\n",
    "    if i >1:\n",
    "        ax.set(ylim=(1e-12,1))\n",
    "axes[0].legend()\n",
    "axes[-1].remove()"
   ]
  },
  {
   "cell_type": "code",
   "execution_count": 13,
   "metadata": {},
   "outputs": [
    {
     "data": {
      "text/plain": [
       "[1001,\n",
       " 2001,\n",
       " 3001,\n",
       " 4001,\n",
       " 5001,\n",
       " 6001,\n",
       " 7001,\n",
       " 8001,\n",
       " 9001,\n",
       " 10001,\n",
       " 11001,\n",
       " 12001,\n",
       " 13001,\n",
       " 14001,\n",
       " 15001,\n",
       " 16001,\n",
       " 17001,\n",
       " 18001,\n",
       " 19001,\n",
       " 20001,\n",
       " 21001,\n",
       " 22001,\n",
       " 23001,\n",
       " 24001,\n",
       " 25001,\n",
       " 26001,\n",
       " 27001,\n",
       " 28001,\n",
       " 29001,\n",
       " 30001,\n",
       " 31001,\n",
       " 32001,\n",
       " 33001,\n",
       " 34001,\n",
       " 35001,\n",
       " 36001,\n",
       " 37001,\n",
       " 38001,\n",
       " 39001,\n",
       " 40001,\n",
       " 41001,\n",
       " 42001,\n",
       " 43001,\n",
       " 44001,\n",
       " 45001,\n",
       " 46001,\n",
       " 47001,\n",
       " 48001,\n",
       " 49001,\n",
       " 50001,\n",
       " 51001,\n",
       " 52001,\n",
       " 53001,\n",
       " 54001,\n",
       " 55001,\n",
       " 56001,\n",
       " 57001,\n",
       " 58001,\n",
       " 59001,\n",
       " 60001,\n",
       " 61001,\n",
       " 62001,\n",
       " 63001,\n",
       " 64001,\n",
       " 65001,\n",
       " 66001,\n",
       " 67001,\n",
       " 68001,\n",
       " 69001,\n",
       " 70001,\n",
       " 71001,\n",
       " 72001,\n",
       " 73001,\n",
       " 74001,\n",
       " 75001,\n",
       " 76001,\n",
       " 77001,\n",
       " 78001,\n",
       " 79001,\n",
       " 80001,\n",
       " 81001,\n",
       " 82001,\n",
       " 83001,\n",
       " 84001,\n",
       " 85001,\n",
       " 86001,\n",
       " 87001,\n",
       " 88001,\n",
       " 89001,\n",
       " 90001,\n",
       " 91001,\n",
       " 92001,\n",
       " 93001,\n",
       " 94001,\n",
       " 95001,\n",
       " 96001,\n",
       " 97001,\n",
       " 98001,\n",
       " 99001,\n",
       " 100001,\n",
       " 101001,\n",
       " 102001,\n",
       " 103001,\n",
       " 104001,\n",
       " 105001,\n",
       " 106001,\n",
       " 107001,\n",
       " 108001,\n",
       " 109001,\n",
       " 110001,\n",
       " 111001,\n",
       " 112001,\n",
       " 113001,\n",
       " 114001,\n",
       " 115001,\n",
       " 116001,\n",
       " 117001,\n",
       " 118001,\n",
       " 119001,\n",
       " 120001,\n",
       " 121001,\n",
       " 122001,\n",
       " 123001,\n",
       " 124001,\n",
       " 125001,\n",
       " 126001,\n",
       " 127001,\n",
       " 128001,\n",
       " 129001,\n",
       " 130001,\n",
       " 131001,\n",
       " 132001,\n",
       " 133001,\n",
       " 134001,\n",
       " 135001,\n",
       " 136001,\n",
       " 137001,\n",
       " 138001,\n",
       " 139001,\n",
       " 140001,\n",
       " 141001,\n",
       " 142001,\n",
       " 143001,\n",
       " 144001,\n",
       " 145001,\n",
       " 146001,\n",
       " 147001,\n",
       " 148001,\n",
       " 149001,\n",
       " 150001,\n",
       " 151001,\n",
       " 152001,\n",
       " 153001,\n",
       " 154001,\n",
       " 155001,\n",
       " 156001,\n",
       " 157001,\n",
       " 158001,\n",
       " 159001,\n",
       " 160001,\n",
       " 161001,\n",
       " 162001,\n",
       " 163001,\n",
       " 164001,\n",
       " 165001,\n",
       " 166001,\n",
       " 167001,\n",
       " 168001,\n",
       " 169001,\n",
       " 170001,\n",
       " 171001,\n",
       " 172001,\n",
       " 173001,\n",
       " 174001,\n",
       " 175001,\n",
       " 176001,\n",
       " 177001,\n",
       " 178001,\n",
       " 179001,\n",
       " 180001,\n",
       " 181001,\n",
       " 182001,\n",
       " 183001,\n",
       " 184001,\n",
       " 185001,\n",
       " 186001,\n",
       " 187001,\n",
       " 188001,\n",
       " 189001,\n",
       " 190001,\n",
       " 191001,\n",
       " 192001,\n",
       " 193001,\n",
       " 194001,\n",
       " 195001,\n",
       " 196001,\n",
       " 197001,\n",
       " 198001,\n",
       " 199001,\n",
       " 200001,\n",
       " 201001,\n",
       " 202001,\n",
       " 203001,\n",
       " 204001,\n",
       " 205001,\n",
       " 206001,\n",
       " 207001,\n",
       " 208001,\n",
       " 209001,\n",
       " 210001,\n",
       " 211001,\n",
       " 212001,\n",
       " 213001,\n",
       " 214001,\n",
       " 215001,\n",
       " 216001,\n",
       " 217001,\n",
       " 218001,\n",
       " 219001,\n",
       " 220001,\n",
       " 221001,\n",
       " 222001,\n",
       " 223001,\n",
       " 224001,\n",
       " 225001,\n",
       " 226001,\n",
       " 227001,\n",
       " 228001,\n",
       " 229001,\n",
       " 230001,\n",
       " 231001,\n",
       " 232001,\n",
       " 233001,\n",
       " 234001,\n",
       " 235001,\n",
       " 236001,\n",
       " 237001,\n",
       " 238001,\n",
       " 239001,\n",
       " 240001,\n",
       " 241001,\n",
       " 242001,\n",
       " 243001,\n",
       " 244001,\n",
       " 245001,\n",
       " 246001,\n",
       " 247001,\n",
       " 248001,\n",
       " 249001,\n",
       " 250001,\n",
       " 251001,\n",
       " 252001,\n",
       " 253001,\n",
       " 254001,\n",
       " 255001,\n",
       " 256001,\n",
       " 257001,\n",
       " 258001,\n",
       " 259001,\n",
       " 260001,\n",
       " 261001,\n",
       " 262001,\n",
       " 263001,\n",
       " 264001,\n",
       " 265001,\n",
       " 266001,\n",
       " 267001,\n",
       " 268001,\n",
       " 269001,\n",
       " 270001,\n",
       " 271001,\n",
       " 272001,\n",
       " 273001,\n",
       " 274001,\n",
       " 275001,\n",
       " 276001,\n",
       " 277001,\n",
       " 278001,\n",
       " 279001,\n",
       " 280001,\n",
       " 281001,\n",
       " 282001,\n",
       " 283001,\n",
       " 284001,\n",
       " 285001,\n",
       " 286001,\n",
       " 287001,\n",
       " 288001,\n",
       " 289001,\n",
       " 290001,\n",
       " 291001,\n",
       " 292001,\n",
       " 293001,\n",
       " 294001,\n",
       " 295001,\n",
       " 296001,\n",
       " 297001,\n",
       " 298001,\n",
       " 299001,\n",
       " 300001,\n",
       " 301001,\n",
       " 302001,\n",
       " 303001,\n",
       " 304001,\n",
       " 305001,\n",
       " 306001,\n",
       " 307001,\n",
       " 308001,\n",
       " 309001,\n",
       " 310001,\n",
       " 311001,\n",
       " 312001,\n",
       " 313001,\n",
       " 314001,\n",
       " 315001,\n",
       " 316001,\n",
       " 317001,\n",
       " 318001,\n",
       " 319001,\n",
       " 320001,\n",
       " 321001,\n",
       " 322001,\n",
       " 323001,\n",
       " 324001,\n",
       " 325001,\n",
       " 326001,\n",
       " 327001,\n",
       " 328001,\n",
       " 329001,\n",
       " 330001,\n",
       " 331001,\n",
       " 332001,\n",
       " 333001,\n",
       " 334001,\n",
       " 335001,\n",
       " 336001,\n",
       " 337001,\n",
       " 338001,\n",
       " 339001,\n",
       " 340001,\n",
       " 341001,\n",
       " 342001,\n",
       " 343001,\n",
       " 344001,\n",
       " 345001,\n",
       " 346001,\n",
       " 347001,\n",
       " 348001,\n",
       " 349001,\n",
       " 350001,\n",
       " 351001,\n",
       " 352001,\n",
       " 353001,\n",
       " 354001,\n",
       " 355001,\n",
       " 356001,\n",
       " 357001,\n",
       " 358001,\n",
       " 359001,\n",
       " 360001,\n",
       " 361001,\n",
       " 362001,\n",
       " 363001,\n",
       " 364001,\n",
       " 365001,\n",
       " 366001,\n",
       " 367001,\n",
       " 368001,\n",
       " 369001,\n",
       " 370001,\n",
       " 371001,\n",
       " 372001,\n",
       " 373001,\n",
       " 374001,\n",
       " 375001,\n",
       " 376001,\n",
       " 377001,\n",
       " 378001,\n",
       " 379001,\n",
       " 380001,\n",
       " 381001,\n",
       " 382001,\n",
       " 383001,\n",
       " 384001,\n",
       " 385001,\n",
       " 386001,\n",
       " 387001,\n",
       " 388001,\n",
       " 389001,\n",
       " 390001,\n",
       " 391001,\n",
       " 392001,\n",
       " 393001,\n",
       " 394001,\n",
       " 395001,\n",
       " 396001,\n",
       " 397001,\n",
       " 398001,\n",
       " 399001,\n",
       " 400001,\n",
       " 401001,\n",
       " 402001,\n",
       " 403001,\n",
       " 404001,\n",
       " 405001,\n",
       " 406001,\n",
       " 407001,\n",
       " 408001,\n",
       " 409001,\n",
       " 410001,\n",
       " 411001,\n",
       " 412001,\n",
       " 413001,\n",
       " 414001,\n",
       " 415001,\n",
       " 416001,\n",
       " 417001,\n",
       " 418001,\n",
       " 419001,\n",
       " 420001,\n",
       " 421001,\n",
       " 422001,\n",
       " 423001,\n",
       " 424001,\n",
       " 425001,\n",
       " 426001,\n",
       " 427001,\n",
       " 428001,\n",
       " 429001,\n",
       " 430001,\n",
       " 431001,\n",
       " 432001,\n",
       " 433001,\n",
       " 434001,\n",
       " 435001,\n",
       " 436001,\n",
       " 437001,\n",
       " 438001,\n",
       " 439001,\n",
       " 440001,\n",
       " 441001,\n",
       " 442001,\n",
       " 443001,\n",
       " 444001,\n",
       " 445001,\n",
       " 446001,\n",
       " 447001,\n",
       " 448001,\n",
       " 449001,\n",
       " 450001,\n",
       " 451001,\n",
       " 452001,\n",
       " 453001,\n",
       " 454001,\n",
       " 455001,\n",
       " 456001,\n",
       " 457001,\n",
       " 458001,\n",
       " 459001,\n",
       " 460001,\n",
       " 461001,\n",
       " 462001,\n",
       " 463001,\n",
       " 464001,\n",
       " 465001,\n",
       " 466001,\n",
       " 467001,\n",
       " 468001,\n",
       " 469001,\n",
       " 470001,\n",
       " 471001,\n",
       " 472001,\n",
       " 473001,\n",
       " 474001,\n",
       " 475001,\n",
       " 476001,\n",
       " 477001,\n",
       " 478001,\n",
       " 479001,\n",
       " 480001,\n",
       " 481001,\n",
       " 482001,\n",
       " 483001,\n",
       " 484001,\n",
       " 485001,\n",
       " 486001,\n",
       " 487001,\n",
       " 488001,\n",
       " 489001,\n",
       " 490001,\n",
       " 491001,\n",
       " 492001,\n",
       " 493001,\n",
       " 494001,\n",
       " 495001,\n",
       " 496001,\n",
       " 497001,\n",
       " 498001,\n",
       " 499001,\n",
       " 500001,\n",
       " 501001,\n",
       " 502001,\n",
       " 503001,\n",
       " 504001,\n",
       " 505001,\n",
       " 506001,\n",
       " 507001,\n",
       " 508001,\n",
       " 509001,\n",
       " 510001,\n",
       " 511001,\n",
       " 512001,\n",
       " 513001,\n",
       " 514001,\n",
       " 515001,\n",
       " 516001,\n",
       " 517001,\n",
       " 518001,\n",
       " 519001,\n",
       " 520001,\n",
       " 521001,\n",
       " 522001,\n",
       " 523001,\n",
       " 524001,\n",
       " 525001,\n",
       " 526001,\n",
       " 527001,\n",
       " 528001,\n",
       " 529001,\n",
       " 530001,\n",
       " 531001,\n",
       " 532001,\n",
       " 533001,\n",
       " 534001,\n",
       " 535001,\n",
       " 536001,\n",
       " 537001,\n",
       " 538001,\n",
       " 539001,\n",
       " 540001,\n",
       " 541001,\n",
       " 542001,\n",
       " 543001,\n",
       " 544001,\n",
       " 545001,\n",
       " 546001,\n",
       " 547001,\n",
       " 548001,\n",
       " 549001,\n",
       " 550001,\n",
       " 551001,\n",
       " 552001,\n",
       " 553001,\n",
       " 554001,\n",
       " 555001,\n",
       " 556001,\n",
       " 557001,\n",
       " 558001,\n",
       " 559001,\n",
       " 560001,\n",
       " 561001,\n",
       " 562001,\n",
       " 563001,\n",
       " 564001,\n",
       " 565001,\n",
       " 566001,\n",
       " 567001,\n",
       " 568001,\n",
       " 569001,\n",
       " 570001,\n",
       " 571001,\n",
       " 572001,\n",
       " 573001,\n",
       " 574001,\n",
       " 575001,\n",
       " 576001,\n",
       " 577001,\n",
       " 578001,\n",
       " 579001,\n",
       " 580001,\n",
       " 581001,\n",
       " 582001,\n",
       " 583001,\n",
       " 584001,\n",
       " 585001,\n",
       " 586001,\n",
       " 587001,\n",
       " 588001,\n",
       " 589001,\n",
       " 590001,\n",
       " 591001,\n",
       " 592001,\n",
       " 593001,\n",
       " 594001,\n",
       " 595001,\n",
       " 596001,\n",
       " 597001,\n",
       " 598001,\n",
       " 599001,\n",
       " 600001,\n",
       " 601001,\n",
       " 602001,\n",
       " 603001,\n",
       " 604001,\n",
       " 605001,\n",
       " 606001,\n",
       " 607001,\n",
       " 608001,\n",
       " 609001,\n",
       " 610001,\n",
       " 611001,\n",
       " 612001,\n",
       " 613001,\n",
       " 614001,\n",
       " 615001,\n",
       " 616001,\n",
       " 617001,\n",
       " 618001,\n",
       " 619001,\n",
       " 620001,\n",
       " 621001,\n",
       " 622001,\n",
       " 623001,\n",
       " 624001,\n",
       " 625001,\n",
       " 626001,\n",
       " 627001,\n",
       " 628001,\n",
       " 629001,\n",
       " 630001,\n",
       " 631001,\n",
       " 632001,\n",
       " 633001,\n",
       " 634001,\n",
       " 635001,\n",
       " 636001,\n",
       " 637001,\n",
       " 638001,\n",
       " 639001,\n",
       " 640001,\n",
       " 641001,\n",
       " 642001,\n",
       " 643001,\n",
       " 644001,\n",
       " 645001,\n",
       " 646001,\n",
       " 647001,\n",
       " 648001,\n",
       " 649001,\n",
       " 650001,\n",
       " 651001,\n",
       " 652001,\n",
       " 653001,\n",
       " 654001,\n",
       " 655001,\n",
       " 656001,\n",
       " 657001,\n",
       " 658001,\n",
       " 659001,\n",
       " 660001,\n",
       " 661001,\n",
       " 662001,\n",
       " 663001,\n",
       " 664001,\n",
       " 665001,\n",
       " 666001,\n",
       " 667001,\n",
       " 668001,\n",
       " 669001,\n",
       " 670001,\n",
       " 671001,\n",
       " 672001,\n",
       " 673001,\n",
       " 674001,\n",
       " 675001,\n",
       " 676001,\n",
       " 677001,\n",
       " 678001,\n",
       " 679001,\n",
       " 680001,\n",
       " 681001,\n",
       " 682001,\n",
       " 683001,\n",
       " 684001,\n",
       " 685001,\n",
       " 686001,\n",
       " 687001,\n",
       " 688001,\n",
       " 689001,\n",
       " 690001,\n",
       " 691001,\n",
       " 692001,\n",
       " 693001,\n",
       " 694001,\n",
       " 695001,\n",
       " 696001,\n",
       " 697001,\n",
       " 698001,\n",
       " 699001,\n",
       " 700001,\n",
       " 701001,\n",
       " 702001,\n",
       " 703001,\n",
       " 704001,\n",
       " 705001,\n",
       " 706001,\n",
       " 707001,\n",
       " 708001,\n",
       " 709001,\n",
       " 710001,\n",
       " 711001,\n",
       " 712001,\n",
       " 713001,\n",
       " 714001,\n",
       " 715001,\n",
       " 716001,\n",
       " 717001,\n",
       " 718001,\n",
       " 719001,\n",
       " 720001,\n",
       " 721001,\n",
       " 722001,\n",
       " 723001,\n",
       " 724001,\n",
       " 725001,\n",
       " 726001,\n",
       " 727001,\n",
       " 728001,\n",
       " 729001,\n",
       " 730001,\n",
       " 731001,\n",
       " 732001,\n",
       " 733001,\n",
       " 734001,\n",
       " 735001,\n",
       " 736001,\n",
       " 737001,\n",
       " 738001,\n",
       " 739001,\n",
       " 740001,\n",
       " 741001,\n",
       " 742001,\n",
       " 743001,\n",
       " 744001,\n",
       " 745001,\n",
       " 746001,\n",
       " 747001,\n",
       " 748001,\n",
       " 749001,\n",
       " 750001,\n",
       " 751001,\n",
       " 752001,\n",
       " 753001,\n",
       " 754001,\n",
       " 755001,\n",
       " 756001,\n",
       " 757001,\n",
       " 758001,\n",
       " 759001,\n",
       " 760001,\n",
       " 761001,\n",
       " 762001,\n",
       " 763001,\n",
       " 764001,\n",
       " 765001,\n",
       " 766001,\n",
       " 767001,\n",
       " 768001,\n",
       " 769001,\n",
       " 770001,\n",
       " 771001,\n",
       " 772001,\n",
       " 773001,\n",
       " 774001,\n",
       " 775001,\n",
       " 776001,\n",
       " 777001,\n",
       " 778001,\n",
       " 779001,\n",
       " 780001,\n",
       " 781001,\n",
       " 782001,\n",
       " 783001,\n",
       " 784001,\n",
       " 785001,\n",
       " 786001,\n",
       " 787001,\n",
       " 788001,\n",
       " 789001,\n",
       " 790001,\n",
       " 791001,\n",
       " 792001,\n",
       " 793001,\n",
       " 794001,\n",
       " 795001,\n",
       " 796001,\n",
       " 797001,\n",
       " 798001,\n",
       " 799001,\n",
       " 800001,\n",
       " 801001,\n",
       " 802001,\n",
       " 803001,\n",
       " 804001,\n",
       " 805001,\n",
       " 806001,\n",
       " 807001,\n",
       " 808001,\n",
       " 809001,\n",
       " 810001,\n",
       " 811001,\n",
       " 812001,\n",
       " 813001,\n",
       " 814001,\n",
       " 815001,\n",
       " 816001,\n",
       " 817001,\n",
       " 818001,\n",
       " 819001,\n",
       " 820001,\n",
       " 821001,\n",
       " 822001,\n",
       " 823001,\n",
       " 824001,\n",
       " 825001,\n",
       " 826001,\n",
       " 827001,\n",
       " 828001,\n",
       " 829001,\n",
       " 830001,\n",
       " 831001,\n",
       " 832001,\n",
       " 833001,\n",
       " 834001,\n",
       " 835001,\n",
       " 836001,\n",
       " 837001,\n",
       " 838001,\n",
       " 839001,\n",
       " 840001,\n",
       " 841001,\n",
       " 842001,\n",
       " 843001,\n",
       " 844001,\n",
       " 845001,\n",
       " 846001,\n",
       " 847001,\n",
       " 848001,\n",
       " 849001,\n",
       " 850001,\n",
       " 851001,\n",
       " 852001,\n",
       " 853001,\n",
       " 854001,\n",
       " 855001,\n",
       " 856001,\n",
       " 857001,\n",
       " 858001,\n",
       " 859001,\n",
       " 860001,\n",
       " 861001,\n",
       " 862001,\n",
       " 863001,\n",
       " 864001,\n",
       " 865001,\n",
       " 866001,\n",
       " 867001,\n",
       " 868001,\n",
       " 869001,\n",
       " 870001,\n",
       " 871001,\n",
       " 872001,\n",
       " 873001,\n",
       " 874001,\n",
       " 875001,\n",
       " 876001,\n",
       " 877001,\n",
       " 878001,\n",
       " 879001,\n",
       " 880001,\n",
       " 881001,\n",
       " 882001,\n",
       " 883001,\n",
       " 884001,\n",
       " 885001,\n",
       " 886001,\n",
       " 887001,\n",
       " 888001,\n",
       " 889001,\n",
       " 890001,\n",
       " 891001,\n",
       " 892001,\n",
       " 893001,\n",
       " 894001,\n",
       " 895001,\n",
       " 896001,\n",
       " 897001,\n",
       " 898001,\n",
       " 899001,\n",
       " 900001,\n",
       " 901001,\n",
       " 902001,\n",
       " 903001,\n",
       " 904001,\n",
       " 905001,\n",
       " 906001,\n",
       " 907001,\n",
       " 908001,\n",
       " 909001,\n",
       " 910001,\n",
       " 911001,\n",
       " 912001,\n",
       " 913001,\n",
       " 914001,\n",
       " 915001,\n",
       " 916001,\n",
       " 917001,\n",
       " 918001,\n",
       " 919001,\n",
       " 920001,\n",
       " 921001,\n",
       " 922001,\n",
       " 923001,\n",
       " 924001,\n",
       " 925001,\n",
       " 926001,\n",
       " 927001,\n",
       " 928001,\n",
       " 929001,\n",
       " 930001,\n",
       " 931001,\n",
       " 932001,\n",
       " 933001,\n",
       " 934001,\n",
       " 935001,\n",
       " 936001,\n",
       " 937001,\n",
       " 938001,\n",
       " 939001,\n",
       " 940001,\n",
       " 941001,\n",
       " 942001,\n",
       " 943001,\n",
       " 944001,\n",
       " 945001,\n",
       " 946001,\n",
       " 947001,\n",
       " 948001,\n",
       " 949001,\n",
       " 950001,\n",
       " 951001,\n",
       " 952001,\n",
       " 953001,\n",
       " 954001,\n",
       " 955001,\n",
       " 956001,\n",
       " 957001,\n",
       " 958001,\n",
       " 959001,\n",
       " 960001,\n",
       " 961001,\n",
       " 962001,\n",
       " 963001,\n",
       " 964001,\n",
       " 965001,\n",
       " 966001,\n",
       " 967001,\n",
       " 968001,\n",
       " 969001,\n",
       " 970001,\n",
       " 971001,\n",
       " 972001,\n",
       " 973001,\n",
       " 974001,\n",
       " 975001,\n",
       " 976001,\n",
       " 977001,\n",
       " 978001,\n",
       " 979001,\n",
       " 980001,\n",
       " 981001,\n",
       " 982001,\n",
       " 983001,\n",
       " 984001,\n",
       " 985001,\n",
       " 986001,\n",
       " 987001,\n",
       " 988001,\n",
       " 989001,\n",
       " 990001,\n",
       " 991001,\n",
       " 992001,\n",
       " 993001,\n",
       " 994001,\n",
       " 995001,\n",
       " 996001,\n",
       " 997001,\n",
       " 998001]"
      ]
     },
     "execution_count": 13,
     "metadata": {},
     "output_type": "execute_result"
    }
   ],
   "source": [
    "times"
   ]
  },
  {
   "cell_type": "code",
   "execution_count": 11,
   "metadata": {},
   "outputs": [
    {
     "data": {
      "text/plain": [
       "7002      1000.0\n",
       "7003      2000.0\n",
       "7004      3000.0\n",
       "7005      4000.0\n",
       "7006      5000.0\n",
       "          ...   \n",
       "7996    995000.0\n",
       "7997    996000.0\n",
       "7998    997000.0\n",
       "7999    998000.0\n",
       "8000    999000.0\n",
       "Name: Time, Length: 999, dtype: float64"
      ]
     },
     "execution_count": 11,
     "metadata": {},
     "output_type": "execute_result"
    }
   ],
   "source": [
    "models['Time']"
   ]
  },
  {
   "cell_type": "markdown",
   "metadata": {},
   "source": [
    "# Comparison to UCLPDR\n",
    "\n",
    "Here we replicate Fig 2. of the release paper but using Chemulator instead of UCLCHEM.\n",
    "\n",
    "More importantly, this serves as an example for how to initialize your own model."
   ]
  },
  {
   "cell_type": "code",
   "execution_count": 10,
   "metadata": {},
   "outputs": [],
   "source": [
    "model_df=pd.read_csv(\"sine_input.csv\")\n"
   ]
  },
  {
   "cell_type": "code",
   "execution_count": 11,
   "metadata": {},
   "outputs": [
    {
     "data": {
      "text/html": [
       "<div>\n",
       "<style scoped>\n",
       "    .dataframe tbody tr th:only-of-type {\n",
       "        vertical-align: middle;\n",
       "    }\n",
       "\n",
       "    .dataframe tbody tr th {\n",
       "        vertical-align: top;\n",
       "    }\n",
       "\n",
       "    .dataframe thead th {\n",
       "        text-align: right;\n",
       "    }\n",
       "</style>\n",
       "<table border=\"1\" class=\"dataframe\">\n",
       "  <thead>\n",
       "    <tr style=\"text-align: right;\">\n",
       "      <th></th>\n",
       "      <th>Particle</th>\n",
       "      <th>T_g</th>\n",
       "      <th>n_H</th>\n",
       "      <th>H2_abun</th>\n",
       "      <th>C_abun</th>\n",
       "      <th>FUV</th>\n",
       "      <th>x</th>\n",
       "      <th>delta_x</th>\n",
       "      <th>delta_h2_col</th>\n",
       "      <th>delta_c_col</th>\n",
       "      <th>delta_col_dens</th>\n",
       "      <th>total_h2_col</th>\n",
       "      <th>total_c_col</th>\n",
       "      <th>total_col_dens</th>\n",
       "      <th>size</th>\n",
       "    </tr>\n",
       "  </thead>\n",
       "  <tbody>\n",
       "    <tr>\n",
       "      <th>0</th>\n",
       "      <td>1</td>\n",
       "      <td>100.9120</td>\n",
       "      <td>52570.5</td>\n",
       "      <td>0.006470</td>\n",
       "      <td>1.676530e-06</td>\n",
       "      <td>9.99984</td>\n",
       "      <td>-3.180156e+19</td>\n",
       "      <td>0.000000e+00</td>\n",
       "      <td>0.000000e+00</td>\n",
       "      <td>0.000000e+00</td>\n",
       "      <td>0.000000e+00</td>\n",
       "      <td>0.000000e+00</td>\n",
       "      <td>0.000000e+00</td>\n",
       "      <td>0.000000e+00</td>\n",
       "      <td>0.000000e+00</td>\n",
       "    </tr>\n",
       "    <tr>\n",
       "      <th>1</th>\n",
       "      <td>16</td>\n",
       "      <td>102.7800</td>\n",
       "      <td>75087.7</td>\n",
       "      <td>0.050528</td>\n",
       "      <td>2.396100e-06</td>\n",
       "      <td>9.99984</td>\n",
       "      <td>-3.180156e+19</td>\n",
       "      <td>2.000000e+10</td>\n",
       "      <td>7.588078e+13</td>\n",
       "      <td>3.598353e+09</td>\n",
       "      <td>1.501754e+15</td>\n",
       "      <td>4.358194e+14</td>\n",
       "      <td>4.665551e+10</td>\n",
       "      <td>2.376777e+16</td>\n",
       "      <td>3.900000e+11</td>\n",
       "    </tr>\n",
       "    <tr>\n",
       "      <th>2</th>\n",
       "      <td>31</td>\n",
       "      <td>86.2791</td>\n",
       "      <td>92354.0</td>\n",
       "      <td>0.328082</td>\n",
       "      <td>3.635100e-06</td>\n",
       "      <td>9.99984</td>\n",
       "      <td>-3.180156e+19</td>\n",
       "      <td>9.999999e+09</td>\n",
       "      <td>3.029968e+14</td>\n",
       "      <td>3.357160e+09</td>\n",
       "      <td>9.235399e+14</td>\n",
       "      <td>4.352329e+15</td>\n",
       "      <td>1.061395e+11</td>\n",
       "      <td>4.331426e+16</td>\n",
       "      <td>6.200000e+11</td>\n",
       "    </tr>\n",
       "    <tr>\n",
       "      <th>3</th>\n",
       "      <td>46</td>\n",
       "      <td>74.5608</td>\n",
       "      <td>100606.0</td>\n",
       "      <td>0.421634</td>\n",
       "      <td>4.406570e-06</td>\n",
       "      <td>9.99984</td>\n",
       "      <td>-3.180156e+19</td>\n",
       "      <td>9.999999e+09</td>\n",
       "      <td>4.241891e+14</td>\n",
       "      <td>4.433273e+09</td>\n",
       "      <td>1.006060e+15</td>\n",
       "      <td>1.352157e+16</td>\n",
       "      <td>2.024797e+11</td>\n",
       "      <td>6.671263e+16</td>\n",
       "      <td>8.600000e+11</td>\n",
       "    </tr>\n",
       "    <tr>\n",
       "      <th>4</th>\n",
       "      <td>61</td>\n",
       "      <td>71.0860</td>\n",
       "      <td>98044.0</td>\n",
       "      <td>0.439261</td>\n",
       "      <td>4.455190e-06</td>\n",
       "      <td>9.99984</td>\n",
       "      <td>-3.180156e+19</td>\n",
       "      <td>2.000000e+10</td>\n",
       "      <td>8.613380e+14</td>\n",
       "      <td>8.736092e+09</td>\n",
       "      <td>1.960880e+15</td>\n",
       "      <td>2.393420e+16</td>\n",
       "      <td>3.103052e+11</td>\n",
       "      <td>9.075010e+16</td>\n",
       "      <td>1.100000e+12</td>\n",
       "    </tr>\n",
       "    <tr>\n",
       "      <th>...</th>\n",
       "      <td>...</td>\n",
       "      <td>...</td>\n",
       "      <td>...</td>\n",
       "      <td>...</td>\n",
       "      <td>...</td>\n",
       "      <td>...</td>\n",
       "      <td>...</td>\n",
       "      <td>...</td>\n",
       "      <td>...</td>\n",
       "      <td>...</td>\n",
       "      <td>...</td>\n",
       "      <td>...</td>\n",
       "      <td>...</td>\n",
       "      <td>...</td>\n",
       "      <td>...</td>\n",
       "    </tr>\n",
       "    <tr>\n",
       "      <th>92</th>\n",
       "      <td>1381</td>\n",
       "      <td>16.8962</td>\n",
       "      <td>22895.8</td>\n",
       "      <td>0.499970</td>\n",
       "      <td>8.677700e-09</td>\n",
       "      <td>9.99984</td>\n",
       "      <td>3.180156e+19</td>\n",
       "      <td>2.000000e+10</td>\n",
       "      <td>2.289443e+14</td>\n",
       "      <td>3.973658e+06</td>\n",
       "      <td>4.579160e+14</td>\n",
       "      <td>1.026692e+24</td>\n",
       "      <td>3.592001e+17</td>\n",
       "      <td>2.053494e+24</td>\n",
       "      <td>6.360312e+19</td>\n",
       "    </tr>\n",
       "    <tr>\n",
       "      <th>93</th>\n",
       "      <td>1396</td>\n",
       "      <td>16.5534</td>\n",
       "      <td>44733.3</td>\n",
       "      <td>0.499982</td>\n",
       "      <td>3.891400e-09</td>\n",
       "      <td>9.99984</td>\n",
       "      <td>3.180156e+19</td>\n",
       "      <td>2.000000e+10</td>\n",
       "      <td>4.473169e+14</td>\n",
       "      <td>3.481504e+06</td>\n",
       "      <td>8.946661e+14</td>\n",
       "      <td>1.026692e+24</td>\n",
       "      <td>3.592001e+17</td>\n",
       "      <td>2.053494e+24</td>\n",
       "      <td>6.360312e+19</td>\n",
       "    </tr>\n",
       "    <tr>\n",
       "      <th>94</th>\n",
       "      <td>1411</td>\n",
       "      <td>14.7481</td>\n",
       "      <td>67936.9</td>\n",
       "      <td>0.499986</td>\n",
       "      <td>2.323510e-09</td>\n",
       "      <td>9.99984</td>\n",
       "      <td>3.180156e+19</td>\n",
       "      <td>2.000000e+10</td>\n",
       "      <td>6.793500e+14</td>\n",
       "      <td>3.157042e+06</td>\n",
       "      <td>1.358738e+15</td>\n",
       "      <td>1.026692e+24</td>\n",
       "      <td>3.592001e+17</td>\n",
       "      <td>2.053494e+24</td>\n",
       "      <td>6.360312e+19</td>\n",
       "    </tr>\n",
       "    <tr>\n",
       "      <th>95</th>\n",
       "      <td>1426</td>\n",
       "      <td>13.8569</td>\n",
       "      <td>87448.4</td>\n",
       "      <td>0.499988</td>\n",
       "      <td>1.709610e-09</td>\n",
       "      <td>9.99984</td>\n",
       "      <td>3.180156e+19</td>\n",
       "      <td>9.999999e+09</td>\n",
       "      <td>4.372315e+14</td>\n",
       "      <td>1.495026e+06</td>\n",
       "      <td>8.744839e+14</td>\n",
       "      <td>1.026692e+24</td>\n",
       "      <td>3.592001e+17</td>\n",
       "      <td>2.053494e+24</td>\n",
       "      <td>6.360312e+19</td>\n",
       "    </tr>\n",
       "    <tr>\n",
       "      <th>96</th>\n",
       "      <td>1441</td>\n",
       "      <td>13.4685</td>\n",
       "      <td>99014.7</td>\n",
       "      <td>0.499989</td>\n",
       "      <td>1.471200e-09</td>\n",
       "      <td>9.99984</td>\n",
       "      <td>3.180156e+19</td>\n",
       "      <td>9.999999e+09</td>\n",
       "      <td>4.950626e+14</td>\n",
       "      <td>1.456704e+06</td>\n",
       "      <td>9.901469e+14</td>\n",
       "      <td>1.026692e+24</td>\n",
       "      <td>3.592001e+17</td>\n",
       "      <td>2.053494e+24</td>\n",
       "      <td>6.360312e+19</td>\n",
       "    </tr>\n",
       "  </tbody>\n",
       "</table>\n",
       "<p>97 rows × 15 columns</p>\n",
       "</div>"
      ],
      "text/plain": [
       "    Particle       T_g       n_H   H2_abun        C_abun      FUV  \\\n",
       "0          1  100.9120   52570.5  0.006470  1.676530e-06  9.99984   \n",
       "1         16  102.7800   75087.7  0.050528  2.396100e-06  9.99984   \n",
       "2         31   86.2791   92354.0  0.328082  3.635100e-06  9.99984   \n",
       "3         46   74.5608  100606.0  0.421634  4.406570e-06  9.99984   \n",
       "4         61   71.0860   98044.0  0.439261  4.455190e-06  9.99984   \n",
       "..       ...       ...       ...       ...           ...      ...   \n",
       "92      1381   16.8962   22895.8  0.499970  8.677700e-09  9.99984   \n",
       "93      1396   16.5534   44733.3  0.499982  3.891400e-09  9.99984   \n",
       "94      1411   14.7481   67936.9  0.499986  2.323510e-09  9.99984   \n",
       "95      1426   13.8569   87448.4  0.499988  1.709610e-09  9.99984   \n",
       "96      1441   13.4685   99014.7  0.499989  1.471200e-09  9.99984   \n",
       "\n",
       "               x       delta_x  delta_h2_col   delta_c_col  delta_col_dens  \\\n",
       "0  -3.180156e+19  0.000000e+00  0.000000e+00  0.000000e+00    0.000000e+00   \n",
       "1  -3.180156e+19  2.000000e+10  7.588078e+13  3.598353e+09    1.501754e+15   \n",
       "2  -3.180156e+19  9.999999e+09  3.029968e+14  3.357160e+09    9.235399e+14   \n",
       "3  -3.180156e+19  9.999999e+09  4.241891e+14  4.433273e+09    1.006060e+15   \n",
       "4  -3.180156e+19  2.000000e+10  8.613380e+14  8.736092e+09    1.960880e+15   \n",
       "..           ...           ...           ...           ...             ...   \n",
       "92  3.180156e+19  2.000000e+10  2.289443e+14  3.973658e+06    4.579160e+14   \n",
       "93  3.180156e+19  2.000000e+10  4.473169e+14  3.481504e+06    8.946661e+14   \n",
       "94  3.180156e+19  2.000000e+10  6.793500e+14  3.157042e+06    1.358738e+15   \n",
       "95  3.180156e+19  9.999999e+09  4.372315e+14  1.495026e+06    8.744839e+14   \n",
       "96  3.180156e+19  9.999999e+09  4.950626e+14  1.456704e+06    9.901469e+14   \n",
       "\n",
       "    total_h2_col   total_c_col  total_col_dens          size  \n",
       "0   0.000000e+00  0.000000e+00    0.000000e+00  0.000000e+00  \n",
       "1   4.358194e+14  4.665551e+10    2.376777e+16  3.900000e+11  \n",
       "2   4.352329e+15  1.061395e+11    4.331426e+16  6.200000e+11  \n",
       "3   1.352157e+16  2.024797e+11    6.671263e+16  8.600000e+11  \n",
       "4   2.393420e+16  3.103052e+11    9.075010e+16  1.100000e+12  \n",
       "..           ...           ...             ...           ...  \n",
       "92  1.026692e+24  3.592001e+17    2.053494e+24  6.360312e+19  \n",
       "93  1.026692e+24  3.592001e+17    2.053494e+24  6.360312e+19  \n",
       "94  1.026692e+24  3.592001e+17    2.053494e+24  6.360312e+19  \n",
       "95  1.026692e+24  3.592001e+17    2.053494e+24  6.360312e+19  \n",
       "96  1.026692e+24  3.592001e+17    2.053494e+24  6.360312e+19  \n",
       "\n",
       "[97 rows x 15 columns]"
      ]
     },
     "execution_count": 11,
     "metadata": {},
     "output_type": "execute_result"
    }
   ],
   "source": [
    "model_df"
   ]
  },
  {
   "cell_type": "code",
   "execution_count": 12,
   "metadata": {},
   "outputs": [
    {
     "name": "stdout",
     "output_type": "stream",
     "text": [
      "4/4 [==============================] - 0s 1ms/step\n"
     ]
    },
    {
     "name": "stderr",
     "output_type": "stream",
     "text": [
      "/usr/lib64/python3.11/site-packages/pandas/core/internals/blocks.py:351: RuntimeWarning: divide by zero encountered in log10\n",
      "  result = func(self.values, **kwargs)\n"
     ]
    }
   ],
   "source": [
    "#this is a file with all the input column densities and the total UV\n",
    "model_df=pd.read_csv(\"sine_input.csv\")\n",
    "\n",
    "#We're subsampling UCLPDR output so cut that down\n",
    "particles=model_df[\"Particle\"]\n",
    "uclpdr=pd.read_csv(\"sine_output.csv\")\n",
    "idx=uclpdr[\"Particle\"].isin(particles)\n",
    "uclpdr=uclpdr.loc[idx].reset_index(drop=True)\n",
    "\n",
    "#then fill in other physics\n",
    "model_df[\"zeta\"]=3.84\n",
    "model_df[\"metallicity\"]=1.0\n",
    "model_df=model_df[['T_g', 'n_H',\"FUV\",\"zeta\",'total_col_dens','total_h2_col','total_c_col' ]]\n",
    "model_df.columns=['gas_temp','gas_density','radfield','zeta','coldens','h2col','ccol']\n",
    "model_df[\"radfield\"]=1.7*model_df[\"radfield\"] #UCLPDR in Draine, our code in Habing\n",
    "\n",
    "#we can add chemistry by setting all the species the autoencoder expects to 0\n",
    "for spec in emulator.autoencoder.species:\n",
    "    model_df[spec]=0.0\n",
    "\n",
    "#then filling in specific ones\n",
    "initial_abunds={\n",
    "    \"H\":0.4,\n",
    "    \"H2\":0.3,\n",
    "    \"HE\":0.1,\n",
    "    \"C+\":1.0e-4,\n",
    "    \"O\":3.0e-4,\n",
    "    \"MG\":5.00e-06,\n",
    "    \"E-\":1.0e-4\n",
    "}\n",
    "\n",
    "for spec,abund in initial_abunds.items():\n",
    "    model_df[spec]=abund\n",
    "model_df=emulator.prepare_inputs(model_df,learn_scaling=False)\n",
    "model_df[model_df<0]=0.0"
   ]
  },
  {
   "cell_type": "code",
   "execution_count": null,
   "metadata": {},
   "outputs": [
    {
     "name": "stdout",
     "output_type": "stream",
     "text": [
      "4/4 [==============================] - 0s 3ms/step\n",
      "4/4 [==============================] - 0s 2ms/step\n",
      "4/4 [==============================] - 0s 2ms/step\n",
      "4/4 [==============================] - 0s 2ms/step\n",
      "4/4 [==============================] - 0s 2ms/step\n",
      "4/4 [==============================] - 0s 2ms/step\n",
      "4/4 [==============================] - 0s 2ms/step\n",
      "4/4 [==============================] - 0s 3ms/step\n",
      "4/4 [==============================] - 0s 3ms/step\n",
      "4/4 [==============================] - 0s 2ms/step\n",
      "4/4 [==============================] - 0s 2ms/step\n",
      "4/4 [==============================] - 0s 2ms/step\n",
      "4/4 [==============================] - 0s 2ms/step\n",
      "4/4 [==============================] - 0s 2ms/step\n",
      "4/4 [==============================] - 0s 3ms/step\n",
      "4/4 [==============================] - 0s 2ms/step\n",
      "4/4 [==============================] - 0s 2ms/step\n",
      "4/4 [==============================] - 0s 2ms/step\n",
      "4/4 [==============================] - 0s 2ms/step\n",
      "4/4 [==============================] - 0s 2ms/step\n",
      "4/4 [==============================] - 0s 2ms/step\n",
      "4/4 [==============================] - 0s 2ms/step\n",
      "4/4 [==============================] - 0s 2ms/step\n",
      "4/4 [==============================] - 0s 2ms/step\n",
      "4/4 [==============================] - 0s 2ms/step\n",
      "4/4 [==============================] - 0s 2ms/step\n",
      "4/4 [==============================] - 0s 2ms/step\n",
      "4/4 [==============================] - 0s 2ms/step\n",
      "4/4 [==============================] - 0s 2ms/step\n",
      "4/4 [==============================] - 0s 4ms/step\n",
      "4/4 [==============================] - 0s 2ms/step\n",
      "4/4 [==============================] - 0s 2ms/step\n",
      "4/4 [==============================] - 0s 3ms/step\n",
      "4/4 [==============================] - 0s 3ms/step\n",
      "4/4 [==============================] - 0s 2ms/step\n",
      "4/4 [==============================] - 0s 2ms/step\n",
      "4/4 [==============================] - 0s 2ms/step\n",
      "4/4 [==============================] - 0s 2ms/step\n",
      "4/4 [==============================] - 0s 2ms/step\n",
      "4/4 [==============================] - 0s 2ms/step\n",
      "4/4 [==============================] - 0s 3ms/step\n",
      "4/4 [==============================] - 0s 2ms/step\n",
      "4/4 [==============================] - 0s 2ms/step\n",
      "4/4 [==============================] - 0s 2ms/step\n",
      "4/4 [==============================] - 0s 2ms/step\n",
      "4/4 [==============================] - 0s 3ms/step\n",
      "4/4 [==============================] - 0s 2ms/step\n",
      "4/4 [==============================] - 0s 2ms/step\n",
      "4/4 [==============================] - 0s 3ms/step\n",
      "4/4 [==============================] - 0s 2ms/step\n",
      "4/4 [==============================] - 0s 2ms/step\n",
      "4/4 [==============================] - 0s 2ms/step\n",
      "4/4 [==============================] - 0s 3ms/step\n",
      "4/4 [==============================] - 0s 2ms/step\n",
      "4/4 [==============================] - 0s 2ms/step\n",
      "4/4 [==============================] - 0s 2ms/step\n",
      "4/4 [==============================] - 0s 2ms/step\n",
      "4/4 [==============================] - 0s 2ms/step\n",
      "4/4 [==============================] - 0s 5ms/step\n",
      "4/4 [==============================] - 0s 3ms/step\n",
      "4/4 [==============================] - 0s 2ms/step\n",
      "4/4 [==============================] - 0s 2ms/step\n",
      "4/4 [==============================] - 0s 3ms/step\n",
      "4/4 [==============================] - 0s 3ms/step\n",
      "4/4 [==============================] - 0s 2ms/step\n",
      "4/4 [==============================] - 0s 2ms/step\n",
      "4/4 [==============================] - 0s 2ms/step\n",
      "4/4 [==============================] - 0s 2ms/step\n",
      "4/4 [==============================] - 0s 2ms/step\n",
      "4/4 [==============================] - 0s 2ms/step\n",
      "4/4 [==============================] - 0s 2ms/step\n",
      "4/4 [==============================] - 0s 2ms/step\n",
      "4/4 [==============================] - 0s 2ms/step\n",
      "4/4 [==============================] - 0s 2ms/step\n",
      "4/4 [==============================] - 0s 2ms/step\n",
      "4/4 [==============================] - 0s 2ms/step\n",
      "4/4 [==============================] - 0s 2ms/step\n",
      "4/4 [==============================] - 0s 2ms/step\n",
      "4/4 [==============================] - 0s 2ms/step\n",
      "4/4 [==============================] - 0s 2ms/step\n",
      "4/4 [==============================] - 0s 2ms/step\n",
      "4/4 [==============================] - 0s 2ms/step\n",
      "4/4 [==============================] - 0s 2ms/step\n",
      "4/4 [==============================] - 0s 2ms/step\n",
      "4/4 [==============================] - 0s 2ms/step\n",
      "4/4 [==============================] - 0s 2ms/step\n",
      "4/4 [==============================] - 0s 2ms/step\n",
      "4/4 [==============================] - 0s 3ms/step\n",
      "4/4 [==============================] - 0s 3ms/step\n",
      "4/4 [==============================] - 0s 4ms/step\n",
      "4/4 [==============================] - 0s 2ms/step\n",
      "4/4 [==============================] - 0s 2ms/step\n",
      "4/4 [==============================] - 0s 2ms/step\n",
      "4/4 [==============================] - 0s 2ms/step\n",
      "4/4 [==============================] - 0s 2ms/step\n",
      "4/4 [==============================] - 0s 2ms/step\n",
      "4/4 [==============================] - 0s 2ms/step\n",
      "4/4 [==============================] - 0s 2ms/step\n",
      "4/4 [==============================] - 0s 2ms/step\n",
      "4/4 [==============================] - 0s 2ms/step\n",
      "4/4 [==============================] - 0s 2ms/step\n",
      "4/4 [==============================] - 0s 2ms/step\n",
      "4/4 [==============================] - 0s 2ms/step\n",
      "4/4 [==============================] - 0s 2ms/step\n",
      "4/4 [==============================] - 0s 2ms/step\n",
      "4/4 [==============================] - 0s 2ms/step\n",
      "4/4 [==============================] - 0s 2ms/step\n",
      "4/4 [==============================] - 0s 2ms/step\n",
      "4/4 [==============================] - 0s 2ms/step\n",
      "4/4 [==============================] - 0s 2ms/step\n",
      "4/4 [==============================] - 0s 2ms/step\n",
      "4/4 [==============================] - 0s 2ms/step\n",
      "4/4 [==============================] - 0s 2ms/step\n",
      "4/4 [==============================] - 0s 2ms/step\n",
      "4/4 [==============================] - 0s 2ms/step\n",
      "4/4 [==============================] - 0s 2ms/step\n",
      "4/4 [==============================] - 0s 2ms/step\n",
      "4/4 [==============================] - 0s 2ms/step\n",
      "4/4 [==============================] - 0s 3ms/step\n",
      "4/4 [==============================] - 0s 2ms/step\n",
      "4/4 [==============================] - 0s 3ms/step\n",
      "4/4 [==============================] - 0s 2ms/step\n",
      "4/4 [==============================] - 0s 2ms/step\n",
      "4/4 [==============================] - 0s 2ms/step\n",
      "4/4 [==============================] - 0s 2ms/step\n",
      "4/4 [==============================] - 0s 2ms/step\n",
      "4/4 [==============================] - 0s 2ms/step\n"
     ]
    }
   ],
   "source": [
    "%%time\n",
    "\n",
    "output=emulator.predict_multiple_timesteps(model_df,1000)\n",
    "output=emulator.recover_real_values(output)\n"
   ]
  },
  {
   "cell_type": "code",
   "execution_count": null,
   "metadata": {},
   "outputs": [],
   "source": [
    "fig,[ax,ax2]=plt.subplots(1,2,figsize=(16,5))\n",
    "ax.plot(uclpdr[\"Av\"],uclpdr[\"T_g\"],color=\"black\")\n",
    "ax.plot(uclpdr[\"Av\"],output[\"gas_temp\"],ls=\"--\")\n",
    "ax.set(xscale=\"log\")\n",
    "\n",
    "colors=sns.color_palette(n_colors=6)\n",
    "for i,species in enumerate([\"H\",\"H2\",\"C+\",\"O\",\"CO\",\"H2O\"]):\n",
    "    ax2.plot(uclpdr[\"Av\"],uclpdr[f\"{species}_abun\"],color=colors[i])\n",
    "    ax2.plot(uclpdr[\"Av\"],output[f\"{species}\"],ls=\"--\",color=colors[i])\n",
    "\n",
    "ax2.set(xscale=\"log\",yscale=\"log\")\n"
   ]
  },
  {
   "cell_type": "code",
   "execution_count": null,
   "metadata": {},
   "outputs": [],
   "source": []
  },
  {
   "cell_type": "code",
   "execution_count": null,
   "metadata": {},
   "outputs": [],
   "source": []
  }
 ],
 "metadata": {
  "kernelspec": {
   "display_name": "Python 3 (ipykernel)",
   "language": "python",
   "name": "python3"
  },
  "language_info": {
   "codemirror_mode": {
    "name": "ipython",
    "version": 3
   },
   "file_extension": ".py",
   "mimetype": "text/x-python",
   "name": "python",
   "nbconvert_exporter": "python",
   "pygments_lexer": "ipython3",
   "version": "3.11.3"
  }
 },
 "nbformat": 4,
 "nbformat_minor": 4
}
