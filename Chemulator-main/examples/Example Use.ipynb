{
 "cells": [
  {
   "cell_type": "code",
   "execution_count": 1,
   "metadata": {},
   "outputs": [
    {
     "name": "stdout",
     "output_type": "stream",
     "text": [
      "Defaulting to user installation because normal site-packages is not writeable\n",
      "Requirement already satisfied: tensorflow==2.12.0 in /home/rojasolvera/.local/lib/python3.11/site-packages (2.12.0)\n",
      "Requirement already satisfied: absl-py>=1.0.0 in /home/rojasolvera/.local/lib/python3.11/site-packages (from tensorflow==2.12.0) (1.4.0)\n",
      "Requirement already satisfied: astunparse>=1.6.0 in /home/rojasolvera/.local/lib/python3.11/site-packages (from tensorflow==2.12.0) (1.6.3)\n",
      "Requirement already satisfied: flatbuffers>=2.0 in /home/rojasolvera/.local/lib/python3.11/site-packages (from tensorflow==2.12.0) (23.5.26)\n",
      "Requirement already satisfied: gast<=0.4.0,>=0.2.1 in /home/rojasolvera/.local/lib/python3.11/site-packages (from tensorflow==2.12.0) (0.4.0)\n",
      "Requirement already satisfied: google-pasta>=0.1.1 in /home/rojasolvera/.local/lib/python3.11/site-packages (from tensorflow==2.12.0) (0.2.0)\n",
      "Requirement already satisfied: grpcio<2.0,>=1.24.3 in /home/rojasolvera/.local/lib/python3.11/site-packages (from tensorflow==2.12.0) (1.54.2)\n",
      "Requirement already satisfied: h5py>=2.9.0 in /usr/lib64/python3.11/site-packages (from tensorflow==2.12.0) (3.7.0)\n",
      "Requirement already satisfied: jax>=0.3.15 in /home/rojasolvera/.local/lib/python3.11/site-packages (from tensorflow==2.12.0) (0.4.12)\n",
      "Requirement already satisfied: keras<2.13,>=2.12.0 in /home/rojasolvera/.local/lib/python3.11/site-packages (from tensorflow==2.12.0) (2.12.0)\n",
      "Requirement already satisfied: libclang>=13.0.0 in /home/rojasolvera/.local/lib/python3.11/site-packages (from tensorflow==2.12.0) (16.0.0)\n",
      "Requirement already satisfied: numpy<1.24,>=1.22 in /home/rojasolvera/.local/lib/python3.11/site-packages (from tensorflow==2.12.0) (1.23.5)\n",
      "Requirement already satisfied: opt-einsum>=2.3.2 in /home/rojasolvera/.local/lib/python3.11/site-packages (from tensorflow==2.12.0) (3.3.0)\n",
      "Requirement already satisfied: packaging in /usr/lib/python3.11/site-packages (from tensorflow==2.12.0) (21.3)\n",
      "Requirement already satisfied: protobuf!=4.21.0,!=4.21.1,!=4.21.2,!=4.21.3,!=4.21.4,!=4.21.5,<5.0.0dev,>=3.20.3 in /home/rojasolvera/.local/lib/python3.11/site-packages (from tensorflow==2.12.0) (4.23.2)\n",
      "Requirement already satisfied: setuptools in /usr/lib/python3.11/site-packages (from tensorflow==2.12.0) (62.6.0)\n",
      "Requirement already satisfied: six>=1.12.0 in /usr/lib/python3.11/site-packages (from tensorflow==2.12.0) (1.16.0)\n",
      "Requirement already satisfied: tensorboard<2.13,>=2.12 in /home/rojasolvera/.local/lib/python3.11/site-packages (from tensorflow==2.12.0) (2.12.3)\n",
      "Requirement already satisfied: tensorflow-estimator<2.13,>=2.12.0 in /home/rojasolvera/.local/lib/python3.11/site-packages (from tensorflow==2.12.0) (2.12.0)\n",
      "Requirement already satisfied: termcolor>=1.1.0 in /home/rojasolvera/.local/lib/python3.11/site-packages (from tensorflow==2.12.0) (2.3.0)\n",
      "Requirement already satisfied: typing-extensions>=3.6.6 in /usr/lib/python3.11/site-packages (from tensorflow==2.12.0) (4.4.0)\n",
      "Requirement already satisfied: wrapt<1.15,>=1.11.0 in /usr/lib64/python3.11/site-packages (from tensorflow==2.12.0) (1.14.0)\n",
      "Requirement already satisfied: tensorflow-io-gcs-filesystem>=0.23.1 in /home/rojasolvera/.local/lib/python3.11/site-packages (from tensorflow==2.12.0) (0.32.0)\n",
      "Requirement already satisfied: wheel<1.0,>=0.23.0 in /usr/lib/python3.11/site-packages (from astunparse>=1.6.0->tensorflow==2.12.0) (0.37.1)\n",
      "Requirement already satisfied: ml-dtypes>=0.1.0 in /home/rojasolvera/.local/lib/python3.11/site-packages (from jax>=0.3.15->tensorflow==2.12.0) (0.2.0)\n",
      "Requirement already satisfied: scipy>=1.7 in /usr/lib64/python3.11/site-packages (from jax>=0.3.15->tensorflow==2.12.0) (1.8.1)\n",
      "Requirement already satisfied: google-auth<3,>=1.6.3 in /home/rojasolvera/.local/lib/python3.11/site-packages (from tensorboard<2.13,>=2.12->tensorflow==2.12.0) (2.19.1)\n",
      "Requirement already satisfied: google-auth-oauthlib<1.1,>=0.5 in /home/rojasolvera/.local/lib/python3.11/site-packages (from tensorboard<2.13,>=2.12->tensorflow==2.12.0) (1.0.0)\n",
      "Requirement already satisfied: markdown>=2.6.8 in /usr/lib/python3.11/site-packages (from tensorboard<2.13,>=2.12->tensorflow==2.12.0) (3.4.1)\n",
      "Requirement already satisfied: requests<3,>=2.21.0 in /usr/lib/python3.11/site-packages (from tensorboard<2.13,>=2.12->tensorflow==2.12.0) (2.28.1)\n",
      "Requirement already satisfied: tensorboard-data-server<0.8.0,>=0.7.0 in /home/rojasolvera/.local/lib/python3.11/site-packages (from tensorboard<2.13,>=2.12->tensorflow==2.12.0) (0.7.0)\n",
      "Requirement already satisfied: werkzeug>=1.0.1 in /usr/lib/python3.11/site-packages (from tensorboard<2.13,>=2.12->tensorflow==2.12.0) (2.2.2)\n",
      "Requirement already satisfied: pyparsing!=3.0.5,>=2.0.2 in /usr/lib/python3.11/site-packages (from packaging->tensorflow==2.12.0) (3.0.9)\n",
      "Requirement already satisfied: cachetools<6.0,>=2.0.0 in /home/rojasolvera/.local/lib/python3.11/site-packages (from google-auth<3,>=1.6.3->tensorboard<2.13,>=2.12->tensorflow==2.12.0) (5.3.1)\n",
      "Requirement already satisfied: pyasn1-modules>=0.2.1 in /usr/lib/python3.11/site-packages (from google-auth<3,>=1.6.3->tensorboard<2.13,>=2.12->tensorflow==2.12.0) (0.2.8)\n",
      "Requirement already satisfied: rsa<5,>=3.1.4 in /home/rojasolvera/.local/lib/python3.11/site-packages (from google-auth<3,>=1.6.3->tensorboard<2.13,>=2.12->tensorflow==2.12.0) (4.9)\n",
      "Requirement already satisfied: urllib3<2.0 in /usr/lib/python3.11/site-packages (from google-auth<3,>=1.6.3->tensorboard<2.13,>=2.12->tensorflow==2.12.0) (1.26.15)\n",
      "Requirement already satisfied: requests-oauthlib>=0.7.0 in /home/rojasolvera/.local/lib/python3.11/site-packages (from google-auth-oauthlib<1.1,>=0.5->tensorboard<2.13,>=2.12->tensorflow==2.12.0) (1.3.1)\n",
      "Requirement already satisfied: charset-normalizer<3,>=2 in /usr/lib/python3.11/site-packages (from requests<3,>=2.21.0->tensorboard<2.13,>=2.12->tensorflow==2.12.0) (2.1.0)\n",
      "Requirement already satisfied: idna<4,>=2.5 in /usr/lib/python3.11/site-packages (from requests<3,>=2.21.0->tensorboard<2.13,>=2.12->tensorflow==2.12.0) (3.3)\n",
      "Requirement already satisfied: MarkupSafe>=2.1.1 in /usr/lib64/python3.11/site-packages (from werkzeug>=1.0.1->tensorboard<2.13,>=2.12->tensorflow==2.12.0) (2.1.1)\n",
      "Requirement already satisfied: pyasn1<0.5.0,>=0.4.6 in /usr/lib/python3.11/site-packages (from pyasn1-modules>=0.2.1->google-auth<3,>=1.6.3->tensorboard<2.13,>=2.12->tensorflow==2.12.0) (0.4.8)\n",
      "Requirement already satisfied: oauthlib>=3.0.0 in /home/rojasolvera/.local/lib/python3.11/site-packages (from requests-oauthlib>=0.7.0->google-auth-oauthlib<1.1,>=0.5->tensorboard<2.13,>=2.12->tensorflow==2.12.0) (3.2.2)\n",
      "Note: you may need to restart the kernel to use updated packages.\n"
     ]
    }
   ],
   "source": [
    "pip install tensorflow==2.12.0\n"
   ]
  },
  {
   "cell_type": "code",
   "execution_count": null,
   "metadata": {},
   "outputs": [],
   "source": []
  },
  {
   "cell_type": "code",
   "execution_count": null,
   "metadata": {},
   "outputs": [],
   "source": []
  },
  {
   "cell_type": "code",
   "execution_count": 2,
   "metadata": {},
   "outputs": [],
   "source": [
    "import pandas as pd\n",
    "import numpy as np\n",
    "import matplotlib.pyplot as plt\n",
    "from os.path import join\n",
    "import seaborn as sns\n",
    "from sys import path\n",
    "path.insert(0,'../src/')\n",
    "from glob import glob\n",
    "\n",
    "from chemulator import Chemulator\n"
   ]
  },
  {
   "cell_type": "markdown",
   "metadata": {},
   "source": [
    "# Initializing the Emulator\n",
    "\n",
    "Chemulator has a simple initialization function that simple takes the path the directory where a chemical encoder is stored. In this case, we'll point it to the autoencoder from the Holdship et al. 2021 release paper.\n",
    "\n",
    "The resulting emulator object can either be used to create a whole new emulator of the ```load_model``` function can be used to load a pre-trained model/ensemble. Here, we'll use the emulator used for the performance metrics of the release paper."
   ]
  },
  {
   "cell_type": "code",
   "execution_count": 23,
   "metadata": {},
   "outputs": [],
   "source": [
    "autoencoder_dir=\"../models/autoencoder-2021-release/\"\n",
    "emulator=Chemulator(autoencoder_dir=autoencoder_dir)\n",
    "emulator.load_model(\"../models/emulator-2021-release/\")"
   ]
  },
  {
   "cell_type": "markdown",
   "metadata": {},
   "source": [
    "This emulator is now ready to use!\n",
    "Below we'll demonstrate the model in use"
   ]
  },
  {
   "cell_type": "markdown",
   "metadata": {},
   "source": [
    "# Time Dependence\n",
    "\n",
    "We'll first demonstrate the emulator's use on some of the test data from the training. Note that other than \"Time\" and \"model\", all columns in this first example are required to run the emulator."
   ]
  },
  {
   "cell_type": "code",
   "execution_count": 24,
   "metadata": {},
   "outputs": [],
   "source": [
    "input_data=pd.read_hdf(\"example_models.hdf\",key=\"df\").reset_index(drop=True)"
   ]
  },
  {
   "cell_type": "code",
   "execution_count": 43,
   "metadata": {},
   "outputs": [
    {
     "name": "stdout",
     "output_type": "stream",
     "text": [
      "1/1 [==============================] - 0s 32ms/step\n"
     ]
    }
   ],
   "source": [
    "#pick a random model\n",
    "start_time=1000\n",
    "i=input_data[(input_data[\"Time\"]==start_time)].index\n",
    "i=np.random.choice(i)\n",
    "\n",
    "\n",
    "#use the emulator's prepare inputs function to scale all the data and encode chemistry\n",
    "model_df=emulator.prepare_inputs(input_data.loc[i:i].reset_index(drop=True),learn_scaling=False)"
   ]
  },
  {
   "cell_type": "code",
   "execution_count": 44,
   "metadata": {
    "scrolled": true
   },
   "outputs": [
    {
     "name": "stdout",
     "output_type": "stream",
     "text": [
      "1/1 [==============================] - 0s 32ms/step\n",
      "1/1 [==============================] - 0s 28ms/step\n",
      "1/1 [==============================] - 0s 27ms/step\n"
     ]
    },
    {
     "name": "stderr",
     "output_type": "stream",
     "text": [
      "/var/tmp/rojasolvera/ipykernel_122018/3486713291.py:6: FutureWarning: The frame.append method is deprecated and will be removed from pandas in a future version. Use pandas.concat instead.\n",
      "  outputs=outputs.append(output,sort=False)\n",
      "/var/tmp/rojasolvera/ipykernel_122018/3486713291.py:6: FutureWarning: The frame.append method is deprecated and will be removed from pandas in a future version. Use pandas.concat instead.\n",
      "  outputs=outputs.append(output,sort=False)\n",
      "/var/tmp/rojasolvera/ipykernel_122018/3486713291.py:6: FutureWarning: The frame.append method is deprecated and will be removed from pandas in a future version. Use pandas.concat instead.\n",
      "  outputs=outputs.append(output,sort=False)\n"
     ]
    },
    {
     "name": "stdout",
     "output_type": "stream",
     "text": [
      "1/1 [==============================] - 0s 28ms/step\n",
      "1/1 [==============================] - 0s 25ms/step\n",
      "1/1 [==============================] - 0s 26ms/step\n"
     ]
    },
    {
     "name": "stderr",
     "output_type": "stream",
     "text": [
      "/var/tmp/rojasolvera/ipykernel_122018/3486713291.py:6: FutureWarning: The frame.append method is deprecated and will be removed from pandas in a future version. Use pandas.concat instead.\n",
      "  outputs=outputs.append(output,sort=False)\n",
      "/var/tmp/rojasolvera/ipykernel_122018/3486713291.py:6: FutureWarning: The frame.append method is deprecated and will be removed from pandas in a future version. Use pandas.concat instead.\n",
      "  outputs=outputs.append(output,sort=False)\n",
      "/var/tmp/rojasolvera/ipykernel_122018/3486713291.py:6: FutureWarning: The frame.append method is deprecated and will be removed from pandas in a future version. Use pandas.concat instead.\n",
      "  outputs=outputs.append(output,sort=False)\n"
     ]
    },
    {
     "name": "stdout",
     "output_type": "stream",
     "text": [
      "1/1 [==============================] - 0s 28ms/step\n",
      "1/1 [==============================] - 0s 29ms/step\n",
      "1/1 [==============================] - 0s 25ms/step\n"
     ]
    },
    {
     "name": "stderr",
     "output_type": "stream",
     "text": [
      "/var/tmp/rojasolvera/ipykernel_122018/3486713291.py:6: FutureWarning: The frame.append method is deprecated and will be removed from pandas in a future version. Use pandas.concat instead.\n",
      "  outputs=outputs.append(output,sort=False)\n",
      "/var/tmp/rojasolvera/ipykernel_122018/3486713291.py:6: FutureWarning: The frame.append method is deprecated and will be removed from pandas in a future version. Use pandas.concat instead.\n",
      "  outputs=outputs.append(output,sort=False)\n",
      "/var/tmp/rojasolvera/ipykernel_122018/3486713291.py:6: FutureWarning: The frame.append method is deprecated and will be removed from pandas in a future version. Use pandas.concat instead.\n",
      "  outputs=outputs.append(output,sort=False)\n"
     ]
    },
    {
     "name": "stdout",
     "output_type": "stream",
     "text": [
      "1/1 [==============================] - 0s 28ms/step\n",
      "1/1 [==============================] - 0s 27ms/step\n",
      "1/1 [==============================] - 0s 29ms/step\n"
     ]
    },
    {
     "name": "stderr",
     "output_type": "stream",
     "text": [
      "/var/tmp/rojasolvera/ipykernel_122018/3486713291.py:6: FutureWarning: The frame.append method is deprecated and will be removed from pandas in a future version. Use pandas.concat instead.\n",
      "  outputs=outputs.append(output,sort=False)\n",
      "/var/tmp/rojasolvera/ipykernel_122018/3486713291.py:6: FutureWarning: The frame.append method is deprecated and will be removed from pandas in a future version. Use pandas.concat instead.\n",
      "  outputs=outputs.append(output,sort=False)\n",
      "/var/tmp/rojasolvera/ipykernel_122018/3486713291.py:6: FutureWarning: The frame.append method is deprecated and will be removed from pandas in a future version. Use pandas.concat instead.\n",
      "  outputs=outputs.append(output,sort=False)\n"
     ]
    },
    {
     "name": "stdout",
     "output_type": "stream",
     "text": [
      "1/1 [==============================] - 0s 29ms/step\n",
      "1/1 [==============================] - 0s 28ms/step\n",
      "1/1 [==============================] - 0s 26ms/step\n"
     ]
    },
    {
     "name": "stderr",
     "output_type": "stream",
     "text": [
      "/var/tmp/rojasolvera/ipykernel_122018/3486713291.py:6: FutureWarning: The frame.append method is deprecated and will be removed from pandas in a future version. Use pandas.concat instead.\n",
      "  outputs=outputs.append(output,sort=False)\n",
      "/var/tmp/rojasolvera/ipykernel_122018/3486713291.py:6: FutureWarning: The frame.append method is deprecated and will be removed from pandas in a future version. Use pandas.concat instead.\n",
      "  outputs=outputs.append(output,sort=False)\n",
      "/var/tmp/rojasolvera/ipykernel_122018/3486713291.py:6: FutureWarning: The frame.append method is deprecated and will be removed from pandas in a future version. Use pandas.concat instead.\n",
      "  outputs=outputs.append(output,sort=False)\n"
     ]
    },
    {
     "name": "stdout",
     "output_type": "stream",
     "text": [
      "1/1 [==============================] - 0s 26ms/step\n",
      "1/1 [==============================] - 0s 26ms/step\n",
      "1/1 [==============================] - 0s 25ms/step\n",
      "1/1 [==============================] - 0s 25ms/step\n"
     ]
    },
    {
     "name": "stderr",
     "output_type": "stream",
     "text": [
      "/var/tmp/rojasolvera/ipykernel_122018/3486713291.py:6: FutureWarning: The frame.append method is deprecated and will be removed from pandas in a future version. Use pandas.concat instead.\n",
      "  outputs=outputs.append(output,sort=False)\n",
      "/var/tmp/rojasolvera/ipykernel_122018/3486713291.py:6: FutureWarning: The frame.append method is deprecated and will be removed from pandas in a future version. Use pandas.concat instead.\n",
      "  outputs=outputs.append(output,sort=False)\n",
      "/var/tmp/rojasolvera/ipykernel_122018/3486713291.py:6: FutureWarning: The frame.append method is deprecated and will be removed from pandas in a future version. Use pandas.concat instead.\n",
      "  outputs=outputs.append(output,sort=False)\n",
      "/var/tmp/rojasolvera/ipykernel_122018/3486713291.py:6: FutureWarning: The frame.append method is deprecated and will be removed from pandas in a future version. Use pandas.concat instead.\n",
      "  outputs=outputs.append(output,sort=False)\n"
     ]
    },
    {
     "name": "stdout",
     "output_type": "stream",
     "text": [
      "1/1 [==============================] - 0s 26ms/step\n",
      "1/1 [==============================] - 0s 25ms/step\n",
      "1/1 [==============================] - 0s 25ms/step\n",
      "1/1 [==============================] - 0s 25ms/step\n"
     ]
    },
    {
     "name": "stderr",
     "output_type": "stream",
     "text": [
      "/var/tmp/rojasolvera/ipykernel_122018/3486713291.py:6: FutureWarning: The frame.append method is deprecated and will be removed from pandas in a future version. Use pandas.concat instead.\n",
      "  outputs=outputs.append(output,sort=False)\n",
      "/var/tmp/rojasolvera/ipykernel_122018/3486713291.py:6: FutureWarning: The frame.append method is deprecated and will be removed from pandas in a future version. Use pandas.concat instead.\n",
      "  outputs=outputs.append(output,sort=False)\n",
      "/var/tmp/rojasolvera/ipykernel_122018/3486713291.py:6: FutureWarning: The frame.append method is deprecated and will be removed from pandas in a future version. Use pandas.concat instead.\n",
      "  outputs=outputs.append(output,sort=False)\n"
     ]
    },
    {
     "name": "stdout",
     "output_type": "stream",
     "text": [
      "1/1 [==============================] - 0s 25ms/step\n",
      "1/1 [==============================] - 0s 26ms/step\n",
      "1/1 [==============================] - 0s 24ms/step\n"
     ]
    },
    {
     "name": "stderr",
     "output_type": "stream",
     "text": [
      "/var/tmp/rojasolvera/ipykernel_122018/3486713291.py:6: FutureWarning: The frame.append method is deprecated and will be removed from pandas in a future version. Use pandas.concat instead.\n",
      "  outputs=outputs.append(output,sort=False)\n",
      "/var/tmp/rojasolvera/ipykernel_122018/3486713291.py:6: FutureWarning: The frame.append method is deprecated and will be removed from pandas in a future version. Use pandas.concat instead.\n",
      "  outputs=outputs.append(output,sort=False)\n",
      "/var/tmp/rojasolvera/ipykernel_122018/3486713291.py:6: FutureWarning: The frame.append method is deprecated and will be removed from pandas in a future version. Use pandas.concat instead.\n",
      "  outputs=outputs.append(output,sort=False)\n",
      "/var/tmp/rojasolvera/ipykernel_122018/3486713291.py:6: FutureWarning: The frame.append method is deprecated and will be removed from pandas in a future version. Use pandas.concat instead.\n",
      "  outputs=outputs.append(output,sort=False)\n"
     ]
    },
    {
     "name": "stdout",
     "output_type": "stream",
     "text": [
      "1/1 [==============================] - 0s 26ms/step\n",
      "1/1 [==============================] - 0s 25ms/step\n",
      "1/1 [==============================] - 0s 25ms/step\n",
      "1/1 [==============================] - 0s 25ms/step\n"
     ]
    },
    {
     "name": "stderr",
     "output_type": "stream",
     "text": [
      "/var/tmp/rojasolvera/ipykernel_122018/3486713291.py:6: FutureWarning: The frame.append method is deprecated and will be removed from pandas in a future version. Use pandas.concat instead.\n",
      "  outputs=outputs.append(output,sort=False)\n",
      "/var/tmp/rojasolvera/ipykernel_122018/3486713291.py:6: FutureWarning: The frame.append method is deprecated and will be removed from pandas in a future version. Use pandas.concat instead.\n",
      "  outputs=outputs.append(output,sort=False)\n",
      "/var/tmp/rojasolvera/ipykernel_122018/3486713291.py:6: FutureWarning: The frame.append method is deprecated and will be removed from pandas in a future version. Use pandas.concat instead.\n",
      "  outputs=outputs.append(output,sort=False)\n",
      "/var/tmp/rojasolvera/ipykernel_122018/3486713291.py:6: FutureWarning: The frame.append method is deprecated and will be removed from pandas in a future version. Use pandas.concat instead.\n",
      "  outputs=outputs.append(output,sort=False)\n"
     ]
    },
    {
     "name": "stdout",
     "output_type": "stream",
     "text": [
      "1/1 [==============================] - 0s 24ms/step\n",
      "1/1 [==============================] - 0s 26ms/step\n",
      "1/1 [==============================] - 0s 26ms/step\n"
     ]
    },
    {
     "name": "stderr",
     "output_type": "stream",
     "text": [
      "/var/tmp/rojasolvera/ipykernel_122018/3486713291.py:6: FutureWarning: The frame.append method is deprecated and will be removed from pandas in a future version. Use pandas.concat instead.\n",
      "  outputs=outputs.append(output,sort=False)\n",
      "/var/tmp/rojasolvera/ipykernel_122018/3486713291.py:6: FutureWarning: The frame.append method is deprecated and will be removed from pandas in a future version. Use pandas.concat instead.\n",
      "  outputs=outputs.append(output,sort=False)\n",
      "/var/tmp/rojasolvera/ipykernel_122018/3486713291.py:6: FutureWarning: The frame.append method is deprecated and will be removed from pandas in a future version. Use pandas.concat instead.\n",
      "  outputs=outputs.append(output,sort=False)\n"
     ]
    },
    {
     "name": "stdout",
     "output_type": "stream",
     "text": [
      "1/1 [==============================] - 0s 26ms/step\n",
      "1/1 [==============================] - 0s 26ms/step\n",
      "1/1 [==============================] - 0s 25ms/step\n"
     ]
    },
    {
     "name": "stderr",
     "output_type": "stream",
     "text": [
      "/var/tmp/rojasolvera/ipykernel_122018/3486713291.py:6: FutureWarning: The frame.append method is deprecated and will be removed from pandas in a future version. Use pandas.concat instead.\n",
      "  outputs=outputs.append(output,sort=False)\n",
      "/var/tmp/rojasolvera/ipykernel_122018/3486713291.py:6: FutureWarning: The frame.append method is deprecated and will be removed from pandas in a future version. Use pandas.concat instead.\n",
      "  outputs=outputs.append(output,sort=False)\n",
      "/var/tmp/rojasolvera/ipykernel_122018/3486713291.py:6: FutureWarning: The frame.append method is deprecated and will be removed from pandas in a future version. Use pandas.concat instead.\n",
      "  outputs=outputs.append(output,sort=False)\n"
     ]
    },
    {
     "name": "stdout",
     "output_type": "stream",
     "text": [
      "1/1 [==============================] - 0s 25ms/step\n",
      "1/1 [==============================] - 0s 25ms/step\n",
      "1/1 [==============================] - 0s 24ms/step\n",
      "1/1 [==============================] - 0s 25ms/step\n"
     ]
    },
    {
     "name": "stderr",
     "output_type": "stream",
     "text": [
      "/var/tmp/rojasolvera/ipykernel_122018/3486713291.py:6: FutureWarning: The frame.append method is deprecated and will be removed from pandas in a future version. Use pandas.concat instead.\n",
      "  outputs=outputs.append(output,sort=False)\n",
      "/var/tmp/rojasolvera/ipykernel_122018/3486713291.py:6: FutureWarning: The frame.append method is deprecated and will be removed from pandas in a future version. Use pandas.concat instead.\n",
      "  outputs=outputs.append(output,sort=False)\n",
      "/var/tmp/rojasolvera/ipykernel_122018/3486713291.py:6: FutureWarning: The frame.append method is deprecated and will be removed from pandas in a future version. Use pandas.concat instead.\n",
      "  outputs=outputs.append(output,sort=False)\n",
      "/var/tmp/rojasolvera/ipykernel_122018/3486713291.py:6: FutureWarning: The frame.append method is deprecated and will be removed from pandas in a future version. Use pandas.concat instead.\n",
      "  outputs=outputs.append(output,sort=False)\n"
     ]
    },
    {
     "name": "stdout",
     "output_type": "stream",
     "text": [
      "1/1 [==============================] - 0s 25ms/step\n",
      "1/1 [==============================] - 0s 23ms/step\n",
      "1/1 [==============================] - 0s 23ms/step\n",
      "1/1 [==============================] - 0s 24ms/step\n"
     ]
    },
    {
     "name": "stderr",
     "output_type": "stream",
     "text": [
      "/var/tmp/rojasolvera/ipykernel_122018/3486713291.py:6: FutureWarning: The frame.append method is deprecated and will be removed from pandas in a future version. Use pandas.concat instead.\n",
      "  outputs=outputs.append(output,sort=False)\n",
      "/var/tmp/rojasolvera/ipykernel_122018/3486713291.py:6: FutureWarning: The frame.append method is deprecated and will be removed from pandas in a future version. Use pandas.concat instead.\n",
      "  outputs=outputs.append(output,sort=False)\n",
      "/var/tmp/rojasolvera/ipykernel_122018/3486713291.py:6: FutureWarning: The frame.append method is deprecated and will be removed from pandas in a future version. Use pandas.concat instead.\n",
      "  outputs=outputs.append(output,sort=False)\n",
      "/var/tmp/rojasolvera/ipykernel_122018/3486713291.py:6: FutureWarning: The frame.append method is deprecated and will be removed from pandas in a future version. Use pandas.concat instead.\n",
      "  outputs=outputs.append(output,sort=False)\n"
     ]
    },
    {
     "name": "stdout",
     "output_type": "stream",
     "text": [
      "1/1 [==============================] - 0s 26ms/step\n",
      "1/1 [==============================] - 0s 25ms/step\n",
      "1/1 [==============================] - 0s 27ms/step\n",
      "1/1 [==============================] - 0s 24ms/step\n"
     ]
    },
    {
     "name": "stderr",
     "output_type": "stream",
     "text": [
      "/var/tmp/rojasolvera/ipykernel_122018/3486713291.py:6: FutureWarning: The frame.append method is deprecated and will be removed from pandas in a future version. Use pandas.concat instead.\n",
      "  outputs=outputs.append(output,sort=False)\n",
      "/var/tmp/rojasolvera/ipykernel_122018/3486713291.py:6: FutureWarning: The frame.append method is deprecated and will be removed from pandas in a future version. Use pandas.concat instead.\n",
      "  outputs=outputs.append(output,sort=False)\n",
      "/var/tmp/rojasolvera/ipykernel_122018/3486713291.py:6: FutureWarning: The frame.append method is deprecated and will be removed from pandas in a future version. Use pandas.concat instead.\n",
      "  outputs=outputs.append(output,sort=False)\n"
     ]
    },
    {
     "name": "stdout",
     "output_type": "stream",
     "text": [
      "1/1 [==============================] - 0s 23ms/step\n",
      "1/1 [==============================] - 0s 23ms/step\n",
      "1/1 [==============================] - 0s 22ms/step\n"
     ]
    },
    {
     "name": "stderr",
     "output_type": "stream",
     "text": [
      "/var/tmp/rojasolvera/ipykernel_122018/3486713291.py:6: FutureWarning: The frame.append method is deprecated and will be removed from pandas in a future version. Use pandas.concat instead.\n",
      "  outputs=outputs.append(output,sort=False)\n",
      "/var/tmp/rojasolvera/ipykernel_122018/3486713291.py:6: FutureWarning: The frame.append method is deprecated and will be removed from pandas in a future version. Use pandas.concat instead.\n",
      "  outputs=outputs.append(output,sort=False)\n",
      "/var/tmp/rojasolvera/ipykernel_122018/3486713291.py:6: FutureWarning: The frame.append method is deprecated and will be removed from pandas in a future version. Use pandas.concat instead.\n",
      "  outputs=outputs.append(output,sort=False)\n",
      "/var/tmp/rojasolvera/ipykernel_122018/3486713291.py:6: FutureWarning: The frame.append method is deprecated and will be removed from pandas in a future version. Use pandas.concat instead.\n",
      "  outputs=outputs.append(output,sort=False)\n"
     ]
    },
    {
     "name": "stdout",
     "output_type": "stream",
     "text": [
      "1/1 [==============================] - 0s 23ms/step\n",
      "1/1 [==============================] - 0s 23ms/step\n",
      "1/1 [==============================] - 0s 23ms/step\n",
      "1/1 [==============================] - 0s 24ms/step\n"
     ]
    },
    {
     "name": "stderr",
     "output_type": "stream",
     "text": [
      "/var/tmp/rojasolvera/ipykernel_122018/3486713291.py:6: FutureWarning: The frame.append method is deprecated and will be removed from pandas in a future version. Use pandas.concat instead.\n",
      "  outputs=outputs.append(output,sort=False)\n",
      "/var/tmp/rojasolvera/ipykernel_122018/3486713291.py:6: FutureWarning: The frame.append method is deprecated and will be removed from pandas in a future version. Use pandas.concat instead.\n",
      "  outputs=outputs.append(output,sort=False)\n",
      "/var/tmp/rojasolvera/ipykernel_122018/3486713291.py:6: FutureWarning: The frame.append method is deprecated and will be removed from pandas in a future version. Use pandas.concat instead.\n",
      "  outputs=outputs.append(output,sort=False)\n",
      "/var/tmp/rojasolvera/ipykernel_122018/3486713291.py:6: FutureWarning: The frame.append method is deprecated and will be removed from pandas in a future version. Use pandas.concat instead.\n",
      "  outputs=outputs.append(output,sort=False)\n"
     ]
    },
    {
     "name": "stdout",
     "output_type": "stream",
     "text": [
      "1/1 [==============================] - 0s 24ms/step\n",
      "1/1 [==============================] - 0s 23ms/step\n",
      "1/1 [==============================] - 0s 23ms/step\n",
      "1/1 [==============================] - 0s 23ms/step\n"
     ]
    },
    {
     "name": "stderr",
     "output_type": "stream",
     "text": [
      "/var/tmp/rojasolvera/ipykernel_122018/3486713291.py:6: FutureWarning: The frame.append method is deprecated and will be removed from pandas in a future version. Use pandas.concat instead.\n",
      "  outputs=outputs.append(output,sort=False)\n",
      "/var/tmp/rojasolvera/ipykernel_122018/3486713291.py:6: FutureWarning: The frame.append method is deprecated and will be removed from pandas in a future version. Use pandas.concat instead.\n",
      "  outputs=outputs.append(output,sort=False)\n",
      "/var/tmp/rojasolvera/ipykernel_122018/3486713291.py:6: FutureWarning: The frame.append method is deprecated and will be removed from pandas in a future version. Use pandas.concat instead.\n",
      "  outputs=outputs.append(output,sort=False)\n",
      "/var/tmp/rojasolvera/ipykernel_122018/3486713291.py:6: FutureWarning: The frame.append method is deprecated and will be removed from pandas in a future version. Use pandas.concat instead.\n",
      "  outputs=outputs.append(output,sort=False)\n"
     ]
    },
    {
     "name": "stdout",
     "output_type": "stream",
     "text": [
      "1/1 [==============================] - 0s 23ms/step\n",
      "1/1 [==============================] - 0s 22ms/step\n",
      "1/1 [==============================] - 0s 22ms/step\n",
      "1/1 [==============================] - 0s 22ms/step\n"
     ]
    },
    {
     "name": "stderr",
     "output_type": "stream",
     "text": [
      "/var/tmp/rojasolvera/ipykernel_122018/3486713291.py:6: FutureWarning: The frame.append method is deprecated and will be removed from pandas in a future version. Use pandas.concat instead.\n",
      "  outputs=outputs.append(output,sort=False)\n",
      "/var/tmp/rojasolvera/ipykernel_122018/3486713291.py:6: FutureWarning: The frame.append method is deprecated and will be removed from pandas in a future version. Use pandas.concat instead.\n",
      "  outputs=outputs.append(output,sort=False)\n",
      "/var/tmp/rojasolvera/ipykernel_122018/3486713291.py:6: FutureWarning: The frame.append method is deprecated and will be removed from pandas in a future version. Use pandas.concat instead.\n",
      "  outputs=outputs.append(output,sort=False)\n",
      "/var/tmp/rojasolvera/ipykernel_122018/3486713291.py:6: FutureWarning: The frame.append method is deprecated and will be removed from pandas in a future version. Use pandas.concat instead.\n",
      "  outputs=outputs.append(output,sort=False)\n"
     ]
    },
    {
     "name": "stdout",
     "output_type": "stream",
     "text": [
      "1/1 [==============================] - 0s 22ms/step\n",
      "1/1 [==============================] - 0s 23ms/step\n",
      "1/1 [==============================] - 0s 23ms/step\n",
      "1/1 [==============================] - 0s 23ms/step\n"
     ]
    },
    {
     "name": "stderr",
     "output_type": "stream",
     "text": [
      "/var/tmp/rojasolvera/ipykernel_122018/3486713291.py:6: FutureWarning: The frame.append method is deprecated and will be removed from pandas in a future version. Use pandas.concat instead.\n",
      "  outputs=outputs.append(output,sort=False)\n",
      "/var/tmp/rojasolvera/ipykernel_122018/3486713291.py:6: FutureWarning: The frame.append method is deprecated and will be removed from pandas in a future version. Use pandas.concat instead.\n",
      "  outputs=outputs.append(output,sort=False)\n",
      "/var/tmp/rojasolvera/ipykernel_122018/3486713291.py:6: FutureWarning: The frame.append method is deprecated and will be removed from pandas in a future version. Use pandas.concat instead.\n",
      "  outputs=outputs.append(output,sort=False)\n",
      "/var/tmp/rojasolvera/ipykernel_122018/3486713291.py:6: FutureWarning: The frame.append method is deprecated and will be removed from pandas in a future version. Use pandas.concat instead.\n",
      "  outputs=outputs.append(output,sort=False)\n"
     ]
    },
    {
     "name": "stdout",
     "output_type": "stream",
     "text": [
      "1/1 [==============================] - 0s 22ms/step\n",
      "1/1 [==============================] - 0s 22ms/step\n",
      "1/1 [==============================] - 0s 22ms/step\n",
      "1/1 [==============================] - 0s 21ms/step\n"
     ]
    },
    {
     "name": "stderr",
     "output_type": "stream",
     "text": [
      "/var/tmp/rojasolvera/ipykernel_122018/3486713291.py:6: FutureWarning: The frame.append method is deprecated and will be removed from pandas in a future version. Use pandas.concat instead.\n",
      "  outputs=outputs.append(output,sort=False)\n",
      "/var/tmp/rojasolvera/ipykernel_122018/3486713291.py:6: FutureWarning: The frame.append method is deprecated and will be removed from pandas in a future version. Use pandas.concat instead.\n",
      "  outputs=outputs.append(output,sort=False)\n",
      "/var/tmp/rojasolvera/ipykernel_122018/3486713291.py:6: FutureWarning: The frame.append method is deprecated and will be removed from pandas in a future version. Use pandas.concat instead.\n",
      "  outputs=outputs.append(output,sort=False)\n",
      "/var/tmp/rojasolvera/ipykernel_122018/3486713291.py:6: FutureWarning: The frame.append method is deprecated and will be removed from pandas in a future version. Use pandas.concat instead.\n",
      "  outputs=outputs.append(output,sort=False)\n"
     ]
    },
    {
     "name": "stdout",
     "output_type": "stream",
     "text": [
      "1/1 [==============================] - 0s 21ms/step\n",
      "1/1 [==============================] - 0s 21ms/step\n",
      "1/1 [==============================] - 0s 20ms/step\n",
      "1/1 [==============================] - 0s 21ms/step\n"
     ]
    },
    {
     "name": "stderr",
     "output_type": "stream",
     "text": [
      "/var/tmp/rojasolvera/ipykernel_122018/3486713291.py:6: FutureWarning: The frame.append method is deprecated and will be removed from pandas in a future version. Use pandas.concat instead.\n",
      "  outputs=outputs.append(output,sort=False)\n",
      "/var/tmp/rojasolvera/ipykernel_122018/3486713291.py:6: FutureWarning: The frame.append method is deprecated and will be removed from pandas in a future version. Use pandas.concat instead.\n",
      "  outputs=outputs.append(output,sort=False)\n",
      "/var/tmp/rojasolvera/ipykernel_122018/3486713291.py:6: FutureWarning: The frame.append method is deprecated and will be removed from pandas in a future version. Use pandas.concat instead.\n",
      "  outputs=outputs.append(output,sort=False)\n",
      "/var/tmp/rojasolvera/ipykernel_122018/3486713291.py:6: FutureWarning: The frame.append method is deprecated and will be removed from pandas in a future version. Use pandas.concat instead.\n",
      "  outputs=outputs.append(output,sort=False)\n"
     ]
    },
    {
     "name": "stdout",
     "output_type": "stream",
     "text": [
      "1/1 [==============================] - 0s 24ms/step\n",
      "1/1 [==============================] - 0s 22ms/step\n",
      "1/1 [==============================] - 0s 22ms/step\n",
      "1/1 [==============================] - 0s 22ms/step\n"
     ]
    },
    {
     "name": "stderr",
     "output_type": "stream",
     "text": [
      "/var/tmp/rojasolvera/ipykernel_122018/3486713291.py:6: FutureWarning: The frame.append method is deprecated and will be removed from pandas in a future version. Use pandas.concat instead.\n",
      "  outputs=outputs.append(output,sort=False)\n",
      "/var/tmp/rojasolvera/ipykernel_122018/3486713291.py:6: FutureWarning: The frame.append method is deprecated and will be removed from pandas in a future version. Use pandas.concat instead.\n",
      "  outputs=outputs.append(output,sort=False)\n",
      "/var/tmp/rojasolvera/ipykernel_122018/3486713291.py:6: FutureWarning: The frame.append method is deprecated and will be removed from pandas in a future version. Use pandas.concat instead.\n",
      "  outputs=outputs.append(output,sort=False)\n",
      "/var/tmp/rojasolvera/ipykernel_122018/3486713291.py:6: FutureWarning: The frame.append method is deprecated and will be removed from pandas in a future version. Use pandas.concat instead.\n",
      "  outputs=outputs.append(output,sort=False)\n"
     ]
    },
    {
     "name": "stdout",
     "output_type": "stream",
     "text": [
      "1/1 [==============================] - 0s 22ms/step\n",
      "1/1 [==============================] - 0s 22ms/step\n",
      "1/1 [==============================] - 0s 20ms/step\n",
      "1/1 [==============================] - 0s 21ms/step\n"
     ]
    },
    {
     "name": "stderr",
     "output_type": "stream",
     "text": [
      "/var/tmp/rojasolvera/ipykernel_122018/3486713291.py:6: FutureWarning: The frame.append method is deprecated and will be removed from pandas in a future version. Use pandas.concat instead.\n",
      "  outputs=outputs.append(output,sort=False)\n",
      "/var/tmp/rojasolvera/ipykernel_122018/3486713291.py:6: FutureWarning: The frame.append method is deprecated and will be removed from pandas in a future version. Use pandas.concat instead.\n",
      "  outputs=outputs.append(output,sort=False)\n",
      "/var/tmp/rojasolvera/ipykernel_122018/3486713291.py:6: FutureWarning: The frame.append method is deprecated and will be removed from pandas in a future version. Use pandas.concat instead.\n",
      "  outputs=outputs.append(output,sort=False)\n",
      "/var/tmp/rojasolvera/ipykernel_122018/3486713291.py:6: FutureWarning: The frame.append method is deprecated and will be removed from pandas in a future version. Use pandas.concat instead.\n",
      "  outputs=outputs.append(output,sort=False)\n"
     ]
    },
    {
     "name": "stdout",
     "output_type": "stream",
     "text": [
      "1/1 [==============================] - 0s 21ms/step\n",
      "1/1 [==============================] - 0s 22ms/step\n",
      "1/1 [==============================] - 0s 21ms/step\n",
      "1/1 [==============================] - 0s 23ms/step\n"
     ]
    },
    {
     "name": "stderr",
     "output_type": "stream",
     "text": [
      "/var/tmp/rojasolvera/ipykernel_122018/3486713291.py:6: FutureWarning: The frame.append method is deprecated and will be removed from pandas in a future version. Use pandas.concat instead.\n",
      "  outputs=outputs.append(output,sort=False)\n",
      "/var/tmp/rojasolvera/ipykernel_122018/3486713291.py:6: FutureWarning: The frame.append method is deprecated and will be removed from pandas in a future version. Use pandas.concat instead.\n",
      "  outputs=outputs.append(output,sort=False)\n",
      "/var/tmp/rojasolvera/ipykernel_122018/3486713291.py:6: FutureWarning: The frame.append method is deprecated and will be removed from pandas in a future version. Use pandas.concat instead.\n",
      "  outputs=outputs.append(output,sort=False)\n",
      "/var/tmp/rojasolvera/ipykernel_122018/3486713291.py:6: FutureWarning: The frame.append method is deprecated and will be removed from pandas in a future version. Use pandas.concat instead.\n",
      "  outputs=outputs.append(output,sort=False)\n"
     ]
    },
    {
     "name": "stdout",
     "output_type": "stream",
     "text": [
      "1/1 [==============================] - 0s 22ms/step\n",
      "1/1 [==============================] - 0s 22ms/step\n",
      "1/1 [==============================] - 0s 22ms/step\n",
      "1/1 [==============================] - 0s 21ms/step\n"
     ]
    },
    {
     "name": "stderr",
     "output_type": "stream",
     "text": [
      "/var/tmp/rojasolvera/ipykernel_122018/3486713291.py:6: FutureWarning: The frame.append method is deprecated and will be removed from pandas in a future version. Use pandas.concat instead.\n",
      "  outputs=outputs.append(output,sort=False)\n",
      "/var/tmp/rojasolvera/ipykernel_122018/3486713291.py:6: FutureWarning: The frame.append method is deprecated and will be removed from pandas in a future version. Use pandas.concat instead.\n",
      "  outputs=outputs.append(output,sort=False)\n",
      "/var/tmp/rojasolvera/ipykernel_122018/3486713291.py:6: FutureWarning: The frame.append method is deprecated and will be removed from pandas in a future version. Use pandas.concat instead.\n",
      "  outputs=outputs.append(output,sort=False)\n",
      "/var/tmp/rojasolvera/ipykernel_122018/3486713291.py:6: FutureWarning: The frame.append method is deprecated and will be removed from pandas in a future version. Use pandas.concat instead.\n",
      "  outputs=outputs.append(output,sort=False)\n"
     ]
    },
    {
     "name": "stdout",
     "output_type": "stream",
     "text": [
      "1/1 [==============================] - 0s 22ms/step\n",
      "1/1 [==============================] - 0s 21ms/step\n",
      "1/1 [==============================] - 0s 21ms/step\n",
      "1/1 [==============================] - 0s 21ms/step\n"
     ]
    },
    {
     "name": "stderr",
     "output_type": "stream",
     "text": [
      "/var/tmp/rojasolvera/ipykernel_122018/3486713291.py:6: FutureWarning: The frame.append method is deprecated and will be removed from pandas in a future version. Use pandas.concat instead.\n",
      "  outputs=outputs.append(output,sort=False)\n",
      "/var/tmp/rojasolvera/ipykernel_122018/3486713291.py:6: FutureWarning: The frame.append method is deprecated and will be removed from pandas in a future version. Use pandas.concat instead.\n",
      "  outputs=outputs.append(output,sort=False)\n",
      "/var/tmp/rojasolvera/ipykernel_122018/3486713291.py:6: FutureWarning: The frame.append method is deprecated and will be removed from pandas in a future version. Use pandas.concat instead.\n",
      "  outputs=outputs.append(output,sort=False)\n",
      "/var/tmp/rojasolvera/ipykernel_122018/3486713291.py:6: FutureWarning: The frame.append method is deprecated and will be removed from pandas in a future version. Use pandas.concat instead.\n",
      "  outputs=outputs.append(output,sort=False)\n"
     ]
    },
    {
     "name": "stdout",
     "output_type": "stream",
     "text": [
      "1/1 [==============================] - 0s 21ms/step\n",
      "1/1 [==============================] - 0s 22ms/step\n",
      "1/1 [==============================] - 0s 23ms/step\n",
      "1/1 [==============================] - 0s 22ms/step\n"
     ]
    },
    {
     "name": "stderr",
     "output_type": "stream",
     "text": [
      "/var/tmp/rojasolvera/ipykernel_122018/3486713291.py:6: FutureWarning: The frame.append method is deprecated and will be removed from pandas in a future version. Use pandas.concat instead.\n",
      "  outputs=outputs.append(output,sort=False)\n",
      "/var/tmp/rojasolvera/ipykernel_122018/3486713291.py:6: FutureWarning: The frame.append method is deprecated and will be removed from pandas in a future version. Use pandas.concat instead.\n",
      "  outputs=outputs.append(output,sort=False)\n",
      "/var/tmp/rojasolvera/ipykernel_122018/3486713291.py:6: FutureWarning: The frame.append method is deprecated and will be removed from pandas in a future version. Use pandas.concat instead.\n",
      "  outputs=outputs.append(output,sort=False)\n",
      "/var/tmp/rojasolvera/ipykernel_122018/3486713291.py:6: FutureWarning: The frame.append method is deprecated and will be removed from pandas in a future version. Use pandas.concat instead.\n",
      "  outputs=outputs.append(output,sort=False)\n"
     ]
    },
    {
     "name": "stdout",
     "output_type": "stream",
     "text": [
      "1/1 [==============================] - 0s 22ms/step\n",
      "1/1 [==============================] - 0s 21ms/step\n",
      "1/1 [==============================] - 0s 22ms/step\n",
      "1/1 [==============================] - 0s 21ms/step\n"
     ]
    },
    {
     "name": "stderr",
     "output_type": "stream",
     "text": [
      "/var/tmp/rojasolvera/ipykernel_122018/3486713291.py:6: FutureWarning: The frame.append method is deprecated and will be removed from pandas in a future version. Use pandas.concat instead.\n",
      "  outputs=outputs.append(output,sort=False)\n",
      "/var/tmp/rojasolvera/ipykernel_122018/3486713291.py:6: FutureWarning: The frame.append method is deprecated and will be removed from pandas in a future version. Use pandas.concat instead.\n",
      "  outputs=outputs.append(output,sort=False)\n",
      "/var/tmp/rojasolvera/ipykernel_122018/3486713291.py:6: FutureWarning: The frame.append method is deprecated and will be removed from pandas in a future version. Use pandas.concat instead.\n",
      "  outputs=outputs.append(output,sort=False)\n",
      "/var/tmp/rojasolvera/ipykernel_122018/3486713291.py:6: FutureWarning: The frame.append method is deprecated and will be removed from pandas in a future version. Use pandas.concat instead.\n",
      "  outputs=outputs.append(output,sort=False)\n"
     ]
    },
    {
     "name": "stdout",
     "output_type": "stream",
     "text": [
      "1/1 [==============================] - 0s 22ms/step\n",
      "1/1 [==============================] - 0s 22ms/step\n",
      "1/1 [==============================] - 0s 21ms/step\n",
      "1/1 [==============================] - 0s 23ms/step\n"
     ]
    },
    {
     "name": "stderr",
     "output_type": "stream",
     "text": [
      "/var/tmp/rojasolvera/ipykernel_122018/3486713291.py:6: FutureWarning: The frame.append method is deprecated and will be removed from pandas in a future version. Use pandas.concat instead.\n",
      "  outputs=outputs.append(output,sort=False)\n",
      "/var/tmp/rojasolvera/ipykernel_122018/3486713291.py:6: FutureWarning: The frame.append method is deprecated and will be removed from pandas in a future version. Use pandas.concat instead.\n",
      "  outputs=outputs.append(output,sort=False)\n",
      "/var/tmp/rojasolvera/ipykernel_122018/3486713291.py:6: FutureWarning: The frame.append method is deprecated and will be removed from pandas in a future version. Use pandas.concat instead.\n",
      "  outputs=outputs.append(output,sort=False)\n",
      "/var/tmp/rojasolvera/ipykernel_122018/3486713291.py:6: FutureWarning: The frame.append method is deprecated and will be removed from pandas in a future version. Use pandas.concat instead.\n",
      "  outputs=outputs.append(output,sort=False)\n"
     ]
    },
    {
     "name": "stdout",
     "output_type": "stream",
     "text": [
      "1/1 [==============================] - 0s 22ms/step\n",
      "1/1 [==============================] - 0s 22ms/step\n",
      "1/1 [==============================] - 0s 23ms/step\n",
      "1/1 [==============================] - 0s 22ms/step\n"
     ]
    },
    {
     "name": "stderr",
     "output_type": "stream",
     "text": [
      "/var/tmp/rojasolvera/ipykernel_122018/3486713291.py:6: FutureWarning: The frame.append method is deprecated and will be removed from pandas in a future version. Use pandas.concat instead.\n",
      "  outputs=outputs.append(output,sort=False)\n",
      "/var/tmp/rojasolvera/ipykernel_122018/3486713291.py:6: FutureWarning: The frame.append method is deprecated and will be removed from pandas in a future version. Use pandas.concat instead.\n",
      "  outputs=outputs.append(output,sort=False)\n",
      "/var/tmp/rojasolvera/ipykernel_122018/3486713291.py:6: FutureWarning: The frame.append method is deprecated and will be removed from pandas in a future version. Use pandas.concat instead.\n",
      "  outputs=outputs.append(output,sort=False)\n",
      "/var/tmp/rojasolvera/ipykernel_122018/3486713291.py:6: FutureWarning: The frame.append method is deprecated and will be removed from pandas in a future version. Use pandas.concat instead.\n",
      "  outputs=outputs.append(output,sort=False)\n"
     ]
    },
    {
     "name": "stdout",
     "output_type": "stream",
     "text": [
      "1/1 [==============================] - 0s 22ms/step\n",
      "1/1 [==============================] - 0s 23ms/step\n",
      "1/1 [==============================] - 0s 23ms/step\n",
      "1/1 [==============================] - 0s 22ms/step\n"
     ]
    },
    {
     "name": "stderr",
     "output_type": "stream",
     "text": [
      "/var/tmp/rojasolvera/ipykernel_122018/3486713291.py:6: FutureWarning: The frame.append method is deprecated and will be removed from pandas in a future version. Use pandas.concat instead.\n",
      "  outputs=outputs.append(output,sort=False)\n",
      "/var/tmp/rojasolvera/ipykernel_122018/3486713291.py:6: FutureWarning: The frame.append method is deprecated and will be removed from pandas in a future version. Use pandas.concat instead.\n",
      "  outputs=outputs.append(output,sort=False)\n",
      "/var/tmp/rojasolvera/ipykernel_122018/3486713291.py:6: FutureWarning: The frame.append method is deprecated and will be removed from pandas in a future version. Use pandas.concat instead.\n",
      "  outputs=outputs.append(output,sort=False)\n",
      "/var/tmp/rojasolvera/ipykernel_122018/3486713291.py:6: FutureWarning: The frame.append method is deprecated and will be removed from pandas in a future version. Use pandas.concat instead.\n",
      "  outputs=outputs.append(output,sort=False)\n"
     ]
    },
    {
     "name": "stdout",
     "output_type": "stream",
     "text": [
      "1/1 [==============================] - 0s 23ms/step\n",
      "1/1 [==============================] - 0s 22ms/step\n",
      "1/1 [==============================] - 0s 22ms/step\n",
      "1/1 [==============================] - 0s 21ms/step\n"
     ]
    },
    {
     "name": "stderr",
     "output_type": "stream",
     "text": [
      "/var/tmp/rojasolvera/ipykernel_122018/3486713291.py:6: FutureWarning: The frame.append method is deprecated and will be removed from pandas in a future version. Use pandas.concat instead.\n",
      "  outputs=outputs.append(output,sort=False)\n",
      "/var/tmp/rojasolvera/ipykernel_122018/3486713291.py:6: FutureWarning: The frame.append method is deprecated and will be removed from pandas in a future version. Use pandas.concat instead.\n",
      "  outputs=outputs.append(output,sort=False)\n",
      "/var/tmp/rojasolvera/ipykernel_122018/3486713291.py:6: FutureWarning: The frame.append method is deprecated and will be removed from pandas in a future version. Use pandas.concat instead.\n",
      "  outputs=outputs.append(output,sort=False)\n",
      "/var/tmp/rojasolvera/ipykernel_122018/3486713291.py:6: FutureWarning: The frame.append method is deprecated and will be removed from pandas in a future version. Use pandas.concat instead.\n",
      "  outputs=outputs.append(output,sort=False)\n"
     ]
    },
    {
     "name": "stdout",
     "output_type": "stream",
     "text": [
      "1/1 [==============================] - 0s 23ms/step\n",
      "1/1 [==============================] - 0s 21ms/step\n",
      "1/1 [==============================] - 0s 22ms/step\n",
      "1/1 [==============================] - 0s 22ms/step\n"
     ]
    },
    {
     "name": "stderr",
     "output_type": "stream",
     "text": [
      "/var/tmp/rojasolvera/ipykernel_122018/3486713291.py:6: FutureWarning: The frame.append method is deprecated and will be removed from pandas in a future version. Use pandas.concat instead.\n",
      "  outputs=outputs.append(output,sort=False)\n",
      "/var/tmp/rojasolvera/ipykernel_122018/3486713291.py:6: FutureWarning: The frame.append method is deprecated and will be removed from pandas in a future version. Use pandas.concat instead.\n",
      "  outputs=outputs.append(output,sort=False)\n",
      "/var/tmp/rojasolvera/ipykernel_122018/3486713291.py:6: FutureWarning: The frame.append method is deprecated and will be removed from pandas in a future version. Use pandas.concat instead.\n",
      "  outputs=outputs.append(output,sort=False)\n",
      "/var/tmp/rojasolvera/ipykernel_122018/3486713291.py:6: FutureWarning: The frame.append method is deprecated and will be removed from pandas in a future version. Use pandas.concat instead.\n",
      "  outputs=outputs.append(output,sort=False)\n"
     ]
    },
    {
     "name": "stdout",
     "output_type": "stream",
     "text": [
      "1/1 [==============================] - 0s 22ms/step\n",
      "1/1 [==============================] - 0s 22ms/step\n",
      "1/1 [==============================] - 0s 21ms/step\n",
      "1/1 [==============================] - 0s 21ms/step\n"
     ]
    },
    {
     "name": "stderr",
     "output_type": "stream",
     "text": [
      "/var/tmp/rojasolvera/ipykernel_122018/3486713291.py:6: FutureWarning: The frame.append method is deprecated and will be removed from pandas in a future version. Use pandas.concat instead.\n",
      "  outputs=outputs.append(output,sort=False)\n",
      "/var/tmp/rojasolvera/ipykernel_122018/3486713291.py:6: FutureWarning: The frame.append method is deprecated and will be removed from pandas in a future version. Use pandas.concat instead.\n",
      "  outputs=outputs.append(output,sort=False)\n",
      "/var/tmp/rojasolvera/ipykernel_122018/3486713291.py:6: FutureWarning: The frame.append method is deprecated and will be removed from pandas in a future version. Use pandas.concat instead.\n",
      "  outputs=outputs.append(output,sort=False)\n",
      "/var/tmp/rojasolvera/ipykernel_122018/3486713291.py:6: FutureWarning: The frame.append method is deprecated and will be removed from pandas in a future version. Use pandas.concat instead.\n",
      "  outputs=outputs.append(output,sort=False)\n"
     ]
    },
    {
     "name": "stdout",
     "output_type": "stream",
     "text": [
      "1/1 [==============================] - 0s 22ms/step\n",
      "1/1 [==============================] - 0s 22ms/step\n",
      "1/1 [==============================] - 0s 21ms/step\n",
      "1/1 [==============================] - 0s 22ms/step\n"
     ]
    },
    {
     "name": "stderr",
     "output_type": "stream",
     "text": [
      "/var/tmp/rojasolvera/ipykernel_122018/3486713291.py:6: FutureWarning: The frame.append method is deprecated and will be removed from pandas in a future version. Use pandas.concat instead.\n",
      "  outputs=outputs.append(output,sort=False)\n",
      "/var/tmp/rojasolvera/ipykernel_122018/3486713291.py:6: FutureWarning: The frame.append method is deprecated and will be removed from pandas in a future version. Use pandas.concat instead.\n",
      "  outputs=outputs.append(output,sort=False)\n",
      "/var/tmp/rojasolvera/ipykernel_122018/3486713291.py:6: FutureWarning: The frame.append method is deprecated and will be removed from pandas in a future version. Use pandas.concat instead.\n",
      "  outputs=outputs.append(output,sort=False)\n",
      "/var/tmp/rojasolvera/ipykernel_122018/3486713291.py:6: FutureWarning: The frame.append method is deprecated and will be removed from pandas in a future version. Use pandas.concat instead.\n",
      "  outputs=outputs.append(output,sort=False)\n"
     ]
    },
    {
     "name": "stdout",
     "output_type": "stream",
     "text": [
      "1/1 [==============================] - 0s 22ms/step\n",
      "1/1 [==============================] - 0s 22ms/step\n",
      "1/1 [==============================] - 0s 21ms/step\n",
      "1/1 [==============================] - 0s 21ms/step\n"
     ]
    },
    {
     "name": "stderr",
     "output_type": "stream",
     "text": [
      "/var/tmp/rojasolvera/ipykernel_122018/3486713291.py:6: FutureWarning: The frame.append method is deprecated and will be removed from pandas in a future version. Use pandas.concat instead.\n",
      "  outputs=outputs.append(output,sort=False)\n",
      "/var/tmp/rojasolvera/ipykernel_122018/3486713291.py:6: FutureWarning: The frame.append method is deprecated and will be removed from pandas in a future version. Use pandas.concat instead.\n",
      "  outputs=outputs.append(output,sort=False)\n",
      "/var/tmp/rojasolvera/ipykernel_122018/3486713291.py:6: FutureWarning: The frame.append method is deprecated and will be removed from pandas in a future version. Use pandas.concat instead.\n",
      "  outputs=outputs.append(output,sort=False)\n",
      "/var/tmp/rojasolvera/ipykernel_122018/3486713291.py:6: FutureWarning: The frame.append method is deprecated and will be removed from pandas in a future version. Use pandas.concat instead.\n",
      "  outputs=outputs.append(output,sort=False)\n"
     ]
    },
    {
     "name": "stdout",
     "output_type": "stream",
     "text": [
      "1/1 [==============================] - 0s 22ms/step\n",
      "1/1 [==============================] - 0s 22ms/step\n",
      "1/1 [==============================] - 0s 21ms/step\n",
      "1/1 [==============================] - 0s 21ms/step\n"
     ]
    },
    {
     "name": "stderr",
     "output_type": "stream",
     "text": [
      "/var/tmp/rojasolvera/ipykernel_122018/3486713291.py:6: FutureWarning: The frame.append method is deprecated and will be removed from pandas in a future version. Use pandas.concat instead.\n",
      "  outputs=outputs.append(output,sort=False)\n",
      "/var/tmp/rojasolvera/ipykernel_122018/3486713291.py:6: FutureWarning: The frame.append method is deprecated and will be removed from pandas in a future version. Use pandas.concat instead.\n",
      "  outputs=outputs.append(output,sort=False)\n",
      "/var/tmp/rojasolvera/ipykernel_122018/3486713291.py:6: FutureWarning: The frame.append method is deprecated and will be removed from pandas in a future version. Use pandas.concat instead.\n",
      "  outputs=outputs.append(output,sort=False)\n",
      "/var/tmp/rojasolvera/ipykernel_122018/3486713291.py:6: FutureWarning: The frame.append method is deprecated and will be removed from pandas in a future version. Use pandas.concat instead.\n",
      "  outputs=outputs.append(output,sort=False)\n"
     ]
    },
    {
     "name": "stdout",
     "output_type": "stream",
     "text": [
      "1/1 [==============================] - 0s 23ms/step\n",
      "1/1 [==============================] - 0s 22ms/step\n",
      "1/1 [==============================] - 0s 22ms/step\n",
      "1/1 [==============================] - 0s 21ms/step\n"
     ]
    },
    {
     "name": "stderr",
     "output_type": "stream",
     "text": [
      "/var/tmp/rojasolvera/ipykernel_122018/3486713291.py:6: FutureWarning: The frame.append method is deprecated and will be removed from pandas in a future version. Use pandas.concat instead.\n",
      "  outputs=outputs.append(output,sort=False)\n",
      "/var/tmp/rojasolvera/ipykernel_122018/3486713291.py:6: FutureWarning: The frame.append method is deprecated and will be removed from pandas in a future version. Use pandas.concat instead.\n",
      "  outputs=outputs.append(output,sort=False)\n",
      "/var/tmp/rojasolvera/ipykernel_122018/3486713291.py:6: FutureWarning: The frame.append method is deprecated and will be removed from pandas in a future version. Use pandas.concat instead.\n",
      "  outputs=outputs.append(output,sort=False)\n",
      "/var/tmp/rojasolvera/ipykernel_122018/3486713291.py:6: FutureWarning: The frame.append method is deprecated and will be removed from pandas in a future version. Use pandas.concat instead.\n",
      "  outputs=outputs.append(output,sort=False)\n"
     ]
    },
    {
     "name": "stdout",
     "output_type": "stream",
     "text": [
      "1/1 [==============================] - 0s 31ms/step\n",
      "1/1 [==============================] - 0s 21ms/step\n",
      "1/1 [==============================] - 0s 22ms/step\n",
      "1/1 [==============================] - 0s 21ms/step\n"
     ]
    },
    {
     "name": "stderr",
     "output_type": "stream",
     "text": [
      "/var/tmp/rojasolvera/ipykernel_122018/3486713291.py:6: FutureWarning: The frame.append method is deprecated and will be removed from pandas in a future version. Use pandas.concat instead.\n",
      "  outputs=outputs.append(output,sort=False)\n",
      "/var/tmp/rojasolvera/ipykernel_122018/3486713291.py:6: FutureWarning: The frame.append method is deprecated and will be removed from pandas in a future version. Use pandas.concat instead.\n",
      "  outputs=outputs.append(output,sort=False)\n",
      "/var/tmp/rojasolvera/ipykernel_122018/3486713291.py:6: FutureWarning: The frame.append method is deprecated and will be removed from pandas in a future version. Use pandas.concat instead.\n",
      "  outputs=outputs.append(output,sort=False)\n",
      "/var/tmp/rojasolvera/ipykernel_122018/3486713291.py:6: FutureWarning: The frame.append method is deprecated and will be removed from pandas in a future version. Use pandas.concat instead.\n",
      "  outputs=outputs.append(output,sort=False)\n"
     ]
    },
    {
     "name": "stdout",
     "output_type": "stream",
     "text": [
      "1/1 [==============================] - 0s 23ms/step\n",
      "1/1 [==============================] - 0s 22ms/step\n",
      "1/1 [==============================] - 0s 23ms/step\n",
      "1/1 [==============================] - 0s 22ms/step\n"
     ]
    },
    {
     "name": "stderr",
     "output_type": "stream",
     "text": [
      "/var/tmp/rojasolvera/ipykernel_122018/3486713291.py:6: FutureWarning: The frame.append method is deprecated and will be removed from pandas in a future version. Use pandas.concat instead.\n",
      "  outputs=outputs.append(output,sort=False)\n",
      "/var/tmp/rojasolvera/ipykernel_122018/3486713291.py:6: FutureWarning: The frame.append method is deprecated and will be removed from pandas in a future version. Use pandas.concat instead.\n",
      "  outputs=outputs.append(output,sort=False)\n",
      "/var/tmp/rojasolvera/ipykernel_122018/3486713291.py:6: FutureWarning: The frame.append method is deprecated and will be removed from pandas in a future version. Use pandas.concat instead.\n",
      "  outputs=outputs.append(output,sort=False)\n",
      "/var/tmp/rojasolvera/ipykernel_122018/3486713291.py:6: FutureWarning: The frame.append method is deprecated and will be removed from pandas in a future version. Use pandas.concat instead.\n",
      "  outputs=outputs.append(output,sort=False)\n"
     ]
    },
    {
     "name": "stdout",
     "output_type": "stream",
     "text": [
      "1/1 [==============================] - 0s 22ms/step\n",
      "1/1 [==============================] - 0s 22ms/step\n",
      "1/1 [==============================] - 0s 21ms/step\n",
      "1/1 [==============================] - 0s 21ms/step\n"
     ]
    },
    {
     "name": "stderr",
     "output_type": "stream",
     "text": [
      "/var/tmp/rojasolvera/ipykernel_122018/3486713291.py:6: FutureWarning: The frame.append method is deprecated and will be removed from pandas in a future version. Use pandas.concat instead.\n",
      "  outputs=outputs.append(output,sort=False)\n",
      "/var/tmp/rojasolvera/ipykernel_122018/3486713291.py:6: FutureWarning: The frame.append method is deprecated and will be removed from pandas in a future version. Use pandas.concat instead.\n",
      "  outputs=outputs.append(output,sort=False)\n",
      "/var/tmp/rojasolvera/ipykernel_122018/3486713291.py:6: FutureWarning: The frame.append method is deprecated and will be removed from pandas in a future version. Use pandas.concat instead.\n",
      "  outputs=outputs.append(output,sort=False)\n",
      "/var/tmp/rojasolvera/ipykernel_122018/3486713291.py:6: FutureWarning: The frame.append method is deprecated and will be removed from pandas in a future version. Use pandas.concat instead.\n",
      "  outputs=outputs.append(output,sort=False)\n"
     ]
    },
    {
     "name": "stdout",
     "output_type": "stream",
     "text": [
      "1/1 [==============================] - 0s 22ms/step\n",
      "1/1 [==============================] - 0s 21ms/step\n",
      "1/1 [==============================] - 0s 22ms/step\n",
      "1/1 [==============================] - 0s 22ms/step\n"
     ]
    },
    {
     "name": "stderr",
     "output_type": "stream",
     "text": [
      "/var/tmp/rojasolvera/ipykernel_122018/3486713291.py:6: FutureWarning: The frame.append method is deprecated and will be removed from pandas in a future version. Use pandas.concat instead.\n",
      "  outputs=outputs.append(output,sort=False)\n",
      "/var/tmp/rojasolvera/ipykernel_122018/3486713291.py:6: FutureWarning: The frame.append method is deprecated and will be removed from pandas in a future version. Use pandas.concat instead.\n",
      "  outputs=outputs.append(output,sort=False)\n",
      "/var/tmp/rojasolvera/ipykernel_122018/3486713291.py:6: FutureWarning: The frame.append method is deprecated and will be removed from pandas in a future version. Use pandas.concat instead.\n",
      "  outputs=outputs.append(output,sort=False)\n",
      "/var/tmp/rojasolvera/ipykernel_122018/3486713291.py:6: FutureWarning: The frame.append method is deprecated and will be removed from pandas in a future version. Use pandas.concat instead.\n",
      "  outputs=outputs.append(output,sort=False)\n"
     ]
    },
    {
     "name": "stdout",
     "output_type": "stream",
     "text": [
      "1/1 [==============================] - 0s 22ms/step\n",
      "1/1 [==============================] - 0s 22ms/step\n",
      "1/1 [==============================] - 0s 22ms/step\n",
      "1/1 [==============================] - 0s 22ms/step\n"
     ]
    },
    {
     "name": "stderr",
     "output_type": "stream",
     "text": [
      "/var/tmp/rojasolvera/ipykernel_122018/3486713291.py:6: FutureWarning: The frame.append method is deprecated and will be removed from pandas in a future version. Use pandas.concat instead.\n",
      "  outputs=outputs.append(output,sort=False)\n",
      "/var/tmp/rojasolvera/ipykernel_122018/3486713291.py:6: FutureWarning: The frame.append method is deprecated and will be removed from pandas in a future version. Use pandas.concat instead.\n",
      "  outputs=outputs.append(output,sort=False)\n",
      "/var/tmp/rojasolvera/ipykernel_122018/3486713291.py:6: FutureWarning: The frame.append method is deprecated and will be removed from pandas in a future version. Use pandas.concat instead.\n",
      "  outputs=outputs.append(output,sort=False)\n",
      "/var/tmp/rojasolvera/ipykernel_122018/3486713291.py:6: FutureWarning: The frame.append method is deprecated and will be removed from pandas in a future version. Use pandas.concat instead.\n",
      "  outputs=outputs.append(output,sort=False)\n"
     ]
    },
    {
     "name": "stdout",
     "output_type": "stream",
     "text": [
      "1/1 [==============================] - 0s 23ms/step\n",
      "1/1 [==============================] - 0s 22ms/step\n",
      "1/1 [==============================] - 0s 22ms/step\n",
      "1/1 [==============================] - 0s 22ms/step\n"
     ]
    },
    {
     "name": "stderr",
     "output_type": "stream",
     "text": [
      "/var/tmp/rojasolvera/ipykernel_122018/3486713291.py:6: FutureWarning: The frame.append method is deprecated and will be removed from pandas in a future version. Use pandas.concat instead.\n",
      "  outputs=outputs.append(output,sort=False)\n",
      "/var/tmp/rojasolvera/ipykernel_122018/3486713291.py:6: FutureWarning: The frame.append method is deprecated and will be removed from pandas in a future version. Use pandas.concat instead.\n",
      "  outputs=outputs.append(output,sort=False)\n",
      "/var/tmp/rojasolvera/ipykernel_122018/3486713291.py:6: FutureWarning: The frame.append method is deprecated and will be removed from pandas in a future version. Use pandas.concat instead.\n",
      "  outputs=outputs.append(output,sort=False)\n",
      "/var/tmp/rojasolvera/ipykernel_122018/3486713291.py:6: FutureWarning: The frame.append method is deprecated and will be removed from pandas in a future version. Use pandas.concat instead.\n",
      "  outputs=outputs.append(output,sort=False)\n"
     ]
    },
    {
     "name": "stdout",
     "output_type": "stream",
     "text": [
      "1/1 [==============================] - 0s 22ms/step\n",
      "1/1 [==============================] - 0s 22ms/step\n",
      "1/1 [==============================] - 0s 23ms/step\n",
      "1/1 [==============================] - 0s 22ms/step\n"
     ]
    },
    {
     "name": "stderr",
     "output_type": "stream",
     "text": [
      "/var/tmp/rojasolvera/ipykernel_122018/3486713291.py:6: FutureWarning: The frame.append method is deprecated and will be removed from pandas in a future version. Use pandas.concat instead.\n",
      "  outputs=outputs.append(output,sort=False)\n",
      "/var/tmp/rojasolvera/ipykernel_122018/3486713291.py:6: FutureWarning: The frame.append method is deprecated and will be removed from pandas in a future version. Use pandas.concat instead.\n",
      "  outputs=outputs.append(output,sort=False)\n",
      "/var/tmp/rojasolvera/ipykernel_122018/3486713291.py:6: FutureWarning: The frame.append method is deprecated and will be removed from pandas in a future version. Use pandas.concat instead.\n",
      "  outputs=outputs.append(output,sort=False)\n",
      "/var/tmp/rojasolvera/ipykernel_122018/3486713291.py:6: FutureWarning: The frame.append method is deprecated and will be removed from pandas in a future version. Use pandas.concat instead.\n",
      "  outputs=outputs.append(output,sort=False)\n"
     ]
    },
    {
     "name": "stdout",
     "output_type": "stream",
     "text": [
      "1/1 [==============================] - 0s 23ms/step\n",
      "1/1 [==============================] - 0s 22ms/step\n",
      "1/1 [==============================] - 0s 23ms/step\n",
      "1/1 [==============================] - 0s 22ms/step\n"
     ]
    },
    {
     "name": "stderr",
     "output_type": "stream",
     "text": [
      "/var/tmp/rojasolvera/ipykernel_122018/3486713291.py:6: FutureWarning: The frame.append method is deprecated and will be removed from pandas in a future version. Use pandas.concat instead.\n",
      "  outputs=outputs.append(output,sort=False)\n",
      "/var/tmp/rojasolvera/ipykernel_122018/3486713291.py:6: FutureWarning: The frame.append method is deprecated and will be removed from pandas in a future version. Use pandas.concat instead.\n",
      "  outputs=outputs.append(output,sort=False)\n",
      "/var/tmp/rojasolvera/ipykernel_122018/3486713291.py:6: FutureWarning: The frame.append method is deprecated and will be removed from pandas in a future version. Use pandas.concat instead.\n",
      "  outputs=outputs.append(output,sort=False)\n",
      "/var/tmp/rojasolvera/ipykernel_122018/3486713291.py:6: FutureWarning: The frame.append method is deprecated and will be removed from pandas in a future version. Use pandas.concat instead.\n",
      "  outputs=outputs.append(output,sort=False)\n"
     ]
    },
    {
     "name": "stdout",
     "output_type": "stream",
     "text": [
      "1/1 [==============================] - 0s 23ms/step\n",
      "1/1 [==============================] - 0s 22ms/step\n",
      "1/1 [==============================] - 0s 23ms/step\n",
      "1/1 [==============================] - 0s 21ms/step\n"
     ]
    },
    {
     "name": "stderr",
     "output_type": "stream",
     "text": [
      "/var/tmp/rojasolvera/ipykernel_122018/3486713291.py:6: FutureWarning: The frame.append method is deprecated and will be removed from pandas in a future version. Use pandas.concat instead.\n",
      "  outputs=outputs.append(output,sort=False)\n",
      "/var/tmp/rojasolvera/ipykernel_122018/3486713291.py:6: FutureWarning: The frame.append method is deprecated and will be removed from pandas in a future version. Use pandas.concat instead.\n",
      "  outputs=outputs.append(output,sort=False)\n",
      "/var/tmp/rojasolvera/ipykernel_122018/3486713291.py:6: FutureWarning: The frame.append method is deprecated and will be removed from pandas in a future version. Use pandas.concat instead.\n",
      "  outputs=outputs.append(output,sort=False)\n",
      "/var/tmp/rojasolvera/ipykernel_122018/3486713291.py:6: FutureWarning: The frame.append method is deprecated and will be removed from pandas in a future version. Use pandas.concat instead.\n",
      "  outputs=outputs.append(output,sort=False)\n"
     ]
    },
    {
     "name": "stdout",
     "output_type": "stream",
     "text": [
      "1/1 [==============================] - 0s 22ms/step\n",
      "1/1 [==============================] - 0s 21ms/step\n",
      "1/1 [==============================] - 0s 22ms/step\n",
      "1/1 [==============================] - 0s 23ms/step\n"
     ]
    },
    {
     "name": "stderr",
     "output_type": "stream",
     "text": [
      "/var/tmp/rojasolvera/ipykernel_122018/3486713291.py:6: FutureWarning: The frame.append method is deprecated and will be removed from pandas in a future version. Use pandas.concat instead.\n",
      "  outputs=outputs.append(output,sort=False)\n",
      "/var/tmp/rojasolvera/ipykernel_122018/3486713291.py:6: FutureWarning: The frame.append method is deprecated and will be removed from pandas in a future version. Use pandas.concat instead.\n",
      "  outputs=outputs.append(output,sort=False)\n",
      "/var/tmp/rojasolvera/ipykernel_122018/3486713291.py:6: FutureWarning: The frame.append method is deprecated and will be removed from pandas in a future version. Use pandas.concat instead.\n",
      "  outputs=outputs.append(output,sort=False)\n",
      "/var/tmp/rojasolvera/ipykernel_122018/3486713291.py:6: FutureWarning: The frame.append method is deprecated and will be removed from pandas in a future version. Use pandas.concat instead.\n",
      "  outputs=outputs.append(output,sort=False)\n"
     ]
    },
    {
     "name": "stdout",
     "output_type": "stream",
     "text": [
      "1/1 [==============================] - 0s 23ms/step\n",
      "1/1 [==============================] - 0s 23ms/step\n",
      "1/1 [==============================] - 0s 23ms/step\n",
      "1/1 [==============================] - 0s 22ms/step\n"
     ]
    },
    {
     "name": "stderr",
     "output_type": "stream",
     "text": [
      "/var/tmp/rojasolvera/ipykernel_122018/3486713291.py:6: FutureWarning: The frame.append method is deprecated and will be removed from pandas in a future version. Use pandas.concat instead.\n",
      "  outputs=outputs.append(output,sort=False)\n",
      "/var/tmp/rojasolvera/ipykernel_122018/3486713291.py:6: FutureWarning: The frame.append method is deprecated and will be removed from pandas in a future version. Use pandas.concat instead.\n",
      "  outputs=outputs.append(output,sort=False)\n",
      "/var/tmp/rojasolvera/ipykernel_122018/3486713291.py:6: FutureWarning: The frame.append method is deprecated and will be removed from pandas in a future version. Use pandas.concat instead.\n",
      "  outputs=outputs.append(output,sort=False)\n",
      "/var/tmp/rojasolvera/ipykernel_122018/3486713291.py:6: FutureWarning: The frame.append method is deprecated and will be removed from pandas in a future version. Use pandas.concat instead.\n",
      "  outputs=outputs.append(output,sort=False)\n"
     ]
    },
    {
     "name": "stdout",
     "output_type": "stream",
     "text": [
      "1/1 [==============================] - 0s 22ms/step\n",
      "1/1 [==============================] - 0s 22ms/step\n",
      "1/1 [==============================] - 0s 22ms/step\n",
      "1/1 [==============================] - 0s 21ms/step\n"
     ]
    },
    {
     "name": "stderr",
     "output_type": "stream",
     "text": [
      "/var/tmp/rojasolvera/ipykernel_122018/3486713291.py:6: FutureWarning: The frame.append method is deprecated and will be removed from pandas in a future version. Use pandas.concat instead.\n",
      "  outputs=outputs.append(output,sort=False)\n",
      "/var/tmp/rojasolvera/ipykernel_122018/3486713291.py:6: FutureWarning: The frame.append method is deprecated and will be removed from pandas in a future version. Use pandas.concat instead.\n",
      "  outputs=outputs.append(output,sort=False)\n",
      "/var/tmp/rojasolvera/ipykernel_122018/3486713291.py:6: FutureWarning: The frame.append method is deprecated and will be removed from pandas in a future version. Use pandas.concat instead.\n",
      "  outputs=outputs.append(output,sort=False)\n",
      "/var/tmp/rojasolvera/ipykernel_122018/3486713291.py:6: FutureWarning: The frame.append method is deprecated and will be removed from pandas in a future version. Use pandas.concat instead.\n",
      "  outputs=outputs.append(output,sort=False)\n"
     ]
    },
    {
     "name": "stdout",
     "output_type": "stream",
     "text": [
      "1/1 [==============================] - 0s 22ms/step\n",
      "1/1 [==============================] - 0s 31ms/step\n",
      "1/1 [==============================] - 0s 22ms/step\n",
      "1/1 [==============================] - 0s 22ms/step\n"
     ]
    },
    {
     "name": "stderr",
     "output_type": "stream",
     "text": [
      "/var/tmp/rojasolvera/ipykernel_122018/3486713291.py:6: FutureWarning: The frame.append method is deprecated and will be removed from pandas in a future version. Use pandas.concat instead.\n",
      "  outputs=outputs.append(output,sort=False)\n",
      "/var/tmp/rojasolvera/ipykernel_122018/3486713291.py:6: FutureWarning: The frame.append method is deprecated and will be removed from pandas in a future version. Use pandas.concat instead.\n",
      "  outputs=outputs.append(output,sort=False)\n",
      "/var/tmp/rojasolvera/ipykernel_122018/3486713291.py:6: FutureWarning: The frame.append method is deprecated and will be removed from pandas in a future version. Use pandas.concat instead.\n",
      "  outputs=outputs.append(output,sort=False)\n",
      "/var/tmp/rojasolvera/ipykernel_122018/3486713291.py:6: FutureWarning: The frame.append method is deprecated and will be removed from pandas in a future version. Use pandas.concat instead.\n",
      "  outputs=outputs.append(output,sort=False)\n"
     ]
    },
    {
     "name": "stdout",
     "output_type": "stream",
     "text": [
      "1/1 [==============================] - 0s 23ms/step\n",
      "1/1 [==============================] - 0s 22ms/step\n",
      "1/1 [==============================] - 0s 22ms/step\n",
      "1/1 [==============================] - 0s 21ms/step\n"
     ]
    },
    {
     "name": "stderr",
     "output_type": "stream",
     "text": [
      "/var/tmp/rojasolvera/ipykernel_122018/3486713291.py:6: FutureWarning: The frame.append method is deprecated and will be removed from pandas in a future version. Use pandas.concat instead.\n",
      "  outputs=outputs.append(output,sort=False)\n",
      "/var/tmp/rojasolvera/ipykernel_122018/3486713291.py:6: FutureWarning: The frame.append method is deprecated and will be removed from pandas in a future version. Use pandas.concat instead.\n",
      "  outputs=outputs.append(output,sort=False)\n",
      "/var/tmp/rojasolvera/ipykernel_122018/3486713291.py:6: FutureWarning: The frame.append method is deprecated and will be removed from pandas in a future version. Use pandas.concat instead.\n",
      "  outputs=outputs.append(output,sort=False)\n",
      "/var/tmp/rojasolvera/ipykernel_122018/3486713291.py:6: FutureWarning: The frame.append method is deprecated and will be removed from pandas in a future version. Use pandas.concat instead.\n",
      "  outputs=outputs.append(output,sort=False)\n"
     ]
    },
    {
     "name": "stdout",
     "output_type": "stream",
     "text": [
      "1/1 [==============================] - 0s 22ms/step\n",
      "1/1 [==============================] - 0s 22ms/step\n",
      "1/1 [==============================] - 0s 22ms/step\n",
      "1/1 [==============================] - 0s 22ms/step\n"
     ]
    },
    {
     "name": "stderr",
     "output_type": "stream",
     "text": [
      "/var/tmp/rojasolvera/ipykernel_122018/3486713291.py:6: FutureWarning: The frame.append method is deprecated and will be removed from pandas in a future version. Use pandas.concat instead.\n",
      "  outputs=outputs.append(output,sort=False)\n",
      "/var/tmp/rojasolvera/ipykernel_122018/3486713291.py:6: FutureWarning: The frame.append method is deprecated and will be removed from pandas in a future version. Use pandas.concat instead.\n",
      "  outputs=outputs.append(output,sort=False)\n",
      "/var/tmp/rojasolvera/ipykernel_122018/3486713291.py:6: FutureWarning: The frame.append method is deprecated and will be removed from pandas in a future version. Use pandas.concat instead.\n",
      "  outputs=outputs.append(output,sort=False)\n",
      "/var/tmp/rojasolvera/ipykernel_122018/3486713291.py:6: FutureWarning: The frame.append method is deprecated and will be removed from pandas in a future version. Use pandas.concat instead.\n",
      "  outputs=outputs.append(output,sort=False)\n"
     ]
    },
    {
     "name": "stdout",
     "output_type": "stream",
     "text": [
      "1/1 [==============================] - 0s 22ms/step\n",
      "1/1 [==============================] - 0s 22ms/step\n",
      "1/1 [==============================] - 0s 22ms/step\n",
      "1/1 [==============================] - 0s 22ms/step\n"
     ]
    },
    {
     "name": "stderr",
     "output_type": "stream",
     "text": [
      "/var/tmp/rojasolvera/ipykernel_122018/3486713291.py:6: FutureWarning: The frame.append method is deprecated and will be removed from pandas in a future version. Use pandas.concat instead.\n",
      "  outputs=outputs.append(output,sort=False)\n",
      "/var/tmp/rojasolvera/ipykernel_122018/3486713291.py:6: FutureWarning: The frame.append method is deprecated and will be removed from pandas in a future version. Use pandas.concat instead.\n",
      "  outputs=outputs.append(output,sort=False)\n",
      "/var/tmp/rojasolvera/ipykernel_122018/3486713291.py:6: FutureWarning: The frame.append method is deprecated and will be removed from pandas in a future version. Use pandas.concat instead.\n",
      "  outputs=outputs.append(output,sort=False)\n",
      "/var/tmp/rojasolvera/ipykernel_122018/3486713291.py:6: FutureWarning: The frame.append method is deprecated and will be removed from pandas in a future version. Use pandas.concat instead.\n",
      "  outputs=outputs.append(output,sort=False)\n"
     ]
    },
    {
     "name": "stdout",
     "output_type": "stream",
     "text": [
      "1/1 [==============================] - 0s 22ms/step\n",
      "1/1 [==============================] - 0s 21ms/step\n",
      "1/1 [==============================] - 0s 21ms/step\n",
      "1/1 [==============================] - 0s 22ms/step\n"
     ]
    },
    {
     "name": "stderr",
     "output_type": "stream",
     "text": [
      "/var/tmp/rojasolvera/ipykernel_122018/3486713291.py:6: FutureWarning: The frame.append method is deprecated and will be removed from pandas in a future version. Use pandas.concat instead.\n",
      "  outputs=outputs.append(output,sort=False)\n",
      "/var/tmp/rojasolvera/ipykernel_122018/3486713291.py:6: FutureWarning: The frame.append method is deprecated and will be removed from pandas in a future version. Use pandas.concat instead.\n",
      "  outputs=outputs.append(output,sort=False)\n",
      "/var/tmp/rojasolvera/ipykernel_122018/3486713291.py:6: FutureWarning: The frame.append method is deprecated and will be removed from pandas in a future version. Use pandas.concat instead.\n",
      "  outputs=outputs.append(output,sort=False)\n",
      "/var/tmp/rojasolvera/ipykernel_122018/3486713291.py:6: FutureWarning: The frame.append method is deprecated and will be removed from pandas in a future version. Use pandas.concat instead.\n",
      "  outputs=outputs.append(output,sort=False)\n"
     ]
    },
    {
     "name": "stdout",
     "output_type": "stream",
     "text": [
      "1/1 [==============================] - 0s 23ms/step\n",
      "1/1 [==============================] - 0s 21ms/step\n",
      "1/1 [==============================] - 0s 22ms/step\n",
      "1/1 [==============================] - 0s 21ms/step\n"
     ]
    },
    {
     "name": "stderr",
     "output_type": "stream",
     "text": [
      "/var/tmp/rojasolvera/ipykernel_122018/3486713291.py:6: FutureWarning: The frame.append method is deprecated and will be removed from pandas in a future version. Use pandas.concat instead.\n",
      "  outputs=outputs.append(output,sort=False)\n",
      "/var/tmp/rojasolvera/ipykernel_122018/3486713291.py:6: FutureWarning: The frame.append method is deprecated and will be removed from pandas in a future version. Use pandas.concat instead.\n",
      "  outputs=outputs.append(output,sort=False)\n",
      "/var/tmp/rojasolvera/ipykernel_122018/3486713291.py:6: FutureWarning: The frame.append method is deprecated and will be removed from pandas in a future version. Use pandas.concat instead.\n",
      "  outputs=outputs.append(output,sort=False)\n",
      "/var/tmp/rojasolvera/ipykernel_122018/3486713291.py:6: FutureWarning: The frame.append method is deprecated and will be removed from pandas in a future version. Use pandas.concat instead.\n",
      "  outputs=outputs.append(output,sort=False)\n"
     ]
    },
    {
     "name": "stdout",
     "output_type": "stream",
     "text": [
      "1/1 [==============================] - 0s 22ms/step\n",
      "1/1 [==============================] - 0s 22ms/step\n",
      "1/1 [==============================] - 0s 24ms/step\n"
     ]
    },
    {
     "name": "stderr",
     "output_type": "stream",
     "text": [
      "/var/tmp/rojasolvera/ipykernel_122018/3486713291.py:6: FutureWarning: The frame.append method is deprecated and will be removed from pandas in a future version. Use pandas.concat instead.\n",
      "  outputs=outputs.append(output,sort=False)\n",
      "/var/tmp/rojasolvera/ipykernel_122018/3486713291.py:6: FutureWarning: The frame.append method is deprecated and will be removed from pandas in a future version. Use pandas.concat instead.\n",
      "  outputs=outputs.append(output,sort=False)\n",
      "/var/tmp/rojasolvera/ipykernel_122018/3486713291.py:6: FutureWarning: The frame.append method is deprecated and will be removed from pandas in a future version. Use pandas.concat instead.\n",
      "  outputs=outputs.append(output,sort=False)\n"
     ]
    },
    {
     "name": "stdout",
     "output_type": "stream",
     "text": [
      "1/1 [==============================] - 0s 25ms/step\n",
      "1/1 [==============================] - 0s 22ms/step\n",
      "1/1 [==============================] - 0s 21ms/step\n",
      "1/1 [==============================] - 0s 21ms/step\n"
     ]
    },
    {
     "name": "stderr",
     "output_type": "stream",
     "text": [
      "/var/tmp/rojasolvera/ipykernel_122018/3486713291.py:6: FutureWarning: The frame.append method is deprecated and will be removed from pandas in a future version. Use pandas.concat instead.\n",
      "  outputs=outputs.append(output,sort=False)\n",
      "/var/tmp/rojasolvera/ipykernel_122018/3486713291.py:6: FutureWarning: The frame.append method is deprecated and will be removed from pandas in a future version. Use pandas.concat instead.\n",
      "  outputs=outputs.append(output,sort=False)\n",
      "/var/tmp/rojasolvera/ipykernel_122018/3486713291.py:6: FutureWarning: The frame.append method is deprecated and will be removed from pandas in a future version. Use pandas.concat instead.\n",
      "  outputs=outputs.append(output,sort=False)\n",
      "/var/tmp/rojasolvera/ipykernel_122018/3486713291.py:6: FutureWarning: The frame.append method is deprecated and will be removed from pandas in a future version. Use pandas.concat instead.\n",
      "  outputs=outputs.append(output,sort=False)\n"
     ]
    },
    {
     "name": "stdout",
     "output_type": "stream",
     "text": [
      "1/1 [==============================] - 0s 22ms/step\n",
      "1/1 [==============================] - 0s 22ms/step\n",
      "1/1 [==============================] - 0s 21ms/step\n",
      "1/1 [==============================] - 0s 21ms/step\n"
     ]
    },
    {
     "name": "stderr",
     "output_type": "stream",
     "text": [
      "/var/tmp/rojasolvera/ipykernel_122018/3486713291.py:6: FutureWarning: The frame.append method is deprecated and will be removed from pandas in a future version. Use pandas.concat instead.\n",
      "  outputs=outputs.append(output,sort=False)\n",
      "/var/tmp/rojasolvera/ipykernel_122018/3486713291.py:6: FutureWarning: The frame.append method is deprecated and will be removed from pandas in a future version. Use pandas.concat instead.\n",
      "  outputs=outputs.append(output,sort=False)\n",
      "/var/tmp/rojasolvera/ipykernel_122018/3486713291.py:6: FutureWarning: The frame.append method is deprecated and will be removed from pandas in a future version. Use pandas.concat instead.\n",
      "  outputs=outputs.append(output,sort=False)\n",
      "/var/tmp/rojasolvera/ipykernel_122018/3486713291.py:6: FutureWarning: The frame.append method is deprecated and will be removed from pandas in a future version. Use pandas.concat instead.\n",
      "  outputs=outputs.append(output,sort=False)\n"
     ]
    },
    {
     "name": "stdout",
     "output_type": "stream",
     "text": [
      "1/1 [==============================] - 0s 22ms/step\n",
      "1/1 [==============================] - 0s 21ms/step\n",
      "1/1 [==============================] - 0s 22ms/step\n",
      "1/1 [==============================] - 0s 21ms/step\n"
     ]
    },
    {
     "name": "stderr",
     "output_type": "stream",
     "text": [
      "/var/tmp/rojasolvera/ipykernel_122018/3486713291.py:6: FutureWarning: The frame.append method is deprecated and will be removed from pandas in a future version. Use pandas.concat instead.\n",
      "  outputs=outputs.append(output,sort=False)\n",
      "/var/tmp/rojasolvera/ipykernel_122018/3486713291.py:6: FutureWarning: The frame.append method is deprecated and will be removed from pandas in a future version. Use pandas.concat instead.\n",
      "  outputs=outputs.append(output,sort=False)\n",
      "/var/tmp/rojasolvera/ipykernel_122018/3486713291.py:6: FutureWarning: The frame.append method is deprecated and will be removed from pandas in a future version. Use pandas.concat instead.\n",
      "  outputs=outputs.append(output,sort=False)\n",
      "/var/tmp/rojasolvera/ipykernel_122018/3486713291.py:6: FutureWarning: The frame.append method is deprecated and will be removed from pandas in a future version. Use pandas.concat instead.\n",
      "  outputs=outputs.append(output,sort=False)\n"
     ]
    },
    {
     "name": "stdout",
     "output_type": "stream",
     "text": [
      "1/1 [==============================] - 0s 22ms/step\n",
      "1/1 [==============================] - 0s 21ms/step\n",
      "1/1 [==============================] - 0s 22ms/step\n",
      "1/1 [==============================] - 0s 21ms/step\n"
     ]
    },
    {
     "name": "stderr",
     "output_type": "stream",
     "text": [
      "/var/tmp/rojasolvera/ipykernel_122018/3486713291.py:6: FutureWarning: The frame.append method is deprecated and will be removed from pandas in a future version. Use pandas.concat instead.\n",
      "  outputs=outputs.append(output,sort=False)\n",
      "/var/tmp/rojasolvera/ipykernel_122018/3486713291.py:6: FutureWarning: The frame.append method is deprecated and will be removed from pandas in a future version. Use pandas.concat instead.\n",
      "  outputs=outputs.append(output,sort=False)\n",
      "/var/tmp/rojasolvera/ipykernel_122018/3486713291.py:6: FutureWarning: The frame.append method is deprecated and will be removed from pandas in a future version. Use pandas.concat instead.\n",
      "  outputs=outputs.append(output,sort=False)\n",
      "/var/tmp/rojasolvera/ipykernel_122018/3486713291.py:6: FutureWarning: The frame.append method is deprecated and will be removed from pandas in a future version. Use pandas.concat instead.\n",
      "  outputs=outputs.append(output,sort=False)\n"
     ]
    },
    {
     "name": "stdout",
     "output_type": "stream",
     "text": [
      "1/1 [==============================] - 0s 22ms/step\n",
      "1/1 [==============================] - 0s 22ms/step\n",
      "1/1 [==============================] - 0s 21ms/step\n",
      "1/1 [==============================] - 0s 22ms/step\n"
     ]
    },
    {
     "name": "stderr",
     "output_type": "stream",
     "text": [
      "/var/tmp/rojasolvera/ipykernel_122018/3486713291.py:6: FutureWarning: The frame.append method is deprecated and will be removed from pandas in a future version. Use pandas.concat instead.\n",
      "  outputs=outputs.append(output,sort=False)\n",
      "/var/tmp/rojasolvera/ipykernel_122018/3486713291.py:6: FutureWarning: The frame.append method is deprecated and will be removed from pandas in a future version. Use pandas.concat instead.\n",
      "  outputs=outputs.append(output,sort=False)\n",
      "/var/tmp/rojasolvera/ipykernel_122018/3486713291.py:6: FutureWarning: The frame.append method is deprecated and will be removed from pandas in a future version. Use pandas.concat instead.\n",
      "  outputs=outputs.append(output,sort=False)\n",
      "/var/tmp/rojasolvera/ipykernel_122018/3486713291.py:6: FutureWarning: The frame.append method is deprecated and will be removed from pandas in a future version. Use pandas.concat instead.\n",
      "  outputs=outputs.append(output,sort=False)\n"
     ]
    },
    {
     "name": "stdout",
     "output_type": "stream",
     "text": [
      "1/1 [==============================] - 0s 23ms/step\n",
      "1/1 [==============================] - 0s 22ms/step\n",
      "1/1 [==============================] - 0s 23ms/step\n",
      "1/1 [==============================] - 0s 22ms/step\n"
     ]
    },
    {
     "name": "stderr",
     "output_type": "stream",
     "text": [
      "/var/tmp/rojasolvera/ipykernel_122018/3486713291.py:6: FutureWarning: The frame.append method is deprecated and will be removed from pandas in a future version. Use pandas.concat instead.\n",
      "  outputs=outputs.append(output,sort=False)\n",
      "/var/tmp/rojasolvera/ipykernel_122018/3486713291.py:6: FutureWarning: The frame.append method is deprecated and will be removed from pandas in a future version. Use pandas.concat instead.\n",
      "  outputs=outputs.append(output,sort=False)\n",
      "/var/tmp/rojasolvera/ipykernel_122018/3486713291.py:6: FutureWarning: The frame.append method is deprecated and will be removed from pandas in a future version. Use pandas.concat instead.\n",
      "  outputs=outputs.append(output,sort=False)\n",
      "/var/tmp/rojasolvera/ipykernel_122018/3486713291.py:6: FutureWarning: The frame.append method is deprecated and will be removed from pandas in a future version. Use pandas.concat instead.\n",
      "  outputs=outputs.append(output,sort=False)\n"
     ]
    },
    {
     "name": "stdout",
     "output_type": "stream",
     "text": [
      "1/1 [==============================] - 0s 22ms/step\n",
      "1/1 [==============================] - 0s 22ms/step\n",
      "1/1 [==============================] - 0s 22ms/step\n",
      "1/1 [==============================] - 0s 22ms/step\n"
     ]
    },
    {
     "name": "stderr",
     "output_type": "stream",
     "text": [
      "/var/tmp/rojasolvera/ipykernel_122018/3486713291.py:6: FutureWarning: The frame.append method is deprecated and will be removed from pandas in a future version. Use pandas.concat instead.\n",
      "  outputs=outputs.append(output,sort=False)\n",
      "/var/tmp/rojasolvera/ipykernel_122018/3486713291.py:6: FutureWarning: The frame.append method is deprecated and will be removed from pandas in a future version. Use pandas.concat instead.\n",
      "  outputs=outputs.append(output,sort=False)\n",
      "/var/tmp/rojasolvera/ipykernel_122018/3486713291.py:6: FutureWarning: The frame.append method is deprecated and will be removed from pandas in a future version. Use pandas.concat instead.\n",
      "  outputs=outputs.append(output,sort=False)\n",
      "/var/tmp/rojasolvera/ipykernel_122018/3486713291.py:6: FutureWarning: The frame.append method is deprecated and will be removed from pandas in a future version. Use pandas.concat instead.\n",
      "  outputs=outputs.append(output,sort=False)\n"
     ]
    },
    {
     "name": "stdout",
     "output_type": "stream",
     "text": [
      "1/1 [==============================] - 0s 22ms/step\n",
      "1/1 [==============================] - 0s 21ms/step\n",
      "1/1 [==============================] - 0s 23ms/step\n",
      "1/1 [==============================] - 0s 21ms/step\n"
     ]
    },
    {
     "name": "stderr",
     "output_type": "stream",
     "text": [
      "/var/tmp/rojasolvera/ipykernel_122018/3486713291.py:6: FutureWarning: The frame.append method is deprecated and will be removed from pandas in a future version. Use pandas.concat instead.\n",
      "  outputs=outputs.append(output,sort=False)\n",
      "/var/tmp/rojasolvera/ipykernel_122018/3486713291.py:6: FutureWarning: The frame.append method is deprecated and will be removed from pandas in a future version. Use pandas.concat instead.\n",
      "  outputs=outputs.append(output,sort=False)\n",
      "/var/tmp/rojasolvera/ipykernel_122018/3486713291.py:6: FutureWarning: The frame.append method is deprecated and will be removed from pandas in a future version. Use pandas.concat instead.\n",
      "  outputs=outputs.append(output,sort=False)\n",
      "/var/tmp/rojasolvera/ipykernel_122018/3486713291.py:6: FutureWarning: The frame.append method is deprecated and will be removed from pandas in a future version. Use pandas.concat instead.\n",
      "  outputs=outputs.append(output,sort=False)\n"
     ]
    },
    {
     "name": "stdout",
     "output_type": "stream",
     "text": [
      "1/1 [==============================] - 0s 22ms/step\n",
      "1/1 [==============================] - 0s 23ms/step\n",
      "1/1 [==============================] - 0s 22ms/step\n",
      "1/1 [==============================] - 0s 22ms/step\n"
     ]
    },
    {
     "name": "stderr",
     "output_type": "stream",
     "text": [
      "/var/tmp/rojasolvera/ipykernel_122018/3486713291.py:6: FutureWarning: The frame.append method is deprecated and will be removed from pandas in a future version. Use pandas.concat instead.\n",
      "  outputs=outputs.append(output,sort=False)\n",
      "/var/tmp/rojasolvera/ipykernel_122018/3486713291.py:6: FutureWarning: The frame.append method is deprecated and will be removed from pandas in a future version. Use pandas.concat instead.\n",
      "  outputs=outputs.append(output,sort=False)\n",
      "/var/tmp/rojasolvera/ipykernel_122018/3486713291.py:6: FutureWarning: The frame.append method is deprecated and will be removed from pandas in a future version. Use pandas.concat instead.\n",
      "  outputs=outputs.append(output,sort=False)\n",
      "/var/tmp/rojasolvera/ipykernel_122018/3486713291.py:6: FutureWarning: The frame.append method is deprecated and will be removed from pandas in a future version. Use pandas.concat instead.\n",
      "  outputs=outputs.append(output,sort=False)\n"
     ]
    },
    {
     "name": "stdout",
     "output_type": "stream",
     "text": [
      "1/1 [==============================] - 0s 21ms/step\n",
      "1/1 [==============================] - 0s 21ms/step\n",
      "1/1 [==============================] - 0s 22ms/step\n",
      "1/1 [==============================] - 0s 25ms/step\n"
     ]
    },
    {
     "name": "stderr",
     "output_type": "stream",
     "text": [
      "/var/tmp/rojasolvera/ipykernel_122018/3486713291.py:6: FutureWarning: The frame.append method is deprecated and will be removed from pandas in a future version. Use pandas.concat instead.\n",
      "  outputs=outputs.append(output,sort=False)\n",
      "/var/tmp/rojasolvera/ipykernel_122018/3486713291.py:6: FutureWarning: The frame.append method is deprecated and will be removed from pandas in a future version. Use pandas.concat instead.\n",
      "  outputs=outputs.append(output,sort=False)\n",
      "/var/tmp/rojasolvera/ipykernel_122018/3486713291.py:6: FutureWarning: The frame.append method is deprecated and will be removed from pandas in a future version. Use pandas.concat instead.\n",
      "  outputs=outputs.append(output,sort=False)\n",
      "/var/tmp/rojasolvera/ipykernel_122018/3486713291.py:6: FutureWarning: The frame.append method is deprecated and will be removed from pandas in a future version. Use pandas.concat instead.\n",
      "  outputs=outputs.append(output,sort=False)\n"
     ]
    },
    {
     "name": "stdout",
     "output_type": "stream",
     "text": [
      "1/1 [==============================] - 0s 22ms/step\n",
      "1/1 [==============================] - 0s 22ms/step\n",
      "1/1 [==============================] - 0s 21ms/step\n",
      "1/1 [==============================] - 0s 22ms/step\n"
     ]
    },
    {
     "name": "stderr",
     "output_type": "stream",
     "text": [
      "/var/tmp/rojasolvera/ipykernel_122018/3486713291.py:6: FutureWarning: The frame.append method is deprecated and will be removed from pandas in a future version. Use pandas.concat instead.\n",
      "  outputs=outputs.append(output,sort=False)\n",
      "/var/tmp/rojasolvera/ipykernel_122018/3486713291.py:6: FutureWarning: The frame.append method is deprecated and will be removed from pandas in a future version. Use pandas.concat instead.\n",
      "  outputs=outputs.append(output,sort=False)\n",
      "/var/tmp/rojasolvera/ipykernel_122018/3486713291.py:6: FutureWarning: The frame.append method is deprecated and will be removed from pandas in a future version. Use pandas.concat instead.\n",
      "  outputs=outputs.append(output,sort=False)\n",
      "/var/tmp/rojasolvera/ipykernel_122018/3486713291.py:6: FutureWarning: The frame.append method is deprecated and will be removed from pandas in a future version. Use pandas.concat instead.\n",
      "  outputs=outputs.append(output,sort=False)\n"
     ]
    },
    {
     "name": "stdout",
     "output_type": "stream",
     "text": [
      "1/1 [==============================] - 0s 22ms/step\n",
      "1/1 [==============================] - 0s 21ms/step\n",
      "1/1 [==============================] - 0s 22ms/step\n",
      "1/1 [==============================] - 0s 21ms/step\n"
     ]
    },
    {
     "name": "stderr",
     "output_type": "stream",
     "text": [
      "/var/tmp/rojasolvera/ipykernel_122018/3486713291.py:6: FutureWarning: The frame.append method is deprecated and will be removed from pandas in a future version. Use pandas.concat instead.\n",
      "  outputs=outputs.append(output,sort=False)\n",
      "/var/tmp/rojasolvera/ipykernel_122018/3486713291.py:6: FutureWarning: The frame.append method is deprecated and will be removed from pandas in a future version. Use pandas.concat instead.\n",
      "  outputs=outputs.append(output,sort=False)\n",
      "/var/tmp/rojasolvera/ipykernel_122018/3486713291.py:6: FutureWarning: The frame.append method is deprecated and will be removed from pandas in a future version. Use pandas.concat instead.\n",
      "  outputs=outputs.append(output,sort=False)\n",
      "/var/tmp/rojasolvera/ipykernel_122018/3486713291.py:6: FutureWarning: The frame.append method is deprecated and will be removed from pandas in a future version. Use pandas.concat instead.\n",
      "  outputs=outputs.append(output,sort=False)\n"
     ]
    },
    {
     "name": "stdout",
     "output_type": "stream",
     "text": [
      "1/1 [==============================] - 0s 22ms/step\n",
      "1/1 [==============================] - 0s 21ms/step\n",
      "1/1 [==============================] - 0s 20ms/step\n",
      "1/1 [==============================] - 0s 20ms/step\n"
     ]
    },
    {
     "name": "stderr",
     "output_type": "stream",
     "text": [
      "/var/tmp/rojasolvera/ipykernel_122018/3486713291.py:6: FutureWarning: The frame.append method is deprecated and will be removed from pandas in a future version. Use pandas.concat instead.\n",
      "  outputs=outputs.append(output,sort=False)\n",
      "/var/tmp/rojasolvera/ipykernel_122018/3486713291.py:6: FutureWarning: The frame.append method is deprecated and will be removed from pandas in a future version. Use pandas.concat instead.\n",
      "  outputs=outputs.append(output,sort=False)\n",
      "/var/tmp/rojasolvera/ipykernel_122018/3486713291.py:6: FutureWarning: The frame.append method is deprecated and will be removed from pandas in a future version. Use pandas.concat instead.\n",
      "  outputs=outputs.append(output,sort=False)\n",
      "/var/tmp/rojasolvera/ipykernel_122018/3486713291.py:6: FutureWarning: The frame.append method is deprecated and will be removed from pandas in a future version. Use pandas.concat instead.\n",
      "  outputs=outputs.append(output,sort=False)\n"
     ]
    },
    {
     "name": "stdout",
     "output_type": "stream",
     "text": [
      "1/1 [==============================] - 0s 21ms/step\n",
      "1/1 [==============================] - 0s 21ms/step\n",
      "1/1 [==============================] - 0s 22ms/step\n",
      "1/1 [==============================] - 0s 21ms/step\n"
     ]
    },
    {
     "name": "stderr",
     "output_type": "stream",
     "text": [
      "/var/tmp/rojasolvera/ipykernel_122018/3486713291.py:6: FutureWarning: The frame.append method is deprecated and will be removed from pandas in a future version. Use pandas.concat instead.\n",
      "  outputs=outputs.append(output,sort=False)\n",
      "/var/tmp/rojasolvera/ipykernel_122018/3486713291.py:6: FutureWarning: The frame.append method is deprecated and will be removed from pandas in a future version. Use pandas.concat instead.\n",
      "  outputs=outputs.append(output,sort=False)\n",
      "/var/tmp/rojasolvera/ipykernel_122018/3486713291.py:6: FutureWarning: The frame.append method is deprecated and will be removed from pandas in a future version. Use pandas.concat instead.\n",
      "  outputs=outputs.append(output,sort=False)\n",
      "/var/tmp/rojasolvera/ipykernel_122018/3486713291.py:6: FutureWarning: The frame.append method is deprecated and will be removed from pandas in a future version. Use pandas.concat instead.\n",
      "  outputs=outputs.append(output,sort=False)\n"
     ]
    },
    {
     "name": "stdout",
     "output_type": "stream",
     "text": [
      "1/1 [==============================] - 0s 22ms/step\n",
      "1/1 [==============================] - 0s 23ms/step\n",
      "1/1 [==============================] - 0s 21ms/step\n",
      "1/1 [==============================] - 0s 21ms/step\n"
     ]
    },
    {
     "name": "stderr",
     "output_type": "stream",
     "text": [
      "/var/tmp/rojasolvera/ipykernel_122018/3486713291.py:6: FutureWarning: The frame.append method is deprecated and will be removed from pandas in a future version. Use pandas.concat instead.\n",
      "  outputs=outputs.append(output,sort=False)\n",
      "/var/tmp/rojasolvera/ipykernel_122018/3486713291.py:6: FutureWarning: The frame.append method is deprecated and will be removed from pandas in a future version. Use pandas.concat instead.\n",
      "  outputs=outputs.append(output,sort=False)\n",
      "/var/tmp/rojasolvera/ipykernel_122018/3486713291.py:6: FutureWarning: The frame.append method is deprecated and will be removed from pandas in a future version. Use pandas.concat instead.\n",
      "  outputs=outputs.append(output,sort=False)\n",
      "/var/tmp/rojasolvera/ipykernel_122018/3486713291.py:6: FutureWarning: The frame.append method is deprecated and will be removed from pandas in a future version. Use pandas.concat instead.\n",
      "  outputs=outputs.append(output,sort=False)\n"
     ]
    },
    {
     "name": "stdout",
     "output_type": "stream",
     "text": [
      "1/1 [==============================] - 0s 22ms/step\n",
      "1/1 [==============================] - 0s 21ms/step\n",
      "1/1 [==============================] - 0s 21ms/step\n",
      "1/1 [==============================] - 0s 22ms/step\n"
     ]
    },
    {
     "name": "stderr",
     "output_type": "stream",
     "text": [
      "/var/tmp/rojasolvera/ipykernel_122018/3486713291.py:6: FutureWarning: The frame.append method is deprecated and will be removed from pandas in a future version. Use pandas.concat instead.\n",
      "  outputs=outputs.append(output,sort=False)\n",
      "/var/tmp/rojasolvera/ipykernel_122018/3486713291.py:6: FutureWarning: The frame.append method is deprecated and will be removed from pandas in a future version. Use pandas.concat instead.\n",
      "  outputs=outputs.append(output,sort=False)\n",
      "/var/tmp/rojasolvera/ipykernel_122018/3486713291.py:6: FutureWarning: The frame.append method is deprecated and will be removed from pandas in a future version. Use pandas.concat instead.\n",
      "  outputs=outputs.append(output,sort=False)\n",
      "/var/tmp/rojasolvera/ipykernel_122018/3486713291.py:6: FutureWarning: The frame.append method is deprecated and will be removed from pandas in a future version. Use pandas.concat instead.\n",
      "  outputs=outputs.append(output,sort=False)\n"
     ]
    },
    {
     "name": "stdout",
     "output_type": "stream",
     "text": [
      "1/1 [==============================] - 0s 21ms/step\n",
      "1/1 [==============================] - 0s 22ms/step\n",
      "1/1 [==============================] - 0s 21ms/step\n",
      "1/1 [==============================] - 0s 23ms/step\n"
     ]
    },
    {
     "name": "stderr",
     "output_type": "stream",
     "text": [
      "/var/tmp/rojasolvera/ipykernel_122018/3486713291.py:6: FutureWarning: The frame.append method is deprecated and will be removed from pandas in a future version. Use pandas.concat instead.\n",
      "  outputs=outputs.append(output,sort=False)\n",
      "/var/tmp/rojasolvera/ipykernel_122018/3486713291.py:6: FutureWarning: The frame.append method is deprecated and will be removed from pandas in a future version. Use pandas.concat instead.\n",
      "  outputs=outputs.append(output,sort=False)\n",
      "/var/tmp/rojasolvera/ipykernel_122018/3486713291.py:6: FutureWarning: The frame.append method is deprecated and will be removed from pandas in a future version. Use pandas.concat instead.\n",
      "  outputs=outputs.append(output,sort=False)\n",
      "/var/tmp/rojasolvera/ipykernel_122018/3486713291.py:6: FutureWarning: The frame.append method is deprecated and will be removed from pandas in a future version. Use pandas.concat instead.\n",
      "  outputs=outputs.append(output,sort=False)\n"
     ]
    },
    {
     "name": "stdout",
     "output_type": "stream",
     "text": [
      "1/1 [==============================] - 0s 23ms/step\n",
      "1/1 [==============================] - 0s 21ms/step\n",
      "1/1 [==============================] - 0s 22ms/step\n",
      "1/1 [==============================] - 0s 21ms/step\n"
     ]
    },
    {
     "name": "stderr",
     "output_type": "stream",
     "text": [
      "/var/tmp/rojasolvera/ipykernel_122018/3486713291.py:6: FutureWarning: The frame.append method is deprecated and will be removed from pandas in a future version. Use pandas.concat instead.\n",
      "  outputs=outputs.append(output,sort=False)\n",
      "/var/tmp/rojasolvera/ipykernel_122018/3486713291.py:6: FutureWarning: The frame.append method is deprecated and will be removed from pandas in a future version. Use pandas.concat instead.\n",
      "  outputs=outputs.append(output,sort=False)\n",
      "/var/tmp/rojasolvera/ipykernel_122018/3486713291.py:6: FutureWarning: The frame.append method is deprecated and will be removed from pandas in a future version. Use pandas.concat instead.\n",
      "  outputs=outputs.append(output,sort=False)\n",
      "/var/tmp/rojasolvera/ipykernel_122018/3486713291.py:6: FutureWarning: The frame.append method is deprecated and will be removed from pandas in a future version. Use pandas.concat instead.\n",
      "  outputs=outputs.append(output,sort=False)\n"
     ]
    },
    {
     "name": "stdout",
     "output_type": "stream",
     "text": [
      "1/1 [==============================] - 0s 22ms/step\n",
      "1/1 [==============================] - 0s 22ms/step\n",
      "1/1 [==============================] - 0s 22ms/step\n",
      "1/1 [==============================] - 0s 21ms/step\n"
     ]
    },
    {
     "name": "stderr",
     "output_type": "stream",
     "text": [
      "/var/tmp/rojasolvera/ipykernel_122018/3486713291.py:6: FutureWarning: The frame.append method is deprecated and will be removed from pandas in a future version. Use pandas.concat instead.\n",
      "  outputs=outputs.append(output,sort=False)\n",
      "/var/tmp/rojasolvera/ipykernel_122018/3486713291.py:6: FutureWarning: The frame.append method is deprecated and will be removed from pandas in a future version. Use pandas.concat instead.\n",
      "  outputs=outputs.append(output,sort=False)\n",
      "/var/tmp/rojasolvera/ipykernel_122018/3486713291.py:6: FutureWarning: The frame.append method is deprecated and will be removed from pandas in a future version. Use pandas.concat instead.\n",
      "  outputs=outputs.append(output,sort=False)\n",
      "/var/tmp/rojasolvera/ipykernel_122018/3486713291.py:6: FutureWarning: The frame.append method is deprecated and will be removed from pandas in a future version. Use pandas.concat instead.\n",
      "  outputs=outputs.append(output,sort=False)\n"
     ]
    },
    {
     "name": "stdout",
     "output_type": "stream",
     "text": [
      "1/1 [==============================] - 0s 22ms/step\n",
      "1/1 [==============================] - 0s 22ms/step\n",
      "1/1 [==============================] - 0s 22ms/step\n",
      "1/1 [==============================] - 0s 21ms/step\n"
     ]
    },
    {
     "name": "stderr",
     "output_type": "stream",
     "text": [
      "/var/tmp/rojasolvera/ipykernel_122018/3486713291.py:6: FutureWarning: The frame.append method is deprecated and will be removed from pandas in a future version. Use pandas.concat instead.\n",
      "  outputs=outputs.append(output,sort=False)\n",
      "/var/tmp/rojasolvera/ipykernel_122018/3486713291.py:6: FutureWarning: The frame.append method is deprecated and will be removed from pandas in a future version. Use pandas.concat instead.\n",
      "  outputs=outputs.append(output,sort=False)\n",
      "/var/tmp/rojasolvera/ipykernel_122018/3486713291.py:6: FutureWarning: The frame.append method is deprecated and will be removed from pandas in a future version. Use pandas.concat instead.\n",
      "  outputs=outputs.append(output,sort=False)\n",
      "/var/tmp/rojasolvera/ipykernel_122018/3486713291.py:6: FutureWarning: The frame.append method is deprecated and will be removed from pandas in a future version. Use pandas.concat instead.\n",
      "  outputs=outputs.append(output,sort=False)\n"
     ]
    },
    {
     "name": "stdout",
     "output_type": "stream",
     "text": [
      "1/1 [==============================] - 0s 21ms/step\n",
      "1/1 [==============================] - 0s 21ms/step\n",
      "1/1 [==============================] - 0s 21ms/step\n",
      "1/1 [==============================] - 0s 21ms/step\n"
     ]
    },
    {
     "name": "stderr",
     "output_type": "stream",
     "text": [
      "/var/tmp/rojasolvera/ipykernel_122018/3486713291.py:6: FutureWarning: The frame.append method is deprecated and will be removed from pandas in a future version. Use pandas.concat instead.\n",
      "  outputs=outputs.append(output,sort=False)\n",
      "/var/tmp/rojasolvera/ipykernel_122018/3486713291.py:6: FutureWarning: The frame.append method is deprecated and will be removed from pandas in a future version. Use pandas.concat instead.\n",
      "  outputs=outputs.append(output,sort=False)\n",
      "/var/tmp/rojasolvera/ipykernel_122018/3486713291.py:6: FutureWarning: The frame.append method is deprecated and will be removed from pandas in a future version. Use pandas.concat instead.\n",
      "  outputs=outputs.append(output,sort=False)\n",
      "/var/tmp/rojasolvera/ipykernel_122018/3486713291.py:6: FutureWarning: The frame.append method is deprecated and will be removed from pandas in a future version. Use pandas.concat instead.\n",
      "  outputs=outputs.append(output,sort=False)\n"
     ]
    },
    {
     "name": "stdout",
     "output_type": "stream",
     "text": [
      "1/1 [==============================] - 0s 22ms/step\n",
      "1/1 [==============================] - 0s 21ms/step\n",
      "1/1 [==============================] - 0s 21ms/step\n",
      "1/1 [==============================] - 0s 22ms/step\n"
     ]
    },
    {
     "name": "stderr",
     "output_type": "stream",
     "text": [
      "/var/tmp/rojasolvera/ipykernel_122018/3486713291.py:6: FutureWarning: The frame.append method is deprecated and will be removed from pandas in a future version. Use pandas.concat instead.\n",
      "  outputs=outputs.append(output,sort=False)\n",
      "/var/tmp/rojasolvera/ipykernel_122018/3486713291.py:6: FutureWarning: The frame.append method is deprecated and will be removed from pandas in a future version. Use pandas.concat instead.\n",
      "  outputs=outputs.append(output,sort=False)\n",
      "/var/tmp/rojasolvera/ipykernel_122018/3486713291.py:6: FutureWarning: The frame.append method is deprecated and will be removed from pandas in a future version. Use pandas.concat instead.\n",
      "  outputs=outputs.append(output,sort=False)\n",
      "/var/tmp/rojasolvera/ipykernel_122018/3486713291.py:6: FutureWarning: The frame.append method is deprecated and will be removed from pandas in a future version. Use pandas.concat instead.\n",
      "  outputs=outputs.append(output,sort=False)\n"
     ]
    },
    {
     "name": "stdout",
     "output_type": "stream",
     "text": [
      "1/1 [==============================] - 0s 22ms/step\n",
      "1/1 [==============================] - 0s 21ms/step\n",
      "1/1 [==============================] - 0s 20ms/step\n",
      "1/1 [==============================] - 0s 21ms/step\n"
     ]
    },
    {
     "name": "stderr",
     "output_type": "stream",
     "text": [
      "/var/tmp/rojasolvera/ipykernel_122018/3486713291.py:6: FutureWarning: The frame.append method is deprecated and will be removed from pandas in a future version. Use pandas.concat instead.\n",
      "  outputs=outputs.append(output,sort=False)\n",
      "/var/tmp/rojasolvera/ipykernel_122018/3486713291.py:6: FutureWarning: The frame.append method is deprecated and will be removed from pandas in a future version. Use pandas.concat instead.\n",
      "  outputs=outputs.append(output,sort=False)\n",
      "/var/tmp/rojasolvera/ipykernel_122018/3486713291.py:6: FutureWarning: The frame.append method is deprecated and will be removed from pandas in a future version. Use pandas.concat instead.\n",
      "  outputs=outputs.append(output,sort=False)\n",
      "/var/tmp/rojasolvera/ipykernel_122018/3486713291.py:6: FutureWarning: The frame.append method is deprecated and will be removed from pandas in a future version. Use pandas.concat instead.\n",
      "  outputs=outputs.append(output,sort=False)\n"
     ]
    },
    {
     "name": "stdout",
     "output_type": "stream",
     "text": [
      "1/1 [==============================] - 0s 22ms/step\n",
      "1/1 [==============================] - 0s 22ms/step\n",
      "1/1 [==============================] - 0s 21ms/step\n",
      "1/1 [==============================] - 0s 21ms/step\n"
     ]
    },
    {
     "name": "stderr",
     "output_type": "stream",
     "text": [
      "/var/tmp/rojasolvera/ipykernel_122018/3486713291.py:6: FutureWarning: The frame.append method is deprecated and will be removed from pandas in a future version. Use pandas.concat instead.\n",
      "  outputs=outputs.append(output,sort=False)\n",
      "/var/tmp/rojasolvera/ipykernel_122018/3486713291.py:6: FutureWarning: The frame.append method is deprecated and will be removed from pandas in a future version. Use pandas.concat instead.\n",
      "  outputs=outputs.append(output,sort=False)\n",
      "/var/tmp/rojasolvera/ipykernel_122018/3486713291.py:6: FutureWarning: The frame.append method is deprecated and will be removed from pandas in a future version. Use pandas.concat instead.\n",
      "  outputs=outputs.append(output,sort=False)\n",
      "/var/tmp/rojasolvera/ipykernel_122018/3486713291.py:6: FutureWarning: The frame.append method is deprecated and will be removed from pandas in a future version. Use pandas.concat instead.\n",
      "  outputs=outputs.append(output,sort=False)\n"
     ]
    },
    {
     "name": "stdout",
     "output_type": "stream",
     "text": [
      "1/1 [==============================] - 0s 21ms/step\n",
      "1/1 [==============================] - 0s 21ms/step\n",
      "1/1 [==============================] - 0s 22ms/step\n",
      "1/1 [==============================] - 0s 22ms/step\n"
     ]
    },
    {
     "name": "stderr",
     "output_type": "stream",
     "text": [
      "/var/tmp/rojasolvera/ipykernel_122018/3486713291.py:6: FutureWarning: The frame.append method is deprecated and will be removed from pandas in a future version. Use pandas.concat instead.\n",
      "  outputs=outputs.append(output,sort=False)\n",
      "/var/tmp/rojasolvera/ipykernel_122018/3486713291.py:6: FutureWarning: The frame.append method is deprecated and will be removed from pandas in a future version. Use pandas.concat instead.\n",
      "  outputs=outputs.append(output,sort=False)\n",
      "/var/tmp/rojasolvera/ipykernel_122018/3486713291.py:6: FutureWarning: The frame.append method is deprecated and will be removed from pandas in a future version. Use pandas.concat instead.\n",
      "  outputs=outputs.append(output,sort=False)\n",
      "/var/tmp/rojasolvera/ipykernel_122018/3486713291.py:6: FutureWarning: The frame.append method is deprecated and will be removed from pandas in a future version. Use pandas.concat instead.\n",
      "  outputs=outputs.append(output,sort=False)\n"
     ]
    },
    {
     "name": "stdout",
     "output_type": "stream",
     "text": [
      "1/1 [==============================] - 0s 21ms/step\n",
      "1/1 [==============================] - 0s 20ms/step\n",
      "1/1 [==============================] - 0s 20ms/step\n",
      "1/1 [==============================] - 0s 21ms/step\n"
     ]
    },
    {
     "name": "stderr",
     "output_type": "stream",
     "text": [
      "/var/tmp/rojasolvera/ipykernel_122018/3486713291.py:6: FutureWarning: The frame.append method is deprecated and will be removed from pandas in a future version. Use pandas.concat instead.\n",
      "  outputs=outputs.append(output,sort=False)\n",
      "/var/tmp/rojasolvera/ipykernel_122018/3486713291.py:6: FutureWarning: The frame.append method is deprecated and will be removed from pandas in a future version. Use pandas.concat instead.\n",
      "  outputs=outputs.append(output,sort=False)\n",
      "/var/tmp/rojasolvera/ipykernel_122018/3486713291.py:6: FutureWarning: The frame.append method is deprecated and will be removed from pandas in a future version. Use pandas.concat instead.\n",
      "  outputs=outputs.append(output,sort=False)\n",
      "/var/tmp/rojasolvera/ipykernel_122018/3486713291.py:6: FutureWarning: The frame.append method is deprecated and will be removed from pandas in a future version. Use pandas.concat instead.\n",
      "  outputs=outputs.append(output,sort=False)\n"
     ]
    },
    {
     "name": "stdout",
     "output_type": "stream",
     "text": [
      "1/1 [==============================] - 0s 24ms/step\n",
      "1/1 [==============================] - 0s 21ms/step\n",
      "1/1 [==============================] - 0s 22ms/step\n",
      "1/1 [==============================] - 0s 22ms/step\n"
     ]
    },
    {
     "name": "stderr",
     "output_type": "stream",
     "text": [
      "/var/tmp/rojasolvera/ipykernel_122018/3486713291.py:6: FutureWarning: The frame.append method is deprecated and will be removed from pandas in a future version. Use pandas.concat instead.\n",
      "  outputs=outputs.append(output,sort=False)\n",
      "/var/tmp/rojasolvera/ipykernel_122018/3486713291.py:6: FutureWarning: The frame.append method is deprecated and will be removed from pandas in a future version. Use pandas.concat instead.\n",
      "  outputs=outputs.append(output,sort=False)\n",
      "/var/tmp/rojasolvera/ipykernel_122018/3486713291.py:6: FutureWarning: The frame.append method is deprecated and will be removed from pandas in a future version. Use pandas.concat instead.\n",
      "  outputs=outputs.append(output,sort=False)\n",
      "/var/tmp/rojasolvera/ipykernel_122018/3486713291.py:6: FutureWarning: The frame.append method is deprecated and will be removed from pandas in a future version. Use pandas.concat instead.\n",
      "  outputs=outputs.append(output,sort=False)\n"
     ]
    },
    {
     "name": "stdout",
     "output_type": "stream",
     "text": [
      "1/1 [==============================] - 0s 21ms/step\n",
      "1/1 [==============================] - 0s 21ms/step\n",
      "1/1 [==============================] - 0s 21ms/step\n",
      "1/1 [==============================] - 0s 21ms/step\n"
     ]
    },
    {
     "name": "stderr",
     "output_type": "stream",
     "text": [
      "/var/tmp/rojasolvera/ipykernel_122018/3486713291.py:6: FutureWarning: The frame.append method is deprecated and will be removed from pandas in a future version. Use pandas.concat instead.\n",
      "  outputs=outputs.append(output,sort=False)\n",
      "/var/tmp/rojasolvera/ipykernel_122018/3486713291.py:6: FutureWarning: The frame.append method is deprecated and will be removed from pandas in a future version. Use pandas.concat instead.\n",
      "  outputs=outputs.append(output,sort=False)\n",
      "/var/tmp/rojasolvera/ipykernel_122018/3486713291.py:6: FutureWarning: The frame.append method is deprecated and will be removed from pandas in a future version. Use pandas.concat instead.\n",
      "  outputs=outputs.append(output,sort=False)\n",
      "/var/tmp/rojasolvera/ipykernel_122018/3486713291.py:6: FutureWarning: The frame.append method is deprecated and will be removed from pandas in a future version. Use pandas.concat instead.\n",
      "  outputs=outputs.append(output,sort=False)\n"
     ]
    },
    {
     "name": "stdout",
     "output_type": "stream",
     "text": [
      "1/1 [==============================] - 0s 21ms/step\n",
      "1/1 [==============================] - 0s 22ms/step\n",
      "1/1 [==============================] - 0s 21ms/step\n",
      "1/1 [==============================] - 0s 21ms/step\n"
     ]
    },
    {
     "name": "stderr",
     "output_type": "stream",
     "text": [
      "/var/tmp/rojasolvera/ipykernel_122018/3486713291.py:6: FutureWarning: The frame.append method is deprecated and will be removed from pandas in a future version. Use pandas.concat instead.\n",
      "  outputs=outputs.append(output,sort=False)\n",
      "/var/tmp/rojasolvera/ipykernel_122018/3486713291.py:6: FutureWarning: The frame.append method is deprecated and will be removed from pandas in a future version. Use pandas.concat instead.\n",
      "  outputs=outputs.append(output,sort=False)\n",
      "/var/tmp/rojasolvera/ipykernel_122018/3486713291.py:6: FutureWarning: The frame.append method is deprecated and will be removed from pandas in a future version. Use pandas.concat instead.\n",
      "  outputs=outputs.append(output,sort=False)\n",
      "/var/tmp/rojasolvera/ipykernel_122018/3486713291.py:6: FutureWarning: The frame.append method is deprecated and will be removed from pandas in a future version. Use pandas.concat instead.\n",
      "  outputs=outputs.append(output,sort=False)\n"
     ]
    },
    {
     "name": "stdout",
     "output_type": "stream",
     "text": [
      "1/1 [==============================] - 0s 21ms/step\n",
      "1/1 [==============================] - 0s 22ms/step\n",
      "1/1 [==============================] - 0s 21ms/step\n",
      "1/1 [==============================] - 0s 21ms/step\n"
     ]
    },
    {
     "name": "stderr",
     "output_type": "stream",
     "text": [
      "/var/tmp/rojasolvera/ipykernel_122018/3486713291.py:6: FutureWarning: The frame.append method is deprecated and will be removed from pandas in a future version. Use pandas.concat instead.\n",
      "  outputs=outputs.append(output,sort=False)\n",
      "/var/tmp/rojasolvera/ipykernel_122018/3486713291.py:6: FutureWarning: The frame.append method is deprecated and will be removed from pandas in a future version. Use pandas.concat instead.\n",
      "  outputs=outputs.append(output,sort=False)\n",
      "/var/tmp/rojasolvera/ipykernel_122018/3486713291.py:6: FutureWarning: The frame.append method is deprecated and will be removed from pandas in a future version. Use pandas.concat instead.\n",
      "  outputs=outputs.append(output,sort=False)\n",
      "/var/tmp/rojasolvera/ipykernel_122018/3486713291.py:6: FutureWarning: The frame.append method is deprecated and will be removed from pandas in a future version. Use pandas.concat instead.\n",
      "  outputs=outputs.append(output,sort=False)\n"
     ]
    },
    {
     "name": "stdout",
     "output_type": "stream",
     "text": [
      "1/1 [==============================] - 0s 23ms/step\n",
      "1/1 [==============================] - 0s 21ms/step\n",
      "1/1 [==============================] - 0s 21ms/step\n",
      "1/1 [==============================] - 0s 22ms/step\n"
     ]
    },
    {
     "name": "stderr",
     "output_type": "stream",
     "text": [
      "/var/tmp/rojasolvera/ipykernel_122018/3486713291.py:6: FutureWarning: The frame.append method is deprecated and will be removed from pandas in a future version. Use pandas.concat instead.\n",
      "  outputs=outputs.append(output,sort=False)\n",
      "/var/tmp/rojasolvera/ipykernel_122018/3486713291.py:6: FutureWarning: The frame.append method is deprecated and will be removed from pandas in a future version. Use pandas.concat instead.\n",
      "  outputs=outputs.append(output,sort=False)\n",
      "/var/tmp/rojasolvera/ipykernel_122018/3486713291.py:6: FutureWarning: The frame.append method is deprecated and will be removed from pandas in a future version. Use pandas.concat instead.\n",
      "  outputs=outputs.append(output,sort=False)\n",
      "/var/tmp/rojasolvera/ipykernel_122018/3486713291.py:6: FutureWarning: The frame.append method is deprecated and will be removed from pandas in a future version. Use pandas.concat instead.\n",
      "  outputs=outputs.append(output,sort=False)\n"
     ]
    },
    {
     "name": "stdout",
     "output_type": "stream",
     "text": [
      "1/1 [==============================] - 0s 22ms/step\n",
      "1/1 [==============================] - 0s 22ms/step\n",
      "1/1 [==============================] - 0s 21ms/step\n",
      "1/1 [==============================] - 0s 22ms/step\n"
     ]
    },
    {
     "name": "stderr",
     "output_type": "stream",
     "text": [
      "/var/tmp/rojasolvera/ipykernel_122018/3486713291.py:6: FutureWarning: The frame.append method is deprecated and will be removed from pandas in a future version. Use pandas.concat instead.\n",
      "  outputs=outputs.append(output,sort=False)\n",
      "/var/tmp/rojasolvera/ipykernel_122018/3486713291.py:6: FutureWarning: The frame.append method is deprecated and will be removed from pandas in a future version. Use pandas.concat instead.\n",
      "  outputs=outputs.append(output,sort=False)\n",
      "/var/tmp/rojasolvera/ipykernel_122018/3486713291.py:6: FutureWarning: The frame.append method is deprecated and will be removed from pandas in a future version. Use pandas.concat instead.\n",
      "  outputs=outputs.append(output,sort=False)\n",
      "/var/tmp/rojasolvera/ipykernel_122018/3486713291.py:6: FutureWarning: The frame.append method is deprecated and will be removed from pandas in a future version. Use pandas.concat instead.\n",
      "  outputs=outputs.append(output,sort=False)\n"
     ]
    },
    {
     "name": "stdout",
     "output_type": "stream",
     "text": [
      "1/1 [==============================] - 0s 22ms/step\n",
      "1/1 [==============================] - 0s 21ms/step\n",
      "1/1 [==============================] - 0s 22ms/step\n",
      "1/1 [==============================] - 0s 21ms/step\n"
     ]
    },
    {
     "name": "stderr",
     "output_type": "stream",
     "text": [
      "/var/tmp/rojasolvera/ipykernel_122018/3486713291.py:6: FutureWarning: The frame.append method is deprecated and will be removed from pandas in a future version. Use pandas.concat instead.\n",
      "  outputs=outputs.append(output,sort=False)\n",
      "/var/tmp/rojasolvera/ipykernel_122018/3486713291.py:6: FutureWarning: The frame.append method is deprecated and will be removed from pandas in a future version. Use pandas.concat instead.\n",
      "  outputs=outputs.append(output,sort=False)\n",
      "/var/tmp/rojasolvera/ipykernel_122018/3486713291.py:6: FutureWarning: The frame.append method is deprecated and will be removed from pandas in a future version. Use pandas.concat instead.\n",
      "  outputs=outputs.append(output,sort=False)\n"
     ]
    },
    {
     "name": "stdout",
     "output_type": "stream",
     "text": [
      "1/1 [==============================] - 0s 22ms/step\n",
      "1/1 [==============================] - 0s 22ms/step\n",
      "1/1 [==============================] - 0s 21ms/step\n"
     ]
    },
    {
     "name": "stderr",
     "output_type": "stream",
     "text": [
      "/var/tmp/rojasolvera/ipykernel_122018/3486713291.py:6: FutureWarning: The frame.append method is deprecated and will be removed from pandas in a future version. Use pandas.concat instead.\n",
      "  outputs=outputs.append(output,sort=False)\n",
      "/var/tmp/rojasolvera/ipykernel_122018/3486713291.py:6: FutureWarning: The frame.append method is deprecated and will be removed from pandas in a future version. Use pandas.concat instead.\n",
      "  outputs=outputs.append(output,sort=False)\n",
      "/var/tmp/rojasolvera/ipykernel_122018/3486713291.py:6: FutureWarning: The frame.append method is deprecated and will be removed from pandas in a future version. Use pandas.concat instead.\n",
      "  outputs=outputs.append(output,sort=False)\n",
      "/var/tmp/rojasolvera/ipykernel_122018/3486713291.py:6: FutureWarning: The frame.append method is deprecated and will be removed from pandas in a future version. Use pandas.concat instead.\n",
      "  outputs=outputs.append(output,sort=False)\n"
     ]
    },
    {
     "name": "stdout",
     "output_type": "stream",
     "text": [
      "1/1 [==============================] - 0s 21ms/step\n",
      "1/1 [==============================] - 0s 23ms/step\n",
      "1/1 [==============================] - 0s 21ms/step\n",
      "1/1 [==============================] - 0s 21ms/step\n"
     ]
    },
    {
     "name": "stderr",
     "output_type": "stream",
     "text": [
      "/var/tmp/rojasolvera/ipykernel_122018/3486713291.py:6: FutureWarning: The frame.append method is deprecated and will be removed from pandas in a future version. Use pandas.concat instead.\n",
      "  outputs=outputs.append(output,sort=False)\n",
      "/var/tmp/rojasolvera/ipykernel_122018/3486713291.py:6: FutureWarning: The frame.append method is deprecated and will be removed from pandas in a future version. Use pandas.concat instead.\n",
      "  outputs=outputs.append(output,sort=False)\n",
      "/var/tmp/rojasolvera/ipykernel_122018/3486713291.py:6: FutureWarning: The frame.append method is deprecated and will be removed from pandas in a future version. Use pandas.concat instead.\n",
      "  outputs=outputs.append(output,sort=False)\n",
      "/var/tmp/rojasolvera/ipykernel_122018/3486713291.py:6: FutureWarning: The frame.append method is deprecated and will be removed from pandas in a future version. Use pandas.concat instead.\n",
      "  outputs=outputs.append(output,sort=False)\n"
     ]
    },
    {
     "name": "stdout",
     "output_type": "stream",
     "text": [
      "1/1 [==============================] - 0s 23ms/step\n",
      "1/1 [==============================] - 0s 22ms/step\n",
      "1/1 [==============================] - 0s 23ms/step\n",
      "1/1 [==============================] - 0s 21ms/step\n"
     ]
    },
    {
     "name": "stderr",
     "output_type": "stream",
     "text": [
      "/var/tmp/rojasolvera/ipykernel_122018/3486713291.py:6: FutureWarning: The frame.append method is deprecated and will be removed from pandas in a future version. Use pandas.concat instead.\n",
      "  outputs=outputs.append(output,sort=False)\n",
      "/var/tmp/rojasolvera/ipykernel_122018/3486713291.py:6: FutureWarning: The frame.append method is deprecated and will be removed from pandas in a future version. Use pandas.concat instead.\n",
      "  outputs=outputs.append(output,sort=False)\n",
      "/var/tmp/rojasolvera/ipykernel_122018/3486713291.py:6: FutureWarning: The frame.append method is deprecated and will be removed from pandas in a future version. Use pandas.concat instead.\n",
      "  outputs=outputs.append(output,sort=False)\n",
      "/var/tmp/rojasolvera/ipykernel_122018/3486713291.py:6: FutureWarning: The frame.append method is deprecated and will be removed from pandas in a future version. Use pandas.concat instead.\n",
      "  outputs=outputs.append(output,sort=False)\n"
     ]
    },
    {
     "name": "stdout",
     "output_type": "stream",
     "text": [
      "1/1 [==============================] - 0s 22ms/step\n",
      "1/1 [==============================] - 0s 22ms/step\n",
      "1/1 [==============================] - 0s 21ms/step\n",
      "1/1 [==============================] - 0s 21ms/step\n"
     ]
    },
    {
     "name": "stderr",
     "output_type": "stream",
     "text": [
      "/var/tmp/rojasolvera/ipykernel_122018/3486713291.py:6: FutureWarning: The frame.append method is deprecated and will be removed from pandas in a future version. Use pandas.concat instead.\n",
      "  outputs=outputs.append(output,sort=False)\n",
      "/var/tmp/rojasolvera/ipykernel_122018/3486713291.py:6: FutureWarning: The frame.append method is deprecated and will be removed from pandas in a future version. Use pandas.concat instead.\n",
      "  outputs=outputs.append(output,sort=False)\n",
      "/var/tmp/rojasolvera/ipykernel_122018/3486713291.py:6: FutureWarning: The frame.append method is deprecated and will be removed from pandas in a future version. Use pandas.concat instead.\n",
      "  outputs=outputs.append(output,sort=False)\n",
      "/var/tmp/rojasolvera/ipykernel_122018/3486713291.py:6: FutureWarning: The frame.append method is deprecated and will be removed from pandas in a future version. Use pandas.concat instead.\n",
      "  outputs=outputs.append(output,sort=False)\n"
     ]
    },
    {
     "name": "stdout",
     "output_type": "stream",
     "text": [
      "1/1 [==============================] - 0s 21ms/step\n",
      "1/1 [==============================] - 0s 20ms/step\n",
      "1/1 [==============================] - 0s 21ms/step\n",
      "1/1 [==============================] - 0s 22ms/step\n"
     ]
    },
    {
     "name": "stderr",
     "output_type": "stream",
     "text": [
      "/var/tmp/rojasolvera/ipykernel_122018/3486713291.py:6: FutureWarning: The frame.append method is deprecated and will be removed from pandas in a future version. Use pandas.concat instead.\n",
      "  outputs=outputs.append(output,sort=False)\n",
      "/var/tmp/rojasolvera/ipykernel_122018/3486713291.py:6: FutureWarning: The frame.append method is deprecated and will be removed from pandas in a future version. Use pandas.concat instead.\n",
      "  outputs=outputs.append(output,sort=False)\n",
      "/var/tmp/rojasolvera/ipykernel_122018/3486713291.py:6: FutureWarning: The frame.append method is deprecated and will be removed from pandas in a future version. Use pandas.concat instead.\n",
      "  outputs=outputs.append(output,sort=False)\n",
      "/var/tmp/rojasolvera/ipykernel_122018/3486713291.py:6: FutureWarning: The frame.append method is deprecated and will be removed from pandas in a future version. Use pandas.concat instead.\n",
      "  outputs=outputs.append(output,sort=False)\n"
     ]
    },
    {
     "name": "stdout",
     "output_type": "stream",
     "text": [
      "1/1 [==============================] - 0s 21ms/step\n",
      "1/1 [==============================] - 0s 22ms/step\n",
      "1/1 [==============================] - 0s 21ms/step\n",
      "1/1 [==============================] - 0s 21ms/step\n"
     ]
    },
    {
     "name": "stderr",
     "output_type": "stream",
     "text": [
      "/var/tmp/rojasolvera/ipykernel_122018/3486713291.py:6: FutureWarning: The frame.append method is deprecated and will be removed from pandas in a future version. Use pandas.concat instead.\n",
      "  outputs=outputs.append(output,sort=False)\n",
      "/var/tmp/rojasolvera/ipykernel_122018/3486713291.py:6: FutureWarning: The frame.append method is deprecated and will be removed from pandas in a future version. Use pandas.concat instead.\n",
      "  outputs=outputs.append(output,sort=False)\n",
      "/var/tmp/rojasolvera/ipykernel_122018/3486713291.py:6: FutureWarning: The frame.append method is deprecated and will be removed from pandas in a future version. Use pandas.concat instead.\n",
      "  outputs=outputs.append(output,sort=False)\n",
      "/var/tmp/rojasolvera/ipykernel_122018/3486713291.py:6: FutureWarning: The frame.append method is deprecated and will be removed from pandas in a future version. Use pandas.concat instead.\n",
      "  outputs=outputs.append(output,sort=False)\n"
     ]
    },
    {
     "name": "stdout",
     "output_type": "stream",
     "text": [
      "1/1 [==============================] - 0s 21ms/step\n",
      "1/1 [==============================] - 0s 21ms/step\n",
      "1/1 [==============================] - 0s 21ms/step\n",
      "1/1 [==============================] - 0s 21ms/step\n"
     ]
    },
    {
     "name": "stderr",
     "output_type": "stream",
     "text": [
      "/var/tmp/rojasolvera/ipykernel_122018/3486713291.py:6: FutureWarning: The frame.append method is deprecated and will be removed from pandas in a future version. Use pandas.concat instead.\n",
      "  outputs=outputs.append(output,sort=False)\n",
      "/var/tmp/rojasolvera/ipykernel_122018/3486713291.py:6: FutureWarning: The frame.append method is deprecated and will be removed from pandas in a future version. Use pandas.concat instead.\n",
      "  outputs=outputs.append(output,sort=False)\n",
      "/var/tmp/rojasolvera/ipykernel_122018/3486713291.py:6: FutureWarning: The frame.append method is deprecated and will be removed from pandas in a future version. Use pandas.concat instead.\n",
      "  outputs=outputs.append(output,sort=False)\n",
      "/var/tmp/rojasolvera/ipykernel_122018/3486713291.py:6: FutureWarning: The frame.append method is deprecated and will be removed from pandas in a future version. Use pandas.concat instead.\n",
      "  outputs=outputs.append(output,sort=False)\n"
     ]
    },
    {
     "name": "stdout",
     "output_type": "stream",
     "text": [
      "1/1 [==============================] - 0s 22ms/step\n",
      "1/1 [==============================] - 0s 21ms/step\n",
      "1/1 [==============================] - 0s 22ms/step\n",
      "1/1 [==============================] - 0s 21ms/step\n"
     ]
    },
    {
     "name": "stderr",
     "output_type": "stream",
     "text": [
      "/var/tmp/rojasolvera/ipykernel_122018/3486713291.py:6: FutureWarning: The frame.append method is deprecated and will be removed from pandas in a future version. Use pandas.concat instead.\n",
      "  outputs=outputs.append(output,sort=False)\n",
      "/var/tmp/rojasolvera/ipykernel_122018/3486713291.py:6: FutureWarning: The frame.append method is deprecated and will be removed from pandas in a future version. Use pandas.concat instead.\n",
      "  outputs=outputs.append(output,sort=False)\n",
      "/var/tmp/rojasolvera/ipykernel_122018/3486713291.py:6: FutureWarning: The frame.append method is deprecated and will be removed from pandas in a future version. Use pandas.concat instead.\n",
      "  outputs=outputs.append(output,sort=False)\n",
      "/var/tmp/rojasolvera/ipykernel_122018/3486713291.py:6: FutureWarning: The frame.append method is deprecated and will be removed from pandas in a future version. Use pandas.concat instead.\n",
      "  outputs=outputs.append(output,sort=False)\n"
     ]
    },
    {
     "name": "stdout",
     "output_type": "stream",
     "text": [
      "1/1 [==============================] - 0s 29ms/step\n",
      "1/1 [==============================] - 0s 21ms/step\n",
      "1/1 [==============================] - 0s 21ms/step\n",
      "1/1 [==============================] - 0s 20ms/step\n"
     ]
    },
    {
     "name": "stderr",
     "output_type": "stream",
     "text": [
      "/var/tmp/rojasolvera/ipykernel_122018/3486713291.py:6: FutureWarning: The frame.append method is deprecated and will be removed from pandas in a future version. Use pandas.concat instead.\n",
      "  outputs=outputs.append(output,sort=False)\n",
      "/var/tmp/rojasolvera/ipykernel_122018/3486713291.py:6: FutureWarning: The frame.append method is deprecated and will be removed from pandas in a future version. Use pandas.concat instead.\n",
      "  outputs=outputs.append(output,sort=False)\n",
      "/var/tmp/rojasolvera/ipykernel_122018/3486713291.py:6: FutureWarning: The frame.append method is deprecated and will be removed from pandas in a future version. Use pandas.concat instead.\n",
      "  outputs=outputs.append(output,sort=False)\n",
      "/var/tmp/rojasolvera/ipykernel_122018/3486713291.py:6: FutureWarning: The frame.append method is deprecated and will be removed from pandas in a future version. Use pandas.concat instead.\n",
      "  outputs=outputs.append(output,sort=False)\n"
     ]
    },
    {
     "name": "stdout",
     "output_type": "stream",
     "text": [
      "1/1 [==============================] - 0s 22ms/step\n",
      "1/1 [==============================] - 0s 21ms/step\n",
      "1/1 [==============================] - 0s 21ms/step\n",
      "1/1 [==============================] - 0s 21ms/step\n"
     ]
    },
    {
     "name": "stderr",
     "output_type": "stream",
     "text": [
      "/var/tmp/rojasolvera/ipykernel_122018/3486713291.py:6: FutureWarning: The frame.append method is deprecated and will be removed from pandas in a future version. Use pandas.concat instead.\n",
      "  outputs=outputs.append(output,sort=False)\n",
      "/var/tmp/rojasolvera/ipykernel_122018/3486713291.py:6: FutureWarning: The frame.append method is deprecated and will be removed from pandas in a future version. Use pandas.concat instead.\n",
      "  outputs=outputs.append(output,sort=False)\n",
      "/var/tmp/rojasolvera/ipykernel_122018/3486713291.py:6: FutureWarning: The frame.append method is deprecated and will be removed from pandas in a future version. Use pandas.concat instead.\n",
      "  outputs=outputs.append(output,sort=False)\n",
      "/var/tmp/rojasolvera/ipykernel_122018/3486713291.py:6: FutureWarning: The frame.append method is deprecated and will be removed from pandas in a future version. Use pandas.concat instead.\n",
      "  outputs=outputs.append(output,sort=False)\n"
     ]
    },
    {
     "name": "stdout",
     "output_type": "stream",
     "text": [
      "1/1 [==============================] - 0s 21ms/step\n",
      "1/1 [==============================] - 0s 22ms/step\n",
      "1/1 [==============================] - 0s 21ms/step\n",
      "1/1 [==============================] - 0s 22ms/step\n"
     ]
    },
    {
     "name": "stderr",
     "output_type": "stream",
     "text": [
      "/var/tmp/rojasolvera/ipykernel_122018/3486713291.py:6: FutureWarning: The frame.append method is deprecated and will be removed from pandas in a future version. Use pandas.concat instead.\n",
      "  outputs=outputs.append(output,sort=False)\n",
      "/var/tmp/rojasolvera/ipykernel_122018/3486713291.py:6: FutureWarning: The frame.append method is deprecated and will be removed from pandas in a future version. Use pandas.concat instead.\n",
      "  outputs=outputs.append(output,sort=False)\n",
      "/var/tmp/rojasolvera/ipykernel_122018/3486713291.py:6: FutureWarning: The frame.append method is deprecated and will be removed from pandas in a future version. Use pandas.concat instead.\n",
      "  outputs=outputs.append(output,sort=False)\n",
      "/var/tmp/rojasolvera/ipykernel_122018/3486713291.py:6: FutureWarning: The frame.append method is deprecated and will be removed from pandas in a future version. Use pandas.concat instead.\n",
      "  outputs=outputs.append(output,sort=False)\n"
     ]
    },
    {
     "name": "stdout",
     "output_type": "stream",
     "text": [
      "1/1 [==============================] - 0s 22ms/step\n",
      "1/1 [==============================] - 0s 21ms/step\n",
      "1/1 [==============================] - 0s 21ms/step\n",
      "1/1 [==============================] - 0s 21ms/step\n"
     ]
    },
    {
     "name": "stderr",
     "output_type": "stream",
     "text": [
      "/var/tmp/rojasolvera/ipykernel_122018/3486713291.py:6: FutureWarning: The frame.append method is deprecated and will be removed from pandas in a future version. Use pandas.concat instead.\n",
      "  outputs=outputs.append(output,sort=False)\n",
      "/var/tmp/rojasolvera/ipykernel_122018/3486713291.py:6: FutureWarning: The frame.append method is deprecated and will be removed from pandas in a future version. Use pandas.concat instead.\n",
      "  outputs=outputs.append(output,sort=False)\n",
      "/var/tmp/rojasolvera/ipykernel_122018/3486713291.py:6: FutureWarning: The frame.append method is deprecated and will be removed from pandas in a future version. Use pandas.concat instead.\n",
      "  outputs=outputs.append(output,sort=False)\n",
      "/var/tmp/rojasolvera/ipykernel_122018/3486713291.py:6: FutureWarning: The frame.append method is deprecated and will be removed from pandas in a future version. Use pandas.concat instead.\n",
      "  outputs=outputs.append(output,sort=False)\n"
     ]
    },
    {
     "name": "stdout",
     "output_type": "stream",
     "text": [
      "1/1 [==============================] - 0s 22ms/step\n",
      "1/1 [==============================] - 0s 21ms/step\n",
      "1/1 [==============================] - 0s 21ms/step\n",
      "1/1 [==============================] - 0s 21ms/step\n"
     ]
    },
    {
     "name": "stderr",
     "output_type": "stream",
     "text": [
      "/var/tmp/rojasolvera/ipykernel_122018/3486713291.py:6: FutureWarning: The frame.append method is deprecated and will be removed from pandas in a future version. Use pandas.concat instead.\n",
      "  outputs=outputs.append(output,sort=False)\n",
      "/var/tmp/rojasolvera/ipykernel_122018/3486713291.py:6: FutureWarning: The frame.append method is deprecated and will be removed from pandas in a future version. Use pandas.concat instead.\n",
      "  outputs=outputs.append(output,sort=False)\n",
      "/var/tmp/rojasolvera/ipykernel_122018/3486713291.py:6: FutureWarning: The frame.append method is deprecated and will be removed from pandas in a future version. Use pandas.concat instead.\n",
      "  outputs=outputs.append(output,sort=False)\n",
      "/var/tmp/rojasolvera/ipykernel_122018/3486713291.py:6: FutureWarning: The frame.append method is deprecated and will be removed from pandas in a future version. Use pandas.concat instead.\n",
      "  outputs=outputs.append(output,sort=False)\n"
     ]
    },
    {
     "name": "stdout",
     "output_type": "stream",
     "text": [
      "1/1 [==============================] - 0s 22ms/step\n",
      "1/1 [==============================] - 0s 21ms/step\n",
      "1/1 [==============================] - 0s 21ms/step\n",
      "1/1 [==============================] - 0s 21ms/step\n"
     ]
    },
    {
     "name": "stderr",
     "output_type": "stream",
     "text": [
      "/var/tmp/rojasolvera/ipykernel_122018/3486713291.py:6: FutureWarning: The frame.append method is deprecated and will be removed from pandas in a future version. Use pandas.concat instead.\n",
      "  outputs=outputs.append(output,sort=False)\n",
      "/var/tmp/rojasolvera/ipykernel_122018/3486713291.py:6: FutureWarning: The frame.append method is deprecated and will be removed from pandas in a future version. Use pandas.concat instead.\n",
      "  outputs=outputs.append(output,sort=False)\n",
      "/var/tmp/rojasolvera/ipykernel_122018/3486713291.py:6: FutureWarning: The frame.append method is deprecated and will be removed from pandas in a future version. Use pandas.concat instead.\n",
      "  outputs=outputs.append(output,sort=False)\n",
      "/var/tmp/rojasolvera/ipykernel_122018/3486713291.py:6: FutureWarning: The frame.append method is deprecated and will be removed from pandas in a future version. Use pandas.concat instead.\n",
      "  outputs=outputs.append(output,sort=False)\n"
     ]
    },
    {
     "name": "stdout",
     "output_type": "stream",
     "text": [
      "1/1 [==============================] - 0s 22ms/step\n",
      "1/1 [==============================] - 0s 21ms/step\n",
      "1/1 [==============================] - 0s 20ms/step\n",
      "1/1 [==============================] - 0s 21ms/step\n"
     ]
    },
    {
     "name": "stderr",
     "output_type": "stream",
     "text": [
      "/var/tmp/rojasolvera/ipykernel_122018/3486713291.py:6: FutureWarning: The frame.append method is deprecated and will be removed from pandas in a future version. Use pandas.concat instead.\n",
      "  outputs=outputs.append(output,sort=False)\n",
      "/var/tmp/rojasolvera/ipykernel_122018/3486713291.py:6: FutureWarning: The frame.append method is deprecated and will be removed from pandas in a future version. Use pandas.concat instead.\n",
      "  outputs=outputs.append(output,sort=False)\n",
      "/var/tmp/rojasolvera/ipykernel_122018/3486713291.py:6: FutureWarning: The frame.append method is deprecated and will be removed from pandas in a future version. Use pandas.concat instead.\n",
      "  outputs=outputs.append(output,sort=False)\n",
      "/var/tmp/rojasolvera/ipykernel_122018/3486713291.py:6: FutureWarning: The frame.append method is deprecated and will be removed from pandas in a future version. Use pandas.concat instead.\n",
      "  outputs=outputs.append(output,sort=False)\n"
     ]
    },
    {
     "name": "stdout",
     "output_type": "stream",
     "text": [
      "1/1 [==============================] - 0s 20ms/step\n",
      "1/1 [==============================] - 0s 21ms/step\n",
      "1/1 [==============================] - 0s 21ms/step\n",
      "1/1 [==============================] - 0s 21ms/step\n"
     ]
    },
    {
     "name": "stderr",
     "output_type": "stream",
     "text": [
      "/var/tmp/rojasolvera/ipykernel_122018/3486713291.py:6: FutureWarning: The frame.append method is deprecated and will be removed from pandas in a future version. Use pandas.concat instead.\n",
      "  outputs=outputs.append(output,sort=False)\n",
      "/var/tmp/rojasolvera/ipykernel_122018/3486713291.py:6: FutureWarning: The frame.append method is deprecated and will be removed from pandas in a future version. Use pandas.concat instead.\n",
      "  outputs=outputs.append(output,sort=False)\n",
      "/var/tmp/rojasolvera/ipykernel_122018/3486713291.py:6: FutureWarning: The frame.append method is deprecated and will be removed from pandas in a future version. Use pandas.concat instead.\n",
      "  outputs=outputs.append(output,sort=False)\n",
      "/var/tmp/rojasolvera/ipykernel_122018/3486713291.py:6: FutureWarning: The frame.append method is deprecated and will be removed from pandas in a future version. Use pandas.concat instead.\n",
      "  outputs=outputs.append(output,sort=False)\n"
     ]
    },
    {
     "name": "stdout",
     "output_type": "stream",
     "text": [
      "1/1 [==============================] - 0s 21ms/step\n",
      "1/1 [==============================] - 0s 21ms/step\n",
      "1/1 [==============================] - 0s 22ms/step\n",
      "1/1 [==============================] - 0s 21ms/step\n"
     ]
    },
    {
     "name": "stderr",
     "output_type": "stream",
     "text": [
      "/var/tmp/rojasolvera/ipykernel_122018/3486713291.py:6: FutureWarning: The frame.append method is deprecated and will be removed from pandas in a future version. Use pandas.concat instead.\n",
      "  outputs=outputs.append(output,sort=False)\n",
      "/var/tmp/rojasolvera/ipykernel_122018/3486713291.py:6: FutureWarning: The frame.append method is deprecated and will be removed from pandas in a future version. Use pandas.concat instead.\n",
      "  outputs=outputs.append(output,sort=False)\n",
      "/var/tmp/rojasolvera/ipykernel_122018/3486713291.py:6: FutureWarning: The frame.append method is deprecated and will be removed from pandas in a future version. Use pandas.concat instead.\n",
      "  outputs=outputs.append(output,sort=False)\n",
      "/var/tmp/rojasolvera/ipykernel_122018/3486713291.py:6: FutureWarning: The frame.append method is deprecated and will be removed from pandas in a future version. Use pandas.concat instead.\n",
      "  outputs=outputs.append(output,sort=False)\n"
     ]
    },
    {
     "name": "stdout",
     "output_type": "stream",
     "text": [
      "1/1 [==============================] - 0s 22ms/step\n",
      "1/1 [==============================] - 0s 21ms/step\n",
      "1/1 [==============================] - 0s 21ms/step\n",
      "1/1 [==============================] - 0s 20ms/step\n"
     ]
    },
    {
     "name": "stderr",
     "output_type": "stream",
     "text": [
      "/var/tmp/rojasolvera/ipykernel_122018/3486713291.py:6: FutureWarning: The frame.append method is deprecated and will be removed from pandas in a future version. Use pandas.concat instead.\n",
      "  outputs=outputs.append(output,sort=False)\n",
      "/var/tmp/rojasolvera/ipykernel_122018/3486713291.py:6: FutureWarning: The frame.append method is deprecated and will be removed from pandas in a future version. Use pandas.concat instead.\n",
      "  outputs=outputs.append(output,sort=False)\n",
      "/var/tmp/rojasolvera/ipykernel_122018/3486713291.py:6: FutureWarning: The frame.append method is deprecated and will be removed from pandas in a future version. Use pandas.concat instead.\n",
      "  outputs=outputs.append(output,sort=False)\n",
      "/var/tmp/rojasolvera/ipykernel_122018/3486713291.py:6: FutureWarning: The frame.append method is deprecated and will be removed from pandas in a future version. Use pandas.concat instead.\n",
      "  outputs=outputs.append(output,sort=False)\n"
     ]
    },
    {
     "name": "stdout",
     "output_type": "stream",
     "text": [
      "1/1 [==============================] - 0s 21ms/step\n",
      "1/1 [==============================] - 0s 22ms/step\n",
      "1/1 [==============================] - 0s 21ms/step\n",
      "1/1 [==============================] - 0s 21ms/step\n"
     ]
    },
    {
     "name": "stderr",
     "output_type": "stream",
     "text": [
      "/var/tmp/rojasolvera/ipykernel_122018/3486713291.py:6: FutureWarning: The frame.append method is deprecated and will be removed from pandas in a future version. Use pandas.concat instead.\n",
      "  outputs=outputs.append(output,sort=False)\n",
      "/var/tmp/rojasolvera/ipykernel_122018/3486713291.py:6: FutureWarning: The frame.append method is deprecated and will be removed from pandas in a future version. Use pandas.concat instead.\n",
      "  outputs=outputs.append(output,sort=False)\n",
      "/var/tmp/rojasolvera/ipykernel_122018/3486713291.py:6: FutureWarning: The frame.append method is deprecated and will be removed from pandas in a future version. Use pandas.concat instead.\n",
      "  outputs=outputs.append(output,sort=False)\n",
      "/var/tmp/rojasolvera/ipykernel_122018/3486713291.py:6: FutureWarning: The frame.append method is deprecated and will be removed from pandas in a future version. Use pandas.concat instead.\n",
      "  outputs=outputs.append(output,sort=False)\n"
     ]
    },
    {
     "name": "stdout",
     "output_type": "stream",
     "text": [
      "1/1 [==============================] - 0s 22ms/step\n",
      "1/1 [==============================] - 0s 21ms/step\n",
      "1/1 [==============================] - 0s 22ms/step\n",
      "1/1 [==============================] - 0s 21ms/step\n"
     ]
    },
    {
     "name": "stderr",
     "output_type": "stream",
     "text": [
      "/var/tmp/rojasolvera/ipykernel_122018/3486713291.py:6: FutureWarning: The frame.append method is deprecated and will be removed from pandas in a future version. Use pandas.concat instead.\n",
      "  outputs=outputs.append(output,sort=False)\n",
      "/var/tmp/rojasolvera/ipykernel_122018/3486713291.py:6: FutureWarning: The frame.append method is deprecated and will be removed from pandas in a future version. Use pandas.concat instead.\n",
      "  outputs=outputs.append(output,sort=False)\n",
      "/var/tmp/rojasolvera/ipykernel_122018/3486713291.py:6: FutureWarning: The frame.append method is deprecated and will be removed from pandas in a future version. Use pandas.concat instead.\n",
      "  outputs=outputs.append(output,sort=False)\n",
      "/var/tmp/rojasolvera/ipykernel_122018/3486713291.py:6: FutureWarning: The frame.append method is deprecated and will be removed from pandas in a future version. Use pandas.concat instead.\n",
      "  outputs=outputs.append(output,sort=False)\n"
     ]
    },
    {
     "name": "stdout",
     "output_type": "stream",
     "text": [
      "1/1 [==============================] - 0s 22ms/step\n",
      "1/1 [==============================] - 0s 21ms/step\n",
      "1/1 [==============================] - 0s 21ms/step\n",
      "1/1 [==============================] - 0s 21ms/step\n"
     ]
    },
    {
     "name": "stderr",
     "output_type": "stream",
     "text": [
      "/var/tmp/rojasolvera/ipykernel_122018/3486713291.py:6: FutureWarning: The frame.append method is deprecated and will be removed from pandas in a future version. Use pandas.concat instead.\n",
      "  outputs=outputs.append(output,sort=False)\n",
      "/var/tmp/rojasolvera/ipykernel_122018/3486713291.py:6: FutureWarning: The frame.append method is deprecated and will be removed from pandas in a future version. Use pandas.concat instead.\n",
      "  outputs=outputs.append(output,sort=False)\n",
      "/var/tmp/rojasolvera/ipykernel_122018/3486713291.py:6: FutureWarning: The frame.append method is deprecated and will be removed from pandas in a future version. Use pandas.concat instead.\n",
      "  outputs=outputs.append(output,sort=False)\n",
      "/var/tmp/rojasolvera/ipykernel_122018/3486713291.py:6: FutureWarning: The frame.append method is deprecated and will be removed from pandas in a future version. Use pandas.concat instead.\n",
      "  outputs=outputs.append(output,sort=False)\n"
     ]
    },
    {
     "name": "stdout",
     "output_type": "stream",
     "text": [
      "1/1 [==============================] - 0s 22ms/step\n",
      "1/1 [==============================] - 0s 21ms/step\n",
      "1/1 [==============================] - 0s 21ms/step\n",
      "1/1 [==============================] - 0s 22ms/step\n"
     ]
    },
    {
     "name": "stderr",
     "output_type": "stream",
     "text": [
      "/var/tmp/rojasolvera/ipykernel_122018/3486713291.py:6: FutureWarning: The frame.append method is deprecated and will be removed from pandas in a future version. Use pandas.concat instead.\n",
      "  outputs=outputs.append(output,sort=False)\n",
      "/var/tmp/rojasolvera/ipykernel_122018/3486713291.py:6: FutureWarning: The frame.append method is deprecated and will be removed from pandas in a future version. Use pandas.concat instead.\n",
      "  outputs=outputs.append(output,sort=False)\n",
      "/var/tmp/rojasolvera/ipykernel_122018/3486713291.py:6: FutureWarning: The frame.append method is deprecated and will be removed from pandas in a future version. Use pandas.concat instead.\n",
      "  outputs=outputs.append(output,sort=False)\n",
      "/var/tmp/rojasolvera/ipykernel_122018/3486713291.py:6: FutureWarning: The frame.append method is deprecated and will be removed from pandas in a future version. Use pandas.concat instead.\n",
      "  outputs=outputs.append(output,sort=False)\n"
     ]
    },
    {
     "name": "stdout",
     "output_type": "stream",
     "text": [
      "1/1 [==============================] - 0s 23ms/step\n",
      "1/1 [==============================] - 0s 21ms/step\n",
      "1/1 [==============================] - 0s 21ms/step\n",
      "1/1 [==============================] - 0s 21ms/step\n"
     ]
    },
    {
     "name": "stderr",
     "output_type": "stream",
     "text": [
      "/var/tmp/rojasolvera/ipykernel_122018/3486713291.py:6: FutureWarning: The frame.append method is deprecated and will be removed from pandas in a future version. Use pandas.concat instead.\n",
      "  outputs=outputs.append(output,sort=False)\n",
      "/var/tmp/rojasolvera/ipykernel_122018/3486713291.py:6: FutureWarning: The frame.append method is deprecated and will be removed from pandas in a future version. Use pandas.concat instead.\n",
      "  outputs=outputs.append(output,sort=False)\n",
      "/var/tmp/rojasolvera/ipykernel_122018/3486713291.py:6: FutureWarning: The frame.append method is deprecated and will be removed from pandas in a future version. Use pandas.concat instead.\n",
      "  outputs=outputs.append(output,sort=False)\n",
      "/var/tmp/rojasolvera/ipykernel_122018/3486713291.py:6: FutureWarning: The frame.append method is deprecated and will be removed from pandas in a future version. Use pandas.concat instead.\n",
      "  outputs=outputs.append(output,sort=False)\n"
     ]
    },
    {
     "name": "stdout",
     "output_type": "stream",
     "text": [
      "1/1 [==============================] - 0s 21ms/step\n",
      "1/1 [==============================] - 0s 21ms/step\n",
      "1/1 [==============================] - 0s 22ms/step\n",
      "1/1 [==============================] - 0s 22ms/step\n"
     ]
    },
    {
     "name": "stderr",
     "output_type": "stream",
     "text": [
      "/var/tmp/rojasolvera/ipykernel_122018/3486713291.py:6: FutureWarning: The frame.append method is deprecated and will be removed from pandas in a future version. Use pandas.concat instead.\n",
      "  outputs=outputs.append(output,sort=False)\n",
      "/var/tmp/rojasolvera/ipykernel_122018/3486713291.py:6: FutureWarning: The frame.append method is deprecated and will be removed from pandas in a future version. Use pandas.concat instead.\n",
      "  outputs=outputs.append(output,sort=False)\n",
      "/var/tmp/rojasolvera/ipykernel_122018/3486713291.py:6: FutureWarning: The frame.append method is deprecated and will be removed from pandas in a future version. Use pandas.concat instead.\n",
      "  outputs=outputs.append(output,sort=False)\n",
      "/var/tmp/rojasolvera/ipykernel_122018/3486713291.py:6: FutureWarning: The frame.append method is deprecated and will be removed from pandas in a future version. Use pandas.concat instead.\n",
      "  outputs=outputs.append(output,sort=False)\n"
     ]
    },
    {
     "name": "stdout",
     "output_type": "stream",
     "text": [
      "1/1 [==============================] - 0s 22ms/step\n",
      "1/1 [==============================] - 0s 21ms/step\n",
      "1/1 [==============================] - 0s 22ms/step\n",
      "1/1 [==============================] - 0s 22ms/step\n"
     ]
    },
    {
     "name": "stderr",
     "output_type": "stream",
     "text": [
      "/var/tmp/rojasolvera/ipykernel_122018/3486713291.py:6: FutureWarning: The frame.append method is deprecated and will be removed from pandas in a future version. Use pandas.concat instead.\n",
      "  outputs=outputs.append(output,sort=False)\n",
      "/var/tmp/rojasolvera/ipykernel_122018/3486713291.py:6: FutureWarning: The frame.append method is deprecated and will be removed from pandas in a future version. Use pandas.concat instead.\n",
      "  outputs=outputs.append(output,sort=False)\n",
      "/var/tmp/rojasolvera/ipykernel_122018/3486713291.py:6: FutureWarning: The frame.append method is deprecated and will be removed from pandas in a future version. Use pandas.concat instead.\n",
      "  outputs=outputs.append(output,sort=False)\n",
      "/var/tmp/rojasolvera/ipykernel_122018/3486713291.py:6: FutureWarning: The frame.append method is deprecated and will be removed from pandas in a future version. Use pandas.concat instead.\n",
      "  outputs=outputs.append(output,sort=False)\n"
     ]
    },
    {
     "name": "stdout",
     "output_type": "stream",
     "text": [
      "1/1 [==============================] - 0s 22ms/step\n",
      "1/1 [==============================] - 0s 21ms/step\n",
      "1/1 [==============================] - 0s 20ms/step\n",
      "1/1 [==============================] - 0s 21ms/step\n"
     ]
    },
    {
     "name": "stderr",
     "output_type": "stream",
     "text": [
      "/var/tmp/rojasolvera/ipykernel_122018/3486713291.py:6: FutureWarning: The frame.append method is deprecated and will be removed from pandas in a future version. Use pandas.concat instead.\n",
      "  outputs=outputs.append(output,sort=False)\n",
      "/var/tmp/rojasolvera/ipykernel_122018/3486713291.py:6: FutureWarning: The frame.append method is deprecated and will be removed from pandas in a future version. Use pandas.concat instead.\n",
      "  outputs=outputs.append(output,sort=False)\n",
      "/var/tmp/rojasolvera/ipykernel_122018/3486713291.py:6: FutureWarning: The frame.append method is deprecated and will be removed from pandas in a future version. Use pandas.concat instead.\n",
      "  outputs=outputs.append(output,sort=False)\n",
      "/var/tmp/rojasolvera/ipykernel_122018/3486713291.py:6: FutureWarning: The frame.append method is deprecated and will be removed from pandas in a future version. Use pandas.concat instead.\n",
      "  outputs=outputs.append(output,sort=False)\n"
     ]
    },
    {
     "name": "stdout",
     "output_type": "stream",
     "text": [
      "1/1 [==============================] - 0s 20ms/step\n",
      "1/1 [==============================] - 0s 21ms/step\n",
      "1/1 [==============================] - 0s 21ms/step\n",
      "1/1 [==============================] - 0s 22ms/step\n"
     ]
    },
    {
     "name": "stderr",
     "output_type": "stream",
     "text": [
      "/var/tmp/rojasolvera/ipykernel_122018/3486713291.py:6: FutureWarning: The frame.append method is deprecated and will be removed from pandas in a future version. Use pandas.concat instead.\n",
      "  outputs=outputs.append(output,sort=False)\n",
      "/var/tmp/rojasolvera/ipykernel_122018/3486713291.py:6: FutureWarning: The frame.append method is deprecated and will be removed from pandas in a future version. Use pandas.concat instead.\n",
      "  outputs=outputs.append(output,sort=False)\n",
      "/var/tmp/rojasolvera/ipykernel_122018/3486713291.py:6: FutureWarning: The frame.append method is deprecated and will be removed from pandas in a future version. Use pandas.concat instead.\n",
      "  outputs=outputs.append(output,sort=False)\n",
      "/var/tmp/rojasolvera/ipykernel_122018/3486713291.py:6: FutureWarning: The frame.append method is deprecated and will be removed from pandas in a future version. Use pandas.concat instead.\n",
      "  outputs=outputs.append(output,sort=False)\n"
     ]
    },
    {
     "name": "stdout",
     "output_type": "stream",
     "text": [
      "1/1 [==============================] - 0s 21ms/step\n",
      "1/1 [==============================] - 0s 21ms/step\n",
      "1/1 [==============================] - 0s 21ms/step\n",
      "1/1 [==============================] - 0s 21ms/step\n"
     ]
    },
    {
     "name": "stderr",
     "output_type": "stream",
     "text": [
      "/var/tmp/rojasolvera/ipykernel_122018/3486713291.py:6: FutureWarning: The frame.append method is deprecated and will be removed from pandas in a future version. Use pandas.concat instead.\n",
      "  outputs=outputs.append(output,sort=False)\n",
      "/var/tmp/rojasolvera/ipykernel_122018/3486713291.py:6: FutureWarning: The frame.append method is deprecated and will be removed from pandas in a future version. Use pandas.concat instead.\n",
      "  outputs=outputs.append(output,sort=False)\n",
      "/var/tmp/rojasolvera/ipykernel_122018/3486713291.py:6: FutureWarning: The frame.append method is deprecated and will be removed from pandas in a future version. Use pandas.concat instead.\n",
      "  outputs=outputs.append(output,sort=False)\n",
      "/var/tmp/rojasolvera/ipykernel_122018/3486713291.py:6: FutureWarning: The frame.append method is deprecated and will be removed from pandas in a future version. Use pandas.concat instead.\n",
      "  outputs=outputs.append(output,sort=False)\n"
     ]
    },
    {
     "name": "stdout",
     "output_type": "stream",
     "text": [
      "1/1 [==============================] - 0s 21ms/step\n",
      "1/1 [==============================] - 0s 21ms/step\n",
      "1/1 [==============================] - 0s 22ms/step\n",
      "1/1 [==============================] - 0s 22ms/step\n"
     ]
    },
    {
     "name": "stderr",
     "output_type": "stream",
     "text": [
      "/var/tmp/rojasolvera/ipykernel_122018/3486713291.py:6: FutureWarning: The frame.append method is deprecated and will be removed from pandas in a future version. Use pandas.concat instead.\n",
      "  outputs=outputs.append(output,sort=False)\n",
      "/var/tmp/rojasolvera/ipykernel_122018/3486713291.py:6: FutureWarning: The frame.append method is deprecated and will be removed from pandas in a future version. Use pandas.concat instead.\n",
      "  outputs=outputs.append(output,sort=False)\n",
      "/var/tmp/rojasolvera/ipykernel_122018/3486713291.py:6: FutureWarning: The frame.append method is deprecated and will be removed from pandas in a future version. Use pandas.concat instead.\n",
      "  outputs=outputs.append(output,sort=False)\n",
      "/var/tmp/rojasolvera/ipykernel_122018/3486713291.py:6: FutureWarning: The frame.append method is deprecated and will be removed from pandas in a future version. Use pandas.concat instead.\n",
      "  outputs=outputs.append(output,sort=False)\n"
     ]
    },
    {
     "name": "stdout",
     "output_type": "stream",
     "text": [
      "1/1 [==============================] - 0s 22ms/step\n",
      "1/1 [==============================] - 0s 21ms/step\n",
      "1/1 [==============================] - 0s 21ms/step\n",
      "1/1 [==============================] - 0s 22ms/step\n"
     ]
    },
    {
     "name": "stderr",
     "output_type": "stream",
     "text": [
      "/var/tmp/rojasolvera/ipykernel_122018/3486713291.py:6: FutureWarning: The frame.append method is deprecated and will be removed from pandas in a future version. Use pandas.concat instead.\n",
      "  outputs=outputs.append(output,sort=False)\n",
      "/var/tmp/rojasolvera/ipykernel_122018/3486713291.py:6: FutureWarning: The frame.append method is deprecated and will be removed from pandas in a future version. Use pandas.concat instead.\n",
      "  outputs=outputs.append(output,sort=False)\n",
      "/var/tmp/rojasolvera/ipykernel_122018/3486713291.py:6: FutureWarning: The frame.append method is deprecated and will be removed from pandas in a future version. Use pandas.concat instead.\n",
      "  outputs=outputs.append(output,sort=False)\n",
      "/var/tmp/rojasolvera/ipykernel_122018/3486713291.py:6: FutureWarning: The frame.append method is deprecated and will be removed from pandas in a future version. Use pandas.concat instead.\n",
      "  outputs=outputs.append(output,sort=False)\n"
     ]
    },
    {
     "name": "stdout",
     "output_type": "stream",
     "text": [
      "1/1 [==============================] - 0s 22ms/step\n",
      "1/1 [==============================] - 0s 21ms/step\n",
      "1/1 [==============================] - 0s 21ms/step\n",
      "1/1 [==============================] - 0s 21ms/step\n"
     ]
    },
    {
     "name": "stderr",
     "output_type": "stream",
     "text": [
      "/var/tmp/rojasolvera/ipykernel_122018/3486713291.py:6: FutureWarning: The frame.append method is deprecated and will be removed from pandas in a future version. Use pandas.concat instead.\n",
      "  outputs=outputs.append(output,sort=False)\n",
      "/var/tmp/rojasolvera/ipykernel_122018/3486713291.py:6: FutureWarning: The frame.append method is deprecated and will be removed from pandas in a future version. Use pandas.concat instead.\n",
      "  outputs=outputs.append(output,sort=False)\n",
      "/var/tmp/rojasolvera/ipykernel_122018/3486713291.py:6: FutureWarning: The frame.append method is deprecated and will be removed from pandas in a future version. Use pandas.concat instead.\n",
      "  outputs=outputs.append(output,sort=False)\n",
      "/var/tmp/rojasolvera/ipykernel_122018/3486713291.py:6: FutureWarning: The frame.append method is deprecated and will be removed from pandas in a future version. Use pandas.concat instead.\n",
      "  outputs=outputs.append(output,sort=False)\n"
     ]
    },
    {
     "name": "stdout",
     "output_type": "stream",
     "text": [
      "1/1 [==============================] - 0s 22ms/step\n",
      "1/1 [==============================] - 0s 22ms/step\n",
      "1/1 [==============================] - 0s 21ms/step\n",
      "1/1 [==============================] - 0s 21ms/step\n"
     ]
    },
    {
     "name": "stderr",
     "output_type": "stream",
     "text": [
      "/var/tmp/rojasolvera/ipykernel_122018/3486713291.py:6: FutureWarning: The frame.append method is deprecated and will be removed from pandas in a future version. Use pandas.concat instead.\n",
      "  outputs=outputs.append(output,sort=False)\n",
      "/var/tmp/rojasolvera/ipykernel_122018/3486713291.py:6: FutureWarning: The frame.append method is deprecated and will be removed from pandas in a future version. Use pandas.concat instead.\n",
      "  outputs=outputs.append(output,sort=False)\n",
      "/var/tmp/rojasolvera/ipykernel_122018/3486713291.py:6: FutureWarning: The frame.append method is deprecated and will be removed from pandas in a future version. Use pandas.concat instead.\n",
      "  outputs=outputs.append(output,sort=False)\n",
      "/var/tmp/rojasolvera/ipykernel_122018/3486713291.py:6: FutureWarning: The frame.append method is deprecated and will be removed from pandas in a future version. Use pandas.concat instead.\n",
      "  outputs=outputs.append(output,sort=False)\n"
     ]
    },
    {
     "name": "stdout",
     "output_type": "stream",
     "text": [
      "1/1 [==============================] - 0s 22ms/step\n",
      "1/1 [==============================] - 0s 22ms/step\n",
      "1/1 [==============================] - 0s 21ms/step\n",
      "1/1 [==============================] - 0s 22ms/step\n"
     ]
    },
    {
     "name": "stderr",
     "output_type": "stream",
     "text": [
      "/var/tmp/rojasolvera/ipykernel_122018/3486713291.py:6: FutureWarning: The frame.append method is deprecated and will be removed from pandas in a future version. Use pandas.concat instead.\n",
      "  outputs=outputs.append(output,sort=False)\n",
      "/var/tmp/rojasolvera/ipykernel_122018/3486713291.py:6: FutureWarning: The frame.append method is deprecated and will be removed from pandas in a future version. Use pandas.concat instead.\n",
      "  outputs=outputs.append(output,sort=False)\n",
      "/var/tmp/rojasolvera/ipykernel_122018/3486713291.py:6: FutureWarning: The frame.append method is deprecated and will be removed from pandas in a future version. Use pandas.concat instead.\n",
      "  outputs=outputs.append(output,sort=False)\n",
      "/var/tmp/rojasolvera/ipykernel_122018/3486713291.py:6: FutureWarning: The frame.append method is deprecated and will be removed from pandas in a future version. Use pandas.concat instead.\n",
      "  outputs=outputs.append(output,sort=False)\n"
     ]
    },
    {
     "name": "stdout",
     "output_type": "stream",
     "text": [
      "1/1 [==============================] - 0s 22ms/step\n",
      "1/1 [==============================] - 0s 21ms/step\n",
      "1/1 [==============================] - 0s 21ms/step\n",
      "1/1 [==============================] - 0s 21ms/step\n"
     ]
    },
    {
     "name": "stderr",
     "output_type": "stream",
     "text": [
      "/var/tmp/rojasolvera/ipykernel_122018/3486713291.py:6: FutureWarning: The frame.append method is deprecated and will be removed from pandas in a future version. Use pandas.concat instead.\n",
      "  outputs=outputs.append(output,sort=False)\n",
      "/var/tmp/rojasolvera/ipykernel_122018/3486713291.py:6: FutureWarning: The frame.append method is deprecated and will be removed from pandas in a future version. Use pandas.concat instead.\n",
      "  outputs=outputs.append(output,sort=False)\n",
      "/var/tmp/rojasolvera/ipykernel_122018/3486713291.py:6: FutureWarning: The frame.append method is deprecated and will be removed from pandas in a future version. Use pandas.concat instead.\n",
      "  outputs=outputs.append(output,sort=False)\n",
      "/var/tmp/rojasolvera/ipykernel_122018/3486713291.py:6: FutureWarning: The frame.append method is deprecated and will be removed from pandas in a future version. Use pandas.concat instead.\n",
      "  outputs=outputs.append(output,sort=False)\n"
     ]
    },
    {
     "name": "stdout",
     "output_type": "stream",
     "text": [
      "1/1 [==============================] - 0s 21ms/step\n",
      "1/1 [==============================] - 0s 21ms/step\n",
      "1/1 [==============================] - 0s 23ms/step\n",
      "1/1 [==============================] - 0s 21ms/step\n"
     ]
    },
    {
     "name": "stderr",
     "output_type": "stream",
     "text": [
      "/var/tmp/rojasolvera/ipykernel_122018/3486713291.py:6: FutureWarning: The frame.append method is deprecated and will be removed from pandas in a future version. Use pandas.concat instead.\n",
      "  outputs=outputs.append(output,sort=False)\n",
      "/var/tmp/rojasolvera/ipykernel_122018/3486713291.py:6: FutureWarning: The frame.append method is deprecated and will be removed from pandas in a future version. Use pandas.concat instead.\n",
      "  outputs=outputs.append(output,sort=False)\n",
      "/var/tmp/rojasolvera/ipykernel_122018/3486713291.py:6: FutureWarning: The frame.append method is deprecated and will be removed from pandas in a future version. Use pandas.concat instead.\n",
      "  outputs=outputs.append(output,sort=False)\n",
      "/var/tmp/rojasolvera/ipykernel_122018/3486713291.py:6: FutureWarning: The frame.append method is deprecated and will be removed from pandas in a future version. Use pandas.concat instead.\n",
      "  outputs=outputs.append(output,sort=False)\n"
     ]
    },
    {
     "name": "stdout",
     "output_type": "stream",
     "text": [
      "1/1 [==============================] - 0s 22ms/step\n",
      "1/1 [==============================] - 0s 21ms/step\n",
      "1/1 [==============================] - 0s 22ms/step\n",
      "1/1 [==============================] - 0s 22ms/step\n"
     ]
    },
    {
     "name": "stderr",
     "output_type": "stream",
     "text": [
      "/var/tmp/rojasolvera/ipykernel_122018/3486713291.py:6: FutureWarning: The frame.append method is deprecated and will be removed from pandas in a future version. Use pandas.concat instead.\n",
      "  outputs=outputs.append(output,sort=False)\n",
      "/var/tmp/rojasolvera/ipykernel_122018/3486713291.py:6: FutureWarning: The frame.append method is deprecated and will be removed from pandas in a future version. Use pandas.concat instead.\n",
      "  outputs=outputs.append(output,sort=False)\n",
      "/var/tmp/rojasolvera/ipykernel_122018/3486713291.py:6: FutureWarning: The frame.append method is deprecated and will be removed from pandas in a future version. Use pandas.concat instead.\n",
      "  outputs=outputs.append(output,sort=False)\n",
      "/var/tmp/rojasolvera/ipykernel_122018/3486713291.py:6: FutureWarning: The frame.append method is deprecated and will be removed from pandas in a future version. Use pandas.concat instead.\n",
      "  outputs=outputs.append(output,sort=False)\n"
     ]
    },
    {
     "name": "stdout",
     "output_type": "stream",
     "text": [
      "1/1 [==============================] - 0s 21ms/step\n",
      "1/1 [==============================] - 0s 21ms/step\n",
      "1/1 [==============================] - 0s 21ms/step\n",
      "1/1 [==============================] - 0s 22ms/step\n"
     ]
    },
    {
     "name": "stderr",
     "output_type": "stream",
     "text": [
      "/var/tmp/rojasolvera/ipykernel_122018/3486713291.py:6: FutureWarning: The frame.append method is deprecated and will be removed from pandas in a future version. Use pandas.concat instead.\n",
      "  outputs=outputs.append(output,sort=False)\n",
      "/var/tmp/rojasolvera/ipykernel_122018/3486713291.py:6: FutureWarning: The frame.append method is deprecated and will be removed from pandas in a future version. Use pandas.concat instead.\n",
      "  outputs=outputs.append(output,sort=False)\n",
      "/var/tmp/rojasolvera/ipykernel_122018/3486713291.py:6: FutureWarning: The frame.append method is deprecated and will be removed from pandas in a future version. Use pandas.concat instead.\n",
      "  outputs=outputs.append(output,sort=False)\n",
      "/var/tmp/rojasolvera/ipykernel_122018/3486713291.py:6: FutureWarning: The frame.append method is deprecated and will be removed from pandas in a future version. Use pandas.concat instead.\n",
      "  outputs=outputs.append(output,sort=False)\n"
     ]
    },
    {
     "name": "stdout",
     "output_type": "stream",
     "text": [
      "1/1 [==============================] - 0s 22ms/step\n",
      "1/1 [==============================] - 0s 21ms/step\n",
      "1/1 [==============================] - 0s 21ms/step\n",
      "1/1 [==============================] - 0s 21ms/step\n"
     ]
    },
    {
     "name": "stderr",
     "output_type": "stream",
     "text": [
      "/var/tmp/rojasolvera/ipykernel_122018/3486713291.py:6: FutureWarning: The frame.append method is deprecated and will be removed from pandas in a future version. Use pandas.concat instead.\n",
      "  outputs=outputs.append(output,sort=False)\n",
      "/var/tmp/rojasolvera/ipykernel_122018/3486713291.py:6: FutureWarning: The frame.append method is deprecated and will be removed from pandas in a future version. Use pandas.concat instead.\n",
      "  outputs=outputs.append(output,sort=False)\n",
      "/var/tmp/rojasolvera/ipykernel_122018/3486713291.py:6: FutureWarning: The frame.append method is deprecated and will be removed from pandas in a future version. Use pandas.concat instead.\n",
      "  outputs=outputs.append(output,sort=False)\n"
     ]
    },
    {
     "name": "stdout",
     "output_type": "stream",
     "text": [
      "1/1 [==============================] - 0s 21ms/step\n",
      "1/1 [==============================] - 0s 22ms/step\n",
      "1/1 [==============================] - 0s 21ms/step\n"
     ]
    },
    {
     "name": "stderr",
     "output_type": "stream",
     "text": [
      "/var/tmp/rojasolvera/ipykernel_122018/3486713291.py:6: FutureWarning: The frame.append method is deprecated and will be removed from pandas in a future version. Use pandas.concat instead.\n",
      "  outputs=outputs.append(output,sort=False)\n",
      "/var/tmp/rojasolvera/ipykernel_122018/3486713291.py:6: FutureWarning: The frame.append method is deprecated and will be removed from pandas in a future version. Use pandas.concat instead.\n",
      "  outputs=outputs.append(output,sort=False)\n",
      "/var/tmp/rojasolvera/ipykernel_122018/3486713291.py:6: FutureWarning: The frame.append method is deprecated and will be removed from pandas in a future version. Use pandas.concat instead.\n",
      "  outputs=outputs.append(output,sort=False)\n",
      "/var/tmp/rojasolvera/ipykernel_122018/3486713291.py:6: FutureWarning: The frame.append method is deprecated and will be removed from pandas in a future version. Use pandas.concat instead.\n",
      "  outputs=outputs.append(output,sort=False)\n"
     ]
    },
    {
     "name": "stdout",
     "output_type": "stream",
     "text": [
      "1/1 [==============================] - 0s 22ms/step\n",
      "1/1 [==============================] - 0s 21ms/step\n",
      "1/1 [==============================] - 0s 21ms/step\n",
      "1/1 [==============================] - 0s 22ms/step\n"
     ]
    },
    {
     "name": "stderr",
     "output_type": "stream",
     "text": [
      "/var/tmp/rojasolvera/ipykernel_122018/3486713291.py:6: FutureWarning: The frame.append method is deprecated and will be removed from pandas in a future version. Use pandas.concat instead.\n",
      "  outputs=outputs.append(output,sort=False)\n",
      "/var/tmp/rojasolvera/ipykernel_122018/3486713291.py:6: FutureWarning: The frame.append method is deprecated and will be removed from pandas in a future version. Use pandas.concat instead.\n",
      "  outputs=outputs.append(output,sort=False)\n",
      "/var/tmp/rojasolvera/ipykernel_122018/3486713291.py:6: FutureWarning: The frame.append method is deprecated and will be removed from pandas in a future version. Use pandas.concat instead.\n",
      "  outputs=outputs.append(output,sort=False)\n",
      "/var/tmp/rojasolvera/ipykernel_122018/3486713291.py:6: FutureWarning: The frame.append method is deprecated and will be removed from pandas in a future version. Use pandas.concat instead.\n",
      "  outputs=outputs.append(output,sort=False)\n"
     ]
    },
    {
     "name": "stdout",
     "output_type": "stream",
     "text": [
      "1/1 [==============================] - 0s 22ms/step\n",
      "1/1 [==============================] - 0s 21ms/step\n",
      "1/1 [==============================] - 0s 21ms/step\n",
      "1/1 [==============================] - 0s 21ms/step\n"
     ]
    },
    {
     "name": "stderr",
     "output_type": "stream",
     "text": [
      "/var/tmp/rojasolvera/ipykernel_122018/3486713291.py:6: FutureWarning: The frame.append method is deprecated and will be removed from pandas in a future version. Use pandas.concat instead.\n",
      "  outputs=outputs.append(output,sort=False)\n",
      "/var/tmp/rojasolvera/ipykernel_122018/3486713291.py:6: FutureWarning: The frame.append method is deprecated and will be removed from pandas in a future version. Use pandas.concat instead.\n",
      "  outputs=outputs.append(output,sort=False)\n",
      "/var/tmp/rojasolvera/ipykernel_122018/3486713291.py:6: FutureWarning: The frame.append method is deprecated and will be removed from pandas in a future version. Use pandas.concat instead.\n",
      "  outputs=outputs.append(output,sort=False)\n",
      "/var/tmp/rojasolvera/ipykernel_122018/3486713291.py:6: FutureWarning: The frame.append method is deprecated and will be removed from pandas in a future version. Use pandas.concat instead.\n",
      "  outputs=outputs.append(output,sort=False)\n"
     ]
    },
    {
     "name": "stdout",
     "output_type": "stream",
     "text": [
      "1/1 [==============================] - 0s 22ms/step\n",
      "1/1 [==============================] - 0s 22ms/step\n",
      "1/1 [==============================] - 0s 22ms/step\n",
      "1/1 [==============================] - 0s 22ms/step\n"
     ]
    },
    {
     "name": "stderr",
     "output_type": "stream",
     "text": [
      "/var/tmp/rojasolvera/ipykernel_122018/3486713291.py:6: FutureWarning: The frame.append method is deprecated and will be removed from pandas in a future version. Use pandas.concat instead.\n",
      "  outputs=outputs.append(output,sort=False)\n",
      "/var/tmp/rojasolvera/ipykernel_122018/3486713291.py:6: FutureWarning: The frame.append method is deprecated and will be removed from pandas in a future version. Use pandas.concat instead.\n",
      "  outputs=outputs.append(output,sort=False)\n",
      "/var/tmp/rojasolvera/ipykernel_122018/3486713291.py:6: FutureWarning: The frame.append method is deprecated and will be removed from pandas in a future version. Use pandas.concat instead.\n",
      "  outputs=outputs.append(output,sort=False)\n",
      "/var/tmp/rojasolvera/ipykernel_122018/3486713291.py:6: FutureWarning: The frame.append method is deprecated and will be removed from pandas in a future version. Use pandas.concat instead.\n",
      "  outputs=outputs.append(output,sort=False)\n"
     ]
    },
    {
     "name": "stdout",
     "output_type": "stream",
     "text": [
      "1/1 [==============================] - 0s 21ms/step\n",
      "1/1 [==============================] - 0s 21ms/step\n",
      "1/1 [==============================] - 0s 22ms/step\n",
      "1/1 [==============================] - 0s 22ms/step\n"
     ]
    },
    {
     "name": "stderr",
     "output_type": "stream",
     "text": [
      "/var/tmp/rojasolvera/ipykernel_122018/3486713291.py:6: FutureWarning: The frame.append method is deprecated and will be removed from pandas in a future version. Use pandas.concat instead.\n",
      "  outputs=outputs.append(output,sort=False)\n",
      "/var/tmp/rojasolvera/ipykernel_122018/3486713291.py:6: FutureWarning: The frame.append method is deprecated and will be removed from pandas in a future version. Use pandas.concat instead.\n",
      "  outputs=outputs.append(output,sort=False)\n",
      "/var/tmp/rojasolvera/ipykernel_122018/3486713291.py:6: FutureWarning: The frame.append method is deprecated and will be removed from pandas in a future version. Use pandas.concat instead.\n",
      "  outputs=outputs.append(output,sort=False)\n",
      "/var/tmp/rojasolvera/ipykernel_122018/3486713291.py:6: FutureWarning: The frame.append method is deprecated and will be removed from pandas in a future version. Use pandas.concat instead.\n",
      "  outputs=outputs.append(output,sort=False)\n"
     ]
    },
    {
     "name": "stdout",
     "output_type": "stream",
     "text": [
      "1/1 [==============================] - 0s 22ms/step\n",
      "1/1 [==============================] - 0s 22ms/step\n",
      "1/1 [==============================] - 0s 21ms/step\n",
      "1/1 [==============================] - 0s 21ms/step\n"
     ]
    },
    {
     "name": "stderr",
     "output_type": "stream",
     "text": [
      "/var/tmp/rojasolvera/ipykernel_122018/3486713291.py:6: FutureWarning: The frame.append method is deprecated and will be removed from pandas in a future version. Use pandas.concat instead.\n",
      "  outputs=outputs.append(output,sort=False)\n",
      "/var/tmp/rojasolvera/ipykernel_122018/3486713291.py:6: FutureWarning: The frame.append method is deprecated and will be removed from pandas in a future version. Use pandas.concat instead.\n",
      "  outputs=outputs.append(output,sort=False)\n",
      "/var/tmp/rojasolvera/ipykernel_122018/3486713291.py:6: FutureWarning: The frame.append method is deprecated and will be removed from pandas in a future version. Use pandas.concat instead.\n",
      "  outputs=outputs.append(output,sort=False)\n",
      "/var/tmp/rojasolvera/ipykernel_122018/3486713291.py:6: FutureWarning: The frame.append method is deprecated and will be removed from pandas in a future version. Use pandas.concat instead.\n",
      "  outputs=outputs.append(output,sort=False)\n"
     ]
    },
    {
     "name": "stdout",
     "output_type": "stream",
     "text": [
      "1/1 [==============================] - 0s 24ms/step\n",
      "1/1 [==============================] - 0s 22ms/step\n",
      "1/1 [==============================] - 0s 22ms/step\n",
      "1/1 [==============================] - 0s 22ms/step\n"
     ]
    },
    {
     "name": "stderr",
     "output_type": "stream",
     "text": [
      "/var/tmp/rojasolvera/ipykernel_122018/3486713291.py:6: FutureWarning: The frame.append method is deprecated and will be removed from pandas in a future version. Use pandas.concat instead.\n",
      "  outputs=outputs.append(output,sort=False)\n",
      "/var/tmp/rojasolvera/ipykernel_122018/3486713291.py:6: FutureWarning: The frame.append method is deprecated and will be removed from pandas in a future version. Use pandas.concat instead.\n",
      "  outputs=outputs.append(output,sort=False)\n",
      "/var/tmp/rojasolvera/ipykernel_122018/3486713291.py:6: FutureWarning: The frame.append method is deprecated and will be removed from pandas in a future version. Use pandas.concat instead.\n",
      "  outputs=outputs.append(output,sort=False)\n",
      "/var/tmp/rojasolvera/ipykernel_122018/3486713291.py:6: FutureWarning: The frame.append method is deprecated and will be removed from pandas in a future version. Use pandas.concat instead.\n",
      "  outputs=outputs.append(output,sort=False)\n"
     ]
    },
    {
     "name": "stdout",
     "output_type": "stream",
     "text": [
      "1/1 [==============================] - 0s 21ms/step\n",
      "1/1 [==============================] - 0s 21ms/step\n",
      "1/1 [==============================] - 0s 22ms/step\n",
      "1/1 [==============================] - 0s 22ms/step\n"
     ]
    },
    {
     "name": "stderr",
     "output_type": "stream",
     "text": [
      "/var/tmp/rojasolvera/ipykernel_122018/3486713291.py:6: FutureWarning: The frame.append method is deprecated and will be removed from pandas in a future version. Use pandas.concat instead.\n",
      "  outputs=outputs.append(output,sort=False)\n",
      "/var/tmp/rojasolvera/ipykernel_122018/3486713291.py:6: FutureWarning: The frame.append method is deprecated and will be removed from pandas in a future version. Use pandas.concat instead.\n",
      "  outputs=outputs.append(output,sort=False)\n",
      "/var/tmp/rojasolvera/ipykernel_122018/3486713291.py:6: FutureWarning: The frame.append method is deprecated and will be removed from pandas in a future version. Use pandas.concat instead.\n",
      "  outputs=outputs.append(output,sort=False)\n",
      "/var/tmp/rojasolvera/ipykernel_122018/3486713291.py:6: FutureWarning: The frame.append method is deprecated and will be removed from pandas in a future version. Use pandas.concat instead.\n",
      "  outputs=outputs.append(output,sort=False)\n"
     ]
    },
    {
     "name": "stdout",
     "output_type": "stream",
     "text": [
      "1/1 [==============================] - 0s 23ms/step\n",
      "1/1 [==============================] - 0s 22ms/step\n",
      "1/1 [==============================] - 0s 22ms/step\n",
      "1/1 [==============================] - 0s 22ms/step\n"
     ]
    },
    {
     "name": "stderr",
     "output_type": "stream",
     "text": [
      "/var/tmp/rojasolvera/ipykernel_122018/3486713291.py:6: FutureWarning: The frame.append method is deprecated and will be removed from pandas in a future version. Use pandas.concat instead.\n",
      "  outputs=outputs.append(output,sort=False)\n",
      "/var/tmp/rojasolvera/ipykernel_122018/3486713291.py:6: FutureWarning: The frame.append method is deprecated and will be removed from pandas in a future version. Use pandas.concat instead.\n",
      "  outputs=outputs.append(output,sort=False)\n",
      "/var/tmp/rojasolvera/ipykernel_122018/3486713291.py:6: FutureWarning: The frame.append method is deprecated and will be removed from pandas in a future version. Use pandas.concat instead.\n",
      "  outputs=outputs.append(output,sort=False)\n",
      "/var/tmp/rojasolvera/ipykernel_122018/3486713291.py:6: FutureWarning: The frame.append method is deprecated and will be removed from pandas in a future version. Use pandas.concat instead.\n",
      "  outputs=outputs.append(output,sort=False)\n"
     ]
    },
    {
     "name": "stdout",
     "output_type": "stream",
     "text": [
      "1/1 [==============================] - 0s 23ms/step\n",
      "1/1 [==============================] - 0s 21ms/step\n",
      "1/1 [==============================] - 0s 21ms/step\n",
      "1/1 [==============================] - 0s 22ms/step\n"
     ]
    },
    {
     "name": "stderr",
     "output_type": "stream",
     "text": [
      "/var/tmp/rojasolvera/ipykernel_122018/3486713291.py:6: FutureWarning: The frame.append method is deprecated and will be removed from pandas in a future version. Use pandas.concat instead.\n",
      "  outputs=outputs.append(output,sort=False)\n",
      "/var/tmp/rojasolvera/ipykernel_122018/3486713291.py:6: FutureWarning: The frame.append method is deprecated and will be removed from pandas in a future version. Use pandas.concat instead.\n",
      "  outputs=outputs.append(output,sort=False)\n",
      "/var/tmp/rojasolvera/ipykernel_122018/3486713291.py:6: FutureWarning: The frame.append method is deprecated and will be removed from pandas in a future version. Use pandas.concat instead.\n",
      "  outputs=outputs.append(output,sort=False)\n",
      "/var/tmp/rojasolvera/ipykernel_122018/3486713291.py:6: FutureWarning: The frame.append method is deprecated and will be removed from pandas in a future version. Use pandas.concat instead.\n",
      "  outputs=outputs.append(output,sort=False)\n"
     ]
    },
    {
     "name": "stdout",
     "output_type": "stream",
     "text": [
      "1/1 [==============================] - 0s 22ms/step\n",
      "1/1 [==============================] - 0s 22ms/step\n",
      "1/1 [==============================] - 0s 21ms/step\n",
      "1/1 [==============================] - 0s 22ms/step\n"
     ]
    },
    {
     "name": "stderr",
     "output_type": "stream",
     "text": [
      "/var/tmp/rojasolvera/ipykernel_122018/3486713291.py:6: FutureWarning: The frame.append method is deprecated and will be removed from pandas in a future version. Use pandas.concat instead.\n",
      "  outputs=outputs.append(output,sort=False)\n",
      "/var/tmp/rojasolvera/ipykernel_122018/3486713291.py:6: FutureWarning: The frame.append method is deprecated and will be removed from pandas in a future version. Use pandas.concat instead.\n",
      "  outputs=outputs.append(output,sort=False)\n",
      "/var/tmp/rojasolvera/ipykernel_122018/3486713291.py:6: FutureWarning: The frame.append method is deprecated and will be removed from pandas in a future version. Use pandas.concat instead.\n",
      "  outputs=outputs.append(output,sort=False)\n",
      "/var/tmp/rojasolvera/ipykernel_122018/3486713291.py:6: FutureWarning: The frame.append method is deprecated and will be removed from pandas in a future version. Use pandas.concat instead.\n",
      "  outputs=outputs.append(output,sort=False)\n"
     ]
    },
    {
     "name": "stdout",
     "output_type": "stream",
     "text": [
      "1/1 [==============================] - 0s 22ms/step\n",
      "1/1 [==============================] - 0s 21ms/step\n",
      "1/1 [==============================] - 0s 22ms/step\n",
      "1/1 [==============================] - 0s 22ms/step\n"
     ]
    },
    {
     "name": "stderr",
     "output_type": "stream",
     "text": [
      "/var/tmp/rojasolvera/ipykernel_122018/3486713291.py:6: FutureWarning: The frame.append method is deprecated and will be removed from pandas in a future version. Use pandas.concat instead.\n",
      "  outputs=outputs.append(output,sort=False)\n",
      "/var/tmp/rojasolvera/ipykernel_122018/3486713291.py:6: FutureWarning: The frame.append method is deprecated and will be removed from pandas in a future version. Use pandas.concat instead.\n",
      "  outputs=outputs.append(output,sort=False)\n",
      "/var/tmp/rojasolvera/ipykernel_122018/3486713291.py:6: FutureWarning: The frame.append method is deprecated and will be removed from pandas in a future version. Use pandas.concat instead.\n",
      "  outputs=outputs.append(output,sort=False)\n",
      "/var/tmp/rojasolvera/ipykernel_122018/3486713291.py:6: FutureWarning: The frame.append method is deprecated and will be removed from pandas in a future version. Use pandas.concat instead.\n",
      "  outputs=outputs.append(output,sort=False)\n"
     ]
    },
    {
     "name": "stdout",
     "output_type": "stream",
     "text": [
      "1/1 [==============================] - 0s 22ms/step\n",
      "1/1 [==============================] - 0s 21ms/step\n",
      "1/1 [==============================] - 0s 20ms/step\n",
      "1/1 [==============================] - 0s 21ms/step\n"
     ]
    },
    {
     "name": "stderr",
     "output_type": "stream",
     "text": [
      "/var/tmp/rojasolvera/ipykernel_122018/3486713291.py:6: FutureWarning: The frame.append method is deprecated and will be removed from pandas in a future version. Use pandas.concat instead.\n",
      "  outputs=outputs.append(output,sort=False)\n",
      "/var/tmp/rojasolvera/ipykernel_122018/3486713291.py:6: FutureWarning: The frame.append method is deprecated and will be removed from pandas in a future version. Use pandas.concat instead.\n",
      "  outputs=outputs.append(output,sort=False)\n",
      "/var/tmp/rojasolvera/ipykernel_122018/3486713291.py:6: FutureWarning: The frame.append method is deprecated and will be removed from pandas in a future version. Use pandas.concat instead.\n",
      "  outputs=outputs.append(output,sort=False)\n",
      "/var/tmp/rojasolvera/ipykernel_122018/3486713291.py:6: FutureWarning: The frame.append method is deprecated and will be removed from pandas in a future version. Use pandas.concat instead.\n",
      "  outputs=outputs.append(output,sort=False)\n"
     ]
    },
    {
     "name": "stdout",
     "output_type": "stream",
     "text": [
      "1/1 [==============================] - 0s 22ms/step\n",
      "1/1 [==============================] - 0s 21ms/step\n",
      "1/1 [==============================] - 0s 21ms/step\n",
      "1/1 [==============================] - 0s 21ms/step\n"
     ]
    },
    {
     "name": "stderr",
     "output_type": "stream",
     "text": [
      "/var/tmp/rojasolvera/ipykernel_122018/3486713291.py:6: FutureWarning: The frame.append method is deprecated and will be removed from pandas in a future version. Use pandas.concat instead.\n",
      "  outputs=outputs.append(output,sort=False)\n",
      "/var/tmp/rojasolvera/ipykernel_122018/3486713291.py:6: FutureWarning: The frame.append method is deprecated and will be removed from pandas in a future version. Use pandas.concat instead.\n",
      "  outputs=outputs.append(output,sort=False)\n",
      "/var/tmp/rojasolvera/ipykernel_122018/3486713291.py:6: FutureWarning: The frame.append method is deprecated and will be removed from pandas in a future version. Use pandas.concat instead.\n",
      "  outputs=outputs.append(output,sort=False)\n",
      "/var/tmp/rojasolvera/ipykernel_122018/3486713291.py:6: FutureWarning: The frame.append method is deprecated and will be removed from pandas in a future version. Use pandas.concat instead.\n",
      "  outputs=outputs.append(output,sort=False)\n"
     ]
    },
    {
     "name": "stdout",
     "output_type": "stream",
     "text": [
      "1/1 [==============================] - 0s 22ms/step\n",
      "1/1 [==============================] - 0s 21ms/step\n",
      "1/1 [==============================] - 0s 21ms/step\n",
      "1/1 [==============================] - 0s 21ms/step\n"
     ]
    },
    {
     "name": "stderr",
     "output_type": "stream",
     "text": [
      "/var/tmp/rojasolvera/ipykernel_122018/3486713291.py:6: FutureWarning: The frame.append method is deprecated and will be removed from pandas in a future version. Use pandas.concat instead.\n",
      "  outputs=outputs.append(output,sort=False)\n",
      "/var/tmp/rojasolvera/ipykernel_122018/3486713291.py:6: FutureWarning: The frame.append method is deprecated and will be removed from pandas in a future version. Use pandas.concat instead.\n",
      "  outputs=outputs.append(output,sort=False)\n",
      "/var/tmp/rojasolvera/ipykernel_122018/3486713291.py:6: FutureWarning: The frame.append method is deprecated and will be removed from pandas in a future version. Use pandas.concat instead.\n",
      "  outputs=outputs.append(output,sort=False)\n",
      "/var/tmp/rojasolvera/ipykernel_122018/3486713291.py:6: FutureWarning: The frame.append method is deprecated and will be removed from pandas in a future version. Use pandas.concat instead.\n",
      "  outputs=outputs.append(output,sort=False)\n"
     ]
    },
    {
     "name": "stdout",
     "output_type": "stream",
     "text": [
      "1/1 [==============================] - 0s 21ms/step\n",
      "1/1 [==============================] - 0s 22ms/step\n",
      "1/1 [==============================] - 0s 21ms/step\n",
      "1/1 [==============================] - 0s 21ms/step\n"
     ]
    },
    {
     "name": "stderr",
     "output_type": "stream",
     "text": [
      "/var/tmp/rojasolvera/ipykernel_122018/3486713291.py:6: FutureWarning: The frame.append method is deprecated and will be removed from pandas in a future version. Use pandas.concat instead.\n",
      "  outputs=outputs.append(output,sort=False)\n",
      "/var/tmp/rojasolvera/ipykernel_122018/3486713291.py:6: FutureWarning: The frame.append method is deprecated and will be removed from pandas in a future version. Use pandas.concat instead.\n",
      "  outputs=outputs.append(output,sort=False)\n",
      "/var/tmp/rojasolvera/ipykernel_122018/3486713291.py:6: FutureWarning: The frame.append method is deprecated and will be removed from pandas in a future version. Use pandas.concat instead.\n",
      "  outputs=outputs.append(output,sort=False)\n",
      "/var/tmp/rojasolvera/ipykernel_122018/3486713291.py:6: FutureWarning: The frame.append method is deprecated and will be removed from pandas in a future version. Use pandas.concat instead.\n",
      "  outputs=outputs.append(output,sort=False)\n"
     ]
    },
    {
     "name": "stdout",
     "output_type": "stream",
     "text": [
      "1/1 [==============================] - 0s 22ms/step\n",
      "1/1 [==============================] - 0s 21ms/step\n",
      "1/1 [==============================] - 0s 21ms/step\n",
      "1/1 [==============================] - 0s 21ms/step\n"
     ]
    },
    {
     "name": "stderr",
     "output_type": "stream",
     "text": [
      "/var/tmp/rojasolvera/ipykernel_122018/3486713291.py:6: FutureWarning: The frame.append method is deprecated and will be removed from pandas in a future version. Use pandas.concat instead.\n",
      "  outputs=outputs.append(output,sort=False)\n",
      "/var/tmp/rojasolvera/ipykernel_122018/3486713291.py:6: FutureWarning: The frame.append method is deprecated and will be removed from pandas in a future version. Use pandas.concat instead.\n",
      "  outputs=outputs.append(output,sort=False)\n",
      "/var/tmp/rojasolvera/ipykernel_122018/3486713291.py:6: FutureWarning: The frame.append method is deprecated and will be removed from pandas in a future version. Use pandas.concat instead.\n",
      "  outputs=outputs.append(output,sort=False)\n",
      "/var/tmp/rojasolvera/ipykernel_122018/3486713291.py:6: FutureWarning: The frame.append method is deprecated and will be removed from pandas in a future version. Use pandas.concat instead.\n",
      "  outputs=outputs.append(output,sort=False)\n"
     ]
    },
    {
     "name": "stdout",
     "output_type": "stream",
     "text": [
      "1/1 [==============================] - 0s 24ms/step\n",
      "1/1 [==============================] - 0s 22ms/step\n",
      "1/1 [==============================] - 0s 23ms/step\n",
      "1/1 [==============================] - 0s 21ms/step\n"
     ]
    },
    {
     "name": "stderr",
     "output_type": "stream",
     "text": [
      "/var/tmp/rojasolvera/ipykernel_122018/3486713291.py:6: FutureWarning: The frame.append method is deprecated and will be removed from pandas in a future version. Use pandas.concat instead.\n",
      "  outputs=outputs.append(output,sort=False)\n",
      "/var/tmp/rojasolvera/ipykernel_122018/3486713291.py:6: FutureWarning: The frame.append method is deprecated and will be removed from pandas in a future version. Use pandas.concat instead.\n",
      "  outputs=outputs.append(output,sort=False)\n",
      "/var/tmp/rojasolvera/ipykernel_122018/3486713291.py:6: FutureWarning: The frame.append method is deprecated and will be removed from pandas in a future version. Use pandas.concat instead.\n",
      "  outputs=outputs.append(output,sort=False)\n",
      "/var/tmp/rojasolvera/ipykernel_122018/3486713291.py:6: FutureWarning: The frame.append method is deprecated and will be removed from pandas in a future version. Use pandas.concat instead.\n",
      "  outputs=outputs.append(output,sort=False)\n"
     ]
    },
    {
     "name": "stdout",
     "output_type": "stream",
     "text": [
      "1/1 [==============================] - 0s 22ms/step\n",
      "1/1 [==============================] - 0s 21ms/step\n",
      "1/1 [==============================] - 0s 21ms/step\n",
      "1/1 [==============================] - 0s 21ms/step\n"
     ]
    },
    {
     "name": "stderr",
     "output_type": "stream",
     "text": [
      "/var/tmp/rojasolvera/ipykernel_122018/3486713291.py:6: FutureWarning: The frame.append method is deprecated and will be removed from pandas in a future version. Use pandas.concat instead.\n",
      "  outputs=outputs.append(output,sort=False)\n",
      "/var/tmp/rojasolvera/ipykernel_122018/3486713291.py:6: FutureWarning: The frame.append method is deprecated and will be removed from pandas in a future version. Use pandas.concat instead.\n",
      "  outputs=outputs.append(output,sort=False)\n",
      "/var/tmp/rojasolvera/ipykernel_122018/3486713291.py:6: FutureWarning: The frame.append method is deprecated and will be removed from pandas in a future version. Use pandas.concat instead.\n",
      "  outputs=outputs.append(output,sort=False)\n",
      "/var/tmp/rojasolvera/ipykernel_122018/3486713291.py:6: FutureWarning: The frame.append method is deprecated and will be removed from pandas in a future version. Use pandas.concat instead.\n",
      "  outputs=outputs.append(output,sort=False)\n"
     ]
    },
    {
     "name": "stdout",
     "output_type": "stream",
     "text": [
      "1/1 [==============================] - 0s 22ms/step\n",
      "1/1 [==============================] - 0s 22ms/step\n",
      "1/1 [==============================] - 0s 21ms/step\n",
      "1/1 [==============================] - 0s 22ms/step\n"
     ]
    },
    {
     "name": "stderr",
     "output_type": "stream",
     "text": [
      "/var/tmp/rojasolvera/ipykernel_122018/3486713291.py:6: FutureWarning: The frame.append method is deprecated and will be removed from pandas in a future version. Use pandas.concat instead.\n",
      "  outputs=outputs.append(output,sort=False)\n",
      "/var/tmp/rojasolvera/ipykernel_122018/3486713291.py:6: FutureWarning: The frame.append method is deprecated and will be removed from pandas in a future version. Use pandas.concat instead.\n",
      "  outputs=outputs.append(output,sort=False)\n",
      "/var/tmp/rojasolvera/ipykernel_122018/3486713291.py:6: FutureWarning: The frame.append method is deprecated and will be removed from pandas in a future version. Use pandas.concat instead.\n",
      "  outputs=outputs.append(output,sort=False)\n",
      "/var/tmp/rojasolvera/ipykernel_122018/3486713291.py:6: FutureWarning: The frame.append method is deprecated and will be removed from pandas in a future version. Use pandas.concat instead.\n",
      "  outputs=outputs.append(output,sort=False)\n"
     ]
    },
    {
     "name": "stdout",
     "output_type": "stream",
     "text": [
      "1/1 [==============================] - 0s 28ms/step\n",
      "1/1 [==============================] - 0s 21ms/step\n",
      "1/1 [==============================] - 0s 22ms/step\n",
      "1/1 [==============================] - 0s 21ms/step\n"
     ]
    },
    {
     "name": "stderr",
     "output_type": "stream",
     "text": [
      "/var/tmp/rojasolvera/ipykernel_122018/3486713291.py:6: FutureWarning: The frame.append method is deprecated and will be removed from pandas in a future version. Use pandas.concat instead.\n",
      "  outputs=outputs.append(output,sort=False)\n",
      "/var/tmp/rojasolvera/ipykernel_122018/3486713291.py:6: FutureWarning: The frame.append method is deprecated and will be removed from pandas in a future version. Use pandas.concat instead.\n",
      "  outputs=outputs.append(output,sort=False)\n",
      "/var/tmp/rojasolvera/ipykernel_122018/3486713291.py:6: FutureWarning: The frame.append method is deprecated and will be removed from pandas in a future version. Use pandas.concat instead.\n",
      "  outputs=outputs.append(output,sort=False)\n",
      "/var/tmp/rojasolvera/ipykernel_122018/3486713291.py:6: FutureWarning: The frame.append method is deprecated and will be removed from pandas in a future version. Use pandas.concat instead.\n",
      "  outputs=outputs.append(output,sort=False)\n"
     ]
    },
    {
     "name": "stdout",
     "output_type": "stream",
     "text": [
      "1/1 [==============================] - 0s 22ms/step\n",
      "1/1 [==============================] - 0s 22ms/step\n",
      "1/1 [==============================] - 0s 21ms/step\n",
      "1/1 [==============================] - 0s 21ms/step\n"
     ]
    },
    {
     "name": "stderr",
     "output_type": "stream",
     "text": [
      "/var/tmp/rojasolvera/ipykernel_122018/3486713291.py:6: FutureWarning: The frame.append method is deprecated and will be removed from pandas in a future version. Use pandas.concat instead.\n",
      "  outputs=outputs.append(output,sort=False)\n",
      "/var/tmp/rojasolvera/ipykernel_122018/3486713291.py:6: FutureWarning: The frame.append method is deprecated and will be removed from pandas in a future version. Use pandas.concat instead.\n",
      "  outputs=outputs.append(output,sort=False)\n",
      "/var/tmp/rojasolvera/ipykernel_122018/3486713291.py:6: FutureWarning: The frame.append method is deprecated and will be removed from pandas in a future version. Use pandas.concat instead.\n",
      "  outputs=outputs.append(output,sort=False)\n",
      "/var/tmp/rojasolvera/ipykernel_122018/3486713291.py:6: FutureWarning: The frame.append method is deprecated and will be removed from pandas in a future version. Use pandas.concat instead.\n",
      "  outputs=outputs.append(output,sort=False)\n"
     ]
    },
    {
     "name": "stdout",
     "output_type": "stream",
     "text": [
      "1/1 [==============================] - 0s 21ms/step\n",
      "1/1 [==============================] - 0s 21ms/step\n",
      "1/1 [==============================] - 0s 22ms/step\n",
      "1/1 [==============================] - 0s 23ms/step\n"
     ]
    },
    {
     "name": "stderr",
     "output_type": "stream",
     "text": [
      "/var/tmp/rojasolvera/ipykernel_122018/3486713291.py:6: FutureWarning: The frame.append method is deprecated and will be removed from pandas in a future version. Use pandas.concat instead.\n",
      "  outputs=outputs.append(output,sort=False)\n",
      "/var/tmp/rojasolvera/ipykernel_122018/3486713291.py:6: FutureWarning: The frame.append method is deprecated and will be removed from pandas in a future version. Use pandas.concat instead.\n",
      "  outputs=outputs.append(output,sort=False)\n",
      "/var/tmp/rojasolvera/ipykernel_122018/3486713291.py:6: FutureWarning: The frame.append method is deprecated and will be removed from pandas in a future version. Use pandas.concat instead.\n",
      "  outputs=outputs.append(output,sort=False)\n",
      "/var/tmp/rojasolvera/ipykernel_122018/3486713291.py:6: FutureWarning: The frame.append method is deprecated and will be removed from pandas in a future version. Use pandas.concat instead.\n",
      "  outputs=outputs.append(output,sort=False)\n"
     ]
    },
    {
     "name": "stdout",
     "output_type": "stream",
     "text": [
      "1/1 [==============================] - 0s 22ms/step\n",
      "1/1 [==============================] - 0s 22ms/step\n",
      "1/1 [==============================] - 0s 22ms/step\n",
      "1/1 [==============================] - 0s 21ms/step\n"
     ]
    },
    {
     "name": "stderr",
     "output_type": "stream",
     "text": [
      "/var/tmp/rojasolvera/ipykernel_122018/3486713291.py:6: FutureWarning: The frame.append method is deprecated and will be removed from pandas in a future version. Use pandas.concat instead.\n",
      "  outputs=outputs.append(output,sort=False)\n",
      "/var/tmp/rojasolvera/ipykernel_122018/3486713291.py:6: FutureWarning: The frame.append method is deprecated and will be removed from pandas in a future version. Use pandas.concat instead.\n",
      "  outputs=outputs.append(output,sort=False)\n",
      "/var/tmp/rojasolvera/ipykernel_122018/3486713291.py:6: FutureWarning: The frame.append method is deprecated and will be removed from pandas in a future version. Use pandas.concat instead.\n",
      "  outputs=outputs.append(output,sort=False)\n",
      "/var/tmp/rojasolvera/ipykernel_122018/3486713291.py:6: FutureWarning: The frame.append method is deprecated and will be removed from pandas in a future version. Use pandas.concat instead.\n",
      "  outputs=outputs.append(output,sort=False)\n"
     ]
    },
    {
     "name": "stdout",
     "output_type": "stream",
     "text": [
      "1/1 [==============================] - 0s 22ms/step\n",
      "1/1 [==============================] - 0s 22ms/step\n",
      "1/1 [==============================] - 0s 22ms/step\n",
      "1/1 [==============================] - 0s 21ms/step\n"
     ]
    },
    {
     "name": "stderr",
     "output_type": "stream",
     "text": [
      "/var/tmp/rojasolvera/ipykernel_122018/3486713291.py:6: FutureWarning: The frame.append method is deprecated and will be removed from pandas in a future version. Use pandas.concat instead.\n",
      "  outputs=outputs.append(output,sort=False)\n",
      "/var/tmp/rojasolvera/ipykernel_122018/3486713291.py:6: FutureWarning: The frame.append method is deprecated and will be removed from pandas in a future version. Use pandas.concat instead.\n",
      "  outputs=outputs.append(output,sort=False)\n",
      "/var/tmp/rojasolvera/ipykernel_122018/3486713291.py:6: FutureWarning: The frame.append method is deprecated and will be removed from pandas in a future version. Use pandas.concat instead.\n",
      "  outputs=outputs.append(output,sort=False)\n",
      "/var/tmp/rojasolvera/ipykernel_122018/3486713291.py:6: FutureWarning: The frame.append method is deprecated and will be removed from pandas in a future version. Use pandas.concat instead.\n",
      "  outputs=outputs.append(output,sort=False)\n"
     ]
    },
    {
     "name": "stdout",
     "output_type": "stream",
     "text": [
      "1/1 [==============================] - 0s 22ms/step\n",
      "1/1 [==============================] - 0s 22ms/step\n",
      "1/1 [==============================] - 0s 23ms/step\n",
      "1/1 [==============================] - 0s 22ms/step\n"
     ]
    },
    {
     "name": "stderr",
     "output_type": "stream",
     "text": [
      "/var/tmp/rojasolvera/ipykernel_122018/3486713291.py:6: FutureWarning: The frame.append method is deprecated and will be removed from pandas in a future version. Use pandas.concat instead.\n",
      "  outputs=outputs.append(output,sort=False)\n",
      "/var/tmp/rojasolvera/ipykernel_122018/3486713291.py:6: FutureWarning: The frame.append method is deprecated and will be removed from pandas in a future version. Use pandas.concat instead.\n",
      "  outputs=outputs.append(output,sort=False)\n",
      "/var/tmp/rojasolvera/ipykernel_122018/3486713291.py:6: FutureWarning: The frame.append method is deprecated and will be removed from pandas in a future version. Use pandas.concat instead.\n",
      "  outputs=outputs.append(output,sort=False)\n",
      "/var/tmp/rojasolvera/ipykernel_122018/3486713291.py:6: FutureWarning: The frame.append method is deprecated and will be removed from pandas in a future version. Use pandas.concat instead.\n",
      "  outputs=outputs.append(output,sort=False)\n"
     ]
    },
    {
     "name": "stdout",
     "output_type": "stream",
     "text": [
      "1/1 [==============================] - 0s 22ms/step\n",
      "1/1 [==============================] - 0s 22ms/step\n",
      "1/1 [==============================] - 0s 21ms/step\n",
      "1/1 [==============================] - 0s 21ms/step\n"
     ]
    },
    {
     "name": "stderr",
     "output_type": "stream",
     "text": [
      "/var/tmp/rojasolvera/ipykernel_122018/3486713291.py:6: FutureWarning: The frame.append method is deprecated and will be removed from pandas in a future version. Use pandas.concat instead.\n",
      "  outputs=outputs.append(output,sort=False)\n",
      "/var/tmp/rojasolvera/ipykernel_122018/3486713291.py:6: FutureWarning: The frame.append method is deprecated and will be removed from pandas in a future version. Use pandas.concat instead.\n",
      "  outputs=outputs.append(output,sort=False)\n",
      "/var/tmp/rojasolvera/ipykernel_122018/3486713291.py:6: FutureWarning: The frame.append method is deprecated and will be removed from pandas in a future version. Use pandas.concat instead.\n",
      "  outputs=outputs.append(output,sort=False)\n",
      "/var/tmp/rojasolvera/ipykernel_122018/3486713291.py:6: FutureWarning: The frame.append method is deprecated and will be removed from pandas in a future version. Use pandas.concat instead.\n",
      "  outputs=outputs.append(output,sort=False)\n"
     ]
    },
    {
     "name": "stdout",
     "output_type": "stream",
     "text": [
      "1/1 [==============================] - 0s 21ms/step\n",
      "1/1 [==============================] - 0s 22ms/step\n",
      "1/1 [==============================] - 0s 26ms/step\n",
      "1/1 [==============================] - 0s 21ms/step\n"
     ]
    },
    {
     "name": "stderr",
     "output_type": "stream",
     "text": [
      "/var/tmp/rojasolvera/ipykernel_122018/3486713291.py:6: FutureWarning: The frame.append method is deprecated and will be removed from pandas in a future version. Use pandas.concat instead.\n",
      "  outputs=outputs.append(output,sort=False)\n",
      "/var/tmp/rojasolvera/ipykernel_122018/3486713291.py:6: FutureWarning: The frame.append method is deprecated and will be removed from pandas in a future version. Use pandas.concat instead.\n",
      "  outputs=outputs.append(output,sort=False)\n",
      "/var/tmp/rojasolvera/ipykernel_122018/3486713291.py:6: FutureWarning: The frame.append method is deprecated and will be removed from pandas in a future version. Use pandas.concat instead.\n",
      "  outputs=outputs.append(output,sort=False)\n",
      "/var/tmp/rojasolvera/ipykernel_122018/3486713291.py:6: FutureWarning: The frame.append method is deprecated and will be removed from pandas in a future version. Use pandas.concat instead.\n",
      "  outputs=outputs.append(output,sort=False)\n"
     ]
    },
    {
     "name": "stdout",
     "output_type": "stream",
     "text": [
      "1/1 [==============================] - 0s 23ms/step\n",
      "1/1 [==============================] - 0s 22ms/step\n",
      "1/1 [==============================] - 0s 21ms/step\n",
      "1/1 [==============================] - 0s 21ms/step\n"
     ]
    },
    {
     "name": "stderr",
     "output_type": "stream",
     "text": [
      "/var/tmp/rojasolvera/ipykernel_122018/3486713291.py:6: FutureWarning: The frame.append method is deprecated and will be removed from pandas in a future version. Use pandas.concat instead.\n",
      "  outputs=outputs.append(output,sort=False)\n",
      "/var/tmp/rojasolvera/ipykernel_122018/3486713291.py:6: FutureWarning: The frame.append method is deprecated and will be removed from pandas in a future version. Use pandas.concat instead.\n",
      "  outputs=outputs.append(output,sort=False)\n",
      "/var/tmp/rojasolvera/ipykernel_122018/3486713291.py:6: FutureWarning: The frame.append method is deprecated and will be removed from pandas in a future version. Use pandas.concat instead.\n",
      "  outputs=outputs.append(output,sort=False)\n",
      "/var/tmp/rojasolvera/ipykernel_122018/3486713291.py:6: FutureWarning: The frame.append method is deprecated and will be removed from pandas in a future version. Use pandas.concat instead.\n",
      "  outputs=outputs.append(output,sort=False)\n"
     ]
    },
    {
     "name": "stdout",
     "output_type": "stream",
     "text": [
      "1/1 [==============================] - 0s 22ms/step\n",
      "1/1 [==============================] - 0s 21ms/step\n",
      "1/1 [==============================] - 0s 22ms/step\n",
      "1/1 [==============================] - 0s 21ms/step\n"
     ]
    },
    {
     "name": "stderr",
     "output_type": "stream",
     "text": [
      "/var/tmp/rojasolvera/ipykernel_122018/3486713291.py:6: FutureWarning: The frame.append method is deprecated and will be removed from pandas in a future version. Use pandas.concat instead.\n",
      "  outputs=outputs.append(output,sort=False)\n",
      "/var/tmp/rojasolvera/ipykernel_122018/3486713291.py:6: FutureWarning: The frame.append method is deprecated and will be removed from pandas in a future version. Use pandas.concat instead.\n",
      "  outputs=outputs.append(output,sort=False)\n",
      "/var/tmp/rojasolvera/ipykernel_122018/3486713291.py:6: FutureWarning: The frame.append method is deprecated and will be removed from pandas in a future version. Use pandas.concat instead.\n",
      "  outputs=outputs.append(output,sort=False)\n",
      "/var/tmp/rojasolvera/ipykernel_122018/3486713291.py:6: FutureWarning: The frame.append method is deprecated and will be removed from pandas in a future version. Use pandas.concat instead.\n",
      "  outputs=outputs.append(output,sort=False)\n"
     ]
    },
    {
     "name": "stdout",
     "output_type": "stream",
     "text": [
      "1/1 [==============================] - 0s 21ms/step\n",
      "1/1 [==============================] - 0s 21ms/step\n",
      "1/1 [==============================] - 0s 21ms/step\n",
      "1/1 [==============================] - 0s 22ms/step\n"
     ]
    },
    {
     "name": "stderr",
     "output_type": "stream",
     "text": [
      "/var/tmp/rojasolvera/ipykernel_122018/3486713291.py:6: FutureWarning: The frame.append method is deprecated and will be removed from pandas in a future version. Use pandas.concat instead.\n",
      "  outputs=outputs.append(output,sort=False)\n",
      "/var/tmp/rojasolvera/ipykernel_122018/3486713291.py:6: FutureWarning: The frame.append method is deprecated and will be removed from pandas in a future version. Use pandas.concat instead.\n",
      "  outputs=outputs.append(output,sort=False)\n",
      "/var/tmp/rojasolvera/ipykernel_122018/3486713291.py:6: FutureWarning: The frame.append method is deprecated and will be removed from pandas in a future version. Use pandas.concat instead.\n",
      "  outputs=outputs.append(output,sort=False)\n"
     ]
    },
    {
     "name": "stdout",
     "output_type": "stream",
     "text": [
      "1/1 [==============================] - 0s 22ms/step\n",
      "1/1 [==============================] - 0s 22ms/step\n",
      "1/1 [==============================] - 0s 21ms/step\n"
     ]
    },
    {
     "name": "stderr",
     "output_type": "stream",
     "text": [
      "/var/tmp/rojasolvera/ipykernel_122018/3486713291.py:6: FutureWarning: The frame.append method is deprecated and will be removed from pandas in a future version. Use pandas.concat instead.\n",
      "  outputs=outputs.append(output,sort=False)\n",
      "/var/tmp/rojasolvera/ipykernel_122018/3486713291.py:6: FutureWarning: The frame.append method is deprecated and will be removed from pandas in a future version. Use pandas.concat instead.\n",
      "  outputs=outputs.append(output,sort=False)\n",
      "/var/tmp/rojasolvera/ipykernel_122018/3486713291.py:6: FutureWarning: The frame.append method is deprecated and will be removed from pandas in a future version. Use pandas.concat instead.\n",
      "  outputs=outputs.append(output,sort=False)\n",
      "/var/tmp/rojasolvera/ipykernel_122018/3486713291.py:6: FutureWarning: The frame.append method is deprecated and will be removed from pandas in a future version. Use pandas.concat instead.\n",
      "  outputs=outputs.append(output,sort=False)\n"
     ]
    },
    {
     "name": "stdout",
     "output_type": "stream",
     "text": [
      "1/1 [==============================] - 0s 22ms/step\n",
      "1/1 [==============================] - 0s 22ms/step\n",
      "1/1 [==============================] - 0s 21ms/step\n",
      "1/1 [==============================] - 0s 21ms/step\n"
     ]
    },
    {
     "name": "stderr",
     "output_type": "stream",
     "text": [
      "/var/tmp/rojasolvera/ipykernel_122018/3486713291.py:6: FutureWarning: The frame.append method is deprecated and will be removed from pandas in a future version. Use pandas.concat instead.\n",
      "  outputs=outputs.append(output,sort=False)\n",
      "/var/tmp/rojasolvera/ipykernel_122018/3486713291.py:6: FutureWarning: The frame.append method is deprecated and will be removed from pandas in a future version. Use pandas.concat instead.\n",
      "  outputs=outputs.append(output,sort=False)\n",
      "/var/tmp/rojasolvera/ipykernel_122018/3486713291.py:6: FutureWarning: The frame.append method is deprecated and will be removed from pandas in a future version. Use pandas.concat instead.\n",
      "  outputs=outputs.append(output,sort=False)\n",
      "/var/tmp/rojasolvera/ipykernel_122018/3486713291.py:6: FutureWarning: The frame.append method is deprecated and will be removed from pandas in a future version. Use pandas.concat instead.\n",
      "  outputs=outputs.append(output,sort=False)\n"
     ]
    },
    {
     "name": "stdout",
     "output_type": "stream",
     "text": [
      "1/1 [==============================] - 0s 22ms/step\n",
      "1/1 [==============================] - 0s 21ms/step\n",
      "1/1 [==============================] - 0s 22ms/step\n",
      "1/1 [==============================] - 0s 22ms/step\n"
     ]
    },
    {
     "name": "stderr",
     "output_type": "stream",
     "text": [
      "/var/tmp/rojasolvera/ipykernel_122018/3486713291.py:6: FutureWarning: The frame.append method is deprecated and will be removed from pandas in a future version. Use pandas.concat instead.\n",
      "  outputs=outputs.append(output,sort=False)\n",
      "/var/tmp/rojasolvera/ipykernel_122018/3486713291.py:6: FutureWarning: The frame.append method is deprecated and will be removed from pandas in a future version. Use pandas.concat instead.\n",
      "  outputs=outputs.append(output,sort=False)\n",
      "/var/tmp/rojasolvera/ipykernel_122018/3486713291.py:6: FutureWarning: The frame.append method is deprecated and will be removed from pandas in a future version. Use pandas.concat instead.\n",
      "  outputs=outputs.append(output,sort=False)\n",
      "/var/tmp/rojasolvera/ipykernel_122018/3486713291.py:6: FutureWarning: The frame.append method is deprecated and will be removed from pandas in a future version. Use pandas.concat instead.\n",
      "  outputs=outputs.append(output,sort=False)\n"
     ]
    },
    {
     "name": "stdout",
     "output_type": "stream",
     "text": [
      "1/1 [==============================] - 0s 22ms/step\n",
      "1/1 [==============================] - 0s 22ms/step\n",
      "1/1 [==============================] - 0s 22ms/step\n",
      "1/1 [==============================] - 0s 22ms/step\n"
     ]
    },
    {
     "name": "stderr",
     "output_type": "stream",
     "text": [
      "/var/tmp/rojasolvera/ipykernel_122018/3486713291.py:6: FutureWarning: The frame.append method is deprecated and will be removed from pandas in a future version. Use pandas.concat instead.\n",
      "  outputs=outputs.append(output,sort=False)\n",
      "/var/tmp/rojasolvera/ipykernel_122018/3486713291.py:6: FutureWarning: The frame.append method is deprecated and will be removed from pandas in a future version. Use pandas.concat instead.\n",
      "  outputs=outputs.append(output,sort=False)\n",
      "/var/tmp/rojasolvera/ipykernel_122018/3486713291.py:6: FutureWarning: The frame.append method is deprecated and will be removed from pandas in a future version. Use pandas.concat instead.\n",
      "  outputs=outputs.append(output,sort=False)\n",
      "/var/tmp/rojasolvera/ipykernel_122018/3486713291.py:6: FutureWarning: The frame.append method is deprecated and will be removed from pandas in a future version. Use pandas.concat instead.\n",
      "  outputs=outputs.append(output,sort=False)\n"
     ]
    },
    {
     "name": "stdout",
     "output_type": "stream",
     "text": [
      "1/1 [==============================] - 0s 22ms/step\n",
      "1/1 [==============================] - 0s 22ms/step\n",
      "1/1 [==============================] - 0s 22ms/step\n",
      "1/1 [==============================] - 0s 21ms/step\n"
     ]
    },
    {
     "name": "stderr",
     "output_type": "stream",
     "text": [
      "/var/tmp/rojasolvera/ipykernel_122018/3486713291.py:6: FutureWarning: The frame.append method is deprecated and will be removed from pandas in a future version. Use pandas.concat instead.\n",
      "  outputs=outputs.append(output,sort=False)\n",
      "/var/tmp/rojasolvera/ipykernel_122018/3486713291.py:6: FutureWarning: The frame.append method is deprecated and will be removed from pandas in a future version. Use pandas.concat instead.\n",
      "  outputs=outputs.append(output,sort=False)\n",
      "/var/tmp/rojasolvera/ipykernel_122018/3486713291.py:6: FutureWarning: The frame.append method is deprecated and will be removed from pandas in a future version. Use pandas.concat instead.\n",
      "  outputs=outputs.append(output,sort=False)\n",
      "/var/tmp/rojasolvera/ipykernel_122018/3486713291.py:6: FutureWarning: The frame.append method is deprecated and will be removed from pandas in a future version. Use pandas.concat instead.\n",
      "  outputs=outputs.append(output,sort=False)\n"
     ]
    },
    {
     "name": "stdout",
     "output_type": "stream",
     "text": [
      "1/1 [==============================] - 0s 22ms/step\n",
      "1/1 [==============================] - 0s 22ms/step\n",
      "1/1 [==============================] - 0s 22ms/step\n",
      "1/1 [==============================] - 0s 22ms/step\n"
     ]
    },
    {
     "name": "stderr",
     "output_type": "stream",
     "text": [
      "/var/tmp/rojasolvera/ipykernel_122018/3486713291.py:6: FutureWarning: The frame.append method is deprecated and will be removed from pandas in a future version. Use pandas.concat instead.\n",
      "  outputs=outputs.append(output,sort=False)\n",
      "/var/tmp/rojasolvera/ipykernel_122018/3486713291.py:6: FutureWarning: The frame.append method is deprecated and will be removed from pandas in a future version. Use pandas.concat instead.\n",
      "  outputs=outputs.append(output,sort=False)\n",
      "/var/tmp/rojasolvera/ipykernel_122018/3486713291.py:6: FutureWarning: The frame.append method is deprecated and will be removed from pandas in a future version. Use pandas.concat instead.\n",
      "  outputs=outputs.append(output,sort=False)\n",
      "/var/tmp/rojasolvera/ipykernel_122018/3486713291.py:6: FutureWarning: The frame.append method is deprecated and will be removed from pandas in a future version. Use pandas.concat instead.\n",
      "  outputs=outputs.append(output,sort=False)\n"
     ]
    },
    {
     "name": "stdout",
     "output_type": "stream",
     "text": [
      "1/1 [==============================] - 0s 22ms/step\n",
      "1/1 [==============================] - 0s 21ms/step\n",
      "1/1 [==============================] - 0s 21ms/step\n",
      "1/1 [==============================] - 0s 21ms/step\n"
     ]
    },
    {
     "name": "stderr",
     "output_type": "stream",
     "text": [
      "/var/tmp/rojasolvera/ipykernel_122018/3486713291.py:6: FutureWarning: The frame.append method is deprecated and will be removed from pandas in a future version. Use pandas.concat instead.\n",
      "  outputs=outputs.append(output,sort=False)\n",
      "/var/tmp/rojasolvera/ipykernel_122018/3486713291.py:6: FutureWarning: The frame.append method is deprecated and will be removed from pandas in a future version. Use pandas.concat instead.\n",
      "  outputs=outputs.append(output,sort=False)\n",
      "/var/tmp/rojasolvera/ipykernel_122018/3486713291.py:6: FutureWarning: The frame.append method is deprecated and will be removed from pandas in a future version. Use pandas.concat instead.\n",
      "  outputs=outputs.append(output,sort=False)\n",
      "/var/tmp/rojasolvera/ipykernel_122018/3486713291.py:6: FutureWarning: The frame.append method is deprecated and will be removed from pandas in a future version. Use pandas.concat instead.\n",
      "  outputs=outputs.append(output,sort=False)\n"
     ]
    },
    {
     "name": "stdout",
     "output_type": "stream",
     "text": [
      "1/1 [==============================] - 0s 21ms/step\n",
      "1/1 [==============================] - 0s 21ms/step\n",
      "1/1 [==============================] - 0s 22ms/step\n",
      "1/1 [==============================] - 0s 22ms/step\n"
     ]
    },
    {
     "name": "stderr",
     "output_type": "stream",
     "text": [
      "/var/tmp/rojasolvera/ipykernel_122018/3486713291.py:6: FutureWarning: The frame.append method is deprecated and will be removed from pandas in a future version. Use pandas.concat instead.\n",
      "  outputs=outputs.append(output,sort=False)\n",
      "/var/tmp/rojasolvera/ipykernel_122018/3486713291.py:6: FutureWarning: The frame.append method is deprecated and will be removed from pandas in a future version. Use pandas.concat instead.\n",
      "  outputs=outputs.append(output,sort=False)\n",
      "/var/tmp/rojasolvera/ipykernel_122018/3486713291.py:6: FutureWarning: The frame.append method is deprecated and will be removed from pandas in a future version. Use pandas.concat instead.\n",
      "  outputs=outputs.append(output,sort=False)\n",
      "/var/tmp/rojasolvera/ipykernel_122018/3486713291.py:6: FutureWarning: The frame.append method is deprecated and will be removed from pandas in a future version. Use pandas.concat instead.\n",
      "  outputs=outputs.append(output,sort=False)\n"
     ]
    },
    {
     "name": "stdout",
     "output_type": "stream",
     "text": [
      "1/1 [==============================] - 0s 21ms/step\n",
      "1/1 [==============================] - 0s 21ms/step\n",
      "1/1 [==============================] - 0s 21ms/step\n",
      "1/1 [==============================] - 0s 21ms/step\n"
     ]
    },
    {
     "name": "stderr",
     "output_type": "stream",
     "text": [
      "/var/tmp/rojasolvera/ipykernel_122018/3486713291.py:6: FutureWarning: The frame.append method is deprecated and will be removed from pandas in a future version. Use pandas.concat instead.\n",
      "  outputs=outputs.append(output,sort=False)\n",
      "/var/tmp/rojasolvera/ipykernel_122018/3486713291.py:6: FutureWarning: The frame.append method is deprecated and will be removed from pandas in a future version. Use pandas.concat instead.\n",
      "  outputs=outputs.append(output,sort=False)\n",
      "/var/tmp/rojasolvera/ipykernel_122018/3486713291.py:6: FutureWarning: The frame.append method is deprecated and will be removed from pandas in a future version. Use pandas.concat instead.\n",
      "  outputs=outputs.append(output,sort=False)\n",
      "/var/tmp/rojasolvera/ipykernel_122018/3486713291.py:6: FutureWarning: The frame.append method is deprecated and will be removed from pandas in a future version. Use pandas.concat instead.\n",
      "  outputs=outputs.append(output,sort=False)\n"
     ]
    },
    {
     "name": "stdout",
     "output_type": "stream",
     "text": [
      "1/1 [==============================] - 0s 22ms/step\n",
      "1/1 [==============================] - 0s 21ms/step\n",
      "1/1 [==============================] - 0s 21ms/step\n",
      "1/1 [==============================] - 0s 21ms/step\n"
     ]
    },
    {
     "name": "stderr",
     "output_type": "stream",
     "text": [
      "/var/tmp/rojasolvera/ipykernel_122018/3486713291.py:6: FutureWarning: The frame.append method is deprecated and will be removed from pandas in a future version. Use pandas.concat instead.\n",
      "  outputs=outputs.append(output,sort=False)\n",
      "/var/tmp/rojasolvera/ipykernel_122018/3486713291.py:6: FutureWarning: The frame.append method is deprecated and will be removed from pandas in a future version. Use pandas.concat instead.\n",
      "  outputs=outputs.append(output,sort=False)\n",
      "/var/tmp/rojasolvera/ipykernel_122018/3486713291.py:6: FutureWarning: The frame.append method is deprecated and will be removed from pandas in a future version. Use pandas.concat instead.\n",
      "  outputs=outputs.append(output,sort=False)\n",
      "/var/tmp/rojasolvera/ipykernel_122018/3486713291.py:6: FutureWarning: The frame.append method is deprecated and will be removed from pandas in a future version. Use pandas.concat instead.\n",
      "  outputs=outputs.append(output,sort=False)\n"
     ]
    },
    {
     "name": "stdout",
     "output_type": "stream",
     "text": [
      "1/1 [==============================] - 0s 22ms/step\n",
      "1/1 [==============================] - 0s 22ms/step\n",
      "1/1 [==============================] - 0s 21ms/step\n",
      "1/1 [==============================] - 0s 22ms/step\n"
     ]
    },
    {
     "name": "stderr",
     "output_type": "stream",
     "text": [
      "/var/tmp/rojasolvera/ipykernel_122018/3486713291.py:6: FutureWarning: The frame.append method is deprecated and will be removed from pandas in a future version. Use pandas.concat instead.\n",
      "  outputs=outputs.append(output,sort=False)\n",
      "/var/tmp/rojasolvera/ipykernel_122018/3486713291.py:6: FutureWarning: The frame.append method is deprecated and will be removed from pandas in a future version. Use pandas.concat instead.\n",
      "  outputs=outputs.append(output,sort=False)\n",
      "/var/tmp/rojasolvera/ipykernel_122018/3486713291.py:6: FutureWarning: The frame.append method is deprecated and will be removed from pandas in a future version. Use pandas.concat instead.\n",
      "  outputs=outputs.append(output,sort=False)\n",
      "/var/tmp/rojasolvera/ipykernel_122018/3486713291.py:6: FutureWarning: The frame.append method is deprecated and will be removed from pandas in a future version. Use pandas.concat instead.\n",
      "  outputs=outputs.append(output,sort=False)\n"
     ]
    },
    {
     "name": "stdout",
     "output_type": "stream",
     "text": [
      "1/1 [==============================] - 0s 22ms/step\n",
      "1/1 [==============================] - 0s 22ms/step\n",
      "1/1 [==============================] - 0s 22ms/step\n",
      "1/1 [==============================] - 0s 21ms/step\n"
     ]
    },
    {
     "name": "stderr",
     "output_type": "stream",
     "text": [
      "/var/tmp/rojasolvera/ipykernel_122018/3486713291.py:6: FutureWarning: The frame.append method is deprecated and will be removed from pandas in a future version. Use pandas.concat instead.\n",
      "  outputs=outputs.append(output,sort=False)\n",
      "/var/tmp/rojasolvera/ipykernel_122018/3486713291.py:6: FutureWarning: The frame.append method is deprecated and will be removed from pandas in a future version. Use pandas.concat instead.\n",
      "  outputs=outputs.append(output,sort=False)\n",
      "/var/tmp/rojasolvera/ipykernel_122018/3486713291.py:6: FutureWarning: The frame.append method is deprecated and will be removed from pandas in a future version. Use pandas.concat instead.\n",
      "  outputs=outputs.append(output,sort=False)\n",
      "/var/tmp/rojasolvera/ipykernel_122018/3486713291.py:6: FutureWarning: The frame.append method is deprecated and will be removed from pandas in a future version. Use pandas.concat instead.\n",
      "  outputs=outputs.append(output,sort=False)\n"
     ]
    },
    {
     "name": "stdout",
     "output_type": "stream",
     "text": [
      "1/1 [==============================] - 0s 22ms/step\n",
      "1/1 [==============================] - 0s 22ms/step\n",
      "1/1 [==============================] - 0s 22ms/step\n",
      "1/1 [==============================] - 0s 22ms/step\n"
     ]
    },
    {
     "name": "stderr",
     "output_type": "stream",
     "text": [
      "/var/tmp/rojasolvera/ipykernel_122018/3486713291.py:6: FutureWarning: The frame.append method is deprecated and will be removed from pandas in a future version. Use pandas.concat instead.\n",
      "  outputs=outputs.append(output,sort=False)\n",
      "/var/tmp/rojasolvera/ipykernel_122018/3486713291.py:6: FutureWarning: The frame.append method is deprecated and will be removed from pandas in a future version. Use pandas.concat instead.\n",
      "  outputs=outputs.append(output,sort=False)\n",
      "/var/tmp/rojasolvera/ipykernel_122018/3486713291.py:6: FutureWarning: The frame.append method is deprecated and will be removed from pandas in a future version. Use pandas.concat instead.\n",
      "  outputs=outputs.append(output,sort=False)\n",
      "/var/tmp/rojasolvera/ipykernel_122018/3486713291.py:6: FutureWarning: The frame.append method is deprecated and will be removed from pandas in a future version. Use pandas.concat instead.\n",
      "  outputs=outputs.append(output,sort=False)\n"
     ]
    },
    {
     "name": "stdout",
     "output_type": "stream",
     "text": [
      "1/1 [==============================] - 0s 22ms/step\n",
      "1/1 [==============================] - 0s 22ms/step\n",
      "1/1 [==============================] - 0s 21ms/step\n",
      "1/1 [==============================] - 0s 22ms/step\n"
     ]
    },
    {
     "name": "stderr",
     "output_type": "stream",
     "text": [
      "/var/tmp/rojasolvera/ipykernel_122018/3486713291.py:6: FutureWarning: The frame.append method is deprecated and will be removed from pandas in a future version. Use pandas.concat instead.\n",
      "  outputs=outputs.append(output,sort=False)\n",
      "/var/tmp/rojasolvera/ipykernel_122018/3486713291.py:6: FutureWarning: The frame.append method is deprecated and will be removed from pandas in a future version. Use pandas.concat instead.\n",
      "  outputs=outputs.append(output,sort=False)\n",
      "/var/tmp/rojasolvera/ipykernel_122018/3486713291.py:6: FutureWarning: The frame.append method is deprecated and will be removed from pandas in a future version. Use pandas.concat instead.\n",
      "  outputs=outputs.append(output,sort=False)\n",
      "/var/tmp/rojasolvera/ipykernel_122018/3486713291.py:6: FutureWarning: The frame.append method is deprecated and will be removed from pandas in a future version. Use pandas.concat instead.\n",
      "  outputs=outputs.append(output,sort=False)\n"
     ]
    },
    {
     "name": "stdout",
     "output_type": "stream",
     "text": [
      "1/1 [==============================] - 0s 23ms/step\n",
      "1/1 [==============================] - 0s 21ms/step\n",
      "1/1 [==============================] - 0s 21ms/step\n",
      "1/1 [==============================] - 0s 22ms/step\n"
     ]
    },
    {
     "name": "stderr",
     "output_type": "stream",
     "text": [
      "/var/tmp/rojasolvera/ipykernel_122018/3486713291.py:6: FutureWarning: The frame.append method is deprecated and will be removed from pandas in a future version. Use pandas.concat instead.\n",
      "  outputs=outputs.append(output,sort=False)\n",
      "/var/tmp/rojasolvera/ipykernel_122018/3486713291.py:6: FutureWarning: The frame.append method is deprecated and will be removed from pandas in a future version. Use pandas.concat instead.\n",
      "  outputs=outputs.append(output,sort=False)\n",
      "/var/tmp/rojasolvera/ipykernel_122018/3486713291.py:6: FutureWarning: The frame.append method is deprecated and will be removed from pandas in a future version. Use pandas.concat instead.\n",
      "  outputs=outputs.append(output,sort=False)\n",
      "/var/tmp/rojasolvera/ipykernel_122018/3486713291.py:6: FutureWarning: The frame.append method is deprecated and will be removed from pandas in a future version. Use pandas.concat instead.\n",
      "  outputs=outputs.append(output,sort=False)\n"
     ]
    },
    {
     "name": "stdout",
     "output_type": "stream",
     "text": [
      "1/1 [==============================] - 0s 21ms/step\n",
      "1/1 [==============================] - 0s 21ms/step\n",
      "1/1 [==============================] - 0s 22ms/step\n",
      "1/1 [==============================] - 0s 22ms/step\n"
     ]
    },
    {
     "name": "stderr",
     "output_type": "stream",
     "text": [
      "/var/tmp/rojasolvera/ipykernel_122018/3486713291.py:6: FutureWarning: The frame.append method is deprecated and will be removed from pandas in a future version. Use pandas.concat instead.\n",
      "  outputs=outputs.append(output,sort=False)\n",
      "/var/tmp/rojasolvera/ipykernel_122018/3486713291.py:6: FutureWarning: The frame.append method is deprecated and will be removed from pandas in a future version. Use pandas.concat instead.\n",
      "  outputs=outputs.append(output,sort=False)\n",
      "/var/tmp/rojasolvera/ipykernel_122018/3486713291.py:6: FutureWarning: The frame.append method is deprecated and will be removed from pandas in a future version. Use pandas.concat instead.\n",
      "  outputs=outputs.append(output,sort=False)\n",
      "/var/tmp/rojasolvera/ipykernel_122018/3486713291.py:6: FutureWarning: The frame.append method is deprecated and will be removed from pandas in a future version. Use pandas.concat instead.\n",
      "  outputs=outputs.append(output,sort=False)\n"
     ]
    },
    {
     "name": "stdout",
     "output_type": "stream",
     "text": [
      "1/1 [==============================] - 0s 21ms/step\n",
      "1/1 [==============================] - 0s 22ms/step\n",
      "1/1 [==============================] - 0s 22ms/step\n",
      "1/1 [==============================] - 0s 21ms/step\n"
     ]
    },
    {
     "name": "stderr",
     "output_type": "stream",
     "text": [
      "/var/tmp/rojasolvera/ipykernel_122018/3486713291.py:6: FutureWarning: The frame.append method is deprecated and will be removed from pandas in a future version. Use pandas.concat instead.\n",
      "  outputs=outputs.append(output,sort=False)\n",
      "/var/tmp/rojasolvera/ipykernel_122018/3486713291.py:6: FutureWarning: The frame.append method is deprecated and will be removed from pandas in a future version. Use pandas.concat instead.\n",
      "  outputs=outputs.append(output,sort=False)\n",
      "/var/tmp/rojasolvera/ipykernel_122018/3486713291.py:6: FutureWarning: The frame.append method is deprecated and will be removed from pandas in a future version. Use pandas.concat instead.\n",
      "  outputs=outputs.append(output,sort=False)\n",
      "/var/tmp/rojasolvera/ipykernel_122018/3486713291.py:6: FutureWarning: The frame.append method is deprecated and will be removed from pandas in a future version. Use pandas.concat instead.\n",
      "  outputs=outputs.append(output,sort=False)\n"
     ]
    },
    {
     "name": "stdout",
     "output_type": "stream",
     "text": [
      "1/1 [==============================] - 0s 21ms/step\n",
      "1/1 [==============================] - 0s 21ms/step\n",
      "1/1 [==============================] - 0s 21ms/step\n",
      "1/1 [==============================] - 0s 21ms/step\n"
     ]
    },
    {
     "name": "stderr",
     "output_type": "stream",
     "text": [
      "/var/tmp/rojasolvera/ipykernel_122018/3486713291.py:6: FutureWarning: The frame.append method is deprecated and will be removed from pandas in a future version. Use pandas.concat instead.\n",
      "  outputs=outputs.append(output,sort=False)\n",
      "/var/tmp/rojasolvera/ipykernel_122018/3486713291.py:6: FutureWarning: The frame.append method is deprecated and will be removed from pandas in a future version. Use pandas.concat instead.\n",
      "  outputs=outputs.append(output,sort=False)\n",
      "/var/tmp/rojasolvera/ipykernel_122018/3486713291.py:6: FutureWarning: The frame.append method is deprecated and will be removed from pandas in a future version. Use pandas.concat instead.\n",
      "  outputs=outputs.append(output,sort=False)\n",
      "/var/tmp/rojasolvera/ipykernel_122018/3486713291.py:6: FutureWarning: The frame.append method is deprecated and will be removed from pandas in a future version. Use pandas.concat instead.\n",
      "  outputs=outputs.append(output,sort=False)\n"
     ]
    },
    {
     "name": "stdout",
     "output_type": "stream",
     "text": [
      "1/1 [==============================] - 0s 23ms/step\n",
      "1/1 [==============================] - 0s 21ms/step\n",
      "1/1 [==============================] - 0s 21ms/step\n",
      "1/1 [==============================] - 0s 22ms/step\n"
     ]
    },
    {
     "name": "stderr",
     "output_type": "stream",
     "text": [
      "/var/tmp/rojasolvera/ipykernel_122018/3486713291.py:6: FutureWarning: The frame.append method is deprecated and will be removed from pandas in a future version. Use pandas.concat instead.\n",
      "  outputs=outputs.append(output,sort=False)\n",
      "/var/tmp/rojasolvera/ipykernel_122018/3486713291.py:6: FutureWarning: The frame.append method is deprecated and will be removed from pandas in a future version. Use pandas.concat instead.\n",
      "  outputs=outputs.append(output,sort=False)\n",
      "/var/tmp/rojasolvera/ipykernel_122018/3486713291.py:6: FutureWarning: The frame.append method is deprecated and will be removed from pandas in a future version. Use pandas.concat instead.\n",
      "  outputs=outputs.append(output,sort=False)\n",
      "/var/tmp/rojasolvera/ipykernel_122018/3486713291.py:6: FutureWarning: The frame.append method is deprecated and will be removed from pandas in a future version. Use pandas.concat instead.\n",
      "  outputs=outputs.append(output,sort=False)\n"
     ]
    },
    {
     "name": "stdout",
     "output_type": "stream",
     "text": [
      "1/1 [==============================] - 0s 22ms/step\n",
      "1/1 [==============================] - 0s 21ms/step\n",
      "1/1 [==============================] - 0s 21ms/step\n",
      "1/1 [==============================] - 0s 21ms/step\n"
     ]
    },
    {
     "name": "stderr",
     "output_type": "stream",
     "text": [
      "/var/tmp/rojasolvera/ipykernel_122018/3486713291.py:6: FutureWarning: The frame.append method is deprecated and will be removed from pandas in a future version. Use pandas.concat instead.\n",
      "  outputs=outputs.append(output,sort=False)\n",
      "/var/tmp/rojasolvera/ipykernel_122018/3486713291.py:6: FutureWarning: The frame.append method is deprecated and will be removed from pandas in a future version. Use pandas.concat instead.\n",
      "  outputs=outputs.append(output,sort=False)\n",
      "/var/tmp/rojasolvera/ipykernel_122018/3486713291.py:6: FutureWarning: The frame.append method is deprecated and will be removed from pandas in a future version. Use pandas.concat instead.\n",
      "  outputs=outputs.append(output,sort=False)\n",
      "/var/tmp/rojasolvera/ipykernel_122018/3486713291.py:6: FutureWarning: The frame.append method is deprecated and will be removed from pandas in a future version. Use pandas.concat instead.\n",
      "  outputs=outputs.append(output,sort=False)\n"
     ]
    },
    {
     "name": "stdout",
     "output_type": "stream",
     "text": [
      "1/1 [==============================] - 0s 21ms/step\n",
      "1/1 [==============================] - 0s 21ms/step\n",
      "1/1 [==============================] - 0s 21ms/step\n",
      "1/1 [==============================] - 0s 21ms/step\n"
     ]
    },
    {
     "name": "stderr",
     "output_type": "stream",
     "text": [
      "/var/tmp/rojasolvera/ipykernel_122018/3486713291.py:6: FutureWarning: The frame.append method is deprecated and will be removed from pandas in a future version. Use pandas.concat instead.\n",
      "  outputs=outputs.append(output,sort=False)\n",
      "/var/tmp/rojasolvera/ipykernel_122018/3486713291.py:6: FutureWarning: The frame.append method is deprecated and will be removed from pandas in a future version. Use pandas.concat instead.\n",
      "  outputs=outputs.append(output,sort=False)\n",
      "/var/tmp/rojasolvera/ipykernel_122018/3486713291.py:6: FutureWarning: The frame.append method is deprecated and will be removed from pandas in a future version. Use pandas.concat instead.\n",
      "  outputs=outputs.append(output,sort=False)\n",
      "/var/tmp/rojasolvera/ipykernel_122018/3486713291.py:6: FutureWarning: The frame.append method is deprecated and will be removed from pandas in a future version. Use pandas.concat instead.\n",
      "  outputs=outputs.append(output,sort=False)\n"
     ]
    },
    {
     "name": "stdout",
     "output_type": "stream",
     "text": [
      "1/1 [==============================] - 0s 22ms/step\n",
      "1/1 [==============================] - 0s 23ms/step\n",
      "1/1 [==============================] - 0s 21ms/step\n",
      "1/1 [==============================] - 0s 23ms/step\n"
     ]
    },
    {
     "name": "stderr",
     "output_type": "stream",
     "text": [
      "/var/tmp/rojasolvera/ipykernel_122018/3486713291.py:6: FutureWarning: The frame.append method is deprecated and will be removed from pandas in a future version. Use pandas.concat instead.\n",
      "  outputs=outputs.append(output,sort=False)\n",
      "/var/tmp/rojasolvera/ipykernel_122018/3486713291.py:6: FutureWarning: The frame.append method is deprecated and will be removed from pandas in a future version. Use pandas.concat instead.\n",
      "  outputs=outputs.append(output,sort=False)\n",
      "/var/tmp/rojasolvera/ipykernel_122018/3486713291.py:6: FutureWarning: The frame.append method is deprecated and will be removed from pandas in a future version. Use pandas.concat instead.\n",
      "  outputs=outputs.append(output,sort=False)\n",
      "/var/tmp/rojasolvera/ipykernel_122018/3486713291.py:6: FutureWarning: The frame.append method is deprecated and will be removed from pandas in a future version. Use pandas.concat instead.\n",
      "  outputs=outputs.append(output,sort=False)\n"
     ]
    },
    {
     "name": "stdout",
     "output_type": "stream",
     "text": [
      "1/1 [==============================] - 0s 22ms/step\n",
      "1/1 [==============================] - 0s 22ms/step\n",
      "1/1 [==============================] - 0s 21ms/step\n",
      "1/1 [==============================] - 0s 21ms/step\n"
     ]
    },
    {
     "name": "stderr",
     "output_type": "stream",
     "text": [
      "/var/tmp/rojasolvera/ipykernel_122018/3486713291.py:6: FutureWarning: The frame.append method is deprecated and will be removed from pandas in a future version. Use pandas.concat instead.\n",
      "  outputs=outputs.append(output,sort=False)\n",
      "/var/tmp/rojasolvera/ipykernel_122018/3486713291.py:6: FutureWarning: The frame.append method is deprecated and will be removed from pandas in a future version. Use pandas.concat instead.\n",
      "  outputs=outputs.append(output,sort=False)\n",
      "/var/tmp/rojasolvera/ipykernel_122018/3486713291.py:6: FutureWarning: The frame.append method is deprecated and will be removed from pandas in a future version. Use pandas.concat instead.\n",
      "  outputs=outputs.append(output,sort=False)\n",
      "/var/tmp/rojasolvera/ipykernel_122018/3486713291.py:6: FutureWarning: The frame.append method is deprecated and will be removed from pandas in a future version. Use pandas.concat instead.\n",
      "  outputs=outputs.append(output,sort=False)\n"
     ]
    },
    {
     "name": "stdout",
     "output_type": "stream",
     "text": [
      "1/1 [==============================] - 0s 21ms/step\n",
      "1/1 [==============================] - 0s 22ms/step\n",
      "1/1 [==============================] - 0s 21ms/step\n",
      "1/1 [==============================] - 0s 22ms/step\n"
     ]
    },
    {
     "name": "stderr",
     "output_type": "stream",
     "text": [
      "/var/tmp/rojasolvera/ipykernel_122018/3486713291.py:6: FutureWarning: The frame.append method is deprecated and will be removed from pandas in a future version. Use pandas.concat instead.\n",
      "  outputs=outputs.append(output,sort=False)\n",
      "/var/tmp/rojasolvera/ipykernel_122018/3486713291.py:6: FutureWarning: The frame.append method is deprecated and will be removed from pandas in a future version. Use pandas.concat instead.\n",
      "  outputs=outputs.append(output,sort=False)\n",
      "/var/tmp/rojasolvera/ipykernel_122018/3486713291.py:6: FutureWarning: The frame.append method is deprecated and will be removed from pandas in a future version. Use pandas.concat instead.\n",
      "  outputs=outputs.append(output,sort=False)\n",
      "/var/tmp/rojasolvera/ipykernel_122018/3486713291.py:6: FutureWarning: The frame.append method is deprecated and will be removed from pandas in a future version. Use pandas.concat instead.\n",
      "  outputs=outputs.append(output,sort=False)\n"
     ]
    },
    {
     "name": "stdout",
     "output_type": "stream",
     "text": [
      "1/1 [==============================] - 0s 22ms/step\n",
      "1/1 [==============================] - 0s 22ms/step\n",
      "1/1 [==============================] - 0s 22ms/step\n",
      "1/1 [==============================] - 0s 22ms/step\n"
     ]
    },
    {
     "name": "stderr",
     "output_type": "stream",
     "text": [
      "/var/tmp/rojasolvera/ipykernel_122018/3486713291.py:6: FutureWarning: The frame.append method is deprecated and will be removed from pandas in a future version. Use pandas.concat instead.\n",
      "  outputs=outputs.append(output,sort=False)\n",
      "/var/tmp/rojasolvera/ipykernel_122018/3486713291.py:6: FutureWarning: The frame.append method is deprecated and will be removed from pandas in a future version. Use pandas.concat instead.\n",
      "  outputs=outputs.append(output,sort=False)\n",
      "/var/tmp/rojasolvera/ipykernel_122018/3486713291.py:6: FutureWarning: The frame.append method is deprecated and will be removed from pandas in a future version. Use pandas.concat instead.\n",
      "  outputs=outputs.append(output,sort=False)\n",
      "/var/tmp/rojasolvera/ipykernel_122018/3486713291.py:6: FutureWarning: The frame.append method is deprecated and will be removed from pandas in a future version. Use pandas.concat instead.\n",
      "  outputs=outputs.append(output,sort=False)\n"
     ]
    },
    {
     "name": "stdout",
     "output_type": "stream",
     "text": [
      "1/1 [==============================] - 0s 21ms/step\n",
      "1/1 [==============================] - 0s 21ms/step\n",
      "1/1 [==============================] - 0s 22ms/step\n",
      "1/1 [==============================] - 0s 22ms/step\n"
     ]
    },
    {
     "name": "stderr",
     "output_type": "stream",
     "text": [
      "/var/tmp/rojasolvera/ipykernel_122018/3486713291.py:6: FutureWarning: The frame.append method is deprecated and will be removed from pandas in a future version. Use pandas.concat instead.\n",
      "  outputs=outputs.append(output,sort=False)\n",
      "/var/tmp/rojasolvera/ipykernel_122018/3486713291.py:6: FutureWarning: The frame.append method is deprecated and will be removed from pandas in a future version. Use pandas.concat instead.\n",
      "  outputs=outputs.append(output,sort=False)\n",
      "/var/tmp/rojasolvera/ipykernel_122018/3486713291.py:6: FutureWarning: The frame.append method is deprecated and will be removed from pandas in a future version. Use pandas.concat instead.\n",
      "  outputs=outputs.append(output,sort=False)\n",
      "/var/tmp/rojasolvera/ipykernel_122018/3486713291.py:6: FutureWarning: The frame.append method is deprecated and will be removed from pandas in a future version. Use pandas.concat instead.\n",
      "  outputs=outputs.append(output,sort=False)\n"
     ]
    },
    {
     "name": "stdout",
     "output_type": "stream",
     "text": [
      "1/1 [==============================] - 0s 23ms/step\n",
      "1/1 [==============================] - 0s 21ms/step\n",
      "1/1 [==============================] - 0s 21ms/step\n",
      "1/1 [==============================] - 0s 21ms/step\n"
     ]
    },
    {
     "name": "stderr",
     "output_type": "stream",
     "text": [
      "/var/tmp/rojasolvera/ipykernel_122018/3486713291.py:6: FutureWarning: The frame.append method is deprecated and will be removed from pandas in a future version. Use pandas.concat instead.\n",
      "  outputs=outputs.append(output,sort=False)\n",
      "/var/tmp/rojasolvera/ipykernel_122018/3486713291.py:6: FutureWarning: The frame.append method is deprecated and will be removed from pandas in a future version. Use pandas.concat instead.\n",
      "  outputs=outputs.append(output,sort=False)\n",
      "/var/tmp/rojasolvera/ipykernel_122018/3486713291.py:6: FutureWarning: The frame.append method is deprecated and will be removed from pandas in a future version. Use pandas.concat instead.\n",
      "  outputs=outputs.append(output,sort=False)\n",
      "/var/tmp/rojasolvera/ipykernel_122018/3486713291.py:6: FutureWarning: The frame.append method is deprecated and will be removed from pandas in a future version. Use pandas.concat instead.\n",
      "  outputs=outputs.append(output,sort=False)\n"
     ]
    },
    {
     "name": "stdout",
     "output_type": "stream",
     "text": [
      "1/1 [==============================] - 0s 22ms/step\n",
      "1/1 [==============================] - 0s 22ms/step\n",
      "1/1 [==============================] - 0s 21ms/step\n",
      "1/1 [==============================] - 0s 22ms/step\n"
     ]
    },
    {
     "name": "stderr",
     "output_type": "stream",
     "text": [
      "/var/tmp/rojasolvera/ipykernel_122018/3486713291.py:6: FutureWarning: The frame.append method is deprecated and will be removed from pandas in a future version. Use pandas.concat instead.\n",
      "  outputs=outputs.append(output,sort=False)\n",
      "/var/tmp/rojasolvera/ipykernel_122018/3486713291.py:6: FutureWarning: The frame.append method is deprecated and will be removed from pandas in a future version. Use pandas.concat instead.\n",
      "  outputs=outputs.append(output,sort=False)\n",
      "/var/tmp/rojasolvera/ipykernel_122018/3486713291.py:6: FutureWarning: The frame.append method is deprecated and will be removed from pandas in a future version. Use pandas.concat instead.\n",
      "  outputs=outputs.append(output,sort=False)\n",
      "/var/tmp/rojasolvera/ipykernel_122018/3486713291.py:6: FutureWarning: The frame.append method is deprecated and will be removed from pandas in a future version. Use pandas.concat instead.\n",
      "  outputs=outputs.append(output,sort=False)\n"
     ]
    },
    {
     "name": "stdout",
     "output_type": "stream",
     "text": [
      "1/1 [==============================] - 0s 21ms/step\n",
      "1/1 [==============================] - 0s 22ms/step\n",
      "1/1 [==============================] - 0s 22ms/step\n",
      "1/1 [==============================] - 0s 21ms/step\n"
     ]
    },
    {
     "name": "stderr",
     "output_type": "stream",
     "text": [
      "/var/tmp/rojasolvera/ipykernel_122018/3486713291.py:6: FutureWarning: The frame.append method is deprecated and will be removed from pandas in a future version. Use pandas.concat instead.\n",
      "  outputs=outputs.append(output,sort=False)\n",
      "/var/tmp/rojasolvera/ipykernel_122018/3486713291.py:6: FutureWarning: The frame.append method is deprecated and will be removed from pandas in a future version. Use pandas.concat instead.\n",
      "  outputs=outputs.append(output,sort=False)\n",
      "/var/tmp/rojasolvera/ipykernel_122018/3486713291.py:6: FutureWarning: The frame.append method is deprecated and will be removed from pandas in a future version. Use pandas.concat instead.\n",
      "  outputs=outputs.append(output,sort=False)\n",
      "/var/tmp/rojasolvera/ipykernel_122018/3486713291.py:6: FutureWarning: The frame.append method is deprecated and will be removed from pandas in a future version. Use pandas.concat instead.\n",
      "  outputs=outputs.append(output,sort=False)\n"
     ]
    },
    {
     "name": "stdout",
     "output_type": "stream",
     "text": [
      "1/1 [==============================] - 0s 21ms/step\n",
      "1/1 [==============================] - 0s 21ms/step\n",
      "1/1 [==============================] - 0s 22ms/step\n",
      "1/1 [==============================] - 0s 23ms/step\n"
     ]
    },
    {
     "name": "stderr",
     "output_type": "stream",
     "text": [
      "/var/tmp/rojasolvera/ipykernel_122018/3486713291.py:6: FutureWarning: The frame.append method is deprecated and will be removed from pandas in a future version. Use pandas.concat instead.\n",
      "  outputs=outputs.append(output,sort=False)\n",
      "/var/tmp/rojasolvera/ipykernel_122018/3486713291.py:6: FutureWarning: The frame.append method is deprecated and will be removed from pandas in a future version. Use pandas.concat instead.\n",
      "  outputs=outputs.append(output,sort=False)\n",
      "/var/tmp/rojasolvera/ipykernel_122018/3486713291.py:6: FutureWarning: The frame.append method is deprecated and will be removed from pandas in a future version. Use pandas.concat instead.\n",
      "  outputs=outputs.append(output,sort=False)\n",
      "/var/tmp/rojasolvera/ipykernel_122018/3486713291.py:6: FutureWarning: The frame.append method is deprecated and will be removed from pandas in a future version. Use pandas.concat instead.\n",
      "  outputs=outputs.append(output,sort=False)\n"
     ]
    },
    {
     "name": "stdout",
     "output_type": "stream",
     "text": [
      "1/1 [==============================] - 0s 25ms/step\n",
      "1/1 [==============================] - 0s 23ms/step\n",
      "1/1 [==============================] - 0s 23ms/step\n",
      "1/1 [==============================] - 0s 21ms/step\n"
     ]
    },
    {
     "name": "stderr",
     "output_type": "stream",
     "text": [
      "/var/tmp/rojasolvera/ipykernel_122018/3486713291.py:6: FutureWarning: The frame.append method is deprecated and will be removed from pandas in a future version. Use pandas.concat instead.\n",
      "  outputs=outputs.append(output,sort=False)\n",
      "/var/tmp/rojasolvera/ipykernel_122018/3486713291.py:6: FutureWarning: The frame.append method is deprecated and will be removed from pandas in a future version. Use pandas.concat instead.\n",
      "  outputs=outputs.append(output,sort=False)\n",
      "/var/tmp/rojasolvera/ipykernel_122018/3486713291.py:6: FutureWarning: The frame.append method is deprecated and will be removed from pandas in a future version. Use pandas.concat instead.\n",
      "  outputs=outputs.append(output,sort=False)\n",
      "/var/tmp/rojasolvera/ipykernel_122018/3486713291.py:6: FutureWarning: The frame.append method is deprecated and will be removed from pandas in a future version. Use pandas.concat instead.\n",
      "  outputs=outputs.append(output,sort=False)\n"
     ]
    },
    {
     "name": "stdout",
     "output_type": "stream",
     "text": [
      "1/1 [==============================] - 0s 22ms/step\n",
      "1/1 [==============================] - 0s 22ms/step\n",
      "1/1 [==============================] - 0s 21ms/step\n",
      "1/1 [==============================] - 0s 21ms/step\n"
     ]
    },
    {
     "name": "stderr",
     "output_type": "stream",
     "text": [
      "/var/tmp/rojasolvera/ipykernel_122018/3486713291.py:6: FutureWarning: The frame.append method is deprecated and will be removed from pandas in a future version. Use pandas.concat instead.\n",
      "  outputs=outputs.append(output,sort=False)\n",
      "/var/tmp/rojasolvera/ipykernel_122018/3486713291.py:6: FutureWarning: The frame.append method is deprecated and will be removed from pandas in a future version. Use pandas.concat instead.\n",
      "  outputs=outputs.append(output,sort=False)\n",
      "/var/tmp/rojasolvera/ipykernel_122018/3486713291.py:6: FutureWarning: The frame.append method is deprecated and will be removed from pandas in a future version. Use pandas.concat instead.\n",
      "  outputs=outputs.append(output,sort=False)\n",
      "/var/tmp/rojasolvera/ipykernel_122018/3486713291.py:6: FutureWarning: The frame.append method is deprecated and will be removed from pandas in a future version. Use pandas.concat instead.\n",
      "  outputs=outputs.append(output,sort=False)\n"
     ]
    },
    {
     "name": "stdout",
     "output_type": "stream",
     "text": [
      "1/1 [==============================] - 0s 22ms/step\n",
      "1/1 [==============================] - 0s 22ms/step\n",
      "1/1 [==============================] - 0s 22ms/step\n",
      "1/1 [==============================] - 0s 22ms/step\n"
     ]
    },
    {
     "name": "stderr",
     "output_type": "stream",
     "text": [
      "/var/tmp/rojasolvera/ipykernel_122018/3486713291.py:6: FutureWarning: The frame.append method is deprecated and will be removed from pandas in a future version. Use pandas.concat instead.\n",
      "  outputs=outputs.append(output,sort=False)\n",
      "/var/tmp/rojasolvera/ipykernel_122018/3486713291.py:6: FutureWarning: The frame.append method is deprecated and will be removed from pandas in a future version. Use pandas.concat instead.\n",
      "  outputs=outputs.append(output,sort=False)\n",
      "/var/tmp/rojasolvera/ipykernel_122018/3486713291.py:6: FutureWarning: The frame.append method is deprecated and will be removed from pandas in a future version. Use pandas.concat instead.\n",
      "  outputs=outputs.append(output,sort=False)\n",
      "/var/tmp/rojasolvera/ipykernel_122018/3486713291.py:6: FutureWarning: The frame.append method is deprecated and will be removed from pandas in a future version. Use pandas.concat instead.\n",
      "  outputs=outputs.append(output,sort=False)\n"
     ]
    },
    {
     "name": "stdout",
     "output_type": "stream",
     "text": [
      "1/1 [==============================] - 0s 22ms/step\n",
      "1/1 [==============================] - 0s 21ms/step\n",
      "1/1 [==============================] - 0s 21ms/step\n",
      "1/1 [==============================] - 0s 22ms/step\n"
     ]
    },
    {
     "name": "stderr",
     "output_type": "stream",
     "text": [
      "/var/tmp/rojasolvera/ipykernel_122018/3486713291.py:6: FutureWarning: The frame.append method is deprecated and will be removed from pandas in a future version. Use pandas.concat instead.\n",
      "  outputs=outputs.append(output,sort=False)\n",
      "/var/tmp/rojasolvera/ipykernel_122018/3486713291.py:6: FutureWarning: The frame.append method is deprecated and will be removed from pandas in a future version. Use pandas.concat instead.\n",
      "  outputs=outputs.append(output,sort=False)\n",
      "/var/tmp/rojasolvera/ipykernel_122018/3486713291.py:6: FutureWarning: The frame.append method is deprecated and will be removed from pandas in a future version. Use pandas.concat instead.\n",
      "  outputs=outputs.append(output,sort=False)\n",
      "/var/tmp/rojasolvera/ipykernel_122018/3486713291.py:6: FutureWarning: The frame.append method is deprecated and will be removed from pandas in a future version. Use pandas.concat instead.\n",
      "  outputs=outputs.append(output,sort=False)\n"
     ]
    },
    {
     "name": "stdout",
     "output_type": "stream",
     "text": [
      "1/1 [==============================] - 0s 21ms/step\n",
      "1/1 [==============================] - 0s 21ms/step\n",
      "1/1 [==============================] - 0s 21ms/step\n",
      "1/1 [==============================] - 0s 22ms/step\n"
     ]
    },
    {
     "name": "stderr",
     "output_type": "stream",
     "text": [
      "/var/tmp/rojasolvera/ipykernel_122018/3486713291.py:6: FutureWarning: The frame.append method is deprecated and will be removed from pandas in a future version. Use pandas.concat instead.\n",
      "  outputs=outputs.append(output,sort=False)\n",
      "/var/tmp/rojasolvera/ipykernel_122018/3486713291.py:6: FutureWarning: The frame.append method is deprecated and will be removed from pandas in a future version. Use pandas.concat instead.\n",
      "  outputs=outputs.append(output,sort=False)\n",
      "/var/tmp/rojasolvera/ipykernel_122018/3486713291.py:6: FutureWarning: The frame.append method is deprecated and will be removed from pandas in a future version. Use pandas.concat instead.\n",
      "  outputs=outputs.append(output,sort=False)\n",
      "/var/tmp/rojasolvera/ipykernel_122018/3486713291.py:6: FutureWarning: The frame.append method is deprecated and will be removed from pandas in a future version. Use pandas.concat instead.\n",
      "  outputs=outputs.append(output,sort=False)\n"
     ]
    },
    {
     "name": "stdout",
     "output_type": "stream",
     "text": [
      "1/1 [==============================] - 0s 29ms/step\n",
      "1/1 [==============================] - 0s 22ms/step\n",
      "1/1 [==============================] - 0s 21ms/step\n",
      "1/1 [==============================] - ETA: 0s"
     ]
    },
    {
     "name": "stderr",
     "output_type": "stream",
     "text": [
      "/var/tmp/rojasolvera/ipykernel_122018/3486713291.py:6: FutureWarning: The frame.append method is deprecated and will be removed from pandas in a future version. Use pandas.concat instead.\n",
      "  outputs=outputs.append(output,sort=False)\n",
      "/var/tmp/rojasolvera/ipykernel_122018/3486713291.py:6: FutureWarning: The frame.append method is deprecated and will be removed from pandas in a future version. Use pandas.concat instead.\n",
      "  outputs=outputs.append(output,sort=False)\n",
      "/var/tmp/rojasolvera/ipykernel_122018/3486713291.py:6: FutureWarning: The frame.append method is deprecated and will be removed from pandas in a future version. Use pandas.concat instead.\n",
      "  outputs=outputs.append(output,sort=False)\n"
     ]
    },
    {
     "name": "stdout",
     "output_type": "stream",
     "text": [
      "1/1 [==============================] - 0s 22ms/step\n",
      "1/1 [==============================] - 0s 21ms/step\n",
      "1/1 [==============================] - 0s 21ms/step\n",
      "1/1 [==============================] - 0s 22ms/step\n"
     ]
    },
    {
     "name": "stderr",
     "output_type": "stream",
     "text": [
      "/var/tmp/rojasolvera/ipykernel_122018/3486713291.py:6: FutureWarning: The frame.append method is deprecated and will be removed from pandas in a future version. Use pandas.concat instead.\n",
      "  outputs=outputs.append(output,sort=False)\n",
      "/var/tmp/rojasolvera/ipykernel_122018/3486713291.py:6: FutureWarning: The frame.append method is deprecated and will be removed from pandas in a future version. Use pandas.concat instead.\n",
      "  outputs=outputs.append(output,sort=False)\n",
      "/var/tmp/rojasolvera/ipykernel_122018/3486713291.py:6: FutureWarning: The frame.append method is deprecated and will be removed from pandas in a future version. Use pandas.concat instead.\n",
      "  outputs=outputs.append(output,sort=False)\n",
      "/var/tmp/rojasolvera/ipykernel_122018/3486713291.py:6: FutureWarning: The frame.append method is deprecated and will be removed from pandas in a future version. Use pandas.concat instead.\n",
      "  outputs=outputs.append(output,sort=False)\n"
     ]
    },
    {
     "name": "stdout",
     "output_type": "stream",
     "text": [
      "1/1 [==============================] - 0s 22ms/step\n",
      "1/1 [==============================] - 0s 21ms/step\n",
      "1/1 [==============================] - 0s 21ms/step\n",
      "1/1 [==============================] - 0s 21ms/step\n"
     ]
    },
    {
     "name": "stderr",
     "output_type": "stream",
     "text": [
      "/var/tmp/rojasolvera/ipykernel_122018/3486713291.py:6: FutureWarning: The frame.append method is deprecated and will be removed from pandas in a future version. Use pandas.concat instead.\n",
      "  outputs=outputs.append(output,sort=False)\n",
      "/var/tmp/rojasolvera/ipykernel_122018/3486713291.py:6: FutureWarning: The frame.append method is deprecated and will be removed from pandas in a future version. Use pandas.concat instead.\n",
      "  outputs=outputs.append(output,sort=False)\n",
      "/var/tmp/rojasolvera/ipykernel_122018/3486713291.py:6: FutureWarning: The frame.append method is deprecated and will be removed from pandas in a future version. Use pandas.concat instead.\n",
      "  outputs=outputs.append(output,sort=False)\n",
      "/var/tmp/rojasolvera/ipykernel_122018/3486713291.py:6: FutureWarning: The frame.append method is deprecated and will be removed from pandas in a future version. Use pandas.concat instead.\n",
      "  outputs=outputs.append(output,sort=False)\n"
     ]
    },
    {
     "name": "stdout",
     "output_type": "stream",
     "text": [
      "1/1 [==============================] - 0s 21ms/step\n",
      "1/1 [==============================] - 0s 22ms/step\n",
      "1/1 [==============================] - 0s 22ms/step\n",
      "1/1 [==============================] - 0s 22ms/step\n"
     ]
    },
    {
     "name": "stderr",
     "output_type": "stream",
     "text": [
      "/var/tmp/rojasolvera/ipykernel_122018/3486713291.py:6: FutureWarning: The frame.append method is deprecated and will be removed from pandas in a future version. Use pandas.concat instead.\n",
      "  outputs=outputs.append(output,sort=False)\n",
      "/var/tmp/rojasolvera/ipykernel_122018/3486713291.py:6: FutureWarning: The frame.append method is deprecated and will be removed from pandas in a future version. Use pandas.concat instead.\n",
      "  outputs=outputs.append(output,sort=False)\n",
      "/var/tmp/rojasolvera/ipykernel_122018/3486713291.py:6: FutureWarning: The frame.append method is deprecated and will be removed from pandas in a future version. Use pandas.concat instead.\n",
      "  outputs=outputs.append(output,sort=False)\n",
      "/var/tmp/rojasolvera/ipykernel_122018/3486713291.py:6: FutureWarning: The frame.append method is deprecated and will be removed from pandas in a future version. Use pandas.concat instead.\n",
      "  outputs=outputs.append(output,sort=False)\n"
     ]
    },
    {
     "name": "stdout",
     "output_type": "stream",
     "text": [
      "1/1 [==============================] - 0s 22ms/step\n",
      "1/1 [==============================] - 0s 21ms/step\n",
      "1/1 [==============================] - 0s 21ms/step\n",
      "1/1 [==============================] - 0s 22ms/step\n"
     ]
    },
    {
     "name": "stderr",
     "output_type": "stream",
     "text": [
      "/var/tmp/rojasolvera/ipykernel_122018/3486713291.py:6: FutureWarning: The frame.append method is deprecated and will be removed from pandas in a future version. Use pandas.concat instead.\n",
      "  outputs=outputs.append(output,sort=False)\n",
      "/var/tmp/rojasolvera/ipykernel_122018/3486713291.py:6: FutureWarning: The frame.append method is deprecated and will be removed from pandas in a future version. Use pandas.concat instead.\n",
      "  outputs=outputs.append(output,sort=False)\n",
      "/var/tmp/rojasolvera/ipykernel_122018/3486713291.py:6: FutureWarning: The frame.append method is deprecated and will be removed from pandas in a future version. Use pandas.concat instead.\n",
      "  outputs=outputs.append(output,sort=False)\n",
      "/var/tmp/rojasolvera/ipykernel_122018/3486713291.py:6: FutureWarning: The frame.append method is deprecated and will be removed from pandas in a future version. Use pandas.concat instead.\n",
      "  outputs=outputs.append(output,sort=False)\n"
     ]
    },
    {
     "name": "stdout",
     "output_type": "stream",
     "text": [
      "1/1 [==============================] - 0s 21ms/step\n",
      "1/1 [==============================] - 0s 22ms/step\n",
      "1/1 [==============================] - 0s 22ms/step\n",
      "1/1 [==============================] - 0s 22ms/step\n"
     ]
    },
    {
     "name": "stderr",
     "output_type": "stream",
     "text": [
      "/var/tmp/rojasolvera/ipykernel_122018/3486713291.py:6: FutureWarning: The frame.append method is deprecated and will be removed from pandas in a future version. Use pandas.concat instead.\n",
      "  outputs=outputs.append(output,sort=False)\n",
      "/var/tmp/rojasolvera/ipykernel_122018/3486713291.py:6: FutureWarning: The frame.append method is deprecated and will be removed from pandas in a future version. Use pandas.concat instead.\n",
      "  outputs=outputs.append(output,sort=False)\n",
      "/var/tmp/rojasolvera/ipykernel_122018/3486713291.py:6: FutureWarning: The frame.append method is deprecated and will be removed from pandas in a future version. Use pandas.concat instead.\n",
      "  outputs=outputs.append(output,sort=False)\n",
      "/var/tmp/rojasolvera/ipykernel_122018/3486713291.py:6: FutureWarning: The frame.append method is deprecated and will be removed from pandas in a future version. Use pandas.concat instead.\n",
      "  outputs=outputs.append(output,sort=False)\n"
     ]
    },
    {
     "name": "stdout",
     "output_type": "stream",
     "text": [
      "1/1 [==============================] - 0s 23ms/step\n",
      "1/1 [==============================] - 0s 21ms/step\n",
      "1/1 [==============================] - 0s 21ms/step\n",
      "1/1 [==============================] - 0s 21ms/step\n"
     ]
    },
    {
     "name": "stderr",
     "output_type": "stream",
     "text": [
      "/var/tmp/rojasolvera/ipykernel_122018/3486713291.py:6: FutureWarning: The frame.append method is deprecated and will be removed from pandas in a future version. Use pandas.concat instead.\n",
      "  outputs=outputs.append(output,sort=False)\n",
      "/var/tmp/rojasolvera/ipykernel_122018/3486713291.py:6: FutureWarning: The frame.append method is deprecated and will be removed from pandas in a future version. Use pandas.concat instead.\n",
      "  outputs=outputs.append(output,sort=False)\n",
      "/var/tmp/rojasolvera/ipykernel_122018/3486713291.py:6: FutureWarning: The frame.append method is deprecated and will be removed from pandas in a future version. Use pandas.concat instead.\n",
      "  outputs=outputs.append(output,sort=False)\n",
      "/var/tmp/rojasolvera/ipykernel_122018/3486713291.py:6: FutureWarning: The frame.append method is deprecated and will be removed from pandas in a future version. Use pandas.concat instead.\n",
      "  outputs=outputs.append(output,sort=False)\n"
     ]
    },
    {
     "name": "stdout",
     "output_type": "stream",
     "text": [
      "1/1 [==============================] - 0s 21ms/step\n",
      "1/1 [==============================] - 0s 21ms/step\n",
      "1/1 [==============================] - 0s 20ms/step\n",
      "1/1 [==============================] - 0s 21ms/step\n"
     ]
    },
    {
     "name": "stderr",
     "output_type": "stream",
     "text": [
      "/var/tmp/rojasolvera/ipykernel_122018/3486713291.py:6: FutureWarning: The frame.append method is deprecated and will be removed from pandas in a future version. Use pandas.concat instead.\n",
      "  outputs=outputs.append(output,sort=False)\n",
      "/var/tmp/rojasolvera/ipykernel_122018/3486713291.py:6: FutureWarning: The frame.append method is deprecated and will be removed from pandas in a future version. Use pandas.concat instead.\n",
      "  outputs=outputs.append(output,sort=False)\n",
      "/var/tmp/rojasolvera/ipykernel_122018/3486713291.py:6: FutureWarning: The frame.append method is deprecated and will be removed from pandas in a future version. Use pandas.concat instead.\n",
      "  outputs=outputs.append(output,sort=False)\n",
      "/var/tmp/rojasolvera/ipykernel_122018/3486713291.py:6: FutureWarning: The frame.append method is deprecated and will be removed from pandas in a future version. Use pandas.concat instead.\n",
      "  outputs=outputs.append(output,sort=False)\n"
     ]
    },
    {
     "name": "stdout",
     "output_type": "stream",
     "text": [
      "1/1 [==============================] - 0s 21ms/step\n",
      "1/1 [==============================] - 0s 20ms/step\n",
      "1/1 [==============================] - 0s 21ms/step\n",
      "1/1 [==============================] - 0s 22ms/step\n"
     ]
    },
    {
     "name": "stderr",
     "output_type": "stream",
     "text": [
      "/var/tmp/rojasolvera/ipykernel_122018/3486713291.py:6: FutureWarning: The frame.append method is deprecated and will be removed from pandas in a future version. Use pandas.concat instead.\n",
      "  outputs=outputs.append(output,sort=False)\n",
      "/var/tmp/rojasolvera/ipykernel_122018/3486713291.py:6: FutureWarning: The frame.append method is deprecated and will be removed from pandas in a future version. Use pandas.concat instead.\n",
      "  outputs=outputs.append(output,sort=False)\n",
      "/var/tmp/rojasolvera/ipykernel_122018/3486713291.py:6: FutureWarning: The frame.append method is deprecated and will be removed from pandas in a future version. Use pandas.concat instead.\n",
      "  outputs=outputs.append(output,sort=False)\n",
      "/var/tmp/rojasolvera/ipykernel_122018/3486713291.py:6: FutureWarning: The frame.append method is deprecated and will be removed from pandas in a future version. Use pandas.concat instead.\n",
      "  outputs=outputs.append(output,sort=False)\n"
     ]
    },
    {
     "name": "stdout",
     "output_type": "stream",
     "text": [
      "1/1 [==============================] - 0s 21ms/step\n",
      "1/1 [==============================] - 0s 21ms/step\n",
      "1/1 [==============================] - 0s 20ms/step\n",
      "1/1 [==============================] - 0s 23ms/step\n"
     ]
    },
    {
     "name": "stderr",
     "output_type": "stream",
     "text": [
      "/var/tmp/rojasolvera/ipykernel_122018/3486713291.py:6: FutureWarning: The frame.append method is deprecated and will be removed from pandas in a future version. Use pandas.concat instead.\n",
      "  outputs=outputs.append(output,sort=False)\n",
      "/var/tmp/rojasolvera/ipykernel_122018/3486713291.py:6: FutureWarning: The frame.append method is deprecated and will be removed from pandas in a future version. Use pandas.concat instead.\n",
      "  outputs=outputs.append(output,sort=False)\n",
      "/var/tmp/rojasolvera/ipykernel_122018/3486713291.py:6: FutureWarning: The frame.append method is deprecated and will be removed from pandas in a future version. Use pandas.concat instead.\n",
      "  outputs=outputs.append(output,sort=False)\n",
      "/var/tmp/rojasolvera/ipykernel_122018/3486713291.py:6: FutureWarning: The frame.append method is deprecated and will be removed from pandas in a future version. Use pandas.concat instead.\n",
      "  outputs=outputs.append(output,sort=False)\n"
     ]
    },
    {
     "name": "stdout",
     "output_type": "stream",
     "text": [
      "1/1 [==============================] - 0s 21ms/step\n",
      "1/1 [==============================] - 0s 21ms/step\n",
      "1/1 [==============================] - 0s 22ms/step\n",
      "1/1 [==============================] - 0s 21ms/step\n"
     ]
    },
    {
     "name": "stderr",
     "output_type": "stream",
     "text": [
      "/var/tmp/rojasolvera/ipykernel_122018/3486713291.py:6: FutureWarning: The frame.append method is deprecated and will be removed from pandas in a future version. Use pandas.concat instead.\n",
      "  outputs=outputs.append(output,sort=False)\n",
      "/var/tmp/rojasolvera/ipykernel_122018/3486713291.py:6: FutureWarning: The frame.append method is deprecated and will be removed from pandas in a future version. Use pandas.concat instead.\n",
      "  outputs=outputs.append(output,sort=False)\n",
      "/var/tmp/rojasolvera/ipykernel_122018/3486713291.py:6: FutureWarning: The frame.append method is deprecated and will be removed from pandas in a future version. Use pandas.concat instead.\n",
      "  outputs=outputs.append(output,sort=False)\n",
      "/var/tmp/rojasolvera/ipykernel_122018/3486713291.py:6: FutureWarning: The frame.append method is deprecated and will be removed from pandas in a future version. Use pandas.concat instead.\n",
      "  outputs=outputs.append(output,sort=False)\n"
     ]
    },
    {
     "name": "stdout",
     "output_type": "stream",
     "text": [
      "1/1 [==============================] - 0s 22ms/step\n",
      "1/1 [==============================] - 0s 21ms/step\n",
      "1/1 [==============================] - 0s 21ms/step\n",
      "1/1 [==============================] - 0s 22ms/step\n"
     ]
    },
    {
     "name": "stderr",
     "output_type": "stream",
     "text": [
      "/var/tmp/rojasolvera/ipykernel_122018/3486713291.py:6: FutureWarning: The frame.append method is deprecated and will be removed from pandas in a future version. Use pandas.concat instead.\n",
      "  outputs=outputs.append(output,sort=False)\n",
      "/var/tmp/rojasolvera/ipykernel_122018/3486713291.py:6: FutureWarning: The frame.append method is deprecated and will be removed from pandas in a future version. Use pandas.concat instead.\n",
      "  outputs=outputs.append(output,sort=False)\n",
      "/var/tmp/rojasolvera/ipykernel_122018/3486713291.py:6: FutureWarning: The frame.append method is deprecated and will be removed from pandas in a future version. Use pandas.concat instead.\n",
      "  outputs=outputs.append(output,sort=False)\n",
      "/var/tmp/rojasolvera/ipykernel_122018/3486713291.py:6: FutureWarning: The frame.append method is deprecated and will be removed from pandas in a future version. Use pandas.concat instead.\n",
      "  outputs=outputs.append(output,sort=False)\n"
     ]
    },
    {
     "name": "stdout",
     "output_type": "stream",
     "text": [
      "1/1 [==============================] - 0s 22ms/step\n",
      "1/1 [==============================] - 0s 22ms/step\n",
      "1/1 [==============================] - 0s 22ms/step\n",
      "1/1 [==============================] - ETA: 0s"
     ]
    },
    {
     "name": "stderr",
     "output_type": "stream",
     "text": [
      "/var/tmp/rojasolvera/ipykernel_122018/3486713291.py:6: FutureWarning: The frame.append method is deprecated and will be removed from pandas in a future version. Use pandas.concat instead.\n",
      "  outputs=outputs.append(output,sort=False)\n",
      "/var/tmp/rojasolvera/ipykernel_122018/3486713291.py:6: FutureWarning: The frame.append method is deprecated and will be removed from pandas in a future version. Use pandas.concat instead.\n",
      "  outputs=outputs.append(output,sort=False)\n",
      "/var/tmp/rojasolvera/ipykernel_122018/3486713291.py:6: FutureWarning: The frame.append method is deprecated and will be removed from pandas in a future version. Use pandas.concat instead.\n",
      "  outputs=outputs.append(output,sort=False)\n"
     ]
    },
    {
     "name": "stdout",
     "output_type": "stream",
     "text": [
      "1/1 [==============================] - 0s 22ms/step\n",
      "1/1 [==============================] - 0s 22ms/step\n",
      "1/1 [==============================] - 0s 21ms/step\n",
      "1/1 [==============================] - 0s 21ms/step\n"
     ]
    },
    {
     "name": "stderr",
     "output_type": "stream",
     "text": [
      "/var/tmp/rojasolvera/ipykernel_122018/3486713291.py:6: FutureWarning: The frame.append method is deprecated and will be removed from pandas in a future version. Use pandas.concat instead.\n",
      "  outputs=outputs.append(output,sort=False)\n",
      "/var/tmp/rojasolvera/ipykernel_122018/3486713291.py:6: FutureWarning: The frame.append method is deprecated and will be removed from pandas in a future version. Use pandas.concat instead.\n",
      "  outputs=outputs.append(output,sort=False)\n",
      "/var/tmp/rojasolvera/ipykernel_122018/3486713291.py:6: FutureWarning: The frame.append method is deprecated and will be removed from pandas in a future version. Use pandas.concat instead.\n",
      "  outputs=outputs.append(output,sort=False)\n",
      "/var/tmp/rojasolvera/ipykernel_122018/3486713291.py:6: FutureWarning: The frame.append method is deprecated and will be removed from pandas in a future version. Use pandas.concat instead.\n",
      "  outputs=outputs.append(output,sort=False)\n"
     ]
    },
    {
     "name": "stdout",
     "output_type": "stream",
     "text": [
      "1/1 [==============================] - 0s 21ms/step\n",
      "1/1 [==============================] - 0s 21ms/step\n",
      "1/1 [==============================] - 0s 22ms/step\n",
      "1/1 [==============================] - 0s 22ms/step\n"
     ]
    },
    {
     "name": "stderr",
     "output_type": "stream",
     "text": [
      "/var/tmp/rojasolvera/ipykernel_122018/3486713291.py:6: FutureWarning: The frame.append method is deprecated and will be removed from pandas in a future version. Use pandas.concat instead.\n",
      "  outputs=outputs.append(output,sort=False)\n",
      "/var/tmp/rojasolvera/ipykernel_122018/3486713291.py:6: FutureWarning: The frame.append method is deprecated and will be removed from pandas in a future version. Use pandas.concat instead.\n",
      "  outputs=outputs.append(output,sort=False)\n",
      "/var/tmp/rojasolvera/ipykernel_122018/3486713291.py:6: FutureWarning: The frame.append method is deprecated and will be removed from pandas in a future version. Use pandas.concat instead.\n",
      "  outputs=outputs.append(output,sort=False)\n",
      "/var/tmp/rojasolvera/ipykernel_122018/3486713291.py:6: FutureWarning: The frame.append method is deprecated and will be removed from pandas in a future version. Use pandas.concat instead.\n",
      "  outputs=outputs.append(output,sort=False)\n"
     ]
    },
    {
     "name": "stdout",
     "output_type": "stream",
     "text": [
      "1/1 [==============================] - 0s 22ms/step\n",
      "1/1 [==============================] - 0s 22ms/step\n",
      "1/1 [==============================] - 0s 22ms/step\n",
      "1/1 [==============================] - 0s 22ms/step\n"
     ]
    },
    {
     "name": "stderr",
     "output_type": "stream",
     "text": [
      "/var/tmp/rojasolvera/ipykernel_122018/3486713291.py:6: FutureWarning: The frame.append method is deprecated and will be removed from pandas in a future version. Use pandas.concat instead.\n",
      "  outputs=outputs.append(output,sort=False)\n",
      "/var/tmp/rojasolvera/ipykernel_122018/3486713291.py:6: FutureWarning: The frame.append method is deprecated and will be removed from pandas in a future version. Use pandas.concat instead.\n",
      "  outputs=outputs.append(output,sort=False)\n",
      "/var/tmp/rojasolvera/ipykernel_122018/3486713291.py:6: FutureWarning: The frame.append method is deprecated and will be removed from pandas in a future version. Use pandas.concat instead.\n",
      "  outputs=outputs.append(output,sort=False)\n",
      "/var/tmp/rojasolvera/ipykernel_122018/3486713291.py:6: FutureWarning: The frame.append method is deprecated and will be removed from pandas in a future version. Use pandas.concat instead.\n",
      "  outputs=outputs.append(output,sort=False)\n"
     ]
    },
    {
     "name": "stdout",
     "output_type": "stream",
     "text": [
      "1/1 [==============================] - 0s 22ms/step\n",
      "1/1 [==============================] - 0s 22ms/step\n",
      "1/1 [==============================] - 0s 22ms/step\n",
      "1/1 [==============================] - 0s 21ms/step\n"
     ]
    },
    {
     "name": "stderr",
     "output_type": "stream",
     "text": [
      "/var/tmp/rojasolvera/ipykernel_122018/3486713291.py:6: FutureWarning: The frame.append method is deprecated and will be removed from pandas in a future version. Use pandas.concat instead.\n",
      "  outputs=outputs.append(output,sort=False)\n",
      "/var/tmp/rojasolvera/ipykernel_122018/3486713291.py:6: FutureWarning: The frame.append method is deprecated and will be removed from pandas in a future version. Use pandas.concat instead.\n",
      "  outputs=outputs.append(output,sort=False)\n",
      "/var/tmp/rojasolvera/ipykernel_122018/3486713291.py:6: FutureWarning: The frame.append method is deprecated and will be removed from pandas in a future version. Use pandas.concat instead.\n",
      "  outputs=outputs.append(output,sort=False)\n",
      "/var/tmp/rojasolvera/ipykernel_122018/3486713291.py:6: FutureWarning: The frame.append method is deprecated and will be removed from pandas in a future version. Use pandas.concat instead.\n",
      "  outputs=outputs.append(output,sort=False)\n"
     ]
    },
    {
     "name": "stdout",
     "output_type": "stream",
     "text": [
      "1/1 [==============================] - 0s 23ms/step\n",
      "1/1 [==============================] - 0s 22ms/step\n",
      "1/1 [==============================] - 0s 22ms/step\n",
      "1/1 [==============================] - 0s 21ms/step\n"
     ]
    },
    {
     "name": "stderr",
     "output_type": "stream",
     "text": [
      "/var/tmp/rojasolvera/ipykernel_122018/3486713291.py:6: FutureWarning: The frame.append method is deprecated and will be removed from pandas in a future version. Use pandas.concat instead.\n",
      "  outputs=outputs.append(output,sort=False)\n",
      "/var/tmp/rojasolvera/ipykernel_122018/3486713291.py:6: FutureWarning: The frame.append method is deprecated and will be removed from pandas in a future version. Use pandas.concat instead.\n",
      "  outputs=outputs.append(output,sort=False)\n",
      "/var/tmp/rojasolvera/ipykernel_122018/3486713291.py:6: FutureWarning: The frame.append method is deprecated and will be removed from pandas in a future version. Use pandas.concat instead.\n",
      "  outputs=outputs.append(output,sort=False)\n",
      "/var/tmp/rojasolvera/ipykernel_122018/3486713291.py:6: FutureWarning: The frame.append method is deprecated and will be removed from pandas in a future version. Use pandas.concat instead.\n",
      "  outputs=outputs.append(output,sort=False)\n"
     ]
    },
    {
     "name": "stdout",
     "output_type": "stream",
     "text": [
      "1/1 [==============================] - 0s 22ms/step\n",
      "1/1 [==============================] - 0s 21ms/step\n",
      "1/1 [==============================] - 0s 21ms/step\n",
      "1/1 [==============================] - 0s 22ms/step\n"
     ]
    },
    {
     "name": "stderr",
     "output_type": "stream",
     "text": [
      "/var/tmp/rojasolvera/ipykernel_122018/3486713291.py:6: FutureWarning: The frame.append method is deprecated and will be removed from pandas in a future version. Use pandas.concat instead.\n",
      "  outputs=outputs.append(output,sort=False)\n",
      "/var/tmp/rojasolvera/ipykernel_122018/3486713291.py:6: FutureWarning: The frame.append method is deprecated and will be removed from pandas in a future version. Use pandas.concat instead.\n",
      "  outputs=outputs.append(output,sort=False)\n",
      "/var/tmp/rojasolvera/ipykernel_122018/3486713291.py:6: FutureWarning: The frame.append method is deprecated and will be removed from pandas in a future version. Use pandas.concat instead.\n",
      "  outputs=outputs.append(output,sort=False)\n",
      "/var/tmp/rojasolvera/ipykernel_122018/3486713291.py:6: FutureWarning: The frame.append method is deprecated and will be removed from pandas in a future version. Use pandas.concat instead.\n",
      "  outputs=outputs.append(output,sort=False)\n"
     ]
    },
    {
     "name": "stdout",
     "output_type": "stream",
     "text": [
      "1/1 [==============================] - 0s 21ms/step\n",
      "1/1 [==============================] - 0s 22ms/step\n",
      "1/1 [==============================] - 0s 22ms/step\n",
      "1/1 [==============================] - 0s 22ms/step\n"
     ]
    },
    {
     "name": "stderr",
     "output_type": "stream",
     "text": [
      "/var/tmp/rojasolvera/ipykernel_122018/3486713291.py:6: FutureWarning: The frame.append method is deprecated and will be removed from pandas in a future version. Use pandas.concat instead.\n",
      "  outputs=outputs.append(output,sort=False)\n",
      "/var/tmp/rojasolvera/ipykernel_122018/3486713291.py:6: FutureWarning: The frame.append method is deprecated and will be removed from pandas in a future version. Use pandas.concat instead.\n",
      "  outputs=outputs.append(output,sort=False)\n",
      "/var/tmp/rojasolvera/ipykernel_122018/3486713291.py:6: FutureWarning: The frame.append method is deprecated and will be removed from pandas in a future version. Use pandas.concat instead.\n",
      "  outputs=outputs.append(output,sort=False)\n",
      "/var/tmp/rojasolvera/ipykernel_122018/3486713291.py:6: FutureWarning: The frame.append method is deprecated and will be removed from pandas in a future version. Use pandas.concat instead.\n",
      "  outputs=outputs.append(output,sort=False)\n"
     ]
    },
    {
     "name": "stdout",
     "output_type": "stream",
     "text": [
      "1/1 [==============================] - 0s 22ms/step\n",
      "1/1 [==============================] - 0s 21ms/step\n",
      "1/1 [==============================] - 0s 21ms/step\n",
      "1/1 [==============================] - 0s 21ms/step\n"
     ]
    },
    {
     "name": "stderr",
     "output_type": "stream",
     "text": [
      "/var/tmp/rojasolvera/ipykernel_122018/3486713291.py:6: FutureWarning: The frame.append method is deprecated and will be removed from pandas in a future version. Use pandas.concat instead.\n",
      "  outputs=outputs.append(output,sort=False)\n",
      "/var/tmp/rojasolvera/ipykernel_122018/3486713291.py:6: FutureWarning: The frame.append method is deprecated and will be removed from pandas in a future version. Use pandas.concat instead.\n",
      "  outputs=outputs.append(output,sort=False)\n",
      "/var/tmp/rojasolvera/ipykernel_122018/3486713291.py:6: FutureWarning: The frame.append method is deprecated and will be removed from pandas in a future version. Use pandas.concat instead.\n",
      "  outputs=outputs.append(output,sort=False)\n",
      "/var/tmp/rojasolvera/ipykernel_122018/3486713291.py:6: FutureWarning: The frame.append method is deprecated and will be removed from pandas in a future version. Use pandas.concat instead.\n",
      "  outputs=outputs.append(output,sort=False)\n"
     ]
    },
    {
     "name": "stdout",
     "output_type": "stream",
     "text": [
      "1/1 [==============================] - 0s 22ms/step\n",
      "1/1 [==============================] - 0s 22ms/step\n",
      "1/1 [==============================] - 0s 26ms/step\n"
     ]
    },
    {
     "name": "stderr",
     "output_type": "stream",
     "text": [
      "/var/tmp/rojasolvera/ipykernel_122018/3486713291.py:6: FutureWarning: The frame.append method is deprecated and will be removed from pandas in a future version. Use pandas.concat instead.\n",
      "  outputs=outputs.append(output,sort=False)\n",
      "/var/tmp/rojasolvera/ipykernel_122018/3486713291.py:6: FutureWarning: The frame.append method is deprecated and will be removed from pandas in a future version. Use pandas.concat instead.\n",
      "  outputs=outputs.append(output,sort=False)\n",
      "/var/tmp/rojasolvera/ipykernel_122018/3486713291.py:6: FutureWarning: The frame.append method is deprecated and will be removed from pandas in a future version. Use pandas.concat instead.\n",
      "  outputs=outputs.append(output,sort=False)\n"
     ]
    },
    {
     "name": "stdout",
     "output_type": "stream",
     "text": [
      "1/1 [==============================] - 0s 23ms/step\n",
      "1/1 [==============================] - 0s 21ms/step\n",
      "1/1 [==============================] - 0s 21ms/step\n",
      "1/1 [==============================] - 0s 21ms/step\n"
     ]
    },
    {
     "name": "stderr",
     "output_type": "stream",
     "text": [
      "/var/tmp/rojasolvera/ipykernel_122018/3486713291.py:6: FutureWarning: The frame.append method is deprecated and will be removed from pandas in a future version. Use pandas.concat instead.\n",
      "  outputs=outputs.append(output,sort=False)\n",
      "/var/tmp/rojasolvera/ipykernel_122018/3486713291.py:6: FutureWarning: The frame.append method is deprecated and will be removed from pandas in a future version. Use pandas.concat instead.\n",
      "  outputs=outputs.append(output,sort=False)\n",
      "/var/tmp/rojasolvera/ipykernel_122018/3486713291.py:6: FutureWarning: The frame.append method is deprecated and will be removed from pandas in a future version. Use pandas.concat instead.\n",
      "  outputs=outputs.append(output,sort=False)\n",
      "/var/tmp/rojasolvera/ipykernel_122018/3486713291.py:6: FutureWarning: The frame.append method is deprecated and will be removed from pandas in a future version. Use pandas.concat instead.\n",
      "  outputs=outputs.append(output,sort=False)\n"
     ]
    },
    {
     "name": "stdout",
     "output_type": "stream",
     "text": [
      "1/1 [==============================] - 0s 22ms/step\n",
      "1/1 [==============================] - 0s 23ms/step\n",
      "1/1 [==============================] - 0s 21ms/step\n",
      "1/1 [==============================] - 0s 22ms/step\n"
     ]
    },
    {
     "name": "stderr",
     "output_type": "stream",
     "text": [
      "/var/tmp/rojasolvera/ipykernel_122018/3486713291.py:6: FutureWarning: The frame.append method is deprecated and will be removed from pandas in a future version. Use pandas.concat instead.\n",
      "  outputs=outputs.append(output,sort=False)\n",
      "/var/tmp/rojasolvera/ipykernel_122018/3486713291.py:6: FutureWarning: The frame.append method is deprecated and will be removed from pandas in a future version. Use pandas.concat instead.\n",
      "  outputs=outputs.append(output,sort=False)\n",
      "/var/tmp/rojasolvera/ipykernel_122018/3486713291.py:6: FutureWarning: The frame.append method is deprecated and will be removed from pandas in a future version. Use pandas.concat instead.\n",
      "  outputs=outputs.append(output,sort=False)\n",
      "/var/tmp/rojasolvera/ipykernel_122018/3486713291.py:6: FutureWarning: The frame.append method is deprecated and will be removed from pandas in a future version. Use pandas.concat instead.\n",
      "  outputs=outputs.append(output,sort=False)\n"
     ]
    },
    {
     "name": "stdout",
     "output_type": "stream",
     "text": [
      "1/1 [==============================] - 0s 21ms/step\n",
      "1/1 [==============================] - 0s 21ms/step\n",
      "1/1 [==============================] - 0s 21ms/step\n",
      "1/1 [==============================] - 0s 22ms/step\n"
     ]
    },
    {
     "name": "stderr",
     "output_type": "stream",
     "text": [
      "/var/tmp/rojasolvera/ipykernel_122018/3486713291.py:6: FutureWarning: The frame.append method is deprecated and will be removed from pandas in a future version. Use pandas.concat instead.\n",
      "  outputs=outputs.append(output,sort=False)\n",
      "/var/tmp/rojasolvera/ipykernel_122018/3486713291.py:6: FutureWarning: The frame.append method is deprecated and will be removed from pandas in a future version. Use pandas.concat instead.\n",
      "  outputs=outputs.append(output,sort=False)\n",
      "/var/tmp/rojasolvera/ipykernel_122018/3486713291.py:6: FutureWarning: The frame.append method is deprecated and will be removed from pandas in a future version. Use pandas.concat instead.\n",
      "  outputs=outputs.append(output,sort=False)\n",
      "/var/tmp/rojasolvera/ipykernel_122018/3486713291.py:6: FutureWarning: The frame.append method is deprecated and will be removed from pandas in a future version. Use pandas.concat instead.\n",
      "  outputs=outputs.append(output,sort=False)\n"
     ]
    },
    {
     "name": "stdout",
     "output_type": "stream",
     "text": [
      "1/1 [==============================] - 0s 21ms/step\n",
      "1/1 [==============================] - 0s 21ms/step\n",
      "1/1 [==============================] - 0s 22ms/step\n",
      "1/1 [==============================] - 0s 22ms/step\n"
     ]
    },
    {
     "name": "stderr",
     "output_type": "stream",
     "text": [
      "/var/tmp/rojasolvera/ipykernel_122018/3486713291.py:6: FutureWarning: The frame.append method is deprecated and will be removed from pandas in a future version. Use pandas.concat instead.\n",
      "  outputs=outputs.append(output,sort=False)\n",
      "/var/tmp/rojasolvera/ipykernel_122018/3486713291.py:6: FutureWarning: The frame.append method is deprecated and will be removed from pandas in a future version. Use pandas.concat instead.\n",
      "  outputs=outputs.append(output,sort=False)\n",
      "/var/tmp/rojasolvera/ipykernel_122018/3486713291.py:6: FutureWarning: The frame.append method is deprecated and will be removed from pandas in a future version. Use pandas.concat instead.\n",
      "  outputs=outputs.append(output,sort=False)\n",
      "/var/tmp/rojasolvera/ipykernel_122018/3486713291.py:6: FutureWarning: The frame.append method is deprecated and will be removed from pandas in a future version. Use pandas.concat instead.\n",
      "  outputs=outputs.append(output,sort=False)\n"
     ]
    },
    {
     "name": "stdout",
     "output_type": "stream",
     "text": [
      "1/1 [==============================] - 0s 22ms/step\n",
      "1/1 [==============================] - 0s 21ms/step\n",
      "1/1 [==============================] - 0s 21ms/step\n",
      "1/1 [==============================] - 0s 22ms/step\n"
     ]
    },
    {
     "name": "stderr",
     "output_type": "stream",
     "text": [
      "/var/tmp/rojasolvera/ipykernel_122018/3486713291.py:6: FutureWarning: The frame.append method is deprecated and will be removed from pandas in a future version. Use pandas.concat instead.\n",
      "  outputs=outputs.append(output,sort=False)\n",
      "/var/tmp/rojasolvera/ipykernel_122018/3486713291.py:6: FutureWarning: The frame.append method is deprecated and will be removed from pandas in a future version. Use pandas.concat instead.\n",
      "  outputs=outputs.append(output,sort=False)\n",
      "/var/tmp/rojasolvera/ipykernel_122018/3486713291.py:6: FutureWarning: The frame.append method is deprecated and will be removed from pandas in a future version. Use pandas.concat instead.\n",
      "  outputs=outputs.append(output,sort=False)\n",
      "/var/tmp/rojasolvera/ipykernel_122018/3486713291.py:6: FutureWarning: The frame.append method is deprecated and will be removed from pandas in a future version. Use pandas.concat instead.\n",
      "  outputs=outputs.append(output,sort=False)\n"
     ]
    },
    {
     "name": "stdout",
     "output_type": "stream",
     "text": [
      "1/1 [==============================] - 0s 22ms/step\n",
      "1/1 [==============================] - 0s 21ms/step\n",
      "1/1 [==============================] - 0s 22ms/step\n",
      "1/1 [==============================] - 0s 21ms/step\n"
     ]
    },
    {
     "name": "stderr",
     "output_type": "stream",
     "text": [
      "/var/tmp/rojasolvera/ipykernel_122018/3486713291.py:6: FutureWarning: The frame.append method is deprecated and will be removed from pandas in a future version. Use pandas.concat instead.\n",
      "  outputs=outputs.append(output,sort=False)\n",
      "/var/tmp/rojasolvera/ipykernel_122018/3486713291.py:6: FutureWarning: The frame.append method is deprecated and will be removed from pandas in a future version. Use pandas.concat instead.\n",
      "  outputs=outputs.append(output,sort=False)\n",
      "/var/tmp/rojasolvera/ipykernel_122018/3486713291.py:6: FutureWarning: The frame.append method is deprecated and will be removed from pandas in a future version. Use pandas.concat instead.\n",
      "  outputs=outputs.append(output,sort=False)\n",
      "/var/tmp/rojasolvera/ipykernel_122018/3486713291.py:6: FutureWarning: The frame.append method is deprecated and will be removed from pandas in a future version. Use pandas.concat instead.\n",
      "  outputs=outputs.append(output,sort=False)\n"
     ]
    },
    {
     "name": "stdout",
     "output_type": "stream",
     "text": [
      "1/1 [==============================] - 0s 22ms/step\n",
      "1/1 [==============================] - 0s 22ms/step\n",
      "1/1 [==============================] - 0s 22ms/step\n",
      "1/1 [==============================] - 0s 21ms/step\n"
     ]
    },
    {
     "name": "stderr",
     "output_type": "stream",
     "text": [
      "/var/tmp/rojasolvera/ipykernel_122018/3486713291.py:6: FutureWarning: The frame.append method is deprecated and will be removed from pandas in a future version. Use pandas.concat instead.\n",
      "  outputs=outputs.append(output,sort=False)\n",
      "/var/tmp/rojasolvera/ipykernel_122018/3486713291.py:6: FutureWarning: The frame.append method is deprecated and will be removed from pandas in a future version. Use pandas.concat instead.\n",
      "  outputs=outputs.append(output,sort=False)\n",
      "/var/tmp/rojasolvera/ipykernel_122018/3486713291.py:6: FutureWarning: The frame.append method is deprecated and will be removed from pandas in a future version. Use pandas.concat instead.\n",
      "  outputs=outputs.append(output,sort=False)\n",
      "/var/tmp/rojasolvera/ipykernel_122018/3486713291.py:6: FutureWarning: The frame.append method is deprecated and will be removed from pandas in a future version. Use pandas.concat instead.\n",
      "  outputs=outputs.append(output,sort=False)\n"
     ]
    },
    {
     "name": "stdout",
     "output_type": "stream",
     "text": [
      "1/1 [==============================] - 0s 21ms/step\n",
      "1/1 [==============================] - 0s 21ms/step\n",
      "1/1 [==============================] - 0s 21ms/step\n",
      "1/1 [==============================] - 0s 21ms/step\n"
     ]
    },
    {
     "name": "stderr",
     "output_type": "stream",
     "text": [
      "/var/tmp/rojasolvera/ipykernel_122018/3486713291.py:6: FutureWarning: The frame.append method is deprecated and will be removed from pandas in a future version. Use pandas.concat instead.\n",
      "  outputs=outputs.append(output,sort=False)\n",
      "/var/tmp/rojasolvera/ipykernel_122018/3486713291.py:6: FutureWarning: The frame.append method is deprecated and will be removed from pandas in a future version. Use pandas.concat instead.\n",
      "  outputs=outputs.append(output,sort=False)\n",
      "/var/tmp/rojasolvera/ipykernel_122018/3486713291.py:6: FutureWarning: The frame.append method is deprecated and will be removed from pandas in a future version. Use pandas.concat instead.\n",
      "  outputs=outputs.append(output,sort=False)\n",
      "/var/tmp/rojasolvera/ipykernel_122018/3486713291.py:6: FutureWarning: The frame.append method is deprecated and will be removed from pandas in a future version. Use pandas.concat instead.\n",
      "  outputs=outputs.append(output,sort=False)\n"
     ]
    },
    {
     "name": "stdout",
     "output_type": "stream",
     "text": [
      "1/1 [==============================] - 0s 22ms/step\n",
      "1/1 [==============================] - 0s 22ms/step\n",
      "1/1 [==============================] - 0s 22ms/step\n",
      "1/1 [==============================] - 0s 22ms/step\n"
     ]
    },
    {
     "name": "stderr",
     "output_type": "stream",
     "text": [
      "/var/tmp/rojasolvera/ipykernel_122018/3486713291.py:6: FutureWarning: The frame.append method is deprecated and will be removed from pandas in a future version. Use pandas.concat instead.\n",
      "  outputs=outputs.append(output,sort=False)\n",
      "/var/tmp/rojasolvera/ipykernel_122018/3486713291.py:6: FutureWarning: The frame.append method is deprecated and will be removed from pandas in a future version. Use pandas.concat instead.\n",
      "  outputs=outputs.append(output,sort=False)\n",
      "/var/tmp/rojasolvera/ipykernel_122018/3486713291.py:6: FutureWarning: The frame.append method is deprecated and will be removed from pandas in a future version. Use pandas.concat instead.\n",
      "  outputs=outputs.append(output,sort=False)\n",
      "/var/tmp/rojasolvera/ipykernel_122018/3486713291.py:6: FutureWarning: The frame.append method is deprecated and will be removed from pandas in a future version. Use pandas.concat instead.\n",
      "  outputs=outputs.append(output,sort=False)\n"
     ]
    },
    {
     "name": "stdout",
     "output_type": "stream",
     "text": [
      "1/1 [==============================] - 0s 22ms/step\n",
      "1/1 [==============================] - 0s 23ms/step\n",
      "1/1 [==============================] - 0s 21ms/step\n",
      "1/1 [==============================] - 0s 22ms/step\n"
     ]
    },
    {
     "name": "stderr",
     "output_type": "stream",
     "text": [
      "/var/tmp/rojasolvera/ipykernel_122018/3486713291.py:6: FutureWarning: The frame.append method is deprecated and will be removed from pandas in a future version. Use pandas.concat instead.\n",
      "  outputs=outputs.append(output,sort=False)\n",
      "/var/tmp/rojasolvera/ipykernel_122018/3486713291.py:6: FutureWarning: The frame.append method is deprecated and will be removed from pandas in a future version. Use pandas.concat instead.\n",
      "  outputs=outputs.append(output,sort=False)\n",
      "/var/tmp/rojasolvera/ipykernel_122018/3486713291.py:6: FutureWarning: The frame.append method is deprecated and will be removed from pandas in a future version. Use pandas.concat instead.\n",
      "  outputs=outputs.append(output,sort=False)\n",
      "/var/tmp/rojasolvera/ipykernel_122018/3486713291.py:6: FutureWarning: The frame.append method is deprecated and will be removed from pandas in a future version. Use pandas.concat instead.\n",
      "  outputs=outputs.append(output,sort=False)\n"
     ]
    },
    {
     "name": "stdout",
     "output_type": "stream",
     "text": [
      "1/1 [==============================] - 0s 21ms/step\n",
      "1/1 [==============================] - 0s 22ms/step\n",
      "1/1 [==============================] - 0s 22ms/step\n",
      "1/1 [==============================] - 0s 21ms/step\n"
     ]
    },
    {
     "name": "stderr",
     "output_type": "stream",
     "text": [
      "/var/tmp/rojasolvera/ipykernel_122018/3486713291.py:6: FutureWarning: The frame.append method is deprecated and will be removed from pandas in a future version. Use pandas.concat instead.\n",
      "  outputs=outputs.append(output,sort=False)\n",
      "/var/tmp/rojasolvera/ipykernel_122018/3486713291.py:6: FutureWarning: The frame.append method is deprecated and will be removed from pandas in a future version. Use pandas.concat instead.\n",
      "  outputs=outputs.append(output,sort=False)\n",
      "/var/tmp/rojasolvera/ipykernel_122018/3486713291.py:6: FutureWarning: The frame.append method is deprecated and will be removed from pandas in a future version. Use pandas.concat instead.\n",
      "  outputs=outputs.append(output,sort=False)\n",
      "/var/tmp/rojasolvera/ipykernel_122018/3486713291.py:6: FutureWarning: The frame.append method is deprecated and will be removed from pandas in a future version. Use pandas.concat instead.\n",
      "  outputs=outputs.append(output,sort=False)\n"
     ]
    },
    {
     "name": "stdout",
     "output_type": "stream",
     "text": [
      "1/1 [==============================] - 0s 22ms/step\n",
      "1/1 [==============================] - 0s 21ms/step\n",
      "1/1 [==============================] - 0s 21ms/step\n",
      "1/1 [==============================] - 0s 21ms/step\n"
     ]
    },
    {
     "name": "stderr",
     "output_type": "stream",
     "text": [
      "/var/tmp/rojasolvera/ipykernel_122018/3486713291.py:6: FutureWarning: The frame.append method is deprecated and will be removed from pandas in a future version. Use pandas.concat instead.\n",
      "  outputs=outputs.append(output,sort=False)\n",
      "/var/tmp/rojasolvera/ipykernel_122018/3486713291.py:6: FutureWarning: The frame.append method is deprecated and will be removed from pandas in a future version. Use pandas.concat instead.\n",
      "  outputs=outputs.append(output,sort=False)\n",
      "/var/tmp/rojasolvera/ipykernel_122018/3486713291.py:6: FutureWarning: The frame.append method is deprecated and will be removed from pandas in a future version. Use pandas.concat instead.\n",
      "  outputs=outputs.append(output,sort=False)\n",
      "/var/tmp/rojasolvera/ipykernel_122018/3486713291.py:6: FutureWarning: The frame.append method is deprecated and will be removed from pandas in a future version. Use pandas.concat instead.\n",
      "  outputs=outputs.append(output,sort=False)\n"
     ]
    },
    {
     "name": "stdout",
     "output_type": "stream",
     "text": [
      "1/1 [==============================] - 0s 22ms/step\n",
      "1/1 [==============================] - 0s 21ms/step\n",
      "1/1 [==============================] - 0s 20ms/step\n",
      "1/1 [==============================] - 0s 21ms/step\n"
     ]
    },
    {
     "name": "stderr",
     "output_type": "stream",
     "text": [
      "/var/tmp/rojasolvera/ipykernel_122018/3486713291.py:6: FutureWarning: The frame.append method is deprecated and will be removed from pandas in a future version. Use pandas.concat instead.\n",
      "  outputs=outputs.append(output,sort=False)\n",
      "/var/tmp/rojasolvera/ipykernel_122018/3486713291.py:6: FutureWarning: The frame.append method is deprecated and will be removed from pandas in a future version. Use pandas.concat instead.\n",
      "  outputs=outputs.append(output,sort=False)\n",
      "/var/tmp/rojasolvera/ipykernel_122018/3486713291.py:6: FutureWarning: The frame.append method is deprecated and will be removed from pandas in a future version. Use pandas.concat instead.\n",
      "  outputs=outputs.append(output,sort=False)\n",
      "/var/tmp/rojasolvera/ipykernel_122018/3486713291.py:6: FutureWarning: The frame.append method is deprecated and will be removed from pandas in a future version. Use pandas.concat instead.\n",
      "  outputs=outputs.append(output,sort=False)\n"
     ]
    },
    {
     "name": "stdout",
     "output_type": "stream",
     "text": [
      "1/1 [==============================] - 0s 22ms/step\n",
      "1/1 [==============================] - 0s 22ms/step\n",
      "1/1 [==============================] - 0s 21ms/step\n",
      "1/1 [==============================] - 0s 21ms/step\n"
     ]
    },
    {
     "name": "stderr",
     "output_type": "stream",
     "text": [
      "/var/tmp/rojasolvera/ipykernel_122018/3486713291.py:6: FutureWarning: The frame.append method is deprecated and will be removed from pandas in a future version. Use pandas.concat instead.\n",
      "  outputs=outputs.append(output,sort=False)\n",
      "/var/tmp/rojasolvera/ipykernel_122018/3486713291.py:6: FutureWarning: The frame.append method is deprecated and will be removed from pandas in a future version. Use pandas.concat instead.\n",
      "  outputs=outputs.append(output,sort=False)\n",
      "/var/tmp/rojasolvera/ipykernel_122018/3486713291.py:6: FutureWarning: The frame.append method is deprecated and will be removed from pandas in a future version. Use pandas.concat instead.\n",
      "  outputs=outputs.append(output,sort=False)\n",
      "/var/tmp/rojasolvera/ipykernel_122018/3486713291.py:6: FutureWarning: The frame.append method is deprecated and will be removed from pandas in a future version. Use pandas.concat instead.\n",
      "  outputs=outputs.append(output,sort=False)\n"
     ]
    },
    {
     "name": "stdout",
     "output_type": "stream",
     "text": [
      "1/1 [==============================] - 0s 22ms/step\n",
      "1/1 [==============================] - 0s 22ms/step\n",
      "1/1 [==============================] - 0s 22ms/step\n",
      "1/1 [==============================] - 0s 22ms/step\n"
     ]
    },
    {
     "name": "stderr",
     "output_type": "stream",
     "text": [
      "/var/tmp/rojasolvera/ipykernel_122018/3486713291.py:6: FutureWarning: The frame.append method is deprecated and will be removed from pandas in a future version. Use pandas.concat instead.\n",
      "  outputs=outputs.append(output,sort=False)\n",
      "/var/tmp/rojasolvera/ipykernel_122018/3486713291.py:6: FutureWarning: The frame.append method is deprecated and will be removed from pandas in a future version. Use pandas.concat instead.\n",
      "  outputs=outputs.append(output,sort=False)\n",
      "/var/tmp/rojasolvera/ipykernel_122018/3486713291.py:6: FutureWarning: The frame.append method is deprecated and will be removed from pandas in a future version. Use pandas.concat instead.\n",
      "  outputs=outputs.append(output,sort=False)\n",
      "/var/tmp/rojasolvera/ipykernel_122018/3486713291.py:6: FutureWarning: The frame.append method is deprecated and will be removed from pandas in a future version. Use pandas.concat instead.\n",
      "  outputs=outputs.append(output,sort=False)\n"
     ]
    },
    {
     "name": "stdout",
     "output_type": "stream",
     "text": [
      "1/1 [==============================] - 0s 22ms/step\n",
      "1/1 [==============================] - 0s 22ms/step\n",
      "1/1 [==============================] - 0s 21ms/step\n",
      "1/1 [==============================] - 0s 21ms/step\n"
     ]
    },
    {
     "name": "stderr",
     "output_type": "stream",
     "text": [
      "/var/tmp/rojasolvera/ipykernel_122018/3486713291.py:6: FutureWarning: The frame.append method is deprecated and will be removed from pandas in a future version. Use pandas.concat instead.\n",
      "  outputs=outputs.append(output,sort=False)\n",
      "/var/tmp/rojasolvera/ipykernel_122018/3486713291.py:6: FutureWarning: The frame.append method is deprecated and will be removed from pandas in a future version. Use pandas.concat instead.\n",
      "  outputs=outputs.append(output,sort=False)\n",
      "/var/tmp/rojasolvera/ipykernel_122018/3486713291.py:6: FutureWarning: The frame.append method is deprecated and will be removed from pandas in a future version. Use pandas.concat instead.\n",
      "  outputs=outputs.append(output,sort=False)\n",
      "/var/tmp/rojasolvera/ipykernel_122018/3486713291.py:6: FutureWarning: The frame.append method is deprecated and will be removed from pandas in a future version. Use pandas.concat instead.\n",
      "  outputs=outputs.append(output,sort=False)\n"
     ]
    },
    {
     "name": "stdout",
     "output_type": "stream",
     "text": [
      "1/1 [==============================] - 0s 22ms/step\n",
      "1/1 [==============================] - 0s 22ms/step\n",
      "1/1 [==============================] - 0s 22ms/step\n",
      "1/1 [==============================] - 0s 22ms/step\n"
     ]
    },
    {
     "name": "stderr",
     "output_type": "stream",
     "text": [
      "/var/tmp/rojasolvera/ipykernel_122018/3486713291.py:6: FutureWarning: The frame.append method is deprecated and will be removed from pandas in a future version. Use pandas.concat instead.\n",
      "  outputs=outputs.append(output,sort=False)\n",
      "/var/tmp/rojasolvera/ipykernel_122018/3486713291.py:6: FutureWarning: The frame.append method is deprecated and will be removed from pandas in a future version. Use pandas.concat instead.\n",
      "  outputs=outputs.append(output,sort=False)\n",
      "/var/tmp/rojasolvera/ipykernel_122018/3486713291.py:6: FutureWarning: The frame.append method is deprecated and will be removed from pandas in a future version. Use pandas.concat instead.\n",
      "  outputs=outputs.append(output,sort=False)\n",
      "/var/tmp/rojasolvera/ipykernel_122018/3486713291.py:6: FutureWarning: The frame.append method is deprecated and will be removed from pandas in a future version. Use pandas.concat instead.\n",
      "  outputs=outputs.append(output,sort=False)\n"
     ]
    },
    {
     "name": "stdout",
     "output_type": "stream",
     "text": [
      "1/1 [==============================] - 0s 23ms/step\n",
      "1/1 [==============================] - 0s 22ms/step\n",
      "1/1 [==============================] - 0s 23ms/step\n",
      "1/1 [==============================] - 0s 21ms/step\n"
     ]
    },
    {
     "name": "stderr",
     "output_type": "stream",
     "text": [
      "/var/tmp/rojasolvera/ipykernel_122018/3486713291.py:6: FutureWarning: The frame.append method is deprecated and will be removed from pandas in a future version. Use pandas.concat instead.\n",
      "  outputs=outputs.append(output,sort=False)\n",
      "/var/tmp/rojasolvera/ipykernel_122018/3486713291.py:6: FutureWarning: The frame.append method is deprecated and will be removed from pandas in a future version. Use pandas.concat instead.\n",
      "  outputs=outputs.append(output,sort=False)\n",
      "/var/tmp/rojasolvera/ipykernel_122018/3486713291.py:6: FutureWarning: The frame.append method is deprecated and will be removed from pandas in a future version. Use pandas.concat instead.\n",
      "  outputs=outputs.append(output,sort=False)\n",
      "/var/tmp/rojasolvera/ipykernel_122018/3486713291.py:6: FutureWarning: The frame.append method is deprecated and will be removed from pandas in a future version. Use pandas.concat instead.\n",
      "  outputs=outputs.append(output,sort=False)\n"
     ]
    },
    {
     "name": "stdout",
     "output_type": "stream",
     "text": [
      "1/1 [==============================] - 0s 21ms/step\n",
      "1/1 [==============================] - 0s 22ms/step\n",
      "1/1 [==============================] - 0s 21ms/step\n",
      "1/1 [==============================] - 0s 22ms/step\n"
     ]
    },
    {
     "name": "stderr",
     "output_type": "stream",
     "text": [
      "/var/tmp/rojasolvera/ipykernel_122018/3486713291.py:6: FutureWarning: The frame.append method is deprecated and will be removed from pandas in a future version. Use pandas.concat instead.\n",
      "  outputs=outputs.append(output,sort=False)\n",
      "/var/tmp/rojasolvera/ipykernel_122018/3486713291.py:6: FutureWarning: The frame.append method is deprecated and will be removed from pandas in a future version. Use pandas.concat instead.\n",
      "  outputs=outputs.append(output,sort=False)\n",
      "/var/tmp/rojasolvera/ipykernel_122018/3486713291.py:6: FutureWarning: The frame.append method is deprecated and will be removed from pandas in a future version. Use pandas.concat instead.\n",
      "  outputs=outputs.append(output,sort=False)\n",
      "/var/tmp/rojasolvera/ipykernel_122018/3486713291.py:6: FutureWarning: The frame.append method is deprecated and will be removed from pandas in a future version. Use pandas.concat instead.\n",
      "  outputs=outputs.append(output,sort=False)\n"
     ]
    },
    {
     "name": "stdout",
     "output_type": "stream",
     "text": [
      "1/1 [==============================] - 0s 22ms/step\n",
      "1/1 [==============================] - 0s 22ms/step\n",
      "1/1 [==============================] - 0s 21ms/step\n",
      "1/1 [==============================] - 0s 22ms/step\n"
     ]
    },
    {
     "name": "stderr",
     "output_type": "stream",
     "text": [
      "/var/tmp/rojasolvera/ipykernel_122018/3486713291.py:6: FutureWarning: The frame.append method is deprecated and will be removed from pandas in a future version. Use pandas.concat instead.\n",
      "  outputs=outputs.append(output,sort=False)\n",
      "/var/tmp/rojasolvera/ipykernel_122018/3486713291.py:6: FutureWarning: The frame.append method is deprecated and will be removed from pandas in a future version. Use pandas.concat instead.\n",
      "  outputs=outputs.append(output,sort=False)\n",
      "/var/tmp/rojasolvera/ipykernel_122018/3486713291.py:6: FutureWarning: The frame.append method is deprecated and will be removed from pandas in a future version. Use pandas.concat instead.\n",
      "  outputs=outputs.append(output,sort=False)\n",
      "/var/tmp/rojasolvera/ipykernel_122018/3486713291.py:6: FutureWarning: The frame.append method is deprecated and will be removed from pandas in a future version. Use pandas.concat instead.\n",
      "  outputs=outputs.append(output,sort=False)\n"
     ]
    },
    {
     "name": "stdout",
     "output_type": "stream",
     "text": [
      "1/1 [==============================] - 0s 23ms/step\n",
      "1/1 [==============================] - 0s 22ms/step\n",
      "1/1 [==============================] - 0s 22ms/step\n",
      "1/1 [==============================] - 0s 21ms/step\n"
     ]
    },
    {
     "name": "stderr",
     "output_type": "stream",
     "text": [
      "/var/tmp/rojasolvera/ipykernel_122018/3486713291.py:6: FutureWarning: The frame.append method is deprecated and will be removed from pandas in a future version. Use pandas.concat instead.\n",
      "  outputs=outputs.append(output,sort=False)\n",
      "/var/tmp/rojasolvera/ipykernel_122018/3486713291.py:6: FutureWarning: The frame.append method is deprecated and will be removed from pandas in a future version. Use pandas.concat instead.\n",
      "  outputs=outputs.append(output,sort=False)\n",
      "/var/tmp/rojasolvera/ipykernel_122018/3486713291.py:6: FutureWarning: The frame.append method is deprecated and will be removed from pandas in a future version. Use pandas.concat instead.\n",
      "  outputs=outputs.append(output,sort=False)\n",
      "/var/tmp/rojasolvera/ipykernel_122018/3486713291.py:6: FutureWarning: The frame.append method is deprecated and will be removed from pandas in a future version. Use pandas.concat instead.\n",
      "  outputs=outputs.append(output,sort=False)\n"
     ]
    },
    {
     "name": "stdout",
     "output_type": "stream",
     "text": [
      "1/1 [==============================] - 0s 22ms/step\n",
      "1/1 [==============================] - 0s 21ms/step\n",
      "1/1 [==============================] - 0s 21ms/step\n",
      "1/1 [==============================] - 0s 21ms/step\n"
     ]
    },
    {
     "name": "stderr",
     "output_type": "stream",
     "text": [
      "/var/tmp/rojasolvera/ipykernel_122018/3486713291.py:6: FutureWarning: The frame.append method is deprecated and will be removed from pandas in a future version. Use pandas.concat instead.\n",
      "  outputs=outputs.append(output,sort=False)\n",
      "/var/tmp/rojasolvera/ipykernel_122018/3486713291.py:6: FutureWarning: The frame.append method is deprecated and will be removed from pandas in a future version. Use pandas.concat instead.\n",
      "  outputs=outputs.append(output,sort=False)\n",
      "/var/tmp/rojasolvera/ipykernel_122018/3486713291.py:6: FutureWarning: The frame.append method is deprecated and will be removed from pandas in a future version. Use pandas.concat instead.\n",
      "  outputs=outputs.append(output,sort=False)\n",
      "/var/tmp/rojasolvera/ipykernel_122018/3486713291.py:6: FutureWarning: The frame.append method is deprecated and will be removed from pandas in a future version. Use pandas.concat instead.\n",
      "  outputs=outputs.append(output,sort=False)\n"
     ]
    },
    {
     "name": "stdout",
     "output_type": "stream",
     "text": [
      "1/1 [==============================] - 0s 22ms/step\n",
      "1/1 [==============================] - 0s 21ms/step\n",
      "1/1 [==============================] - 0s 21ms/step\n",
      "1/1 [==============================] - 0s 22ms/step\n"
     ]
    },
    {
     "name": "stderr",
     "output_type": "stream",
     "text": [
      "/var/tmp/rojasolvera/ipykernel_122018/3486713291.py:6: FutureWarning: The frame.append method is deprecated and will be removed from pandas in a future version. Use pandas.concat instead.\n",
      "  outputs=outputs.append(output,sort=False)\n",
      "/var/tmp/rojasolvera/ipykernel_122018/3486713291.py:6: FutureWarning: The frame.append method is deprecated and will be removed from pandas in a future version. Use pandas.concat instead.\n",
      "  outputs=outputs.append(output,sort=False)\n",
      "/var/tmp/rojasolvera/ipykernel_122018/3486713291.py:6: FutureWarning: The frame.append method is deprecated and will be removed from pandas in a future version. Use pandas.concat instead.\n",
      "  outputs=outputs.append(output,sort=False)\n",
      "/var/tmp/rojasolvera/ipykernel_122018/3486713291.py:6: FutureWarning: The frame.append method is deprecated and will be removed from pandas in a future version. Use pandas.concat instead.\n",
      "  outputs=outputs.append(output,sort=False)\n"
     ]
    },
    {
     "name": "stdout",
     "output_type": "stream",
     "text": [
      "1/1 [==============================] - 0s 22ms/step\n",
      "1/1 [==============================] - 0s 21ms/step\n",
      "1/1 [==============================] - 0s 22ms/step\n",
      "1/1 [==============================] - 0s 21ms/step\n"
     ]
    },
    {
     "name": "stderr",
     "output_type": "stream",
     "text": [
      "/var/tmp/rojasolvera/ipykernel_122018/3486713291.py:6: FutureWarning: The frame.append method is deprecated and will be removed from pandas in a future version. Use pandas.concat instead.\n",
      "  outputs=outputs.append(output,sort=False)\n",
      "/var/tmp/rojasolvera/ipykernel_122018/3486713291.py:6: FutureWarning: The frame.append method is deprecated and will be removed from pandas in a future version. Use pandas.concat instead.\n",
      "  outputs=outputs.append(output,sort=False)\n",
      "/var/tmp/rojasolvera/ipykernel_122018/3486713291.py:6: FutureWarning: The frame.append method is deprecated and will be removed from pandas in a future version. Use pandas.concat instead.\n",
      "  outputs=outputs.append(output,sort=False)\n",
      "/var/tmp/rojasolvera/ipykernel_122018/3486713291.py:6: FutureWarning: The frame.append method is deprecated and will be removed from pandas in a future version. Use pandas.concat instead.\n",
      "  outputs=outputs.append(output,sort=False)\n"
     ]
    },
    {
     "name": "stdout",
     "output_type": "stream",
     "text": [
      "1/1 [==============================] - 0s 22ms/step\n",
      "1/1 [==============================] - 0s 21ms/step\n",
      "1/1 [==============================] - 0s 22ms/step\n",
      "1/1 [==============================] - 0s 21ms/step\n"
     ]
    },
    {
     "name": "stderr",
     "output_type": "stream",
     "text": [
      "/var/tmp/rojasolvera/ipykernel_122018/3486713291.py:6: FutureWarning: The frame.append method is deprecated and will be removed from pandas in a future version. Use pandas.concat instead.\n",
      "  outputs=outputs.append(output,sort=False)\n",
      "/var/tmp/rojasolvera/ipykernel_122018/3486713291.py:6: FutureWarning: The frame.append method is deprecated and will be removed from pandas in a future version. Use pandas.concat instead.\n",
      "  outputs=outputs.append(output,sort=False)\n",
      "/var/tmp/rojasolvera/ipykernel_122018/3486713291.py:6: FutureWarning: The frame.append method is deprecated and will be removed from pandas in a future version. Use pandas.concat instead.\n",
      "  outputs=outputs.append(output,sort=False)\n",
      "/var/tmp/rojasolvera/ipykernel_122018/3486713291.py:6: FutureWarning: The frame.append method is deprecated and will be removed from pandas in a future version. Use pandas.concat instead.\n",
      "  outputs=outputs.append(output,sort=False)\n"
     ]
    },
    {
     "name": "stdout",
     "output_type": "stream",
     "text": [
      "1/1 [==============================] - 0s 21ms/step\n",
      "1/1 [==============================] - 0s 22ms/step\n",
      "1/1 [==============================] - 0s 22ms/step\n",
      "1/1 [==============================] - 0s 21ms/step\n"
     ]
    },
    {
     "name": "stderr",
     "output_type": "stream",
     "text": [
      "/var/tmp/rojasolvera/ipykernel_122018/3486713291.py:6: FutureWarning: The frame.append method is deprecated and will be removed from pandas in a future version. Use pandas.concat instead.\n",
      "  outputs=outputs.append(output,sort=False)\n",
      "/var/tmp/rojasolvera/ipykernel_122018/3486713291.py:6: FutureWarning: The frame.append method is deprecated and will be removed from pandas in a future version. Use pandas.concat instead.\n",
      "  outputs=outputs.append(output,sort=False)\n",
      "/var/tmp/rojasolvera/ipykernel_122018/3486713291.py:6: FutureWarning: The frame.append method is deprecated and will be removed from pandas in a future version. Use pandas.concat instead.\n",
      "  outputs=outputs.append(output,sort=False)\n",
      "/var/tmp/rojasolvera/ipykernel_122018/3486713291.py:6: FutureWarning: The frame.append method is deprecated and will be removed from pandas in a future version. Use pandas.concat instead.\n",
      "  outputs=outputs.append(output,sort=False)\n"
     ]
    },
    {
     "name": "stdout",
     "output_type": "stream",
     "text": [
      "1/1 [==============================] - 0s 22ms/step\n",
      "1/1 [==============================] - 0s 22ms/step\n",
      "1/1 [==============================] - 0s 21ms/step\n",
      "1/1 [==============================] - 0s 21ms/step\n"
     ]
    },
    {
     "name": "stderr",
     "output_type": "stream",
     "text": [
      "/var/tmp/rojasolvera/ipykernel_122018/3486713291.py:6: FutureWarning: The frame.append method is deprecated and will be removed from pandas in a future version. Use pandas.concat instead.\n",
      "  outputs=outputs.append(output,sort=False)\n",
      "/var/tmp/rojasolvera/ipykernel_122018/3486713291.py:6: FutureWarning: The frame.append method is deprecated and will be removed from pandas in a future version. Use pandas.concat instead.\n",
      "  outputs=outputs.append(output,sort=False)\n",
      "/var/tmp/rojasolvera/ipykernel_122018/3486713291.py:6: FutureWarning: The frame.append method is deprecated and will be removed from pandas in a future version. Use pandas.concat instead.\n",
      "  outputs=outputs.append(output,sort=False)\n",
      "/var/tmp/rojasolvera/ipykernel_122018/3486713291.py:6: FutureWarning: The frame.append method is deprecated and will be removed from pandas in a future version. Use pandas.concat instead.\n",
      "  outputs=outputs.append(output,sort=False)\n"
     ]
    },
    {
     "name": "stdout",
     "output_type": "stream",
     "text": [
      "1/1 [==============================] - 0s 22ms/step\n",
      "1/1 [==============================] - 0s 21ms/step\n",
      "1/1 [==============================] - 0s 21ms/step\n",
      "1/1 [==============================] - 0s 21ms/step\n"
     ]
    },
    {
     "name": "stderr",
     "output_type": "stream",
     "text": [
      "/var/tmp/rojasolvera/ipykernel_122018/3486713291.py:6: FutureWarning: The frame.append method is deprecated and will be removed from pandas in a future version. Use pandas.concat instead.\n",
      "  outputs=outputs.append(output,sort=False)\n",
      "/var/tmp/rojasolvera/ipykernel_122018/3486713291.py:6: FutureWarning: The frame.append method is deprecated and will be removed from pandas in a future version. Use pandas.concat instead.\n",
      "  outputs=outputs.append(output,sort=False)\n",
      "/var/tmp/rojasolvera/ipykernel_122018/3486713291.py:6: FutureWarning: The frame.append method is deprecated and will be removed from pandas in a future version. Use pandas.concat instead.\n",
      "  outputs=outputs.append(output,sort=False)\n",
      "/var/tmp/rojasolvera/ipykernel_122018/3486713291.py:6: FutureWarning: The frame.append method is deprecated and will be removed from pandas in a future version. Use pandas.concat instead.\n",
      "  outputs=outputs.append(output,sort=False)\n"
     ]
    },
    {
     "name": "stdout",
     "output_type": "stream",
     "text": [
      "1/1 [==============================] - 0s 22ms/step\n",
      "1/1 [==============================] - 0s 21ms/step\n",
      "1/1 [==============================] - 0s 21ms/step\n",
      "1/1 [==============================] - 0s 21ms/step\n"
     ]
    },
    {
     "name": "stderr",
     "output_type": "stream",
     "text": [
      "/var/tmp/rojasolvera/ipykernel_122018/3486713291.py:6: FutureWarning: The frame.append method is deprecated and will be removed from pandas in a future version. Use pandas.concat instead.\n",
      "  outputs=outputs.append(output,sort=False)\n",
      "/var/tmp/rojasolvera/ipykernel_122018/3486713291.py:6: FutureWarning: The frame.append method is deprecated and will be removed from pandas in a future version. Use pandas.concat instead.\n",
      "  outputs=outputs.append(output,sort=False)\n",
      "/var/tmp/rojasolvera/ipykernel_122018/3486713291.py:6: FutureWarning: The frame.append method is deprecated and will be removed from pandas in a future version. Use pandas.concat instead.\n",
      "  outputs=outputs.append(output,sort=False)\n",
      "/var/tmp/rojasolvera/ipykernel_122018/3486713291.py:6: FutureWarning: The frame.append method is deprecated and will be removed from pandas in a future version. Use pandas.concat instead.\n",
      "  outputs=outputs.append(output,sort=False)\n"
     ]
    },
    {
     "name": "stdout",
     "output_type": "stream",
     "text": [
      "1/1 [==============================] - 0s 22ms/step\n",
      "1/1 [==============================] - 0s 21ms/step\n",
      "1/1 [==============================] - 0s 23ms/step\n",
      "1/1 [==============================] - 0s 21ms/step\n"
     ]
    },
    {
     "name": "stderr",
     "output_type": "stream",
     "text": [
      "/var/tmp/rojasolvera/ipykernel_122018/3486713291.py:6: FutureWarning: The frame.append method is deprecated and will be removed from pandas in a future version. Use pandas.concat instead.\n",
      "  outputs=outputs.append(output,sort=False)\n",
      "/var/tmp/rojasolvera/ipykernel_122018/3486713291.py:6: FutureWarning: The frame.append method is deprecated and will be removed from pandas in a future version. Use pandas.concat instead.\n",
      "  outputs=outputs.append(output,sort=False)\n",
      "/var/tmp/rojasolvera/ipykernel_122018/3486713291.py:6: FutureWarning: The frame.append method is deprecated and will be removed from pandas in a future version. Use pandas.concat instead.\n",
      "  outputs=outputs.append(output,sort=False)\n",
      "/var/tmp/rojasolvera/ipykernel_122018/3486713291.py:6: FutureWarning: The frame.append method is deprecated and will be removed from pandas in a future version. Use pandas.concat instead.\n",
      "  outputs=outputs.append(output,sort=False)\n"
     ]
    },
    {
     "name": "stdout",
     "output_type": "stream",
     "text": [
      "1/1 [==============================] - 0s 21ms/step\n",
      "1/1 [==============================] - 0s 22ms/step\n",
      "1/1 [==============================] - 0s 21ms/step\n",
      "1/1 [==============================] - 0s 21ms/step\n"
     ]
    },
    {
     "name": "stderr",
     "output_type": "stream",
     "text": [
      "/var/tmp/rojasolvera/ipykernel_122018/3486713291.py:6: FutureWarning: The frame.append method is deprecated and will be removed from pandas in a future version. Use pandas.concat instead.\n",
      "  outputs=outputs.append(output,sort=False)\n",
      "/var/tmp/rojasolvera/ipykernel_122018/3486713291.py:6: FutureWarning: The frame.append method is deprecated and will be removed from pandas in a future version. Use pandas.concat instead.\n",
      "  outputs=outputs.append(output,sort=False)\n",
      "/var/tmp/rojasolvera/ipykernel_122018/3486713291.py:6: FutureWarning: The frame.append method is deprecated and will be removed from pandas in a future version. Use pandas.concat instead.\n",
      "  outputs=outputs.append(output,sort=False)\n",
      "/var/tmp/rojasolvera/ipykernel_122018/3486713291.py:6: FutureWarning: The frame.append method is deprecated and will be removed from pandas in a future version. Use pandas.concat instead.\n",
      "  outputs=outputs.append(output,sort=False)\n"
     ]
    },
    {
     "name": "stdout",
     "output_type": "stream",
     "text": [
      "1/1 [==============================] - 0s 21ms/step\n",
      "1/1 [==============================] - 0s 21ms/step\n",
      "1/1 [==============================] - 0s 21ms/step\n",
      "1/1 [==============================] - 0s 21ms/step\n"
     ]
    },
    {
     "name": "stderr",
     "output_type": "stream",
     "text": [
      "/var/tmp/rojasolvera/ipykernel_122018/3486713291.py:6: FutureWarning: The frame.append method is deprecated and will be removed from pandas in a future version. Use pandas.concat instead.\n",
      "  outputs=outputs.append(output,sort=False)\n",
      "/var/tmp/rojasolvera/ipykernel_122018/3486713291.py:6: FutureWarning: The frame.append method is deprecated and will be removed from pandas in a future version. Use pandas.concat instead.\n",
      "  outputs=outputs.append(output,sort=False)\n",
      "/var/tmp/rojasolvera/ipykernel_122018/3486713291.py:6: FutureWarning: The frame.append method is deprecated and will be removed from pandas in a future version. Use pandas.concat instead.\n",
      "  outputs=outputs.append(output,sort=False)\n",
      "/var/tmp/rojasolvera/ipykernel_122018/3486713291.py:6: FutureWarning: The frame.append method is deprecated and will be removed from pandas in a future version. Use pandas.concat instead.\n",
      "  outputs=outputs.append(output,sort=False)\n"
     ]
    },
    {
     "name": "stdout",
     "output_type": "stream",
     "text": [
      "1/1 [==============================] - 0s 22ms/step\n",
      "1/1 [==============================] - 0s 21ms/step\n",
      "1/1 [==============================] - 0s 21ms/step\n",
      "1/1 [==============================] - 0s 21ms/step\n"
     ]
    },
    {
     "name": "stderr",
     "output_type": "stream",
     "text": [
      "/var/tmp/rojasolvera/ipykernel_122018/3486713291.py:6: FutureWarning: The frame.append method is deprecated and will be removed from pandas in a future version. Use pandas.concat instead.\n",
      "  outputs=outputs.append(output,sort=False)\n",
      "/var/tmp/rojasolvera/ipykernel_122018/3486713291.py:6: FutureWarning: The frame.append method is deprecated and will be removed from pandas in a future version. Use pandas.concat instead.\n",
      "  outputs=outputs.append(output,sort=False)\n",
      "/var/tmp/rojasolvera/ipykernel_122018/3486713291.py:6: FutureWarning: The frame.append method is deprecated and will be removed from pandas in a future version. Use pandas.concat instead.\n",
      "  outputs=outputs.append(output,sort=False)\n",
      "/var/tmp/rojasolvera/ipykernel_122018/3486713291.py:6: FutureWarning: The frame.append method is deprecated and will be removed from pandas in a future version. Use pandas.concat instead.\n",
      "  outputs=outputs.append(output,sort=False)\n"
     ]
    },
    {
     "name": "stdout",
     "output_type": "stream",
     "text": [
      "1/1 [==============================] - 0s 22ms/step\n",
      "1/1 [==============================] - 0s 21ms/step\n",
      "1/1 [==============================] - 0s 21ms/step\n",
      "1/1 [==============================] - 0s 21ms/step\n"
     ]
    },
    {
     "name": "stderr",
     "output_type": "stream",
     "text": [
      "/var/tmp/rojasolvera/ipykernel_122018/3486713291.py:6: FutureWarning: The frame.append method is deprecated and will be removed from pandas in a future version. Use pandas.concat instead.\n",
      "  outputs=outputs.append(output,sort=False)\n",
      "/var/tmp/rojasolvera/ipykernel_122018/3486713291.py:6: FutureWarning: The frame.append method is deprecated and will be removed from pandas in a future version. Use pandas.concat instead.\n",
      "  outputs=outputs.append(output,sort=False)\n",
      "/var/tmp/rojasolvera/ipykernel_122018/3486713291.py:6: FutureWarning: The frame.append method is deprecated and will be removed from pandas in a future version. Use pandas.concat instead.\n",
      "  outputs=outputs.append(output,sort=False)\n",
      "/var/tmp/rojasolvera/ipykernel_122018/3486713291.py:6: FutureWarning: The frame.append method is deprecated and will be removed from pandas in a future version. Use pandas.concat instead.\n",
      "  outputs=outputs.append(output,sort=False)\n"
     ]
    },
    {
     "name": "stdout",
     "output_type": "stream",
     "text": [
      "1/1 [==============================] - 0s 21ms/step\n",
      "1/1 [==============================] - 0s 21ms/step\n",
      "1/1 [==============================] - 0s 22ms/step\n",
      "1/1 [==============================] - 0s 21ms/step\n"
     ]
    },
    {
     "name": "stderr",
     "output_type": "stream",
     "text": [
      "/var/tmp/rojasolvera/ipykernel_122018/3486713291.py:6: FutureWarning: The frame.append method is deprecated and will be removed from pandas in a future version. Use pandas.concat instead.\n",
      "  outputs=outputs.append(output,sort=False)\n",
      "/var/tmp/rojasolvera/ipykernel_122018/3486713291.py:6: FutureWarning: The frame.append method is deprecated and will be removed from pandas in a future version. Use pandas.concat instead.\n",
      "  outputs=outputs.append(output,sort=False)\n",
      "/var/tmp/rojasolvera/ipykernel_122018/3486713291.py:6: FutureWarning: The frame.append method is deprecated and will be removed from pandas in a future version. Use pandas.concat instead.\n",
      "  outputs=outputs.append(output,sort=False)\n",
      "/var/tmp/rojasolvera/ipykernel_122018/3486713291.py:6: FutureWarning: The frame.append method is deprecated and will be removed from pandas in a future version. Use pandas.concat instead.\n",
      "  outputs=outputs.append(output,sort=False)\n"
     ]
    },
    {
     "name": "stdout",
     "output_type": "stream",
     "text": [
      "1/1 [==============================] - 0s 22ms/step\n",
      "1/1 [==============================] - 0s 22ms/step\n",
      "1/1 [==============================] - 0s 21ms/step\n",
      "1/1 [==============================] - 0s 21ms/step\n"
     ]
    },
    {
     "name": "stderr",
     "output_type": "stream",
     "text": [
      "/var/tmp/rojasolvera/ipykernel_122018/3486713291.py:6: FutureWarning: The frame.append method is deprecated and will be removed from pandas in a future version. Use pandas.concat instead.\n",
      "  outputs=outputs.append(output,sort=False)\n",
      "/var/tmp/rojasolvera/ipykernel_122018/3486713291.py:6: FutureWarning: The frame.append method is deprecated and will be removed from pandas in a future version. Use pandas.concat instead.\n",
      "  outputs=outputs.append(output,sort=False)\n",
      "/var/tmp/rojasolvera/ipykernel_122018/3486713291.py:6: FutureWarning: The frame.append method is deprecated and will be removed from pandas in a future version. Use pandas.concat instead.\n",
      "  outputs=outputs.append(output,sort=False)\n",
      "/var/tmp/rojasolvera/ipykernel_122018/3486713291.py:6: FutureWarning: The frame.append method is deprecated and will be removed from pandas in a future version. Use pandas.concat instead.\n",
      "  outputs=outputs.append(output,sort=False)\n"
     ]
    },
    {
     "name": "stdout",
     "output_type": "stream",
     "text": [
      "1/1 [==============================] - 0s 22ms/step\n",
      "1/1 [==============================] - 0s 22ms/step\n",
      "1/1 [==============================] - 0s 22ms/step\n",
      "1/1 [==============================] - 0s 21ms/step\n"
     ]
    },
    {
     "name": "stderr",
     "output_type": "stream",
     "text": [
      "/var/tmp/rojasolvera/ipykernel_122018/3486713291.py:6: FutureWarning: The frame.append method is deprecated and will be removed from pandas in a future version. Use pandas.concat instead.\n",
      "  outputs=outputs.append(output,sort=False)\n",
      "/var/tmp/rojasolvera/ipykernel_122018/3486713291.py:6: FutureWarning: The frame.append method is deprecated and will be removed from pandas in a future version. Use pandas.concat instead.\n",
      "  outputs=outputs.append(output,sort=False)\n",
      "/var/tmp/rojasolvera/ipykernel_122018/3486713291.py:6: FutureWarning: The frame.append method is deprecated and will be removed from pandas in a future version. Use pandas.concat instead.\n",
      "  outputs=outputs.append(output,sort=False)\n",
      "/var/tmp/rojasolvera/ipykernel_122018/3486713291.py:6: FutureWarning: The frame.append method is deprecated and will be removed from pandas in a future version. Use pandas.concat instead.\n",
      "  outputs=outputs.append(output,sort=False)\n"
     ]
    },
    {
     "name": "stdout",
     "output_type": "stream",
     "text": [
      "1/1 [==============================] - 0s 22ms/step\n",
      "1/1 [==============================] - 0s 21ms/step\n"
     ]
    },
    {
     "name": "stderr",
     "output_type": "stream",
     "text": [
      "/var/tmp/rojasolvera/ipykernel_122018/3486713291.py:6: FutureWarning: The frame.append method is deprecated and will be removed from pandas in a future version. Use pandas.concat instead.\n",
      "  outputs=outputs.append(output,sort=False)\n",
      "/var/tmp/rojasolvera/ipykernel_122018/3486713291.py:6: FutureWarning: The frame.append method is deprecated and will be removed from pandas in a future version. Use pandas.concat instead.\n",
      "  outputs=outputs.append(output,sort=False)\n"
     ]
    }
   ],
   "source": [
    "#now here we loop over the number of timesteps to reach the end of the example model\n",
    "steps_til_end=int((1e6-start_time)/1000.0)-1\n",
    "outputs=pd.DataFrame()\n",
    "for step in range(steps_til_end):\n",
    "    output=emulator.predict_multiple_timesteps(model_df,1)\n",
    "    outputs=outputs.append(output,sort=False)\n",
    "    model_df[\"gas_temp\"]=output[\"gas_temp\"]\n",
    "    model_df[emulator.chem_labels]=output[emulator.chem_labels]"
   ]
  },
  {
   "cell_type": "markdown",
   "metadata": {},
   "source": [
    "Note we could have used emulator.predict_multiple_timesteps(model_df,1000) if we wanted to skip to 1 Myr in one go.\n",
    "\n",
    "Below we return to unscaled variables and real chemistry before plotting against the real data to see how the emulator holds up."
   ]
  },
  {
   "cell_type": "code",
   "execution_count": 45,
   "metadata": {},
   "outputs": [
    {
     "name": "stdout",
     "output_type": "stream",
     "text": [
      "32/32 [==============================] - 0s 921us/step\n"
     ]
    }
   ],
   "source": [
    "#get unscaled predictions\n",
    "predicted=emulator.recover_real_values(outputs)\n",
    "\n",
    "#grab the real data to compare\n",
    "models=input_data.loc[i:i+998]"
   ]
  },
  {
   "cell_type": "code",
   "execution_count": 46,
   "metadata": {},
   "outputs": [
    {
     "data": {
      "text/plain": [
       "8002"
      ]
     },
     "execution_count": 46,
     "metadata": {},
     "output_type": "execute_result"
    }
   ],
   "source": [
    "i"
   ]
  },
  {
   "cell_type": "code",
   "execution_count": 47,
   "metadata": {
    "scrolled": true
   },
   "outputs": [
    {
     "data": {
      "image/png": "[encoded data removed]",
      "text/plain": [
       "<Figure size 1152x648 with 11 Axes>"
      ]
     },
     "metadata": {
      "needs_background": "light"
     },
     "output_type": "display_data"
    }
   ],
   "source": [
    "plot_specs=[\"gas_temp\",\"dust_temp\",\"H\",\"H+\",\"H2\",\"C\",\"C+\",\"CO\",\"O\",\"O+\",\"H2O\"]\n",
    "fig,axes=plt.subplots(3,4,tight_layout=True,figsize=(16,9))\n",
    "times=[start_time+(1000*i+1) for i in range(steps_til_end)]\n",
    "axes=axes.flatten()\n",
    "for i,ax in enumerate(axes[:-1]):\n",
    "    ax.plot(models[\"Time\"],models[plot_specs[i]],label=\"UCLCHEM\")\n",
    "    ax.plot(times,predicted[plot_specs[i]],label=\"CHEMulator\")\n",
    "    ax.set(xscale=\"log\",yscale=\"log\",xlabel=\"Time\",ylabel=plot_specs[i])\n",
    "    if i >1:\n",
    "        ax.set(ylim=(1e-12,1))\n",
    "axes[0].legend()\n",
    "axes[-1].remove()"
   ]
  },
  {
   "cell_type": "code",
   "execution_count": 48,
   "metadata": {},
   "outputs": [],
   "source": [
    "#times"
   ]
  },
  {
   "cell_type": "code",
   "execution_count": 16,
   "metadata": {},
   "outputs": [
    {
     "data": {
      "text/plain": [
       "3001      1000.0\n",
       "3002      2000.0\n",
       "3003      3000.0\n",
       "3004      4000.0\n",
       "3005      5000.0\n",
       "          ...   \n",
       "3995    995000.0\n",
       "3996    996000.0\n",
       "3997    997000.0\n",
       "3998    998000.0\n",
       "3999    999000.0\n",
       "Name: Time, Length: 999, dtype: float64"
      ]
     },
     "execution_count": 16,
     "metadata": {},
     "output_type": "execute_result"
    }
   ],
   "source": [
    "models['Time']"
   ]
  },
  {
   "cell_type": "markdown",
   "metadata": {},
   "source": [
    "# Comparison to UCLPDR\n",
    "\n",
    "Here we replicate Fig 2. of the release paper but using Chemulator instead of UCLCHEM.\n",
    "\n",
    "More importantly, this serves as an example for how to initialize your own model."
   ]
  },
  {
   "cell_type": "code",
   "execution_count": 10,
   "metadata": {},
   "outputs": [],
   "source": [
    "model_df=pd.read_csv(\"sine_input.csv\")\n"
   ]
  },
  {
   "cell_type": "code",
   "execution_count": 11,
   "metadata": {},
   "outputs": [
    {
     "data": {
      "text/html": [
       "<div>\n",
       "<style scoped>\n",
       "    .dataframe tbody tr th:only-of-type {\n",
       "        vertical-align: middle;\n",
       "    }\n",
       "\n",
       "    .dataframe tbody tr th {\n",
       "        vertical-align: top;\n",
       "    }\n",
       "\n",
       "    .dataframe thead th {\n",
       "        text-align: right;\n",
       "    }\n",
       "</style>\n",
       "<table border=\"1\" class=\"dataframe\">\n",
       "  <thead>\n",
       "    <tr style=\"text-align: right;\">\n",
       "      <th></th>\n",
       "      <th>Particle</th>\n",
       "      <th>T_g</th>\n",
       "      <th>n_H</th>\n",
       "      <th>H2_abun</th>\n",
       "      <th>C_abun</th>\n",
       "      <th>FUV</th>\n",
       "      <th>x</th>\n",
       "      <th>delta_x</th>\n",
       "      <th>delta_h2_col</th>\n",
       "      <th>delta_c_col</th>\n",
       "      <th>delta_col_dens</th>\n",
       "      <th>total_h2_col</th>\n",
       "      <th>total_c_col</th>\n",
       "      <th>total_col_dens</th>\n",
       "      <th>size</th>\n",
       "    </tr>\n",
       "  </thead>\n",
       "  <tbody>\n",
       "    <tr>\n",
       "      <th>0</th>\n",
       "      <td>1</td>\n",
       "      <td>100.9120</td>\n",
       "      <td>52570.5</td>\n",
       "      <td>0.006470</td>\n",
       "      <td>1.676530e-06</td>\n",
       "      <td>9.99984</td>\n",
       "      <td>-3.180156e+19</td>\n",
       "      <td>0.000000e+00</td>\n",
       "      <td>0.000000e+00</td>\n",
       "      <td>0.000000e+00</td>\n",
       "      <td>0.000000e+00</td>\n",
       "      <td>0.000000e+00</td>\n",
       "      <td>0.000000e+00</td>\n",
       "      <td>0.000000e+00</td>\n",
       "      <td>0.000000e+00</td>\n",
       "    </tr>\n",
       "    <tr>\n",
       "      <th>1</th>\n",
       "      <td>16</td>\n",
       "      <td>102.7800</td>\n",
       "      <td>75087.7</td>\n",
       "      <td>0.050528</td>\n",
       "      <td>2.396100e-06</td>\n",
       "      <td>9.99984</td>\n",
       "      <td>-3.180156e+19</td>\n",
       "      <td>2.000000e+10</td>\n",
       "      <td>7.588078e+13</td>\n",
       "      <td>3.598353e+09</td>\n",
       "      <td>1.501754e+15</td>\n",
       "      <td>4.358194e+14</td>\n",
       "      <td>4.665551e+10</td>\n",
       "      <td>2.376777e+16</td>\n",
       "      <td>3.900000e+11</td>\n",
       "    </tr>\n",
       "    <tr>\n",
       "      <th>2</th>\n",
       "      <td>31</td>\n",
       "      <td>86.2791</td>\n",
       "      <td>92354.0</td>\n",
       "      <td>0.328082</td>\n",
       "      <td>3.635100e-06</td>\n",
       "      <td>9.99984</td>\n",
       "      <td>-3.180156e+19</td>\n",
       "      <td>9.999999e+09</td>\n",
       "      <td>3.029968e+14</td>\n",
       "      <td>3.357160e+09</td>\n",
       "      <td>9.235399e+14</td>\n",
       "      <td>4.352329e+15</td>\n",
       "      <td>1.061395e+11</td>\n",
       "      <td>4.331426e+16</td>\n",
       "      <td>6.200000e+11</td>\n",
       "    </tr>\n",
       "    <tr>\n",
       "      <th>3</th>\n",
       "      <td>46</td>\n",
       "      <td>74.5608</td>\n",
       "      <td>100606.0</td>\n",
       "      <td>0.421634</td>\n",
       "      <td>4.406570e-06</td>\n",
       "      <td>9.99984</td>\n",
       "      <td>-3.180156e+19</td>\n",
       "      <td>9.999999e+09</td>\n",
       "      <td>4.241891e+14</td>\n",
       "      <td>4.433273e+09</td>\n",
       "      <td>1.006060e+15</td>\n",
       "      <td>1.352157e+16</td>\n",
       "      <td>2.024797e+11</td>\n",
       "      <td>6.671263e+16</td>\n",
       "      <td>8.600000e+11</td>\n",
       "    </tr>\n",
       "    <tr>\n",
       "      <th>4</th>\n",
       "      <td>61</td>\n",
       "      <td>71.0860</td>\n",
       "      <td>98044.0</td>\n",
       "      <td>0.439261</td>\n",
       "      <td>4.455190e-06</td>\n",
       "      <td>9.99984</td>\n",
       "      <td>-3.180156e+19</td>\n",
       "      <td>2.000000e+10</td>\n",
       "      <td>8.613380e+14</td>\n",
       "      <td>8.736092e+09</td>\n",
       "      <td>1.960880e+15</td>\n",
       "      <td>2.393420e+16</td>\n",
       "      <td>3.103052e+11</td>\n",
       "      <td>9.075010e+16</td>\n",
       "      <td>1.100000e+12</td>\n",
       "    </tr>\n",
       "    <tr>\n",
       "      <th>...</th>\n",
       "      <td>...</td>\n",
       "      <td>...</td>\n",
       "      <td>...</td>\n",
       "      <td>...</td>\n",
       "      <td>...</td>\n",
       "      <td>...</td>\n",
       "      <td>...</td>\n",
       "      <td>...</td>\n",
       "      <td>...</td>\n",
       "      <td>...</td>\n",
       "      <td>...</td>\n",
       "      <td>...</td>\n",
       "      <td>...</td>\n",
       "      <td>...</td>\n",
       "      <td>...</td>\n",
       "    </tr>\n",
       "    <tr>\n",
       "      <th>92</th>\n",
       "      <td>1381</td>\n",
       "      <td>16.8962</td>\n",
       "      <td>22895.8</td>\n",
       "      <td>0.499970</td>\n",
       "      <td>8.677700e-09</td>\n",
       "      <td>9.99984</td>\n",
       "      <td>3.180156e+19</td>\n",
       "      <td>2.000000e+10</td>\n",
       "      <td>2.289443e+14</td>\n",
       "      <td>3.973658e+06</td>\n",
       "      <td>4.579160e+14</td>\n",
       "      <td>1.026692e+24</td>\n",
       "      <td>3.592001e+17</td>\n",
       "      <td>2.053494e+24</td>\n",
       "      <td>6.360312e+19</td>\n",
       "    </tr>\n",
       "    <tr>\n",
       "      <th>93</th>\n",
       "      <td>1396</td>\n",
       "      <td>16.5534</td>\n",
       "      <td>44733.3</td>\n",
       "      <td>0.499982</td>\n",
       "      <td>3.891400e-09</td>\n",
       "      <td>9.99984</td>\n",
       "      <td>3.180156e+19</td>\n",
       "      <td>2.000000e+10</td>\n",
       "      <td>4.473169e+14</td>\n",
       "      <td>3.481504e+06</td>\n",
       "      <td>8.946661e+14</td>\n",
       "      <td>1.026692e+24</td>\n",
       "      <td>3.592001e+17</td>\n",
       "      <td>2.053494e+24</td>\n",
       "      <td>6.360312e+19</td>\n",
       "    </tr>\n",
       "    <tr>\n",
       "      <th>94</th>\n",
       "      <td>1411</td>\n",
       "      <td>14.7481</td>\n",
       "      <td>67936.9</td>\n",
       "      <td>0.499986</td>\n",
       "      <td>2.323510e-09</td>\n",
       "      <td>9.99984</td>\n",
       "      <td>3.180156e+19</td>\n",
       "      <td>2.000000e+10</td>\n",
       "      <td>6.793500e+14</td>\n",
       "      <td>3.157042e+06</td>\n",
       "      <td>1.358738e+15</td>\n",
       "      <td>1.026692e+24</td>\n",
       "      <td>3.592001e+17</td>\n",
       "      <td>2.053494e+24</td>\n",
       "      <td>6.360312e+19</td>\n",
       "    </tr>\n",
       "    <tr>\n",
       "      <th>95</th>\n",
       "      <td>1426</td>\n",
       "      <td>13.8569</td>\n",
       "      <td>87448.4</td>\n",
       "      <td>0.499988</td>\n",
       "      <td>1.709610e-09</td>\n",
       "      <td>9.99984</td>\n",
       "      <td>3.180156e+19</td>\n",
       "      <td>9.999999e+09</td>\n",
       "      <td>4.372315e+14</td>\n",
       "      <td>1.495026e+06</td>\n",
       "      <td>8.744839e+14</td>\n",
       "      <td>1.026692e+24</td>\n",
       "      <td>3.592001e+17</td>\n",
       "      <td>2.053494e+24</td>\n",
       "      <td>6.360312e+19</td>\n",
       "    </tr>\n",
       "    <tr>\n",
       "      <th>96</th>\n",
       "      <td>1441</td>\n",
       "      <td>13.4685</td>\n",
       "      <td>99014.7</td>\n",
       "      <td>0.499989</td>\n",
       "      <td>1.471200e-09</td>\n",
       "      <td>9.99984</td>\n",
       "      <td>3.180156e+19</td>\n",
       "      <td>9.999999e+09</td>\n",
       "      <td>4.950626e+14</td>\n",
       "      <td>1.456704e+06</td>\n",
       "      <td>9.901469e+14</td>\n",
       "      <td>1.026692e+24</td>\n",
       "      <td>3.592001e+17</td>\n",
       "      <td>2.053494e+24</td>\n",
       "      <td>6.360312e+19</td>\n",
       "    </tr>\n",
       "  </tbody>\n",
       "</table>\n",
       "<p>97 rows × 15 columns</p>\n",
       "</div>"
      ],
      "text/plain": [
       "    Particle       T_g       n_H   H2_abun        C_abun      FUV  \\\n",
       "0          1  100.9120   52570.5  0.006470  1.676530e-06  9.99984   \n",
       "1         16  102.7800   75087.7  0.050528  2.396100e-06  9.99984   \n",
       "2         31   86.2791   92354.0  0.328082  3.635100e-06  9.99984   \n",
       "3         46   74.5608  100606.0  0.421634  4.406570e-06  9.99984   \n",
       "4         61   71.0860   98044.0  0.439261  4.455190e-06  9.99984   \n",
       "..       ...       ...       ...       ...           ...      ...   \n",
       "92      1381   16.8962   22895.8  0.499970  8.677700e-09  9.99984   \n",
       "93      1396   16.5534   44733.3  0.499982  3.891400e-09  9.99984   \n",
       "94      1411   14.7481   67936.9  0.499986  2.323510e-09  9.99984   \n",
       "95      1426   13.8569   87448.4  0.499988  1.709610e-09  9.99984   \n",
       "96      1441   13.4685   99014.7  0.499989  1.471200e-09  9.99984   \n",
       "\n",
       "               x       delta_x  delta_h2_col   delta_c_col  delta_col_dens  \\\n",
       "0  -3.180156e+19  0.000000e+00  0.000000e+00  0.000000e+00    0.000000e+00   \n",
       "1  -3.180156e+19  2.000000e+10  7.588078e+13  3.598353e+09    1.501754e+15   \n",
       "2  -3.180156e+19  9.999999e+09  3.029968e+14  3.357160e+09    9.235399e+14   \n",
       "3  -3.180156e+19  9.999999e+09  4.241891e+14  4.433273e+09    1.006060e+15   \n",
       "4  -3.180156e+19  2.000000e+10  8.613380e+14  8.736092e+09    1.960880e+15   \n",
       "..           ...           ...           ...           ...             ...   \n",
       "92  3.180156e+19  2.000000e+10  2.289443e+14  3.973658e+06    4.579160e+14   \n",
       "93  3.180156e+19  2.000000e+10  4.473169e+14  3.481504e+06    8.946661e+14   \n",
       "94  3.180156e+19  2.000000e+10  6.793500e+14  3.157042e+06    1.358738e+15   \n",
       "95  3.180156e+19  9.999999e+09  4.372315e+14  1.495026e+06    8.744839e+14   \n",
       "96  3.180156e+19  9.999999e+09  4.950626e+14  1.456704e+06    9.901469e+14   \n",
       "\n",
       "    total_h2_col   total_c_col  total_col_dens          size  \n",
       "0   0.000000e+00  0.000000e+00    0.000000e+00  0.000000e+00  \n",
       "1   4.358194e+14  4.665551e+10    2.376777e+16  3.900000e+11  \n",
       "2   4.352329e+15  1.061395e+11    4.331426e+16  6.200000e+11  \n",
       "3   1.352157e+16  2.024797e+11    6.671263e+16  8.600000e+11  \n",
       "4   2.393420e+16  3.103052e+11    9.075010e+16  1.100000e+12  \n",
       "..           ...           ...             ...           ...  \n",
       "92  1.026692e+24  3.592001e+17    2.053494e+24  6.360312e+19  \n",
       "93  1.026692e+24  3.592001e+17    2.053494e+24  6.360312e+19  \n",
       "94  1.026692e+24  3.592001e+17    2.053494e+24  6.360312e+19  \n",
       "95  1.026692e+24  3.592001e+17    2.053494e+24  6.360312e+19  \n",
       "96  1.026692e+24  3.592001e+17    2.053494e+24  6.360312e+19  \n",
       "\n",
       "[97 rows x 15 columns]"
      ]
     },
     "execution_count": 11,
     "metadata": {},
     "output_type": "execute_result"
    }
   ],
   "source": [
    "model_df"
   ]
  },
  {
   "cell_type": "code",
   "execution_count": 12,
   "metadata": {},
   "outputs": [
    {
     "name": "stdout",
     "output_type": "stream",
     "text": [
      "4/4 [==============================] - 0s 1ms/step\n"
     ]
    },
    {
     "name": "stderr",
     "output_type": "stream",
     "text": [
      "/usr/lib64/python3.11/site-packages/pandas/core/internals/blocks.py:351: RuntimeWarning: divide by zero encountered in log10\n",
      "  result = func(self.values, **kwargs)\n"
     ]
    }
   ],
   "source": [
    "#this is a file with all the input column densities and the total UV\n",
    "model_df=pd.read_csv(\"sine_input.csv\")\n",
    "\n",
    "#We're subsampling UCLPDR output so cut that down\n",
    "particles=model_df[\"Particle\"]\n",
    "uclpdr=pd.read_csv(\"sine_output.csv\")\n",
    "idx=uclpdr[\"Particle\"].isin(particles)\n",
    "uclpdr=uclpdr.loc[idx].reset_index(drop=True)\n",
    "\n",
    "#then fill in other physics\n",
    "model_df[\"zeta\"]=3.84\n",
    "model_df[\"metallicity\"]=1.0\n",
    "model_df=model_df[['T_g', 'n_H',\"FUV\",\"zeta\",'total_col_dens','total_h2_col','total_c_col' ]]\n",
    "model_df.columns=['gas_temp','gas_density','radfield','zeta','coldens','h2col','ccol']\n",
    "model_df[\"radfield\"]=1.7*model_df[\"radfield\"] #UCLPDR in Draine, our code in Habing\n",
    "\n",
    "#we can add chemistry by setting all the species the autoencoder expects to 0\n",
    "for spec in emulator.autoencoder.species:\n",
    "    model_df[spec]=0.0\n",
    "\n",
    "#then filling in specific ones\n",
    "initial_abunds={\n",
    "    \"H\":0.4,\n",
    "    \"H2\":0.3,\n",
    "    \"HE\":0.1,\n",
    "    \"C+\":1.0e-4,\n",
    "    \"O\":3.0e-4,\n",
    "    \"MG\":5.00e-06,\n",
    "    \"E-\":1.0e-4\n",
    "}\n",
    "\n",
    "for spec,abund in initial_abunds.items():\n",
    "    model_df[spec]=abund\n",
    "model_df=emulator.prepare_inputs(model_df,learn_scaling=False)\n",
    "model_df[model_df<0]=0.0"
   ]
  },
  {
   "cell_type": "code",
   "execution_count": null,
   "metadata": {},
   "outputs": [
    {
     "name": "stdout",
     "output_type": "stream",
     "text": [
      "4/4 [==============================] - 0s 3ms/step\n",
      "4/4 [==============================] - 0s 2ms/step\n",
      "4/4 [==============================] - 0s 2ms/step\n",
      "4/4 [==============================] - 0s 2ms/step\n",
      "4/4 [==============================] - 0s 2ms/step\n",
      "4/4 [==============================] - 0s 2ms/step\n",
      "4/4 [==============================] - 0s 2ms/step\n",
      "4/4 [==============================] - 0s 3ms/step\n",
      "4/4 [==============================] - 0s 3ms/step\n",
      "4/4 [==============================] - 0s 2ms/step\n",
      "4/4 [==============================] - 0s 2ms/step\n",
      "4/4 [==============================] - 0s 2ms/step\n",
      "4/4 [==============================] - 0s 2ms/step\n",
      "4/4 [==============================] - 0s 2ms/step\n",
      "4/4 [==============================] - 0s 3ms/step\n",
      "4/4 [==============================] - 0s 2ms/step\n",
      "4/4 [==============================] - 0s 2ms/step\n",
      "4/4 [==============================] - 0s 2ms/step\n",
      "4/4 [==============================] - 0s 2ms/step\n",
      "4/4 [==============================] - 0s 2ms/step\n",
      "4/4 [==============================] - 0s 2ms/step\n",
      "4/4 [==============================] - 0s 2ms/step\n",
      "4/4 [==============================] - 0s 2ms/step\n",
      "4/4 [==============================] - 0s 2ms/step\n",
      "4/4 [==============================] - 0s 2ms/step\n",
      "4/4 [==============================] - 0s 2ms/step\n",
      "4/4 [==============================] - 0s 2ms/step\n",
      "4/4 [==============================] - 0s 2ms/step\n",
      "4/4 [==============================] - 0s 2ms/step\n",
      "4/4 [==============================] - 0s 4ms/step\n",
      "4/4 [==============================] - 0s 2ms/step\n",
      "4/4 [==============================] - 0s 2ms/step\n",
      "4/4 [==============================] - 0s 3ms/step\n",
      "4/4 [==============================] - 0s 3ms/step\n",
      "4/4 [==============================] - 0s 2ms/step\n",
      "4/4 [==============================] - 0s 2ms/step\n",
      "4/4 [==============================] - 0s 2ms/step\n",
      "4/4 [==============================] - 0s 2ms/step\n",
      "4/4 [==============================] - 0s 2ms/step\n",
      "4/4 [==============================] - 0s 2ms/step\n",
      "4/4 [==============================] - 0s 3ms/step\n",
      "4/4 [==============================] - 0s 2ms/step\n",
      "4/4 [==============================] - 0s 2ms/step\n",
      "4/4 [==============================] - 0s 2ms/step\n",
      "4/4 [==============================] - 0s 2ms/step\n",
      "4/4 [==============================] - 0s 3ms/step\n",
      "4/4 [==============================] - 0s 2ms/step\n",
      "4/4 [==============================] - 0s 2ms/step\n",
      "4/4 [==============================] - 0s 3ms/step\n",
      "4/4 [==============================] - 0s 2ms/step\n",
      "4/4 [==============================] - 0s 2ms/step\n",
      "4/4 [==============================] - 0s 2ms/step\n",
      "4/4 [==============================] - 0s 3ms/step\n",
      "4/4 [==============================] - 0s 2ms/step\n",
      "4/4 [==============================] - 0s 2ms/step\n",
      "4/4 [==============================] - 0s 2ms/step\n",
      "4/4 [==============================] - 0s 2ms/step\n",
      "4/4 [==============================] - 0s 2ms/step\n",
      "4/4 [==============================] - 0s 5ms/step\n",
      "4/4 [==============================] - 0s 3ms/step\n",
      "4/4 [==============================] - 0s 2ms/step\n",
      "4/4 [==============================] - 0s 2ms/step\n",
      "4/4 [==============================] - 0s 3ms/step\n",
      "4/4 [==============================] - 0s 3ms/step\n",
      "4/4 [==============================] - 0s 2ms/step\n",
      "4/4 [==============================] - 0s 2ms/step\n",
      "4/4 [==============================] - 0s 2ms/step\n",
      "4/4 [==============================] - 0s 2ms/step\n",
      "4/4 [==============================] - 0s 2ms/step\n",
      "4/4 [==============================] - 0s 2ms/step\n",
      "4/4 [==============================] - 0s 2ms/step\n",
      "4/4 [==============================] - 0s 2ms/step\n",
      "4/4 [==============================] - 0s 2ms/step\n",
      "4/4 [==============================] - 0s 2ms/step\n",
      "4/4 [==============================] - 0s 2ms/step\n",
      "4/4 [==============================] - 0s 2ms/step\n",
      "4/4 [==============================] - 0s 2ms/step\n",
      "4/4 [==============================] - 0s 2ms/step\n",
      "4/4 [==============================] - 0s 2ms/step\n",
      "4/4 [==============================] - 0s 2ms/step\n",
      "4/4 [==============================] - 0s 2ms/step\n",
      "4/4 [==============================] - 0s 2ms/step\n",
      "4/4 [==============================] - 0s 2ms/step\n",
      "4/4 [==============================] - 0s 2ms/step\n",
      "4/4 [==============================] - 0s 2ms/step\n",
      "4/4 [==============================] - 0s 2ms/step\n",
      "4/4 [==============================] - 0s 2ms/step\n",
      "4/4 [==============================] - 0s 3ms/step\n",
      "4/4 [==============================] - 0s 3ms/step\n",
      "4/4 [==============================] - 0s 4ms/step\n",
      "4/4 [==============================] - 0s 2ms/step\n",
      "4/4 [==============================] - 0s 2ms/step\n",
      "4/4 [==============================] - 0s 2ms/step\n",
      "4/4 [==============================] - 0s 2ms/step\n",
      "4/4 [==============================] - 0s 2ms/step\n",
      "4/4 [==============================] - 0s 2ms/step\n",
      "4/4 [==============================] - 0s 2ms/step\n",
      "4/4 [==============================] - 0s 2ms/step\n",
      "4/4 [==============================] - 0s 2ms/step\n",
      "4/4 [==============================] - 0s 2ms/step\n",
      "4/4 [==============================] - 0s 2ms/step\n",
      "4/4 [==============================] - 0s 2ms/step\n",
      "4/4 [==============================] - 0s 2ms/step\n",
      "4/4 [==============================] - 0s 2ms/step\n",
      "4/4 [==============================] - 0s 2ms/step\n",
      "4/4 [==============================] - 0s 2ms/step\n",
      "4/4 [==============================] - 0s 2ms/step\n",
      "4/4 [==============================] - 0s 2ms/step\n",
      "4/4 [==============================] - 0s 2ms/step\n",
      "4/4 [==============================] - 0s 2ms/step\n",
      "4/4 [==============================] - 0s 2ms/step\n",
      "4/4 [==============================] - 0s 2ms/step\n",
      "4/4 [==============================] - 0s 2ms/step\n",
      "4/4 [==============================] - 0s 2ms/step\n",
      "4/4 [==============================] - 0s 2ms/step\n",
      "4/4 [==============================] - 0s 2ms/step\n",
      "4/4 [==============================] - 0s 2ms/step\n",
      "4/4 [==============================] - 0s 2ms/step\n",
      "4/4 [==============================] - 0s 3ms/step\n",
      "4/4 [==============================] - 0s 2ms/step\n",
      "4/4 [==============================] - 0s 3ms/step\n",
      "4/4 [==============================] - 0s 2ms/step\n",
      "4/4 [==============================] - 0s 2ms/step\n",
      "4/4 [==============================] - 0s 2ms/step\n",
      "4/4 [==============================] - 0s 2ms/step\n",
      "4/4 [==============================] - 0s 2ms/step\n",
      "4/4 [==============================] - 0s 2ms/step\n"
     ]
    }
   ],
   "source": [
    "%%time\n",
    "\n",
    "output=emulator.predict_multiple_timesteps(model_df,1000)\n",
    "output=emulator.recover_real_values(output)\n"
   ]
  },
  {
   "cell_type": "code",
   "execution_count": null,
   "metadata": {},
   "outputs": [],
   "source": [
    "fig,[ax,ax2]=plt.subplots(1,2,figsize=(16,5))\n",
    "ax.plot(uclpdr[\"Av\"],uclpdr[\"T_g\"],color=\"black\")\n",
    "ax.plot(uclpdr[\"Av\"],output[\"gas_temp\"],ls=\"--\")\n",
    "ax.set(xscale=\"log\")\n",
    "\n",
    "colors=sns.color_palette(n_colors=6)\n",
    "for i,species in enumerate([\"H\",\"H2\",\"C+\",\"O\",\"CO\",\"H2O\"]):\n",
    "    ax2.plot(uclpdr[\"Av\"],uclpdr[f\"{species}_abun\"],color=colors[i])\n",
    "    ax2.plot(uclpdr[\"Av\"],output[f\"{species}\"],ls=\"--\",color=colors[i])\n",
    "\n",
    "ax2.set(xscale=\"log\",yscale=\"log\")\n"
   ]
  },
  {
   "cell_type": "code",
   "execution_count": null,
   "metadata": {},
   "outputs": [],
   "source": []
  },
  {
   "cell_type": "code",
   "execution_count": null,
   "metadata": {},
   "outputs": [],
   "source": []
  }
 ],
 "metadata": {
  "kernelspec": {
   "display_name": "Python 3 (ipykernel)",
   "language": "python",
   "name": "python3"
  },
  "language_info": {
   "codemirror_mode": {
    "name": "ipython",
    "version": 3
   },
   "file_extension": ".py",
   "mimetype": "text/x-python",
   "name": "python",
   "nbconvert_exporter": "python",
   "pygments_lexer": "ipython3",
   "version": "3.11.3"
  }
 },
 "nbformat": 4,
 "nbformat_minor": 4
}
